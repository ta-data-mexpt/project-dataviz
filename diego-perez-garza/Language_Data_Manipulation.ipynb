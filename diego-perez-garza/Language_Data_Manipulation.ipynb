{
 "cells": [
  {
   "cell_type": "code",
   "execution_count": 1,
   "id": "180422e7",
   "metadata": {},
   "outputs": [],
   "source": [
    "import re\n",
    "import pandas as pd\n",
    "import numpy as np\n",
    "import matplotlib.pyplot as plt\n",
    "import seaborn as sns"
   ]
  },
  {
   "cell_type": "code",
   "execution_count": 2,
   "id": "292dd1bd",
   "metadata": {},
   "outputs": [],
   "source": [
    "pd.set_option('display.max_rows', 160)"
   ]
  },
  {
   "cell_type": "code",
   "execution_count": 3,
   "id": "18952e85",
   "metadata": {},
   "outputs": [],
   "source": [
    "lang2013 = pd.read_csv('languages_2013.csv')\n",
    "lang2015 = pd.read_csv('languages_2015.csv')\n",
    "lang2017 = pd.read_csv('languages_2017.csv')\n",
    "lang2020 = pd.read_csv('languages_2020.csv')\n",
    "lang2022 = pd.read_csv('languages_2022.csv')"
   ]
  },
  {
   "cell_type": "code",
   "execution_count": 4,
   "id": "ca06c6ac",
   "metadata": {},
   "outputs": [],
   "source": [
    "def nan_to_zero(df):\n",
    "    \"\"\"\n",
    "    Recibe un dataframe con valores nulos y los convierte en cero\n",
    "    \"\"\"\n",
    "    return df.fillna(0, inplace=True)"
   ]
  },
  {
   "cell_type": "code",
   "execution_count": 5,
   "id": "e8c14610",
   "metadata": {},
   "outputs": [],
   "source": [
    "lang_list = [lang2013, lang2015, lang2017, lang2020, lang2022]"
   ]
  },
  {
   "cell_type": "code",
   "execution_count": 6,
   "id": "9f4c1e47",
   "metadata": {},
   "outputs": [],
   "source": [
    "for df in lang_list:\n",
    "    nan_to_zero(df)"
   ]
  },
  {
   "cell_type": "code",
   "execution_count": 7,
   "id": "fbb9ff70",
   "metadata": {},
   "outputs": [],
   "source": [
    "lang2013['Year'] = '2013'"
   ]
  },
  {
   "cell_type": "code",
   "execution_count": 8,
   "id": "8727e7cb",
   "metadata": {},
   "outputs": [],
   "source": [
    "lang2015['Year'] = '2015'"
   ]
  },
  {
   "cell_type": "code",
   "execution_count": 9,
   "id": "4ded3654",
   "metadata": {},
   "outputs": [],
   "source": [
    "lang2017['Year'] = '2017'"
   ]
  },
  {
   "cell_type": "code",
   "execution_count": 10,
   "id": "6061b348",
   "metadata": {},
   "outputs": [],
   "source": [
    "lang2020['Year'] = '2020'"
   ]
  },
  {
   "cell_type": "code",
   "execution_count": 11,
   "id": "85a50d72",
   "metadata": {},
   "outputs": [],
   "source": [
    "lang2022['Year'] = '2022'"
   ]
  },
  {
   "cell_type": "code",
   "execution_count": 12,
   "id": "d349beed",
   "metadata": {},
   "outputs": [],
   "source": [
    "final_lang = pd.concat([lang2013, lang2015], ignore_index=True)"
   ]
  },
  {
   "cell_type": "code",
   "execution_count": 13,
   "id": "0946e172",
   "metadata": {},
   "outputs": [],
   "source": [
    "final_lang = pd.concat([final_lang, lang2017], ignore_index=True)"
   ]
  },
  {
   "cell_type": "code",
   "execution_count": 14,
   "id": "c9af8ee8",
   "metadata": {},
   "outputs": [],
   "source": [
    "final_lang = pd.concat([final_lang, lang2020], ignore_index=True)"
   ]
  },
  {
   "cell_type": "code",
   "execution_count": 15,
   "id": "1e5af96d",
   "metadata": {},
   "outputs": [],
   "source": [
    "final_lang = pd.concat([final_lang, lang2022], ignore_index=True)"
   ]
  },
  {
   "cell_type": "code",
   "execution_count": 19,
   "id": "4b510a02",
   "metadata": {},
   "outputs": [
    {
     "data": {
      "text/plain": [
       "0      1.780000e+08\n",
       "1      3.500000e+08\n",
       "2      5.050000e+08\n",
       "3      1.450000e+08\n",
       "4      5.900000e+07\n",
       "5      6.000000e+06\n",
       "6      2.000000e+06\n",
       "7      1.430000e+08\n",
       "8      5.000000e+06\n",
       "9      5.000000e+07\n",
       "10     3.000000e+06\n",
       "11     1.000000e+06\n",
       "12     8.000000e+06\n",
       "13     5.000000e+06\n",
       "14     0.000000e+00\n",
       "15     0.000000e+00\n",
       "16     0.000000e+00\n",
       "17     2.000000e+06\n",
       "18     3.000000e+06\n",
       "19     0.000000e+00\n",
       "20     0.000000e+00\n",
       "21     0.000000e+00\n",
       "22     0.000000e+00\n",
       "23     1.800000e+08\n",
       "24     5.100000e+08\n",
       "25     9.000000e+07\n",
       "26     2.040000e+08\n",
       "27     0.000000e+00\n",
       "28     0.000000e+00\n",
       "29     2.000000e+07\n",
       "30     1.400000e+08\n",
       "31     0.000000e+00\n",
       "32     8.000000e+06\n",
       "33     0.000000e+00\n",
       "34     5.000000e+06\n",
       "35     8.000000e+06\n",
       "36     0.000000e+00\n",
       "37     0.000000e+00\n",
       "38     3.000000e+06\n",
       "39     3.000000e+05\n",
       "40     0.000000e+00\n",
       "41     0.000000e+00\n",
       "42     0.000000e+00\n",
       "43     0.000000e+00\n",
       "44     0.000000e+00\n",
       "45     1.930000e+08\n",
       "46     6.110000e+08\n",
       "47     2.150000e+08\n",
       "48     9.100000e+07\n",
       "49     1.320000e+08\n",
       "50     2.040000e+08\n",
       "51     1.130000e+08\n",
       "52     1.900000e+07\n",
       "53     1.100000e+07\n",
       "54     1.530000e+08\n",
       "55     6.500000e+07\n",
       "56     0.000000e+00\n",
       "57     5.200000e+07\n",
       "58     1.000000e+06\n",
       "59     6.100000e+07\n",
       "60     9.100000e+07\n",
       "61     1.200000e+07\n",
       "62     0.000000e+00\n",
       "63     0.000000e+00\n",
       "64     0.000000e+00\n",
       "65     8.000000e+06\n",
       "66     3.000000e+06\n",
       "67     0.000000e+00\n",
       "68     9.000000e+05\n",
       "69     0.000000e+00\n",
       "70     3.000000e+06\n",
       "71     8.980000e+08\n",
       "72     1.980000e+08\n",
       "73     2.950000e+08\n",
       "74     7.400000e+07\n",
       "75     1.990000e+08\n",
       "76     2.740000e+08\n",
       "77     3.700000e+07\n",
       "78     1.040000e+08\n",
       "79     2.400000e+07\n",
       "80     1.550000e+08\n",
       "81     1.010000e+08\n",
       "82     5.600000e+07\n",
       "83     1.220000e+05\n",
       "84     8.200000e+07\n",
       "85     1.200000e+07\n",
       "86     1.100000e+07\n",
       "87     6.000000e+06\n",
       "88     4.020000e+05\n",
       "89     6.000000e+06\n",
       "90     0.000000e+00\n",
       "91     6.300000e+04\n",
       "92     0.000000e+00\n",
       "93     1.000000e+06\n",
       "94     2.500000e+07\n",
       "95     0.000000e+00\n",
       "96     0.000000e+00\n",
       "97     3.000000e+06\n",
       "98     4.000000e+06\n",
       "99     4.000000e+07\n",
       "100    0.000000e+00\n",
       "101    1.300000e+07\n",
       "102    0.000000e+00\n",
       "103    1.600000e+05\n",
       "104    3.870000e+05\n",
       "105    0.000000e+00\n",
       "106    4.500000e+07\n",
       "107    0.000000e+00\n",
       "108    1.000000e+09\n",
       "109    1.990000e+08\n",
       "110    2.580000e+08\n",
       "111    7.300000e+07\n",
       "112    1.940000e+08\n",
       "113    2.740000e+08\n",
       "114    3.900000e+07\n",
       "115    1.040000e+08\n",
       "116    2.500000e+07\n",
       "117    1.610000e+08\n",
       "118    1.550000e+08\n",
       "119    5.900000e+07\n",
       "120    1.000000e+05\n",
       "121    1.160000e+08\n",
       "122    1.600000e+07\n",
       "123    1.300000e+07\n",
       "124    6.000000e+06\n",
       "125    8.000000e+06\n",
       "126    4.000000e+05\n",
       "127    7.000000e+05\n",
       "128    5.400000e+07\n",
       "129    1.000000e+05\n",
       "130    0.000000e+00\n",
       "131    2.100000e+07\n",
       "132    2.600000e+07\n",
       "133    0.000000e+00\n",
       "134    5.500000e+07\n",
       "135    0.000000e+00\n",
       "136    3.000000e+06\n",
       "137    0.000000e+00\n",
       "138    1.500000e+07\n",
       "139    5.000000e+06\n",
       "140    4.000000e+07\n",
       "141    2.500000e+07\n",
       "142    2.000000e+05\n",
       "143    4.000000e+06\n",
       "144    4.000000e+05\n",
       "145    0.000000e+00\n",
       "146    2.000000e+06\n",
       "147    2.000000e+05\n",
       "148    1.000000e+07\n",
       "149    9.000000e+06\n",
       "150    7.000000e+05\n",
       "151    6.000000e+06\n",
       "152    2.000000e+07\n",
       "Name: L2 speakers, dtype: float64"
      ]
     },
     "execution_count": 19,
     "metadata": {},
     "output_type": "execute_result"
    }
   ],
   "source": [
    "final_lang['L2 speakers']"
   ]
  },
  {
   "cell_type": "code",
   "execution_count": 17,
   "id": "c025c760",
   "metadata": {},
   "outputs": [],
   "source": [
    "final_lang.to_csv('languages_2013-2022.csv')"
   ]
  }
 ],
 "metadata": {
  "kernelspec": {
   "display_name": "Python 3 (ipykernel)",
   "language": "python",
   "name": "python3"
  },
  "language_info": {
   "codemirror_mode": {
    "name": "ipython",
    "version": 3
   },
   "file_extension": ".py",
   "mimetype": "text/x-python",
   "name": "python",
   "nbconvert_exporter": "python",
   "pygments_lexer": "ipython3",
   "version": "3.9.12"
  }
 },
 "nbformat": 4,
 "nbformat_minor": 5
}
