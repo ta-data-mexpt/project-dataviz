{
 "cells": [
  {
   "cell_type": "code",
   "execution_count": 1,
   "metadata": {},
   "outputs": [],
   "source": [
    "import requests\n",
    "import pandas as pd\n",
    "import numpy as np\n",
    "from scipy.interpolate import interp1d\n"
   ]
  },
  {
   "cell_type": "code",
   "execution_count": 2,
   "metadata": {},
   "outputs": [],
   "source": [
    "url = 'https://en.wikipedia.org/wiki/List_of_U.S._states_and_territories_by_historical_population'\n",
    "html = requests.get(url).content\n",
    "table = pd.read_html(html)"
   ]
  },
  {
   "cell_type": "code",
   "execution_count": 3,
   "metadata": {},
   "outputs": [],
   "source": [
    "# remove all notes from tables to be merged\n",
    "table[0].replace(r\"\\s?\\[note \\d+\\]\",\"\",regex = True, inplace = True)\n",
    "table[2].replace(r\"\\s?\\[note \\d+\\]\",\"\",regex = True, inplace = True)\n",
    "table[3].replace(r\"\\s?\\[note \\d+\\]\",\"\",regex = True, inplace = True)\n"
   ]
  },
  {
   "cell_type": "code",
   "execution_count": 4,
   "metadata": {},
   "outputs": [],
   "source": [
    "#merge tables together\n",
    "population_by_state = table[0].merge(table[2],on = 'Name', how = 'outer')\n",
    "population_by_state = population_by_state.merge(table[3],on = 'Name', how = 'outer')"
   ]
  },
  {
   "cell_type": "code",
   "execution_count": 15,
   "metadata": {},
   "outputs": [],
   "source": [
    "# remove \",\"s from numbers in population\n",
    "population_by_state.replace(r\",\",\"\", regex = True, inplace = True) \n",
    "\n",
    "# remove non-states\n",
    "remove_states = population_by_state.query(\"Name in ['Pacific Trust Territory','Palau','Panama Canal Zone', 'U.S. Virgin Islands','American Samoa','Northern Mariana Islands', 'United States','Guam', 'Puerto Rico']\")\n",
    "population_by_state.drop(remove_states.index, inplace = True)"
   ]
  },
  {
   "cell_type": "code",
   "execution_count": 6,
   "metadata": {},
   "outputs": [],
   "source": [
    "# create function to extrapolate population for election years\n",
    "x = population_by_state.columns[2:].astype('int')\n",
    "population_by_state['pop_func'] = [interp1d(x, y, fill_value = 'extrapolate')\\\n",
    "                                   for y in population_by_state[population_by_state.columns[2:]].to_numpy()]\n",
    "\n"
   ]
  },
  {
   "cell_type": "code",
   "execution_count": 7,
   "metadata": {},
   "outputs": [],
   "source": [
    "# populate election years\n",
    "for year in range(1788,2020,4):\n",
    "    population_by_state[str(year)] = [f(year) for f in population_by_state['pop_func']]"
   ]
  },
  {
   "cell_type": "code",
   "execution_count": 16,
   "metadata": {},
   "outputs": [],
   "source": [
    "key_years = list(map(str,range(1788,2020,4)))\n",
    "new_df = population_by_state.melt(id_vars = 'Name', value_vars = key_years, var_name = 'year', value_name='pop')"
   ]
  },
  {
   "cell_type": "code",
   "execution_count": 17,
   "metadata": {},
   "outputs": [],
   "source": [
    "new_df.rename(columns = {'Name':'state'}, inplace = True)"
   ]
  },
  {
   "cell_type": "code",
   "execution_count": 18,
   "metadata": {},
   "outputs": [],
   "source": [
    "new_df.to_csv('data/state_populations.csv',index = False)"
   ]
  },
  {
   "cell_type": "code",
   "execution_count": 20,
   "metadata": {},
   "outputs": [
    {
     "data": {
      "text/plain": [
       "51"
      ]
     },
     "execution_count": 20,
     "metadata": {},
     "output_type": "execute_result"
    }
   ],
   "source": [
    "len(new_df.state.unique())"
   ]
  },
  {
   "cell_type": "code",
   "execution_count": null,
   "metadata": {},
   "outputs": [],
   "source": []
  }
 ],
 "metadata": {
  "kernelspec": {
   "display_name": "Python 3",
   "language": "python",
   "name": "python3"
  },
  "language_info": {
   "codemirror_mode": {
    "name": "ipython",
    "version": 3
   },
   "file_extension": ".py",
   "mimetype": "text/x-python",
   "name": "python",
   "nbconvert_exporter": "python",
   "pygments_lexer": "ipython3",
   "version": "3.8.3"
  }
 },
 "nbformat": 4,
 "nbformat_minor": 4
}
