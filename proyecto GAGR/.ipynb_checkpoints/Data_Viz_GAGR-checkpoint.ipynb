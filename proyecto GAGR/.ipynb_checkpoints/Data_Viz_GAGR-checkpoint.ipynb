{
 "cells": [
  {
   "cell_type": "code",
   "execution_count": 1,
   "metadata": {},
   "outputs": [],
   "source": [
    "import pandas as pd\n",
    "import numpy as np\n",
    "import matplotlib.pyplot as plt\n",
    "import seaborn as sns\n",
    "from matplotlib.patches import Patch\n",
    "from matplotlib.lines import Line2D\n",
    "from matplotlib import rcParams, cycler"
   ]
  },
  {
   "cell_type": "code",
   "execution_count": 2,
   "metadata": {},
   "outputs": [],
   "source": [
    "#Primero se hace el análisis de telecomunicaciones fijas con datos de la ENDUTIH (Encuesta Nacional sobre Disponibilidad y Uso de Tecnologías de la Información) del INEGI. (https://www.inegi.org.mx/programas/dutih/2019/)\n",
    "#Se abren los microdatos de la ENDUTIH 2019 de la base de hogares\n",
    "df_2019 = pd.read_csv('tr_endutih_hogar_anual_2019.csv')"
   ]
  },
  {
   "cell_type": "code",
   "execution_count": 3,
   "metadata": {},
   "outputs": [],
   "source": [
    "#Se obtiene el total de hogares encuestados en 2019\n",
    "total_2019=len(df_2019.HOGAR)"
   ]
  },
  {
   "cell_type": "code",
   "execution_count": 4,
   "metadata": {},
   "outputs": [],
   "source": [
    "#Se obtiene el total de hogares encuestadados en 2019 que solo tenían contratado el paquete tripleplay integrado\n",
    "df_triple_2019=df_2019[(df_2019.P5_7_2==1) & (df_2019.P5_7_3!=1) & (df_2019.P5_7_4!=1) & (df_2019.P5_7_5!=1) & (df_2019.P5_7_6!=1) & (df_2019.P5_7_7!=1) & (df_2019.P5_7_8!=1)]"
   ]
  },
  {
   "cell_type": "code",
   "execution_count": 5,
   "metadata": {},
   "outputs": [],
   "source": [
    "triple_2019=len(df_triple_2019.HOGAR)"
   ]
  },
  {
   "cell_type": "code",
   "execution_count": 6,
   "metadata": {},
   "outputs": [],
   "source": [
    "#Se obtiene el total de hogares encuestados en 2019 que solo tenían contratado el paquete (STAR+STF) \n",
    "df_doble_STAR_STF_2019=df_2019[(df_2019.P5_7_2!=1) & (df_2019.P5_7_3==1) & (df_2019.P5_7_4!=1) & (df_2019.P5_7_5!=1) & (df_2019.P5_7_6!=1) & (df_2019.P5_7_7!=1) & (df_2019.P5_7_8!=1) ]"
   ]
  },
  {
   "cell_type": "code",
   "execution_count": 7,
   "metadata": {},
   "outputs": [],
   "source": [
    "doble_STAR_STF_2019=len(df_doble_STAR_STF_2019.HOGAR)"
   ]
  },
  {
   "cell_type": "code",
   "execution_count": 8,
   "metadata": {},
   "outputs": [],
   "source": [
    "#Se obtiene el total de hogares encuestados en 2019 que solo tenían contratado el paquete (STAR+SBAF) \n",
    "df_doble_STAR_SBAF_2019=df_2019[(df_2019.P5_7_2!=1) & (df_2019.P5_7_3!=1) & (df_2019.P5_7_4==1) & (df_2019.P5_7_5!=1) & (df_2019.P5_7_6!=1) & (df_2019.P5_7_7!=1) & (df_2019.P5_7_8!=1) ]"
   ]
  },
  {
   "cell_type": "code",
   "execution_count": 9,
   "metadata": {},
   "outputs": [],
   "source": [
    "doble_STAR_SBAF_2019=len(df_doble_STAR_SBAF_2019.HOGAR)"
   ]
  },
  {
   "cell_type": "code",
   "execution_count": 10,
   "metadata": {},
   "outputs": [],
   "source": [
    "#Se obtiene el total de hogares encuestados en 2019 que solo tenían contratado el paquete (STF+SBAF) \n",
    "df_doble_STF_SBAF_2019=df_2019[(df_2019.P5_7_2!=1) & (df_2019.P5_7_3!=1) & (df_2019.P5_7_4!=1) & (df_2019.P5_7_5==1) & (df_2019.P5_7_6!=1) & (df_2019.P5_7_7!=1) & (df_2019.P5_7_8!=1) ]"
   ]
  },
  {
   "cell_type": "code",
   "execution_count": 11,
   "metadata": {},
   "outputs": [],
   "source": [
    "doble_STF_SBAF_2019=len(df_doble_STF_SBAF_2019.HOGAR)"
   ]
  },
  {
   "cell_type": "code",
   "execution_count": 12,
   "metadata": {},
   "outputs": [],
   "source": [
    "#Se obtiene el total de hogares encuestados en 2019 que solo tenían contratado el paquete (STAR) \n",
    "df_STAR_2019=df_2019[(df_2019.P5_7_2!=1) & (df_2019.P5_7_3!=1) & (df_2019.P5_7_4!=1) & (df_2019.P5_7_5!=1) & (df_2019.P5_7_6==1) & (df_2019.P5_7_7!=1) & (df_2019.P5_7_8!=1) ]"
   ]
  },
  {
   "cell_type": "code",
   "execution_count": 13,
   "metadata": {},
   "outputs": [],
   "source": [
    "STAR_2019=len(df_STAR_2019.HOGAR)"
   ]
  },
  {
   "cell_type": "code",
   "execution_count": 14,
   "metadata": {},
   "outputs": [],
   "source": [
    "#Se obtiene el total de hogares encuestados en 2019 que solo tenían contratado el paquete (STF) \n",
    "df_STF_2019=df_2019[(df_2019.P5_7_2!=1) & (df_2019.P5_7_3!=1) & (df_2019.P5_7_4!=1) & (df_2019.P5_7_5!=1) & (df_2019.P5_7_6!=1) & (df_2019.P5_7_7==1) & (df_2019.P5_7_8!=1) ]"
   ]
  },
  {
   "cell_type": "code",
   "execution_count": 15,
   "metadata": {},
   "outputs": [],
   "source": [
    "STF_2019=len(df_STF_2019.HOGAR)"
   ]
  },
  {
   "cell_type": "code",
   "execution_count": 16,
   "metadata": {},
   "outputs": [],
   "source": [
    "#Se obtiene el total de hogares encuestados en 2019 que solo tenían contratado el paquete (SBAF) \n",
    "df_SBAF_2019=df_2019[(df_2019.P5_7_2!=1) & (df_2019.P5_7_3!=1) & (df_2019.P5_7_4!=1) & (df_2019.P5_7_5!=1) & (df_2019.P5_7_6!=1) & (df_2019.P5_7_7!=1) & (df_2019.P5_7_8==1)]"
   ]
  },
  {
   "cell_type": "code",
   "execution_count": 17,
   "metadata": {},
   "outputs": [],
   "source": [
    "SBAF_2019=len(df_SBAF_2019.HOGAR)"
   ]
  },
  {
   "cell_type": "code",
   "execution_count": 18,
   "metadata": {},
   "outputs": [],
   "source": [
    "#Se obtiene el total de hogares encuestados en 2019 que no tenían ningún servicio contratado de telecomunicaciones fijas  \n",
    "df_Ningun_2019=df_2019[(df_2019.P5_7_2!=1) & (df_2019.P5_7_3!=1) & (df_2019.P5_7_4!=1) & (df_2019.P5_7_5!=1) & (df_2019.P5_7_6!=1) & (df_2019.P5_7_7!=1) & (df_2019.P5_7_8!=1)]"
   ]
  },
  {
   "cell_type": "code",
   "execution_count": 19,
   "metadata": {},
   "outputs": [],
   "source": [
    "Ningun_2019=len(df_Ningun_2019.HOGAR)"
   ]
  },
  {
   "cell_type": "code",
   "execution_count": 20,
   "metadata": {},
   "outputs": [],
   "source": [
    "#Se obtiene el total de hogares encuestados en 2019 que solo tenían contratado el paquete sintético (STAR)+(SBAF) \n",
    "df_STAR_SBAF_2019=df_2019[(df_2019.P5_7_2!=1) & (df_2019.P5_7_3!=1) & (df_2019.P5_7_4!=1) & (df_2019.P5_7_5!=1) & (df_2019.P5_7_6==1) & (df_2019.P5_7_7!=1) & (df_2019.P5_7_8==1)]"
   ]
  },
  {
   "cell_type": "code",
   "execution_count": 21,
   "metadata": {},
   "outputs": [],
   "source": [
    "STAR_SBAF_2019=len(df_STAR_SBAF_2019.HOGAR)"
   ]
  },
  {
   "cell_type": "code",
   "execution_count": 22,
   "metadata": {},
   "outputs": [],
   "source": [
    "#Se obtiene el total de hogares encuestados en 2019 que solo tenían contratado el paquete sintético (SBAF)+(STF) \n",
    "df_SBAF_STF_2019=df_2019[(df_2019.P5_7_2!=1) & (df_2019.P5_7_3!=1) & (df_2019.P5_7_4!=1) & (df_2019.P5_7_5!=1) & (df_2019.P5_7_6!=1) & (df_2019.P5_7_7==1) & (df_2019.P5_7_8==1)]"
   ]
  },
  {
   "cell_type": "code",
   "execution_count": 23,
   "metadata": {},
   "outputs": [],
   "source": [
    "SBAF_STF_2019=len(df_SBAF_STF_2019.HOGAR)"
   ]
  },
  {
   "cell_type": "code",
   "execution_count": 24,
   "metadata": {},
   "outputs": [],
   "source": [
    "#Se obtiene el total de hogares encuestados en 2019 que solo tenían contratado el paquete sintético (STF)+(SBAF+STAR) \n",
    "df_STF_doble_SBAF_STAR_2019=df_2019[(df_2019.P5_7_2!=1) & (df_2019.P5_7_3!=1) & (df_2019.P5_7_4==1) & (df_2019.P5_7_5!=1) & (df_2019.P5_7_6!=1) & (df_2019.P5_7_7==1) & (df_2019.P5_7_8!=1)]"
   ]
  },
  {
   "cell_type": "code",
   "execution_count": 25,
   "metadata": {},
   "outputs": [],
   "source": [
    "STF_doble_SBAF_STAR_2019=len(df_STF_doble_SBAF_STAR_2019.HOGAR)"
   ]
  },
  {
   "cell_type": "code",
   "execution_count": 26,
   "metadata": {},
   "outputs": [],
   "source": [
    "#Se obtiene el total de hogares encuestados en 2019 que solo tenían contratado el paquete sintético (STAR)+(SBAF+STF)\n",
    "df_STAR_doble_SBAF_STF_2019=df_2019[(df_2019.P5_7_2!=1) & (df_2019.P5_7_3!=1) & (df_2019.P5_7_4!=1) & (df_2019.P5_7_5==1) & (df_2019.P5_7_6==1) & (df_2019.P5_7_7!=1) & (df_2019.P5_7_8!=1)]"
   ]
  },
  {
   "cell_type": "code",
   "execution_count": 27,
   "metadata": {},
   "outputs": [],
   "source": [
    "STAR_doble_SBAF_STF_2019=len(df_STAR_doble_SBAF_STF_2019.HOGAR)"
   ]
  },
  {
   "cell_type": "code",
   "execution_count": 28,
   "metadata": {},
   "outputs": [],
   "source": [
    "#Se obtiene el total de hogares encuestados en 2019 que solo tenían contratado el paquete sintético (SBAF)+(STAR+STF)\n",
    "df_SBAF_doble_STAR_STF_2019=df_2019[(df_2019.P5_7_2!=1) & (df_2019.P5_7_3==1) & (df_2019.P5_7_4!=1) & (df_2019.P5_7_5!=1) & (df_2019.P5_7_6!=1) & (df_2019.P5_7_7!=1) & (df_2019.P5_7_8==1)]"
   ]
  },
  {
   "cell_type": "code",
   "execution_count": 29,
   "metadata": {},
   "outputs": [],
   "source": [
    "SBAF_doble_STAR_STF_2019=len(df_SBAF_doble_STAR_STF_2019.HOGAR)"
   ]
  },
  {
   "cell_type": "code",
   "execution_count": 30,
   "metadata": {},
   "outputs": [],
   "source": [
    "##Se obtiene el total de hogares encuestados en 2019 que solo tenían contratado el paquete sintético (STF)+(SBAF)+(STAR)\n",
    "df_SBAF_STAR_STF_2019=df_2019[(df_2019.P5_7_2!=1) & (df_2019.P5_7_3!=1) & (df_2019.P5_7_4!=1) & (df_2019.P5_7_5!=1) & (df_2019.P5_7_6==1) & (df_2019.P5_7_7==1) & (df_2019.P5_7_8==1)]"
   ]
  },
  {
   "cell_type": "code",
   "execution_count": 31,
   "metadata": {},
   "outputs": [],
   "source": [
    "SBAF_STAR_STF_2019=len(df_SBAF_STAR_STF_2019.HOGAR)"
   ]
  },
  {
   "cell_type": "code",
   "execution_count": 32,
   "metadata": {},
   "outputs": [],
   "source": [
    "#Se obtiene el total de hogares encuestados en 2019 que solo tenían contratado el paquete sintético (STF)+(STAR)\n",
    "df_STAR_STF_2019=df_2019[(df_2019.P5_7_2!=1) & (df_2019.P5_7_3!=1) & (df_2019.P5_7_4!=1) & (df_2019.P5_7_5!=1) & (df_2019.P5_7_6==1) & (df_2019.P5_7_7==1) & (df_2019.P5_7_8!=1)]"
   ]
  },
  {
   "cell_type": "code",
   "execution_count": 33,
   "metadata": {},
   "outputs": [],
   "source": [
    "STAR_STF_2019=len(df_STAR_STF_2019.HOGAR)"
   ]
  },
  {
   "cell_type": "code",
   "execution_count": 34,
   "metadata": {},
   "outputs": [],
   "source": [
    "#Se obtiene el total de hogares encuestados en 2019 que tenían contratado paquetes sintéticos atípicos que cuentan con los tres servicios\n",
    "combinaciones_2019=total_2019-SBAF_2019-STF_2019-STAR_2019-triple_2019-doble_STF_SBAF_2019-doble_STAR_SBAF_2019-doble_STAR_STF_2019-SBAF_STAR_STF_2019-SBAF_STF_2019-STAR_SBAF_2019-STAR_STF_2019-SBAF_doble_STAR_STF_2019-STAR_doble_SBAF_STF_2019-STF_doble_SBAF_STAR_2019-Ningun_2019"
   ]
  },
  {
   "cell_type": "code",
   "execution_count": 35,
   "metadata": {},
   "outputs": [],
   "source": [
    "#Se abren los microdatos de la ENDUTIH 2018 de la base de hogares\n",
    "df_2018 = pd.read_csv('tic_2018_hogares.csv',encoding='latin-1')"
   ]
  },
  {
   "cell_type": "code",
   "execution_count": 36,
   "metadata": {},
   "outputs": [],
   "source": [
    "#Se obtiene el total de hogares encuestados en 2018\n",
    "total_2018=len(df_2018.HOGAR)"
   ]
  },
  {
   "cell_type": "code",
   "execution_count": 37,
   "metadata": {},
   "outputs": [],
   "source": [
    "#Se obtiene el total de hogares encuestadados en 2018 que solo tenían contratado el paquete tripleplay integrado\n",
    "df_triple_2018=df_2018[(df_2018.P5_6_1==1) & (df_2018.P5_6_2!=1) & (df_2018.P5_6_3!=1) & (df_2018.P5_6_4!=1) & (df_2018.P5_6_5!=1) & (df_2018.P5_6_6!=1) & (df_2018.P5_6_7!=1)]"
   ]
  },
  {
   "cell_type": "code",
   "execution_count": 38,
   "metadata": {},
   "outputs": [],
   "source": [
    "triple_2018=len(df_triple_2018.HOGAR)"
   ]
  },
  {
   "cell_type": "code",
   "execution_count": 39,
   "metadata": {},
   "outputs": [],
   "source": [
    "#Se obtiene el total de hogares encuestados en 2018 que solo tenían contratado el paquete (STAR+STF) \n",
    "df_doble_STAR_STF_2018=df_2018[(df_2018.P5_6_1!=1) & (df_2018.P5_6_2==1) & (df_2018.P5_6_3!=1) & (df_2018.P5_6_4!=1) & (df_2018.P5_6_5!=1) & (df_2018.P5_6_6!=1) & (df_2018.P5_6_7!=1)]"
   ]
  },
  {
   "cell_type": "code",
   "execution_count": 40,
   "metadata": {},
   "outputs": [],
   "source": [
    "doble_STAR_STF_2018=len(df_doble_STAR_STF_2018.HOGAR)"
   ]
  },
  {
   "cell_type": "code",
   "execution_count": 41,
   "metadata": {},
   "outputs": [],
   "source": [
    "#Se obtiene el total de hogares encuestados en 2018 que solo tenían contratado el paquete (STAR+SBAF)\n",
    "df_doble_STAR_SBAF_2018=df_2018[(df_2018.P5_6_1!=1) & (df_2018.P5_6_2!=1) & (df_2018.P5_6_3==1) & (df_2018.P5_6_4!=1) & (df_2018.P5_6_5!=1) & (df_2018.P5_6_6!=1) & (df_2018.P5_6_7!=1)]"
   ]
  },
  {
   "cell_type": "code",
   "execution_count": 42,
   "metadata": {},
   "outputs": [],
   "source": [
    "doble_STAR_SBAF_2018=len(df_doble_STAR_SBAF_2018.HOGAR)"
   ]
  },
  {
   "cell_type": "code",
   "execution_count": 43,
   "metadata": {},
   "outputs": [],
   "source": [
    "#Se obtiene el total de hogares encuestados en 2018 que solo tenían contratado el paquete (STF+SBAF)\n",
    "df_doble_STF_SBAF_2018=df_2018[(df_2018.P5_6_1!=1) & (df_2018.P5_6_2!=1) & (df_2018.P5_6_3!=1) & (df_2018.P5_6_4==1) & (df_2018.P5_6_5!=1) & (df_2018.P5_6_6!=1) & (df_2018.P5_6_7!=1)]"
   ]
  },
  {
   "cell_type": "code",
   "execution_count": 44,
   "metadata": {},
   "outputs": [],
   "source": [
    "doble_STF_SBAF_2018=len(df_doble_STF_SBAF_2018.HOGAR)"
   ]
  },
  {
   "cell_type": "code",
   "execution_count": 45,
   "metadata": {},
   "outputs": [],
   "source": [
    "#Se obtiene el total de hogares encuestados en 2018 que solo tenían contratado el paquete (STAR) \n",
    "df_STAR_2018=df_2018[(df_2018.P5_6_1!=1) & (df_2018.P5_6_2!=1) & (df_2018.P5_6_3!=1) & (df_2018.P5_6_4!=1) & (df_2018.P5_6_5==1) & (df_2018.P5_6_6!=1) & (df_2018.P5_6_7!=1)]"
   ]
  },
  {
   "cell_type": "code",
   "execution_count": 46,
   "metadata": {},
   "outputs": [],
   "source": [
    "STAR_2018=len(df_STAR_2018.HOGAR)"
   ]
  },
  {
   "cell_type": "code",
   "execution_count": 47,
   "metadata": {},
   "outputs": [],
   "source": [
    "#Se obtiene el total de hogares encuestados en 2018 que solo tenían contratado el paquete (STF) \n",
    "df_STF_2018=df_2018[(df_2018.P5_6_1!=1) & (df_2018.P5_6_2!=1) & (df_2018.P5_6_3!=1) & (df_2018.P5_6_4!=1) & (df_2018.P5_6_5!=1) & (df_2018.P5_6_6==1) & (df_2018.P5_6_7!=1)]"
   ]
  },
  {
   "cell_type": "code",
   "execution_count": 48,
   "metadata": {},
   "outputs": [],
   "source": [
    "STF_2018=len(df_STF_2018.HOGAR)"
   ]
  },
  {
   "cell_type": "code",
   "execution_count": 49,
   "metadata": {},
   "outputs": [],
   "source": [
    "#Se obtiene el total de hogares encuestados en 2018 que solo tenían contratado el paquete (SBAF) \n",
    "df_SBAF_2018=df_2018[(df_2018.P5_6_1!=1) & (df_2018.P5_6_2!=1) & (df_2018.P5_6_3!=1) & (df_2018.P5_6_4!=1) & (df_2018.P5_6_5!=1) & (df_2018.P5_6_6!=1) & (df_2018.P5_6_7==1)]"
   ]
  },
  {
   "cell_type": "code",
   "execution_count": 50,
   "metadata": {},
   "outputs": [],
   "source": [
    "SBAF_2018=len(df_SBAF_2018.HOGAR)"
   ]
  },
  {
   "cell_type": "code",
   "execution_count": 51,
   "metadata": {},
   "outputs": [],
   "source": [
    "#Se obtiene el total de hogares encuestados en 2018 que no tenían ningún servicio contratado de telecomunicaciones fijas  \n",
    "df_Ningun_2018=df_2018[(df_2018.P5_6_1!=1) & (df_2018.P5_6_2!=1) & (df_2018.P5_6_3!=1) & (df_2018.P5_6_4!=1) & (df_2018.P5_6_5!=1) & (df_2018.P5_6_6!=1) & (df_2018.P5_6_7!=1)]"
   ]
  },
  {
   "cell_type": "code",
   "execution_count": 52,
   "metadata": {},
   "outputs": [],
   "source": [
    "Ningun_2018=len(df_Ningun_2018.HOGAR)"
   ]
  },
  {
   "cell_type": "code",
   "execution_count": 53,
   "metadata": {},
   "outputs": [],
   "source": [
    "#Se obtiene el total de hogares encuestados en 2018 que solo tenían contratado el paquete sintético (STAR)+(SBAF) \n",
    "df_STAR_SBAF_2018=df_2018[(df_2018.P5_6_1!=1) & (df_2018.P5_6_2!=1) & (df_2018.P5_6_3!=1) & (df_2018.P5_6_4!=1) & (df_2018.P5_6_5==1) & (df_2018.P5_6_6!=1) & (df_2018.P5_6_7==1)]"
   ]
  },
  {
   "cell_type": "code",
   "execution_count": 54,
   "metadata": {},
   "outputs": [],
   "source": [
    "STAR_SBAF_2018=len(df_STAR_SBAF_2018.HOGAR)"
   ]
  },
  {
   "cell_type": "code",
   "execution_count": 55,
   "metadata": {},
   "outputs": [],
   "source": [
    "#Se obtiene el total de hogares encuestados en 2018 que solo tenían contratado el paquete sintético (SBAF)+(STF) \n",
    "df_SBAF_STF_2018=df_2018[(df_2018.P5_6_1!=1) & (df_2018.P5_6_2!=1) & (df_2018.P5_6_3!=1) & (df_2018.P5_6_4!=1) & (df_2018.P5_6_5!=1) & (df_2018.P5_6_6==1) & (df_2018.P5_6_7==1)]"
   ]
  },
  {
   "cell_type": "code",
   "execution_count": 56,
   "metadata": {},
   "outputs": [],
   "source": [
    "SBAF_STF_2018=len(df_SBAF_STF_2018.HOGAR)"
   ]
  },
  {
   "cell_type": "code",
   "execution_count": 57,
   "metadata": {},
   "outputs": [],
   "source": [
    "#Se obtiene el total de hogares encuestados en 2018 que solo tenían contratado el paquete sintético (STF)+(SBAF+STAR) \n",
    "df_STF_doble_SBAF_STAR_2018=df_2018[(df_2018.P5_6_1!=1) & (df_2018.P5_6_2!=1) & (df_2018.P5_6_3==1) & (df_2018.P5_6_4!=1) & (df_2018.P5_6_5!=1) & (df_2018.P5_6_6==1) & (df_2018.P5_6_7!=1)]"
   ]
  },
  {
   "cell_type": "code",
   "execution_count": 58,
   "metadata": {},
   "outputs": [],
   "source": [
    "STF_doble_SBAF_STAR_2018=len(df_STF_doble_SBAF_STAR_2018.HOGAR)"
   ]
  },
  {
   "cell_type": "code",
   "execution_count": 59,
   "metadata": {},
   "outputs": [],
   "source": [
    "#Se obtiene el total de hogares encuestados en 2018 que solo tenían contratado el paquete sintético (STAR)+(SBAF+STF)\n",
    "df_STAR_doble_SBAF_STF_2018=df_2018[(df_2018.P5_6_1!=1) & (df_2018.P5_6_2!=1) & (df_2018.P5_6_3!=1) & (df_2018.P5_6_4==1) & (df_2018.P5_6_5==1) & (df_2018.P5_6_6!=1) & (df_2018.P5_6_7!=1)]"
   ]
  },
  {
   "cell_type": "code",
   "execution_count": 60,
   "metadata": {},
   "outputs": [],
   "source": [
    "STAR_doble_SBAF_STF_2018=len(df_STAR_doble_SBAF_STF_2018.HOGAR)"
   ]
  },
  {
   "cell_type": "code",
   "execution_count": 61,
   "metadata": {},
   "outputs": [],
   "source": [
    "#Se obtiene el total de hogares encuestados en 2018 que solo tenían contratado el paquete sintético (SBAF)+(STAR+STF)\n",
    "df_SBAF_doble_STAR_STF_2018=df_2018[(df_2018.P5_6_1!=1) & (df_2018.P5_6_2==1) & (df_2018.P5_6_3!=1) & (df_2018.P5_6_4!=1) & (df_2018.P5_6_5!=1) & (df_2018.P5_6_6!=1) & (df_2018.P5_6_7==1)]"
   ]
  },
  {
   "cell_type": "code",
   "execution_count": 62,
   "metadata": {},
   "outputs": [],
   "source": [
    "SBAF_doble_STAR_STF_2018=len(df_SBAF_doble_STAR_STF_2018)"
   ]
  },
  {
   "cell_type": "code",
   "execution_count": 63,
   "metadata": {},
   "outputs": [],
   "source": [
    "#Se obtiene el total de hogares encuestados en 2018 que solo tenían contratado el paquete sintético (STF)+(SBAF)+(STAR)\n",
    "df_SBAF_STAR_STF_2018=df_2018[(df_2018.P5_6_1!=1) & (df_2018.P5_6_2!=1) & (df_2018.P5_6_3!=1) & (df_2018.P5_6_4!=1) & (df_2018.P5_6_5==1) & (df_2018.P5_6_6==1) & (df_2018.P5_6_7==1)]"
   ]
  },
  {
   "cell_type": "code",
   "execution_count": 64,
   "metadata": {},
   "outputs": [],
   "source": [
    "SBAF_STAR_STF_2018=len(df_SBAF_STAR_STF_2018)"
   ]
  },
  {
   "cell_type": "code",
   "execution_count": 65,
   "metadata": {},
   "outputs": [],
   "source": [
    "#Se obtiene el total de hogares encuestados en 2018 que solo tenían contratado el paquete sintético (STF)+(STAR)\n",
    "df_STAR_STF_2018=df_2018[(df_2018.P5_6_1!=1) & (df_2018.P5_6_2!=1) & (df_2018.P5_6_3!=1) & (df_2018.P5_6_4!=1) & (df_2018.P5_6_5==1) & (df_2018.P5_6_6==1) & (df_2018.P5_6_7!=1)]"
   ]
  },
  {
   "cell_type": "code",
   "execution_count": 66,
   "metadata": {},
   "outputs": [],
   "source": [
    "STAR_STF_2018=len(df_STAR_STF_2018)"
   ]
  },
  {
   "cell_type": "code",
   "execution_count": 67,
   "metadata": {},
   "outputs": [],
   "source": [
    "#Se obtiene el total de hogares encuestados en 2018 que tenían contratado paquetes sintéticos atípicos que cuentan con los tres servicios\n",
    "combinaciones_2018=total_2018-SBAF_2018-STF_2018-STAR_2018-triple_2018-doble_STF_SBAF_2018-doble_STAR_SBAF_2018-doble_STAR_STF_2018-SBAF_STAR_STF_2018-SBAF_STF_2018-STAR_SBAF_2018-STAR_STF_2018-SBAF_doble_STAR_STF_2018-STAR_doble_SBAF_STF_2018-STF_doble_SBAF_STAR_2018-Ningun_2018"
   ]
  },
  {
   "cell_type": "code",
   "execution_count": 68,
   "metadata": {},
   "outputs": [],
   "source": [
    "#Se abren los microdatos de la ENDUTIH 2017 de la base de hogares\n",
    "df_2017 = pd.read_csv('TIC_2017_hogares.csv',encoding='latin-1')"
   ]
  },
  {
   "cell_type": "code",
   "execution_count": 69,
   "metadata": {},
   "outputs": [],
   "source": [
    "#Se obtiene el total de hogares encuestados en 2017\n",
    "total_2017=len(df_2017.HOGAR)"
   ]
  },
  {
   "cell_type": "code",
   "execution_count": 70,
   "metadata": {},
   "outputs": [],
   "source": [
    "#Se obtiene el total de hogares encuestadados en 2017 que solo tenían contratado el paquete tripleplay integrado\n",
    "df_triple_2017=df_2017[(df_2017.P5_6_1==1) & (df_2017.P5_6_2!=1) & (df_2017.P5_6_3!=1) & (df_2017.P5_6_4!=1) & (df_2017.P5_6_5!=1) & (df_2017.P5_6_6!=1) & (df_2017.P5_6_7!=1)]"
   ]
  },
  {
   "cell_type": "code",
   "execution_count": 71,
   "metadata": {},
   "outputs": [],
   "source": [
    "triple_2017=len(df_triple_2017.HOGAR)"
   ]
  },
  {
   "cell_type": "code",
   "execution_count": 72,
   "metadata": {},
   "outputs": [],
   "source": [
    "#Se obtiene el total de hogares encuestados en 2017 que solo tenían contratado el paquete (STAR+STF) \n",
    "df_doble_STAR_STF_2017=df_2017[(df_2017.P5_6_1!=1) & (df_2017.P5_6_2==1) & (df_2017.P5_6_3!=1) & (df_2017.P5_6_4!=1) & (df_2017.P5_6_5!=1) & (df_2017.P5_6_6!=1) & (df_2017.P5_6_7!=1)]"
   ]
  },
  {
   "cell_type": "code",
   "execution_count": 73,
   "metadata": {},
   "outputs": [],
   "source": [
    "doble_STAR_STF_2017=len(df_doble_STAR_STF_2017.HOGAR)"
   ]
  },
  {
   "cell_type": "code",
   "execution_count": 74,
   "metadata": {},
   "outputs": [],
   "source": [
    "#Se obtiene el total de hogares encuestados en 2017 que solo tenían contratado el paquete (STAR+SBAF)\n",
    "df_doble_STAR_SBAF_2017=df_2017[(df_2017.P5_6_1!=1) & (df_2017.P5_6_2!=1) & (df_2017.P5_6_3==1) & (df_2017.P5_6_4!=1) & (df_2017.P5_6_5!=1) & (df_2017.P5_6_6!=1) & (df_2017.P5_6_7!=1)]"
   ]
  },
  {
   "cell_type": "code",
   "execution_count": 75,
   "metadata": {},
   "outputs": [],
   "source": [
    "doble_STAR_SBAF_2017=len(df_doble_STAR_SBAF_2017.HOGAR)"
   ]
  },
  {
   "cell_type": "code",
   "execution_count": 76,
   "metadata": {},
   "outputs": [],
   "source": [
    "#Se obtiene el total de hogares encuestados en 2017 que solo tenían contratado el paquete (STF+SBAF)\n",
    "df_doble_STF_SBAF_2017=df_2017[(df_2017.P5_6_1!=1) & (df_2017.P5_6_2!=1) & (df_2017.P5_6_3!=1) & (df_2017.P5_6_4==1) & (df_2017.P5_6_5!=1) & (df_2017.P5_6_6!=1) & (df_2017.P5_6_7!=1)]"
   ]
  },
  {
   "cell_type": "code",
   "execution_count": 77,
   "metadata": {},
   "outputs": [],
   "source": [
    "doble_STF_SBAF_2017=len(df_doble_STF_SBAF_2017.HOGAR)"
   ]
  },
  {
   "cell_type": "code",
   "execution_count": 78,
   "metadata": {},
   "outputs": [],
   "source": [
    "#Se obtiene el total de hogares encuestados en 2017 que solo tenían contratado el paquete (STAR) \n",
    "df_STAR_2017=df_2017[(df_2017.P5_6_1!=1) & (df_2017.P5_6_2!=1) & (df_2017.P5_6_3!=1) & (df_2017.P5_6_4!=1) & (df_2017.P5_6_5==1) & (df_2017.P5_6_6!=1) & (df_2017.P5_6_7!=1)]"
   ]
  },
  {
   "cell_type": "code",
   "execution_count": 79,
   "metadata": {},
   "outputs": [],
   "source": [
    "STAR_2017=len(df_STAR_2017.HOGAR)"
   ]
  },
  {
   "cell_type": "code",
   "execution_count": 80,
   "metadata": {},
   "outputs": [],
   "source": [
    "#Se obtiene el total de hogares encuestados en 2017 que solo tenían contratado el paquete (STF) \n",
    "df_STF_2017=df_2017[(df_2017.P5_6_1!=1) & (df_2017.P5_6_2!=1) & (df_2017.P5_6_3!=1) & (df_2017.P5_6_4!=1) & (df_2017.P5_6_5!=1) & (df_2017.P5_6_6==1) & (df_2017.P5_6_7!=1)]"
   ]
  },
  {
   "cell_type": "code",
   "execution_count": 81,
   "metadata": {},
   "outputs": [],
   "source": [
    "STF_2017=len(df_STF_2017.HOGAR)"
   ]
  },
  {
   "cell_type": "code",
   "execution_count": 82,
   "metadata": {},
   "outputs": [],
   "source": [
    "#Se obtiene el total de hogares encuestados en 2017 que solo tenían contratado el paquete (SBAF) \n",
    "df_SBAF_2017=df_2017[(df_2017.P5_6_1!=1) & (df_2017.P5_6_2!=1) & (df_2017.P5_6_3!=1) & (df_2017.P5_6_4!=1) & (df_2017.P5_6_5!=1) & (df_2017.P5_6_6!=1) & (df_2017.P5_6_7==1)]"
   ]
  },
  {
   "cell_type": "code",
   "execution_count": 83,
   "metadata": {},
   "outputs": [],
   "source": [
    "SBAF_2017=len(df_SBAF_2017.HOGAR)"
   ]
  },
  {
   "cell_type": "code",
   "execution_count": 84,
   "metadata": {},
   "outputs": [],
   "source": [
    "#Se obtiene el total de hogares encuestados en 2017 que no tenían ningún servicio contratado de telecomunicaciones fijas  \n",
    "df_Ningun_2017=df_2017[(df_2017.P5_6_1!=1) & (df_2017.P5_6_2!=1) & (df_2017.P5_6_3!=1) & (df_2017.P5_6_4!=1) & (df_2017.P5_6_5!=1) & (df_2017.P5_6_6!=1) & (df_2017.P5_6_7!=1)]"
   ]
  },
  {
   "cell_type": "code",
   "execution_count": 85,
   "metadata": {},
   "outputs": [],
   "source": [
    "Ningun_2017=len(df_Ningun_2017.HOGAR)"
   ]
  },
  {
   "cell_type": "code",
   "execution_count": 86,
   "metadata": {},
   "outputs": [],
   "source": [
    "#Se obtiene el total de hogares encuestados en 2017 que solo tenían contratado el paquete sintético (STAR)+(SBAF) \n",
    "df_STAR_SBAF_2017=df_2017[(df_2017.P5_6_1!=1) & (df_2017.P5_6_2!=1) & (df_2017.P5_6_3!=1) & (df_2017.P5_6_4!=1) & (df_2017.P5_6_5==1) & (df_2017.P5_6_6!=1) & (df_2017.P5_6_7==1)]"
   ]
  },
  {
   "cell_type": "code",
   "execution_count": 87,
   "metadata": {},
   "outputs": [],
   "source": [
    "STAR_SBAF_2017=len(df_STAR_SBAF_2017.HOGAR)"
   ]
  },
  {
   "cell_type": "code",
   "execution_count": 88,
   "metadata": {},
   "outputs": [],
   "source": [
    "#Se obtiene el total de hogares encuestados en 2017 que solo tenían contratado el paquete sintético (SBAF)+(STF) \n",
    "df_SBAF_STF_2017=df_2017[(df_2017.P5_6_1!=1) & (df_2017.P5_6_2!=1) & (df_2017.P5_6_3!=1) & (df_2017.P5_6_4!=1) & (df_2017.P5_6_5!=1) & (df_2017.P5_6_6==1) & (df_2017.P5_6_7==1)]"
   ]
  },
  {
   "cell_type": "code",
   "execution_count": 89,
   "metadata": {},
   "outputs": [],
   "source": [
    "SBAF_STF_2017=len(df_SBAF_STF_2017.HOGAR)"
   ]
  },
  {
   "cell_type": "code",
   "execution_count": 90,
   "metadata": {},
   "outputs": [],
   "source": [
    "#Se obtiene el total de hogares encuestados en 2017 que solo tenían contratado el paquete sintético (STF)+(SBAF+STAR) \n",
    "df_STF_doble_SBAF_STAR_2017=df_2017[(df_2017.P5_6_1!=1) & (df_2017.P5_6_2!=1) & (df_2017.P5_6_3==1) & (df_2017.P5_6_4!=1) & (df_2017.P5_6_5!=1) & (df_2017.P5_6_6==1) & (df_2017.P5_6_7!=1)]"
   ]
  },
  {
   "cell_type": "code",
   "execution_count": 91,
   "metadata": {},
   "outputs": [],
   "source": [
    "STF_doble_SBAF_STAR_2017=len(df_STF_doble_SBAF_STAR_2017.HOGAR)"
   ]
  },
  {
   "cell_type": "code",
   "execution_count": 92,
   "metadata": {},
   "outputs": [],
   "source": [
    "#Se obtiene el total de hogares encuestados en 2017 que solo tenían contratado el paquete sintético (STAR)+(SBAF+STF)\n",
    "df_STAR_doble_SBAF_STF_2017=df_2017[(df_2017.P5_6_1!=1) & (df_2017.P5_6_2!=1) & (df_2017.P5_6_3!=1) & (df_2017.P5_6_4==1) & (df_2017.P5_6_5==1) & (df_2017.P5_6_6!=1) & (df_2017.P5_6_7!=1)]"
   ]
  },
  {
   "cell_type": "code",
   "execution_count": 93,
   "metadata": {},
   "outputs": [],
   "source": [
    "STAR_doble_SBAF_STF_2017=len(df_STAR_doble_SBAF_STF_2017.HOGAR)"
   ]
  },
  {
   "cell_type": "code",
   "execution_count": 94,
   "metadata": {},
   "outputs": [],
   "source": [
    "#Se obtiene el total de hogares encuestados en 2017 que solo tenían contratado el paquete sintético (SBAF)+(STAR+STF)\n",
    "df_SBAF_doble_STAR_STF_2017=df_2017[(df_2017.P5_6_1!=1) & (df_2017.P5_6_2==1) & (df_2017.P5_6_3!=1) & (df_2017.P5_6_4!=1) & (df_2017.P5_6_5!=1) & (df_2017.P5_6_6!=1) & (df_2017.P5_6_7==1)]"
   ]
  },
  {
   "cell_type": "code",
   "execution_count": 95,
   "metadata": {},
   "outputs": [],
   "source": [
    "SBAF_doble_STAR_STF_2017=len(df_SBAF_doble_STAR_STF_2017)"
   ]
  },
  {
   "cell_type": "code",
   "execution_count": 96,
   "metadata": {},
   "outputs": [],
   "source": [
    "#Se obtiene el total de hogares encuestados en 2017 que solo tenían contratado el paquete sintético (STF)+(SBAF)+(STAR)\n",
    "df_SBAF_STAR_STF_2017=df_2017[(df_2017.P5_6_1!=1) & (df_2017.P5_6_2!=1) & (df_2017.P5_6_3!=1) & (df_2017.P5_6_4!=1) & (df_2017.P5_6_5==1) & (df_2017.P5_6_6==1) & (df_2017.P5_6_7==1)]"
   ]
  },
  {
   "cell_type": "code",
   "execution_count": 97,
   "metadata": {},
   "outputs": [],
   "source": [
    "SBAF_STAR_STF_2017=len(df_SBAF_STAR_STF_2017)"
   ]
  },
  {
   "cell_type": "code",
   "execution_count": 98,
   "metadata": {},
   "outputs": [],
   "source": [
    "#Se obtiene el total de hogares encuestados en 2017 que solo tenían contratado el paquete sintético (STF)+(STAR)\n",
    "df_STAR_STF_2017=df_2017[(df_2017.P5_6_1!=1) & (df_2017.P5_6_2!=1) & (df_2017.P5_6_3!=1) & (df_2017.P5_6_4!=1) & (df_2017.P5_6_5==1) & (df_2017.P5_6_6==1) & (df_2017.P5_6_7!=1)]"
   ]
  },
  {
   "cell_type": "code",
   "execution_count": 99,
   "metadata": {},
   "outputs": [],
   "source": [
    "STAR_STF_2017=len(df_STAR_STF_2017)"
   ]
  },
  {
   "cell_type": "code",
   "execution_count": 100,
   "metadata": {},
   "outputs": [],
   "source": [
    "#Se obtiene el total de hogares encuestados en 2017 que tenían contratado paquetes sintéticos atípicos que cuentan con los tres servicios\n",
    "combinaciones_2017=total_2017-SBAF_2017-STF_2017-STAR_2017-triple_2017-doble_STF_SBAF_2017-doble_STAR_SBAF_2017-doble_STAR_STF_2017-SBAF_STAR_STF_2017-SBAF_STF_2017-STAR_SBAF_2017-STAR_STF_2017-SBAF_doble_STAR_STF_2017-STAR_doble_SBAF_STF_2017-STF_doble_SBAF_STAR_2017-Ningun_2017"
   ]
  },
  {
   "cell_type": "code",
   "execution_count": 101,
   "metadata": {},
   "outputs": [],
   "source": [
    "#Se abren los microdatos de la ENDUTIH 2016 de la base de hogares\n",
    "df_2016 = pd.read_csv('TIC_2016_HOGARES.csv',encoding='latin-1')"
   ]
  },
  {
   "cell_type": "code",
   "execution_count": 102,
   "metadata": {},
   "outputs": [],
   "source": [
    "#Se obtiene el total de hogares encuestados en 2016\n",
    "total_2016=len(df_2016.HOGAR)"
   ]
  },
  {
   "cell_type": "code",
   "execution_count": 103,
   "metadata": {},
   "outputs": [],
   "source": [
    "#Se obtiene el total de hogares encuestadados en 2016 que solo tenían contratado el paquete tripleplay integrado\n",
    "df_triple_2016=df_2016[(df_2016.P5_2_1_1==1) & (df_2016.P5_2_2_1!=1) & (df_2016.P5_2_3_1!=1) & (df_2016.P5_2_4_1!=1) & (df_2016.P5_2A_1_1!=1) & (df_2016.P5_2A_2_1!=1) & (df_2016.P5_2A_3_1!=1)]"
   ]
  },
  {
   "cell_type": "code",
   "execution_count": 104,
   "metadata": {},
   "outputs": [],
   "source": [
    "triple_2016=len(df_triple_2016.HOGAR)"
   ]
  },
  {
   "cell_type": "code",
   "execution_count": 105,
   "metadata": {},
   "outputs": [],
   "source": [
    "#Se obtiene el total de hogares encuestados en 2016 que solo tenían contratado el paquete (STAR+STF) \n",
    "df_doble_STAR_STF_2016=df_2016[(df_2016.P5_2_1_1!=1) & (df_2016.P5_2_2_1==1) & (df_2016.P5_2_3_1!=1) & (df_2016.P5_2_4_1!=1) & (df_2016.P5_2A_1_1!=1) & (df_2016.P5_2A_2_1!=1) & (df_2016.P5_2A_3_1!=1)]"
   ]
  },
  {
   "cell_type": "code",
   "execution_count": 106,
   "metadata": {},
   "outputs": [],
   "source": [
    "doble_STAR_STF_2016=len(df_doble_STAR_STF_2016.HOGAR)"
   ]
  },
  {
   "cell_type": "code",
   "execution_count": 107,
   "metadata": {},
   "outputs": [],
   "source": [
    "#Se obtiene el total de hogares encuestados en 2016 que solo tenían contratado el paquete (STAR+SBAF)\n",
    "df_doble_STAR_SBAF_2016=df_2016[(df_2016.P5_2_1_1!=1) & (df_2016.P5_2_2_1!=1) & (df_2016.P5_2_3_1==1) & (df_2016.P5_2_4_1!=1) & (df_2016.P5_2A_1_1!=1) & (df_2016.P5_2A_2_1!=1) & (df_2016.P5_2A_3_1!=1)]"
   ]
  },
  {
   "cell_type": "code",
   "execution_count": 108,
   "metadata": {},
   "outputs": [],
   "source": [
    "doble_STAR_SBAF_2016=len(df_doble_STAR_SBAF_2016.HOGAR)"
   ]
  },
  {
   "cell_type": "code",
   "execution_count": 109,
   "metadata": {},
   "outputs": [],
   "source": [
    "#Se obtiene el total de hogares encuestados en 2016 que solo tenían contratado el paquete (STF+SBAF)\n",
    "df_doble_STF_SBAF_2016=df_2016[(df_2016.P5_2_1_1!=1) & (df_2016.P5_2_2_1!=1) & (df_2016.P5_2_3_1!=1) & (df_2016.P5_2_4_1==1) & (df_2016.P5_2A_1_1!=1) & (df_2016.P5_2A_2_1!=1) & (df_2016.P5_2A_3_1!=1)]"
   ]
  },
  {
   "cell_type": "code",
   "execution_count": 110,
   "metadata": {},
   "outputs": [],
   "source": [
    "doble_STF_SBAF_2016=len(df_doble_STF_SBAF_2016.HOGAR)"
   ]
  },
  {
   "cell_type": "code",
   "execution_count": 111,
   "metadata": {},
   "outputs": [],
   "source": [
    "#Se obtiene el total de hogares encuestados en 2016 que solo tenían contratado el paquete (STAR) \n",
    "df_STAR_2016=df_2016[(df_2016.P5_2_1_1!=1) & (df_2016.P5_2_2_1!=1) & (df_2016.P5_2_3_1!=1) & (df_2016.P5_2_4_1!=1) & (df_2016.P5_2A_1_1==1) & (df_2016.P5_2A_2_1!=1) & (df_2016.P5_2A_3_1!=1)]"
   ]
  },
  {
   "cell_type": "code",
   "execution_count": 112,
   "metadata": {},
   "outputs": [],
   "source": [
    "STAR_2016=len(df_STAR_2016.HOGAR)"
   ]
  },
  {
   "cell_type": "code",
   "execution_count": 113,
   "metadata": {},
   "outputs": [],
   "source": [
    "#Se obtiene el total de hogares encuestados en 2016 que solo tenían contratado el paquete (STF) \n",
    "df_STF_2016=df_2016[(df_2016.P5_2_1_1!=1) & (df_2016.P5_2_2_1!=1) & (df_2016.P5_2_3_1!=1) & (df_2016.P5_2_4_1!=1) & (df_2016.P5_2A_1_1!=1) & (df_2016.P5_2A_2_1!=1) & (df_2016.P5_2A_3_1==1)]"
   ]
  },
  {
   "cell_type": "code",
   "execution_count": 114,
   "metadata": {},
   "outputs": [],
   "source": [
    "STF_2016=len(df_STF_2016.HOGAR)"
   ]
  },
  {
   "cell_type": "code",
   "execution_count": 115,
   "metadata": {},
   "outputs": [],
   "source": [
    "#Se obtiene el total de hogares encuestados en 2016 que solo tenían contratado el paquete (SBAF) \n",
    "df_SBAF_2016=df_2016[(df_2016.P5_2_1_1!=1) & (df_2016.P5_2_2_1!=1) & (df_2016.P5_2_3_1!=1) & (df_2016.P5_2_4_1!=1) & (df_2016.P5_2A_1_1!=1) & (df_2016.P5_2A_2_1==1) & (df_2016.P5_2A_3_1!=1)]"
   ]
  },
  {
   "cell_type": "code",
   "execution_count": 116,
   "metadata": {},
   "outputs": [],
   "source": [
    "SBAF_2016=len(df_SBAF_2016.HOGAR)"
   ]
  },
  {
   "cell_type": "code",
   "execution_count": 117,
   "metadata": {},
   "outputs": [],
   "source": [
    "#Se obtiene el total de hogares encuestados en 2016 que no tenían ningún servicio contratado de telecomunicaciones fijas  \n",
    "df_Ningun_2016=df_2016[(df_2016.P5_2_1_1!=1) & (df_2016.P5_2_2_1!=1) & (df_2016.P5_2_3_1!=1) & (df_2016.P5_2_4_1!=1) & (df_2016.P5_2A_1_1!=1) & (df_2016.P5_2A_2_1!=1) & (df_2016.P5_2A_3_1!=1)]"
   ]
  },
  {
   "cell_type": "code",
   "execution_count": 118,
   "metadata": {},
   "outputs": [],
   "source": [
    "Ningun_2016=len(df_Ningun_2016.HOGAR)"
   ]
  },
  {
   "cell_type": "code",
   "execution_count": 119,
   "metadata": {},
   "outputs": [],
   "source": [
    "#Se obtiene el total de hogares encuestados en 2016 que solo tenían contratado el paquete sintético (STAR)+(SBAF) \n",
    "df_STAR_SBAF_2016=df_2016[(df_2016.P5_2_1_1!=1) & (df_2016.P5_2_2_1!=1) & (df_2016.P5_2_3_1!=1) & (df_2016.P5_2_4_1!=1) & (df_2016.P5_2A_1_1==1) & (df_2016.P5_2A_2_1==1) & (df_2016.P5_2A_3_1!=1)]"
   ]
  },
  {
   "cell_type": "code",
   "execution_count": 120,
   "metadata": {},
   "outputs": [],
   "source": [
    "STAR_SBAF_2016=len(df_STAR_SBAF_2016.HOGAR)"
   ]
  },
  {
   "cell_type": "code",
   "execution_count": 121,
   "metadata": {},
   "outputs": [],
   "source": [
    "#Se obtiene el total de hogares encuestados en 2016 que solo tenían contratado el paquete sintético (SBAF)+(STF) \n",
    "df_SBAF_STF_2016=df_2016[(df_2016.P5_2_1_1!=1) & (df_2016.P5_2_2_1!=1) & (df_2016.P5_2_3_1!=1) & (df_2016.P5_2_4_1!=1) & (df_2016.P5_2A_1_1!=1) & (df_2016.P5_2A_2_1==1) & (df_2016.P5_2A_3_1==1)]"
   ]
  },
  {
   "cell_type": "code",
   "execution_count": 122,
   "metadata": {},
   "outputs": [],
   "source": [
    "SBAF_STF_2016=len(df_SBAF_STF_2016.HOGAR)"
   ]
  },
  {
   "cell_type": "code",
   "execution_count": 123,
   "metadata": {},
   "outputs": [],
   "source": [
    "#Se obtiene el total de hogares encuestados en 2016 que solo tenían contratado el paquete sintético (STF)+(SBAF+STAR) \n",
    "df_STF_doble_SBAF_STAR_2016=df_2016[(df_2016.P5_2_1_1!=1) & (df_2016.P5_2_2_1!=1) & (df_2016.P5_2_3_1==1) & (df_2016.P5_2_4_1!=1) & (df_2016.P5_2A_1_1!=1) & (df_2016.P5_2A_2_1!=1) & (df_2016.P5_2A_3_1==1)]"
   ]
  },
  {
   "cell_type": "code",
   "execution_count": 124,
   "metadata": {},
   "outputs": [],
   "source": [
    "STF_doble_SBAF_STAR_2016=len(df_STF_doble_SBAF_STAR_2016.HOGAR)"
   ]
  },
  {
   "cell_type": "code",
   "execution_count": 125,
   "metadata": {},
   "outputs": [],
   "source": [
    "#Se obtiene el total de hogares encuestados en 2016 que solo tenían contratado el paquete sintético (STAR)+(SBAF+STF)\n",
    "df_STAR_doble_SBAF_STF_2016=df_2016[(df_2016.P5_2_1_1!=1) & (df_2016.P5_2_2_1!=1) & (df_2016.P5_2_3_1!=1) & (df_2016.P5_2_4_1==1) & (df_2016.P5_2A_1_1==1) & (df_2016.P5_2A_2_1!=1) & (df_2016.P5_2A_3_1!=1)]"
   ]
  },
  {
   "cell_type": "code",
   "execution_count": 126,
   "metadata": {},
   "outputs": [],
   "source": [
    "STAR_doble_SBAF_STF_2016=len(df_STAR_doble_SBAF_STF_2016.HOGAR)"
   ]
  },
  {
   "cell_type": "code",
   "execution_count": 127,
   "metadata": {},
   "outputs": [],
   "source": [
    "#Se obtiene el total de hogares encuestados en 2016 que solo tenían contratado el paquete sintético (SBAF)+(STAR+STF)\n",
    "df_SBAF_doble_STAR_STF_2016=df_2016[(df_2016.P5_2_1_1!=1) & (df_2016.P5_2_2_1==1) & (df_2016.P5_2_3_1!=1) & (df_2016.P5_2_4_1!=1) & (df_2016.P5_2A_1_1!=1) & (df_2016.P5_2A_2_1==1) & (df_2016.P5_2A_3_1!=1)]"
   ]
  },
  {
   "cell_type": "code",
   "execution_count": 128,
   "metadata": {},
   "outputs": [],
   "source": [
    "SBAF_doble_STAR_STF_2016=len(df_SBAF_doble_STAR_STF_2016)"
   ]
  },
  {
   "cell_type": "code",
   "execution_count": 129,
   "metadata": {},
   "outputs": [],
   "source": [
    "#Se obtiene el total de hogares encuestados en 2016 que solo tenían contratado el paquete sintético (STF)+(SBAF)+(STAR)\n",
    "df_SBAF_STAR_STF_2016=df_2016[(df_2016.P5_2_1_1!=1) & (df_2016.P5_2_2_1!=1) & (df_2016.P5_2_3_1!=1) & (df_2016.P5_2_4_1!=1) & (df_2016.P5_2A_1_1==1) & (df_2016.P5_2A_2_1==1) & (df_2016.P5_2A_3_1==1)]"
   ]
  },
  {
   "cell_type": "code",
   "execution_count": 130,
   "metadata": {},
   "outputs": [],
   "source": [
    "SBAF_STAR_STF_2016=len(df_SBAF_STAR_STF_2016)"
   ]
  },
  {
   "cell_type": "code",
   "execution_count": 131,
   "metadata": {},
   "outputs": [],
   "source": [
    "#Se obtiene el total de hogares encuestados en 2016 que solo tenían contratado el paquete sintético (STF)+(STAR)\n",
    "df_STAR_STF_2016=df_2016[(df_2016.P5_2_1_1!=1) & (df_2016.P5_2_2_1!=1) & (df_2016.P5_2_3_1!=1) & (df_2016.P5_2_4_1!=1) & (df_2016.P5_2A_1_1==1) & (df_2016.P5_2A_2_1!=1) & (df_2016.P5_2A_3_1==1)]"
   ]
  },
  {
   "cell_type": "code",
   "execution_count": 132,
   "metadata": {},
   "outputs": [],
   "source": [
    "STAR_STF_2016=len(df_STAR_STF_2016)"
   ]
  },
  {
   "cell_type": "code",
   "execution_count": 133,
   "metadata": {},
   "outputs": [],
   "source": [
    "#Se obtiene el total de hogares encuestados en 2016 que tenían contratado paquetes sintéticos atípicos que cuentan con los tres servicios\n",
    "combinaciones_2016=total_2016-SBAF_2016-STF_2016-STAR_2016-triple_2016-doble_STF_SBAF_2016-doble_STAR_SBAF_2016-doble_STAR_STF_2016-SBAF_STAR_STF_2016-SBAF_STF_2016-STAR_SBAF_2016-STAR_STF_2016-SBAF_doble_STAR_STF_2016-STAR_doble_SBAF_STF_2016-STF_doble_SBAF_STAR_2016-Ningun_2016"
   ]
  },
  {
   "cell_type": "code",
   "execution_count": 134,
   "metadata": {},
   "outputs": [],
   "source": [
    "#Se abren los microdatos de la ENDUTIH 2015 de la base de hogares\n",
    "df_2015 = pd.read_csv('TIC_2015_HOGARES.csv',encoding='latin-1')"
   ]
  },
  {
   "cell_type": "code",
   "execution_count": 135,
   "metadata": {},
   "outputs": [],
   "source": [
    "#Se obtiene el total de hogares encuestados en 2015\n",
    "total_2015=len(df_2015.HOGAR)"
   ]
  },
  {
   "cell_type": "code",
   "execution_count": 136,
   "metadata": {},
   "outputs": [],
   "source": [
    "#Se obtiene el total de hogares encuestadados en 2015 que solo tenían contratado el paquete tripleplay integrado\n",
    "df_triple_2015=df_2015[(df_2015.P5_1_1==1) & (df_2015.P5_1_2!=1) & (df_2015.P5_1_3!=1) & (df_2015.P5_1_6!=1) & (df_2015.P5_1_4!=1) & (df_2015.P5_1_5!=1) & (df_2015.P5_1_7!=1)]"
   ]
  },
  {
   "cell_type": "code",
   "execution_count": 137,
   "metadata": {},
   "outputs": [],
   "source": [
    "triple_2015=len(df_triple_2015.HOGAR)"
   ]
  },
  {
   "cell_type": "code",
   "execution_count": 138,
   "metadata": {},
   "outputs": [],
   "source": [
    "#Se obtiene el total de hogares encuestados en 2015 que solo tenían contratado el paquete (STAR+STF) \n",
    "df_doble_STAR_STF_2015=df_2015[(df_2015.P5_1_1!=1) & (df_2015.P5_1_2==1) & (df_2015.P5_1_3!=1) & (df_2015.P5_1_6!=1) & (df_2015.P5_1_4!=1) & (df_2015.P5_1_5!=1) & (df_2015.P5_1_7!=1)]"
   ]
  },
  {
   "cell_type": "code",
   "execution_count": 139,
   "metadata": {},
   "outputs": [],
   "source": [
    "doble_STAR_STF_2015=len(df_doble_STAR_STF_2015.HOGAR)"
   ]
  },
  {
   "cell_type": "code",
   "execution_count": 140,
   "metadata": {},
   "outputs": [],
   "source": [
    "#Se obtiene el total de hogares encuestados en 2015 que solo tenían contratado el paquete (STAR+SBAF)\n",
    "df_doble_STAR_SBAF_2015=df_2015[(df_2015.P5_1_1!=1) & (df_2015.P5_1_2!=1) & (df_2015.P5_1_3==1) & (df_2015.P5_1_6!=1) & (df_2015.P5_1_4!=1) & (df_2015.P5_1_5!=1) & (df_2015.P5_1_7!=1)]"
   ]
  },
  {
   "cell_type": "code",
   "execution_count": 141,
   "metadata": {},
   "outputs": [],
   "source": [
    "doble_STAR_SBAF_2015=len(df_doble_STAR_SBAF_2015.HOGAR)"
   ]
  },
  {
   "cell_type": "code",
   "execution_count": 142,
   "metadata": {},
   "outputs": [],
   "source": [
    "#Se obtiene el total de hogares encuestados en 2015 que solo tenían contratado el paquete (STF+SBAF)\n",
    "df_doble_STF_SBAF_2015=df_2015[(df_2015.P5_1_1!=1) & (df_2015.P5_1_2!=1) & (df_2015.P5_1_3!=1) & (df_2015.P5_1_6==1) & (df_2015.P5_1_4!=1) & (df_2015.P5_1_5!=1) & (df_2015.P5_1_7!=1)]"
   ]
  },
  {
   "cell_type": "code",
   "execution_count": 143,
   "metadata": {},
   "outputs": [],
   "source": [
    "doble_STF_SBAF_2015=len(df_doble_STF_SBAF_2015.HOGAR)"
   ]
  },
  {
   "cell_type": "code",
   "execution_count": 144,
   "metadata": {},
   "outputs": [],
   "source": [
    "#Se obtiene el total de hogares encuestados en 2015 que solo tenían contratado el paquete (STAR) \n",
    "df_STAR_2015=df_2015[(df_2015.P5_1_1!=1) & (df_2015.P5_1_2!=1) & (df_2015.P5_1_3!=1) & (df_2015.P5_1_6!=1) & (df_2015.P5_1_4==1) & (df_2015.P5_1_5!=1) & (df_2015.P5_1_7!=1)]"
   ]
  },
  {
   "cell_type": "code",
   "execution_count": 145,
   "metadata": {},
   "outputs": [],
   "source": [
    "STAR_2015=len(df_STAR_2015.HOGAR)"
   ]
  },
  {
   "cell_type": "code",
   "execution_count": 146,
   "metadata": {},
   "outputs": [],
   "source": [
    "#Se obtiene el total de hogares encuestados en 2015 que solo tenían contratado el paquete (STF) \n",
    "df_STF_2015=df_2015[(df_2015.P5_1_1!=1) & (df_2015.P5_1_2!=1) & (df_2015.P5_1_3!=1) & (df_2015.P5_1_6!=1) & (df_2015.P5_1_4!=1) & (df_2015.P5_1_5!=1) & (df_2015.P5_1_7==1)]"
   ]
  },
  {
   "cell_type": "code",
   "execution_count": 147,
   "metadata": {},
   "outputs": [],
   "source": [
    "STF_2015=len(df_STF_2015.HOGAR)"
   ]
  },
  {
   "cell_type": "code",
   "execution_count": 148,
   "metadata": {},
   "outputs": [],
   "source": [
    "#Se obtiene el total de hogares encuestados en 2015 que solo tenían contratado el paquete (SBAF) \n",
    "df_SBAF_2015=df_2015[(df_2015.P5_1_1!=1) & (df_2015.P5_1_2!=1) & (df_2015.P5_1_3!=1) & (df_2015.P5_1_6!=1) & (df_2015.P5_1_4!=1) & (df_2015.P5_1_5==1) & (df_2015.P5_1_7!=1)]"
   ]
  },
  {
   "cell_type": "code",
   "execution_count": 149,
   "metadata": {},
   "outputs": [],
   "source": [
    "SBAF_2015=len(df_SBAF_2015.HOGAR)"
   ]
  },
  {
   "cell_type": "code",
   "execution_count": 150,
   "metadata": {},
   "outputs": [],
   "source": [
    "#Se obtiene el total de hogares encuestados en 2015 que no tenían ningún servicio contratado de telecomunicaciones fijas  \n",
    "df_Ningun_2015=df_2015[(df_2015.P5_1_1!=1) & (df_2015.P5_1_2!=1) & (df_2015.P5_1_3!=1) & (df_2015.P5_1_6!=1) & (df_2015.P5_1_4!=1) & (df_2015.P5_1_5!=1) & (df_2015.P5_1_7!=1)]"
   ]
  },
  {
   "cell_type": "code",
   "execution_count": 151,
   "metadata": {},
   "outputs": [],
   "source": [
    "Ningun_2015=len(df_Ningun_2015.HOGAR)"
   ]
  },
  {
   "cell_type": "code",
   "execution_count": 152,
   "metadata": {},
   "outputs": [],
   "source": [
    "#Se obtiene el total de hogares encuestados en 2015 que solo tenían contratado el paquete sintético (STAR)+(SBAF) \n",
    "df_STAR_SBAF_2015=df_2015[(df_2015.P5_1_1!=1) & (df_2015.P5_1_2!=1) & (df_2015.P5_1_3!=1) & (df_2015.P5_1_6!=1) & (df_2015.P5_1_4==1) & (df_2015.P5_1_5==1) & (df_2015.P5_1_7!=1)]"
   ]
  },
  {
   "cell_type": "code",
   "execution_count": 153,
   "metadata": {},
   "outputs": [],
   "source": [
    "STAR_SBAF_2015=len(df_STAR_SBAF_2015.HOGAR)"
   ]
  },
  {
   "cell_type": "code",
   "execution_count": 154,
   "metadata": {},
   "outputs": [],
   "source": [
    "#Se obtiene el total de hogares encuestados en 2015 que solo tenían contratado el paquete sintético (SBAF)+(STF) \n",
    "df_SBAF_STF_2015=df_2015[(df_2015.P5_1_1!=1) & (df_2015.P5_1_2!=1) & (df_2015.P5_1_3!=1) & (df_2015.P5_1_6!=1) & (df_2015.P5_1_4!=1) & (df_2015.P5_1_5==1) & (df_2015.P5_1_7==1)]"
   ]
  },
  {
   "cell_type": "code",
   "execution_count": 155,
   "metadata": {},
   "outputs": [],
   "source": [
    "SBAF_STF_2015=len(df_SBAF_STF_2015.HOGAR)"
   ]
  },
  {
   "cell_type": "code",
   "execution_count": 156,
   "metadata": {},
   "outputs": [],
   "source": [
    "#Se obtiene el total de hogares encuestados en 2015 que solo tenían contratado el paquete sintético (STF)+(SBAF+STAR) \n",
    "df_STF_doble_SBAF_STAR_2015=df_2015[(df_2015.P5_1_1!=1) & (df_2015.P5_1_2!=1) & (df_2015.P5_1_3==1) & (df_2015.P5_1_6!=1) & (df_2015.P5_1_4!=1) & (df_2015.P5_1_5!=1) & (df_2015.P5_1_7==1)]"
   ]
  },
  {
   "cell_type": "code",
   "execution_count": 157,
   "metadata": {},
   "outputs": [],
   "source": [
    "STF_doble_SBAF_STAR_2015=len(df_STF_doble_SBAF_STAR_2015.HOGAR)"
   ]
  },
  {
   "cell_type": "code",
   "execution_count": 158,
   "metadata": {},
   "outputs": [],
   "source": [
    "#Se obtiene el total de hogares encuestados en 2015 que solo tenían contratado el paquete sintético (STAR)+(SBAF+STF)\n",
    "df_STAR_doble_SBAF_STF_2015=df_2015[(df_2015.P5_1_1!=1) & (df_2015.P5_1_2!=1) & (df_2015.P5_1_3!=1) & (df_2015.P5_1_6==1) & (df_2015.P5_1_4==1) & (df_2015.P5_1_5!=1) & (df_2015.P5_1_7!=1)]"
   ]
  },
  {
   "cell_type": "code",
   "execution_count": 159,
   "metadata": {},
   "outputs": [],
   "source": [
    "STAR_doble_SBAF_STF_2015=len(df_STAR_doble_SBAF_STF_2015.HOGAR)"
   ]
  },
  {
   "cell_type": "code",
   "execution_count": 160,
   "metadata": {},
   "outputs": [],
   "source": [
    "#Se obtiene el total de hogares encuestados en 2015 que solo tenían contratado el paquete sintético (SBAF)+(STAR+STF)\n",
    "df_SBAF_doble_STAR_STF_2015=df_2015[(df_2015.P5_1_1!=1) & (df_2015.P5_1_2==1) & (df_2015.P5_1_3!=1) & (df_2015.P5_1_6!=1) & (df_2015.P5_1_4!=1) & (df_2015.P5_1_5==1) & (df_2015.P5_1_7!=1)]"
   ]
  },
  {
   "cell_type": "code",
   "execution_count": 161,
   "metadata": {},
   "outputs": [],
   "source": [
    "SBAF_doble_STAR_STF_2015=len(df_SBAF_doble_STAR_STF_2015)"
   ]
  },
  {
   "cell_type": "code",
   "execution_count": 162,
   "metadata": {},
   "outputs": [],
   "source": [
    "#Se obtiene el total de hogares encuestados en 2015 que solo tenían contratado el paquete sintético (STF)+(SBAF)+(STAR)\n",
    "df_SBAF_STAR_STF_2015=df_2015[(df_2015.P5_1_1!=1) & (df_2015.P5_1_2!=1) & (df_2015.P5_1_3!=1) & (df_2015.P5_1_6!=1) & (df_2015.P5_1_4==1) & (df_2015.P5_1_5==1) & (df_2015.P5_1_7==1)]"
   ]
  },
  {
   "cell_type": "code",
   "execution_count": 163,
   "metadata": {},
   "outputs": [],
   "source": [
    "SBAF_STAR_STF_2015=len(df_SBAF_STAR_STF_2015)"
   ]
  },
  {
   "cell_type": "code",
   "execution_count": 164,
   "metadata": {},
   "outputs": [],
   "source": [
    "#Se obtiene el total de hogares encuestados en 2015 que solo tenían contratado el paquete sintético (STF)+(STAR)\n",
    "df_STAR_STF_2015=df_2015[(df_2015.P5_1_1!=1) & (df_2015.P5_1_2!=1) & (df_2015.P5_1_3!=1) & (df_2015.P5_1_6!=1) & (df_2015.P5_1_4==1) & (df_2015.P5_1_5!=1) & (df_2015.P5_1_7==1)]"
   ]
  },
  {
   "cell_type": "code",
   "execution_count": 165,
   "metadata": {},
   "outputs": [],
   "source": [
    "STAR_STF_2015=len(df_STAR_STF_2015)"
   ]
  },
  {
   "cell_type": "code",
   "execution_count": 166,
   "metadata": {},
   "outputs": [],
   "source": [
    "#Se obtiene el total de hogares encuestados en 2015 que tenían contratado paquetes sintéticos atípicos que cuentan con los tres servicios\n",
    "combinaciones_2015=total_2015-SBAF_2015-STF_2015-STAR_2015-triple_2015-doble_STF_SBAF_2015-doble_STAR_SBAF_2015-doble_STAR_STF_2015-SBAF_STAR_STF_2015-SBAF_STF_2015-STAR_SBAF_2015-STAR_STF_2015-SBAF_doble_STAR_STF_2015-STAR_doble_SBAF_STF_2015-STF_doble_SBAF_STAR_2015-Ningun_2015"
   ]
  },
  {
   "cell_type": "code",
   "execution_count": 167,
   "metadata": {},
   "outputs": [],
   "source": [
    "#Se arma un diccionario para posteriormente transfromarlo en un Dataframe\n",
    "diccionario = {'Variables':['SBAF', 'STF', 'STAR', '[SBAF+STF+STAR]', '[SBAF+STF]', '[SBAF+STAR]', '[STAR+STF]', '[SBAF]+[STF]+[STAR]', '[SBAF]+[STF]', '[SBAF]+[STAR]','[STAR]+[STF]','[SBAF]+[STAR+STF]','[STAR]+[SBAF+STF]','[STF]+[STAR+SBAF]','Combinaciones atípicas de los 3 servicios','Ningún servicio contratado','Total de hogares encuestados'],'2015':[SBAF_2015,STF_2015,STAR_2015,triple_2015,doble_STF_SBAF_2015,doble_STAR_SBAF_2015,doble_STAR_STF_2015,SBAF_STAR_STF_2015,SBAF_STF_2015,STAR_SBAF_2015,STAR_STF_2015,SBAF_doble_STAR_STF_2015,STAR_doble_SBAF_STF_2015,STF_doble_SBAF_STAR_2015,combinaciones_2015,Ningun_2015,total_2015],'2016':[SBAF_2016,STF_2016,STAR_2016,triple_2016,doble_STF_SBAF_2016,doble_STAR_SBAF_2016,doble_STAR_STF_2016,SBAF_STAR_STF_2016,SBAF_STF_2016,STAR_SBAF_2016,STAR_STF_2016,SBAF_doble_STAR_STF_2016,STAR_doble_SBAF_STF_2016,STF_doble_SBAF_STAR_2016,combinaciones_2016,Ningun_2016,total_2016],'2017':[SBAF_2017,STF_2017,STAR_2017,triple_2017,doble_STF_SBAF_2017,doble_STAR_SBAF_2017,doble_STAR_STF_2017,SBAF_STAR_STF_2017,SBAF_STF_2017,STAR_SBAF_2017,STAR_STF_2017,SBAF_doble_STAR_STF_2017,STAR_doble_SBAF_STF_2017,STF_doble_SBAF_STAR_2017,combinaciones_2017,Ningun_2017,total_2017], '2018':[SBAF_2018,STF_2018,STAR_2018,triple_2018,doble_STF_SBAF_2018,doble_STAR_SBAF_2018,doble_STAR_STF_2018,SBAF_STAR_STF_2018,SBAF_STF_2018,STAR_SBAF_2018,STAR_STF_2018,SBAF_doble_STAR_STF_2018,STAR_doble_SBAF_STF_2018,STF_doble_SBAF_STAR_2018,combinaciones_2018,Ningun_2018,total_2018],'2019':[SBAF_2019,STF_2019,STAR_2019,triple_2019,doble_STF_SBAF_2019,doble_STAR_SBAF_2019,doble_STAR_STF_2019,SBAF_STAR_STF_2019,SBAF_STF_2019,STAR_SBAF_2019,STAR_STF_2019,SBAF_doble_STAR_STF_2019,STAR_doble_SBAF_STF_2019,STF_doble_SBAF_STAR_2019,combinaciones_2019,Ningun_2019,total_2019]}"
   ]
  },
  {
   "cell_type": "code",
   "execution_count": 168,
   "metadata": {},
   "outputs": [],
   "source": [
    "#A partir del diccionario creado se construye un Dataframe\n",
    "tabla_anios=pd.DataFrame(diccionario)"
   ]
  },
  {
   "cell_type": "code",
   "execution_count": 169,
   "metadata": {
    "scrolled": true
   },
   "outputs": [
    {
     "data": {
      "text/html": [
       "<div>\n",
       "<style scoped>\n",
       "    .dataframe tbody tr th:only-of-type {\n",
       "        vertical-align: middle;\n",
       "    }\n",
       "\n",
       "    .dataframe tbody tr th {\n",
       "        vertical-align: top;\n",
       "    }\n",
       "\n",
       "    .dataframe thead th {\n",
       "        text-align: right;\n",
       "    }\n",
       "</style>\n",
       "<table border=\"1\" class=\"dataframe\">\n",
       "  <thead>\n",
       "    <tr style=\"text-align: right;\">\n",
       "      <th></th>\n",
       "      <th>Variables</th>\n",
       "      <th>2015</th>\n",
       "      <th>2016</th>\n",
       "      <th>2017</th>\n",
       "      <th>2018</th>\n",
       "      <th>2019</th>\n",
       "    </tr>\n",
       "  </thead>\n",
       "  <tbody>\n",
       "    <tr>\n",
       "      <th>0</th>\n",
       "      <td>SBAF</td>\n",
       "      <td>3939</td>\n",
       "      <td>7977</td>\n",
       "      <td>12116</td>\n",
       "      <td>7026</td>\n",
       "      <td>1288</td>\n",
       "    </tr>\n",
       "    <tr>\n",
       "      <th>1</th>\n",
       "      <td>STF</td>\n",
       "      <td>4719</td>\n",
       "      <td>4097</td>\n",
       "      <td>4146</td>\n",
       "      <td>3855</td>\n",
       "      <td>512</td>\n",
       "    </tr>\n",
       "    <tr>\n",
       "      <th>2</th>\n",
       "      <td>STAR</td>\n",
       "      <td>11961</td>\n",
       "      <td>17984</td>\n",
       "      <td>18870</td>\n",
       "      <td>21341</td>\n",
       "      <td>3905</td>\n",
       "    </tr>\n",
       "    <tr>\n",
       "      <th>3</th>\n",
       "      <td>[SBAF+STF+STAR]</td>\n",
       "      <td>6977</td>\n",
       "      <td>12036</td>\n",
       "      <td>13116</td>\n",
       "      <td>13977</td>\n",
       "      <td>2296</td>\n",
       "    </tr>\n",
       "    <tr>\n",
       "      <th>4</th>\n",
       "      <td>[SBAF+STF]</td>\n",
       "      <td>5804</td>\n",
       "      <td>9618</td>\n",
       "      <td>12291</td>\n",
       "      <td>14537</td>\n",
       "      <td>2175</td>\n",
       "    </tr>\n",
       "    <tr>\n",
       "      <th>5</th>\n",
       "      <td>[SBAF+STAR]</td>\n",
       "      <td>4633</td>\n",
       "      <td>9218</td>\n",
       "      <td>10522</td>\n",
       "      <td>13130</td>\n",
       "      <td>1510</td>\n",
       "    </tr>\n",
       "    <tr>\n",
       "      <th>6</th>\n",
       "      <td>[STAR+STF]</td>\n",
       "      <td>618</td>\n",
       "      <td>895</td>\n",
       "      <td>629</td>\n",
       "      <td>576</td>\n",
       "      <td>57</td>\n",
       "    </tr>\n",
       "    <tr>\n",
       "      <th>7</th>\n",
       "      <td>[SBAF]+[STF]+[STAR]</td>\n",
       "      <td>454</td>\n",
       "      <td>832</td>\n",
       "      <td>787</td>\n",
       "      <td>481</td>\n",
       "      <td>75</td>\n",
       "    </tr>\n",
       "    <tr>\n",
       "      <th>8</th>\n",
       "      <td>[SBAF]+[STF]</td>\n",
       "      <td>303</td>\n",
       "      <td>486</td>\n",
       "      <td>695</td>\n",
       "      <td>361</td>\n",
       "      <td>54</td>\n",
       "    </tr>\n",
       "    <tr>\n",
       "      <th>9</th>\n",
       "      <td>[SBAF]+[STAR]</td>\n",
       "      <td>2171</td>\n",
       "      <td>7294</td>\n",
       "      <td>8985</td>\n",
       "      <td>3062</td>\n",
       "      <td>646</td>\n",
       "    </tr>\n",
       "    <tr>\n",
       "      <th>10</th>\n",
       "      <td>[STAR]+[STF]</td>\n",
       "      <td>2397</td>\n",
       "      <td>2991</td>\n",
       "      <td>3126</td>\n",
       "      <td>2659</td>\n",
       "      <td>435</td>\n",
       "    </tr>\n",
       "    <tr>\n",
       "      <th>11</th>\n",
       "      <td>[SBAF]+[STAR+STF]</td>\n",
       "      <td>100</td>\n",
       "      <td>127</td>\n",
       "      <td>156</td>\n",
       "      <td>53</td>\n",
       "      <td>13</td>\n",
       "    </tr>\n",
       "    <tr>\n",
       "      <th>12</th>\n",
       "      <td>[STAR]+[SBAF+STF]</td>\n",
       "      <td>8661</td>\n",
       "      <td>14059</td>\n",
       "      <td>12460</td>\n",
       "      <td>11926</td>\n",
       "      <td>1497</td>\n",
       "    </tr>\n",
       "    <tr>\n",
       "      <th>13</th>\n",
       "      <td>[STF]+[STAR+SBAF]</td>\n",
       "      <td>812</td>\n",
       "      <td>1221</td>\n",
       "      <td>885</td>\n",
       "      <td>769</td>\n",
       "      <td>76</td>\n",
       "    </tr>\n",
       "    <tr>\n",
       "      <th>14</th>\n",
       "      <td>Combinaciones atípicas de los 3 servicios</td>\n",
       "      <td>1024</td>\n",
       "      <td>2744</td>\n",
       "      <td>3035</td>\n",
       "      <td>407</td>\n",
       "      <td>67</td>\n",
       "    </tr>\n",
       "    <tr>\n",
       "      <th>15</th>\n",
       "      <td>Ningún servicio contratado</td>\n",
       "      <td>25552</td>\n",
       "      <td>27378</td>\n",
       "      <td>33522</td>\n",
       "      <td>39585</td>\n",
       "      <td>7014</td>\n",
       "    </tr>\n",
       "    <tr>\n",
       "      <th>16</th>\n",
       "      <td>Total de hogares encuestados</td>\n",
       "      <td>80125</td>\n",
       "      <td>118957</td>\n",
       "      <td>135341</td>\n",
       "      <td>133745</td>\n",
       "      <td>21620</td>\n",
       "    </tr>\n",
       "  </tbody>\n",
       "</table>\n",
       "</div>"
      ],
      "text/plain": [
       "                                    Variables   2015    2016    2017    2018  \\\n",
       "0                                        SBAF   3939    7977   12116    7026   \n",
       "1                                         STF   4719    4097    4146    3855   \n",
       "2                                        STAR  11961   17984   18870   21341   \n",
       "3                             [SBAF+STF+STAR]   6977   12036   13116   13977   \n",
       "4                                  [SBAF+STF]   5804    9618   12291   14537   \n",
       "5                                 [SBAF+STAR]   4633    9218   10522   13130   \n",
       "6                                  [STAR+STF]    618     895     629     576   \n",
       "7                         [SBAF]+[STF]+[STAR]    454     832     787     481   \n",
       "8                                [SBAF]+[STF]    303     486     695     361   \n",
       "9                               [SBAF]+[STAR]   2171    7294    8985    3062   \n",
       "10                               [STAR]+[STF]   2397    2991    3126    2659   \n",
       "11                          [SBAF]+[STAR+STF]    100     127     156      53   \n",
       "12                          [STAR]+[SBAF+STF]   8661   14059   12460   11926   \n",
       "13                          [STF]+[STAR+SBAF]    812    1221     885     769   \n",
       "14  Combinaciones atípicas de los 3 servicios   1024    2744    3035     407   \n",
       "15                 Ningún servicio contratado  25552   27378   33522   39585   \n",
       "16               Total de hogares encuestados  80125  118957  135341  133745   \n",
       "\n",
       "     2019  \n",
       "0    1288  \n",
       "1     512  \n",
       "2    3905  \n",
       "3    2296  \n",
       "4    2175  \n",
       "5    1510  \n",
       "6      57  \n",
       "7      75  \n",
       "8      54  \n",
       "9     646  \n",
       "10    435  \n",
       "11     13  \n",
       "12   1497  \n",
       "13     76  \n",
       "14     67  \n",
       "15   7014  \n",
       "16  21620  "
      ]
     },
     "execution_count": 169,
     "metadata": {},
     "output_type": "execute_result"
    }
   ],
   "source": [
    "tabla_anios"
   ]
  },
  {
   "cell_type": "code",
   "execution_count": 170,
   "metadata": {},
   "outputs": [],
   "source": [
    "#Se crea una columna para tener las cifras de 2015 en términos porcentuales respecto al total de hogares encuestados\n",
    "tabla_anios['2015 %']=(tabla_anios['2015']/total_2015)*100"
   ]
  },
  {
   "cell_type": "code",
   "execution_count": 171,
   "metadata": {},
   "outputs": [],
   "source": [
    "#Se crea una columna para tener las cifras de 2016 en términos porcentuales respecto al total de hogares encuestados\n",
    "tabla_anios['2016 %']=(tabla_anios['2016']/total_2016)*100"
   ]
  },
  {
   "cell_type": "code",
   "execution_count": 172,
   "metadata": {},
   "outputs": [],
   "source": [
    "#Se crea una columna para tener las cifras de 2017 en términos porcentuales respecto al total de hogares encuestados\n",
    "tabla_anios['2017 %']=(tabla_anios['2017']/total_2017)*100"
   ]
  },
  {
   "cell_type": "code",
   "execution_count": 173,
   "metadata": {},
   "outputs": [],
   "source": [
    "#Se crea una columna para tener las cifras de 2018 en términos porcentuales respecto al total de hogares encuestados\n",
    "tabla_anios['2018 %']=(tabla_anios['2018']/total_2018)*100"
   ]
  },
  {
   "cell_type": "code",
   "execution_count": 174,
   "metadata": {},
   "outputs": [],
   "source": [
    "#Se crea una columna para tener las cifras de 2019 en términos porcentuales respecto al total de hogares encuestados\n",
    "tabla_anios['2019 %']=(tabla_anios['2019']/total_2019)*100"
   ]
  },
  {
   "cell_type": "code",
   "execution_count": 175,
   "metadata": {},
   "outputs": [
    {
     "data": {
      "text/html": [
       "<div>\n",
       "<style scoped>\n",
       "    .dataframe tbody tr th:only-of-type {\n",
       "        vertical-align: middle;\n",
       "    }\n",
       "\n",
       "    .dataframe tbody tr th {\n",
       "        vertical-align: top;\n",
       "    }\n",
       "\n",
       "    .dataframe thead th {\n",
       "        text-align: right;\n",
       "    }\n",
       "</style>\n",
       "<table border=\"1\" class=\"dataframe\">\n",
       "  <thead>\n",
       "    <tr style=\"text-align: right;\">\n",
       "      <th></th>\n",
       "      <th>Variables</th>\n",
       "      <th>2015</th>\n",
       "      <th>2016</th>\n",
       "      <th>2017</th>\n",
       "      <th>2018</th>\n",
       "      <th>2019</th>\n",
       "      <th>2015 %</th>\n",
       "      <th>2016 %</th>\n",
       "      <th>2017 %</th>\n",
       "      <th>2018 %</th>\n",
       "      <th>2019 %</th>\n",
       "    </tr>\n",
       "  </thead>\n",
       "  <tbody>\n",
       "    <tr>\n",
       "      <th>0</th>\n",
       "      <td>SBAF</td>\n",
       "      <td>3939</td>\n",
       "      <td>7977</td>\n",
       "      <td>12116</td>\n",
       "      <td>7026</td>\n",
       "      <td>1288</td>\n",
       "      <td>4.916069</td>\n",
       "      <td>6.705784</td>\n",
       "      <td>8.952202</td>\n",
       "      <td>5.253280</td>\n",
       "      <td>5.957447</td>\n",
       "    </tr>\n",
       "    <tr>\n",
       "      <th>1</th>\n",
       "      <td>STF</td>\n",
       "      <td>4719</td>\n",
       "      <td>4097</td>\n",
       "      <td>4146</td>\n",
       "      <td>3855</td>\n",
       "      <td>512</td>\n",
       "      <td>5.889548</td>\n",
       "      <td>3.444102</td>\n",
       "      <td>3.063373</td>\n",
       "      <td>2.882351</td>\n",
       "      <td>2.368178</td>\n",
       "    </tr>\n",
       "    <tr>\n",
       "      <th>2</th>\n",
       "      <td>STAR</td>\n",
       "      <td>11961</td>\n",
       "      <td>17984</td>\n",
       "      <td>18870</td>\n",
       "      <td>21341</td>\n",
       "      <td>3905</td>\n",
       "      <td>14.927925</td>\n",
       "      <td>15.118068</td>\n",
       "      <td>13.942560</td>\n",
       "      <td>15.956484</td>\n",
       "      <td>18.061980</td>\n",
       "    </tr>\n",
       "    <tr>\n",
       "      <th>3</th>\n",
       "      <td>[SBAF+STF+STAR]</td>\n",
       "      <td>6977</td>\n",
       "      <td>12036</td>\n",
       "      <td>13116</td>\n",
       "      <td>13977</td>\n",
       "      <td>2296</td>\n",
       "      <td>8.707644</td>\n",
       "      <td>10.117942</td>\n",
       "      <td>9.691077</td>\n",
       "      <td>10.450484</td>\n",
       "      <td>10.619796</td>\n",
       "    </tr>\n",
       "    <tr>\n",
       "      <th>4</th>\n",
       "      <td>[SBAF+STF]</td>\n",
       "      <td>5804</td>\n",
       "      <td>9618</td>\n",
       "      <td>12291</td>\n",
       "      <td>14537</td>\n",
       "      <td>2175</td>\n",
       "      <td>7.243682</td>\n",
       "      <td>8.085275</td>\n",
       "      <td>9.081505</td>\n",
       "      <td>10.869191</td>\n",
       "      <td>10.060130</td>\n",
       "    </tr>\n",
       "    <tr>\n",
       "      <th>5</th>\n",
       "      <td>[SBAF+STAR]</td>\n",
       "      <td>4633</td>\n",
       "      <td>9218</td>\n",
       "      <td>10522</td>\n",
       "      <td>13130</td>\n",
       "      <td>1510</td>\n",
       "      <td>5.782215</td>\n",
       "      <td>7.749019</td>\n",
       "      <td>7.774436</td>\n",
       "      <td>9.817189</td>\n",
       "      <td>6.984274</td>\n",
       "    </tr>\n",
       "    <tr>\n",
       "      <th>6</th>\n",
       "      <td>[STAR+STF]</td>\n",
       "      <td>618</td>\n",
       "      <td>895</td>\n",
       "      <td>629</td>\n",
       "      <td>576</td>\n",
       "      <td>57</td>\n",
       "      <td>0.771295</td>\n",
       "      <td>0.752373</td>\n",
       "      <td>0.464752</td>\n",
       "      <td>0.430670</td>\n",
       "      <td>0.263645</td>\n",
       "    </tr>\n",
       "    <tr>\n",
       "      <th>7</th>\n",
       "      <td>[SBAF]+[STF]+[STAR]</td>\n",
       "      <td>454</td>\n",
       "      <td>832</td>\n",
       "      <td>787</td>\n",
       "      <td>481</td>\n",
       "      <td>75</td>\n",
       "      <td>0.566615</td>\n",
       "      <td>0.699412</td>\n",
       "      <td>0.581494</td>\n",
       "      <td>0.359640</td>\n",
       "      <td>0.346901</td>\n",
       "    </tr>\n",
       "    <tr>\n",
       "      <th>8</th>\n",
       "      <td>[SBAF]+[STF]</td>\n",
       "      <td>303</td>\n",
       "      <td>486</td>\n",
       "      <td>695</td>\n",
       "      <td>361</td>\n",
       "      <td>54</td>\n",
       "      <td>0.378159</td>\n",
       "      <td>0.408551</td>\n",
       "      <td>0.513518</td>\n",
       "      <td>0.269917</td>\n",
       "      <td>0.249769</td>\n",
       "    </tr>\n",
       "    <tr>\n",
       "      <th>9</th>\n",
       "      <td>[SBAF]+[STAR]</td>\n",
       "      <td>2171</td>\n",
       "      <td>7294</td>\n",
       "      <td>8985</td>\n",
       "      <td>3062</td>\n",
       "      <td>646</td>\n",
       "      <td>2.709516</td>\n",
       "      <td>6.131627</td>\n",
       "      <td>6.638786</td>\n",
       "      <td>2.289431</td>\n",
       "      <td>2.987974</td>\n",
       "    </tr>\n",
       "    <tr>\n",
       "      <th>10</th>\n",
       "      <td>[STAR]+[STF]</td>\n",
       "      <td>2397</td>\n",
       "      <td>2991</td>\n",
       "      <td>3126</td>\n",
       "      <td>2659</td>\n",
       "      <td>435</td>\n",
       "      <td>2.991576</td>\n",
       "      <td>2.514354</td>\n",
       "      <td>2.309721</td>\n",
       "      <td>1.988112</td>\n",
       "      <td>2.012026</td>\n",
       "    </tr>\n",
       "    <tr>\n",
       "      <th>11</th>\n",
       "      <td>[SBAF]+[STAR+STF]</td>\n",
       "      <td>100</td>\n",
       "      <td>127</td>\n",
       "      <td>156</td>\n",
       "      <td>53</td>\n",
       "      <td>13</td>\n",
       "      <td>0.124805</td>\n",
       "      <td>0.106761</td>\n",
       "      <td>0.115264</td>\n",
       "      <td>0.039628</td>\n",
       "      <td>0.060130</td>\n",
       "    </tr>\n",
       "    <tr>\n",
       "      <th>12</th>\n",
       "      <td>[STAR]+[SBAF+STF]</td>\n",
       "      <td>8661</td>\n",
       "      <td>14059</td>\n",
       "      <td>12460</td>\n",
       "      <td>11926</td>\n",
       "      <td>1497</td>\n",
       "      <td>10.809360</td>\n",
       "      <td>11.818556</td>\n",
       "      <td>9.206375</td>\n",
       "      <td>8.916969</td>\n",
       "      <td>6.924144</td>\n",
       "    </tr>\n",
       "    <tr>\n",
       "      <th>13</th>\n",
       "      <td>[STF]+[STAR+SBAF]</td>\n",
       "      <td>812</td>\n",
       "      <td>1221</td>\n",
       "      <td>885</td>\n",
       "      <td>769</td>\n",
       "      <td>76</td>\n",
       "      <td>1.013417</td>\n",
       "      <td>1.026421</td>\n",
       "      <td>0.653904</td>\n",
       "      <td>0.574975</td>\n",
       "      <td>0.351526</td>\n",
       "    </tr>\n",
       "    <tr>\n",
       "      <th>14</th>\n",
       "      <td>Combinaciones atípicas de los 3 servicios</td>\n",
       "      <td>1024</td>\n",
       "      <td>2744</td>\n",
       "      <td>3035</td>\n",
       "      <td>407</td>\n",
       "      <td>67</td>\n",
       "      <td>1.278003</td>\n",
       "      <td>2.306716</td>\n",
       "      <td>2.242484</td>\n",
       "      <td>0.304310</td>\n",
       "      <td>0.309898</td>\n",
       "    </tr>\n",
       "    <tr>\n",
       "      <th>15</th>\n",
       "      <td>Ningún servicio contratado</td>\n",
       "      <td>25552</td>\n",
       "      <td>27378</td>\n",
       "      <td>33522</td>\n",
       "      <td>39585</td>\n",
       "      <td>7014</td>\n",
       "      <td>31.890172</td>\n",
       "      <td>23.015039</td>\n",
       "      <td>24.768548</td>\n",
       "      <td>29.597368</td>\n",
       "      <td>32.442183</td>\n",
       "    </tr>\n",
       "    <tr>\n",
       "      <th>16</th>\n",
       "      <td>Total de hogares encuestados</td>\n",
       "      <td>80125</td>\n",
       "      <td>118957</td>\n",
       "      <td>135341</td>\n",
       "      <td>133745</td>\n",
       "      <td>21620</td>\n",
       "      <td>100.000000</td>\n",
       "      <td>100.000000</td>\n",
       "      <td>100.000000</td>\n",
       "      <td>100.000000</td>\n",
       "      <td>100.000000</td>\n",
       "    </tr>\n",
       "  </tbody>\n",
       "</table>\n",
       "</div>"
      ],
      "text/plain": [
       "                                    Variables   2015    2016    2017    2018  \\\n",
       "0                                        SBAF   3939    7977   12116    7026   \n",
       "1                                         STF   4719    4097    4146    3855   \n",
       "2                                        STAR  11961   17984   18870   21341   \n",
       "3                             [SBAF+STF+STAR]   6977   12036   13116   13977   \n",
       "4                                  [SBAF+STF]   5804    9618   12291   14537   \n",
       "5                                 [SBAF+STAR]   4633    9218   10522   13130   \n",
       "6                                  [STAR+STF]    618     895     629     576   \n",
       "7                         [SBAF]+[STF]+[STAR]    454     832     787     481   \n",
       "8                                [SBAF]+[STF]    303     486     695     361   \n",
       "9                               [SBAF]+[STAR]   2171    7294    8985    3062   \n",
       "10                               [STAR]+[STF]   2397    2991    3126    2659   \n",
       "11                          [SBAF]+[STAR+STF]    100     127     156      53   \n",
       "12                          [STAR]+[SBAF+STF]   8661   14059   12460   11926   \n",
       "13                          [STF]+[STAR+SBAF]    812    1221     885     769   \n",
       "14  Combinaciones atípicas de los 3 servicios   1024    2744    3035     407   \n",
       "15                 Ningún servicio contratado  25552   27378   33522   39585   \n",
       "16               Total de hogares encuestados  80125  118957  135341  133745   \n",
       "\n",
       "     2019      2015 %      2016 %      2017 %      2018 %      2019 %  \n",
       "0    1288    4.916069    6.705784    8.952202    5.253280    5.957447  \n",
       "1     512    5.889548    3.444102    3.063373    2.882351    2.368178  \n",
       "2    3905   14.927925   15.118068   13.942560   15.956484   18.061980  \n",
       "3    2296    8.707644   10.117942    9.691077   10.450484   10.619796  \n",
       "4    2175    7.243682    8.085275    9.081505   10.869191   10.060130  \n",
       "5    1510    5.782215    7.749019    7.774436    9.817189    6.984274  \n",
       "6      57    0.771295    0.752373    0.464752    0.430670    0.263645  \n",
       "7      75    0.566615    0.699412    0.581494    0.359640    0.346901  \n",
       "8      54    0.378159    0.408551    0.513518    0.269917    0.249769  \n",
       "9     646    2.709516    6.131627    6.638786    2.289431    2.987974  \n",
       "10    435    2.991576    2.514354    2.309721    1.988112    2.012026  \n",
       "11     13    0.124805    0.106761    0.115264    0.039628    0.060130  \n",
       "12   1497   10.809360   11.818556    9.206375    8.916969    6.924144  \n",
       "13     76    1.013417    1.026421    0.653904    0.574975    0.351526  \n",
       "14     67    1.278003    2.306716    2.242484    0.304310    0.309898  \n",
       "15   7014   31.890172   23.015039   24.768548   29.597368   32.442183  \n",
       "16  21620  100.000000  100.000000  100.000000  100.000000  100.000000  "
      ]
     },
     "execution_count": 175,
     "metadata": {},
     "output_type": "execute_result"
    }
   ],
   "source": [
    "tabla_anios"
   ]
  },
  {
   "cell_type": "code",
   "execution_count": 176,
   "metadata": {},
   "outputs": [],
   "source": [
    "#Creamos un nuevo dataframe solo con las variables porcentuales respecto al total de hogares encuestados\n",
    "tabla_anios_perc=tabla_anios[['Variables','2015 %','2016 %','2017 %','2018 %','2019 %']][0:16]"
   ]
  },
  {
   "cell_type": "code",
   "execution_count": 177,
   "metadata": {},
   "outputs": [
    {
     "data": {
      "text/html": [
       "<div>\n",
       "<style scoped>\n",
       "    .dataframe tbody tr th:only-of-type {\n",
       "        vertical-align: middle;\n",
       "    }\n",
       "\n",
       "    .dataframe tbody tr th {\n",
       "        vertical-align: top;\n",
       "    }\n",
       "\n",
       "    .dataframe thead th {\n",
       "        text-align: right;\n",
       "    }\n",
       "</style>\n",
       "<table border=\"1\" class=\"dataframe\">\n",
       "  <thead>\n",
       "    <tr style=\"text-align: right;\">\n",
       "      <th></th>\n",
       "      <th>Variables</th>\n",
       "      <th>2015 %</th>\n",
       "      <th>2016 %</th>\n",
       "      <th>2017 %</th>\n",
       "      <th>2018 %</th>\n",
       "      <th>2019 %</th>\n",
       "    </tr>\n",
       "  </thead>\n",
       "  <tbody>\n",
       "    <tr>\n",
       "      <th>0</th>\n",
       "      <td>SBAF</td>\n",
       "      <td>4.916069</td>\n",
       "      <td>6.705784</td>\n",
       "      <td>8.952202</td>\n",
       "      <td>5.253280</td>\n",
       "      <td>5.957447</td>\n",
       "    </tr>\n",
       "    <tr>\n",
       "      <th>1</th>\n",
       "      <td>STF</td>\n",
       "      <td>5.889548</td>\n",
       "      <td>3.444102</td>\n",
       "      <td>3.063373</td>\n",
       "      <td>2.882351</td>\n",
       "      <td>2.368178</td>\n",
       "    </tr>\n",
       "    <tr>\n",
       "      <th>2</th>\n",
       "      <td>STAR</td>\n",
       "      <td>14.927925</td>\n",
       "      <td>15.118068</td>\n",
       "      <td>13.942560</td>\n",
       "      <td>15.956484</td>\n",
       "      <td>18.061980</td>\n",
       "    </tr>\n",
       "    <tr>\n",
       "      <th>3</th>\n",
       "      <td>[SBAF+STF+STAR]</td>\n",
       "      <td>8.707644</td>\n",
       "      <td>10.117942</td>\n",
       "      <td>9.691077</td>\n",
       "      <td>10.450484</td>\n",
       "      <td>10.619796</td>\n",
       "    </tr>\n",
       "    <tr>\n",
       "      <th>4</th>\n",
       "      <td>[SBAF+STF]</td>\n",
       "      <td>7.243682</td>\n",
       "      <td>8.085275</td>\n",
       "      <td>9.081505</td>\n",
       "      <td>10.869191</td>\n",
       "      <td>10.060130</td>\n",
       "    </tr>\n",
       "    <tr>\n",
       "      <th>5</th>\n",
       "      <td>[SBAF+STAR]</td>\n",
       "      <td>5.782215</td>\n",
       "      <td>7.749019</td>\n",
       "      <td>7.774436</td>\n",
       "      <td>9.817189</td>\n",
       "      <td>6.984274</td>\n",
       "    </tr>\n",
       "    <tr>\n",
       "      <th>6</th>\n",
       "      <td>[STAR+STF]</td>\n",
       "      <td>0.771295</td>\n",
       "      <td>0.752373</td>\n",
       "      <td>0.464752</td>\n",
       "      <td>0.430670</td>\n",
       "      <td>0.263645</td>\n",
       "    </tr>\n",
       "    <tr>\n",
       "      <th>7</th>\n",
       "      <td>[SBAF]+[STF]+[STAR]</td>\n",
       "      <td>0.566615</td>\n",
       "      <td>0.699412</td>\n",
       "      <td>0.581494</td>\n",
       "      <td>0.359640</td>\n",
       "      <td>0.346901</td>\n",
       "    </tr>\n",
       "    <tr>\n",
       "      <th>8</th>\n",
       "      <td>[SBAF]+[STF]</td>\n",
       "      <td>0.378159</td>\n",
       "      <td>0.408551</td>\n",
       "      <td>0.513518</td>\n",
       "      <td>0.269917</td>\n",
       "      <td>0.249769</td>\n",
       "    </tr>\n",
       "    <tr>\n",
       "      <th>9</th>\n",
       "      <td>[SBAF]+[STAR]</td>\n",
       "      <td>2.709516</td>\n",
       "      <td>6.131627</td>\n",
       "      <td>6.638786</td>\n",
       "      <td>2.289431</td>\n",
       "      <td>2.987974</td>\n",
       "    </tr>\n",
       "    <tr>\n",
       "      <th>10</th>\n",
       "      <td>[STAR]+[STF]</td>\n",
       "      <td>2.991576</td>\n",
       "      <td>2.514354</td>\n",
       "      <td>2.309721</td>\n",
       "      <td>1.988112</td>\n",
       "      <td>2.012026</td>\n",
       "    </tr>\n",
       "    <tr>\n",
       "      <th>11</th>\n",
       "      <td>[SBAF]+[STAR+STF]</td>\n",
       "      <td>0.124805</td>\n",
       "      <td>0.106761</td>\n",
       "      <td>0.115264</td>\n",
       "      <td>0.039628</td>\n",
       "      <td>0.060130</td>\n",
       "    </tr>\n",
       "    <tr>\n",
       "      <th>12</th>\n",
       "      <td>[STAR]+[SBAF+STF]</td>\n",
       "      <td>10.809360</td>\n",
       "      <td>11.818556</td>\n",
       "      <td>9.206375</td>\n",
       "      <td>8.916969</td>\n",
       "      <td>6.924144</td>\n",
       "    </tr>\n",
       "    <tr>\n",
       "      <th>13</th>\n",
       "      <td>[STF]+[STAR+SBAF]</td>\n",
       "      <td>1.013417</td>\n",
       "      <td>1.026421</td>\n",
       "      <td>0.653904</td>\n",
       "      <td>0.574975</td>\n",
       "      <td>0.351526</td>\n",
       "    </tr>\n",
       "    <tr>\n",
       "      <th>14</th>\n",
       "      <td>Combinaciones atípicas de los 3 servicios</td>\n",
       "      <td>1.278003</td>\n",
       "      <td>2.306716</td>\n",
       "      <td>2.242484</td>\n",
       "      <td>0.304310</td>\n",
       "      <td>0.309898</td>\n",
       "    </tr>\n",
       "    <tr>\n",
       "      <th>15</th>\n",
       "      <td>Ningún servicio contratado</td>\n",
       "      <td>31.890172</td>\n",
       "      <td>23.015039</td>\n",
       "      <td>24.768548</td>\n",
       "      <td>29.597368</td>\n",
       "      <td>32.442183</td>\n",
       "    </tr>\n",
       "  </tbody>\n",
       "</table>\n",
       "</div>"
      ],
      "text/plain": [
       "                                    Variables     2015 %     2016 %  \\\n",
       "0                                        SBAF   4.916069   6.705784   \n",
       "1                                         STF   5.889548   3.444102   \n",
       "2                                        STAR  14.927925  15.118068   \n",
       "3                             [SBAF+STF+STAR]   8.707644  10.117942   \n",
       "4                                  [SBAF+STF]   7.243682   8.085275   \n",
       "5                                 [SBAF+STAR]   5.782215   7.749019   \n",
       "6                                  [STAR+STF]   0.771295   0.752373   \n",
       "7                         [SBAF]+[STF]+[STAR]   0.566615   0.699412   \n",
       "8                                [SBAF]+[STF]   0.378159   0.408551   \n",
       "9                               [SBAF]+[STAR]   2.709516   6.131627   \n",
       "10                               [STAR]+[STF]   2.991576   2.514354   \n",
       "11                          [SBAF]+[STAR+STF]   0.124805   0.106761   \n",
       "12                          [STAR]+[SBAF+STF]  10.809360  11.818556   \n",
       "13                          [STF]+[STAR+SBAF]   1.013417   1.026421   \n",
       "14  Combinaciones atípicas de los 3 servicios   1.278003   2.306716   \n",
       "15                 Ningún servicio contratado  31.890172  23.015039   \n",
       "\n",
       "       2017 %     2018 %     2019 %  \n",
       "0    8.952202   5.253280   5.957447  \n",
       "1    3.063373   2.882351   2.368178  \n",
       "2   13.942560  15.956484  18.061980  \n",
       "3    9.691077  10.450484  10.619796  \n",
       "4    9.081505  10.869191  10.060130  \n",
       "5    7.774436   9.817189   6.984274  \n",
       "6    0.464752   0.430670   0.263645  \n",
       "7    0.581494   0.359640   0.346901  \n",
       "8    0.513518   0.269917   0.249769  \n",
       "9    6.638786   2.289431   2.987974  \n",
       "10   2.309721   1.988112   2.012026  \n",
       "11   0.115264   0.039628   0.060130  \n",
       "12   9.206375   8.916969   6.924144  \n",
       "13   0.653904   0.574975   0.351526  \n",
       "14   2.242484   0.304310   0.309898  \n",
       "15  24.768548  29.597368  32.442183  "
      ]
     },
     "execution_count": 177,
     "metadata": {},
     "output_type": "execute_result"
    }
   ],
   "source": [
    "tabla_anios_perc"
   ]
  },
  {
   "cell_type": "code",
   "execution_count": 178,
   "metadata": {},
   "outputs": [
    {
     "data": {
      "text/html": [
       "<div>\n",
       "<style scoped>\n",
       "    .dataframe tbody tr th:only-of-type {\n",
       "        vertical-align: middle;\n",
       "    }\n",
       "\n",
       "    .dataframe tbody tr th {\n",
       "        vertical-align: top;\n",
       "    }\n",
       "\n",
       "    .dataframe thead th {\n",
       "        text-align: right;\n",
       "    }\n",
       "</style>\n",
       "<table border=\"1\" class=\"dataframe\">\n",
       "  <thead>\n",
       "    <tr style=\"text-align: right;\">\n",
       "      <th></th>\n",
       "      <th>Variables</th>\n",
       "      <th>2015 %</th>\n",
       "      <th>2016 %</th>\n",
       "      <th>2017 %</th>\n",
       "      <th>2018 %</th>\n",
       "      <th>2019 %</th>\n",
       "    </tr>\n",
       "  </thead>\n",
       "  <tbody>\n",
       "    <tr>\n",
       "      <th>15</th>\n",
       "      <td>Ningún servicio contratado</td>\n",
       "      <td>31.890172</td>\n",
       "      <td>23.015039</td>\n",
       "      <td>24.768548</td>\n",
       "      <td>29.597368</td>\n",
       "      <td>32.442183</td>\n",
       "    </tr>\n",
       "    <tr>\n",
       "      <th>2</th>\n",
       "      <td>STAR</td>\n",
       "      <td>14.927925</td>\n",
       "      <td>15.118068</td>\n",
       "      <td>13.942560</td>\n",
       "      <td>15.956484</td>\n",
       "      <td>18.061980</td>\n",
       "    </tr>\n",
       "    <tr>\n",
       "      <th>3</th>\n",
       "      <td>[SBAF+STF+STAR]</td>\n",
       "      <td>8.707644</td>\n",
       "      <td>10.117942</td>\n",
       "      <td>9.691077</td>\n",
       "      <td>10.450484</td>\n",
       "      <td>10.619796</td>\n",
       "    </tr>\n",
       "    <tr>\n",
       "      <th>4</th>\n",
       "      <td>[SBAF+STF]</td>\n",
       "      <td>7.243682</td>\n",
       "      <td>8.085275</td>\n",
       "      <td>9.081505</td>\n",
       "      <td>10.869191</td>\n",
       "      <td>10.060130</td>\n",
       "    </tr>\n",
       "    <tr>\n",
       "      <th>5</th>\n",
       "      <td>[SBAF+STAR]</td>\n",
       "      <td>5.782215</td>\n",
       "      <td>7.749019</td>\n",
       "      <td>7.774436</td>\n",
       "      <td>9.817189</td>\n",
       "      <td>6.984274</td>\n",
       "    </tr>\n",
       "    <tr>\n",
       "      <th>12</th>\n",
       "      <td>[STAR]+[SBAF+STF]</td>\n",
       "      <td>10.809360</td>\n",
       "      <td>11.818556</td>\n",
       "      <td>9.206375</td>\n",
       "      <td>8.916969</td>\n",
       "      <td>6.924144</td>\n",
       "    </tr>\n",
       "    <tr>\n",
       "      <th>0</th>\n",
       "      <td>SBAF</td>\n",
       "      <td>4.916069</td>\n",
       "      <td>6.705784</td>\n",
       "      <td>8.952202</td>\n",
       "      <td>5.253280</td>\n",
       "      <td>5.957447</td>\n",
       "    </tr>\n",
       "    <tr>\n",
       "      <th>9</th>\n",
       "      <td>[SBAF]+[STAR]</td>\n",
       "      <td>2.709516</td>\n",
       "      <td>6.131627</td>\n",
       "      <td>6.638786</td>\n",
       "      <td>2.289431</td>\n",
       "      <td>2.987974</td>\n",
       "    </tr>\n",
       "    <tr>\n",
       "      <th>1</th>\n",
       "      <td>STF</td>\n",
       "      <td>5.889548</td>\n",
       "      <td>3.444102</td>\n",
       "      <td>3.063373</td>\n",
       "      <td>2.882351</td>\n",
       "      <td>2.368178</td>\n",
       "    </tr>\n",
       "    <tr>\n",
       "      <th>10</th>\n",
       "      <td>[STAR]+[STF]</td>\n",
       "      <td>2.991576</td>\n",
       "      <td>2.514354</td>\n",
       "      <td>2.309721</td>\n",
       "      <td>1.988112</td>\n",
       "      <td>2.012026</td>\n",
       "    </tr>\n",
       "    <tr>\n",
       "      <th>13</th>\n",
       "      <td>[STF]+[STAR+SBAF]</td>\n",
       "      <td>1.013417</td>\n",
       "      <td>1.026421</td>\n",
       "      <td>0.653904</td>\n",
       "      <td>0.574975</td>\n",
       "      <td>0.351526</td>\n",
       "    </tr>\n",
       "    <tr>\n",
       "      <th>7</th>\n",
       "      <td>[SBAF]+[STF]+[STAR]</td>\n",
       "      <td>0.566615</td>\n",
       "      <td>0.699412</td>\n",
       "      <td>0.581494</td>\n",
       "      <td>0.359640</td>\n",
       "      <td>0.346901</td>\n",
       "    </tr>\n",
       "    <tr>\n",
       "      <th>14</th>\n",
       "      <td>Combinaciones atípicas de los 3 servicios</td>\n",
       "      <td>1.278003</td>\n",
       "      <td>2.306716</td>\n",
       "      <td>2.242484</td>\n",
       "      <td>0.304310</td>\n",
       "      <td>0.309898</td>\n",
       "    </tr>\n",
       "    <tr>\n",
       "      <th>6</th>\n",
       "      <td>[STAR+STF]</td>\n",
       "      <td>0.771295</td>\n",
       "      <td>0.752373</td>\n",
       "      <td>0.464752</td>\n",
       "      <td>0.430670</td>\n",
       "      <td>0.263645</td>\n",
       "    </tr>\n",
       "    <tr>\n",
       "      <th>8</th>\n",
       "      <td>[SBAF]+[STF]</td>\n",
       "      <td>0.378159</td>\n",
       "      <td>0.408551</td>\n",
       "      <td>0.513518</td>\n",
       "      <td>0.269917</td>\n",
       "      <td>0.249769</td>\n",
       "    </tr>\n",
       "    <tr>\n",
       "      <th>11</th>\n",
       "      <td>[SBAF]+[STAR+STF]</td>\n",
       "      <td>0.124805</td>\n",
       "      <td>0.106761</td>\n",
       "      <td>0.115264</td>\n",
       "      <td>0.039628</td>\n",
       "      <td>0.060130</td>\n",
       "    </tr>\n",
       "  </tbody>\n",
       "</table>\n",
       "</div>"
      ],
      "text/plain": [
       "                                    Variables     2015 %     2016 %  \\\n",
       "15                 Ningún servicio contratado  31.890172  23.015039   \n",
       "2                                        STAR  14.927925  15.118068   \n",
       "3                             [SBAF+STF+STAR]   8.707644  10.117942   \n",
       "4                                  [SBAF+STF]   7.243682   8.085275   \n",
       "5                                 [SBAF+STAR]   5.782215   7.749019   \n",
       "12                          [STAR]+[SBAF+STF]  10.809360  11.818556   \n",
       "0                                        SBAF   4.916069   6.705784   \n",
       "9                               [SBAF]+[STAR]   2.709516   6.131627   \n",
       "1                                         STF   5.889548   3.444102   \n",
       "10                               [STAR]+[STF]   2.991576   2.514354   \n",
       "13                          [STF]+[STAR+SBAF]   1.013417   1.026421   \n",
       "7                         [SBAF]+[STF]+[STAR]   0.566615   0.699412   \n",
       "14  Combinaciones atípicas de los 3 servicios   1.278003   2.306716   \n",
       "6                                  [STAR+STF]   0.771295   0.752373   \n",
       "8                                [SBAF]+[STF]   0.378159   0.408551   \n",
       "11                          [SBAF]+[STAR+STF]   0.124805   0.106761   \n",
       "\n",
       "       2017 %     2018 %     2019 %  \n",
       "15  24.768548  29.597368  32.442183  \n",
       "2   13.942560  15.956484  18.061980  \n",
       "3    9.691077  10.450484  10.619796  \n",
       "4    9.081505  10.869191  10.060130  \n",
       "5    7.774436   9.817189   6.984274  \n",
       "12   9.206375   8.916969   6.924144  \n",
       "0    8.952202   5.253280   5.957447  \n",
       "9    6.638786   2.289431   2.987974  \n",
       "1    3.063373   2.882351   2.368178  \n",
       "10   2.309721   1.988112   2.012026  \n",
       "13   0.653904   0.574975   0.351526  \n",
       "7    0.581494   0.359640   0.346901  \n",
       "14   2.242484   0.304310   0.309898  \n",
       "6    0.464752   0.430670   0.263645  \n",
       "8    0.513518   0.269917   0.249769  \n",
       "11   0.115264   0.039628   0.060130  "
      ]
     },
     "execution_count": 178,
     "metadata": {},
     "output_type": "execute_result"
    }
   ],
   "source": [
    "#Se ordena el dataframe de mayor a menor para conocer los servicios de telecomunicaciones fijas que son más contratados por los hogares mexicanos \n",
    "tabla_anios_sort=tabla_anios_perc.sort_values(by='2019 %',ascending=False)\n",
    "tabla_anios_sort"
   ]
  },
  {
   "cell_type": "code",
   "execution_count": 179,
   "metadata": {},
   "outputs": [
    {
     "data": {
      "text/plain": [
       "<Figure size 1440x720 with 0 Axes>"
      ]
     },
     "metadata": {},
     "output_type": "display_data"
    },
    {
     "data": {
      "image/png": "[encoded data removed]",
      "text/plain": [
       "<Figure size 432x288 with 1 Axes>"
      ]
     },
     "metadata": {
      "needs_background": "light"
     },
     "output_type": "display_data"
    }
   ],
   "source": [
    "#se realiza una gráfica de barras horizontal para mostrar visualmente los servicios de telecomunicaciones fijas que son más contratados por los hogares mexicanos \n",
    "plt.figure(figsize=(20,10))\n",
    "tabla_anios_sort=tabla_anios_perc.sort_values(by='2019 %',ascending=False)\n",
    "tabla_2019_sort=tabla_anios_sort[['Variables','2019 %']]\n",
    "tabla_2019_sorted=tabla_2019_sort.sort_values(by='2019 %')\n",
    "tabla_2019_sorted=tabla_2019_sorted[:15]\n",
    "tabla_2019_sorted.plot(kind='barh',y='2019 %',x='Variables',color='r',legend=None)\n",
    "plt.xlabel('% de hogares con el servicio contratado',size='large')\n",
    "plt.ylabel('Servicios',size='large')\n",
    "plt.title('Servicios contratados de telecomunicaciones fijas en 2019',size='xx-large')\n",
    "plt.savefig('barras_h_STF.jpg',dpi=300, bbox_inches = \"tight\")\n"
   ]
  },
  {
   "cell_type": "code",
   "execution_count": 180,
   "metadata": {},
   "outputs": [],
   "source": [
    "#En la gráfica de arriba se puede observar que el servicio que más contratado por los hogares mexicanos en 2019 es el de telvisión de paga en single (18.1%), seguido por el paquete integrado de los tres servicios [SBAF+STF+STAR] (10.6%) y el dobleplay de [SBAF+STF] (10.1%). "
   ]
  },
  {
   "cell_type": "code",
   "execution_count": 181,
   "metadata": {},
   "outputs": [
    {
     "data": {
      "text/html": [
       "<div>\n",
       "<style scoped>\n",
       "    .dataframe tbody tr th:only-of-type {\n",
       "        vertical-align: middle;\n",
       "    }\n",
       "\n",
       "    .dataframe tbody tr th {\n",
       "        vertical-align: top;\n",
       "    }\n",
       "\n",
       "    .dataframe thead th {\n",
       "        text-align: right;\n",
       "    }\n",
       "</style>\n",
       "<table border=\"1\" class=\"dataframe\">\n",
       "  <thead>\n",
       "    <tr style=\"text-align: right;\">\n",
       "      <th></th>\n",
       "      <th>0</th>\n",
       "      <th>1</th>\n",
       "      <th>2</th>\n",
       "      <th>3</th>\n",
       "      <th>4</th>\n",
       "      <th>5</th>\n",
       "      <th>6</th>\n",
       "      <th>7</th>\n",
       "      <th>8</th>\n",
       "      <th>9</th>\n",
       "      <th>10</th>\n",
       "      <th>11</th>\n",
       "      <th>12</th>\n",
       "      <th>13</th>\n",
       "      <th>14</th>\n",
       "      <th>15</th>\n",
       "      <th>16</th>\n",
       "    </tr>\n",
       "  </thead>\n",
       "  <tbody>\n",
       "    <tr>\n",
       "      <th>Variables</th>\n",
       "      <td>SBAF</td>\n",
       "      <td>STF</td>\n",
       "      <td>STAR</td>\n",
       "      <td>[SBAF+STF+STAR]</td>\n",
       "      <td>[SBAF+STF]</td>\n",
       "      <td>[SBAF+STAR]</td>\n",
       "      <td>[STAR+STF]</td>\n",
       "      <td>[SBAF]+[STF]+[STAR]</td>\n",
       "      <td>[SBAF]+[STF]</td>\n",
       "      <td>[SBAF]+[STAR]</td>\n",
       "      <td>[STAR]+[STF]</td>\n",
       "      <td>[SBAF]+[STAR+STF]</td>\n",
       "      <td>[STAR]+[SBAF+STF]</td>\n",
       "      <td>[STF]+[STAR+SBAF]</td>\n",
       "      <td>Combinaciones atípicas de los 3 servicios</td>\n",
       "      <td>Ningún servicio contratado</td>\n",
       "      <td>Total de hogares encuestados</td>\n",
       "    </tr>\n",
       "    <tr>\n",
       "      <th>2015</th>\n",
       "      <td>3939</td>\n",
       "      <td>4719</td>\n",
       "      <td>11961</td>\n",
       "      <td>6977</td>\n",
       "      <td>5804</td>\n",
       "      <td>4633</td>\n",
       "      <td>618</td>\n",
       "      <td>454</td>\n",
       "      <td>303</td>\n",
       "      <td>2171</td>\n",
       "      <td>2397</td>\n",
       "      <td>100</td>\n",
       "      <td>8661</td>\n",
       "      <td>812</td>\n",
       "      <td>1024</td>\n",
       "      <td>25552</td>\n",
       "      <td>80125</td>\n",
       "    </tr>\n",
       "    <tr>\n",
       "      <th>2016</th>\n",
       "      <td>7977</td>\n",
       "      <td>4097</td>\n",
       "      <td>17984</td>\n",
       "      <td>12036</td>\n",
       "      <td>9618</td>\n",
       "      <td>9218</td>\n",
       "      <td>895</td>\n",
       "      <td>832</td>\n",
       "      <td>486</td>\n",
       "      <td>7294</td>\n",
       "      <td>2991</td>\n",
       "      <td>127</td>\n",
       "      <td>14059</td>\n",
       "      <td>1221</td>\n",
       "      <td>2744</td>\n",
       "      <td>27378</td>\n",
       "      <td>118957</td>\n",
       "    </tr>\n",
       "    <tr>\n",
       "      <th>2017</th>\n",
       "      <td>12116</td>\n",
       "      <td>4146</td>\n",
       "      <td>18870</td>\n",
       "      <td>13116</td>\n",
       "      <td>12291</td>\n",
       "      <td>10522</td>\n",
       "      <td>629</td>\n",
       "      <td>787</td>\n",
       "      <td>695</td>\n",
       "      <td>8985</td>\n",
       "      <td>3126</td>\n",
       "      <td>156</td>\n",
       "      <td>12460</td>\n",
       "      <td>885</td>\n",
       "      <td>3035</td>\n",
       "      <td>33522</td>\n",
       "      <td>135341</td>\n",
       "    </tr>\n",
       "    <tr>\n",
       "      <th>2018</th>\n",
       "      <td>7026</td>\n",
       "      <td>3855</td>\n",
       "      <td>21341</td>\n",
       "      <td>13977</td>\n",
       "      <td>14537</td>\n",
       "      <td>13130</td>\n",
       "      <td>576</td>\n",
       "      <td>481</td>\n",
       "      <td>361</td>\n",
       "      <td>3062</td>\n",
       "      <td>2659</td>\n",
       "      <td>53</td>\n",
       "      <td>11926</td>\n",
       "      <td>769</td>\n",
       "      <td>407</td>\n",
       "      <td>39585</td>\n",
       "      <td>133745</td>\n",
       "    </tr>\n",
       "    <tr>\n",
       "      <th>2019</th>\n",
       "      <td>1288</td>\n",
       "      <td>512</td>\n",
       "      <td>3905</td>\n",
       "      <td>2296</td>\n",
       "      <td>2175</td>\n",
       "      <td>1510</td>\n",
       "      <td>57</td>\n",
       "      <td>75</td>\n",
       "      <td>54</td>\n",
       "      <td>646</td>\n",
       "      <td>435</td>\n",
       "      <td>13</td>\n",
       "      <td>1497</td>\n",
       "      <td>76</td>\n",
       "      <td>67</td>\n",
       "      <td>7014</td>\n",
       "      <td>21620</td>\n",
       "    </tr>\n",
       "    <tr>\n",
       "      <th>2015 %</th>\n",
       "      <td>4.91607</td>\n",
       "      <td>5.88955</td>\n",
       "      <td>14.9279</td>\n",
       "      <td>8.70764</td>\n",
       "      <td>7.24368</td>\n",
       "      <td>5.78222</td>\n",
       "      <td>0.771295</td>\n",
       "      <td>0.566615</td>\n",
       "      <td>0.378159</td>\n",
       "      <td>2.70952</td>\n",
       "      <td>2.99158</td>\n",
       "      <td>0.124805</td>\n",
       "      <td>10.8094</td>\n",
       "      <td>1.01342</td>\n",
       "      <td>1.278</td>\n",
       "      <td>31.8902</td>\n",
       "      <td>100</td>\n",
       "    </tr>\n",
       "    <tr>\n",
       "      <th>2016 %</th>\n",
       "      <td>6.70578</td>\n",
       "      <td>3.4441</td>\n",
       "      <td>15.1181</td>\n",
       "      <td>10.1179</td>\n",
       "      <td>8.08527</td>\n",
       "      <td>7.74902</td>\n",
       "      <td>0.752373</td>\n",
       "      <td>0.699412</td>\n",
       "      <td>0.408551</td>\n",
       "      <td>6.13163</td>\n",
       "      <td>2.51435</td>\n",
       "      <td>0.106761</td>\n",
       "      <td>11.8186</td>\n",
       "      <td>1.02642</td>\n",
       "      <td>2.30672</td>\n",
       "      <td>23.015</td>\n",
       "      <td>100</td>\n",
       "    </tr>\n",
       "    <tr>\n",
       "      <th>2017 %</th>\n",
       "      <td>8.9522</td>\n",
       "      <td>3.06337</td>\n",
       "      <td>13.9426</td>\n",
       "      <td>9.69108</td>\n",
       "      <td>9.08151</td>\n",
       "      <td>7.77444</td>\n",
       "      <td>0.464752</td>\n",
       "      <td>0.581494</td>\n",
       "      <td>0.513518</td>\n",
       "      <td>6.63879</td>\n",
       "      <td>2.30972</td>\n",
       "      <td>0.115264</td>\n",
       "      <td>9.20638</td>\n",
       "      <td>0.653904</td>\n",
       "      <td>2.24248</td>\n",
       "      <td>24.7685</td>\n",
       "      <td>100</td>\n",
       "    </tr>\n",
       "    <tr>\n",
       "      <th>2018 %</th>\n",
       "      <td>5.25328</td>\n",
       "      <td>2.88235</td>\n",
       "      <td>15.9565</td>\n",
       "      <td>10.4505</td>\n",
       "      <td>10.8692</td>\n",
       "      <td>9.81719</td>\n",
       "      <td>0.43067</td>\n",
       "      <td>0.35964</td>\n",
       "      <td>0.269917</td>\n",
       "      <td>2.28943</td>\n",
       "      <td>1.98811</td>\n",
       "      <td>0.0396276</td>\n",
       "      <td>8.91697</td>\n",
       "      <td>0.574975</td>\n",
       "      <td>0.30431</td>\n",
       "      <td>29.5974</td>\n",
       "      <td>100</td>\n",
       "    </tr>\n",
       "    <tr>\n",
       "      <th>2019 %</th>\n",
       "      <td>5.95745</td>\n",
       "      <td>2.36818</td>\n",
       "      <td>18.062</td>\n",
       "      <td>10.6198</td>\n",
       "      <td>10.0601</td>\n",
       "      <td>6.98427</td>\n",
       "      <td>0.263645</td>\n",
       "      <td>0.346901</td>\n",
       "      <td>0.249769</td>\n",
       "      <td>2.98797</td>\n",
       "      <td>2.01203</td>\n",
       "      <td>0.0601295</td>\n",
       "      <td>6.92414</td>\n",
       "      <td>0.351526</td>\n",
       "      <td>0.309898</td>\n",
       "      <td>32.4422</td>\n",
       "      <td>100</td>\n",
       "    </tr>\n",
       "  </tbody>\n",
       "</table>\n",
       "</div>"
      ],
      "text/plain": [
       "                 0        1        2                3           4  \\\n",
       "Variables     SBAF      STF     STAR  [SBAF+STF+STAR]  [SBAF+STF]   \n",
       "2015          3939     4719    11961             6977        5804   \n",
       "2016          7977     4097    17984            12036        9618   \n",
       "2017         12116     4146    18870            13116       12291   \n",
       "2018          7026     3855    21341            13977       14537   \n",
       "2019          1288      512     3905             2296        2175   \n",
       "2015 %     4.91607  5.88955  14.9279          8.70764     7.24368   \n",
       "2016 %     6.70578   3.4441  15.1181          10.1179     8.08527   \n",
       "2017 %      8.9522  3.06337  13.9426          9.69108     9.08151   \n",
       "2018 %     5.25328  2.88235  15.9565          10.4505     10.8692   \n",
       "2019 %     5.95745  2.36818   18.062          10.6198     10.0601   \n",
       "\n",
       "                     5           6                    7             8  \\\n",
       "Variables  [SBAF+STAR]  [STAR+STF]  [SBAF]+[STF]+[STAR]  [SBAF]+[STF]   \n",
       "2015              4633         618                  454           303   \n",
       "2016              9218         895                  832           486   \n",
       "2017             10522         629                  787           695   \n",
       "2018             13130         576                  481           361   \n",
       "2019              1510          57                   75            54   \n",
       "2015 %         5.78222    0.771295             0.566615      0.378159   \n",
       "2016 %         7.74902    0.752373             0.699412      0.408551   \n",
       "2017 %         7.77444    0.464752             0.581494      0.513518   \n",
       "2018 %         9.81719     0.43067              0.35964      0.269917   \n",
       "2019 %         6.98427    0.263645             0.346901      0.249769   \n",
       "\n",
       "                       9            10                 11                 12  \\\n",
       "Variables  [SBAF]+[STAR]  [STAR]+[STF]  [SBAF]+[STAR+STF]  [STAR]+[SBAF+STF]   \n",
       "2015                2171          2397                100               8661   \n",
       "2016                7294          2991                127              14059   \n",
       "2017                8985          3126                156              12460   \n",
       "2018                3062          2659                 53              11926   \n",
       "2019                 646           435                 13               1497   \n",
       "2015 %           2.70952       2.99158           0.124805            10.8094   \n",
       "2016 %           6.13163       2.51435           0.106761            11.8186   \n",
       "2017 %           6.63879       2.30972           0.115264            9.20638   \n",
       "2018 %           2.28943       1.98811          0.0396276            8.91697   \n",
       "2019 %           2.98797       2.01203          0.0601295            6.92414   \n",
       "\n",
       "                          13                                         14  \\\n",
       "Variables  [STF]+[STAR+SBAF]  Combinaciones atípicas de los 3 servicios   \n",
       "2015                     812                                       1024   \n",
       "2016                    1221                                       2744   \n",
       "2017                     885                                       3035   \n",
       "2018                     769                                        407   \n",
       "2019                      76                                         67   \n",
       "2015 %               1.01342                                      1.278   \n",
       "2016 %               1.02642                                    2.30672   \n",
       "2017 %              0.653904                                    2.24248   \n",
       "2018 %              0.574975                                    0.30431   \n",
       "2019 %              0.351526                                   0.309898   \n",
       "\n",
       "                                   15                            16  \n",
       "Variables  Ningún servicio contratado  Total de hogares encuestados  \n",
       "2015                            25552                         80125  \n",
       "2016                            27378                        118957  \n",
       "2017                            33522                        135341  \n",
       "2018                            39585                        133745  \n",
       "2019                             7014                         21620  \n",
       "2015 %                        31.8902                           100  \n",
       "2016 %                         23.015                           100  \n",
       "2017 %                        24.7685                           100  \n",
       "2018 %                        29.5974                           100  \n",
       "2019 %                        32.4422                           100  "
      ]
     },
     "execution_count": 181,
     "metadata": {},
     "output_type": "execute_result"
    }
   ],
   "source": [
    "#Se obtiene el dataframe transpuesto de la \"tabla_t\" para poder manipularla de mejor manera\n",
    "tabla_t=tabla_anios.T\n",
    "tabla_t"
   ]
  },
  {
   "cell_type": "code",
   "execution_count": 182,
   "metadata": {},
   "outputs": [
    {
     "data": {
      "text/html": [
       "<div>\n",
       "<style scoped>\n",
       "    .dataframe tbody tr th:only-of-type {\n",
       "        vertical-align: middle;\n",
       "    }\n",
       "\n",
       "    .dataframe tbody tr th {\n",
       "        vertical-align: top;\n",
       "    }\n",
       "\n",
       "    .dataframe thead th {\n",
       "        text-align: right;\n",
       "    }\n",
       "</style>\n",
       "<table border=\"1\" class=\"dataframe\">\n",
       "  <thead>\n",
       "    <tr style=\"text-align: right;\">\n",
       "      <th></th>\n",
       "      <th>index</th>\n",
       "      <th>0</th>\n",
       "      <th>1</th>\n",
       "      <th>2</th>\n",
       "      <th>3</th>\n",
       "      <th>4</th>\n",
       "      <th>5</th>\n",
       "      <th>6</th>\n",
       "      <th>7</th>\n",
       "      <th>8</th>\n",
       "      <th>...</th>\n",
       "      <th>10</th>\n",
       "      <th>11</th>\n",
       "      <th>12</th>\n",
       "      <th>13</th>\n",
       "      <th>14</th>\n",
       "      <th>15</th>\n",
       "      <th>16</th>\n",
       "      <th>Internet</th>\n",
       "      <th>TV_de_paga</th>\n",
       "      <th>Telefonía_fija</th>\n",
       "    </tr>\n",
       "  </thead>\n",
       "  <tbody>\n",
       "    <tr>\n",
       "      <th>0</th>\n",
       "      <td>Variables</td>\n",
       "      <td>SBAF</td>\n",
       "      <td>STF</td>\n",
       "      <td>STAR</td>\n",
       "      <td>[SBAF+STF+STAR]</td>\n",
       "      <td>[SBAF+STF]</td>\n",
       "      <td>[SBAF+STAR]</td>\n",
       "      <td>[STAR+STF]</td>\n",
       "      <td>[SBAF]+[STF]+[STAR]</td>\n",
       "      <td>[SBAF]+[STF]</td>\n",
       "      <td>...</td>\n",
       "      <td>[STAR]+[STF]</td>\n",
       "      <td>[SBAF]+[STAR+STF]</td>\n",
       "      <td>[STAR]+[SBAF+STF]</td>\n",
       "      <td>[STF]+[STAR+SBAF]</td>\n",
       "      <td>Combinaciones atípicas de los 3 servicios</td>\n",
       "      <td>Ningún servicio contratado</td>\n",
       "      <td>Total de hogares encuestados</td>\n",
       "      <td>SBAF[SBAF+STF+STAR][SBAF+STF][SBAF+STAR][SBAF]...</td>\n",
       "      <td>STAR[SBAF+STF+STAR][SBAF+STAR][STAR+STF][SBAF]...</td>\n",
       "      <td>STF[SBAF+STF+STAR][SBAF+STF][STAR+STF][SBAF]+[...</td>\n",
       "    </tr>\n",
       "    <tr>\n",
       "      <th>1</th>\n",
       "      <td>2015</td>\n",
       "      <td>3939</td>\n",
       "      <td>4719</td>\n",
       "      <td>11961</td>\n",
       "      <td>6977</td>\n",
       "      <td>5804</td>\n",
       "      <td>4633</td>\n",
       "      <td>618</td>\n",
       "      <td>454</td>\n",
       "      <td>303</td>\n",
       "      <td>...</td>\n",
       "      <td>2397</td>\n",
       "      <td>100</td>\n",
       "      <td>8661</td>\n",
       "      <td>812</td>\n",
       "      <td>1024</td>\n",
       "      <td>25552</td>\n",
       "      <td>80125</td>\n",
       "      <td>34878</td>\n",
       "      <td>39808</td>\n",
       "      <td>31869</td>\n",
       "    </tr>\n",
       "    <tr>\n",
       "      <th>2</th>\n",
       "      <td>2016</td>\n",
       "      <td>7977</td>\n",
       "      <td>4097</td>\n",
       "      <td>17984</td>\n",
       "      <td>12036</td>\n",
       "      <td>9618</td>\n",
       "      <td>9218</td>\n",
       "      <td>895</td>\n",
       "      <td>832</td>\n",
       "      <td>486</td>\n",
       "      <td>...</td>\n",
       "      <td>2991</td>\n",
       "      <td>127</td>\n",
       "      <td>14059</td>\n",
       "      <td>1221</td>\n",
       "      <td>2744</td>\n",
       "      <td>27378</td>\n",
       "      <td>118957</td>\n",
       "      <td>65612</td>\n",
       "      <td>69401</td>\n",
       "      <td>49106</td>\n",
       "    </tr>\n",
       "    <tr>\n",
       "      <th>3</th>\n",
       "      <td>2017</td>\n",
       "      <td>12116</td>\n",
       "      <td>4146</td>\n",
       "      <td>18870</td>\n",
       "      <td>13116</td>\n",
       "      <td>12291</td>\n",
       "      <td>10522</td>\n",
       "      <td>629</td>\n",
       "      <td>787</td>\n",
       "      <td>695</td>\n",
       "      <td>...</td>\n",
       "      <td>3126</td>\n",
       "      <td>156</td>\n",
       "      <td>12460</td>\n",
       "      <td>885</td>\n",
       "      <td>3035</td>\n",
       "      <td>33522</td>\n",
       "      <td>135341</td>\n",
       "      <td>75048</td>\n",
       "      <td>72571</td>\n",
       "      <td>51326</td>\n",
       "    </tr>\n",
       "    <tr>\n",
       "      <th>4</th>\n",
       "      <td>2018</td>\n",
       "      <td>7026</td>\n",
       "      <td>3855</td>\n",
       "      <td>21341</td>\n",
       "      <td>13977</td>\n",
       "      <td>14537</td>\n",
       "      <td>13130</td>\n",
       "      <td>576</td>\n",
       "      <td>481</td>\n",
       "      <td>361</td>\n",
       "      <td>...</td>\n",
       "      <td>2659</td>\n",
       "      <td>53</td>\n",
       "      <td>11926</td>\n",
       "      <td>769</td>\n",
       "      <td>407</td>\n",
       "      <td>39585</td>\n",
       "      <td>133745</td>\n",
       "      <td>65729</td>\n",
       "      <td>68381</td>\n",
       "      <td>49601</td>\n",
       "    </tr>\n",
       "    <tr>\n",
       "      <th>5</th>\n",
       "      <td>2019</td>\n",
       "      <td>1288</td>\n",
       "      <td>512</td>\n",
       "      <td>3905</td>\n",
       "      <td>2296</td>\n",
       "      <td>2175</td>\n",
       "      <td>1510</td>\n",
       "      <td>57</td>\n",
       "      <td>75</td>\n",
       "      <td>54</td>\n",
       "      <td>...</td>\n",
       "      <td>435</td>\n",
       "      <td>13</td>\n",
       "      <td>1497</td>\n",
       "      <td>76</td>\n",
       "      <td>67</td>\n",
       "      <td>7014</td>\n",
       "      <td>21620</td>\n",
       "      <td>9697</td>\n",
       "      <td>10577</td>\n",
       "      <td>7257</td>\n",
       "    </tr>\n",
       "    <tr>\n",
       "      <th>6</th>\n",
       "      <td>2015 %</td>\n",
       "      <td>4.91607</td>\n",
       "      <td>5.88955</td>\n",
       "      <td>14.9279</td>\n",
       "      <td>8.70764</td>\n",
       "      <td>7.24368</td>\n",
       "      <td>5.78222</td>\n",
       "      <td>0.771295</td>\n",
       "      <td>0.566615</td>\n",
       "      <td>0.378159</td>\n",
       "      <td>...</td>\n",
       "      <td>2.99158</td>\n",
       "      <td>0.124805</td>\n",
       "      <td>10.8094</td>\n",
       "      <td>1.01342</td>\n",
       "      <td>1.278</td>\n",
       "      <td>31.8902</td>\n",
       "      <td>100</td>\n",
       "      <td>43.5295</td>\n",
       "      <td>49.6824</td>\n",
       "      <td>39.7741</td>\n",
       "    </tr>\n",
       "    <tr>\n",
       "      <th>7</th>\n",
       "      <td>2016 %</td>\n",
       "      <td>6.70578</td>\n",
       "      <td>3.4441</td>\n",
       "      <td>15.1181</td>\n",
       "      <td>10.1179</td>\n",
       "      <td>8.08527</td>\n",
       "      <td>7.74902</td>\n",
       "      <td>0.752373</td>\n",
       "      <td>0.699412</td>\n",
       "      <td>0.408551</td>\n",
       "      <td>...</td>\n",
       "      <td>2.51435</td>\n",
       "      <td>0.106761</td>\n",
       "      <td>11.8186</td>\n",
       "      <td>1.02642</td>\n",
       "      <td>2.30672</td>\n",
       "      <td>23.015</td>\n",
       "      <td>100</td>\n",
       "      <td>55.1561</td>\n",
       "      <td>58.3412</td>\n",
       "      <td>41.2805</td>\n",
       "    </tr>\n",
       "    <tr>\n",
       "      <th>8</th>\n",
       "      <td>2017 %</td>\n",
       "      <td>8.9522</td>\n",
       "      <td>3.06337</td>\n",
       "      <td>13.9426</td>\n",
       "      <td>9.69108</td>\n",
       "      <td>9.08151</td>\n",
       "      <td>7.77444</td>\n",
       "      <td>0.464752</td>\n",
       "      <td>0.581494</td>\n",
       "      <td>0.513518</td>\n",
       "      <td>...</td>\n",
       "      <td>2.30972</td>\n",
       "      <td>0.115264</td>\n",
       "      <td>9.20638</td>\n",
       "      <td>0.653904</td>\n",
       "      <td>2.24248</td>\n",
       "      <td>24.7685</td>\n",
       "      <td>100</td>\n",
       "      <td>55.451</td>\n",
       "      <td>53.6209</td>\n",
       "      <td>37.9235</td>\n",
       "    </tr>\n",
       "    <tr>\n",
       "      <th>9</th>\n",
       "      <td>2018 %</td>\n",
       "      <td>5.25328</td>\n",
       "      <td>2.88235</td>\n",
       "      <td>15.9565</td>\n",
       "      <td>10.4505</td>\n",
       "      <td>10.8692</td>\n",
       "      <td>9.81719</td>\n",
       "      <td>0.43067</td>\n",
       "      <td>0.35964</td>\n",
       "      <td>0.269917</td>\n",
       "      <td>...</td>\n",
       "      <td>1.98811</td>\n",
       "      <td>0.0396276</td>\n",
       "      <td>8.91697</td>\n",
       "      <td>0.574975</td>\n",
       "      <td>0.30431</td>\n",
       "      <td>29.5974</td>\n",
       "      <td>100</td>\n",
       "      <td>49.145</td>\n",
       "      <td>51.1279</td>\n",
       "      <td>37.0862</td>\n",
       "    </tr>\n",
       "    <tr>\n",
       "      <th>10</th>\n",
       "      <td>2019 %</td>\n",
       "      <td>5.95745</td>\n",
       "      <td>2.36818</td>\n",
       "      <td>18.062</td>\n",
       "      <td>10.6198</td>\n",
       "      <td>10.0601</td>\n",
       "      <td>6.98427</td>\n",
       "      <td>0.263645</td>\n",
       "      <td>0.346901</td>\n",
       "      <td>0.249769</td>\n",
       "      <td>...</td>\n",
       "      <td>2.01203</td>\n",
       "      <td>0.0601295</td>\n",
       "      <td>6.92414</td>\n",
       "      <td>0.351526</td>\n",
       "      <td>0.309898</td>\n",
       "      <td>32.4422</td>\n",
       "      <td>100</td>\n",
       "      <td>44.852</td>\n",
       "      <td>48.9223</td>\n",
       "      <td>33.5661</td>\n",
       "    </tr>\n",
       "  </tbody>\n",
       "</table>\n",
       "<p>11 rows × 21 columns</p>\n",
       "</div>"
      ],
      "text/plain": [
       "        index        0        1        2                3           4  \\\n",
       "0   Variables     SBAF      STF     STAR  [SBAF+STF+STAR]  [SBAF+STF]   \n",
       "1        2015     3939     4719    11961             6977        5804   \n",
       "2        2016     7977     4097    17984            12036        9618   \n",
       "3        2017    12116     4146    18870            13116       12291   \n",
       "4        2018     7026     3855    21341            13977       14537   \n",
       "5        2019     1288      512     3905             2296        2175   \n",
       "6      2015 %  4.91607  5.88955  14.9279          8.70764     7.24368   \n",
       "7      2016 %  6.70578   3.4441  15.1181          10.1179     8.08527   \n",
       "8      2017 %   8.9522  3.06337  13.9426          9.69108     9.08151   \n",
       "9      2018 %  5.25328  2.88235  15.9565          10.4505     10.8692   \n",
       "10     2019 %  5.95745  2.36818   18.062          10.6198     10.0601   \n",
       "\n",
       "              5           6                    7             8  ...  \\\n",
       "0   [SBAF+STAR]  [STAR+STF]  [SBAF]+[STF]+[STAR]  [SBAF]+[STF]  ...   \n",
       "1          4633         618                  454           303  ...   \n",
       "2          9218         895                  832           486  ...   \n",
       "3         10522         629                  787           695  ...   \n",
       "4         13130         576                  481           361  ...   \n",
       "5          1510          57                   75            54  ...   \n",
       "6       5.78222    0.771295             0.566615      0.378159  ...   \n",
       "7       7.74902    0.752373             0.699412      0.408551  ...   \n",
       "8       7.77444    0.464752             0.581494      0.513518  ...   \n",
       "9       9.81719     0.43067              0.35964      0.269917  ...   \n",
       "10      6.98427    0.263645             0.346901      0.249769  ...   \n",
       "\n",
       "              10                 11                 12                 13  \\\n",
       "0   [STAR]+[STF]  [SBAF]+[STAR+STF]  [STAR]+[SBAF+STF]  [STF]+[STAR+SBAF]   \n",
       "1           2397                100               8661                812   \n",
       "2           2991                127              14059               1221   \n",
       "3           3126                156              12460                885   \n",
       "4           2659                 53              11926                769   \n",
       "5            435                 13               1497                 76   \n",
       "6        2.99158           0.124805            10.8094            1.01342   \n",
       "7        2.51435           0.106761            11.8186            1.02642   \n",
       "8        2.30972           0.115264            9.20638           0.653904   \n",
       "9        1.98811          0.0396276            8.91697           0.574975   \n",
       "10       2.01203          0.0601295            6.92414           0.351526   \n",
       "\n",
       "                                           14                          15  \\\n",
       "0   Combinaciones atípicas de los 3 servicios  Ningún servicio contratado   \n",
       "1                                        1024                       25552   \n",
       "2                                        2744                       27378   \n",
       "3                                        3035                       33522   \n",
       "4                                         407                       39585   \n",
       "5                                          67                        7014   \n",
       "6                                       1.278                     31.8902   \n",
       "7                                     2.30672                      23.015   \n",
       "8                                     2.24248                     24.7685   \n",
       "9                                     0.30431                     29.5974   \n",
       "10                                   0.309898                     32.4422   \n",
       "\n",
       "                              16  \\\n",
       "0   Total de hogares encuestados   \n",
       "1                          80125   \n",
       "2                         118957   \n",
       "3                         135341   \n",
       "4                         133745   \n",
       "5                          21620   \n",
       "6                            100   \n",
       "7                            100   \n",
       "8                            100   \n",
       "9                            100   \n",
       "10                           100   \n",
       "\n",
       "                                             Internet  \\\n",
       "0   SBAF[SBAF+STF+STAR][SBAF+STF][SBAF+STAR][SBAF]...   \n",
       "1                                               34878   \n",
       "2                                               65612   \n",
       "3                                               75048   \n",
       "4                                               65729   \n",
       "5                                                9697   \n",
       "6                                             43.5295   \n",
       "7                                             55.1561   \n",
       "8                                              55.451   \n",
       "9                                              49.145   \n",
       "10                                             44.852   \n",
       "\n",
       "                                           TV_de_paga  \\\n",
       "0   STAR[SBAF+STF+STAR][SBAF+STAR][STAR+STF][SBAF]...   \n",
       "1                                               39808   \n",
       "2                                               69401   \n",
       "3                                               72571   \n",
       "4                                               68381   \n",
       "5                                               10577   \n",
       "6                                             49.6824   \n",
       "7                                             58.3412   \n",
       "8                                             53.6209   \n",
       "9                                             51.1279   \n",
       "10                                            48.9223   \n",
       "\n",
       "                                       Telefonía_fija  \n",
       "0   STF[SBAF+STF+STAR][SBAF+STF][STAR+STF][SBAF]+[...  \n",
       "1                                               31869  \n",
       "2                                               49106  \n",
       "3                                               51326  \n",
       "4                                               49601  \n",
       "5                                                7257  \n",
       "6                                             39.7741  \n",
       "7                                             41.2805  \n",
       "8                                             37.9235  \n",
       "9                                             37.0862  \n",
       "10                                            33.5661  \n",
       "\n",
       "[11 rows x 21 columns]"
      ]
     },
     "execution_count": 182,
     "metadata": {},
     "output_type": "execute_result"
    }
   ],
   "source": [
    "#Se crean nuevas columnas para calcular el porcentaje de hogares que tienen contratados los servicios de internet, televisión de paga y telefonía fija, ya sea en paquete o solos\n",
    "tabla_t['Internet']=tabla_t[0]+tabla_t[3]+tabla_t[4]+tabla_t[5]+tabla_t[7]+tabla_t[8]+tabla_t[9]+tabla_t[11]+tabla_t[12]+tabla_t[13]+tabla_t[14]\n",
    "tabla_t['TV_de_paga']=tabla_t[2]+tabla_t[3]+tabla_t[5]+tabla_t[6]+tabla_t[7]+tabla_t[9]+tabla_t[10]+tabla_t[11]+tabla_t[12]+tabla_t[13]+tabla_t[14]\n",
    "tabla_t['Telefonía_fija']=tabla_t[1]+tabla_t[3]+tabla_t[4]+tabla_t[6]+tabla_t[7]+tabla_t[8]+tabla_t[10]+tabla_t[11]+tabla_t[12]+tabla_t[13]+tabla_t[14]\n",
    "tabla_servicios=tabla_t.reset_index()\n",
    "tabla_servicios"
   ]
  },
  {
   "cell_type": "code",
   "execution_count": 183,
   "metadata": {},
   "outputs": [
    {
     "data": {
      "image/png": "[encoded data removed]",
      "text/plain": [
       "<Figure size 1440x720 with 1 Axes>"
      ]
     },
     "metadata": {
      "needs_background": "light"
     },
     "output_type": "display_data"
    }
   ],
   "source": [
    "#Se crea una gráfica de líneas para observar la evolución en el tiempo del porcentaje de hogares que tienen contratados los servicios de internet, televisión de paga y telefonía fija, ya sea en paquete o solos\n",
    "x=tabla_servicios['index'][1:6]\n",
    "y1=tabla_servicios['Internet'][6:]\n",
    "y2=tabla_servicios['TV_de_paga'][6:]\n",
    "y3=tabla_servicios['Telefonía_fija'][6:]\n",
    "y4=tabla_servicios[15][6:]\n",
    "plt.figure(figsize=(20,10))\n",
    "plt.title('Servicios contratados de telecomunicaciones fijas (ya sea en paquete o solos)',size='xx-large')\n",
    "plt.xlabel('Años',size='large')\n",
    "plt.ylabel('Porcentaje de hogares (%)',size='large')\n",
    "plt.grid(True)\n",
    "line_1, = plt.plot(x,y1,color='black',marker='o',linestyle='dashdot',markersize=8,label='Internet')\n",
    "line_2, = plt.plot(x,y2,color='red',marker='s',linestyle='dotted',markersize=8,label='TV de paga')\n",
    "line_3, = plt.plot(x,y3,color='green',marker='p',linestyle='dashed',markersize=8,label='Telefonía fija')\n",
    "line_4, = plt.plot(x,y4,color='blue',marker='^',linestyle='solid',markersize=8,label='Ningún servicio')\n",
    "plt.legend([line_1, line_2, line_3,line_4], ['Internet', 'TV de paga','Telefonía fija','Ningún servicio'])\n",
    "plt.savefig('lineas_telecom_fijas.jpg',dpi=300, bbox_inches = \"tight\")"
   ]
  },
  {
   "cell_type": "code",
   "execution_count": 184,
   "metadata": {},
   "outputs": [],
   "source": [
    "#En el gráfico de arriba se puede observar que el STF lleva tres años con una tendencia negativa, es decir, a decrecer. Por otro lado, el no tener ningún servicio contratado lleva tres años consecutivos con una tendencia a crecer, por lo que nos podría dar la idea de que los servicios fijos están siendo sustituidos por los servicios móviles. La televisión de paga también tiene tres años consecutivos con una tendencia negativa, lo que nos podría dar la idea de ser sustituído por servicios digitales como los OTT. Otro elemento a destacar es que el servicio más presente en los hogares mexicanos es el de televisión de paga (con excepción del año 2017).   "
   ]
  },
  {
   "cell_type": "code",
   "execution_count": 185,
   "metadata": {},
   "outputs": [
    {
     "data": {
      "text/html": [
       "<div>\n",
       "<style scoped>\n",
       "    .dataframe tbody tr th:only-of-type {\n",
       "        vertical-align: middle;\n",
       "    }\n",
       "\n",
       "    .dataframe tbody tr th {\n",
       "        vertical-align: top;\n",
       "    }\n",
       "\n",
       "    .dataframe thead th {\n",
       "        text-align: right;\n",
       "    }\n",
       "</style>\n",
       "<table border=\"1\" class=\"dataframe\">\n",
       "  <thead>\n",
       "    <tr style=\"text-align: right;\">\n",
       "      <th></th>\n",
       "      <th>index</th>\n",
       "      <th>0</th>\n",
       "      <th>1</th>\n",
       "      <th>2</th>\n",
       "      <th>3</th>\n",
       "      <th>4</th>\n",
       "      <th>5</th>\n",
       "      <th>6</th>\n",
       "      <th>7</th>\n",
       "      <th>8</th>\n",
       "      <th>...</th>\n",
       "      <th>12</th>\n",
       "      <th>13</th>\n",
       "      <th>14</th>\n",
       "      <th>15</th>\n",
       "      <th>16</th>\n",
       "      <th>Internet</th>\n",
       "      <th>TV_de_paga</th>\n",
       "      <th>Telefonía_fija</th>\n",
       "      <th>Paquetes_integrados</th>\n",
       "      <th>Paquetes_sintéticos</th>\n",
       "    </tr>\n",
       "  </thead>\n",
       "  <tbody>\n",
       "    <tr>\n",
       "      <th>0</th>\n",
       "      <td>Variables</td>\n",
       "      <td>SBAF</td>\n",
       "      <td>STF</td>\n",
       "      <td>STAR</td>\n",
       "      <td>[SBAF+STF+STAR]</td>\n",
       "      <td>[SBAF+STF]</td>\n",
       "      <td>[SBAF+STAR]</td>\n",
       "      <td>[STAR+STF]</td>\n",
       "      <td>[SBAF]+[STF]+[STAR]</td>\n",
       "      <td>[SBAF]+[STF]</td>\n",
       "      <td>...</td>\n",
       "      <td>[STAR]+[SBAF+STF]</td>\n",
       "      <td>[STF]+[STAR+SBAF]</td>\n",
       "      <td>Combinaciones atípicas de los 3 servicios</td>\n",
       "      <td>Ningún servicio contratado</td>\n",
       "      <td>Total de hogares encuestados</td>\n",
       "      <td>SBAF[SBAF+STF+STAR][SBAF+STF][SBAF+STAR][SBAF]...</td>\n",
       "      <td>STAR[SBAF+STF+STAR][SBAF+STAR][STAR+STF][SBAF]...</td>\n",
       "      <td>STF[SBAF+STF+STAR][SBAF+STF][STAR+STF][SBAF]+[...</td>\n",
       "      <td>[SBAF+STF+STAR][SBAF+STF][SBAF+STAR][STAR+STF]</td>\n",
       "      <td>[SBAF]+[STF]+[STAR][SBAF]+[STF][SBAF]+[STAR][S...</td>\n",
       "    </tr>\n",
       "    <tr>\n",
       "      <th>1</th>\n",
       "      <td>2015</td>\n",
       "      <td>3939</td>\n",
       "      <td>4719</td>\n",
       "      <td>11961</td>\n",
       "      <td>6977</td>\n",
       "      <td>5804</td>\n",
       "      <td>4633</td>\n",
       "      <td>618</td>\n",
       "      <td>454</td>\n",
       "      <td>303</td>\n",
       "      <td>...</td>\n",
       "      <td>8661</td>\n",
       "      <td>812</td>\n",
       "      <td>1024</td>\n",
       "      <td>25552</td>\n",
       "      <td>80125</td>\n",
       "      <td>34878</td>\n",
       "      <td>39808</td>\n",
       "      <td>31869</td>\n",
       "      <td>18032</td>\n",
       "      <td>15922</td>\n",
       "    </tr>\n",
       "    <tr>\n",
       "      <th>2</th>\n",
       "      <td>2016</td>\n",
       "      <td>7977</td>\n",
       "      <td>4097</td>\n",
       "      <td>17984</td>\n",
       "      <td>12036</td>\n",
       "      <td>9618</td>\n",
       "      <td>9218</td>\n",
       "      <td>895</td>\n",
       "      <td>832</td>\n",
       "      <td>486</td>\n",
       "      <td>...</td>\n",
       "      <td>14059</td>\n",
       "      <td>1221</td>\n",
       "      <td>2744</td>\n",
       "      <td>27378</td>\n",
       "      <td>118957</td>\n",
       "      <td>65612</td>\n",
       "      <td>69401</td>\n",
       "      <td>49106</td>\n",
       "      <td>31767</td>\n",
       "      <td>29754</td>\n",
       "    </tr>\n",
       "    <tr>\n",
       "      <th>3</th>\n",
       "      <td>2017</td>\n",
       "      <td>12116</td>\n",
       "      <td>4146</td>\n",
       "      <td>18870</td>\n",
       "      <td>13116</td>\n",
       "      <td>12291</td>\n",
       "      <td>10522</td>\n",
       "      <td>629</td>\n",
       "      <td>787</td>\n",
       "      <td>695</td>\n",
       "      <td>...</td>\n",
       "      <td>12460</td>\n",
       "      <td>885</td>\n",
       "      <td>3035</td>\n",
       "      <td>33522</td>\n",
       "      <td>135341</td>\n",
       "      <td>75048</td>\n",
       "      <td>72571</td>\n",
       "      <td>51326</td>\n",
       "      <td>36558</td>\n",
       "      <td>30129</td>\n",
       "    </tr>\n",
       "    <tr>\n",
       "      <th>4</th>\n",
       "      <td>2018</td>\n",
       "      <td>7026</td>\n",
       "      <td>3855</td>\n",
       "      <td>21341</td>\n",
       "      <td>13977</td>\n",
       "      <td>14537</td>\n",
       "      <td>13130</td>\n",
       "      <td>576</td>\n",
       "      <td>481</td>\n",
       "      <td>361</td>\n",
       "      <td>...</td>\n",
       "      <td>11926</td>\n",
       "      <td>769</td>\n",
       "      <td>407</td>\n",
       "      <td>39585</td>\n",
       "      <td>133745</td>\n",
       "      <td>65729</td>\n",
       "      <td>68381</td>\n",
       "      <td>49601</td>\n",
       "      <td>42220</td>\n",
       "      <td>19718</td>\n",
       "    </tr>\n",
       "    <tr>\n",
       "      <th>5</th>\n",
       "      <td>2019</td>\n",
       "      <td>1288</td>\n",
       "      <td>512</td>\n",
       "      <td>3905</td>\n",
       "      <td>2296</td>\n",
       "      <td>2175</td>\n",
       "      <td>1510</td>\n",
       "      <td>57</td>\n",
       "      <td>75</td>\n",
       "      <td>54</td>\n",
       "      <td>...</td>\n",
       "      <td>1497</td>\n",
       "      <td>76</td>\n",
       "      <td>67</td>\n",
       "      <td>7014</td>\n",
       "      <td>21620</td>\n",
       "      <td>9697</td>\n",
       "      <td>10577</td>\n",
       "      <td>7257</td>\n",
       "      <td>6038</td>\n",
       "      <td>2863</td>\n",
       "    </tr>\n",
       "    <tr>\n",
       "      <th>6</th>\n",
       "      <td>2015 %</td>\n",
       "      <td>4.91607</td>\n",
       "      <td>5.88955</td>\n",
       "      <td>14.9279</td>\n",
       "      <td>8.70764</td>\n",
       "      <td>7.24368</td>\n",
       "      <td>5.78222</td>\n",
       "      <td>0.771295</td>\n",
       "      <td>0.566615</td>\n",
       "      <td>0.378159</td>\n",
       "      <td>...</td>\n",
       "      <td>10.8094</td>\n",
       "      <td>1.01342</td>\n",
       "      <td>1.278</td>\n",
       "      <td>31.8902</td>\n",
       "      <td>100</td>\n",
       "      <td>43.5295</td>\n",
       "      <td>49.6824</td>\n",
       "      <td>39.7741</td>\n",
       "      <td>22.5048</td>\n",
       "      <td>19.8715</td>\n",
       "    </tr>\n",
       "    <tr>\n",
       "      <th>7</th>\n",
       "      <td>2016 %</td>\n",
       "      <td>6.70578</td>\n",
       "      <td>3.4441</td>\n",
       "      <td>15.1181</td>\n",
       "      <td>10.1179</td>\n",
       "      <td>8.08527</td>\n",
       "      <td>7.74902</td>\n",
       "      <td>0.752373</td>\n",
       "      <td>0.699412</td>\n",
       "      <td>0.408551</td>\n",
       "      <td>...</td>\n",
       "      <td>11.8186</td>\n",
       "      <td>1.02642</td>\n",
       "      <td>2.30672</td>\n",
       "      <td>23.015</td>\n",
       "      <td>100</td>\n",
       "      <td>55.1561</td>\n",
       "      <td>58.3412</td>\n",
       "      <td>41.2805</td>\n",
       "      <td>26.7046</td>\n",
       "      <td>25.0124</td>\n",
       "    </tr>\n",
       "    <tr>\n",
       "      <th>8</th>\n",
       "      <td>2017 %</td>\n",
       "      <td>8.9522</td>\n",
       "      <td>3.06337</td>\n",
       "      <td>13.9426</td>\n",
       "      <td>9.69108</td>\n",
       "      <td>9.08151</td>\n",
       "      <td>7.77444</td>\n",
       "      <td>0.464752</td>\n",
       "      <td>0.581494</td>\n",
       "      <td>0.513518</td>\n",
       "      <td>...</td>\n",
       "      <td>9.20638</td>\n",
       "      <td>0.653904</td>\n",
       "      <td>2.24248</td>\n",
       "      <td>24.7685</td>\n",
       "      <td>100</td>\n",
       "      <td>55.451</td>\n",
       "      <td>53.6209</td>\n",
       "      <td>37.9235</td>\n",
       "      <td>27.0118</td>\n",
       "      <td>22.2615</td>\n",
       "    </tr>\n",
       "    <tr>\n",
       "      <th>9</th>\n",
       "      <td>2018 %</td>\n",
       "      <td>5.25328</td>\n",
       "      <td>2.88235</td>\n",
       "      <td>15.9565</td>\n",
       "      <td>10.4505</td>\n",
       "      <td>10.8692</td>\n",
       "      <td>9.81719</td>\n",
       "      <td>0.43067</td>\n",
       "      <td>0.35964</td>\n",
       "      <td>0.269917</td>\n",
       "      <td>...</td>\n",
       "      <td>8.91697</td>\n",
       "      <td>0.574975</td>\n",
       "      <td>0.30431</td>\n",
       "      <td>29.5974</td>\n",
       "      <td>100</td>\n",
       "      <td>49.145</td>\n",
       "      <td>51.1279</td>\n",
       "      <td>37.0862</td>\n",
       "      <td>31.5675</td>\n",
       "      <td>14.743</td>\n",
       "    </tr>\n",
       "    <tr>\n",
       "      <th>10</th>\n",
       "      <td>2019 %</td>\n",
       "      <td>5.95745</td>\n",
       "      <td>2.36818</td>\n",
       "      <td>18.062</td>\n",
       "      <td>10.6198</td>\n",
       "      <td>10.0601</td>\n",
       "      <td>6.98427</td>\n",
       "      <td>0.263645</td>\n",
       "      <td>0.346901</td>\n",
       "      <td>0.249769</td>\n",
       "      <td>...</td>\n",
       "      <td>6.92414</td>\n",
       "      <td>0.351526</td>\n",
       "      <td>0.309898</td>\n",
       "      <td>32.4422</td>\n",
       "      <td>100</td>\n",
       "      <td>44.852</td>\n",
       "      <td>48.9223</td>\n",
       "      <td>33.5661</td>\n",
       "      <td>27.9278</td>\n",
       "      <td>13.2424</td>\n",
       "    </tr>\n",
       "  </tbody>\n",
       "</table>\n",
       "<p>11 rows × 23 columns</p>\n",
       "</div>"
      ],
      "text/plain": [
       "        index        0        1        2                3           4  \\\n",
       "0   Variables     SBAF      STF     STAR  [SBAF+STF+STAR]  [SBAF+STF]   \n",
       "1        2015     3939     4719    11961             6977        5804   \n",
       "2        2016     7977     4097    17984            12036        9618   \n",
       "3        2017    12116     4146    18870            13116       12291   \n",
       "4        2018     7026     3855    21341            13977       14537   \n",
       "5        2019     1288      512     3905             2296        2175   \n",
       "6      2015 %  4.91607  5.88955  14.9279          8.70764     7.24368   \n",
       "7      2016 %  6.70578   3.4441  15.1181          10.1179     8.08527   \n",
       "8      2017 %   8.9522  3.06337  13.9426          9.69108     9.08151   \n",
       "9      2018 %  5.25328  2.88235  15.9565          10.4505     10.8692   \n",
       "10     2019 %  5.95745  2.36818   18.062          10.6198     10.0601   \n",
       "\n",
       "              5           6                    7             8  ...  \\\n",
       "0   [SBAF+STAR]  [STAR+STF]  [SBAF]+[STF]+[STAR]  [SBAF]+[STF]  ...   \n",
       "1          4633         618                  454           303  ...   \n",
       "2          9218         895                  832           486  ...   \n",
       "3         10522         629                  787           695  ...   \n",
       "4         13130         576                  481           361  ...   \n",
       "5          1510          57                   75            54  ...   \n",
       "6       5.78222    0.771295             0.566615      0.378159  ...   \n",
       "7       7.74902    0.752373             0.699412      0.408551  ...   \n",
       "8       7.77444    0.464752             0.581494      0.513518  ...   \n",
       "9       9.81719     0.43067              0.35964      0.269917  ...   \n",
       "10      6.98427    0.263645             0.346901      0.249769  ...   \n",
       "\n",
       "                   12                 13  \\\n",
       "0   [STAR]+[SBAF+STF]  [STF]+[STAR+SBAF]   \n",
       "1                8661                812   \n",
       "2               14059               1221   \n",
       "3               12460                885   \n",
       "4               11926                769   \n",
       "5                1497                 76   \n",
       "6             10.8094            1.01342   \n",
       "7             11.8186            1.02642   \n",
       "8             9.20638           0.653904   \n",
       "9             8.91697           0.574975   \n",
       "10            6.92414           0.351526   \n",
       "\n",
       "                                           14                          15  \\\n",
       "0   Combinaciones atípicas de los 3 servicios  Ningún servicio contratado   \n",
       "1                                        1024                       25552   \n",
       "2                                        2744                       27378   \n",
       "3                                        3035                       33522   \n",
       "4                                         407                       39585   \n",
       "5                                          67                        7014   \n",
       "6                                       1.278                     31.8902   \n",
       "7                                     2.30672                      23.015   \n",
       "8                                     2.24248                     24.7685   \n",
       "9                                     0.30431                     29.5974   \n",
       "10                                   0.309898                     32.4422   \n",
       "\n",
       "                              16  \\\n",
       "0   Total de hogares encuestados   \n",
       "1                          80125   \n",
       "2                         118957   \n",
       "3                         135341   \n",
       "4                         133745   \n",
       "5                          21620   \n",
       "6                            100   \n",
       "7                            100   \n",
       "8                            100   \n",
       "9                            100   \n",
       "10                           100   \n",
       "\n",
       "                                             Internet  \\\n",
       "0   SBAF[SBAF+STF+STAR][SBAF+STF][SBAF+STAR][SBAF]...   \n",
       "1                                               34878   \n",
       "2                                               65612   \n",
       "3                                               75048   \n",
       "4                                               65729   \n",
       "5                                                9697   \n",
       "6                                             43.5295   \n",
       "7                                             55.1561   \n",
       "8                                              55.451   \n",
       "9                                              49.145   \n",
       "10                                             44.852   \n",
       "\n",
       "                                           TV_de_paga  \\\n",
       "0   STAR[SBAF+STF+STAR][SBAF+STAR][STAR+STF][SBAF]...   \n",
       "1                                               39808   \n",
       "2                                               69401   \n",
       "3                                               72571   \n",
       "4                                               68381   \n",
       "5                                               10577   \n",
       "6                                             49.6824   \n",
       "7                                             58.3412   \n",
       "8                                             53.6209   \n",
       "9                                             51.1279   \n",
       "10                                            48.9223   \n",
       "\n",
       "                                       Telefonía_fija  \\\n",
       "0   STF[SBAF+STF+STAR][SBAF+STF][STAR+STF][SBAF]+[...   \n",
       "1                                               31869   \n",
       "2                                               49106   \n",
       "3                                               51326   \n",
       "4                                               49601   \n",
       "5                                                7257   \n",
       "6                                             39.7741   \n",
       "7                                             41.2805   \n",
       "8                                             37.9235   \n",
       "9                                             37.0862   \n",
       "10                                            33.5661   \n",
       "\n",
       "                               Paquetes_integrados  \\\n",
       "0   [SBAF+STF+STAR][SBAF+STF][SBAF+STAR][STAR+STF]   \n",
       "1                                            18032   \n",
       "2                                            31767   \n",
       "3                                            36558   \n",
       "4                                            42220   \n",
       "5                                             6038   \n",
       "6                                          22.5048   \n",
       "7                                          26.7046   \n",
       "8                                          27.0118   \n",
       "9                                          31.5675   \n",
       "10                                         27.9278   \n",
       "\n",
       "                                  Paquetes_sintéticos  \n",
       "0   [SBAF]+[STF]+[STAR][SBAF]+[STF][SBAF]+[STAR][S...  \n",
       "1                                               15922  \n",
       "2                                               29754  \n",
       "3                                               30129  \n",
       "4                                               19718  \n",
       "5                                                2863  \n",
       "6                                             19.8715  \n",
       "7                                             25.0124  \n",
       "8                                             22.2615  \n",
       "9                                              14.743  \n",
       "10                                            13.2424  \n",
       "\n",
       "[11 rows x 23 columns]"
      ]
     },
     "execution_count": 185,
     "metadata": {},
     "output_type": "execute_result"
    }
   ],
   "source": [
    "#Se crean nuevas columnas para calcular el porcentaje de hogares que tienen contratados paquetes integrados y paquetes sintéticos\n",
    "tabla_t['Paquetes_integrados']=tabla_t[3]+tabla_t[4]+tabla_t[5]+tabla_t[6]\n",
    "tabla_t['Paquetes_sintéticos']=tabla_t[7]+tabla_t[8]+tabla_t[9]+tabla_t[10]+tabla_t[11]+tabla_t[12]+tabla_t[13]+tabla_t[14]\n",
    "tabla_servicios=tabla_t.reset_index()\n",
    "tabla_servicios"
   ]
  },
  {
   "cell_type": "code",
   "execution_count": 186,
   "metadata": {},
   "outputs": [
    {
     "data": {
      "image/png": "[encoded data removed]",
      "text/plain": [
       "<Figure size 1080x720 with 1 Axes>"
      ]
     },
     "metadata": {
      "needs_background": "light"
     },
     "output_type": "display_data"
    }
   ],
   "source": [
    "#Se crea una gráfica de barras combinadas para ver visualmente el porcentaje de hogares que tienen contratados paquetes integrados contra el porcentaje de hogares que tienen contratados paquetes sintéticos\n",
    "labels = ['2015', '2016', '2017', '2018', '2019']\n",
    "Paquetes_integrados = tabla_servicios['Paquetes_integrados'][6:]\n",
    "Paquetes_sintéticos = tabla_servicios['Paquetes_sintéticos'][6:]\n",
    "\n",
    "\n",
    "x = np.arange(len(labels))  # the label locations\n",
    "width=0.35\n",
    "\n",
    "fig, ax = plt.subplots(figsize=(15,10))\n",
    "rects1 = ax.bar(x - width/2, Paquetes_integrados, width, label='Paquetes integrados')\n",
    "rects2 = ax.bar(x + width/2, Paquetes_sintéticos, width, label='Paquetes sintéticos')\n",
    "ax.set_ylabel('Porcentaje de hogares con paquetes')\n",
    "ax.set_xlabel('Años')\n",
    "ax.set_title('Paquetes integrados v. paquetes sintéticos',size='xx-large')\n",
    "ax.set_xticks(x)\n",
    "ax.set_xticklabels(labels)\n",
    "ax.legend()\n",
    "plt.savefig('barras_v_paquetes.jpg',dpi=300, bbox_inches = \"tight\")"
   ]
  },
  {
   "cell_type": "code",
   "execution_count": 187,
   "metadata": {},
   "outputs": [],
   "source": [
    "#En la gráfica de arriba se observa que los hogares mexicanos prefieren contratar los servicios telecom fijos con un solo proveedor (paquetes integrados) que con varios proveedores (paquetes sintéticos) y cada años la preferencia o tendencia por contratar paquetes integrados sobre sintéticos es mayor."
   ]
  },
  {
   "cell_type": "code",
   "execution_count": 188,
   "metadata": {},
   "outputs": [
    {
     "name": "stderr",
     "output_type": "stream",
     "text": [
      "C:\\Users\\garci\\anaconda3\\lib\\site-packages\\numpy\\lib\\histograms.py:839: RuntimeWarning: invalid value encountered in greater_equal\n",
      "  keep = (tmp_a >= first_edge)\n",
      "C:\\Users\\garci\\anaconda3\\lib\\site-packages\\numpy\\lib\\histograms.py:840: RuntimeWarning: invalid value encountered in less_equal\n",
      "  keep &= (tmp_a <= last_edge)\n"
     ]
    },
    {
     "data": {
      "image/png": "[encoded data removed]",
      "text/plain": [
       "<Figure size 1440x720 with 1 Axes>"
      ]
     },
     "metadata": {
      "needs_background": "light"
     },
     "output_type": "display_data"
    }
   ],
   "source": [
    "# Distibución del monto de pago realizado por el servicio de \"solo internet\" en el 2019\n",
    "plt.figure(figsize=(20,10))\n",
    "plt.hist(df_2019['P5_8_8'],bins=200)\n",
    "plt.xlim(0,2000)\n",
    "plt.title('Distribución del monto pagado por mes de los hogares que tienen contratado solo el servicio de internet en 2019',size='xx-large')\n",
    "plt.xlabel('Montos pagados al mes por el servicio',size='large')\n",
    "plt.ylabel('Frecuencia de los valores',size='large')\n",
    "plt.savefig('histograma_SBAF.jpg',dpi=300, bbox_inches = \"tight\")"
   ]
  },
  {
   "cell_type": "code",
   "execution_count": 189,
   "metadata": {},
   "outputs": [],
   "source": [
    "#En el gráfico de arriba se observa que el monto pagado promedio al mes por el servicio de internet en 2009 fue de aproximadamente $300, también se observa que hay hogares que no pagan nada por el servicio de internet y hay hogares que pagan más de $1500."
   ]
  },
  {
   "cell_type": "code",
   "execution_count": 190,
   "metadata": {},
   "outputs": [
    {
     "data": {
      "image/png": "[encoded data removed]",
      "text/plain": [
       "<Figure size 1440x720 with 1 Axes>"
      ]
     },
     "metadata": {
      "needs_background": "light"
     },
     "output_type": "display_data"
    }
   ],
   "source": [
    "# Distibución del monto de pago realizado por el servicio de \"solo televisión de paga\" en el 2019\n",
    "plt.figure(figsize=(20,10))\n",
    "plt.hist(df_2019['P5_8_6'],bins=200)\n",
    "plt.xlim(0,2000)\n",
    "plt.title('Distribución del monto pagado por mes de los hogares que tienen contratado solo el servicio de televisión de paga en 2019',size='xx-large')\n",
    "plt.xlabel('Montos pagados al mes por el servicio',size='large')\n",
    "plt.ylabel('Frecuencia de los valores',size='large')\n",
    "plt.savefig('histograma_STAR.jpg',dpi=300, bbox_inches = \"tight\")"
   ]
  },
  {
   "cell_type": "code",
   "execution_count": 191,
   "metadata": {},
   "outputs": [],
   "source": [
    "#En el gráfico de arriba se observa que el monto pagado promedio al mes por el servicio de televisión de paga en 2009 fue de aproximadamente $250, también se observa que hay hogares que no pagan nada por el servicio y hay hogares que pagan más de $1500."
   ]
  },
  {
   "cell_type": "code",
   "execution_count": 192,
   "metadata": {},
   "outputs": [
    {
     "data": {
      "image/png": "[encoded data removed]",
      "text/plain": [
       "<Figure size 1440x720 with 1 Axes>"
      ]
     },
     "metadata": {
      "needs_background": "light"
     },
     "output_type": "display_data"
    }
   ],
   "source": [
    "# Distibución del monto de pago realizado por el servicio de \"solo telefonía fija\" en el 2019\n",
    "plt.figure(figsize=(20,10))\n",
    "plt.hist(df_2019['P5_8_7'],bins=200)\n",
    "plt.xlim(0,2000)\n",
    "plt.title('Distribución del monto pagado por mes de los hogares que tienen contratado solo el servicio de telefonía fija en 2019',size='xx-large')\n",
    "plt.xlabel('Montos pagados al mes por el servicio',size='large')\n",
    "plt.ylabel('Frecuencia de los valores',size='large')\n",
    "plt.savefig('histograma_STF.jpg',dpi=300, bbox_inches = \"tight\")"
   ]
  },
  {
   "cell_type": "code",
   "execution_count": 193,
   "metadata": {},
   "outputs": [],
   "source": [
    "#En el gráfico de arriba se observa que el monto pagado promedio al mes por el servicio de telefonía fija en 2009 fue de aproximadamente $250, también se observa que hay hogares que no pagan nada por el servicio y hay hogares que pagan más de $1000."
   ]
  },
  {
   "cell_type": "code",
   "execution_count": 194,
   "metadata": {},
   "outputs": [
    {
     "data": {
      "image/png": "[encoded data removed]",
      "text/plain": [
       "<Figure size 1440x720 with 1 Axes>"
      ]
     },
     "metadata": {
      "needs_background": "light"
     },
     "output_type": "display_data"
    }
   ],
   "source": [
    "# Distibución del monto de pago realizado por el servicio de \"tripleplay\" integrado en el 2019\n",
    "plt.figure(figsize=(20,10))\n",
    "plt.hist(df_2019['P5_8_2'],bins=200)\n",
    "plt.xlim(0,2000)\n",
    "plt.title('Distribución del monto pagado por mes de los hogares que tienen contratado el servicio de tripleplay integrado en 2019',size='xx-large')\n",
    "plt.xlabel('Montos pagados al mes por el servicio',size='large')\n",
    "plt.ylabel('Frecuencia de los valores',size='large')\n",
    "plt.savefig('histograma_triple.jpg',dpi=300, bbox_inches = \"tight\")"
   ]
  },
  {
   "cell_type": "code",
   "execution_count": 195,
   "metadata": {},
   "outputs": [],
   "source": [
    "#En el gráfico de arriba se observa que el monto pagado promedio al mes por el servicio de triple play en 2009 fue de aproximadamente $525, también se observa que hay hogares que no pagan nada por el servicio y hay hogares que pagan más de $1750."
   ]
  },
  {
   "cell_type": "code",
   "execution_count": 196,
   "metadata": {},
   "outputs": [
    {
     "data": {
      "image/png": "[encoded data removed]",
      "text/plain": [
       "<Figure size 1440x720 with 1 Axes>"
      ]
     },
     "metadata": {
      "needs_background": "light"
     },
     "output_type": "display_data"
    }
   ],
   "source": [
    "# Distibución del monto de pago realizado por el servicio de (STAR+STF) integrado en el 2019\n",
    "plt.figure(figsize=(20,10))\n",
    "plt.hist(df_2019['P5_8_3'],bins=200)\n",
    "plt.xlim(0,2000)\n",
    "plt.title('Distribución del monto pagado por mes de los hogares que tienen contratado el servicio de (STAR+STF) integrado en 2019',size='xx-large')\n",
    "plt.xlabel('Montos pagados al mes por el servicio',size='large')\n",
    "plt.ylabel('Frecuencia de los valores',size='large')\n",
    "plt.savefig('histograma_STAR_STF.jpg',dpi=300, bbox_inches = \"tight\")"
   ]
  },
  {
   "cell_type": "code",
   "execution_count": 197,
   "metadata": {},
   "outputs": [],
   "source": [
    "#En el gráfico de arriba se observa que el monto pagado promedio al mes por el servicio de (STAR+STF) en 2009 fue de aproximadamente $300, también se observa que hay hogares que pagan más de $1250."
   ]
  },
  {
   "cell_type": "code",
   "execution_count": 198,
   "metadata": {},
   "outputs": [
    {
     "data": {
      "image/png": "[encoded data removed]",
      "text/plain": [
       "<Figure size 1440x720 with 1 Axes>"
      ]
     },
     "metadata": {
      "needs_background": "light"
     },
     "output_type": "display_data"
    }
   ],
   "source": [
    "# Distibución del monto de pago realizado por el servicio de (STAR+SBAF) integrado en el 2019\n",
    "plt.figure(figsize=(20,10))\n",
    "plt.hist(df_2019['P5_8_4'],bins=200)\n",
    "plt.xlim(0,2000)\n",
    "plt.title('Distribución del monto pagado por mes de los hogares que tienen contratado el servicio de (STAR+SBAF) integrado en 2019',size='xx-large')\n",
    "plt.xlabel('Montos pagados al mes por el servicio',size='large')\n",
    "plt.ylabel('Frecuencia de los valores',size='large')\n",
    "plt.savefig('histograma_STAR_SBAF.jpg',dpi=300, bbox_inches = \"tight\")"
   ]
  },
  {
   "cell_type": "code",
   "execution_count": 199,
   "metadata": {},
   "outputs": [],
   "source": [
    "#En el gráfico de arriba se observa que el monto pagado promedio al mes por el servicio de (STAR+SBAF) en 2009 fue de aproximadamente $500, también se observa que hay hogares que no pagan nada por el servicio y hay hogares que pagan más de $1250."
   ]
  },
  {
   "cell_type": "code",
   "execution_count": 200,
   "metadata": {},
   "outputs": [
    {
     "data": {
      "image/png": "[encoded data removed]",
      "text/plain": [
       "<Figure size 1440x720 with 1 Axes>"
      ]
     },
     "metadata": {
      "needs_background": "light"
     },
     "output_type": "display_data"
    }
   ],
   "source": [
    "# Distibución del monto de pago realizado por el servicio de (STF+SBAF) integrado en el 2019\n",
    "plt.figure(figsize=(20,10))\n",
    "plt.hist(df_2019['P5_8_5'],bins=200)\n",
    "plt.xlim(0,2000)\n",
    "plt.title('Distribución del monto pagado por mes de los hogares que tienen contratado el servicio de (STF+SBAF) integrado en 2019',size='xx-large')\n",
    "plt.xlabel('Montos pagados al mes por el servicio',size='large')\n",
    "plt.ylabel('Frecuencia de los valores',size='large')\n",
    "plt.savefig('histograma_STF_SBAF.jpg',dpi=300, bbox_inches = \"tight\")"
   ]
  },
  {
   "cell_type": "code",
   "execution_count": 201,
   "metadata": {},
   "outputs": [],
   "source": [
    "#En el gráfico de arriba se observa que el monto pagado promedio al mes por el servicio de (STF+SBAF) en 2009 fue de aproximadamente $300, también se observa que hay hogares que no pagan nada por el servicio y hay hogares que pagan más de $1000."
   ]
  },
  {
   "cell_type": "code",
   "execution_count": 202,
   "metadata": {},
   "outputs": [],
   "source": [
    "#Se le aplica un styler al dataframe de servicios en términos porcentuales para que solo aparezca un decimal en los porcentajes\n",
    "tabla_anios_perc2=tabla_anios_perc.style.format({\n",
    "    '2015 %': '{:,.1f}'.format,\n",
    "    '2016 %': '{:,.1f}'.format,\n",
    "    '2017 %': '{:,.1f}'.format,\n",
    "    '2018 %': '{:,.1f}'.format,\n",
    "    '2019 %': '{:,.1f}'.format,\n",
    "})"
   ]
  },
  {
   "cell_type": "code",
   "execution_count": 203,
   "metadata": {},
   "outputs": [
    {
     "data": {
      "text/html": [
       "<style  type=\"text/css\" >\n",
       "</style><table id=\"T_72a15f05_421f_11eb_a115_c03eba1a5263\" ><thead>    <tr>        <th class=\"blank level0\" ></th>        <th class=\"col_heading level0 col0\" >Variables</th>        <th class=\"col_heading level0 col1\" >2015 %</th>        <th class=\"col_heading level0 col2\" >2016 %</th>        <th class=\"col_heading level0 col3\" >2017 %</th>        <th class=\"col_heading level0 col4\" >2018 %</th>        <th class=\"col_heading level0 col5\" >2019 %</th>    </tr></thead><tbody>\n",
       "                <tr>\n",
       "                        <th id=\"T_72a15f05_421f_11eb_a115_c03eba1a5263level0_row0\" class=\"row_heading level0 row0\" >0</th>\n",
       "                        <td id=\"T_72a15f05_421f_11eb_a115_c03eba1a5263row0_col0\" class=\"data row0 col0\" >SBAF</td>\n",
       "                        <td id=\"T_72a15f05_421f_11eb_a115_c03eba1a5263row0_col1\" class=\"data row0 col1\" >4.9</td>\n",
       "                        <td id=\"T_72a15f05_421f_11eb_a115_c03eba1a5263row0_col2\" class=\"data row0 col2\" >6.7</td>\n",
       "                        <td id=\"T_72a15f05_421f_11eb_a115_c03eba1a5263row0_col3\" class=\"data row0 col3\" >9.0</td>\n",
       "                        <td id=\"T_72a15f05_421f_11eb_a115_c03eba1a5263row0_col4\" class=\"data row0 col4\" >5.3</td>\n",
       "                        <td id=\"T_72a15f05_421f_11eb_a115_c03eba1a5263row0_col5\" class=\"data row0 col5\" >6.0</td>\n",
       "            </tr>\n",
       "            <tr>\n",
       "                        <th id=\"T_72a15f05_421f_11eb_a115_c03eba1a5263level0_row1\" class=\"row_heading level0 row1\" >1</th>\n",
       "                        <td id=\"T_72a15f05_421f_11eb_a115_c03eba1a5263row1_col0\" class=\"data row1 col0\" >STF</td>\n",
       "                        <td id=\"T_72a15f05_421f_11eb_a115_c03eba1a5263row1_col1\" class=\"data row1 col1\" >5.9</td>\n",
       "                        <td id=\"T_72a15f05_421f_11eb_a115_c03eba1a5263row1_col2\" class=\"data row1 col2\" >3.4</td>\n",
       "                        <td id=\"T_72a15f05_421f_11eb_a115_c03eba1a5263row1_col3\" class=\"data row1 col3\" >3.1</td>\n",
       "                        <td id=\"T_72a15f05_421f_11eb_a115_c03eba1a5263row1_col4\" class=\"data row1 col4\" >2.9</td>\n",
       "                        <td id=\"T_72a15f05_421f_11eb_a115_c03eba1a5263row1_col5\" class=\"data row1 col5\" >2.4</td>\n",
       "            </tr>\n",
       "            <tr>\n",
       "                        <th id=\"T_72a15f05_421f_11eb_a115_c03eba1a5263level0_row2\" class=\"row_heading level0 row2\" >2</th>\n",
       "                        <td id=\"T_72a15f05_421f_11eb_a115_c03eba1a5263row2_col0\" class=\"data row2 col0\" >STAR</td>\n",
       "                        <td id=\"T_72a15f05_421f_11eb_a115_c03eba1a5263row2_col1\" class=\"data row2 col1\" >14.9</td>\n",
       "                        <td id=\"T_72a15f05_421f_11eb_a115_c03eba1a5263row2_col2\" class=\"data row2 col2\" >15.1</td>\n",
       "                        <td id=\"T_72a15f05_421f_11eb_a115_c03eba1a5263row2_col3\" class=\"data row2 col3\" >13.9</td>\n",
       "                        <td id=\"T_72a15f05_421f_11eb_a115_c03eba1a5263row2_col4\" class=\"data row2 col4\" >16.0</td>\n",
       "                        <td id=\"T_72a15f05_421f_11eb_a115_c03eba1a5263row2_col5\" class=\"data row2 col5\" >18.1</td>\n",
       "            </tr>\n",
       "            <tr>\n",
       "                        <th id=\"T_72a15f05_421f_11eb_a115_c03eba1a5263level0_row3\" class=\"row_heading level0 row3\" >3</th>\n",
       "                        <td id=\"T_72a15f05_421f_11eb_a115_c03eba1a5263row3_col0\" class=\"data row3 col0\" >[SBAF+STF+STAR]</td>\n",
       "                        <td id=\"T_72a15f05_421f_11eb_a115_c03eba1a5263row3_col1\" class=\"data row3 col1\" >8.7</td>\n",
       "                        <td id=\"T_72a15f05_421f_11eb_a115_c03eba1a5263row3_col2\" class=\"data row3 col2\" >10.1</td>\n",
       "                        <td id=\"T_72a15f05_421f_11eb_a115_c03eba1a5263row3_col3\" class=\"data row3 col3\" >9.7</td>\n",
       "                        <td id=\"T_72a15f05_421f_11eb_a115_c03eba1a5263row3_col4\" class=\"data row3 col4\" >10.5</td>\n",
       "                        <td id=\"T_72a15f05_421f_11eb_a115_c03eba1a5263row3_col5\" class=\"data row3 col5\" >10.6</td>\n",
       "            </tr>\n",
       "            <tr>\n",
       "                        <th id=\"T_72a15f05_421f_11eb_a115_c03eba1a5263level0_row4\" class=\"row_heading level0 row4\" >4</th>\n",
       "                        <td id=\"T_72a15f05_421f_11eb_a115_c03eba1a5263row4_col0\" class=\"data row4 col0\" >[SBAF+STF]</td>\n",
       "                        <td id=\"T_72a15f05_421f_11eb_a115_c03eba1a5263row4_col1\" class=\"data row4 col1\" >7.2</td>\n",
       "                        <td id=\"T_72a15f05_421f_11eb_a115_c03eba1a5263row4_col2\" class=\"data row4 col2\" >8.1</td>\n",
       "                        <td id=\"T_72a15f05_421f_11eb_a115_c03eba1a5263row4_col3\" class=\"data row4 col3\" >9.1</td>\n",
       "                        <td id=\"T_72a15f05_421f_11eb_a115_c03eba1a5263row4_col4\" class=\"data row4 col4\" >10.9</td>\n",
       "                        <td id=\"T_72a15f05_421f_11eb_a115_c03eba1a5263row4_col5\" class=\"data row4 col5\" >10.1</td>\n",
       "            </tr>\n",
       "            <tr>\n",
       "                        <th id=\"T_72a15f05_421f_11eb_a115_c03eba1a5263level0_row5\" class=\"row_heading level0 row5\" >5</th>\n",
       "                        <td id=\"T_72a15f05_421f_11eb_a115_c03eba1a5263row5_col0\" class=\"data row5 col0\" >[SBAF+STAR]</td>\n",
       "                        <td id=\"T_72a15f05_421f_11eb_a115_c03eba1a5263row5_col1\" class=\"data row5 col1\" >5.8</td>\n",
       "                        <td id=\"T_72a15f05_421f_11eb_a115_c03eba1a5263row5_col2\" class=\"data row5 col2\" >7.7</td>\n",
       "                        <td id=\"T_72a15f05_421f_11eb_a115_c03eba1a5263row5_col3\" class=\"data row5 col3\" >7.8</td>\n",
       "                        <td id=\"T_72a15f05_421f_11eb_a115_c03eba1a5263row5_col4\" class=\"data row5 col4\" >9.8</td>\n",
       "                        <td id=\"T_72a15f05_421f_11eb_a115_c03eba1a5263row5_col5\" class=\"data row5 col5\" >7.0</td>\n",
       "            </tr>\n",
       "            <tr>\n",
       "                        <th id=\"T_72a15f05_421f_11eb_a115_c03eba1a5263level0_row6\" class=\"row_heading level0 row6\" >6</th>\n",
       "                        <td id=\"T_72a15f05_421f_11eb_a115_c03eba1a5263row6_col0\" class=\"data row6 col0\" >[STAR+STF]</td>\n",
       "                        <td id=\"T_72a15f05_421f_11eb_a115_c03eba1a5263row6_col1\" class=\"data row6 col1\" >0.8</td>\n",
       "                        <td id=\"T_72a15f05_421f_11eb_a115_c03eba1a5263row6_col2\" class=\"data row6 col2\" >0.8</td>\n",
       "                        <td id=\"T_72a15f05_421f_11eb_a115_c03eba1a5263row6_col3\" class=\"data row6 col3\" >0.5</td>\n",
       "                        <td id=\"T_72a15f05_421f_11eb_a115_c03eba1a5263row6_col4\" class=\"data row6 col4\" >0.4</td>\n",
       "                        <td id=\"T_72a15f05_421f_11eb_a115_c03eba1a5263row6_col5\" class=\"data row6 col5\" >0.3</td>\n",
       "            </tr>\n",
       "            <tr>\n",
       "                        <th id=\"T_72a15f05_421f_11eb_a115_c03eba1a5263level0_row7\" class=\"row_heading level0 row7\" >7</th>\n",
       "                        <td id=\"T_72a15f05_421f_11eb_a115_c03eba1a5263row7_col0\" class=\"data row7 col0\" >[SBAF]+[STF]+[STAR]</td>\n",
       "                        <td id=\"T_72a15f05_421f_11eb_a115_c03eba1a5263row7_col1\" class=\"data row7 col1\" >0.6</td>\n",
       "                        <td id=\"T_72a15f05_421f_11eb_a115_c03eba1a5263row7_col2\" class=\"data row7 col2\" >0.7</td>\n",
       "                        <td id=\"T_72a15f05_421f_11eb_a115_c03eba1a5263row7_col3\" class=\"data row7 col3\" >0.6</td>\n",
       "                        <td id=\"T_72a15f05_421f_11eb_a115_c03eba1a5263row7_col4\" class=\"data row7 col4\" >0.4</td>\n",
       "                        <td id=\"T_72a15f05_421f_11eb_a115_c03eba1a5263row7_col5\" class=\"data row7 col5\" >0.3</td>\n",
       "            </tr>\n",
       "            <tr>\n",
       "                        <th id=\"T_72a15f05_421f_11eb_a115_c03eba1a5263level0_row8\" class=\"row_heading level0 row8\" >8</th>\n",
       "                        <td id=\"T_72a15f05_421f_11eb_a115_c03eba1a5263row8_col0\" class=\"data row8 col0\" >[SBAF]+[STF]</td>\n",
       "                        <td id=\"T_72a15f05_421f_11eb_a115_c03eba1a5263row8_col1\" class=\"data row8 col1\" >0.4</td>\n",
       "                        <td id=\"T_72a15f05_421f_11eb_a115_c03eba1a5263row8_col2\" class=\"data row8 col2\" >0.4</td>\n",
       "                        <td id=\"T_72a15f05_421f_11eb_a115_c03eba1a5263row8_col3\" class=\"data row8 col3\" >0.5</td>\n",
       "                        <td id=\"T_72a15f05_421f_11eb_a115_c03eba1a5263row8_col4\" class=\"data row8 col4\" >0.3</td>\n",
       "                        <td id=\"T_72a15f05_421f_11eb_a115_c03eba1a5263row8_col5\" class=\"data row8 col5\" >0.2</td>\n",
       "            </tr>\n",
       "            <tr>\n",
       "                        <th id=\"T_72a15f05_421f_11eb_a115_c03eba1a5263level0_row9\" class=\"row_heading level0 row9\" >9</th>\n",
       "                        <td id=\"T_72a15f05_421f_11eb_a115_c03eba1a5263row9_col0\" class=\"data row9 col0\" >[SBAF]+[STAR]</td>\n",
       "                        <td id=\"T_72a15f05_421f_11eb_a115_c03eba1a5263row9_col1\" class=\"data row9 col1\" >2.7</td>\n",
       "                        <td id=\"T_72a15f05_421f_11eb_a115_c03eba1a5263row9_col2\" class=\"data row9 col2\" >6.1</td>\n",
       "                        <td id=\"T_72a15f05_421f_11eb_a115_c03eba1a5263row9_col3\" class=\"data row9 col3\" >6.6</td>\n",
       "                        <td id=\"T_72a15f05_421f_11eb_a115_c03eba1a5263row9_col4\" class=\"data row9 col4\" >2.3</td>\n",
       "                        <td id=\"T_72a15f05_421f_11eb_a115_c03eba1a5263row9_col5\" class=\"data row9 col5\" >3.0</td>\n",
       "            </tr>\n",
       "            <tr>\n",
       "                        <th id=\"T_72a15f05_421f_11eb_a115_c03eba1a5263level0_row10\" class=\"row_heading level0 row10\" >10</th>\n",
       "                        <td id=\"T_72a15f05_421f_11eb_a115_c03eba1a5263row10_col0\" class=\"data row10 col0\" >[STAR]+[STF]</td>\n",
       "                        <td id=\"T_72a15f05_421f_11eb_a115_c03eba1a5263row10_col1\" class=\"data row10 col1\" >3.0</td>\n",
       "                        <td id=\"T_72a15f05_421f_11eb_a115_c03eba1a5263row10_col2\" class=\"data row10 col2\" >2.5</td>\n",
       "                        <td id=\"T_72a15f05_421f_11eb_a115_c03eba1a5263row10_col3\" class=\"data row10 col3\" >2.3</td>\n",
       "                        <td id=\"T_72a15f05_421f_11eb_a115_c03eba1a5263row10_col4\" class=\"data row10 col4\" >2.0</td>\n",
       "                        <td id=\"T_72a15f05_421f_11eb_a115_c03eba1a5263row10_col5\" class=\"data row10 col5\" >2.0</td>\n",
       "            </tr>\n",
       "            <tr>\n",
       "                        <th id=\"T_72a15f05_421f_11eb_a115_c03eba1a5263level0_row11\" class=\"row_heading level0 row11\" >11</th>\n",
       "                        <td id=\"T_72a15f05_421f_11eb_a115_c03eba1a5263row11_col0\" class=\"data row11 col0\" >[SBAF]+[STAR+STF]</td>\n",
       "                        <td id=\"T_72a15f05_421f_11eb_a115_c03eba1a5263row11_col1\" class=\"data row11 col1\" >0.1</td>\n",
       "                        <td id=\"T_72a15f05_421f_11eb_a115_c03eba1a5263row11_col2\" class=\"data row11 col2\" >0.1</td>\n",
       "                        <td id=\"T_72a15f05_421f_11eb_a115_c03eba1a5263row11_col3\" class=\"data row11 col3\" >0.1</td>\n",
       "                        <td id=\"T_72a15f05_421f_11eb_a115_c03eba1a5263row11_col4\" class=\"data row11 col4\" >0.0</td>\n",
       "                        <td id=\"T_72a15f05_421f_11eb_a115_c03eba1a5263row11_col5\" class=\"data row11 col5\" >0.1</td>\n",
       "            </tr>\n",
       "            <tr>\n",
       "                        <th id=\"T_72a15f05_421f_11eb_a115_c03eba1a5263level0_row12\" class=\"row_heading level0 row12\" >12</th>\n",
       "                        <td id=\"T_72a15f05_421f_11eb_a115_c03eba1a5263row12_col0\" class=\"data row12 col0\" >[STAR]+[SBAF+STF]</td>\n",
       "                        <td id=\"T_72a15f05_421f_11eb_a115_c03eba1a5263row12_col1\" class=\"data row12 col1\" >10.8</td>\n",
       "                        <td id=\"T_72a15f05_421f_11eb_a115_c03eba1a5263row12_col2\" class=\"data row12 col2\" >11.8</td>\n",
       "                        <td id=\"T_72a15f05_421f_11eb_a115_c03eba1a5263row12_col3\" class=\"data row12 col3\" >9.2</td>\n",
       "                        <td id=\"T_72a15f05_421f_11eb_a115_c03eba1a5263row12_col4\" class=\"data row12 col4\" >8.9</td>\n",
       "                        <td id=\"T_72a15f05_421f_11eb_a115_c03eba1a5263row12_col5\" class=\"data row12 col5\" >6.9</td>\n",
       "            </tr>\n",
       "            <tr>\n",
       "                        <th id=\"T_72a15f05_421f_11eb_a115_c03eba1a5263level0_row13\" class=\"row_heading level0 row13\" >13</th>\n",
       "                        <td id=\"T_72a15f05_421f_11eb_a115_c03eba1a5263row13_col0\" class=\"data row13 col0\" >[STF]+[STAR+SBAF]</td>\n",
       "                        <td id=\"T_72a15f05_421f_11eb_a115_c03eba1a5263row13_col1\" class=\"data row13 col1\" >1.0</td>\n",
       "                        <td id=\"T_72a15f05_421f_11eb_a115_c03eba1a5263row13_col2\" class=\"data row13 col2\" >1.0</td>\n",
       "                        <td id=\"T_72a15f05_421f_11eb_a115_c03eba1a5263row13_col3\" class=\"data row13 col3\" >0.7</td>\n",
       "                        <td id=\"T_72a15f05_421f_11eb_a115_c03eba1a5263row13_col4\" class=\"data row13 col4\" >0.6</td>\n",
       "                        <td id=\"T_72a15f05_421f_11eb_a115_c03eba1a5263row13_col5\" class=\"data row13 col5\" >0.4</td>\n",
       "            </tr>\n",
       "            <tr>\n",
       "                        <th id=\"T_72a15f05_421f_11eb_a115_c03eba1a5263level0_row14\" class=\"row_heading level0 row14\" >14</th>\n",
       "                        <td id=\"T_72a15f05_421f_11eb_a115_c03eba1a5263row14_col0\" class=\"data row14 col0\" >Combinaciones atípicas de los 3 servicios</td>\n",
       "                        <td id=\"T_72a15f05_421f_11eb_a115_c03eba1a5263row14_col1\" class=\"data row14 col1\" >1.3</td>\n",
       "                        <td id=\"T_72a15f05_421f_11eb_a115_c03eba1a5263row14_col2\" class=\"data row14 col2\" >2.3</td>\n",
       "                        <td id=\"T_72a15f05_421f_11eb_a115_c03eba1a5263row14_col3\" class=\"data row14 col3\" >2.2</td>\n",
       "                        <td id=\"T_72a15f05_421f_11eb_a115_c03eba1a5263row14_col4\" class=\"data row14 col4\" >0.3</td>\n",
       "                        <td id=\"T_72a15f05_421f_11eb_a115_c03eba1a5263row14_col5\" class=\"data row14 col5\" >0.3</td>\n",
       "            </tr>\n",
       "            <tr>\n",
       "                        <th id=\"T_72a15f05_421f_11eb_a115_c03eba1a5263level0_row15\" class=\"row_heading level0 row15\" >15</th>\n",
       "                        <td id=\"T_72a15f05_421f_11eb_a115_c03eba1a5263row15_col0\" class=\"data row15 col0\" >Ningún servicio contratado</td>\n",
       "                        <td id=\"T_72a15f05_421f_11eb_a115_c03eba1a5263row15_col1\" class=\"data row15 col1\" >31.9</td>\n",
       "                        <td id=\"T_72a15f05_421f_11eb_a115_c03eba1a5263row15_col2\" class=\"data row15 col2\" >23.0</td>\n",
       "                        <td id=\"T_72a15f05_421f_11eb_a115_c03eba1a5263row15_col3\" class=\"data row15 col3\" >24.8</td>\n",
       "                        <td id=\"T_72a15f05_421f_11eb_a115_c03eba1a5263row15_col4\" class=\"data row15 col4\" >29.6</td>\n",
       "                        <td id=\"T_72a15f05_421f_11eb_a115_c03eba1a5263row15_col5\" class=\"data row15 col5\" >32.4</td>\n",
       "            </tr>\n",
       "    </tbody></table>"
      ],
      "text/plain": [
       "<pandas.io.formats.style.Styler at 0x2b6e2b24c70>"
      ]
     },
     "execution_count": 203,
     "metadata": {},
     "output_type": "execute_result"
    }
   ],
   "source": [
    "tabla_anios_perc2"
   ]
  },
  {
   "cell_type": "code",
   "execution_count": 204,
   "metadata": {},
   "outputs": [],
   "source": [
    "#Ahora se hace el análisis de telecomunicaciones móviles con datos del BIT (banco de información de telecomunicaciones) del IFT. (https://bit.ift.org.mx/BitWebApp/descargaArchivos.xhtml)\n",
    "#Se abre la base del BIT de las líneas del servicio de telefonía móvil\n",
    "portable = pd.read_csv('TD_LINEAS_TELMOVIL_ITE_VA.csv',encoding='latin-1')"
   ]
  },
  {
   "cell_type": "code",
   "execution_count": 205,
   "metadata": {},
   "outputs": [
    {
     "data": {
      "text/html": [
       "<div>\n",
       "<style scoped>\n",
       "    .dataframe tbody tr th:only-of-type {\n",
       "        vertical-align: middle;\n",
       "    }\n",
       "\n",
       "    .dataframe tbody tr th {\n",
       "        vertical-align: top;\n",
       "    }\n",
       "\n",
       "    .dataframe thead th {\n",
       "        text-align: right;\n",
       "    }\n",
       "</style>\n",
       "<table border=\"1\" class=\"dataframe\">\n",
       "  <thead>\n",
       "    <tr style=\"text-align: right;\">\n",
       "      <th></th>\n",
       "      <th>K_EMPRESA</th>\n",
       "      <th>ANIO</th>\n",
       "      <th>MES</th>\n",
       "      <th>FOLIO</th>\n",
       "      <th>FECHA</th>\n",
       "      <th>CONCESIONARIO</th>\n",
       "      <th>EMPRESA</th>\n",
       "      <th>L_TOTAL_E</th>\n",
       "      <th>L_PREPAGO_E</th>\n",
       "      <th>L_POSPAGOC_E</th>\n",
       "      <th>L_POSPAGOL_E</th>\n",
       "      <th>K_GRUPO</th>\n",
       "      <th>GRUPO</th>\n",
       "    </tr>\n",
       "  </thead>\n",
       "  <tbody>\n",
       "    <tr>\n",
       "      <th>0</th>\n",
       "      <td>C263</td>\n",
       "      <td>2013</td>\n",
       "      <td>1</td>\n",
       "      <td>100388</td>\n",
       "      <td>15JAN2013</td>\n",
       "      <td>IUSACELL PCS DE MEXICO, S.A. DE C.V.</td>\n",
       "      <td>IUSACELL</td>\n",
       "      <td>2,635,093</td>\n",
       "      <td>1,237,532</td>\n",
       "      <td>1,397,561</td>\n",
       "      <td>NaN</td>\n",
       "      <td>G005</td>\n",
       "      <td>IUSACELL-UNEFÓN</td>\n",
       "    </tr>\n",
       "    <tr>\n",
       "      <th>1</th>\n",
       "      <td>C263</td>\n",
       "      <td>2013</td>\n",
       "      <td>2</td>\n",
       "      <td>100388</td>\n",
       "      <td>15-feb-13</td>\n",
       "      <td>IUSACELL PCS DE MEXICO, S.A. DE C.V.</td>\n",
       "      <td>IUSACELL</td>\n",
       "      <td>2,708,804</td>\n",
       "      <td>1,285,116</td>\n",
       "      <td>1,423,688</td>\n",
       "      <td>NaN</td>\n",
       "      <td>G005</td>\n",
       "      <td>IUSACELL-UNEFÓN</td>\n",
       "    </tr>\n",
       "    <tr>\n",
       "      <th>2</th>\n",
       "      <td>C263</td>\n",
       "      <td>2013</td>\n",
       "      <td>3</td>\n",
       "      <td>100388</td>\n",
       "      <td>15-mar-13</td>\n",
       "      <td>IUSACELL PCS DE MEXICO, S.A. DE C.V.</td>\n",
       "      <td>IUSACELL</td>\n",
       "      <td>2,827,680</td>\n",
       "      <td>1,365,849</td>\n",
       "      <td>1,461,831</td>\n",
       "      <td>NaN</td>\n",
       "      <td>G005</td>\n",
       "      <td>IUSACELL-UNEFÓN</td>\n",
       "    </tr>\n",
       "    <tr>\n",
       "      <th>3</th>\n",
       "      <td>C263</td>\n",
       "      <td>2013</td>\n",
       "      <td>4</td>\n",
       "      <td>100388</td>\n",
       "      <td>15APR2013</td>\n",
       "      <td>IUSACELL PCS DE MEXICO, S.A. DE C.V.</td>\n",
       "      <td>IUSACELL</td>\n",
       "      <td>2,795,588</td>\n",
       "      <td>1,256,087</td>\n",
       "      <td>1,539,501</td>\n",
       "      <td>NaN</td>\n",
       "      <td>G005</td>\n",
       "      <td>IUSACELL-UNEFÓN</td>\n",
       "    </tr>\n",
       "    <tr>\n",
       "      <th>4</th>\n",
       "      <td>C263</td>\n",
       "      <td>2013</td>\n",
       "      <td>5</td>\n",
       "      <td>100388</td>\n",
       "      <td>15-may-13</td>\n",
       "      <td>IUSACELL PCS DE MEXICO, S.A. DE C.V.</td>\n",
       "      <td>IUSACELL</td>\n",
       "      <td>2,843,261</td>\n",
       "      <td>1,281,100</td>\n",
       "      <td>1,562,161</td>\n",
       "      <td>NaN</td>\n",
       "      <td>G005</td>\n",
       "      <td>IUSACELL-UNEFÓN</td>\n",
       "    </tr>\n",
       "  </tbody>\n",
       "</table>\n",
       "</div>"
      ],
      "text/plain": [
       "  K_EMPRESA  ANIO  MES   FOLIO      FECHA  \\\n",
       "0      C263  2013    1  100388  15JAN2013   \n",
       "1      C263  2013    2  100388  15-feb-13   \n",
       "2      C263  2013    3  100388  15-mar-13   \n",
       "3      C263  2013    4  100388  15APR2013   \n",
       "4      C263  2013    5  100388  15-may-13   \n",
       "\n",
       "                          CONCESIONARIO   EMPRESA  L_TOTAL_E L_PREPAGO_E  \\\n",
       "0  IUSACELL PCS DE MEXICO, S.A. DE C.V.  IUSACELL  2,635,093   1,237,532   \n",
       "1  IUSACELL PCS DE MEXICO, S.A. DE C.V.  IUSACELL  2,708,804   1,285,116   \n",
       "2  IUSACELL PCS DE MEXICO, S.A. DE C.V.  IUSACELL  2,827,680   1,365,849   \n",
       "3  IUSACELL PCS DE MEXICO, S.A. DE C.V.  IUSACELL  2,795,588   1,256,087   \n",
       "4  IUSACELL PCS DE MEXICO, S.A. DE C.V.  IUSACELL  2,843,261   1,281,100   \n",
       "\n",
       "  L_POSPAGOC_E L_POSPAGOL_E K_GRUPO            GRUPO  \n",
       "0    1,397,561          NaN    G005  IUSACELL-UNEFÓN  \n",
       "1    1,423,688          NaN    G005  IUSACELL-UNEFÓN  \n",
       "2    1,461,831          NaN    G005  IUSACELL-UNEFÓN  \n",
       "3    1,539,501          NaN    G005  IUSACELL-UNEFÓN  \n",
       "4    1,562,161          NaN    G005  IUSACELL-UNEFÓN  "
      ]
     },
     "execution_count": 205,
     "metadata": {},
     "output_type": "execute_result"
    }
   ],
   "source": [
    "portable.head()"
   ]
  },
  {
   "cell_type": "code",
   "execution_count": 206,
   "metadata": {},
   "outputs": [],
   "source": [
    "#Se cambian los \"NaN\" a cero en la variable de líneas de pospago\n",
    "portable['L_POSPAGOL_E'] = portable['L_POSPAGOL_E'].fillna(0)"
   ]
  },
  {
   "cell_type": "code",
   "execution_count": 207,
   "metadata": {},
   "outputs": [
    {
     "data": {
      "text/html": [
       "<div>\n",
       "<style scoped>\n",
       "    .dataframe tbody tr th:only-of-type {\n",
       "        vertical-align: middle;\n",
       "    }\n",
       "\n",
       "    .dataframe tbody tr th {\n",
       "        vertical-align: top;\n",
       "    }\n",
       "\n",
       "    .dataframe thead th {\n",
       "        text-align: right;\n",
       "    }\n",
       "</style>\n",
       "<table border=\"1\" class=\"dataframe\">\n",
       "  <thead>\n",
       "    <tr style=\"text-align: right;\">\n",
       "      <th></th>\n",
       "      <th>K_EMPRESA</th>\n",
       "      <th>ANIO</th>\n",
       "      <th>MES</th>\n",
       "      <th>FOLIO</th>\n",
       "      <th>FECHA</th>\n",
       "      <th>CONCESIONARIO</th>\n",
       "      <th>EMPRESA</th>\n",
       "      <th>L_TOTAL_E</th>\n",
       "      <th>L_PREPAGO_E</th>\n",
       "      <th>L_POSPAGOC_E</th>\n",
       "      <th>L_POSPAGOL_E</th>\n",
       "      <th>K_GRUPO</th>\n",
       "      <th>GRUPO</th>\n",
       "    </tr>\n",
       "  </thead>\n",
       "  <tbody>\n",
       "    <tr>\n",
       "      <th>230</th>\n",
       "      <td>C422</td>\n",
       "      <td>2017</td>\n",
       "      <td>3</td>\n",
       "      <td>101346</td>\n",
       "      <td>15-mar-17</td>\n",
       "      <td>PEGASO PCS, S.A. DE C.V.</td>\n",
       "      <td>TELEFONICA</td>\n",
       "      <td>25,803,432</td>\n",
       "      <td>24,493,702</td>\n",
       "      <td>1,309,730</td>\n",
       "      <td>0</td>\n",
       "      <td>G003</td>\n",
       "      <td>TELEFÓNICA</td>\n",
       "    </tr>\n",
       "    <tr>\n",
       "      <th>231</th>\n",
       "      <td>C422</td>\n",
       "      <td>2017</td>\n",
       "      <td>4</td>\n",
       "      <td>101346</td>\n",
       "      <td>15APR2017</td>\n",
       "      <td>PEGASO PCS, S.A. DE C.V.</td>\n",
       "      <td>TELEFONICA</td>\n",
       "      <td>25,092,578</td>\n",
       "      <td>23,760,572</td>\n",
       "      <td>1,332,006</td>\n",
       "      <td>1,244,886</td>\n",
       "      <td>G003</td>\n",
       "      <td>TELEFÓNICA</td>\n",
       "    </tr>\n",
       "    <tr>\n",
       "      <th>232</th>\n",
       "      <td>C422</td>\n",
       "      <td>2017</td>\n",
       "      <td>5</td>\n",
       "      <td>101346</td>\n",
       "      <td>15-may-17</td>\n",
       "      <td>PEGASO PCS, S.A. DE C.V.</td>\n",
       "      <td>TELEFONICA</td>\n",
       "      <td>25,096,517</td>\n",
       "      <td>23,747,726</td>\n",
       "      <td>1,348,791</td>\n",
       "      <td>1,262,813</td>\n",
       "      <td>G003</td>\n",
       "      <td>TELEFÓNICA</td>\n",
       "    </tr>\n",
       "    <tr>\n",
       "      <th>233</th>\n",
       "      <td>C422</td>\n",
       "      <td>2017</td>\n",
       "      <td>6</td>\n",
       "      <td>101346</td>\n",
       "      <td>15-jun-17</td>\n",
       "      <td>PEGASO PCS, S.A. DE C.V.</td>\n",
       "      <td>TELEFONICA</td>\n",
       "      <td>24,736,791</td>\n",
       "      <td>23,374,170</td>\n",
       "      <td>1,362,621</td>\n",
       "      <td>1,277,881</td>\n",
       "      <td>G003</td>\n",
       "      <td>TELEFÓNICA</td>\n",
       "    </tr>\n",
       "    <tr>\n",
       "      <th>234</th>\n",
       "      <td>C422</td>\n",
       "      <td>2017</td>\n",
       "      <td>7</td>\n",
       "      <td>101346</td>\n",
       "      <td>15-jul-17</td>\n",
       "      <td>PEGASO PCS, S.A. DE C.V.</td>\n",
       "      <td>TELEFONICA</td>\n",
       "      <td>24,300,001</td>\n",
       "      <td>22,904,553</td>\n",
       "      <td>1,395,448</td>\n",
       "      <td>1,311,055</td>\n",
       "      <td>G003</td>\n",
       "      <td>TELEFÓNICA</td>\n",
       "    </tr>\n",
       "    <tr>\n",
       "      <th>235</th>\n",
       "      <td>C422</td>\n",
       "      <td>2017</td>\n",
       "      <td>8</td>\n",
       "      <td>101346</td>\n",
       "      <td>15AUG2017</td>\n",
       "      <td>PEGASO PCS, S.A. DE C.V.</td>\n",
       "      <td>TELEFONICA</td>\n",
       "      <td>24,081,724</td>\n",
       "      <td>22,661,205</td>\n",
       "      <td>1,420,519</td>\n",
       "      <td>1,337,221</td>\n",
       "      <td>G003</td>\n",
       "      <td>TELEFÓNICA</td>\n",
       "    </tr>\n",
       "    <tr>\n",
       "      <th>236</th>\n",
       "      <td>C422</td>\n",
       "      <td>2017</td>\n",
       "      <td>9</td>\n",
       "      <td>101346</td>\n",
       "      <td>15-sep-17</td>\n",
       "      <td>PEGASO PCS, S.A. DE C.V.</td>\n",
       "      <td>TELEFONICA</td>\n",
       "      <td>23,990,087</td>\n",
       "      <td>22,533,384</td>\n",
       "      <td>1,456,703</td>\n",
       "      <td>1,374,012</td>\n",
       "      <td>G003</td>\n",
       "      <td>TELEFÓNICA</td>\n",
       "    </tr>\n",
       "    <tr>\n",
       "      <th>237</th>\n",
       "      <td>C422</td>\n",
       "      <td>2017</td>\n",
       "      <td>10</td>\n",
       "      <td>101346</td>\n",
       "      <td>15-oct-17</td>\n",
       "      <td>PEGASO PCS, S.A. DE C.V.</td>\n",
       "      <td>TELEFONICA</td>\n",
       "      <td>23,982,189</td>\n",
       "      <td>22,487,197</td>\n",
       "      <td>1,494,992</td>\n",
       "      <td>1,412,940</td>\n",
       "      <td>G003</td>\n",
       "      <td>TELEFÓNICA</td>\n",
       "    </tr>\n",
       "    <tr>\n",
       "      <th>238</th>\n",
       "      <td>C422</td>\n",
       "      <td>2017</td>\n",
       "      <td>11</td>\n",
       "      <td>101346</td>\n",
       "      <td>15-nov-17</td>\n",
       "      <td>PEGASO PCS, S.A. DE C.V.</td>\n",
       "      <td>TELEFONICA</td>\n",
       "      <td>24,151,222</td>\n",
       "      <td>22,624,286</td>\n",
       "      <td>1,526,936</td>\n",
       "      <td>1,450,396</td>\n",
       "      <td>G003</td>\n",
       "      <td>TELEFÓNICA</td>\n",
       "    </tr>\n",
       "    <tr>\n",
       "      <th>239</th>\n",
       "      <td>C422</td>\n",
       "      <td>2017</td>\n",
       "      <td>12</td>\n",
       "      <td>101346</td>\n",
       "      <td>15DEC2017</td>\n",
       "      <td>PEGASO PCS, S.A. DE C.V.</td>\n",
       "      <td>TELEFONICA</td>\n",
       "      <td>24,494,831</td>\n",
       "      <td>22,947,157</td>\n",
       "      <td>1,547,674</td>\n",
       "      <td>1,495,901</td>\n",
       "      <td>G003</td>\n",
       "      <td>TELEFÓNICA</td>\n",
       "    </tr>\n",
       "  </tbody>\n",
       "</table>\n",
       "</div>"
      ],
      "text/plain": [
       "    K_EMPRESA  ANIO  MES   FOLIO      FECHA             CONCESIONARIO  \\\n",
       "230      C422  2017    3  101346  15-mar-17  PEGASO PCS, S.A. DE C.V.   \n",
       "231      C422  2017    4  101346  15APR2017  PEGASO PCS, S.A. DE C.V.   \n",
       "232      C422  2017    5  101346  15-may-17  PEGASO PCS, S.A. DE C.V.   \n",
       "233      C422  2017    6  101346  15-jun-17  PEGASO PCS, S.A. DE C.V.   \n",
       "234      C422  2017    7  101346  15-jul-17  PEGASO PCS, S.A. DE C.V.   \n",
       "235      C422  2017    8  101346  15AUG2017  PEGASO PCS, S.A. DE C.V.   \n",
       "236      C422  2017    9  101346  15-sep-17  PEGASO PCS, S.A. DE C.V.   \n",
       "237      C422  2017   10  101346  15-oct-17  PEGASO PCS, S.A. DE C.V.   \n",
       "238      C422  2017   11  101346  15-nov-17  PEGASO PCS, S.A. DE C.V.   \n",
       "239      C422  2017   12  101346  15DEC2017  PEGASO PCS, S.A. DE C.V.   \n",
       "\n",
       "        EMPRESA   L_TOTAL_E L_PREPAGO_E L_POSPAGOC_E L_POSPAGOL_E K_GRUPO  \\\n",
       "230  TELEFONICA  25,803,432  24,493,702    1,309,730            0    G003   \n",
       "231  TELEFONICA  25,092,578  23,760,572    1,332,006    1,244,886    G003   \n",
       "232  TELEFONICA  25,096,517  23,747,726    1,348,791    1,262,813    G003   \n",
       "233  TELEFONICA  24,736,791  23,374,170    1,362,621    1,277,881    G003   \n",
       "234  TELEFONICA  24,300,001  22,904,553    1,395,448    1,311,055    G003   \n",
       "235  TELEFONICA  24,081,724  22,661,205    1,420,519    1,337,221    G003   \n",
       "236  TELEFONICA  23,990,087  22,533,384    1,456,703    1,374,012    G003   \n",
       "237  TELEFONICA  23,982,189  22,487,197    1,494,992    1,412,940    G003   \n",
       "238  TELEFONICA  24,151,222  22,624,286    1,526,936    1,450,396    G003   \n",
       "239  TELEFONICA  24,494,831  22,947,157    1,547,674    1,495,901    G003   \n",
       "\n",
       "          GRUPO  \n",
       "230  TELEFÓNICA  \n",
       "231  TELEFÓNICA  \n",
       "232  TELEFÓNICA  \n",
       "233  TELEFÓNICA  \n",
       "234  TELEFÓNICA  \n",
       "235  TELEFÓNICA  \n",
       "236  TELEFÓNICA  \n",
       "237  TELEFÓNICA  \n",
       "238  TELEFÓNICA  \n",
       "239  TELEFÓNICA  "
      ]
     },
     "execution_count": 207,
     "metadata": {},
     "output_type": "execute_result"
    }
   ],
   "source": [
    "portable[230:240]"
   ]
  },
  {
   "cell_type": "code",
   "execution_count": 208,
   "metadata": {},
   "outputs": [
    {
     "data": {
      "text/plain": [
       "K_EMPRESA        object\n",
       "ANIO              int64\n",
       "MES               int64\n",
       "FOLIO             int64\n",
       "FECHA            object\n",
       "CONCESIONARIO    object\n",
       "EMPRESA          object\n",
       "L_TOTAL_E        object\n",
       "L_PREPAGO_E      object\n",
       "L_POSPAGOC_E     object\n",
       "L_POSPAGOL_E     object\n",
       "K_GRUPO          object\n",
       "GRUPO            object\n",
       "dtype: object"
      ]
     },
     "execution_count": 208,
     "metadata": {},
     "output_type": "execute_result"
    }
   ],
   "source": [
    "portable.dtypes"
   ]
  },
  {
   "cell_type": "code",
   "execution_count": 209,
   "metadata": {},
   "outputs": [],
   "source": [
    "#Se cambian las variables de las líneas móviles de prepago, pospago y totales a tipo \"float\" para poder manipularlas mejor\n",
    "portable['L_TOTAL_E'] = portable['L_TOTAL_E'].apply(lambda x: (x.replace(',',''))).astype(float)"
   ]
  },
  {
   "cell_type": "code",
   "execution_count": 210,
   "metadata": {},
   "outputs": [],
   "source": [
    "portable['L_POSPAGOL_E']=portable['L_POSPAGOL_E'].astype(str)"
   ]
  },
  {
   "cell_type": "code",
   "execution_count": 211,
   "metadata": {},
   "outputs": [],
   "source": [
    "portable['L_PREPAGO_E']=portable['L_PREPAGO_E'].astype(str)"
   ]
  },
  {
   "cell_type": "code",
   "execution_count": 212,
   "metadata": {},
   "outputs": [],
   "source": [
    "portable['L_POSPAGOC_E']=portable['L_POSPAGOC_E'].astype(str)"
   ]
  },
  {
   "cell_type": "code",
   "execution_count": 213,
   "metadata": {},
   "outputs": [],
   "source": [
    "portable['L_POSPAGOL_E'] = portable['L_POSPAGOL_E'].apply(lambda x: (x.replace(',',''))).astype(float)"
   ]
  },
  {
   "cell_type": "code",
   "execution_count": 214,
   "metadata": {},
   "outputs": [],
   "source": [
    "portable['L_PREPAGO_E'] = portable['L_PREPAGO_E'].apply(lambda x: (x.replace(',',''))).astype(float)"
   ]
  },
  {
   "cell_type": "code",
   "execution_count": 215,
   "metadata": {},
   "outputs": [],
   "source": [
    "portable['L_POSPAGOC_E'] = portable['L_POSPAGOC_E'].apply(lambda x: (x.replace(',',''))).astype(float)"
   ]
  },
  {
   "cell_type": "code",
   "execution_count": 216,
   "metadata": {},
   "outputs": [],
   "source": [
    "portable['L_POSPAGO']=portable['L_POSPAGOC_E']+portable['L_POSPAGOL_E']"
   ]
  },
  {
   "cell_type": "code",
   "execution_count": 217,
   "metadata": {},
   "outputs": [],
   "source": [
    "#Se agrupa por año para tener la suma de líneas de prepago y de pospago\n",
    "portable_anios=portable.groupby('ANIO',as_index=False).agg({'L_POSPAGO':'sum','L_PREPAGO_E':'sum'})[0:7]"
   ]
  },
  {
   "cell_type": "code",
   "execution_count": 218,
   "metadata": {},
   "outputs": [
    {
     "data": {
      "text/html": [
       "<div>\n",
       "<style scoped>\n",
       "    .dataframe tbody tr th:only-of-type {\n",
       "        vertical-align: middle;\n",
       "    }\n",
       "\n",
       "    .dataframe tbody tr th {\n",
       "        vertical-align: top;\n",
       "    }\n",
       "\n",
       "    .dataframe thead th {\n",
       "        text-align: right;\n",
       "    }\n",
       "</style>\n",
       "<table border=\"1\" class=\"dataframe\">\n",
       "  <thead>\n",
       "    <tr style=\"text-align: right;\">\n",
       "      <th></th>\n",
       "      <th>ANIO</th>\n",
       "      <th>L_POSPAGO</th>\n",
       "      <th>L_PREPAGO_E</th>\n",
       "    </tr>\n",
       "  </thead>\n",
       "  <tbody>\n",
       "    <tr>\n",
       "      <th>0</th>\n",
       "      <td>2013</td>\n",
       "      <td>195397461.0</td>\n",
       "      <td>1.054948e+09</td>\n",
       "    </tr>\n",
       "    <tr>\n",
       "      <th>1</th>\n",
       "      <td>2014</td>\n",
       "      <td>188913797.0</td>\n",
       "      <td>1.051096e+09</td>\n",
       "    </tr>\n",
       "    <tr>\n",
       "      <th>2</th>\n",
       "      <td>2015</td>\n",
       "      <td>194249818.0</td>\n",
       "      <td>1.059430e+09</td>\n",
       "    </tr>\n",
       "    <tr>\n",
       "      <th>3</th>\n",
       "      <td>2016</td>\n",
       "      <td>203386260.0</td>\n",
       "      <td>1.106319e+09</td>\n",
       "    </tr>\n",
       "    <tr>\n",
       "      <th>4</th>\n",
       "      <td>2017</td>\n",
       "      <td>236764123.0</td>\n",
       "      <td>1.122622e+09</td>\n",
       "    </tr>\n",
       "    <tr>\n",
       "      <th>5</th>\n",
       "      <td>2018</td>\n",
       "      <td>236918813.0</td>\n",
       "      <td>1.165316e+09</td>\n",
       "    </tr>\n",
       "    <tr>\n",
       "      <th>6</th>\n",
       "      <td>2019</td>\n",
       "      <td>240441900.0</td>\n",
       "      <td>1.195760e+09</td>\n",
       "    </tr>\n",
       "  </tbody>\n",
       "</table>\n",
       "</div>"
      ],
      "text/plain": [
       "   ANIO    L_POSPAGO   L_PREPAGO_E\n",
       "0  2013  195397461.0  1.054948e+09\n",
       "1  2014  188913797.0  1.051096e+09\n",
       "2  2015  194249818.0  1.059430e+09\n",
       "3  2016  203386260.0  1.106319e+09\n",
       "4  2017  236764123.0  1.122622e+09\n",
       "5  2018  236918813.0  1.165316e+09\n",
       "6  2019  240441900.0  1.195760e+09"
      ]
     },
     "execution_count": 218,
     "metadata": {},
     "output_type": "execute_result"
    }
   ],
   "source": [
    "portable_anios"
   ]
  },
  {
   "cell_type": "code",
   "execution_count": 219,
   "metadata": {},
   "outputs": [],
   "source": [
    "#Se obtiene el total de líneas de la agrupación\n",
    "portable_anios['TOTAL_LINEAS']=portable_anios['L_POSPAGO']+portable_anios['L_PREPAGO_E']"
   ]
  },
  {
   "cell_type": "code",
   "execution_count": 220,
   "metadata": {},
   "outputs": [
    {
     "data": {
      "text/html": [
       "<div>\n",
       "<style scoped>\n",
       "    .dataframe tbody tr th:only-of-type {\n",
       "        vertical-align: middle;\n",
       "    }\n",
       "\n",
       "    .dataframe tbody tr th {\n",
       "        vertical-align: top;\n",
       "    }\n",
       "\n",
       "    .dataframe thead th {\n",
       "        text-align: right;\n",
       "    }\n",
       "</style>\n",
       "<table border=\"1\" class=\"dataframe\">\n",
       "  <thead>\n",
       "    <tr style=\"text-align: right;\">\n",
       "      <th></th>\n",
       "      <th>ANIO</th>\n",
       "      <th>L_POSPAGO</th>\n",
       "      <th>L_PREPAGO_E</th>\n",
       "      <th>TOTAL_LINEAS</th>\n",
       "    </tr>\n",
       "  </thead>\n",
       "  <tbody>\n",
       "    <tr>\n",
       "      <th>0</th>\n",
       "      <td>2013</td>\n",
       "      <td>195397461.0</td>\n",
       "      <td>1.054948e+09</td>\n",
       "      <td>1.250345e+09</td>\n",
       "    </tr>\n",
       "    <tr>\n",
       "      <th>1</th>\n",
       "      <td>2014</td>\n",
       "      <td>188913797.0</td>\n",
       "      <td>1.051096e+09</td>\n",
       "      <td>1.240010e+09</td>\n",
       "    </tr>\n",
       "    <tr>\n",
       "      <th>2</th>\n",
       "      <td>2015</td>\n",
       "      <td>194249818.0</td>\n",
       "      <td>1.059430e+09</td>\n",
       "      <td>1.253680e+09</td>\n",
       "    </tr>\n",
       "    <tr>\n",
       "      <th>3</th>\n",
       "      <td>2016</td>\n",
       "      <td>203386260.0</td>\n",
       "      <td>1.106319e+09</td>\n",
       "      <td>1.309705e+09</td>\n",
       "    </tr>\n",
       "    <tr>\n",
       "      <th>4</th>\n",
       "      <td>2017</td>\n",
       "      <td>236764123.0</td>\n",
       "      <td>1.122622e+09</td>\n",
       "      <td>1.359386e+09</td>\n",
       "    </tr>\n",
       "    <tr>\n",
       "      <th>5</th>\n",
       "      <td>2018</td>\n",
       "      <td>236918813.0</td>\n",
       "      <td>1.165316e+09</td>\n",
       "      <td>1.402235e+09</td>\n",
       "    </tr>\n",
       "    <tr>\n",
       "      <th>6</th>\n",
       "      <td>2019</td>\n",
       "      <td>240441900.0</td>\n",
       "      <td>1.195760e+09</td>\n",
       "      <td>1.436202e+09</td>\n",
       "    </tr>\n",
       "  </tbody>\n",
       "</table>\n",
       "</div>"
      ],
      "text/plain": [
       "   ANIO    L_POSPAGO   L_PREPAGO_E  TOTAL_LINEAS\n",
       "0  2013  195397461.0  1.054948e+09  1.250345e+09\n",
       "1  2014  188913797.0  1.051096e+09  1.240010e+09\n",
       "2  2015  194249818.0  1.059430e+09  1.253680e+09\n",
       "3  2016  203386260.0  1.106319e+09  1.309705e+09\n",
       "4  2017  236764123.0  1.122622e+09  1.359386e+09\n",
       "5  2018  236918813.0  1.165316e+09  1.402235e+09\n",
       "6  2019  240441900.0  1.195760e+09  1.436202e+09"
      ]
     },
     "execution_count": 220,
     "metadata": {},
     "output_type": "execute_result"
    }
   ],
   "source": [
    "portable_anios"
   ]
  },
  {
   "cell_type": "code",
   "execution_count": 221,
   "metadata": {},
   "outputs": [
    {
     "data": {
      "image/png": "[encoded data removed]",
      "text/plain": [
       "<Figure size 1440x720 with 1 Axes>"
      ]
     },
     "metadata": {
      "needs_background": "light"
     },
     "output_type": "display_data"
    }
   ],
   "source": [
    "#Se realiza una gráfica que muestra la evolución de las lineas de telefonía móvil (prepago, pospago y total) en el tiempo\n",
    "x=portable_anios['ANIO']\n",
    "y1=portable_anios['L_POSPAGO']/1000000\n",
    "y2=portable_anios['L_PREPAGO_E']/1000000\n",
    "y3=portable_anios['TOTAL_LINEAS']/1000000\n",
    "plt.figure(figsize=(20,10))\n",
    "plt.title('Líneas de Telefonía Móvil',size='xx-large')\n",
    "plt.xlabel('Años',size='large')\n",
    "plt.ylabel('Número de líneas (en millones)',size='large')\n",
    "plt.grid(True)\n",
    "line_up, = plt.plot(x,y3,color='black',marker='o',linestyle='dashdot',markersize=8,label='Total líneas')\n",
    "line_center, = plt.plot(x,y2,color='red',marker='s',linestyle='dotted',markersize=8,label='Líneas prepago')\n",
    "line_down, = plt.plot(x,y1,color='green',marker='p',linestyle='dashed',markersize=8,label='Líneas pospago')\n",
    "plt.legend([line_up, line_center, line_down], ['Total de líneas', 'Líneas de prepago','Líneas de pospago'])\n",
    "plt.savefig('lineas_STM.jpg',dpi=300, bbox_inches = \"tight\")"
   ]
  },
  {
   "cell_type": "code",
   "execution_count": 222,
   "metadata": {},
   "outputs": [],
   "source": [
    "#En la gráfica de arriba se observa la tendencia en el tiempo de las líneas móviles de prepago, de pospago y totales. Se puede observar que la diferencia entre lineas de prepago y pospago se ha mantenido grande y relativamente constante en el tiempo. A pesar de que ambas líneas han aumentado en el tiempo, se observa que las líneas de prepago han tenido una tasa de crecimiento mayor que las líneas de pospago. "
   ]
  },
  {
   "cell_type": "code",
   "execution_count": 223,
   "metadata": {},
   "outputs": [],
   "source": [
    "#Se calcula cuanto representa en porcentaje las línes de prepago y pospago respecto a las líneas totales\n",
    "portable_anios['L_POSPAGO %']=(portable_anios['L_POSPAGO']/portable_anios['TOTAL_LINEAS'])*100"
   ]
  },
  {
   "cell_type": "code",
   "execution_count": 224,
   "metadata": {},
   "outputs": [],
   "source": [
    "portable_anios['L_PREPAGO %']=(portable_anios['L_PREPAGO_E']/portable_anios['TOTAL_LINEAS'])*100"
   ]
  },
  {
   "cell_type": "code",
   "execution_count": 225,
   "metadata": {},
   "outputs": [],
   "source": [
    "portable_anios_perc=portable_anios[['ANIO','L_POSPAGO %','L_PREPAGO %']]"
   ]
  },
  {
   "cell_type": "code",
   "execution_count": 226,
   "metadata": {},
   "outputs": [
    {
     "data": {
      "text/html": [
       "<style  type=\"text/css\" >\n",
       "</style><table id=\"T_7a82bc53_421f_11eb_864d_c03eba1a5263\" ><thead>    <tr>        <th class=\"blank level0\" ></th>        <th class=\"col_heading level0 col0\" >ANIO</th>        <th class=\"col_heading level0 col1\" >L_POSPAGO %</th>        <th class=\"col_heading level0 col2\" >L_PREPAGO %</th>    </tr></thead><tbody>\n",
       "                <tr>\n",
       "                        <th id=\"T_7a82bc53_421f_11eb_864d_c03eba1a5263level0_row0\" class=\"row_heading level0 row0\" >0</th>\n",
       "                        <td id=\"T_7a82bc53_421f_11eb_864d_c03eba1a5263row0_col0\" class=\"data row0 col0\" >2013</td>\n",
       "                        <td id=\"T_7a82bc53_421f_11eb_864d_c03eba1a5263row0_col1\" class=\"data row0 col1\" >15.6</td>\n",
       "                        <td id=\"T_7a82bc53_421f_11eb_864d_c03eba1a5263row0_col2\" class=\"data row0 col2\" >84.4</td>\n",
       "            </tr>\n",
       "            <tr>\n",
       "                        <th id=\"T_7a82bc53_421f_11eb_864d_c03eba1a5263level0_row1\" class=\"row_heading level0 row1\" >1</th>\n",
       "                        <td id=\"T_7a82bc53_421f_11eb_864d_c03eba1a5263row1_col0\" class=\"data row1 col0\" >2014</td>\n",
       "                        <td id=\"T_7a82bc53_421f_11eb_864d_c03eba1a5263row1_col1\" class=\"data row1 col1\" >15.2</td>\n",
       "                        <td id=\"T_7a82bc53_421f_11eb_864d_c03eba1a5263row1_col2\" class=\"data row1 col2\" >84.8</td>\n",
       "            </tr>\n",
       "            <tr>\n",
       "                        <th id=\"T_7a82bc53_421f_11eb_864d_c03eba1a5263level0_row2\" class=\"row_heading level0 row2\" >2</th>\n",
       "                        <td id=\"T_7a82bc53_421f_11eb_864d_c03eba1a5263row2_col0\" class=\"data row2 col0\" >2015</td>\n",
       "                        <td id=\"T_7a82bc53_421f_11eb_864d_c03eba1a5263row2_col1\" class=\"data row2 col1\" >15.5</td>\n",
       "                        <td id=\"T_7a82bc53_421f_11eb_864d_c03eba1a5263row2_col2\" class=\"data row2 col2\" >84.5</td>\n",
       "            </tr>\n",
       "            <tr>\n",
       "                        <th id=\"T_7a82bc53_421f_11eb_864d_c03eba1a5263level0_row3\" class=\"row_heading level0 row3\" >3</th>\n",
       "                        <td id=\"T_7a82bc53_421f_11eb_864d_c03eba1a5263row3_col0\" class=\"data row3 col0\" >2016</td>\n",
       "                        <td id=\"T_7a82bc53_421f_11eb_864d_c03eba1a5263row3_col1\" class=\"data row3 col1\" >15.5</td>\n",
       "                        <td id=\"T_7a82bc53_421f_11eb_864d_c03eba1a5263row3_col2\" class=\"data row3 col2\" >84.5</td>\n",
       "            </tr>\n",
       "            <tr>\n",
       "                        <th id=\"T_7a82bc53_421f_11eb_864d_c03eba1a5263level0_row4\" class=\"row_heading level0 row4\" >4</th>\n",
       "                        <td id=\"T_7a82bc53_421f_11eb_864d_c03eba1a5263row4_col0\" class=\"data row4 col0\" >2017</td>\n",
       "                        <td id=\"T_7a82bc53_421f_11eb_864d_c03eba1a5263row4_col1\" class=\"data row4 col1\" >17.4</td>\n",
       "                        <td id=\"T_7a82bc53_421f_11eb_864d_c03eba1a5263row4_col2\" class=\"data row4 col2\" >82.6</td>\n",
       "            </tr>\n",
       "            <tr>\n",
       "                        <th id=\"T_7a82bc53_421f_11eb_864d_c03eba1a5263level0_row5\" class=\"row_heading level0 row5\" >5</th>\n",
       "                        <td id=\"T_7a82bc53_421f_11eb_864d_c03eba1a5263row5_col0\" class=\"data row5 col0\" >2018</td>\n",
       "                        <td id=\"T_7a82bc53_421f_11eb_864d_c03eba1a5263row5_col1\" class=\"data row5 col1\" >16.9</td>\n",
       "                        <td id=\"T_7a82bc53_421f_11eb_864d_c03eba1a5263row5_col2\" class=\"data row5 col2\" >83.1</td>\n",
       "            </tr>\n",
       "            <tr>\n",
       "                        <th id=\"T_7a82bc53_421f_11eb_864d_c03eba1a5263level0_row6\" class=\"row_heading level0 row6\" >6</th>\n",
       "                        <td id=\"T_7a82bc53_421f_11eb_864d_c03eba1a5263row6_col0\" class=\"data row6 col0\" >2019</td>\n",
       "                        <td id=\"T_7a82bc53_421f_11eb_864d_c03eba1a5263row6_col1\" class=\"data row6 col1\" >16.7</td>\n",
       "                        <td id=\"T_7a82bc53_421f_11eb_864d_c03eba1a5263row6_col2\" class=\"data row6 col2\" >83.3</td>\n",
       "            </tr>\n",
       "    </tbody></table>"
      ],
      "text/plain": [
       "<pandas.io.formats.style.Styler at 0x2b6e29b7280>"
      ]
     },
     "execution_count": 226,
     "metadata": {},
     "output_type": "execute_result"
    }
   ],
   "source": [
    "portable_anios_perc2=portable_anios_perc.style.format({'L_POSPAGO %': '{:,.1f}'.format,'L_PREPAGO %': '{:,.1f}'.format,})\n",
    "portable_anios_perc2"
   ]
  },
  {
   "cell_type": "code",
   "execution_count": 227,
   "metadata": {},
   "outputs": [
    {
     "data": {
      "image/png": "[encoded data removed]",
      "text/plain": [
       "<Figure size 5760x2880 with 7 Axes>"
      ]
     },
     "metadata": {},
     "output_type": "display_data"
    }
   ],
   "source": [
    "#Se realizan gráficas de pie para tener una visualización del porcentaje de las líneas de prepago y pospago respecto a las líneas totales por año\n",
    "fig, axs = plt.subplots(7,figsize=(80,40))\n",
    "labels='L_POSPAGO','L_PREPAGO'\n",
    "sizes0=[portable_anios_perc['L_POSPAGO %'][0],portable_anios_perc['L_PREPAGO %'][0]]\n",
    "sizes1=[portable_anios_perc['L_POSPAGO %'][1],portable_anios_perc['L_PREPAGO %'][1]]\n",
    "sizes2=[portable_anios_perc['L_POSPAGO %'][2],portable_anios_perc['L_PREPAGO %'][2]]\n",
    "sizes3=[portable_anios_perc['L_POSPAGO %'][3],portable_anios_perc['L_PREPAGO %'][3]]\n",
    "sizes4=[portable_anios_perc['L_POSPAGO %'][4],portable_anios_perc['L_PREPAGO %'][4]]\n",
    "sizes5=[portable_anios_perc['L_POSPAGO %'][5],portable_anios_perc['L_PREPAGO %'][5]]\n",
    "sizes6=[portable_anios_perc['L_POSPAGO %'][6],portable_anios_perc['L_PREPAGO %'][6]]\n",
    "axs[0].title.set_text('2013')\n",
    "axs[1].title.set_text('2014')\n",
    "axs[2].title.set_text('2015')\n",
    "axs[3].title.set_text('2016')\n",
    "axs[4].title.set_text('2017')\n",
    "axs[5].title.set_text('2018')\n",
    "axs[6].title.set_text('2019')\n",
    "axs[0].pie(sizes0, labels=labels,autopct='%1.1f%%')\n",
    "axs[1].pie(sizes1, labels=labels,autopct='%1.1f%%')\n",
    "axs[2].pie(sizes2, labels=labels,autopct='%1.1f%%')\n",
    "axs[3].pie(sizes3, labels=labels,autopct='%1.1f%%')\n",
    "axs[4].pie(sizes4, labels=labels,autopct='%1.1f%%')\n",
    "axs[5].pie(sizes5, labels=labels,autopct='%1.1f%%')\n",
    "axs[6].pie(sizes6, labels=labels,autopct='%1.1f%%')\n",
    "plt.savefig('pie_STM.jpg',dpi=300, bbox_inches = \"tight\")"
   ]
  },
  {
   "cell_type": "code",
   "execution_count": 228,
   "metadata": {},
   "outputs": [],
   "source": [
    "#En las gráficas de pie de arriba se puede observar que el porcentaje de líneas de prepago respecto al total de líneas y el porcentaje de las líneas de pospago respecto al total de líneas se ha mantenido relativamente estable en el tiempo. Hay casi 5 veces más lineas de prepago que de pospago, solo en el año 2019 las líneas de prepago representaban el 83.3% del total de líneas, mientras que las líneas de pospago solo representaban el 16.7% de las líneas totales. "
   ]
  }
 ],
 "metadata": {
  "kernelspec": {
   "display_name": "Python 3",
   "language": "python",
   "name": "python3"
  },
  "language_info": {
   "codemirror_mode": {
    "name": "ipython",
    "version": 3
   },
   "file_extension": ".py",
   "mimetype": "text/x-python",
   "name": "python",
   "nbconvert_exporter": "python",
   "pygments_lexer": "ipython3",
   "version": "3.8.3"
  }
 },
 "nbformat": 4,
 "nbformat_minor": 4
}
