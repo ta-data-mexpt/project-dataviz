{
 "cells": [
  {
   "cell_type": "markdown",
   "id": "d2a610fa-efbb-4a5f-ab22-e16b898eadbd",
   "metadata": {},
   "source": [
    "!pip install pyxlsb"
   ]
  },
  {
   "cell_type": "markdown",
   "id": "1b86a700-a996-4396-8cdc-8c0add7b8b75",
   "metadata": {
    "jp-MarkdownHeadingCollapsed": true,
    "tags": []
   },
   "source": [
    "### Revisión de Datos"
   ]
  },
  {
   "cell_type": "code",
   "execution_count": 90,
   "id": "3ca048e1-a33c-4352-ab92-316a795bfa03",
   "metadata": {},
   "outputs": [],
   "source": [
    "import pandas as pd\n",
    "import numpy as np\n",
    "import matplotlib.pyplot as plt\n",
    "import seaborn as sns"
   ]
  },
  {
   "cell_type": "code",
   "execution_count": 114,
   "id": "d360b998-4492-42b5-a78a-8471a568d20f",
   "metadata": {},
   "outputs": [],
   "source": [
    "df = pd.read_excel('BasePreliminarINDICES_2005-2022.xlsb', engine='pyxlsb')"
   ]
  },
  {
   "cell_type": "code",
   "execution_count": 115,
   "id": "d17a8b80-1fe1-4f67-8629-1359158cac12",
   "metadata": {},
   "outputs": [
    {
     "data": {
      "text/plain": [
       "Index(['Año', 'Cód. Institución', 'Nombre Institución', 'Tipo Institución',\n",
       "       'Clasificación1', 'Clasificación2', 'Clasificación3', 'Clasificación4',\n",
       "       'Clasificación5', 'Clasificación6', 'Nombre de la Sede',\n",
       "       'Comuna donde se imparte la carrera o programa', 'Nombre Region',\n",
       "       'Orden Geográfico de la Región (Norte aSur)', 'Cód. Carrera',\n",
       "       'Carrera Genérica', 'Nombre Programa', 'Mención o Especialidad',\n",
       "       'Horario', 'Tipo Programa', 'Area Conocimiento', 'idgenerocarrera',\n",
       "       'Tipo Carrera', 'IngresoDirecto', 'Año Inicio Actividades',\n",
       "       'Nombre del Campus', 'Duración (en semestres)', 'Cód. Campus',\n",
       "       'Cód. Sede', 'Título', 'Grado Académico',\n",
       "       'Máximo Puntaje (promedio matemáticas y lenguaje)',\n",
       "       'Promedio Puntaje (promedio matemáticas y lenguaje)',\n",
       "       'Mínimo Puntaje (promedio matemáticas y lenguaje)',\n",
       "       'Puntaje de corte (primer seleccionado)',\n",
       "       'Puntaje de corte (promedio de la carrera)',\n",
       "       'Puntaje de corte (último seleccionado)', 'Máximo Puntaje NEM',\n",
       "       'Promedio Puntaje NEM', 'Mínimo Puntaje NEM', 'Máximo Puntaje Ranking',\n",
       "       'Promedio Puntaje Ranking', 'Mínimo Puntaje Ranking',\n",
       "       'Nº Alumnos Ingreso Via PSU o PDT', 'Nº Alumnos Ingreso Otra Via',\n",
       "       'Valor de matrícula', 'Valor de arancel', 'Valor del Título',\n",
       "       'Tipo Moneda', 'Vacantes', 'Matrícula primer año hombres',\n",
       "       'Matrícula primer año mujeres', 'Matrícula primer año extranjeros',\n",
       "       'Matrícula Primer Año', 'Matrícula total hombres',\n",
       "       'Matrícula total mujeres', 'Matrícula total extranjeros',\n",
       "       'Matrícula Total', 'Códgo SIES', 'Pregrado/Posgrado'],\n",
       "      dtype='object')"
      ]
     },
     "execution_count": 115,
     "metadata": {},
     "output_type": "execute_result"
    }
   ],
   "source": [
    "df.columns"
   ]
  },
  {
   "cell_type": "code",
   "execution_count": 17,
   "id": "d59859e8-c858-4243-a164-e9948366011f",
   "metadata": {},
   "outputs": [
    {
     "data": {
      "text/plain": [
       "Año                                                     int64\n",
       "Cód. Institución                                        int64\n",
       "Nombre Institución                                     object\n",
       "Tipo Institución                                       object\n",
       "Clasificación1                                         object\n",
       "Clasificación2                                         object\n",
       "Clasificación3                                         object\n",
       "Clasificación4                                         object\n",
       "Clasificación5                                         object\n",
       "Clasificación6                                         object\n",
       "Nombre de la Sede                                      object\n",
       "Comuna donde se imparte la carrera o programa          object\n",
       "Nombre Region                                          object\n",
       "Orden Geográfico de la Región (Norte aSur)              int64\n",
       "Cód. Carrera                                            int64\n",
       "Carrera Genérica                                       object\n",
       "Nombre Programa                                        object\n",
       "Mención o Especialidad                                 object\n",
       "Horario                                                object\n",
       "Tipo Programa                                          object\n",
       "Area Conocimiento                                      object\n",
       "idgenerocarrera                                         int64\n",
       "Tipo Carrera                                           object\n",
       "IngresoDirecto                                         object\n",
       "Año Inicio Actividades                                float64\n",
       "Nombre del Campus                                      object\n",
       "Duración (en semestres)                               float64\n",
       "Cód. Campus                                           float64\n",
       "Cód. Sede                                               int64\n",
       "Título                                                 object\n",
       "Grado Académico                                        object\n",
       "Máximo Puntaje (promedio matemáticas y lenguaje)      float64\n",
       "Promedio Puntaje (promedio matemáticas y lenguaje)    float64\n",
       "Mínimo Puntaje (promedio matemáticas y lenguaje)      float64\n",
       "Puntaje de corte (primer seleccionado)                float64\n",
       "Puntaje de corte (promedio de la carrera)             float64\n",
       "Puntaje de corte (último seleccionado)                float64\n",
       "Máximo Puntaje NEM                                    float64\n",
       "Promedio Puntaje NEM                                  float64\n",
       "Mínimo Puntaje NEM                                    float64\n",
       "Máximo Puntaje Ranking                                float64\n",
       "Promedio Puntaje Ranking                              float64\n",
       "Mínimo Puntaje Ranking                                float64\n",
       "Nº Alumnos Ingreso Via PSU o PDT                      float64\n",
       "Nº Alumnos Ingreso Otra Via                           float64\n",
       "Valor de matrícula                                    float64\n",
       "Valor de arancel                                      float64\n",
       "Valor del Título                                      float64\n",
       "Tipo Moneda                                            object\n",
       "Vacantes                                              float64\n",
       "Matrícula primer año hombres                          float64\n",
       "Matrícula primer año mujeres                          float64\n",
       "Matrícula primer año extranjeros                      float64\n",
       "Matrícula Primer Año                                    int64\n",
       "Matrícula total hombres                               float64\n",
       "Matrícula total mujeres                               float64\n",
       "Matrícula total extranjeros                           float64\n",
       "Matrícula Total                                         int64\n",
       "Códgo SIES                                             object\n",
       "Pregrado/Posgrado                                      object\n",
       "dtype: object"
      ]
     },
     "execution_count": 17,
     "metadata": {},
     "output_type": "execute_result"
    }
   ],
   "source": [
    "df.dtypes"
   ]
  },
  {
   "cell_type": "code",
   "execution_count": 18,
   "id": "6ee381dc-65d8-4cf8-bade-597865db922e",
   "metadata": {},
   "outputs": [
    {
     "name": "stdout",
     "output_type": "stream",
     "text": [
      "<class 'pandas.core.frame.DataFrame'>\n",
      "RangeIndex: 203941 entries, 0 to 203940\n",
      "Data columns (total 60 columns):\n",
      " #   Column                                              Non-Null Count   Dtype  \n",
      "---  ------                                              --------------   -----  \n",
      " 0   Año                                                 203941 non-null  int64  \n",
      " 1   Cód. Institución                                    203941 non-null  int64  \n",
      " 2   Nombre Institución                                  203941 non-null  object \n",
      " 3   Tipo Institución                                    203941 non-null  object \n",
      " 4   Clasificación1                                      203941 non-null  object \n",
      " 5   Clasificación2                                      203941 non-null  object \n",
      " 6   Clasificación3                                      203941 non-null  object \n",
      " 7   Clasificación4                                      203941 non-null  object \n",
      " 8   Clasificación5                                      203935 non-null  object \n",
      " 9   Clasificación6                                      203941 non-null  object \n",
      " 10  Nombre de la Sede                                   203941 non-null  object \n",
      " 11  Comuna donde se imparte la carrera o programa       203939 non-null  object \n",
      " 12  Nombre Region                                       203941 non-null  object \n",
      " 13  Orden Geográfico de la Región (Norte aSur)          203941 non-null  int64  \n",
      " 14  Cód. Carrera                                        203941 non-null  int64  \n",
      " 15  Carrera Genérica                                    203941 non-null  object \n",
      " 16  Nombre Programa                                     203941 non-null  object \n",
      " 17  Mención o Especialidad                              29014 non-null   object \n",
      " 18  Horario                                             203941 non-null  object \n",
      " 19  Tipo Programa                                       203941 non-null  object \n",
      " 20  Area Conocimiento                                   203941 non-null  object \n",
      " 21  idgenerocarrera                                     203941 non-null  int64  \n",
      " 22  Tipo Carrera                                        203941 non-null  object \n",
      " 23  IngresoDirecto                                      203941 non-null  object \n",
      " 24  Año Inicio Actividades                              203871 non-null  float64\n",
      " 25  Nombre del Campus                                   95444 non-null   object \n",
      " 26  Duración (en semestres)                             202056 non-null  float64\n",
      " 27  Cód. Campus                                         95625 non-null   float64\n",
      " 28  Cód. Sede                                           203941 non-null  int64  \n",
      " 29  Título                                              176481 non-null  object \n",
      " 30  Grado Académico                                     76341 non-null   object \n",
      " 31  Máximo Puntaje (promedio matemáticas y lenguaje)    37805 non-null   float64\n",
      " 32  Promedio Puntaje (promedio matemáticas y lenguaje)  37514 non-null   float64\n",
      " 33  Mínimo Puntaje (promedio matemáticas y lenguaje)    37360 non-null   float64\n",
      " 34  Puntaje de corte (primer seleccionado)              31983 non-null   float64\n",
      " 35  Puntaje de corte (promedio de la carrera)           31887 non-null   float64\n",
      " 36  Puntaje de corte (último seleccionado)              33961 non-null   float64\n",
      " 37  Máximo Puntaje NEM                                  17791 non-null   float64\n",
      " 38  Promedio Puntaje NEM                                17978 non-null   float64\n",
      " 39  Mínimo Puntaje NEM                                  17778 non-null   float64\n",
      " 40  Máximo Puntaje Ranking                              16878 non-null   float64\n",
      " 41  Promedio Puntaje Ranking                            17024 non-null   float64\n",
      " 42  Mínimo Puntaje Ranking                              16865 non-null   float64\n",
      " 43  Nº Alumnos Ingreso Via PSU o PDT                    39067 non-null   float64\n",
      " 44  Nº Alumnos Ingreso Otra Via                         61810 non-null   float64\n",
      " 45  Valor de matrícula                                  156761 non-null  float64\n",
      " 46  Valor de arancel                                    152846 non-null  float64\n",
      " 47  Valor del Título                                    168020 non-null  float64\n",
      " 48  Tipo Moneda                                         203941 non-null  object \n",
      " 49  Vacantes                                            149040 non-null  float64\n",
      " 50  Matrícula primer año hombres                        184310 non-null  float64\n",
      " 51  Matrícula primer año mujeres                        184061 non-null  float64\n",
      " 52  Matrícula primer año extranjeros                    145566 non-null  float64\n",
      " 53  Matrícula Primer Año                                203941 non-null  int64  \n",
      " 54  Matrícula total hombres                             200853 non-null  float64\n",
      " 55  Matrícula total mujeres                             200454 non-null  float64\n",
      " 56  Matrícula total extranjeros                         153816 non-null  float64\n",
      " 57  Matrícula Total                                     203941 non-null  int64  \n",
      " 58  Códgo SIES                                          135944 non-null  object \n",
      " 59  Pregrado/Posgrado                                   203941 non-null  object \n",
      "dtypes: float64(27), int64(8), object(25)\n",
      "memory usage: 93.4+ MB\n"
     ]
    }
   ],
   "source": [
    "df.info()"
   ]
  },
  {
   "cell_type": "code",
   "execution_count": 128,
   "id": "e2722e50-2d9f-4fc2-9ffe-21d02c887fb8",
   "metadata": {},
   "outputs": [
    {
     "data": {
      "text/html": [
       "<div>\n",
       "<style scoped>\n",
       "    .dataframe tbody tr th:only-of-type {\n",
       "        vertical-align: middle;\n",
       "    }\n",
       "\n",
       "    .dataframe tbody tr th {\n",
       "        vertical-align: top;\n",
       "    }\n",
       "\n",
       "    .dataframe thead th {\n",
       "        text-align: right;\n",
       "    }\n",
       "</style>\n",
       "<table border=\"1\" class=\"dataframe\">\n",
       "  <thead>\n",
       "    <tr style=\"text-align: right;\">\n",
       "      <th></th>\n",
       "      <th>Año</th>\n",
       "      <th>Cód. Institución</th>\n",
       "      <th>Nombre Institución</th>\n",
       "      <th>Tipo Institución</th>\n",
       "      <th>Clasificación1</th>\n",
       "      <th>Clasificación2</th>\n",
       "      <th>Clasificación3</th>\n",
       "      <th>Clasificación4</th>\n",
       "      <th>Clasificación5</th>\n",
       "      <th>Clasificación6</th>\n",
       "      <th>...</th>\n",
       "      <th>Matrícula primer año hombres</th>\n",
       "      <th>Matrícula primer año mujeres</th>\n",
       "      <th>Matrícula primer año extranjeros</th>\n",
       "      <th>Matrícula Primer Año</th>\n",
       "      <th>Matrícula total hombres</th>\n",
       "      <th>Matrícula total mujeres</th>\n",
       "      <th>Matrícula total extranjeros</th>\n",
       "      <th>Matrícula Total</th>\n",
       "      <th>Códgo SIES</th>\n",
       "      <th>Pregrado/Posgrado</th>\n",
       "    </tr>\n",
       "  </thead>\n",
       "  <tbody>\n",
       "    <tr>\n",
       "      <th>0</th>\n",
       "      <td>2022</td>\n",
       "      <td>1001</td>\n",
       "      <td>U. DE CHILE</td>\n",
       "      <td>Univ.</td>\n",
       "      <td>(a) Universidades CRUCH</td>\n",
       "      <td>(a) Universidades Estatales CRUCH</td>\n",
       "      <td>(a) Acreditada</td>\n",
       "      <td>(a) Autónoma</td>\n",
       "      <td>(a) Adscritas a Gratuidad</td>\n",
       "      <td>(a) Subsistema Universitario</td>\n",
       "      <td>...</td>\n",
       "      <td>59.0</td>\n",
       "      <td>77.0</td>\n",
       "      <td>0.0</td>\n",
       "      <td>136</td>\n",
       "      <td>291.0</td>\n",
       "      <td>401.0</td>\n",
       "      <td>5.0</td>\n",
       "      <td>692</td>\n",
       "      <td>I70S1C1J1V2</td>\n",
       "      <td>Pregrado</td>\n",
       "    </tr>\n",
       "    <tr>\n",
       "      <th>1</th>\n",
       "      <td>2022</td>\n",
       "      <td>1001</td>\n",
       "      <td>U. DE CHILE</td>\n",
       "      <td>Univ.</td>\n",
       "      <td>(a) Universidades CRUCH</td>\n",
       "      <td>(a) Universidades Estatales CRUCH</td>\n",
       "      <td>(a) Acreditada</td>\n",
       "      <td>(a) Autónoma</td>\n",
       "      <td>(a) Adscritas a Gratuidad</td>\n",
       "      <td>(a) Subsistema Universitario</td>\n",
       "      <td>...</td>\n",
       "      <td>44.0</td>\n",
       "      <td>49.0</td>\n",
       "      <td>8.0</td>\n",
       "      <td>93</td>\n",
       "      <td>178.0</td>\n",
       "      <td>204.0</td>\n",
       "      <td>17.0</td>\n",
       "      <td>382</td>\n",
       "      <td>I70S1C814J1V1</td>\n",
       "      <td>Pregrado</td>\n",
       "    </tr>\n",
       "  </tbody>\n",
       "</table>\n",
       "<p>2 rows × 60 columns</p>\n",
       "</div>"
      ],
      "text/plain": [
       "    Año  Cód. Institución Nombre Institución Tipo Institución  \\\n",
       "0  2022              1001        U. DE CHILE            Univ.   \n",
       "1  2022              1001        U. DE CHILE            Univ.   \n",
       "\n",
       "            Clasificación1                     Clasificación2  Clasificación3  \\\n",
       "0  (a) Universidades CRUCH  (a) Universidades Estatales CRUCH  (a) Acreditada   \n",
       "1  (a) Universidades CRUCH  (a) Universidades Estatales CRUCH  (a) Acreditada   \n",
       "\n",
       "  Clasificación4             Clasificación5                Clasificación6  \\\n",
       "0   (a) Autónoma  (a) Adscritas a Gratuidad  (a) Subsistema Universitario   \n",
       "1   (a) Autónoma  (a) Adscritas a Gratuidad  (a) Subsistema Universitario   \n",
       "\n",
       "   ... Matrícula primer año hombres Matrícula primer año mujeres  \\\n",
       "0  ...                         59.0                         77.0   \n",
       "1  ...                         44.0                         49.0   \n",
       "\n",
       "  Matrícula primer año extranjeros  Matrícula Primer Año  \\\n",
       "0                              0.0                   136   \n",
       "1                              8.0                    93   \n",
       "\n",
       "   Matrícula total hombres Matrícula total mujeres  \\\n",
       "0                    291.0                   401.0   \n",
       "1                    178.0                   204.0   \n",
       "\n",
       "  Matrícula total extranjeros Matrícula Total     Códgo SIES Pregrado/Posgrado  \n",
       "0                         5.0             692    I70S1C1J1V2          Pregrado  \n",
       "1                        17.0             382  I70S1C814J1V1          Pregrado  \n",
       "\n",
       "[2 rows x 60 columns]"
      ]
     },
     "execution_count": 128,
     "metadata": {},
     "output_type": "execute_result"
    }
   ],
   "source": [
    "df.head(2)"
   ]
  },
  {
   "cell_type": "code",
   "execution_count": 20,
   "id": "7c5f30ca-8e00-4c7f-b236-00d97718ab6b",
   "metadata": {},
   "outputs": [
    {
     "data": {
      "text/plain": [
       "array(['Pesos', 'Pesos     ', 'pesos     ', 'PESOS     ', 'UF        ',\n",
       "       'UF'], dtype=object)"
      ]
     },
     "execution_count": 20,
     "metadata": {},
     "output_type": "execute_result"
    }
   ],
   "source": [
    "df['Tipo Moneda'].unique()"
   ]
  },
  {
   "cell_type": "code",
   "execution_count": 21,
   "id": "786b9977-6cdc-4ac7-b7a6-64b92ccf03ca",
   "metadata": {},
   "outputs": [],
   "source": [
    "nulos = df.isnull().sum().sort_values()"
   ]
  },
  {
   "cell_type": "code",
   "execution_count": 22,
   "id": "a2103e1d-eff3-468e-9d42-5938bd9f2bd3",
   "metadata": {},
   "outputs": [
    {
     "data": {
      "text/plain": [
       "(203941, 60)"
      ]
     },
     "execution_count": 22,
     "metadata": {},
     "output_type": "execute_result"
    }
   ],
   "source": [
    "df.shape"
   ]
  },
  {
   "cell_type": "code",
   "execution_count": 23,
   "id": "f731d59a-8f53-48cf-b9e9-06e6677c373d",
   "metadata": {},
   "outputs": [
    {
     "data": {
      "text/plain": [
       "Comuna donde se imparte la carrera o programa          0.000981\n",
       "Clasificación5                                         0.002942\n",
       "Año Inicio Actividades                                 0.034324\n",
       "Duración (en semestres)                                0.924287\n",
       "Matrícula total hombres                                1.514163\n",
       "Matrícula total mujeres                                1.709808\n",
       "Matrícula primer año hombres                           9.625823\n",
       "Matrícula primer año mujeres                           9.747917\n",
       "Título                                                13.464679\n",
       "Valor del Título                                      17.613427\n",
       "Valor de matrícula                                    23.134142\n",
       "Matrícula total extranjeros                           24.578187\n",
       "Valor de arancel                                      25.053815\n",
       "Vacantes                                              26.920041\n",
       "Matrícula primer año extranjeros                      28.623474\n",
       "Códgo SIES                                            33.341506\n",
       "Cód. Campus                                           53.111439\n",
       "Nombre del Campus                                     53.200190\n",
       "Grado Académico                                       62.567115\n",
       "Nº Alumnos Ingreso Otra Via                           69.692215\n",
       "Nº Alumnos Ingreso Via PSU o PDT                      80.843970\n",
       "Máximo Puntaje (promedio matemáticas y lenguaje)      81.462776\n",
       "Promedio Puntaje (promedio matemáticas y lenguaje)    81.605464\n",
       "Mínimo Puntaje (promedio matemáticas y lenguaje)      81.680976\n",
       "Puntaje de corte (último seleccionado)                83.347635\n",
       "Puntaje de corte (primer seleccionado)                84.317523\n",
       "Puntaje de corte (promedio de la carrera)             84.364596\n",
       "Mención o Especialidad                                85.773336\n",
       "Promedio Puntaje NEM                                  91.184705\n",
       "Máximo Puntaje NEM                                    91.276399\n",
       "Mínimo Puntaje NEM                                    91.282773\n",
       "Promedio Puntaje Ranking                              91.652488\n",
       "Máximo Puntaje Ranking                                91.724077\n",
       "Mínimo Puntaje Ranking                                91.730451\n",
       "dtype: float64"
      ]
     },
     "execution_count": 23,
     "metadata": {},
     "output_type": "execute_result"
    }
   ],
   "source": [
    "porcentaje_nulos = nulos[nulos > 0]/df.shape[0]*100\n",
    "porcentaje_nulos"
   ]
  },
  {
   "cell_type": "code",
   "execution_count": 24,
   "id": "8efd8573-2084-488c-89a3-c79ca13694fd",
   "metadata": {},
   "outputs": [
    {
     "data": {
      "text/plain": [
       "Año   Nombre Institución                               \n",
       "2005  ACADEMIA DE GUERRA DEL EJÉRCITO                             NaN\n",
       "      ACADEMIA DE GUERRA NAVAL                                    NaN\n",
       "      ACADEMIA NAC. EST. POLÍTICOS Y ESTRATÉGICOS ANEPE           NaN\n",
       "      ACADEMIA POLITÉCNICA AERONÁUTICA                            NaN\n",
       "      ACADEMIA POLITÉCNICA MILITAR                                NaN\n",
       "                                                              ...    \n",
       "2022  U. MIGUEL DE CERVANTES                               456.500000\n",
       "      U. SAN SEBASTIÁN                                     539.650000\n",
       "      U. SANTO TOMÁS                                       507.704762\n",
       "      U. SEK                                                      NaN\n",
       "      U. TECNOLÓGICA DE CHILE INACAP                              NaN\n",
       "Name: Promedio Puntaje (promedio matemáticas y lenguaje), Length: 2832, dtype: float64"
      ]
     },
     "execution_count": 24,
     "metadata": {},
     "output_type": "execute_result"
    }
   ],
   "source": [
    "df.groupby(by =['Año','Nombre Institución'])['Promedio Puntaje (promedio matemáticas y lenguaje)'].mean()"
   ]
  },
  {
   "cell_type": "code",
   "execution_count": 25,
   "id": "83641c41-7022-4da9-93ab-2239342dbb2e",
   "metadata": {},
   "outputs": [],
   "source": [
    "#promedio historico psu vs nueva prueba\n",
    "#variacion puntajes historicos\n",
    "#puntajes mas altos y mas bajos"
   ]
  },
  {
   "cell_type": "code",
   "execution_count": 26,
   "id": "13fc88bd-8a4b-434e-b0a1-1f442fb07793",
   "metadata": {},
   "outputs": [
    {
     "data": {
      "text/plain": [
       "Año\n",
       "2005    537.0\n",
       "2006    523.0\n",
       "2007    541.0\n",
       "2008    534.0\n",
       "2009    530.0\n",
       "2010    537.0\n",
       "2011    553.0\n",
       "2012    544.0\n",
       "2013    548.0\n",
       "2014    554.0\n",
       "2015    550.0\n",
       "2016    555.0\n",
       "2017    554.0\n",
       "2018    551.0\n",
       "2019    548.0\n",
       "2020    548.0\n",
       "2021    540.0\n",
       "2022    543.0\n",
       "Name: Promedio Puntaje (promedio matemáticas y lenguaje), dtype: float64"
      ]
     },
     "execution_count": 26,
     "metadata": {},
     "output_type": "execute_result"
    }
   ],
   "source": [
    "df.groupby('Año')['Promedio Puntaje (promedio matemáticas y lenguaje)'].median()"
   ]
  },
  {
   "cell_type": "code",
   "execution_count": 27,
   "id": "c3f53cda-8bc4-41ff-9609-08507e8cb7df",
   "metadata": {},
   "outputs": [
    {
     "data": {
      "text/plain": [
       "101                     Licenciatura en Matemáticas\n",
       "165                  Física, Astronomía y similares\n",
       "193       Pedagogía en Educación Física y similares\n",
       "348                  Física, Astronomía y similares\n",
       "416                   Ingeniería Civil en Geomática\n",
       "                            ...                    \n",
       "203936                                     Posgrado\n",
       "203937                                     Posgrado\n",
       "203938                            Diplomado | Curso\n",
       "203939                                     Posgrado\n",
       "203940                                     Posgrado\n",
       "Name: Carrera Genérica, Length: 67997, dtype: object"
      ]
     },
     "execution_count": 27,
     "metadata": {},
     "output_type": "execute_result"
    }
   ],
   "source": [
    "df[df['Códgo SIES'].isnull()]['Carrera Genérica']"
   ]
  },
  {
   "cell_type": "markdown",
   "id": "54ab7a32-3bf7-4bbe-9008-e3a730eab10d",
   "metadata": {
    "jp-MarkdownHeadingCollapsed": true,
    "tags": []
   },
   "source": [
    "### Limpieza de datos"
   ]
  },
  {
   "cell_type": "code",
   "execution_count": 134,
   "id": "30dc84e4-a100-4884-a92d-1c28019c1a27",
   "metadata": {},
   "outputs": [
    {
     "data": {
      "text/html": [
       "<div>\n",
       "<style scoped>\n",
       "    .dataframe tbody tr th:only-of-type {\n",
       "        vertical-align: middle;\n",
       "    }\n",
       "\n",
       "    .dataframe tbody tr th {\n",
       "        vertical-align: top;\n",
       "    }\n",
       "\n",
       "    .dataframe thead th {\n",
       "        text-align: right;\n",
       "    }\n",
       "</style>\n",
       "<table border=\"1\" class=\"dataframe\">\n",
       "  <thead>\n",
       "    <tr style=\"text-align: right;\">\n",
       "      <th></th>\n",
       "      <th>Año</th>\n",
       "      <th>Cód. Institución</th>\n",
       "      <th>Nombre Institución</th>\n",
       "      <th>Tipo Institución</th>\n",
       "      <th>Clasificación1</th>\n",
       "      <th>Clasificación2</th>\n",
       "      <th>Clasificación3</th>\n",
       "      <th>Clasificación4</th>\n",
       "      <th>Clasificación5</th>\n",
       "      <th>Clasificación6</th>\n",
       "      <th>...</th>\n",
       "      <th>Matrícula primer año hombres</th>\n",
       "      <th>Matrícula primer año mujeres</th>\n",
       "      <th>Matrícula primer año extranjeros</th>\n",
       "      <th>Matrícula Primer Año</th>\n",
       "      <th>Matrícula total hombres</th>\n",
       "      <th>Matrícula total mujeres</th>\n",
       "      <th>Matrícula total extranjeros</th>\n",
       "      <th>Matrícula Total</th>\n",
       "      <th>Códgo SIES</th>\n",
       "      <th>Pregrado/Posgrado</th>\n",
       "    </tr>\n",
       "  </thead>\n",
       "  <tbody>\n",
       "    <tr>\n",
       "      <th>0</th>\n",
       "      <td>2022</td>\n",
       "      <td>1001</td>\n",
       "      <td>U. DE CHILE</td>\n",
       "      <td>Univ.</td>\n",
       "      <td>(a) Universidades CRUCH</td>\n",
       "      <td>(a) Universidades Estatales CRUCH</td>\n",
       "      <td>(a) Acreditada</td>\n",
       "      <td>(a) Autónoma</td>\n",
       "      <td>(a) Adscritas a Gratuidad</td>\n",
       "      <td>(a) Subsistema Universitario</td>\n",
       "      <td>...</td>\n",
       "      <td>59.0</td>\n",
       "      <td>77.0</td>\n",
       "      <td>0.0</td>\n",
       "      <td>136</td>\n",
       "      <td>291.0</td>\n",
       "      <td>401.0</td>\n",
       "      <td>5.0</td>\n",
       "      <td>692</td>\n",
       "      <td>I70S1C1J1V2</td>\n",
       "      <td>Pregrado</td>\n",
       "    </tr>\n",
       "    <tr>\n",
       "      <th>1</th>\n",
       "      <td>2022</td>\n",
       "      <td>1001</td>\n",
       "      <td>U. DE CHILE</td>\n",
       "      <td>Univ.</td>\n",
       "      <td>(a) Universidades CRUCH</td>\n",
       "      <td>(a) Universidades Estatales CRUCH</td>\n",
       "      <td>(a) Acreditada</td>\n",
       "      <td>(a) Autónoma</td>\n",
       "      <td>(a) Adscritas a Gratuidad</td>\n",
       "      <td>(a) Subsistema Universitario</td>\n",
       "      <td>...</td>\n",
       "      <td>44.0</td>\n",
       "      <td>49.0</td>\n",
       "      <td>8.0</td>\n",
       "      <td>93</td>\n",
       "      <td>178.0</td>\n",
       "      <td>204.0</td>\n",
       "      <td>17.0</td>\n",
       "      <td>382</td>\n",
       "      <td>I70S1C814J1V1</td>\n",
       "      <td>Pregrado</td>\n",
       "    </tr>\n",
       "  </tbody>\n",
       "</table>\n",
       "<p>2 rows × 60 columns</p>\n",
       "</div>"
      ],
      "text/plain": [
       "    Año  Cód. Institución Nombre Institución Tipo Institución  \\\n",
       "0  2022              1001        U. DE CHILE            Univ.   \n",
       "1  2022              1001        U. DE CHILE            Univ.   \n",
       "\n",
       "            Clasificación1                     Clasificación2  Clasificación3  \\\n",
       "0  (a) Universidades CRUCH  (a) Universidades Estatales CRUCH  (a) Acreditada   \n",
       "1  (a) Universidades CRUCH  (a) Universidades Estatales CRUCH  (a) Acreditada   \n",
       "\n",
       "  Clasificación4             Clasificación5                Clasificación6  \\\n",
       "0   (a) Autónoma  (a) Adscritas a Gratuidad  (a) Subsistema Universitario   \n",
       "1   (a) Autónoma  (a) Adscritas a Gratuidad  (a) Subsistema Universitario   \n",
       "\n",
       "   ... Matrícula primer año hombres Matrícula primer año mujeres  \\\n",
       "0  ...                         59.0                         77.0   \n",
       "1  ...                         44.0                         49.0   \n",
       "\n",
       "  Matrícula primer año extranjeros  Matrícula Primer Año  \\\n",
       "0                              0.0                   136   \n",
       "1                              8.0                    93   \n",
       "\n",
       "   Matrícula total hombres Matrícula total mujeres  \\\n",
       "0                    291.0                   401.0   \n",
       "1                    178.0                   204.0   \n",
       "\n",
       "  Matrícula total extranjeros Matrícula Total     Códgo SIES Pregrado/Posgrado  \n",
       "0                         5.0             692    I70S1C1J1V2          Pregrado  \n",
       "1                        17.0             382  I70S1C814J1V1          Pregrado  \n",
       "\n",
       "[2 rows x 60 columns]"
      ]
     },
     "execution_count": 134,
     "metadata": {},
     "output_type": "execute_result"
    }
   ],
   "source": [
    "df.head(2)"
   ]
  },
  {
   "cell_type": "code",
   "execution_count": 132,
   "id": "faf39eab-f29a-4512-96d6-f280e5b8b794",
   "metadata": {},
   "outputs": [
    {
     "data": {
      "text/plain": [
       "(a) Subsistema Universitario          79308\n",
       "(c) No adscrito                       64187\n",
       "(b) Subsistema Técnico Profesional    59474\n",
       "(d) F.F.A.A.                            972\n",
       "Name: Clasificación6, dtype: int64"
      ]
     },
     "execution_count": 132,
     "metadata": {},
     "output_type": "execute_result"
    }
   ],
   "source": [
    "df['Clasificación6'].value_counts()"
   ]
  },
  {
   "cell_type": "code",
   "execution_count": 174,
   "id": "67c0ee84-3ea2-4523-8e4e-915780e6a93d",
   "metadata": {},
   "outputs": [],
   "source": [
    "df_SU=df[df['Clasificación6']=='(a) Subsistema Universitario']"
   ]
  },
  {
   "cell_type": "code",
   "execution_count": 175,
   "id": "2e7a9636-d102-4b1e-a3cd-81790f08ce63",
   "metadata": {},
   "outputs": [
    {
     "data": {
      "text/html": [
       "<div>\n",
       "<style scoped>\n",
       "    .dataframe tbody tr th:only-of-type {\n",
       "        vertical-align: middle;\n",
       "    }\n",
       "\n",
       "    .dataframe tbody tr th {\n",
       "        vertical-align: top;\n",
       "    }\n",
       "\n",
       "    .dataframe thead th {\n",
       "        text-align: right;\n",
       "    }\n",
       "</style>\n",
       "<table border=\"1\" class=\"dataframe\">\n",
       "  <thead>\n",
       "    <tr style=\"text-align: right;\">\n",
       "      <th></th>\n",
       "      <th>Año</th>\n",
       "      <th>Cód. Institución</th>\n",
       "      <th>Nombre Institución</th>\n",
       "      <th>Tipo Institución</th>\n",
       "      <th>Clasificación1</th>\n",
       "      <th>Clasificación2</th>\n",
       "      <th>Clasificación3</th>\n",
       "      <th>Clasificación4</th>\n",
       "      <th>Clasificación5</th>\n",
       "      <th>Clasificación6</th>\n",
       "      <th>...</th>\n",
       "      <th>Matrícula primer año hombres</th>\n",
       "      <th>Matrícula primer año mujeres</th>\n",
       "      <th>Matrícula primer año extranjeros</th>\n",
       "      <th>Matrícula Primer Año</th>\n",
       "      <th>Matrícula total hombres</th>\n",
       "      <th>Matrícula total mujeres</th>\n",
       "      <th>Matrícula total extranjeros</th>\n",
       "      <th>Matrícula Total</th>\n",
       "      <th>Códgo SIES</th>\n",
       "      <th>Pregrado/Posgrado</th>\n",
       "    </tr>\n",
       "  </thead>\n",
       "  <tbody>\n",
       "    <tr>\n",
       "      <th>0</th>\n",
       "      <td>2022</td>\n",
       "      <td>1001</td>\n",
       "      <td>U. DE CHILE</td>\n",
       "      <td>Univ.</td>\n",
       "      <td>(a) Universidades CRUCH</td>\n",
       "      <td>(a) Universidades Estatales CRUCH</td>\n",
       "      <td>(a) Acreditada</td>\n",
       "      <td>(a) Autónoma</td>\n",
       "      <td>(a) Adscritas a Gratuidad</td>\n",
       "      <td>(a) Subsistema Universitario</td>\n",
       "      <td>...</td>\n",
       "      <td>59.0</td>\n",
       "      <td>77.0</td>\n",
       "      <td>0.0</td>\n",
       "      <td>136</td>\n",
       "      <td>291.0</td>\n",
       "      <td>401.0</td>\n",
       "      <td>5.0</td>\n",
       "      <td>692</td>\n",
       "      <td>I70S1C1J1V2</td>\n",
       "      <td>Pregrado</td>\n",
       "    </tr>\n",
       "    <tr>\n",
       "      <th>1</th>\n",
       "      <td>2022</td>\n",
       "      <td>1001</td>\n",
       "      <td>U. DE CHILE</td>\n",
       "      <td>Univ.</td>\n",
       "      <td>(a) Universidades CRUCH</td>\n",
       "      <td>(a) Universidades Estatales CRUCH</td>\n",
       "      <td>(a) Acreditada</td>\n",
       "      <td>(a) Autónoma</td>\n",
       "      <td>(a) Adscritas a Gratuidad</td>\n",
       "      <td>(a) Subsistema Universitario</td>\n",
       "      <td>...</td>\n",
       "      <td>44.0</td>\n",
       "      <td>49.0</td>\n",
       "      <td>8.0</td>\n",
       "      <td>93</td>\n",
       "      <td>178.0</td>\n",
       "      <td>204.0</td>\n",
       "      <td>17.0</td>\n",
       "      <td>382</td>\n",
       "      <td>I70S1C814J1V1</td>\n",
       "      <td>Pregrado</td>\n",
       "    </tr>\n",
       "  </tbody>\n",
       "</table>\n",
       "<p>2 rows × 60 columns</p>\n",
       "</div>"
      ],
      "text/plain": [
       "    Año  Cód. Institución Nombre Institución Tipo Institución  \\\n",
       "0  2022              1001        U. DE CHILE            Univ.   \n",
       "1  2022              1001        U. DE CHILE            Univ.   \n",
       "\n",
       "            Clasificación1                     Clasificación2  Clasificación3  \\\n",
       "0  (a) Universidades CRUCH  (a) Universidades Estatales CRUCH  (a) Acreditada   \n",
       "1  (a) Universidades CRUCH  (a) Universidades Estatales CRUCH  (a) Acreditada   \n",
       "\n",
       "  Clasificación4             Clasificación5                Clasificación6  \\\n",
       "0   (a) Autónoma  (a) Adscritas a Gratuidad  (a) Subsistema Universitario   \n",
       "1   (a) Autónoma  (a) Adscritas a Gratuidad  (a) Subsistema Universitario   \n",
       "\n",
       "   ... Matrícula primer año hombres Matrícula primer año mujeres  \\\n",
       "0  ...                         59.0                         77.0   \n",
       "1  ...                         44.0                         49.0   \n",
       "\n",
       "  Matrícula primer año extranjeros  Matrícula Primer Año  \\\n",
       "0                              0.0                   136   \n",
       "1                              8.0                    93   \n",
       "\n",
       "   Matrícula total hombres Matrícula total mujeres  \\\n",
       "0                    291.0                   401.0   \n",
       "1                    178.0                   204.0   \n",
       "\n",
       "  Matrícula total extranjeros Matrícula Total     Códgo SIES Pregrado/Posgrado  \n",
       "0                         5.0             692    I70S1C1J1V2          Pregrado  \n",
       "1                        17.0             382  I70S1C814J1V1          Pregrado  \n",
       "\n",
       "[2 rows x 60 columns]"
      ]
     },
     "execution_count": 175,
     "metadata": {},
     "output_type": "execute_result"
    }
   ],
   "source": [
    "df_SU.head(2)"
   ]
  },
  {
   "cell_type": "code",
   "execution_count": 176,
   "id": "a4489a8c-9fcc-4aee-900a-5dcc0559e3eb",
   "metadata": {},
   "outputs": [],
   "source": [
    "nulos=df_SU.isnull().sum()"
   ]
  },
  {
   "cell_type": "code",
   "execution_count": 177,
   "id": "0ee808ac-8670-4f26-89b4-5be547d4ab35",
   "metadata": {},
   "outputs": [
    {
     "data": {
      "text/plain": [
       "Mención o Especialidad                                85.531094\n",
       "Mínimo Puntaje Ranking                                78.941595\n",
       "Máximo Puntaje Ranking                                78.925203\n",
       "Promedio Puntaje Ranking                              78.741111\n",
       "Mínimo Puntaje NEM                                    78.718414\n",
       "Máximo Puntaje NEM                                    78.702022\n",
       "Promedio Puntaje NEM                                  78.466233\n",
       "Nº Alumnos Ingreso Otra Via                           75.133656\n",
       "Puntaje de corte (promedio de la carrera)             64.187724\n",
       "Puntaje de corte (primer seleccionado)                64.100721\n",
       "Puntaje de corte (último seleccionado)                62.089575\n",
       "Mínimo Puntaje (promedio matemáticas y lenguaje)      61.234680\n",
       "Promedio Puntaje (promedio matemáticas y lenguaje)    60.718969\n",
       "Máximo Puntaje (promedio matemáticas y lenguaje)      60.705099\n",
       "Nº Alumnos Ingreso Via PSU o PDT                      60.391133\n",
       "Códgo SIES                                            43.313411\n",
       "Nombre del Campus                                     35.343219\n",
       "Cód. Campus                                           35.175518\n",
       "Título                                                32.971453\n",
       "Vacantes                                              29.777576\n",
       "Matrícula primer año extranjeros                      28.563323\n",
       "Grado Académico                                       27.408332\n",
       "Matrícula total extranjeros                           23.800878\n",
       "Valor de matrícula                                    21.267716\n",
       "Valor de arancel                                      20.769658\n",
       "Valor del Título                                      19.488576\n",
       "Matrícula primer año hombres                           8.209764\n",
       "Matrícula primer año mujeres                           8.102587\n",
       "Matrícula total mujeres                                1.194079\n",
       "Matrícula total hombres                                1.108337\n",
       "Duración (en semestres)                                0.559843\n",
       "Año Inicio Actividades                                 0.050436\n",
       "Comuna donde se imparte la carrera o programa          0.002522\n",
       "dtype: float64"
      ]
     },
     "execution_count": 177,
     "metadata": {},
     "output_type": "execute_result"
    }
   ],
   "source": [
    "porcentaje_nulos = nulos[nulos > 0]/df_SU.shape[0]*100\n",
    "porcentaje_nulos.sort_values(ascending=False)"
   ]
  },
  {
   "cell_type": "code",
   "execution_count": 178,
   "id": "8b3f6e9f-afb3-4b90-9026-659d4241abf5",
   "metadata": {},
   "outputs": [
    {
     "data": {
      "text/plain": [
       "Index(['Mención o Especialidad', 'Puntaje de corte (primer seleccionado)',\n",
       "       'Puntaje de corte (promedio de la carrera)',\n",
       "       'Puntaje de corte (último seleccionado)', 'Máximo Puntaje NEM',\n",
       "       'Promedio Puntaje NEM', 'Mínimo Puntaje NEM', 'Máximo Puntaje Ranking',\n",
       "       'Promedio Puntaje Ranking', 'Mínimo Puntaje Ranking',\n",
       "       'Nº Alumnos Ingreso Otra Via'],\n",
       "      dtype='object')"
      ]
     },
     "execution_count": 178,
     "metadata": {},
     "output_type": "execute_result"
    }
   ],
   "source": [
    "columnas_a_eliminar=porcentaje_nulos[porcentaje_nulos >= 62]\n",
    "columnas_a_eliminar.index"
   ]
  },
  {
   "cell_type": "code",
   "execution_count": 179,
   "id": "6017127b-5ab8-438a-a55c-e3261a61b38a",
   "metadata": {
    "tags": []
   },
   "outputs": [
    {
     "name": "stderr",
     "output_type": "stream",
     "text": [
      "C:\\Users\\fezun\\anaconda3\\lib\\site-packages\\pandas\\core\\frame.py:4906: SettingWithCopyWarning: \n",
      "A value is trying to be set on a copy of a slice from a DataFrame\n",
      "\n",
      "See the caveats in the documentation: https://pandas.pydata.org/pandas-docs/stable/user_guide/indexing.html#returning-a-view-versus-a-copy\n",
      "  return super().drop(\n"
     ]
    }
   ],
   "source": [
    "df_SU.drop(columns=columnas_a_eliminar.index, inplace=True)"
   ]
  },
  {
   "cell_type": "code",
   "execution_count": 180,
   "id": "9763f0a9-3152-4233-ac17-4fe72c3841e2",
   "metadata": {},
   "outputs": [
    {
     "data": {
      "text/plain": [
       "Index(['Año', 'Cód. Institución', 'Nombre Institución', 'Tipo Institución',\n",
       "       'Clasificación1', 'Clasificación2', 'Clasificación3', 'Clasificación4',\n",
       "       'Clasificación5', 'Clasificación6', 'Nombre de la Sede',\n",
       "       'Comuna donde se imparte la carrera o programa', 'Nombre Region',\n",
       "       'Orden Geográfico de la Región (Norte aSur)', 'Cód. Carrera',\n",
       "       'Carrera Genérica', 'Nombre Programa', 'Horario', 'Tipo Programa',\n",
       "       'Area Conocimiento', 'idgenerocarrera', 'Tipo Carrera',\n",
       "       'IngresoDirecto', 'Año Inicio Actividades', 'Nombre del Campus',\n",
       "       'Duración (en semestres)', 'Cód. Campus', 'Cód. Sede', 'Título',\n",
       "       'Grado Académico', 'Máximo Puntaje (promedio matemáticas y lenguaje)',\n",
       "       'Promedio Puntaje (promedio matemáticas y lenguaje)',\n",
       "       'Mínimo Puntaje (promedio matemáticas y lenguaje)',\n",
       "       'Nº Alumnos Ingreso Via PSU o PDT', 'Valor de matrícula',\n",
       "       'Valor de arancel', 'Valor del Título', 'Tipo Moneda', 'Vacantes',\n",
       "       'Matrícula primer año hombres', 'Matrícula primer año mujeres',\n",
       "       'Matrícula primer año extranjeros', 'Matrícula Primer Año',\n",
       "       'Matrícula total hombres', 'Matrícula total mujeres',\n",
       "       'Matrícula total extranjeros', 'Matrícula Total', 'Códgo SIES',\n",
       "       'Pregrado/Posgrado'],\n",
       "      dtype='object')"
      ]
     },
     "execution_count": 180,
     "metadata": {},
     "output_type": "execute_result"
    }
   ],
   "source": [
    "df_SU.columns"
   ]
  },
  {
   "cell_type": "code",
   "execution_count": 181,
   "id": "6e9a32dd-6839-4bb7-8da9-c024299c3d88",
   "metadata": {},
   "outputs": [],
   "source": [
    "drop=['Cód. Institución','Tipo Institución', 'Cód. Campus', 'Cód. Sede', 'Matrícula total hombres', 'Matrícula total mujeres',\n",
    "       'Matrícula total extranjeros', 'Matrícula Total', 'Códgo SIES']"
   ]
  },
  {
   "cell_type": "code",
   "execution_count": 185,
   "id": "5a67ee0b-9ff3-4baa-b1fa-3ffa94e26231",
   "metadata": {},
   "outputs": [],
   "source": [
    "df_SU.drop(columns=drop, inplace=True)"
   ]
  },
  {
   "cell_type": "markdown",
   "id": "5fd121a0-a164-4250-a176-97d59e9f5956",
   "metadata": {
    "jp-MarkdownHeadingCollapsed": true,
    "tags": []
   },
   "source": [
    "### Pregrado"
   ]
  },
  {
   "cell_type": "code",
   "execution_count": 186,
   "id": "dd12395d-6810-44ca-b6e9-12e0de39637d",
   "metadata": {},
   "outputs": [
    {
     "data": {
      "text/plain": [
       "Pregrado    47884\n",
       "Posgrado    31424\n",
       "Name: Pregrado/Posgrado, dtype: int64"
      ]
     },
     "execution_count": 186,
     "metadata": {},
     "output_type": "execute_result"
    }
   ],
   "source": [
    "df_SU['Pregrado/Posgrado'].value_counts()"
   ]
  },
  {
   "cell_type": "code",
   "execution_count": 191,
   "id": "248ca753-e19a-48b6-a8ef-230369114b2f",
   "metadata": {},
   "outputs": [
    {
     "data": {
      "text/plain": [
       "Máximo Puntaje (promedio matemáticas y lenguaje)      31424\n",
       "Promedio Puntaje (promedio matemáticas y lenguaje)    31424\n",
       "Mínimo Puntaje (promedio matemáticas y lenguaje)      31424\n",
       "dtype: int64"
      ]
     },
     "execution_count": 191,
     "metadata": {},
     "output_type": "execute_result"
    }
   ],
   "source": [
    "df_SU[df_SU['Pregrado/Posgrado']=='Posgrado'][['Máximo Puntaje (promedio matemáticas y lenguaje)',\n",
    "       'Promedio Puntaje (promedio matemáticas y lenguaje)',\n",
    "       'Mínimo Puntaje (promedio matemáticas y lenguaje)']].isnull().sum()"
   ]
  },
  {
   "cell_type": "code",
   "execution_count": 213,
   "id": "2cfef9cc-3854-487c-8988-06273906bceb",
   "metadata": {},
   "outputs": [
    {
     "data": {
      "text/plain": [
       "Comuna donde se imparte la carrera o programa             2\n",
       "Año Inicio Actividades                                    2\n",
       "Nombre del Campus                                     18271\n",
       "Duración (en semestres)                                 444\n",
       "Título                                                 3002\n",
       "Grado Académico                                        9513\n",
       "Máximo Puntaje (promedio matemáticas y lenguaje)      16720\n",
       "Promedio Puntaje (promedio matemáticas y lenguaje)    16731\n",
       "Mínimo Puntaje (promedio matemáticas y lenguaje)      17140\n",
       "Nº Alumnos Ingreso Via PSU o PDT                      16471\n",
       "Valor de matrícula                                     7620\n",
       "Valor de arancel                                       8336\n",
       "Valor del Título                                       7185\n",
       "Vacantes                                               9183\n",
       "Matrícula primer año hombres                           4122\n",
       "Matrícula primer año mujeres                           4027\n",
       "Matrícula primer año extranjeros                      15272\n",
       "dtype: int64"
      ]
     },
     "execution_count": 213,
     "metadata": {},
     "output_type": "execute_result"
    }
   ],
   "source": [
    "df_pregrado=df_SU[df_SU['Pregrado/Posgrado']=='Pregrado']\n",
    "df_pregrado.isnull().sum()[df_pregrado.isnull().sum()>0]"
   ]
  },
  {
   "cell_type": "code",
   "execution_count": 230,
   "id": "92ce43b8-da00-4741-8014-35ac4dfc5001",
   "metadata": {},
   "outputs": [
    {
     "name": "stderr",
     "output_type": "stream",
     "text": [
      "C:\\Users\\fezun\\anaconda3\\lib\\site-packages\\pandas\\core\\indexing.py:1817: SettingWithCopyWarning: \n",
      "A value is trying to be set on a copy of a slice from a DataFrame.\n",
      "Try using .loc[row_indexer,col_indexer] = value instead\n",
      "\n",
      "See the caveats in the documentation: https://pandas.pydata.org/pandas-docs/stable/user_guide/indexing.html#returning-a-view-versus-a-copy\n",
      "  self._setitem_single_column(loc, value, pi)\n"
     ]
    }
   ],
   "source": [
    "df_pregrado.loc[(df_pregrado['Matrícula Primer Año'] == 0),'Matrícula primer año hombres']=0"
   ]
  },
  {
   "cell_type": "code",
   "execution_count": 232,
   "id": "1fce9c31-f83f-4aa0-a4b1-3b24bdd841ab",
   "metadata": {},
   "outputs": [
    {
     "name": "stderr",
     "output_type": "stream",
     "text": [
      "C:\\Users\\fezun\\anaconda3\\lib\\site-packages\\pandas\\core\\indexing.py:1817: SettingWithCopyWarning: \n",
      "A value is trying to be set on a copy of a slice from a DataFrame.\n",
      "Try using .loc[row_indexer,col_indexer] = value instead\n",
      "\n",
      "See the caveats in the documentation: https://pandas.pydata.org/pandas-docs/stable/user_guide/indexing.html#returning-a-view-versus-a-copy\n",
      "  self._setitem_single_column(loc, value, pi)\n"
     ]
    }
   ],
   "source": [
    "df_pregrado.loc[(df_pregrado['Matrícula Primer Año'] == 0),['Matrícula primer año mujeres',\n",
    "       'Matrícula primer año extranjeros']]=0"
   ]
  },
  {
   "cell_type": "code",
   "execution_count": 233,
   "id": "fbf81974-dfa6-4f84-9ed0-c237e62429b1",
   "metadata": {},
   "outputs": [
    {
     "data": {
      "text/html": [
       "<div>\n",
       "<style scoped>\n",
       "    .dataframe tbody tr th:only-of-type {\n",
       "        vertical-align: middle;\n",
       "    }\n",
       "\n",
       "    .dataframe tbody tr th {\n",
       "        vertical-align: top;\n",
       "    }\n",
       "\n",
       "    .dataframe thead th {\n",
       "        text-align: right;\n",
       "    }\n",
       "</style>\n",
       "<table border=\"1\" class=\"dataframe\">\n",
       "  <thead>\n",
       "    <tr style=\"text-align: right;\">\n",
       "      <th></th>\n",
       "      <th>Matrícula primer año hombres</th>\n",
       "      <th>Matrícula primer año mujeres</th>\n",
       "      <th>Matrícula primer año extranjeros</th>\n",
       "    </tr>\n",
       "  </thead>\n",
       "  <tbody>\n",
       "    <tr>\n",
       "      <th>10</th>\n",
       "      <td>0.0</td>\n",
       "      <td>0.0</td>\n",
       "      <td>0.0</td>\n",
       "    </tr>\n",
       "    <tr>\n",
       "      <th>11</th>\n",
       "      <td>0.0</td>\n",
       "      <td>0.0</td>\n",
       "      <td>0.0</td>\n",
       "    </tr>\n",
       "    <tr>\n",
       "      <th>15</th>\n",
       "      <td>0.0</td>\n",
       "      <td>0.0</td>\n",
       "      <td>0.0</td>\n",
       "    </tr>\n",
       "    <tr>\n",
       "      <th>21</th>\n",
       "      <td>0.0</td>\n",
       "      <td>0.0</td>\n",
       "      <td>0.0</td>\n",
       "    </tr>\n",
       "    <tr>\n",
       "      <th>26</th>\n",
       "      <td>0.0</td>\n",
       "      <td>0.0</td>\n",
       "      <td>0.0</td>\n",
       "    </tr>\n",
       "    <tr>\n",
       "      <th>...</th>\n",
       "      <td>...</td>\n",
       "      <td>...</td>\n",
       "      <td>...</td>\n",
       "    </tr>\n",
       "    <tr>\n",
       "      <th>167986</th>\n",
       "      <td>0.0</td>\n",
       "      <td>0.0</td>\n",
       "      <td>0.0</td>\n",
       "    </tr>\n",
       "    <tr>\n",
       "      <th>167987</th>\n",
       "      <td>0.0</td>\n",
       "      <td>0.0</td>\n",
       "      <td>0.0</td>\n",
       "    </tr>\n",
       "    <tr>\n",
       "      <th>168004</th>\n",
       "      <td>0.0</td>\n",
       "      <td>0.0</td>\n",
       "      <td>0.0</td>\n",
       "    </tr>\n",
       "    <tr>\n",
       "      <th>168007</th>\n",
       "      <td>0.0</td>\n",
       "      <td>0.0</td>\n",
       "      <td>0.0</td>\n",
       "    </tr>\n",
       "    <tr>\n",
       "      <th>168015</th>\n",
       "      <td>0.0</td>\n",
       "      <td>0.0</td>\n",
       "      <td>0.0</td>\n",
       "    </tr>\n",
       "  </tbody>\n",
       "</table>\n",
       "<p>8183 rows × 3 columns</p>\n",
       "</div>"
      ],
      "text/plain": [
       "        Matrícula primer año hombres  Matrícula primer año mujeres  \\\n",
       "10                               0.0                           0.0   \n",
       "11                               0.0                           0.0   \n",
       "15                               0.0                           0.0   \n",
       "21                               0.0                           0.0   \n",
       "26                               0.0                           0.0   \n",
       "...                              ...                           ...   \n",
       "167986                           0.0                           0.0   \n",
       "167987                           0.0                           0.0   \n",
       "168004                           0.0                           0.0   \n",
       "168007                           0.0                           0.0   \n",
       "168015                           0.0                           0.0   \n",
       "\n",
       "        Matrícula primer año extranjeros  \n",
       "10                                   0.0  \n",
       "11                                   0.0  \n",
       "15                                   0.0  \n",
       "21                                   0.0  \n",
       "26                                   0.0  \n",
       "...                                  ...  \n",
       "167986                               0.0  \n",
       "167987                               0.0  \n",
       "168004                               0.0  \n",
       "168007                               0.0  \n",
       "168015                               0.0  \n",
       "\n",
       "[8183 rows x 3 columns]"
      ]
     },
     "execution_count": 233,
     "metadata": {},
     "output_type": "execute_result"
    }
   ],
   "source": [
    "df_pregrado[df_pregrado['Matrícula Primer Año'] == 0][['Matrícula primer año hombres', 'Matrícula primer año mujeres',\n",
    "       'Matrícula primer año extranjeros']]"
   ]
  },
  {
   "cell_type": "code",
   "execution_count": 234,
   "id": "f18b9f9f-0db0-4597-8611-f2aefe350a31",
   "metadata": {},
   "outputs": [
    {
     "data": {
      "text/plain": [
       "Comuna donde se imparte la carrera o programa             2\n",
       "Año Inicio Actividades                                    2\n",
       "Nombre del Campus                                     18271\n",
       "Duración (en semestres)                                 444\n",
       "Título                                                 3002\n",
       "Grado Académico                                        9513\n",
       "Máximo Puntaje (promedio matemáticas y lenguaje)      16720\n",
       "Promedio Puntaje (promedio matemáticas y lenguaje)    16731\n",
       "Mínimo Puntaje (promedio matemáticas y lenguaje)      17140\n",
       "Nº Alumnos Ingreso Via PSU o PDT                      16471\n",
       "Valor de matrícula                                     7620\n",
       "Valor de arancel                                       8336\n",
       "Valor del Título                                       7185\n",
       "Vacantes                                               9183\n",
       "Matrícula primer año hombres                            316\n",
       "Matrícula primer año mujeres                            222\n",
       "Matrícula primer año extranjeros                      11458\n",
       "dtype: int64"
      ]
     },
     "execution_count": 234,
     "metadata": {},
     "output_type": "execute_result"
    }
   ],
   "source": [
    "df_pregrado.isnull().sum()[df_pregrado.isnull().sum()>0]"
   ]
  },
  {
   "cell_type": "code",
   "execution_count": 235,
   "id": "38f79744-0a8b-4bd8-b735-72c83b213e69",
   "metadata": {},
   "outputs": [
    {
     "data": {
      "text/html": [
       "<div>\n",
       "<style scoped>\n",
       "    .dataframe tbody tr th:only-of-type {\n",
       "        vertical-align: middle;\n",
       "    }\n",
       "\n",
       "    .dataframe tbody tr th {\n",
       "        vertical-align: top;\n",
       "    }\n",
       "\n",
       "    .dataframe thead th {\n",
       "        text-align: right;\n",
       "    }\n",
       "</style>\n",
       "<table border=\"1\" class=\"dataframe\">\n",
       "  <thead>\n",
       "    <tr style=\"text-align: right;\">\n",
       "      <th></th>\n",
       "      <th>Matrícula primer año hombres</th>\n",
       "      <th>Matrícula primer año mujeres</th>\n",
       "      <th>Matrícula primer año extranjeros</th>\n",
       "      <th>Matrícula Primer Año</th>\n",
       "    </tr>\n",
       "  </thead>\n",
       "  <tbody>\n",
       "    <tr>\n",
       "      <th>859</th>\n",
       "      <td>NaN</td>\n",
       "      <td>10.0</td>\n",
       "      <td>NaN</td>\n",
       "      <td>10</td>\n",
       "    </tr>\n",
       "    <tr>\n",
       "      <th>862</th>\n",
       "      <td>NaN</td>\n",
       "      <td>7.0</td>\n",
       "      <td>NaN</td>\n",
       "      <td>7</td>\n",
       "    </tr>\n",
       "    <tr>\n",
       "      <th>871</th>\n",
       "      <td>NaN</td>\n",
       "      <td>13.0</td>\n",
       "      <td>NaN</td>\n",
       "      <td>13</td>\n",
       "    </tr>\n",
       "    <tr>\n",
       "      <th>1039</th>\n",
       "      <td>NaN</td>\n",
       "      <td>1.0</td>\n",
       "      <td>NaN</td>\n",
       "      <td>1</td>\n",
       "    </tr>\n",
       "    <tr>\n",
       "      <th>1085</th>\n",
       "      <td>NaN</td>\n",
       "      <td>14.0</td>\n",
       "      <td>NaN</td>\n",
       "      <td>14</td>\n",
       "    </tr>\n",
       "    <tr>\n",
       "      <th>...</th>\n",
       "      <td>...</td>\n",
       "      <td>...</td>\n",
       "      <td>...</td>\n",
       "      <td>...</td>\n",
       "    </tr>\n",
       "    <tr>\n",
       "      <th>159608</th>\n",
       "      <td>NaN</td>\n",
       "      <td>30.0</td>\n",
       "      <td>NaN</td>\n",
       "      <td>30</td>\n",
       "    </tr>\n",
       "    <tr>\n",
       "      <th>159610</th>\n",
       "      <td>NaN</td>\n",
       "      <td>18.0</td>\n",
       "      <td>NaN</td>\n",
       "      <td>18</td>\n",
       "    </tr>\n",
       "    <tr>\n",
       "      <th>159816</th>\n",
       "      <td>NaN</td>\n",
       "      <td>1.0</td>\n",
       "      <td>NaN</td>\n",
       "      <td>1</td>\n",
       "    </tr>\n",
       "    <tr>\n",
       "      <th>160125</th>\n",
       "      <td>NaN</td>\n",
       "      <td>1.0</td>\n",
       "      <td>NaN</td>\n",
       "      <td>1</td>\n",
       "    </tr>\n",
       "    <tr>\n",
       "      <th>160410</th>\n",
       "      <td>NaN</td>\n",
       "      <td>1.0</td>\n",
       "      <td>NaN</td>\n",
       "      <td>1</td>\n",
       "    </tr>\n",
       "  </tbody>\n",
       "</table>\n",
       "<p>316 rows × 4 columns</p>\n",
       "</div>"
      ],
      "text/plain": [
       "        Matrícula primer año hombres  Matrícula primer año mujeres  \\\n",
       "859                              NaN                          10.0   \n",
       "862                              NaN                           7.0   \n",
       "871                              NaN                          13.0   \n",
       "1039                             NaN                           1.0   \n",
       "1085                             NaN                          14.0   \n",
       "...                              ...                           ...   \n",
       "159608                           NaN                          30.0   \n",
       "159610                           NaN                          18.0   \n",
       "159816                           NaN                           1.0   \n",
       "160125                           NaN                           1.0   \n",
       "160410                           NaN                           1.0   \n",
       "\n",
       "        Matrícula primer año extranjeros  Matrícula Primer Año  \n",
       "859                                  NaN                    10  \n",
       "862                                  NaN                     7  \n",
       "871                                  NaN                    13  \n",
       "1039                                 NaN                     1  \n",
       "1085                                 NaN                    14  \n",
       "...                                  ...                   ...  \n",
       "159608                               NaN                    30  \n",
       "159610                               NaN                    18  \n",
       "159816                               NaN                     1  \n",
       "160125                               NaN                     1  \n",
       "160410                               NaN                     1  \n",
       "\n",
       "[316 rows x 4 columns]"
      ]
     },
     "execution_count": 235,
     "metadata": {},
     "output_type": "execute_result"
    }
   ],
   "source": [
    "df_pregrado[df_pregrado['Matrícula primer año hombres'].isnull()][['Matrícula primer año hombres', 'Matrícula primer año mujeres',\n",
    "       'Matrícula primer año extranjeros', 'Matrícula Primer Año']]"
   ]
  },
  {
   "cell_type": "code",
   "execution_count": 236,
   "id": "904867f1-5f38-4528-af0a-cb9238b5d42d",
   "metadata": {},
   "outputs": [
    {
     "name": "stderr",
     "output_type": "stream",
     "text": [
      "C:\\Users\\fezun\\anaconda3\\lib\\site-packages\\pandas\\core\\indexing.py:1817: SettingWithCopyWarning: \n",
      "A value is trying to be set on a copy of a slice from a DataFrame.\n",
      "Try using .loc[row_indexer,col_indexer] = value instead\n",
      "\n",
      "See the caveats in the documentation: https://pandas.pydata.org/pandas-docs/stable/user_guide/indexing.html#returning-a-view-versus-a-copy\n",
      "  self._setitem_single_column(loc, value, pi)\n"
     ]
    }
   ],
   "source": [
    "df_pregrado.loc[(df_pregrado['Matrícula Primer Año'] == df_pregrado['Matrícula primer año mujeres']),['Matrícula primer año hombres',\n",
    "       'Matrícula primer año extranjeros']]=0"
   ]
  },
  {
   "cell_type": "code",
   "execution_count": 238,
   "id": "b9833154-8538-4f25-b5c4-96fa2682cf24",
   "metadata": {},
   "outputs": [],
   "source": [
    "df_pregrado.loc[(df_pregrado['Matrícula Primer Año'] == df_pregrado['Matrícula primer año hombres']),['Matrícula primer año mujeres',\n",
    "       'Matrícula primer año extranjeros']]=0"
   ]
  },
  {
   "cell_type": "code",
   "execution_count": 244,
   "id": "2452b74f-15d4-4af9-8e64-c916bfcce1a4",
   "metadata": {},
   "outputs": [
    {
     "name": "stderr",
     "output_type": "stream",
     "text": [
      "C:\\Users\\fezun\\anaconda3\\lib\\site-packages\\pandas\\core\\indexing.py:1817: SettingWithCopyWarning: \n",
      "A value is trying to be set on a copy of a slice from a DataFrame.\n",
      "Try using .loc[row_indexer,col_indexer] = value instead\n",
      "\n",
      "See the caveats in the documentation: https://pandas.pydata.org/pandas-docs/stable/user_guide/indexing.html#returning-a-view-versus-a-copy\n",
      "  self._setitem_single_column(loc, value, pi)\n"
     ]
    }
   ],
   "source": [
    "df_pregrado.loc[(df_pregrado['Matrícula Primer Año'] == (df_pregrado['Matrícula primer año hombres']+df_pregrado['Matrícula primer año mujeres'])),\n",
    "       'Matrícula primer año extranjeros']=0"
   ]
  },
  {
   "cell_type": "code",
   "execution_count": 245,
   "id": "afda2e8b-a56c-4afe-a318-081cbab9edfb",
   "metadata": {},
   "outputs": [
    {
     "data": {
      "text/plain": [
       "Matrícula Primer Año                0\n",
       "Matrícula primer año hombres        0\n",
       "Matrícula primer año mujeres        0\n",
       "Matrícula primer año extranjeros    0\n",
       "dtype: int64"
      ]
     },
     "execution_count": 245,
     "metadata": {},
     "output_type": "execute_result"
    }
   ],
   "source": [
    "df_pregrado[['Matrícula Primer Año','Matrícula primer año hombres', 'Matrícula primer año mujeres',\n",
    "       'Matrícula primer año extranjeros']].isnull().sum()"
   ]
  },
  {
   "cell_type": "code",
   "execution_count": 246,
   "id": "141a8f02-a55c-48e0-b487-f728b3752d91",
   "metadata": {},
   "outputs": [
    {
     "data": {
      "text/plain": [
       "Comuna donde se imparte la carrera o programa             2\n",
       "Año Inicio Actividades                                    2\n",
       "Nombre del Campus                                     18271\n",
       "Duración (en semestres)                                 444\n",
       "Título                                                 3002\n",
       "Grado Académico                                        9513\n",
       "Máximo Puntaje (promedio matemáticas y lenguaje)      16720\n",
       "Promedio Puntaje (promedio matemáticas y lenguaje)    16731\n",
       "Mínimo Puntaje (promedio matemáticas y lenguaje)      17140\n",
       "Nº Alumnos Ingreso Via PSU o PDT                      16471\n",
       "Valor de matrícula                                     7620\n",
       "Valor de arancel                                       8336\n",
       "Valor del Título                                       7185\n",
       "Vacantes                                               9183\n",
       "dtype: int64"
      ]
     },
     "execution_count": 246,
     "metadata": {},
     "output_type": "execute_result"
    }
   ],
   "source": [
    "df_pregrado.isnull().sum()[df_pregrado.isnull().sum()>0]"
   ]
  },
  {
   "cell_type": "code",
   "execution_count": 258,
   "id": "581543a4-fb59-4301-be6a-af1bfb11cfcb",
   "metadata": {},
   "outputs": [
    {
     "data": {
      "text/plain": [
       "Index(['Año', 'Nombre Institución', 'Clasificación1', 'Clasificación2',\n",
       "       'Clasificación3', 'Clasificación4', 'Clasificación5', 'Clasificación6',\n",
       "       'Nombre de la Sede', 'Comuna donde se imparte la carrera o programa',\n",
       "       'Nombre Region', 'Orden Geográfico de la Región (Norte aSur)',\n",
       "       'Cód. Carrera', 'Carrera Genérica', 'Nombre Programa', 'Horario',\n",
       "       'Tipo Programa', 'Area Conocimiento', 'idgenerocarrera', 'Tipo Carrera',\n",
       "       'IngresoDirecto', 'Año Inicio Actividades', 'Nombre del Campus',\n",
       "       'Duración (en semestres)', 'Título', 'Grado Académico',\n",
       "       'Máximo Puntaje (promedio matemáticas y lenguaje)',\n",
       "       'Promedio Puntaje (promedio matemáticas y lenguaje)',\n",
       "       'Mínimo Puntaje (promedio matemáticas y lenguaje)',\n",
       "       'Nº Alumnos Ingreso Via PSU o PDT', 'Valor de matrícula',\n",
       "       'Valor de arancel', 'Valor del Título', 'Tipo Moneda', 'Vacantes',\n",
       "       'Matrícula primer año hombres', 'Matrícula primer año mujeres',\n",
       "       'Matrícula primer año extranjeros', 'Matrícula Primer Año',\n",
       "       'Pregrado/Posgrado'],\n",
       "      dtype='object')"
      ]
     },
     "execution_count": 258,
     "metadata": {},
     "output_type": "execute_result"
    }
   ],
   "source": [
    "df_pregrado.columns"
   ]
  },
  {
   "cell_type": "code",
   "execution_count": 301,
   "id": "5bf9592f-b953-406d-92e6-8987efbdbbda",
   "metadata": {},
   "outputs": [
    {
     "data": {
      "text/plain": [
       "Profesional con Licenciatura    35892\n",
       "Técnico Nivel Superior           4622\n",
       "Profesional                      4257\n",
       "Licenciatura                     1829\n",
       "Bachillerato                      812\n",
       "Plan Común o Ciclo Básico         472\n",
       "Name: Tipo Carrera, dtype: int64"
      ]
     },
     "execution_count": 301,
     "metadata": {},
     "output_type": "execute_result"
    }
   ],
   "source": [
    "df_pregrado['Tipo Carrera'].value_counts()"
   ]
  },
  {
   "cell_type": "code",
   "execution_count": 294,
   "id": "abcf61fc-8bcb-4585-81ca-deea3d53da7e",
   "metadata": {},
   "outputs": [
    {
     "data": {
      "text/plain": [
       "Tecnología                                        12887\n",
       "Educación                                          8938\n",
       "Salud                                              6311\n",
       "Administración y Comercio                          6255\n",
       "Ciencias Sociales                                  4188\n",
       "Arte y Arquitectura                                2518\n",
       "Ciencias                                           2136\n",
       "Agricultura, Silvicultura, Pesca y Veterinaria     1660\n",
       "Derecho                                            1609\n",
       "Humanidades                                        1382\n",
       "Name: Area Conocimiento, dtype: int64"
      ]
     },
     "execution_count": 294,
     "metadata": {},
     "output_type": "execute_result"
    }
   ],
   "source": [
    "df_pregrado['Area Conocimiento'].value_counts()"
   ]
  },
  {
   "cell_type": "code",
   "execution_count": 299,
   "id": "5e19d912-9c14-4ec9-8bd4-ec9106bf2042",
   "metadata": {},
   "outputs": [
    {
     "data": {
      "text/plain": [
       "Area Conocimiento\n",
       "Administración y Comercio                         142045.0\n",
       "Agricultura, Silvicultura, Pesca y Veterinaria     37634.0\n",
       "Arte y Arquitectura                                59664.0\n",
       "Ciencias                                           41110.0\n",
       "Ciencias Sociales                                 135671.0\n",
       "Derecho                                            69206.0\n",
       "Educación                                         189129.0\n",
       "Humanidades                                        22779.0\n",
       "Salud                                             296576.0\n",
       "Tecnología                                        121310.0\n",
       "Name: Matrícula primer año mujeres, dtype: float64"
      ]
     },
     "execution_count": 299,
     "metadata": {},
     "output_type": "execute_result"
    }
   ],
   "source": [
    "df_pregrado.groupby('Area Conocimiento')['Matrícula primer año mujeres'].sum()"
   ]
  },
  {
   "cell_type": "code",
   "execution_count": 283,
   "id": "c60e841b-c61f-4f75-b8ec-9b7091fa39fc",
   "metadata": {},
   "outputs": [
    {
     "data": {
      "text/plain": [
       "(47884, 40)"
      ]
     },
     "execution_count": 283,
     "metadata": {},
     "output_type": "execute_result"
    }
   ],
   "source": [
    "df_pregrado.shape"
   ]
  },
  {
   "cell_type": "code",
   "execution_count": 289,
   "id": "3bbf05b5-58b1-44af-bc4c-92d86a04b630",
   "metadata": {},
   "outputs": [
    {
     "data": {
      "text/plain": [
       "Tecnología                                        3240\n",
       "Educación                                         1736\n",
       "Administración y Comercio                         1154\n",
       "Ciencias Sociales                                  437\n",
       "Arte y Arquitectura                                420\n",
       "Ciencias                                           382\n",
       "Agricultura, Silvicultura, Pesca y Veterinaria     329\n",
       "Salud                                              293\n",
       "Derecho                                            179\n",
       "Humanidades                                        166\n",
       "Name: Area Conocimiento, dtype: int64"
      ]
     },
     "execution_count": 289,
     "metadata": {},
     "output_type": "execute_result"
    }
   ],
   "source": [
    "df_pregrado[df_pregrado['Valor de arancel'].isnull()]['Area Conocimiento'].value_counts()"
   ]
  },
  {
   "cell_type": "code",
   "execution_count": 291,
   "id": "2ff1da23-e527-4a7f-94c0-436cb885b875",
   "metadata": {},
   "outputs": [
    {
     "name": "stderr",
     "output_type": "stream",
     "text": [
      "C:\\Users\\fezun\\AppData\\Local\\Temp/ipykernel_41588/856253911.py:1: FutureWarning: As the xlwt package is no longer maintained, the xlwt engine will be removed in a future version of pandas. This is the only engine in pandas that supports writing in the xls format. Install openpyxl and write to an xlsx file instead. You can set the option io.excel.xls.writer to 'xlwt' to silence this warning. While this option is deprecated and will also raise a warning, it can be globally set and the warning suppressed.\n",
      "  df_pregrado.to_excel(\"Santo Tomás/pregrado.xls\")\n"
     ]
    }
   ],
   "source": [
    "df_pregrado.to_excel(\"pregrado.xls\")"
   ]
  },
  {
   "cell_type": "code",
   "execution_count": 292,
   "id": "da794113-0d24-4779-a388-18db00f26dcd",
   "metadata": {},
   "outputs": [
    {
     "data": {
      "text/html": [
       "<div>\n",
       "<style scoped>\n",
       "    .dataframe tbody tr th:only-of-type {\n",
       "        vertical-align: middle;\n",
       "    }\n",
       "\n",
       "    .dataframe tbody tr th {\n",
       "        vertical-align: top;\n",
       "    }\n",
       "\n",
       "    .dataframe thead th {\n",
       "        text-align: right;\n",
       "    }\n",
       "</style>\n",
       "<table border=\"1\" class=\"dataframe\">\n",
       "  <thead>\n",
       "    <tr style=\"text-align: right;\">\n",
       "      <th></th>\n",
       "      <th>Año</th>\n",
       "      <th>Nombre Institución</th>\n",
       "      <th>Clasificación1</th>\n",
       "      <th>Clasificación2</th>\n",
       "      <th>Clasificación3</th>\n",
       "      <th>Clasificación4</th>\n",
       "      <th>Clasificación5</th>\n",
       "      <th>Clasificación6</th>\n",
       "      <th>Nombre de la Sede</th>\n",
       "      <th>Comuna donde se imparte la carrera o programa</th>\n",
       "      <th>...</th>\n",
       "      <th>Valor de matrícula</th>\n",
       "      <th>Valor de arancel</th>\n",
       "      <th>Valor del Título</th>\n",
       "      <th>Tipo Moneda</th>\n",
       "      <th>Vacantes</th>\n",
       "      <th>Matrícula primer año hombres</th>\n",
       "      <th>Matrícula primer año mujeres</th>\n",
       "      <th>Matrícula primer año extranjeros</th>\n",
       "      <th>Matrícula Primer Año</th>\n",
       "      <th>Pregrado/Posgrado</th>\n",
       "    </tr>\n",
       "  </thead>\n",
       "  <tbody>\n",
       "    <tr>\n",
       "      <th>0</th>\n",
       "      <td>2022</td>\n",
       "      <td>U. DE CHILE</td>\n",
       "      <td>(a) Universidades CRUCH</td>\n",
       "      <td>(a) Universidades Estatales CRUCH</td>\n",
       "      <td>(a) Acreditada</td>\n",
       "      <td>(a) Autónoma</td>\n",
       "      <td>(a) Adscritas a Gratuidad</td>\n",
       "      <td>(a) Subsistema Universitario</td>\n",
       "      <td>Santiago</td>\n",
       "      <td>Santiago</td>\n",
       "      <td>...</td>\n",
       "      <td>157900.0</td>\n",
       "      <td>4329400.0</td>\n",
       "      <td>75000.0</td>\n",
       "      <td>Pesos</td>\n",
       "      <td>125.0</td>\n",
       "      <td>59.0</td>\n",
       "      <td>77.0</td>\n",
       "      <td>0.0</td>\n",
       "      <td>136</td>\n",
       "      <td>Pregrado</td>\n",
       "    </tr>\n",
       "    <tr>\n",
       "      <th>1</th>\n",
       "      <td>2022</td>\n",
       "      <td>U. DE CHILE</td>\n",
       "      <td>(a) Universidades CRUCH</td>\n",
       "      <td>(a) Universidades Estatales CRUCH</td>\n",
       "      <td>(a) Acreditada</td>\n",
       "      <td>(a) Autónoma</td>\n",
       "      <td>(a) Adscritas a Gratuidad</td>\n",
       "      <td>(a) Subsistema Universitario</td>\n",
       "      <td>Santiago</td>\n",
       "      <td>Santiago</td>\n",
       "      <td>...</td>\n",
       "      <td>157900.0</td>\n",
       "      <td>5465600.0</td>\n",
       "      <td>75000.0</td>\n",
       "      <td>Pesos</td>\n",
       "      <td>67.0</td>\n",
       "      <td>44.0</td>\n",
       "      <td>49.0</td>\n",
       "      <td>0.0</td>\n",
       "      <td>93</td>\n",
       "      <td>Pregrado</td>\n",
       "    </tr>\n",
       "    <tr>\n",
       "      <th>2</th>\n",
       "      <td>2022</td>\n",
       "      <td>U. DE CHILE</td>\n",
       "      <td>(a) Universidades CRUCH</td>\n",
       "      <td>(a) Universidades Estatales CRUCH</td>\n",
       "      <td>(a) Acreditada</td>\n",
       "      <td>(a) Autónoma</td>\n",
       "      <td>(a) Adscritas a Gratuidad</td>\n",
       "      <td>(a) Subsistema Universitario</td>\n",
       "      <td>Santiago</td>\n",
       "      <td>Santiago</td>\n",
       "      <td>...</td>\n",
       "      <td>157900.0</td>\n",
       "      <td>6094500.0</td>\n",
       "      <td>75000.0</td>\n",
       "      <td>Pesos</td>\n",
       "      <td>370.0</td>\n",
       "      <td>281.0</td>\n",
       "      <td>228.0</td>\n",
       "      <td>0.0</td>\n",
       "      <td>509</td>\n",
       "      <td>Pregrado</td>\n",
       "    </tr>\n",
       "    <tr>\n",
       "      <th>3</th>\n",
       "      <td>2022</td>\n",
       "      <td>U. DE CHILE</td>\n",
       "      <td>(a) Universidades CRUCH</td>\n",
       "      <td>(a) Universidades Estatales CRUCH</td>\n",
       "      <td>(a) Acreditada</td>\n",
       "      <td>(a) Autónoma</td>\n",
       "      <td>(a) Adscritas a Gratuidad</td>\n",
       "      <td>(a) Subsistema Universitario</td>\n",
       "      <td>Santiago</td>\n",
       "      <td>Santiago</td>\n",
       "      <td>...</td>\n",
       "      <td>157900.0</td>\n",
       "      <td>5465600.0</td>\n",
       "      <td>75000.0</td>\n",
       "      <td>Pesos</td>\n",
       "      <td>137.0</td>\n",
       "      <td>92.0</td>\n",
       "      <td>81.0</td>\n",
       "      <td>0.0</td>\n",
       "      <td>173</td>\n",
       "      <td>Pregrado</td>\n",
       "    </tr>\n",
       "    <tr>\n",
       "      <th>4</th>\n",
       "      <td>2022</td>\n",
       "      <td>U. DE CHILE</td>\n",
       "      <td>(a) Universidades CRUCH</td>\n",
       "      <td>(a) Universidades Estatales CRUCH</td>\n",
       "      <td>(a) Acreditada</td>\n",
       "      <td>(a) Autónoma</td>\n",
       "      <td>(a) Adscritas a Gratuidad</td>\n",
       "      <td>(a) Subsistema Universitario</td>\n",
       "      <td>Santiago</td>\n",
       "      <td>La Pintana</td>\n",
       "      <td>...</td>\n",
       "      <td>157900.0</td>\n",
       "      <td>5059300.0</td>\n",
       "      <td>75000.0</td>\n",
       "      <td>Pesos</td>\n",
       "      <td>150.0</td>\n",
       "      <td>44.0</td>\n",
       "      <td>34.0</td>\n",
       "      <td>0.0</td>\n",
       "      <td>78</td>\n",
       "      <td>Pregrado</td>\n",
       "    </tr>\n",
       "  </tbody>\n",
       "</table>\n",
       "<p>5 rows × 40 columns</p>\n",
       "</div>"
      ],
      "text/plain": [
       "    Año Nombre Institución           Clasificación1  \\\n",
       "0  2022        U. DE CHILE  (a) Universidades CRUCH   \n",
       "1  2022        U. DE CHILE  (a) Universidades CRUCH   \n",
       "2  2022        U. DE CHILE  (a) Universidades CRUCH   \n",
       "3  2022        U. DE CHILE  (a) Universidades CRUCH   \n",
       "4  2022        U. DE CHILE  (a) Universidades CRUCH   \n",
       "\n",
       "                      Clasificación2  Clasificación3 Clasificación4  \\\n",
       "0  (a) Universidades Estatales CRUCH  (a) Acreditada   (a) Autónoma   \n",
       "1  (a) Universidades Estatales CRUCH  (a) Acreditada   (a) Autónoma   \n",
       "2  (a) Universidades Estatales CRUCH  (a) Acreditada   (a) Autónoma   \n",
       "3  (a) Universidades Estatales CRUCH  (a) Acreditada   (a) Autónoma   \n",
       "4  (a) Universidades Estatales CRUCH  (a) Acreditada   (a) Autónoma   \n",
       "\n",
       "              Clasificación5                Clasificación6 Nombre de la Sede  \\\n",
       "0  (a) Adscritas a Gratuidad  (a) Subsistema Universitario          Santiago   \n",
       "1  (a) Adscritas a Gratuidad  (a) Subsistema Universitario          Santiago   \n",
       "2  (a) Adscritas a Gratuidad  (a) Subsistema Universitario          Santiago   \n",
       "3  (a) Adscritas a Gratuidad  (a) Subsistema Universitario          Santiago   \n",
       "4  (a) Adscritas a Gratuidad  (a) Subsistema Universitario          Santiago   \n",
       "\n",
       "  Comuna donde se imparte la carrera o programa  ... Valor de matrícula  \\\n",
       "0                                      Santiago  ...           157900.0   \n",
       "1                                      Santiago  ...           157900.0   \n",
       "2                                      Santiago  ...           157900.0   \n",
       "3                                      Santiago  ...           157900.0   \n",
       "4                                    La Pintana  ...           157900.0   \n",
       "\n",
       "   Valor de arancel  Valor del Título Tipo Moneda Vacantes  \\\n",
       "0         4329400.0           75000.0       Pesos    125.0   \n",
       "1         5465600.0           75000.0       Pesos     67.0   \n",
       "2         6094500.0           75000.0       Pesos    370.0   \n",
       "3         5465600.0           75000.0       Pesos    137.0   \n",
       "4         5059300.0           75000.0       Pesos    150.0   \n",
       "\n",
       "  Matrícula primer año hombres Matrícula primer año mujeres  \\\n",
       "0                         59.0                         77.0   \n",
       "1                         44.0                         49.0   \n",
       "2                        281.0                        228.0   \n",
       "3                         92.0                         81.0   \n",
       "4                         44.0                         34.0   \n",
       "\n",
       "  Matrícula primer año extranjeros  Matrícula Primer Año Pregrado/Posgrado  \n",
       "0                              0.0                   136          Pregrado  \n",
       "1                              0.0                    93          Pregrado  \n",
       "2                              0.0                   509          Pregrado  \n",
       "3                              0.0                   173          Pregrado  \n",
       "4                              0.0                    78          Pregrado  \n",
       "\n",
       "[5 rows x 40 columns]"
      ]
     },
     "execution_count": 292,
     "metadata": {},
     "output_type": "execute_result"
    }
   ],
   "source": [
    "df_pregrado.head()"
   ]
  },
  {
   "cell_type": "code",
   "execution_count": 309,
   "id": "b3192d6f-d6cc-4214-b74a-edeb58857960",
   "metadata": {},
   "outputs": [
    {
     "data": {
      "text/plain": [
       "Clasificación1              Nombre Region                \n",
       "(a) Universidades CRUCH     Región Metropolitana             14\n",
       "                            Región de Antofagasta             4\n",
       "                            Región de Arica y Parinacota      2\n",
       "                            Región de Atacama                 1\n",
       "                            Región de Aysén                   4\n",
       "                            Región de Coquimbo                2\n",
       "                            Región de La Araucanía            5\n",
       "                            Región de Los Lagos               3\n",
       "                            Región de Magallanes              1\n",
       "                            Región de Tarapacá                2\n",
       "                            Región de Valparaíso              5\n",
       "                            Región de los Ríos                2\n",
       "                            Región de Ñuble                   4\n",
       "                            Región del Bío-Bío                6\n",
       "                            Región del Gral. B. O`Higgins     7\n",
       "                            Región del Maule                  4\n",
       "(b) Universidades Privadas  Región Metropolitana             18\n",
       "                            Región de Antofagasta             2\n",
       "                            Región de Arica y Parinacota      1\n",
       "                            Región de Atacama                 2\n",
       "                            Región de Coquimbo                2\n",
       "                            Región de La Araucanía            3\n",
       "                            Región de Los Lagos               4\n",
       "                            Región de Tarapacá                2\n",
       "                            Región de Valparaíso              5\n",
       "                            Región de los Ríos                2\n",
       "                            Región del Bío-Bío                6\n",
       "                            Región del Gral. B. O`Higgins     1\n",
       "                            Región del Maule                  3\n",
       "Name: Nombre Institución, dtype: int64"
      ]
     },
     "execution_count": 309,
     "metadata": {},
     "output_type": "execute_result"
    }
   ],
   "source": [
    "df_pregrado.groupby(['Clasificación1','Nombre Region'])['Nombre Institución'].nunique()"
   ]
  },
  {
   "cell_type": "markdown",
   "id": "540cac1c-ea3c-461d-8194-69ad06718a33",
   "metadata": {
    "jp-MarkdownHeadingCollapsed": true,
    "tags": []
   },
   "source": [
    "### Ejemplo Educación física"
   ]
  },
  {
   "cell_type": "code",
   "execution_count": 266,
   "id": "1006600c-ead8-4a96-9762-d0f75f22a669",
   "metadata": {},
   "outputs": [],
   "source": [
    "ed_fisica=df_pregrado[df_pregrado['Carrera Genérica']=='Pedagogía en Educación Física y similares']"
   ]
  },
  {
   "cell_type": "code",
   "execution_count": 267,
   "id": "64befdbc-ae0d-465d-839a-e13087187351",
   "metadata": {},
   "outputs": [
    {
     "data": {
      "text/plain": [
       "Nombre del Campus                                     402\n",
       "Mínimo Puntaje (promedio matemáticas y lenguaje)      245\n",
       "Máximo Puntaje (promedio matemáticas y lenguaje)      233\n",
       "Promedio Puntaje (promedio matemáticas y lenguaje)    233\n",
       "Nº Alumnos Ingreso Via PSU o PDT                      223\n",
       "Valor del Título                                      182\n",
       "Vacantes                                              166\n",
       "Valor de arancel                                      146\n",
       "Valor de matrícula                                    132\n",
       "Grado Académico                                         3\n",
       "Título                                                  2\n",
       "Duración (en semestres)                                 0\n",
       "Año                                                     0\n",
       "Nombre Institución                                      0\n",
       "Tipo Moneda                                             0\n",
       "Matrícula primer año hombres                            0\n",
       "Matrícula primer año mujeres                            0\n",
       "Matrícula primer año extranjeros                        0\n",
       "Matrícula Primer Año                                    0\n",
       "Año Inicio Actividades                                  0\n",
       "IngresoDirecto                                          0\n",
       "Tipo Carrera                                            0\n",
       "Comuna donde se imparte la carrera o programa           0\n",
       "Clasificación1                                          0\n",
       "Clasificación2                                          0\n",
       "Clasificación3                                          0\n",
       "Clasificación4                                          0\n",
       "Clasificación5                                          0\n",
       "Clasificación6                                          0\n",
       "Nombre de la Sede                                       0\n",
       "Nombre Region                                           0\n",
       "idgenerocarrera                                         0\n",
       "Orden Geográfico de la Región (Norte aSur)              0\n",
       "Cód. Carrera                                            0\n",
       "Carrera Genérica                                        0\n",
       "Nombre Programa                                         0\n",
       "Horario                                                 0\n",
       "Tipo Programa                                           0\n",
       "Area Conocimiento                                       0\n",
       "Pregrado/Posgrado                                       0\n",
       "dtype: int64"
      ]
     },
     "execution_count": 267,
     "metadata": {},
     "output_type": "execute_result"
    }
   ],
   "source": [
    "ed_fisica.isnull().sum().sort_values(ascending=False)"
   ]
  },
  {
   "cell_type": "code",
   "execution_count": 268,
   "id": "6e681107-d408-4aba-b5ee-e9a2bfea325f",
   "metadata": {},
   "outputs": [],
   "source": [
    "nulos = ed_fisica.isnull().sum().sort_values()"
   ]
  },
  {
   "cell_type": "code",
   "execution_count": 269,
   "id": "b0c6f63d-90c2-44bb-948c-d6ed34d44a80",
   "metadata": {},
   "outputs": [
    {
     "data": {
      "text/plain": [
       "Título                                                 0.218818\n",
       "Grado Académico                                        0.328228\n",
       "Valor de matrícula                                    14.442013\n",
       "Valor de arancel                                      15.973742\n",
       "Vacantes                                              18.161926\n",
       "Valor del Título                                      19.912473\n",
       "Nº Alumnos Ingreso Via PSU o PDT                      24.398249\n",
       "Máximo Puntaje (promedio matemáticas y lenguaje)      25.492341\n",
       "Promedio Puntaje (promedio matemáticas y lenguaje)    25.492341\n",
       "Mínimo Puntaje (promedio matemáticas y lenguaje)      26.805252\n",
       "Nombre del Campus                                     43.982495\n",
       "dtype: float64"
      ]
     },
     "execution_count": 269,
     "metadata": {},
     "output_type": "execute_result"
    }
   ],
   "source": [
    "porcentaje_nulos = nulos[nulos > 0]/ed_fisica.shape[0]*100\n",
    "porcentaje_nulos"
   ]
  },
  {
   "cell_type": "code",
   "execution_count": 270,
   "id": "91ad50fe-7a08-4e86-b696-d94ae8592c78",
   "metadata": {},
   "outputs": [
    {
     "data": {
      "text/plain": [
       "Index(['Nombre del Campus'], dtype='object')"
      ]
     },
     "execution_count": 270,
     "metadata": {},
     "output_type": "execute_result"
    }
   ],
   "source": [
    "columnas_nulas=porcentaje_nulos[porcentaje_nulos>41]\n",
    "columnas_nulas.index"
   ]
  },
  {
   "cell_type": "code",
   "execution_count": 271,
   "id": "17edb83a-a065-40bf-bc00-9ad2b4a5a43c",
   "metadata": {},
   "outputs": [
    {
     "name": "stderr",
     "output_type": "stream",
     "text": [
      "C:\\Users\\fezun\\anaconda3\\lib\\site-packages\\pandas\\core\\frame.py:4906: SettingWithCopyWarning: \n",
      "A value is trying to be set on a copy of a slice from a DataFrame\n",
      "\n",
      "See the caveats in the documentation: https://pandas.pydata.org/pandas-docs/stable/user_guide/indexing.html#returning-a-view-versus-a-copy\n",
      "  return super().drop(\n"
     ]
    }
   ],
   "source": [
    "ed_fisica.drop(columns=columnas_nulas.index, inplace=True)"
   ]
  },
  {
   "cell_type": "code",
   "execution_count": 272,
   "id": "1d428860-c40f-4ae4-9896-f20c29e04b31",
   "metadata": {},
   "outputs": [
    {
     "data": {
      "text/plain": [
       "Index(['Año', 'Nombre Institución', 'Clasificación1', 'Clasificación2',\n",
       "       'Clasificación3', 'Clasificación4', 'Clasificación5', 'Clasificación6',\n",
       "       'Nombre de la Sede', 'Comuna donde se imparte la carrera o programa',\n",
       "       'Nombre Region', 'Orden Geográfico de la Región (Norte aSur)',\n",
       "       'Cód. Carrera', 'Carrera Genérica', 'Nombre Programa', 'Horario',\n",
       "       'Tipo Programa', 'Area Conocimiento', 'idgenerocarrera', 'Tipo Carrera',\n",
       "       'IngresoDirecto', 'Año Inicio Actividades', 'Duración (en semestres)',\n",
       "       'Título', 'Grado Académico',\n",
       "       'Máximo Puntaje (promedio matemáticas y lenguaje)',\n",
       "       'Promedio Puntaje (promedio matemáticas y lenguaje)',\n",
       "       'Mínimo Puntaje (promedio matemáticas y lenguaje)',\n",
       "       'Nº Alumnos Ingreso Via PSU o PDT', 'Valor de matrícula',\n",
       "       'Valor de arancel', 'Valor del Título', 'Tipo Moneda', 'Vacantes',\n",
       "       'Matrícula primer año hombres', 'Matrícula primer año mujeres',\n",
       "       'Matrícula primer año extranjeros', 'Matrícula Primer Año',\n",
       "       'Pregrado/Posgrado'],\n",
       "      dtype='object')"
      ]
     },
     "execution_count": 272,
     "metadata": {},
     "output_type": "execute_result"
    }
   ],
   "source": [
    "ed_fisica.columns"
   ]
  },
  {
   "cell_type": "code",
   "execution_count": 273,
   "id": "34529e98-0fbc-479b-aa6b-cac68060e6c6",
   "metadata": {},
   "outputs": [],
   "source": [
    "matricula_mujeres=ed_fisica.dropna(subset=['Matrícula primer año mujeres'])"
   ]
  },
  {
   "cell_type": "code",
   "execution_count": 274,
   "id": "8145fd86-76c0-4690-85db-dfaf92eb942d",
   "metadata": {},
   "outputs": [
    {
     "data": {
      "text/html": [
       "<div>\n",
       "<style scoped>\n",
       "    .dataframe tbody tr th:only-of-type {\n",
       "        vertical-align: middle;\n",
       "    }\n",
       "\n",
       "    .dataframe tbody tr th {\n",
       "        vertical-align: top;\n",
       "    }\n",
       "\n",
       "    .dataframe thead th {\n",
       "        text-align: right;\n",
       "    }\n",
       "</style>\n",
       "<table border=\"1\" class=\"dataframe\">\n",
       "  <thead>\n",
       "    <tr style=\"text-align: right;\">\n",
       "      <th></th>\n",
       "      <th>Año</th>\n",
       "      <th>Matrícula primer año mujeres</th>\n",
       "    </tr>\n",
       "  </thead>\n",
       "  <tbody>\n",
       "    <tr>\n",
       "      <th>0</th>\n",
       "      <td>2005</td>\n",
       "      <td>884.0</td>\n",
       "    </tr>\n",
       "    <tr>\n",
       "      <th>1</th>\n",
       "      <td>2006</td>\n",
       "      <td>1011.0</td>\n",
       "    </tr>\n",
       "  </tbody>\n",
       "</table>\n",
       "</div>"
      ],
      "text/plain": [
       "    Año  Matrícula primer año mujeres\n",
       "0  2005                         884.0\n",
       "1  2006                        1011.0"
      ]
     },
     "execution_count": 274,
     "metadata": {},
     "output_type": "execute_result"
    }
   ],
   "source": [
    "df_mujeres=matricula_mujeres.groupby('Año',as_index=False)['Matrícula primer año mujeres'].sum()\n",
    "df_mujeres.head(2)"
   ]
  },
  {
   "cell_type": "code",
   "execution_count": 275,
   "id": "d1a114c5-6858-495e-bcb8-9e842ff7da3d",
   "metadata": {},
   "outputs": [
    {
     "data": {
      "text/plain": [
       "Text(0, 0.5, 'Mujeres matriculadas')"
      ]
     },
     "execution_count": 275,
     "metadata": {},
     "output_type": "execute_result"
    },
    {
     "data": {
      "image/png": "[encoded data removed]",
      "text/plain": [
       "<Figure size 864x504 with 1 Axes>"
      ]
     },
     "metadata": {
      "needs_background": "light"
     },
     "output_type": "display_data"
    }
   ],
   "source": [
    "plt.figure(figsize = (12, 7))\n",
    "plt.bar(df_mujeres['Año'], df_mujeres['Matrícula primer año mujeres'])\n",
    "plt.xticks(range(2005, 2023))\n",
    "plt.xlabel('Año')\n",
    "plt.ylabel('Mujeres matriculadas')"
   ]
  },
  {
   "cell_type": "code",
   "execution_count": 276,
   "id": "e0a9690a-c97e-43d5-9a5f-f086fbb442ce",
   "metadata": {},
   "outputs": [
    {
     "data": {
      "text/plain": [
       "<AxesSubplot:xlabel='Año', ylabel='Matrícula primer año mujeres'>"
      ]
     },
     "execution_count": 276,
     "metadata": {},
     "output_type": "execute_result"
    },
    {
     "data": {
      "image/png": "[encoded data removed]",
      "text/plain": [
       "<Figure size 864x504 with 1 Axes>"
      ]
     },
     "metadata": {
      "needs_background": "light"
     },
     "output_type": "display_data"
    }
   ],
   "source": [
    "plt.figure(figsize = (12, 7))\n",
    "sns.boxplot(x='Año', y='Matrícula primer año mujeres', data=matricula_mujeres)"
   ]
  },
  {
   "cell_type": "code",
   "execution_count": 277,
   "id": "278d5fe0-3e31-4b19-924b-58a5b26010d1",
   "metadata": {},
   "outputs": [
    {
     "data": {
      "text/plain": [
       "Index(['Año', 'Nombre Institución', 'Clasificación1', 'Clasificación2',\n",
       "       'Clasificación3', 'Clasificación4', 'Clasificación5', 'Clasificación6',\n",
       "       'Nombre de la Sede', 'Comuna donde se imparte la carrera o programa',\n",
       "       'Nombre Region', 'Orden Geográfico de la Región (Norte aSur)',\n",
       "       'Cód. Carrera', 'Carrera Genérica', 'Nombre Programa', 'Horario',\n",
       "       'Tipo Programa', 'Area Conocimiento', 'idgenerocarrera', 'Tipo Carrera',\n",
       "       'IngresoDirecto', 'Año Inicio Actividades', 'Duración (en semestres)',\n",
       "       'Título', 'Grado Académico',\n",
       "       'Máximo Puntaje (promedio matemáticas y lenguaje)',\n",
       "       'Promedio Puntaje (promedio matemáticas y lenguaje)',\n",
       "       'Mínimo Puntaje (promedio matemáticas y lenguaje)',\n",
       "       'Nº Alumnos Ingreso Via PSU o PDT', 'Valor de matrícula',\n",
       "       'Valor de arancel', 'Valor del Título', 'Tipo Moneda', 'Vacantes',\n",
       "       'Matrícula primer año hombres', 'Matrícula primer año mujeres',\n",
       "       'Matrícula primer año extranjeros', 'Matrícula Primer Año',\n",
       "       'Pregrado/Posgrado'],\n",
       "      dtype='object')"
      ]
     },
     "execution_count": 277,
     "metadata": {},
     "output_type": "execute_result"
    }
   ],
   "source": [
    "ed_fisica.columns"
   ]
  },
  {
   "cell_type": "code",
   "execution_count": 278,
   "id": "9388191e-28eb-41e1-adf0-b2d0b3438958",
   "metadata": {},
   "outputs": [
    {
     "data": {
      "text/plain": [
       "Región Metropolitana            265\n",
       "Región del Bío-Bío              106\n",
       "Región de Valparaíso             98\n",
       "Región de La Araucanía           92\n",
       "Región de Los Lagos              75\n",
       "Región del Maule                 48\n",
       "Región de Antofagasta            43\n",
       "Región de Coquimbo               37\n",
       "Región de los Ríos               35\n",
       "Región de Arica y Parinacota     29\n",
       "Región de Atacama                25\n",
       "Región de Tarapacá               23\n",
       "Región de Magallanes             21\n",
       "Región de Ñuble                  17\n",
       "Name: Nombre Region, dtype: int64"
      ]
     },
     "execution_count": 278,
     "metadata": {},
     "output_type": "execute_result"
    }
   ],
   "source": [
    "ed_fisica['Nombre Region'].value_counts()"
   ]
  },
  {
   "cell_type": "code",
   "execution_count": 279,
   "id": "4b20d2b5-0ad4-4f73-967e-19d303d7244f",
   "metadata": {},
   "outputs": [
    {
     "data": {
      "text/html": [
       "<div>\n",
       "<style scoped>\n",
       "    .dataframe tbody tr th:only-of-type {\n",
       "        vertical-align: middle;\n",
       "    }\n",
       "\n",
       "    .dataframe tbody tr th {\n",
       "        vertical-align: top;\n",
       "    }\n",
       "\n",
       "    .dataframe thead th {\n",
       "        text-align: right;\n",
       "    }\n",
       "</style>\n",
       "<table border=\"1\" class=\"dataframe\">\n",
       "  <thead>\n",
       "    <tr style=\"text-align: right;\">\n",
       "      <th></th>\n",
       "      <th>Año</th>\n",
       "      <th>Nombre Institución</th>\n",
       "      <th>Clasificación1</th>\n",
       "      <th>Clasificación2</th>\n",
       "      <th>Clasificación3</th>\n",
       "      <th>Clasificación4</th>\n",
       "      <th>Clasificación5</th>\n",
       "      <th>Clasificación6</th>\n",
       "      <th>Nombre de la Sede</th>\n",
       "      <th>Comuna donde se imparte la carrera o programa</th>\n",
       "      <th>...</th>\n",
       "      <th>Valor de matrícula</th>\n",
       "      <th>Valor de arancel</th>\n",
       "      <th>Valor del Título</th>\n",
       "      <th>Tipo Moneda</th>\n",
       "      <th>Vacantes</th>\n",
       "      <th>Matrícula primer año hombres</th>\n",
       "      <th>Matrícula primer año mujeres</th>\n",
       "      <th>Matrícula primer año extranjeros</th>\n",
       "      <th>Matrícula Primer Año</th>\n",
       "      <th>Pregrado/Posgrado</th>\n",
       "    </tr>\n",
       "  </thead>\n",
       "  <tbody>\n",
       "    <tr>\n",
       "      <th>120</th>\n",
       "      <td>2022</td>\n",
       "      <td>PONTIFICIA U. CATÓLICA DE CHILE</td>\n",
       "      <td>(a) Universidades CRUCH</td>\n",
       "      <td>(b) Universidades Privadas CRUCH</td>\n",
       "      <td>(a) Acreditada</td>\n",
       "      <td>(a) Autónoma</td>\n",
       "      <td>(a) Adscritas a Gratuidad</td>\n",
       "      <td>(a) Subsistema Universitario</td>\n",
       "      <td>Santiago</td>\n",
       "      <td>Macul</td>\n",
       "      <td>...</td>\n",
       "      <td>147000.0</td>\n",
       "      <td>4758000.0</td>\n",
       "      <td>0.0</td>\n",
       "      <td>Pesos</td>\n",
       "      <td>60.0</td>\n",
       "      <td>47.0</td>\n",
       "      <td>34.0</td>\n",
       "      <td>0.0</td>\n",
       "      <td>81</td>\n",
       "      <td>Pregrado</td>\n",
       "    </tr>\n",
       "    <tr>\n",
       "      <th>192</th>\n",
       "      <td>2022</td>\n",
       "      <td>U. DE CONCEPCIÓN</td>\n",
       "      <td>(a) Universidades CRUCH</td>\n",
       "      <td>(b) Universidades Privadas CRUCH</td>\n",
       "      <td>(a) Acreditada</td>\n",
       "      <td>(a) Autónoma</td>\n",
       "      <td>(a) Adscritas a Gratuidad</td>\n",
       "      <td>(a) Subsistema Universitario</td>\n",
       "      <td>Concepción</td>\n",
       "      <td>Concepción</td>\n",
       "      <td>...</td>\n",
       "      <td>130000.0</td>\n",
       "      <td>3295797.0</td>\n",
       "      <td>39500.0</td>\n",
       "      <td>Pesos</td>\n",
       "      <td>70.0</td>\n",
       "      <td>44.0</td>\n",
       "      <td>12.0</td>\n",
       "      <td>0.0</td>\n",
       "      <td>56</td>\n",
       "      <td>Pregrado</td>\n",
       "    </tr>\n",
       "  </tbody>\n",
       "</table>\n",
       "<p>2 rows × 39 columns</p>\n",
       "</div>"
      ],
      "text/plain": [
       "      Año               Nombre Institución           Clasificación1  \\\n",
       "120  2022  PONTIFICIA U. CATÓLICA DE CHILE  (a) Universidades CRUCH   \n",
       "192  2022                 U. DE CONCEPCIÓN  (a) Universidades CRUCH   \n",
       "\n",
       "                       Clasificación2  Clasificación3 Clasificación4  \\\n",
       "120  (b) Universidades Privadas CRUCH  (a) Acreditada   (a) Autónoma   \n",
       "192  (b) Universidades Privadas CRUCH  (a) Acreditada   (a) Autónoma   \n",
       "\n",
       "                Clasificación5                Clasificación6  \\\n",
       "120  (a) Adscritas a Gratuidad  (a) Subsistema Universitario   \n",
       "192  (a) Adscritas a Gratuidad  (a) Subsistema Universitario   \n",
       "\n",
       "    Nombre de la Sede Comuna donde se imparte la carrera o programa  ...  \\\n",
       "120          Santiago                                         Macul  ...   \n",
       "192        Concepción                                    Concepción  ...   \n",
       "\n",
       "    Valor de matrícula  Valor de arancel  Valor del Título Tipo Moneda  \\\n",
       "120           147000.0         4758000.0               0.0       Pesos   \n",
       "192           130000.0         3295797.0           39500.0       Pesos   \n",
       "\n",
       "    Vacantes Matrícula primer año hombres Matrícula primer año mujeres  \\\n",
       "120     60.0                         47.0                         34.0   \n",
       "192     70.0                         44.0                         12.0   \n",
       "\n",
       "    Matrícula primer año extranjeros  Matrícula Primer Año Pregrado/Posgrado  \n",
       "120                              0.0                    81          Pregrado  \n",
       "192                              0.0                    56          Pregrado  \n",
       "\n",
       "[2 rows x 39 columns]"
      ]
     },
     "execution_count": 279,
     "metadata": {},
     "output_type": "execute_result"
    }
   ],
   "source": [
    "matricula_hombres=ed_fisica.dropna(subset=['Matrícula primer año hombres'])\n",
    "matricula_hombres.head(2)"
   ]
  },
  {
   "cell_type": "code",
   "execution_count": 280,
   "id": "bc935bfa-dac8-440c-9612-1b933c6367ab",
   "metadata": {},
   "outputs": [
    {
     "data": {
      "text/html": [
       "<div>\n",
       "<style scoped>\n",
       "    .dataframe tbody tr th:only-of-type {\n",
       "        vertical-align: middle;\n",
       "    }\n",
       "\n",
       "    .dataframe tbody tr th {\n",
       "        vertical-align: top;\n",
       "    }\n",
       "\n",
       "    .dataframe thead th {\n",
       "        text-align: right;\n",
       "    }\n",
       "</style>\n",
       "<table border=\"1\" class=\"dataframe\">\n",
       "  <thead>\n",
       "    <tr style=\"text-align: right;\">\n",
       "      <th></th>\n",
       "      <th>Año</th>\n",
       "      <th>Matrícula primer año hombres</th>\n",
       "    </tr>\n",
       "  </thead>\n",
       "  <tbody>\n",
       "    <tr>\n",
       "      <th>0</th>\n",
       "      <td>2005</td>\n",
       "      <td>1702.0</td>\n",
       "    </tr>\n",
       "    <tr>\n",
       "      <th>1</th>\n",
       "      <td>2006</td>\n",
       "      <td>1940.0</td>\n",
       "    </tr>\n",
       "  </tbody>\n",
       "</table>\n",
       "</div>"
      ],
      "text/plain": [
       "    Año  Matrícula primer año hombres\n",
       "0  2005                        1702.0\n",
       "1  2006                        1940.0"
      ]
     },
     "execution_count": 280,
     "metadata": {},
     "output_type": "execute_result"
    }
   ],
   "source": [
    "df_hombres=matricula_hombres.groupby('Año',as_index=False)['Matrícula primer año hombres'].sum()\n",
    "df_hombres.head(2)"
   ]
  },
  {
   "cell_type": "code",
   "execution_count": 281,
   "id": "1a7d682f-b37b-4b83-86e7-0ac29fce64af",
   "metadata": {},
   "outputs": [
    {
     "data": {
      "image/png": "[encoded data removed]",
      "text/plain": [
       "<Figure size 864x504 with 1 Axes>"
      ]
     },
     "metadata": {
      "needs_background": "light"
     },
     "output_type": "display_data"
    }
   ],
   "source": [
    "plt.figure(figsize = (12, 7))\n",
    "plt.bar(df_hombres['Año'], df_hombres['Matrícula primer año hombres'])\n",
    "plt.xlabel('Año')\n",
    "plt.ylabel('Hombres matriculados')\n",
    "plt.xticks(range(2005, 2023))\n",
    "plt.show()"
   ]
  },
  {
   "cell_type": "code",
   "execution_count": null,
   "id": "02a262cc-3a44-474e-bec9-c08d2e5bcd31",
   "metadata": {},
   "outputs": [],
   "source": []
  }
 ],
 "metadata": {
  "kernelspec": {
   "display_name": "Python 3 (ipykernel)",
   "language": "python",
   "name": "python3"
  },
  "language_info": {
   "codemirror_mode": {
    "name": "ipython",
    "version": 3
   },
   "file_extension": ".py",
   "mimetype": "text/x-python",
   "name": "python",
   "nbconvert_exporter": "python",
   "pygments_lexer": "ipython3",
   "version": "3.9.7"
  }
 },
 "nbformat": 4,
 "nbformat_minor": 5
}
