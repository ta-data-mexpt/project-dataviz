{
 "cells": [
  {
   "cell_type": "code",
   "execution_count": 282,
   "id": "ac2ec634-a350-4f22-867f-9a67e40c8bbf",
   "metadata": {},
   "outputs": [],
   "source": [
    "import pandas as pd\n",
    "import numpy as np"
   ]
  },
  {
   "cell_type": "code",
   "execution_count": 283,
   "id": "c77bf6de-29e9-4536-b386-e249bc04b5b3",
   "metadata": {},
   "outputs": [],
   "source": [
    "df_diccionario = pd.read_excel('./Diccionario base de datos Semilla.xlsx')"
   ]
  },
  {
   "cell_type": "code",
   "execution_count": 284,
   "id": "8a5a9a80-af9a-423a-a90b-a0fd5875ff62",
   "metadata": {},
   "outputs": [
    {
     "data": {
      "text/html": [
       "<div>\n",
       "<style scoped>\n",
       "    .dataframe tbody tr th:only-of-type {\n",
       "        vertical-align: middle;\n",
       "    }\n",
       "\n",
       "    .dataframe tbody tr th {\n",
       "        vertical-align: top;\n",
       "    }\n",
       "\n",
       "    .dataframe thead th {\n",
       "        text-align: right;\n",
       "    }\n",
       "</style>\n",
       "<table border=\"1\" class=\"dataframe\">\n",
       "  <thead>\n",
       "    <tr style=\"text-align: right;\">\n",
       "      <th></th>\n",
       "      <th>Area</th>\n",
       "      <th>Variable</th>\n",
       "      <th>Descripción</th>\n",
       "      <th>Tipo pregunta</th>\n",
       "    </tr>\n",
       "  </thead>\n",
       "  <tbody>\n",
       "    <tr>\n",
       "      <th>0</th>\n",
       "      <td>Información Descriptiva</td>\n",
       "      <td>Año de aprobación</td>\n",
       "      <td>Año de aprobación del proyecto (Para Capital S...</td>\n",
       "      <td>Numérico</td>\n",
       "    </tr>\n",
       "    <tr>\n",
       "      <th>1</th>\n",
       "      <td>Información Descriptiva</td>\n",
       "      <td>Programa</td>\n",
       "      <td>Nombre del Instrumento o Fondo de CORFO que fi...</td>\n",
       "      <td>Selección única</td>\n",
       "    </tr>\n",
       "    <tr>\n",
       "      <th>2</th>\n",
       "      <td>Información Descriptiva</td>\n",
       "      <td>Sector económico</td>\n",
       "      <td>Sector económico del proyecto, proveniente de ...</td>\n",
       "      <td>Selección única</td>\n",
       "    </tr>\n",
       "    <tr>\n",
       "      <th>3</th>\n",
       "      <td>Información Descriptiva</td>\n",
       "      <td>Tipo de persona beneficiada</td>\n",
       "      <td>Tipo de postulante</td>\n",
       "      <td>Selección única</td>\n",
       "    </tr>\n",
       "    <tr>\n",
       "      <th>4</th>\n",
       "      <td>Información Descriptiva</td>\n",
       "      <td>País procedencia emprendimiento</td>\n",
       "      <td>País de procedencia del emprendimiento</td>\n",
       "      <td>Selección única</td>\n",
       "    </tr>\n",
       "    <tr>\n",
       "      <th>...</th>\n",
       "      <td>...</td>\n",
       "      <td>...</td>\n",
       "      <td>...</td>\n",
       "      <td>...</td>\n",
       "    </tr>\n",
       "    <tr>\n",
       "      <th>135</th>\n",
       "      <td>Información del seguimiento del proyecto</td>\n",
       "      <td>Dimensiones impacto social emprendimiento 2020</td>\n",
       "      <td>Dimensiones impacto social emprendimiento año ...</td>\n",
       "      <td>Texto</td>\n",
       "    </tr>\n",
       "    <tr>\n",
       "      <th>136</th>\n",
       "      <td>Información del seguimiento del proyecto</td>\n",
       "      <td>Sobrevivencia 2017</td>\n",
       "      <td>El emprendimiento ha sobrevivido hasta el año ...</td>\n",
       "      <td>Selección única</td>\n",
       "    </tr>\n",
       "    <tr>\n",
       "      <th>137</th>\n",
       "      <td>Información del seguimiento del proyecto</td>\n",
       "      <td>Sobrevivencia 2018</td>\n",
       "      <td>El emprendimiento ha sobrevivido hasta el año ...</td>\n",
       "      <td>Selección única</td>\n",
       "    </tr>\n",
       "    <tr>\n",
       "      <th>138</th>\n",
       "      <td>Información del seguimiento del proyecto</td>\n",
       "      <td>Sobrevivencia 2019</td>\n",
       "      <td>El emprendimiento ha sobrevivido hasta el año ...</td>\n",
       "      <td>Selección única</td>\n",
       "    </tr>\n",
       "    <tr>\n",
       "      <th>139</th>\n",
       "      <td>Información del seguimiento del proyecto</td>\n",
       "      <td>Sobrevivencia 2020</td>\n",
       "      <td>El emprendimiento ha sobrevivido hasta el año ...</td>\n",
       "      <td>Selección única</td>\n",
       "    </tr>\n",
       "  </tbody>\n",
       "</table>\n",
       "<p>140 rows × 4 columns</p>\n",
       "</div>"
      ],
      "text/plain": [
       "                                         Area  \\\n",
       "0                     Información Descriptiva   \n",
       "1                     Información Descriptiva   \n",
       "2                     Información Descriptiva   \n",
       "3                     Información Descriptiva   \n",
       "4                     Información Descriptiva   \n",
       "..                                        ...   \n",
       "135  Información del seguimiento del proyecto   \n",
       "136  Información del seguimiento del proyecto   \n",
       "137  Información del seguimiento del proyecto   \n",
       "138  Información del seguimiento del proyecto   \n",
       "139  Información del seguimiento del proyecto   \n",
       "\n",
       "                                           Variable  \\\n",
       "0                                 Año de aprobación   \n",
       "1                                          Programa   \n",
       "2                                  Sector económico   \n",
       "3                       Tipo de persona beneficiada   \n",
       "4                   País procedencia emprendimiento   \n",
       "..                                              ...   \n",
       "135  Dimensiones impacto social emprendimiento 2020   \n",
       "136                              Sobrevivencia 2017   \n",
       "137                              Sobrevivencia 2018   \n",
       "138                              Sobrevivencia 2019   \n",
       "139                              Sobrevivencia 2020   \n",
       "\n",
       "                                           Descripción    Tipo pregunta  \n",
       "0    Año de aprobación del proyecto (Para Capital S...         Numérico  \n",
       "1    Nombre del Instrumento o Fondo de CORFO que fi...  Selección única  \n",
       "2    Sector económico del proyecto, proveniente de ...  Selección única  \n",
       "3                                   Tipo de postulante  Selección única  \n",
       "4               País de procedencia del emprendimiento  Selección única  \n",
       "..                                                 ...              ...  \n",
       "135  Dimensiones impacto social emprendimiento año ...            Texto  \n",
       "136  El emprendimiento ha sobrevivido hasta el año ...  Selección única  \n",
       "137  El emprendimiento ha sobrevivido hasta el año ...  Selección única  \n",
       "138  El emprendimiento ha sobrevivido hasta el año ...  Selección única  \n",
       "139  El emprendimiento ha sobrevivido hasta el año ...  Selección única  \n",
       "\n",
       "[140 rows x 4 columns]"
      ]
     },
     "execution_count": 284,
     "metadata": {},
     "output_type": "execute_result"
    }
   ],
   "source": [
    "df_diccionario"
   ]
  },
  {
   "cell_type": "code",
   "execution_count": 285,
   "id": "26050b1c-cb9a-4e57-8079-ed97b9b2ed92",
   "metadata": {},
   "outputs": [
    {
     "data": {
      "text/plain": [
       "array(['Año de aprobación', 'Programa', 'Sector económico',\n",
       "       'Tipo de persona beneficiada', 'País procedencia emprendimiento',\n",
       "       'Region procedencia emprendimiento', 'Región',\n",
       "       'Monto financiamiento aprobado', 'Número de integrantes',\n",
       "       'Género del integrante 1 del equipo',\n",
       "       'Nacionalidad integrante 1 del equipo', 'Rol integrante 1',\n",
       "       'Área educación superior integrante 1',\n",
       "       'Experiencia laboral integrante 1',\n",
       "       'Emprendimientos previos del integrante 1',\n",
       "       'Género del integrante 2 del equipo',\n",
       "       'Nacionalidad integrante 2 del equipo', 'Rol integrante 2',\n",
       "       'Área educación superior integrante 2',\n",
       "       'Experiencia laboral integrante 2',\n",
       "       'Emprendimientos previos del integrante 2',\n",
       "       'Género del integrante 3 del equipo',\n",
       "       'Nacionalidad integrante 3 del equipo', 'Rol integrante 3',\n",
       "       'Área educación superior integrante 3',\n",
       "       'Experiencia laboral integrante 3',\n",
       "       'Emprendimientos previos del integrante 3', 'Género del equipo',\n",
       "       'Incorporado', 'Alcance del proyecto', 'País inicial de ejecución',\n",
       "       'Tipo de producto', 'Grado de innovación',\n",
       "       'Componente innovación del producto o servicio',\n",
       "       'Tipo de clientes',\n",
       "       'Canal adquisición nuevos clientes y/o usuarios',\n",
       "       'Canal adquisición ... - A través de entidades que reúnen a clientes potenciales',\n",
       "       'Canal adquisición ... - Eventos y/o participación en ferias',\n",
       "       'Canal adquisición ... - Marketing de contenidos',\n",
       "       'Canal adquisición ... - Publicidad online pagada',\n",
       "       'Canal adquisición ... - Publicidad offline pagada',\n",
       "       'Canal adquisición ... - Redes sociales',\n",
       "       'Canal adquisición ... - Estrategia de prensa',\n",
       "       'Canal adquisición ... - Otros', 'Canales de venta existentes',\n",
       "       'Canales de venta ... - Venta directa (Vendedores)',\n",
       "       'Canales de venta ... - Venta por internet',\n",
       "       'Canales de venta ... - Distribuidores',\n",
       "       'Canales de venta ... - Canales de empresa madre (Filial)',\n",
       "       'Canales de venta ... - Representante de ventas',\n",
       "       'Canales de venta ... - Oficinas comerciales propias',\n",
       "       'Canales de venta ... - Otro', 'Mentor o consultor',\n",
       "       'Protección del producto o servicio a través de la obtención de patentes',\n",
       "       'Etapa de desarrollo del proyecto',\n",
       "       'Emprendimiento operativo 2015', 'Emprendimiento operativo 2016',\n",
       "       'Año cese de actividades 2016', 'Emprendimiento operativo 2017',\n",
       "       'Año cese de actividades 2017',\n",
       "       'Razón del cese de operaciones 2017',\n",
       "       'Razón el emprendimiento cerró 2017',\n",
       "       'Emprendimiento operativo 2018', 'Año cese de actividades 2018',\n",
       "       'Razón del cese de operaciones 2018',\n",
       "       'Razón el emprendimiento cerró 2018',\n",
       "       'Emprendimiento operativo 2019', 'Año cese de actividades 2019',\n",
       "       'Razón del cese de operaciones 2019',\n",
       "       'Razón el emprendimiento cerró 2019',\n",
       "       'Emprendimiento operativo 2020', 'Año cese de actividades 2020',\n",
       "       'Razón del cese de operaciones 2020',\n",
       "       'Razón el emprendimiento cerró 2020',\n",
       "       'Impacto COVID-19 en que el emprendimiento no esté operativo 2020',\n",
       "       'Impacto Estallido Social en que el emprendimiento no esté operativo 2020',\n",
       "       'Impacto COVID-19 en las ventas del emprendimiento 2020',\n",
       "       'El emprendimiento fue vendido o fusionado 2017',\n",
       "       'Año en que fue vendido o fusionado el emprendimiento 2017',\n",
       "       'El emprendimiento fue vendido o fusionado 2018',\n",
       "       'Año en que fue vendido o fusionado el emprendimiento 2018',\n",
       "       'El emprendimiento fue vendido o fusionado 2019',\n",
       "       'Año en que fue vendido o fusionado el emprendimiento 2019',\n",
       "       'El emprendimiento fue vendido o fusionado 2020',\n",
       "       'Año en que fue vendido o fusionado el emprendimiento 2020',\n",
       "       'Ventas nacionales por tramos 2015',\n",
       "       'Ventas nacionales por tramos 2016',\n",
       "       'Ventas nacionales por tramos 2017',\n",
       "       'Ventas nacionales por tramos 2018',\n",
       "       'Ventas nacionales por tramos 2019',\n",
       "       'Ventas nacionales acumuladas por tramos hasta 2015',\n",
       "       'Ventas nacionales acumuladas por tramos hasta 2016',\n",
       "       'Ventas nacionales acumuladas por tramos hasta 2017',\n",
       "       'Ventas nacionales acumuladas por tramos hasta 2018',\n",
       "       'Ventas nacionales acumuladas por tramos hasta 2019',\n",
       "       'Ventas extranjero por tramos 2015',\n",
       "       'Ventas extranjero por tramos 2016',\n",
       "       'Ventas extranjero por tramos 2017',\n",
       "       'Ventas extranjero por tramos 2018',\n",
       "       'Ventas extranjero por tramos 2019',\n",
       "       'Ventas extranjero acumuladas por tramos hasta 2015',\n",
       "       'Ventas extranjero acumuladas por tramos hasta 2016',\n",
       "       'Ventas extranjero acumuladas por tramos hasta 2017',\n",
       "       'Ventas extranjero acumuladas por tramos hasta 2018',\n",
       "       'Ventas extranjero acumuladas por tramos hasta 2019',\n",
       "       'Capital privado nacional consolidado por tramos hasta 2019',\n",
       "       'Capital privado extranjero consolidado por tramos hasta 2019',\n",
       "       'Empleados por tramos 2015', 'Empleados por tramos 2016',\n",
       "       'Empleados por tramos 2017', 'Empleados por tramos 2018',\n",
       "       'Empleados por tramos 2019', 'Empleados por tramos 2020',\n",
       "       'Empleados part time por tramos 2016',\n",
       "       'Empleados part time por tramos 2017',\n",
       "       'Empleados part time por tramos 2018',\n",
       "       'Empleados part time por tramos 2019',\n",
       "       'Empleados part time por tramos 2020',\n",
       "       'Continentes donde vende 2017', 'Continentes donde vende 2018',\n",
       "       'Continentes donde vende 2019', 'Continentes donde vende 2020',\n",
       "       'Países donde venden 2017', 'Número de países donde vende 2017',\n",
       "       'Países donde venden 2018', 'Número de países donde vende 2018',\n",
       "       'Países donde venden 2019', 'Número de países donde vende 2019',\n",
       "       'Países donde venden 2020', 'Número de países donde vende 2020',\n",
       "       'Impacto social emprendimiento 2018',\n",
       "       'Dimensiones impacto social emprendimiento 2018',\n",
       "       'Impacto social emprendimiento 2019',\n",
       "       'Dimensiones impacto social emprendimiento 2019',\n",
       "       'Impacto social emprendimiento 2020',\n",
       "       'Dimensiones impacto social emprendimiento 2020',\n",
       "       'Sobrevivencia 2017', 'Sobrevivencia 2018', 'Sobrevivencia 2019',\n",
       "       'Sobrevivencia 2020'], dtype=object)"
      ]
     },
     "execution_count": 285,
     "metadata": {},
     "output_type": "execute_result"
    }
   ],
   "source": [
    "df_diccionario.Variable.unique()"
   ]
  },
  {
   "cell_type": "code",
   "execution_count": 286,
   "id": "c26a2957-9d92-4e45-a66f-dcb0367ec46c",
   "metadata": {},
   "outputs": [],
   "source": [
    "df = pd.read_excel('./Base de datos Semilla.xlsx')"
   ]
  },
  {
   "cell_type": "code",
   "execution_count": 287,
   "id": "2ca53f80-dbf9-4312-867e-58b7e494ab76",
   "metadata": {},
   "outputs": [
    {
     "data": {
      "text/html": [
       "<div>\n",
       "<style scoped>\n",
       "    .dataframe tbody tr th:only-of-type {\n",
       "        vertical-align: middle;\n",
       "    }\n",
       "\n",
       "    .dataframe tbody tr th {\n",
       "        vertical-align: top;\n",
       "    }\n",
       "\n",
       "    .dataframe thead th {\n",
       "        text-align: right;\n",
       "    }\n",
       "</style>\n",
       "<table border=\"1\" class=\"dataframe\">\n",
       "  <thead>\n",
       "    <tr style=\"text-align: right;\">\n",
       "      <th></th>\n",
       "      <th>Año de aprobación</th>\n",
       "      <th>Programa</th>\n",
       "      <th>Sector económico</th>\n",
       "      <th>Tipo de persona beneficiada</th>\n",
       "      <th>País procedencia emprendimiento</th>\n",
       "      <th>Region procedencia emprendimiento</th>\n",
       "      <th>Región</th>\n",
       "      <th>Monto financiamiento aprobado</th>\n",
       "      <th>Número de integrantes</th>\n",
       "      <th>Género del integrante 1 del equipo</th>\n",
       "      <th>...</th>\n",
       "      <th>Impacto social emprendimiento 2018</th>\n",
       "      <th>Dimensiones impacto social emprendimiento 2018</th>\n",
       "      <th>Impacto social emprendimiento 2019</th>\n",
       "      <th>Dimensiones impacto social emprendimiento 2019</th>\n",
       "      <th>Impacto social emprendimiento 2020</th>\n",
       "      <th>Dimensiones impacto social emprendimiento 2020</th>\n",
       "      <th>Sobrevivencia 2017</th>\n",
       "      <th>Sobrevivencia 2018</th>\n",
       "      <th>Sobrevivencia 2019</th>\n",
       "      <th>Sobrevivencia 2020</th>\n",
       "    </tr>\n",
       "  </thead>\n",
       "  <tbody>\n",
       "    <tr>\n",
       "      <th>0</th>\n",
       "      <td>2001</td>\n",
       "      <td>Capital Semilla</td>\n",
       "      <td>No definido</td>\n",
       "      <td>Persona jurídica</td>\n",
       "      <td>Chile</td>\n",
       "      <td>Región Metropolitana</td>\n",
       "      <td>Región Metropolitana</td>\n",
       "      <td>35000000.0</td>\n",
       "      <td>1.0</td>\n",
       "      <td>Hombre</td>\n",
       "      <td>...</td>\n",
       "      <td>NaN</td>\n",
       "      <td>NaN</td>\n",
       "      <td>NaN</td>\n",
       "      <td>NaN</td>\n",
       "      <td>NaN</td>\n",
       "      <td>NaN</td>\n",
       "      <td>No</td>\n",
       "      <td>No</td>\n",
       "      <td>No</td>\n",
       "      <td>No</td>\n",
       "    </tr>\n",
       "    <tr>\n",
       "      <th>1</th>\n",
       "      <td>2001</td>\n",
       "      <td>Capital Semilla</td>\n",
       "      <td>No definido</td>\n",
       "      <td>Persona jurídica</td>\n",
       "      <td>Chile</td>\n",
       "      <td>Región Metropolitana</td>\n",
       "      <td>Región Metropolitana</td>\n",
       "      <td>33000000.0</td>\n",
       "      <td>1.0</td>\n",
       "      <td>Hombre</td>\n",
       "      <td>...</td>\n",
       "      <td>NaN</td>\n",
       "      <td>NaN</td>\n",
       "      <td>NaN</td>\n",
       "      <td>NaN</td>\n",
       "      <td>NaN</td>\n",
       "      <td>NaN</td>\n",
       "      <td>Si</td>\n",
       "      <td>Si</td>\n",
       "      <td>Si</td>\n",
       "      <td>Si</td>\n",
       "    </tr>\n",
       "    <tr>\n",
       "      <th>2</th>\n",
       "      <td>2001</td>\n",
       "      <td>Capital Semilla</td>\n",
       "      <td>No definido</td>\n",
       "      <td>Persona jurídica</td>\n",
       "      <td>Chile</td>\n",
       "      <td>Región Metropolitana</td>\n",
       "      <td>Región Metropolitana</td>\n",
       "      <td>35000000.0</td>\n",
       "      <td>1.0</td>\n",
       "      <td>Hombre</td>\n",
       "      <td>...</td>\n",
       "      <td>NaN</td>\n",
       "      <td>NaN</td>\n",
       "      <td>NaN</td>\n",
       "      <td>NaN</td>\n",
       "      <td>NaN</td>\n",
       "      <td>NaN</td>\n",
       "      <td>No</td>\n",
       "      <td>No</td>\n",
       "      <td>No</td>\n",
       "      <td>No</td>\n",
       "    </tr>\n",
       "    <tr>\n",
       "      <th>3</th>\n",
       "      <td>2001</td>\n",
       "      <td>Capital Semilla</td>\n",
       "      <td>No definido</td>\n",
       "      <td>Persona jurídica</td>\n",
       "      <td>Chile</td>\n",
       "      <td>Región Metropolitana</td>\n",
       "      <td>Región Metropolitana</td>\n",
       "      <td>35000000.0</td>\n",
       "      <td>1.0</td>\n",
       "      <td>Hombre</td>\n",
       "      <td>...</td>\n",
       "      <td>NaN</td>\n",
       "      <td>NaN</td>\n",
       "      <td>NaN</td>\n",
       "      <td>NaN</td>\n",
       "      <td>NaN</td>\n",
       "      <td>NaN</td>\n",
       "      <td>No</td>\n",
       "      <td>No</td>\n",
       "      <td>No</td>\n",
       "      <td>No</td>\n",
       "    </tr>\n",
       "    <tr>\n",
       "      <th>4</th>\n",
       "      <td>2001</td>\n",
       "      <td>Capital Semilla</td>\n",
       "      <td>No definido</td>\n",
       "      <td>Persona jurídica</td>\n",
       "      <td>Chile</td>\n",
       "      <td>Región Metropolitana</td>\n",
       "      <td>Región Metropolitana</td>\n",
       "      <td>8500000.0</td>\n",
       "      <td>1.0</td>\n",
       "      <td>Hombre</td>\n",
       "      <td>...</td>\n",
       "      <td>NaN</td>\n",
       "      <td>NaN</td>\n",
       "      <td>NaN</td>\n",
       "      <td>NaN</td>\n",
       "      <td>NaN</td>\n",
       "      <td>NaN</td>\n",
       "      <td>No</td>\n",
       "      <td>No</td>\n",
       "      <td>No</td>\n",
       "      <td>No</td>\n",
       "    </tr>\n",
       "    <tr>\n",
       "      <th>...</th>\n",
       "      <td>...</td>\n",
       "      <td>...</td>\n",
       "      <td>...</td>\n",
       "      <td>...</td>\n",
       "      <td>...</td>\n",
       "      <td>...</td>\n",
       "      <td>...</td>\n",
       "      <td>...</td>\n",
       "      <td>...</td>\n",
       "      <td>...</td>\n",
       "      <td>...</td>\n",
       "      <td>...</td>\n",
       "      <td>...</td>\n",
       "      <td>...</td>\n",
       "      <td>...</td>\n",
       "      <td>...</td>\n",
       "      <td>...</td>\n",
       "      <td>...</td>\n",
       "      <td>...</td>\n",
       "      <td>...</td>\n",
       "      <td>...</td>\n",
       "    </tr>\n",
       "    <tr>\n",
       "      <th>7241</th>\n",
       "      <td>2020</td>\n",
       "      <td>Escalamiento en la Producción de Ventiladores ...</td>\n",
       "      <td>Biomedicina y biotecnología</td>\n",
       "      <td>Persona jurídica</td>\n",
       "      <td>Chile</td>\n",
       "      <td>Región Metropolitana</td>\n",
       "      <td>Región Metropolitana</td>\n",
       "      <td>7000000.0</td>\n",
       "      <td>6.0</td>\n",
       "      <td>Hombre</td>\n",
       "      <td>...</td>\n",
       "      <td>NaN</td>\n",
       "      <td>NaN</td>\n",
       "      <td>NaN</td>\n",
       "      <td>NaN</td>\n",
       "      <td>NaN</td>\n",
       "      <td>NaN</td>\n",
       "      <td>NaN</td>\n",
       "      <td>NaN</td>\n",
       "      <td>NaN</td>\n",
       "      <td>Si</td>\n",
       "    </tr>\n",
       "    <tr>\n",
       "      <th>7242</th>\n",
       "      <td>2020</td>\n",
       "      <td>Escalamiento en la Producción de Ventiladores ...</td>\n",
       "      <td>Biomedicina y biotecnología</td>\n",
       "      <td>Persona jurídica</td>\n",
       "      <td>Chile</td>\n",
       "      <td>Región Metropolitana</td>\n",
       "      <td>Región Metropolitana</td>\n",
       "      <td>107000000.0</td>\n",
       "      <td>4.0</td>\n",
       "      <td>Hombre</td>\n",
       "      <td>...</td>\n",
       "      <td>NaN</td>\n",
       "      <td>NaN</td>\n",
       "      <td>NaN</td>\n",
       "      <td>NaN</td>\n",
       "      <td>NaN</td>\n",
       "      <td>NaN</td>\n",
       "      <td>NaN</td>\n",
       "      <td>NaN</td>\n",
       "      <td>NaN</td>\n",
       "      <td>Si</td>\n",
       "    </tr>\n",
       "    <tr>\n",
       "      <th>7243</th>\n",
       "      <td>2020</td>\n",
       "      <td>Escalamiento en la Producción de Ventiladores ...</td>\n",
       "      <td>Biomedicina y biotecnología</td>\n",
       "      <td>Persona jurídica</td>\n",
       "      <td>Chile</td>\n",
       "      <td>Región Metropolitana</td>\n",
       "      <td>Región Metropolitana</td>\n",
       "      <td>257000000.0</td>\n",
       "      <td>NaN</td>\n",
       "      <td>Hombre</td>\n",
       "      <td>...</td>\n",
       "      <td>NaN</td>\n",
       "      <td>NaN</td>\n",
       "      <td>NaN</td>\n",
       "      <td>NaN</td>\n",
       "      <td>NaN</td>\n",
       "      <td>NaN</td>\n",
       "      <td>NaN</td>\n",
       "      <td>NaN</td>\n",
       "      <td>NaN</td>\n",
       "      <td>Si</td>\n",
       "    </tr>\n",
       "    <tr>\n",
       "      <th>7244</th>\n",
       "      <td>2020</td>\n",
       "      <td>Escalamiento en la Producción de Ventiladores ...</td>\n",
       "      <td>Biomedicina y biotecnología</td>\n",
       "      <td>Persona jurídica</td>\n",
       "      <td>Chile</td>\n",
       "      <td>Región Metropolitana</td>\n",
       "      <td>Región Metropolitana</td>\n",
       "      <td>7000000.0</td>\n",
       "      <td>9.0</td>\n",
       "      <td>Hombre</td>\n",
       "      <td>...</td>\n",
       "      <td>NaN</td>\n",
       "      <td>NaN</td>\n",
       "      <td>NaN</td>\n",
       "      <td>NaN</td>\n",
       "      <td>NaN</td>\n",
       "      <td>NaN</td>\n",
       "      <td>NaN</td>\n",
       "      <td>NaN</td>\n",
       "      <td>NaN</td>\n",
       "      <td>Si</td>\n",
       "    </tr>\n",
       "    <tr>\n",
       "      <th>7245</th>\n",
       "      <td>2020</td>\n",
       "      <td>Escalamiento en la Producción de Ventiladores ...</td>\n",
       "      <td>Biomedicina y biotecnología</td>\n",
       "      <td>Persona jurídica</td>\n",
       "      <td>Chile</td>\n",
       "      <td>Región del Biobío</td>\n",
       "      <td>Región del Biobío</td>\n",
       "      <td>57000000.0</td>\n",
       "      <td>3.0</td>\n",
       "      <td>Hombre</td>\n",
       "      <td>...</td>\n",
       "      <td>NaN</td>\n",
       "      <td>NaN</td>\n",
       "      <td>NaN</td>\n",
       "      <td>NaN</td>\n",
       "      <td>NaN</td>\n",
       "      <td>NaN</td>\n",
       "      <td>NaN</td>\n",
       "      <td>NaN</td>\n",
       "      <td>NaN</td>\n",
       "      <td>Si</td>\n",
       "    </tr>\n",
       "  </tbody>\n",
       "</table>\n",
       "<p>7246 rows × 140 columns</p>\n",
       "</div>"
      ],
      "text/plain": [
       "      Año de aprobación                                           Programa  \\\n",
       "0                  2001                                    Capital Semilla   \n",
       "1                  2001                                    Capital Semilla   \n",
       "2                  2001                                    Capital Semilla   \n",
       "3                  2001                                    Capital Semilla   \n",
       "4                  2001                                    Capital Semilla   \n",
       "...                 ...                                                ...   \n",
       "7241               2020  Escalamiento en la Producción de Ventiladores ...   \n",
       "7242               2020  Escalamiento en la Producción de Ventiladores ...   \n",
       "7243               2020  Escalamiento en la Producción de Ventiladores ...   \n",
       "7244               2020  Escalamiento en la Producción de Ventiladores ...   \n",
       "7245               2020  Escalamiento en la Producción de Ventiladores ...   \n",
       "\n",
       "                 Sector económico Tipo de persona beneficiada  \\\n",
       "0                     No definido            Persona jurídica   \n",
       "1                     No definido            Persona jurídica   \n",
       "2                     No definido            Persona jurídica   \n",
       "3                     No definido            Persona jurídica   \n",
       "4                     No definido            Persona jurídica   \n",
       "...                           ...                         ...   \n",
       "7241  Biomedicina y biotecnología            Persona jurídica   \n",
       "7242  Biomedicina y biotecnología            Persona jurídica   \n",
       "7243  Biomedicina y biotecnología            Persona jurídica   \n",
       "7244  Biomedicina y biotecnología            Persona jurídica   \n",
       "7245  Biomedicina y biotecnología            Persona jurídica   \n",
       "\n",
       "     País procedencia emprendimiento Region procedencia emprendimiento  \\\n",
       "0                              Chile              Región Metropolitana   \n",
       "1                              Chile              Región Metropolitana   \n",
       "2                              Chile              Región Metropolitana   \n",
       "3                              Chile              Región Metropolitana   \n",
       "4                              Chile              Región Metropolitana   \n",
       "...                              ...                               ...   \n",
       "7241                           Chile              Región Metropolitana   \n",
       "7242                           Chile              Región Metropolitana   \n",
       "7243                           Chile              Región Metropolitana   \n",
       "7244                           Chile              Región Metropolitana   \n",
       "7245                           Chile                 Región del Biobío   \n",
       "\n",
       "                    Región  Monto financiamiento aprobado  \\\n",
       "0     Región Metropolitana                     35000000.0   \n",
       "1     Región Metropolitana                     33000000.0   \n",
       "2     Región Metropolitana                     35000000.0   \n",
       "3     Región Metropolitana                     35000000.0   \n",
       "4     Región Metropolitana                      8500000.0   \n",
       "...                    ...                            ...   \n",
       "7241  Región Metropolitana                      7000000.0   \n",
       "7242  Región Metropolitana                    107000000.0   \n",
       "7243  Región Metropolitana                    257000000.0   \n",
       "7244  Región Metropolitana                      7000000.0   \n",
       "7245     Región del Biobío                     57000000.0   \n",
       "\n",
       "      Número de integrantes Género del integrante 1 del equipo  ...  \\\n",
       "0                       1.0                             Hombre  ...   \n",
       "1                       1.0                             Hombre  ...   \n",
       "2                       1.0                             Hombre  ...   \n",
       "3                       1.0                             Hombre  ...   \n",
       "4                       1.0                             Hombre  ...   \n",
       "...                     ...                                ...  ...   \n",
       "7241                    6.0                             Hombre  ...   \n",
       "7242                    4.0                             Hombre  ...   \n",
       "7243                    NaN                             Hombre  ...   \n",
       "7244                    9.0                             Hombre  ...   \n",
       "7245                    3.0                             Hombre  ...   \n",
       "\n",
       "     Impacto social emprendimiento 2018  \\\n",
       "0                                   NaN   \n",
       "1                                   NaN   \n",
       "2                                   NaN   \n",
       "3                                   NaN   \n",
       "4                                   NaN   \n",
       "...                                 ...   \n",
       "7241                                NaN   \n",
       "7242                                NaN   \n",
       "7243                                NaN   \n",
       "7244                                NaN   \n",
       "7245                                NaN   \n",
       "\n",
       "     Dimensiones impacto social emprendimiento 2018  \\\n",
       "0                                               NaN   \n",
       "1                                               NaN   \n",
       "2                                               NaN   \n",
       "3                                               NaN   \n",
       "4                                               NaN   \n",
       "...                                             ...   \n",
       "7241                                            NaN   \n",
       "7242                                            NaN   \n",
       "7243                                            NaN   \n",
       "7244                                            NaN   \n",
       "7245                                            NaN   \n",
       "\n",
       "     Impacto social emprendimiento 2019  \\\n",
       "0                                   NaN   \n",
       "1                                   NaN   \n",
       "2                                   NaN   \n",
       "3                                   NaN   \n",
       "4                                   NaN   \n",
       "...                                 ...   \n",
       "7241                                NaN   \n",
       "7242                                NaN   \n",
       "7243                                NaN   \n",
       "7244                                NaN   \n",
       "7245                                NaN   \n",
       "\n",
       "      Dimensiones impacto social emprendimiento 2019  \\\n",
       "0                                                NaN   \n",
       "1                                                NaN   \n",
       "2                                                NaN   \n",
       "3                                                NaN   \n",
       "4                                                NaN   \n",
       "...                                              ...   \n",
       "7241                                             NaN   \n",
       "7242                                             NaN   \n",
       "7243                                             NaN   \n",
       "7244                                             NaN   \n",
       "7245                                             NaN   \n",
       "\n",
       "      Impacto social emprendimiento 2020  \\\n",
       "0                                    NaN   \n",
       "1                                    NaN   \n",
       "2                                    NaN   \n",
       "3                                    NaN   \n",
       "4                                    NaN   \n",
       "...                                  ...   \n",
       "7241                                 NaN   \n",
       "7242                                 NaN   \n",
       "7243                                 NaN   \n",
       "7244                                 NaN   \n",
       "7245                                 NaN   \n",
       "\n",
       "     Dimensiones impacto social emprendimiento 2020 Sobrevivencia 2017  \\\n",
       "0                                               NaN                 No   \n",
       "1                                               NaN                 Si   \n",
       "2                                               NaN                 No   \n",
       "3                                               NaN                 No   \n",
       "4                                               NaN                 No   \n",
       "...                                             ...                ...   \n",
       "7241                                            NaN                NaN   \n",
       "7242                                            NaN                NaN   \n",
       "7243                                            NaN                NaN   \n",
       "7244                                            NaN                NaN   \n",
       "7245                                            NaN                NaN   \n",
       "\n",
       "     Sobrevivencia 2018 Sobrevivencia 2019  Sobrevivencia 2020  \n",
       "0                    No                 No                  No  \n",
       "1                    Si                 Si                  Si  \n",
       "2                    No                 No                  No  \n",
       "3                    No                 No                  No  \n",
       "4                    No                 No                  No  \n",
       "...                 ...                ...                 ...  \n",
       "7241                NaN                NaN                  Si  \n",
       "7242                NaN                NaN                  Si  \n",
       "7243                NaN                NaN                  Si  \n",
       "7244                NaN                NaN                  Si  \n",
       "7245                NaN                NaN                  Si  \n",
       "\n",
       "[7246 rows x 140 columns]"
      ]
     },
     "execution_count": 287,
     "metadata": {},
     "output_type": "execute_result"
    }
   ],
   "source": [
    "df"
   ]
  },
  {
   "cell_type": "code",
   "execution_count": 288,
   "id": "05ce9a8c-5b90-49eb-8060-65f65b4e3c30",
   "metadata": {},
   "outputs": [
    {
     "data": {
      "text/plain": [
       "Año de aprobación                                  int64\n",
       "Programa                                          object\n",
       "Sector económico                                  object\n",
       "Tipo de persona beneficiada                       object\n",
       "País procedencia emprendimiento                   object\n",
       "                                                   ...  \n",
       "Dimensiones impacto social emprendimiento 2020    object\n",
       "Sobrevivencia 2017                                object\n",
       "Sobrevivencia 2018                                object\n",
       "Sobrevivencia 2019                                object\n",
       "Sobrevivencia 2020                                object\n",
       "Length: 140, dtype: object"
      ]
     },
     "execution_count": 288,
     "metadata": {},
     "output_type": "execute_result"
    }
   ],
   "source": [
    "df.dtypes"
   ]
  },
  {
   "cell_type": "code",
   "execution_count": 289,
   "id": "ced408b3-6245-4b0a-bb23-ca434482cbbd",
   "metadata": {},
   "outputs": [
    {
     "data": {
      "text/plain": [
       "Index(['Año de aprobación', 'Programa', 'Sector económico',\n",
       "       'Tipo de persona beneficiada', 'País procedencia emprendimiento',\n",
       "       'Region procedencia emprendimiento', 'Región',\n",
       "       'Monto financiamiento aprobado', 'Número de integrantes',\n",
       "       'Género del integrante 1 del equipo',\n",
       "       ...\n",
       "       'Impacto social emprendimiento 2018',\n",
       "       'Dimensiones impacto social emprendimiento 2018',\n",
       "       'Impacto social emprendimiento 2019',\n",
       "       'Dimensiones impacto social emprendimiento 2019',\n",
       "       'Impacto social emprendimiento 2020',\n",
       "       'Dimensiones impacto social emprendimiento 2020', 'Sobrevivencia 2017',\n",
       "       'Sobrevivencia 2018', 'Sobrevivencia 2019', 'Sobrevivencia 2020'],\n",
       "      dtype='object', length=140)"
      ]
     },
     "execution_count": 289,
     "metadata": {},
     "output_type": "execute_result"
    }
   ],
   "source": [
    "df.columns"
   ]
  },
  {
   "cell_type": "code",
   "execution_count": 290,
   "id": "f386afed-3e54-4225-a643-124558c7c058",
   "metadata": {},
   "outputs": [
    {
     "data": {
      "text/plain": [
       "(7246, 140)"
      ]
     },
     "execution_count": 290,
     "metadata": {},
     "output_type": "execute_result"
    }
   ],
   "source": [
    "df.shape"
   ]
  },
  {
   "cell_type": "code",
   "execution_count": 291,
   "id": "f0a526ab-eac6-47cf-87ea-4ebe2379c559",
   "metadata": {},
   "outputs": [
    {
     "data": {
      "text/plain": [
       "Año en que fue vendido o fusionado el emprendimiento 2020           7241\n",
       "Año en que fue vendido o fusionado el emprendimiento 2018           7234\n",
       "Razón el emprendimiento cerró 2019                                  7206\n",
       "Impacto COVID-19 en que el emprendimiento no esté operativo 2020    7205\n",
       "Año en que fue vendido o fusionado el emprendimiento 2019           7204\n",
       "                                                                    ... \n",
       "País procedencia emprendimiento                                        0\n",
       "Region procedencia emprendimiento                                      0\n",
       "Región                                                                 0\n",
       "Monto financiamiento aprobado                                          0\n",
       "Año de aprobación                                                      0\n",
       "Length: 140, dtype: int64"
      ]
     },
     "execution_count": 291,
     "metadata": {},
     "output_type": "execute_result"
    }
   ],
   "source": [
    "df.isnull().sum().sort_values(ascending=False)"
   ]
  },
  {
   "cell_type": "code",
   "execution_count": 292,
   "id": "9aa1711d-1c3b-4d1e-92af-d24129aabf70",
   "metadata": {},
   "outputs": [
    {
     "data": {
      "text/plain": [
       "Año en que fue vendido o fusionado el emprendimiento 2020           7241\n",
       "Año en que fue vendido o fusionado el emprendimiento 2018           7234\n",
       "Razón el emprendimiento cerró 2019                                  7206\n",
       "Impacto COVID-19 en que el emprendimiento no esté operativo 2020    7205\n",
       "Año en que fue vendido o fusionado el emprendimiento 2019           7204\n",
       "                                                                    ... \n",
       "País procedencia emprendimiento                                        0\n",
       "Region procedencia emprendimiento                                      0\n",
       "Región                                                                 0\n",
       "Monto financiamiento aprobado                                          0\n",
       "Año de aprobación                                                      0\n",
       "Length: 140, dtype: int64"
      ]
     },
     "execution_count": 292,
     "metadata": {},
     "output_type": "execute_result"
    }
   ],
   "source": [
    "col_nulls = df.isnull().sum().sort_values(ascending=False)\n",
    "col_nulls"
   ]
  },
  {
   "cell_type": "code",
   "execution_count": 293,
   "id": "94a5ebd7-860c-48b5-8a05-2dab7a5cb24e",
   "metadata": {},
   "outputs": [
    {
     "data": {
      "text/plain": [
       "Año en que fue vendido o fusionado el emprendimiento 2020           0.999310\n",
       "Año en que fue vendido o fusionado el emprendimiento 2018           0.998344\n",
       "Razón el emprendimiento cerró 2019                                  0.994480\n",
       "Impacto COVID-19 en que el emprendimiento no esté operativo 2020    0.994342\n",
       "Año en que fue vendido o fusionado el emprendimiento 2019           0.994204\n",
       "                                                                      ...   \n",
       "Número de integrantes                                               0.044024\n",
       "Sobrevivencia 2019                                                  0.037124\n",
       "Nacionalidad integrante 1 del equipo                                0.010213\n",
       "Género del equipo                                                   0.002346\n",
       "Género del integrante 1 del equipo                                  0.002346\n",
       "Length: 132, dtype: float64"
      ]
     },
     "execution_count": 293,
     "metadata": {},
     "output_type": "execute_result"
    }
   ],
   "source": [
    "per_nulls = col_nulls[col_nulls > 0] / df.shape[0]\n",
    "per_nulls"
   ]
  },
  {
   "cell_type": "code",
   "execution_count": 294,
   "id": "221987f2-c953-400b-9a24-41c112157b91",
   "metadata": {},
   "outputs": [
    {
     "data": {
      "text/plain": [
       "['Año en que fue vendido o fusionado el emprendimiento 2020',\n",
       " 'Año en que fue vendido o fusionado el emprendimiento 2018',\n",
       " 'Razón el emprendimiento cerró 2019',\n",
       " 'Impacto COVID-19 en que el emprendimiento no esté operativo 2020',\n",
       " 'Año en que fue vendido o fusionado el emprendimiento 2019',\n",
       " 'Razón el emprendimiento cerró 2020',\n",
       " 'Año en que fue vendido o fusionado el emprendimiento 2017',\n",
       " 'Razón el emprendimiento cerró 2018',\n",
       " 'Impacto Estallido Social en que el emprendimiento no esté operativo 2020',\n",
       " 'Razón el emprendimiento cerró 2017',\n",
       " 'Año cese de actividades 2016',\n",
       " 'Razón del cese de operaciones 2019',\n",
       " 'Razón del cese de operaciones 2020',\n",
       " 'Razón del cese de operaciones 2018',\n",
       " 'Año cese de actividades 2018',\n",
       " 'Año cese de actividades 2020',\n",
       " 'Razón del cese de operaciones 2017',\n",
       " 'Año cese de actividades 2019',\n",
       " 'Año cese de actividades 2017',\n",
       " 'Componente innovación del producto o servicio',\n",
       " 'Emprendimiento operativo 2016',\n",
       " 'Empleados part time por tramos 2016',\n",
       " 'País inicial de ejecución',\n",
       " 'Emprendimiento operativo 2015',\n",
       " 'Impacto COVID-19 en las ventas del emprendimiento 2020',\n",
       " 'Dimensiones impacto social emprendimiento 2019',\n",
       " 'Dimensiones impacto social emprendimiento 2020',\n",
       " 'Incorporado',\n",
       " 'Experiencia laboral integrante 3',\n",
       " 'Impacto social emprendimiento 2019',\n",
       " 'Dimensiones impacto social emprendimiento 2018',\n",
       " 'Empleados part time por tramos 2020',\n",
       " 'Impacto social emprendimiento 2020',\n",
       " 'Ventas nacionales acumuladas por tramos hasta 2019',\n",
       " 'Empleados por tramos 2020',\n",
       " 'Empleados por tramos 2015',\n",
       " 'Ventas extranjero acumuladas por tramos hasta 2019',\n",
       " 'Empleados por tramos 2016',\n",
       " 'El emprendimiento fue vendido o fusionado 2020',\n",
       " 'Impacto social emprendimiento 2018',\n",
       " 'Emprendimientos previos del integrante 3']"
      ]
     },
     "execution_count": 294,
     "metadata": {},
     "output_type": "execute_result"
    }
   ],
   "source": [
    "delete_columns = list(per_nulls[per_nulls > .75].index)\n",
    "delete_columns"
   ]
  },
  {
   "cell_type": "code",
   "execution_count": 295,
   "id": "5043bd0a-02ca-47ff-bc01-ef89fd02deab",
   "metadata": {},
   "outputs": [
    {
     "data": {
      "text/plain": [
       "38"
      ]
     },
     "execution_count": 295,
     "metadata": {},
     "output_type": "execute_result"
    }
   ],
   "source": [
    "delete_final = delete_columns[:3]+delete_columns[4:8]+delete_columns[9:24]+delete_columns[25:]\n",
    "len(delete_final)"
   ]
  },
  {
   "cell_type": "code",
   "execution_count": 296,
   "id": "db344861-15fe-441d-8cf6-7204c3761806",
   "metadata": {},
   "outputs": [],
   "source": [
    "# Me parece interesante INTENTAR analizar el impacto que tuvo tanto el estallido social como el covid en los emprendimientos."
   ]
  },
  {
   "cell_type": "code",
   "execution_count": 297,
   "id": "11803506-0ce1-4a32-afae-f3862ed563c6",
   "metadata": {},
   "outputs": [
    {
     "data": {
      "text/plain": [
       "(7246, 102)"
      ]
     },
     "execution_count": 297,
     "metadata": {},
     "output_type": "execute_result"
    }
   ],
   "source": [
    "df.drop(columns = delete_final, inplace = True)\n",
    "df.shape"
   ]
  },
  {
   "cell_type": "code",
   "execution_count": 298,
   "id": "5e39ab54-8546-4e8b-aa23-b5ecd6474fe0",
   "metadata": {},
   "outputs": [
    {
     "data": {
      "text/plain": [
       "0.9943417057687"
      ]
     },
     "execution_count": 298,
     "metadata": {},
     "output_type": "execute_result"
    }
   ],
   "source": [
    "df['Impacto COVID-19 en que el emprendimiento no esté operativo 2020'].isnull().sum() / df.shape[0]"
   ]
  },
  {
   "cell_type": "code",
   "execution_count": 299,
   "id": "d65c9a46-4f5d-40f6-bdcb-70a5931ffd4a",
   "metadata": {},
   "outputs": [
    {
     "data": {
      "text/plain": [
       "0.9875793541264146"
      ]
     },
     "execution_count": 299,
     "metadata": {},
     "output_type": "execute_result"
    }
   ],
   "source": [
    "df['Impacto Estallido Social en que el emprendimiento no esté operativo 2020'].isnull().sum() / df.shape[0]"
   ]
  },
  {
   "cell_type": "code",
   "execution_count": 300,
   "id": "1174f0c6-e8be-476b-b796-3de6690c608b",
   "metadata": {},
   "outputs": [
    {
     "data": {
      "text/plain": [
       "0.8303891802373723"
      ]
     },
     "execution_count": 300,
     "metadata": {},
     "output_type": "execute_result"
    }
   ],
   "source": [
    "df['Impacto COVID-19 en las ventas del emprendimiento 2020'].isnull().sum() / df.shape[0]"
   ]
  },
  {
   "cell_type": "code",
   "execution_count": 301,
   "id": "cc8c9fc5-f055-4e73-83bb-ea31c79f5c87",
   "metadata": {},
   "outputs": [
    {
     "data": {
      "text/plain": [
       "0"
      ]
     },
     "execution_count": 301,
     "metadata": {},
     "output_type": "execute_result"
    }
   ],
   "source": [
    "df['Sector económico'].isnull().sum()"
   ]
  },
  {
   "cell_type": "code",
   "execution_count": 302,
   "id": "384072a6-e63b-4353-9e6b-030f5f1dd687",
   "metadata": {},
   "outputs": [
    {
     "data": {
      "text/plain": [
       "Informática y tecnologías de la información            1442\n",
       "Alimentos                                               542\n",
       "Transporte, construcción, infraestructura y energía     518\n",
       "Comercio                                                492\n",
       "Servicios financieros y empresariales                   475\n",
       "Publicidad e industrias creativas                       445\n",
       "Social                                                  440\n",
       "Turismo                                                 407\n",
       "Educación                                               397\n",
       "Salud y farmacéutica                                    385\n",
       "No definido                                             338\n",
       "Manufactura                                             264\n",
       "Otros                                                   256\n",
       "Agropecuaria                                            248\n",
       "Biomedicina y biotecnología                             187\n",
       "Minería y metalmecánica                                 148\n",
       "Pesca y acuicultura                                      98\n",
       "Frutícola, vitivinícola y hortofrutícola                 83\n",
       "Multisectorial                                           36\n",
       "Forestal                                                 35\n",
       "Administración pública                                   10\n",
       "Name: Sector económico, dtype: int64"
      ]
     },
     "execution_count": 302,
     "metadata": {},
     "output_type": "execute_result"
    }
   ],
   "source": [
    "df['Sector económico'].value_counts()"
   ]
  },
  {
   "cell_type": "code",
   "execution_count": 303,
   "id": "fc0859eb-f43d-4efe-a8d3-57a5ceb7f6e0",
   "metadata": {},
   "outputs": [
    {
     "data": {
      "text/plain": [
       "0"
      ]
     },
     "execution_count": 303,
     "metadata": {},
     "output_type": "execute_result"
    }
   ],
   "source": [
    "df['Año de aprobación'].isnull().sum()"
   ]
  },
  {
   "cell_type": "code",
   "execution_count": 304,
   "id": "809c6156-2e51-4afe-aaee-d8766b288be4",
   "metadata": {},
   "outputs": [
    {
     "data": {
      "text/plain": [
       "2016    908\n",
       "2017    788\n",
       "2015    771\n",
       "2019    716\n",
       "2018    708\n",
       "2014    662\n",
       "2013    507\n",
       "2012    435\n",
       "2011    384\n",
       "2020    357\n",
       "2006    252\n",
       "2010    180\n",
       "2007    155\n",
       "2008    154\n",
       "2009    151\n",
       "2005     41\n",
       "2003     28\n",
       "2004     21\n",
       "2002     19\n",
       "2001      9\n",
       "Name: Año de aprobación, dtype: int64"
      ]
     },
     "execution_count": 304,
     "metadata": {},
     "output_type": "execute_result"
    }
   ],
   "source": [
    "df['Año de aprobación'].value_counts().sort_values(ascending=False)"
   ]
  },
  {
   "cell_type": "code",
   "execution_count": 305,
   "id": "7d16e869-8ebe-4380-a30c-0ba459664c96",
   "metadata": {},
   "outputs": [
    {
     "data": {
      "text/plain": [
       "0"
      ]
     },
     "execution_count": 305,
     "metadata": {},
     "output_type": "execute_result"
    }
   ],
   "source": [
    "df['Región'].isnull().sum()"
   ]
  },
  {
   "cell_type": "code",
   "execution_count": 306,
   "id": "97f3ed3d-5614-4a51-a5d0-fe87ac0f9df6",
   "metadata": {},
   "outputs": [
    {
     "data": {
      "text/plain": [
       "Región Metropolitana                                   4656\n",
       "Región de Valparaíso                                    511\n",
       "Región de los Lagos                                     334\n",
       "Región del Biobío                                       316\n",
       "Región de la Araucanía                                  262\n",
       "Región del Maule                                        184\n",
       "Región del Libertador General Bernardo O'Higgins        175\n",
       "Región de Coquimbo                                      160\n",
       "Región de los Ríos                                      147\n",
       "Región de Antofagasta                                   142\n",
       "Región de Aysén del General Carlos Ibáñez del Campo      87\n",
       "Región de Tarapacá                                       85\n",
       "Región de Atacama                                        64\n",
       "Región de Magallanes y Antártica Chilena                 60\n",
       "Región de Arica y Parinacota                             55\n",
       "Región de Ñuble                                           8\n",
       "Name: Región, dtype: int64"
      ]
     },
     "execution_count": 306,
     "metadata": {},
     "output_type": "execute_result"
    }
   ],
   "source": [
    "df['Región'].value_counts()"
   ]
  },
  {
   "cell_type": "code",
   "execution_count": 307,
   "id": "972e72b3-281e-4608-975d-63cfd750f72a",
   "metadata": {},
   "outputs": [
    {
     "data": {
      "text/plain": [
       "6017"
      ]
     },
     "execution_count": 307,
     "metadata": {},
     "output_type": "execute_result"
    }
   ],
   "source": [
    "df['Impacto COVID-19 en las ventas del emprendimiento 2020'].isnull().sum()"
   ]
  },
  {
   "cell_type": "code",
   "execution_count": 308,
   "id": "4daef383-8038-4ce0-97ea-dace6da9576a",
   "metadata": {
    "tags": []
   },
   "outputs": [
    {
     "data": {
      "text/plain": [
       "El volumen de ventas ha disminuido    689\n",
       "El volumen de ventas ha aumentado     334\n",
       "Las ventas no han tenido cambios      206\n",
       "Name: Impacto COVID-19 en las ventas del emprendimiento 2020, dtype: int64"
      ]
     },
     "execution_count": 308,
     "metadata": {},
     "output_type": "execute_result"
    }
   ],
   "source": [
    "df['Impacto COVID-19 en las ventas del emprendimiento 2020'].value_counts()"
   ]
  },
  {
   "cell_type": "code",
   "execution_count": 309,
   "id": "7223630b-36cb-40db-89e8-babbac8b2fbe",
   "metadata": {},
   "outputs": [
    {
     "data": {
      "text/plain": [
       "7156"
      ]
     },
     "execution_count": 309,
     "metadata": {},
     "output_type": "execute_result"
    }
   ],
   "source": [
    "df['Impacto Estallido Social en que el emprendimiento no esté operativo 2020'].isnull().sum()"
   ]
  },
  {
   "cell_type": "code",
   "execution_count": 310,
   "id": "23aae7dd-2ed1-493a-8378-bc973c9dabbd",
   "metadata": {},
   "outputs": [
    {
     "data": {
      "text/plain": [
       "1.0    37\n",
       "5.0    27\n",
       "3.0    10\n",
       "4.0     8\n",
       "2.0     8\n",
       "Name: Impacto Estallido Social en que el emprendimiento no esté operativo 2020, dtype: int64"
      ]
     },
     "execution_count": 310,
     "metadata": {},
     "output_type": "execute_result"
    }
   ],
   "source": [
    "df['Impacto Estallido Social en que el emprendimiento no esté operativo 2020'].value_counts()"
   ]
  },
  {
   "cell_type": "code",
   "execution_count": 311,
   "id": "193f287e-692d-43db-851d-38cc9e5565b7",
   "metadata": {},
   "outputs": [
    {
     "data": {
      "text/plain": [
       "17"
      ]
     },
     "execution_count": 311,
     "metadata": {},
     "output_type": "execute_result"
    }
   ],
   "source": [
    "df['Género del equipo'].isnull().sum()"
   ]
  },
  {
   "cell_type": "code",
   "execution_count": 312,
   "id": "989d5a7c-b066-44a6-883c-02f15d8e95a6",
   "metadata": {},
   "outputs": [
    {
     "data": {
      "text/plain": [
       "Sólo hombres                       4350\n",
       "Al menos una mujer en el equipo    2879\n",
       "Name: Género del equipo, dtype: int64"
      ]
     },
     "execution_count": 312,
     "metadata": {},
     "output_type": "execute_result"
    }
   ],
   "source": [
    "df['Género del equipo'].value_counts()"
   ]
  },
  {
   "cell_type": "raw",
   "id": "3e98c8d4-7954-4190-8835-c6814e580024",
   "metadata": {},
   "source": [
    "Tengo la mayoría de los datos en las siguientes columnas: \n",
    "1. Año de aprobación.\n",
    "2. Sector económico.\n",
    "3. Región.\n",
    "4. Género del equipo.\n",
    "5. Tipo de persona beneficiada (natural o jurídica).\n",
    "6. País procedencia emprendimiento.\n",
    "7. Alcance del proyecto.\n",
    "8. Tipo de producto.\n"
   ]
  },
  {
   "cell_type": "code",
   "execution_count": 313,
   "id": "ef190960-b375-4566-9f44-ed33e2c19797",
   "metadata": {},
   "outputs": [
    {
     "data": {
      "text/plain": [
       "0"
      ]
     },
     "execution_count": 313,
     "metadata": {},
     "output_type": "execute_result"
    }
   ],
   "source": [
    "df['Tipo de persona beneficiada'].isnull().sum()"
   ]
  },
  {
   "cell_type": "code",
   "execution_count": 314,
   "id": "8b69a0d8-96e9-4d8d-919b-225a5c768a5f",
   "metadata": {},
   "outputs": [
    {
     "data": {
      "text/plain": [
       "Persona natural     4044\n",
       "Persona jurídica    3202\n",
       "Name: Tipo de persona beneficiada, dtype: int64"
      ]
     },
     "execution_count": 314,
     "metadata": {},
     "output_type": "execute_result"
    }
   ],
   "source": [
    "df['Tipo de persona beneficiada'].value_counts()"
   ]
  },
  {
   "cell_type": "code",
   "execution_count": 315,
   "id": "ce1f24e2-f116-4185-8e49-db7469adae84",
   "metadata": {},
   "outputs": [
    {
     "data": {
      "text/plain": [
       "0"
      ]
     },
     "execution_count": 315,
     "metadata": {},
     "output_type": "execute_result"
    }
   ],
   "source": [
    "df['País procedencia emprendimiento'].isnull().sum()"
   ]
  },
  {
   "cell_type": "code",
   "execution_count": 316,
   "id": "d7b4d86a-18aa-410f-97b2-2cd1840866e0",
   "metadata": {},
   "outputs": [
    {
     "data": {
      "text/plain": [
       "Chile                 5787\n",
       "Estados Unidos         285\n",
       "Argentina              189\n",
       "India                  116\n",
       "Brasil                  95\n",
       "                      ... \n",
       "Taiwan                   1\n",
       "Irán                     1\n",
       "Albania                  1\n",
       "Bosnia Herzegovina       1\n",
       "Líbano                   1\n",
       "Name: País procedencia emprendimiento, Length: 82, dtype: int64"
      ]
     },
     "execution_count": 316,
     "metadata": {},
     "output_type": "execute_result"
    }
   ],
   "source": [
    "df['País procedencia emprendimiento'].value_counts()"
   ]
  },
  {
   "cell_type": "code",
   "execution_count": 319,
   "id": "9a4350b7-b774-49d3-b186-39ed9bfbc7ba",
   "metadata": {},
   "outputs": [
    {
     "data": {
      "text/plain": [
       "770"
      ]
     },
     "execution_count": 319,
     "metadata": {},
     "output_type": "execute_result"
    }
   ],
   "source": [
    "df['Alcance del proyecto'].isnull().sum()"
   ]
  },
  {
   "cell_type": "code",
   "execution_count": 320,
   "id": "1fe1f288-e9c6-4ab1-bb69-9892c3d329eb",
   "metadata": {},
   "outputs": [
    {
     "data": {
      "text/plain": [
       "Global           3639\n",
       "Nacional         1446\n",
       "Latinoamérica    1083\n",
       "Regional          306\n",
       "nacional            1\n",
       "Global              1\n",
       "Name: Alcance del proyecto, dtype: int64"
      ]
     },
     "execution_count": 320,
     "metadata": {},
     "output_type": "execute_result"
    }
   ],
   "source": [
    "df['Alcance del proyecto'].value_counts()"
   ]
  },
  {
   "cell_type": "code",
   "execution_count": 321,
   "id": "27daba91-da5e-4f6e-91af-7b4bcf781f73",
   "metadata": {},
   "outputs": [
    {
     "data": {
      "text/plain": [
       "673"
      ]
     },
     "execution_count": 321,
     "metadata": {},
     "output_type": "execute_result"
    }
   ],
   "source": [
    "df['Tipo de producto'].isnull().sum()"
   ]
  },
  {
   "cell_type": "code",
   "execution_count": 322,
   "id": "4ba3682f-7755-4187-ada2-57416bbafc8b",
   "metadata": {},
   "outputs": [
    {
     "data": {
      "text/plain": [
       "Software           2484\n",
       "Servicio           2015\n",
       "Producto físico    1492\n",
       "Hardware            580\n",
       "Producto Físico       2\n",
       "Name: Tipo de producto, dtype: int64"
      ]
     },
     "execution_count": 322,
     "metadata": {},
     "output_type": "execute_result"
    }
   ],
   "source": [
    "df['Tipo de producto'].value_counts()"
   ]
  },
  {
   "cell_type": "code",
   "execution_count": 323,
   "id": "e0a1bd6e-84a7-4759-b51d-d62052f12f31",
   "metadata": {},
   "outputs": [
    {
     "data": {
      "text/plain": [
       "Empresas/institución    3057\n",
       "Personas                1657\n",
       "Ambos                   1265\n",
       "Name: Tipo de clientes, dtype: int64"
      ]
     },
     "execution_count": 323,
     "metadata": {},
     "output_type": "execute_result"
    }
   ],
   "source": [
    "df['Tipo de clientes'].value_counts()"
   ]
  },
  {
   "cell_type": "code",
   "execution_count": 324,
   "id": "2e27891c-2284-4d5c-b8db-e23f0a4d99fc",
   "metadata": {},
   "outputs": [
    {
     "data": {
      "text/plain": [
       "1267"
      ]
     },
     "execution_count": 324,
     "metadata": {},
     "output_type": "execute_result"
    }
   ],
   "source": [
    "df['Tipo de clientes'].isnull().sum()"
   ]
  },
  {
   "cell_type": "code",
   "execution_count": 325,
   "id": "db1e9311-275c-411e-b482-2efe2f582bb0",
   "metadata": {},
   "outputs": [
    {
     "data": {
      "text/plain": [
       "Index(['Año de aprobación', 'Programa', 'Sector económico',\n",
       "       'Tipo de persona beneficiada', 'País procedencia emprendimiento',\n",
       "       'Region procedencia emprendimiento', 'Región',\n",
       "       'Monto financiamiento aprobado', 'Número de integrantes',\n",
       "       'Género del integrante 1 del equipo',\n",
       "       ...\n",
       "       'Países donde venden 2018', 'Número de países donde vende 2018',\n",
       "       'Países donde venden 2019', 'Número de países donde vende 2019',\n",
       "       'Países donde venden 2020', 'Número de países donde vende 2020',\n",
       "       'Sobrevivencia 2017', 'Sobrevivencia 2018', 'Sobrevivencia 2019',\n",
       "       'Sobrevivencia 2020'],\n",
       "      dtype='object', length=102)"
      ]
     },
     "execution_count": 325,
     "metadata": {},
     "output_type": "execute_result"
    }
   ],
   "source": [
    "df.columns"
   ]
  },
  {
   "cell_type": "code",
   "execution_count": 326,
   "id": "718451a8-f511-4abb-aa47-f1dfdafba8df",
   "metadata": {},
   "outputs": [],
   "source": [
    "df.to_excel(\"basedatossemilla.xlsx\")  "
   ]
  },
  {
   "cell_type": "code",
   "execution_count": 327,
   "id": "e8e52e3e-ecb0-4082-acba-2b97a81dd2b8",
   "metadata": {},
   "outputs": [
    {
     "data": {
      "text/plain": [
       "3599"
      ]
     },
     "execution_count": 327,
     "metadata": {},
     "output_type": "execute_result"
    }
   ],
   "source": [
    "df['Emprendimientos previos del integrante 1'].isnull().sum()"
   ]
  },
  {
   "cell_type": "code",
   "execution_count": 328,
   "id": "c6aaeca3-3322-464f-b226-d34b2479a366",
   "metadata": {},
   "outputs": [
    {
     "data": {
      "text/plain": [
       "1.0     1338\n",
       "2.0      904\n",
       "0.0      775\n",
       "3.0      423\n",
       "4.0      127\n",
       "5.0       55\n",
       "7.0        9\n",
       "6.0        8\n",
       "8.0        3\n",
       "9.0        2\n",
       "10.0       2\n",
       "11.0       1\n",
       "Name: Emprendimientos previos del integrante 1, dtype: int64"
      ]
     },
     "execution_count": 328,
     "metadata": {},
     "output_type": "execute_result"
    }
   ],
   "source": [
    "df['Emprendimientos previos del integrante 1'].value_counts()"
   ]
  },
  {
   "cell_type": "code",
   "execution_count": 329,
   "id": "67cea15b-90b1-4510-9411-5365b90be2be",
   "metadata": {},
   "outputs": [
    {
     "data": {
      "text/plain": [
       "4052"
      ]
     },
     "execution_count": 329,
     "metadata": {},
     "output_type": "execute_result"
    }
   ],
   "source": [
    "df['Emprendimientos previos del integrante 2'].isnull().sum()"
   ]
  },
  {
   "cell_type": "code",
   "execution_count": 330,
   "id": "acbe623c-0d39-4af1-ae85-3fc226322356",
   "metadata": {},
   "outputs": [
    {
     "data": {
      "text/plain": [
       "1.0     1160\n",
       "0.0      902\n",
       "2.0      682\n",
       "3.0      314\n",
       "4.0       78\n",
       "5.0       41\n",
       "6.0        8\n",
       "7.0        3\n",
       "10.0       2\n",
       "25.0       1\n",
       "8.0        1\n",
       "15.0       1\n",
       "9.0        1\n",
       "Name: Emprendimientos previos del integrante 2, dtype: int64"
      ]
     },
     "execution_count": 330,
     "metadata": {},
     "output_type": "execute_result"
    }
   ],
   "source": [
    "df['Emprendimientos previos del integrante 2'].value_counts()"
   ]
  },
  {
   "cell_type": "code",
   "execution_count": 331,
   "id": "97020096-8a27-43c3-ac0d-b872799ede27",
   "metadata": {},
   "outputs": [
    {
     "data": {
      "image/png": "[encoded data removed]",
      "text/plain": [
       "<Figure size 432x288 with 1 Axes>"
      ]
     },
     "metadata": {
      "needs_background": "light"
     },
     "output_type": "display_data"
    }
   ],
   "source": [
    "df['Monto financiamiento aprobado'].hist(bins=10);"
   ]
  },
  {
   "cell_type": "code",
   "execution_count": 332,
   "id": "f0bc3314-2566-48fa-b04b-6d1c07dbfaa8",
   "metadata": {},
   "outputs": [
    {
     "data": {
      "text/plain": [
       "20000000.0     1686\n",
       "25000000.0     1151\n",
       "10000000.0      810\n",
       "6000000.0       497\n",
       "60000000.0      462\n",
       "               ... \n",
       "5965000.0         1\n",
       "9999740.0         1\n",
       "42000000.0        1\n",
       "35940000.0        1\n",
       "257000000.0       1\n",
       "Name: Monto financiamiento aprobado, Length: 950, dtype: int64"
      ]
     },
     "execution_count": 332,
     "metadata": {},
     "output_type": "execute_result"
    }
   ],
   "source": [
    "df['Monto financiamiento aprobado'].value_counts().sort_values(ascending=False)"
   ]
  },
  {
   "cell_type": "code",
   "execution_count": 333,
   "id": "9918cb60-02ac-4173-b0ea-55afb1d61d47",
   "metadata": {},
   "outputs": [
    {
     "data": {
      "text/plain": [
       "['Año de aprobación',\n",
       " 'Programa',\n",
       " 'Sector económico',\n",
       " 'Tipo de persona beneficiada',\n",
       " 'País procedencia emprendimiento',\n",
       " 'Region procedencia emprendimiento',\n",
       " 'Región',\n",
       " 'Monto financiamiento aprobado',\n",
       " 'Número de integrantes',\n",
       " 'Género del integrante 1 del equipo',\n",
       " 'Nacionalidad integrante 1 del equipo',\n",
       " 'Rol integrante 1',\n",
       " 'Área educación superior integrante 1',\n",
       " 'Experiencia laboral integrante 1',\n",
       " 'Emprendimientos previos del integrante 1',\n",
       " 'Género del integrante 2 del equipo',\n",
       " 'Nacionalidad integrante 2 del equipo',\n",
       " 'Rol integrante 2',\n",
       " 'Área educación superior integrante 2',\n",
       " 'Experiencia laboral integrante 2',\n",
       " 'Emprendimientos previos del integrante 2',\n",
       " 'Género del integrante 3 del equipo',\n",
       " 'Nacionalidad integrante 3 del equipo',\n",
       " 'Rol integrante 3',\n",
       " 'Área educación superior integrante 3',\n",
       " 'Género del equipo',\n",
       " 'Alcance del proyecto',\n",
       " 'Tipo de producto',\n",
       " 'Grado de innovación',\n",
       " 'Tipo de clientes',\n",
       " 'Canal adquisición nuevos clientes y/o usuarios',\n",
       " 'Canal adquisición ... - A través de entidades que reúnen a clientes potenciales',\n",
       " 'Canal adquisición ... - Eventos y/o participación en ferias',\n",
       " 'Canal adquisición ... - Marketing de contenidos',\n",
       " 'Canal adquisición ... - Publicidad online pagada',\n",
       " 'Canal adquisición ... - Publicidad offline pagada',\n",
       " 'Canal adquisición ... - Redes sociales',\n",
       " 'Canal adquisición ... - Estrategia de prensa',\n",
       " 'Canal adquisición ... - Otros',\n",
       " 'Canales de venta existentes',\n",
       " 'Canales de venta ... - Venta directa (Vendedores)',\n",
       " 'Canales de venta ... - Venta por internet',\n",
       " 'Canales de venta ... - Distribuidores',\n",
       " 'Canales de venta ... - Canales de empresa madre (Filial)',\n",
       " 'Canales de venta ... - Representante de ventas',\n",
       " 'Canales de venta ... - Oficinas comerciales propias',\n",
       " 'Canales de venta ... - Otro',\n",
       " 'Mentor o consultor',\n",
       " 'Protección del producto o servicio a través de la obtención de patentes',\n",
       " 'Etapa de desarrollo del proyecto',\n",
       " 'Emprendimiento operativo 2017',\n",
       " 'Emprendimiento operativo 2018',\n",
       " 'Emprendimiento operativo 2019',\n",
       " 'Emprendimiento operativo 2020',\n",
       " 'Impacto COVID-19 en que el emprendimiento no esté operativo 2020',\n",
       " 'Impacto Estallido Social en que el emprendimiento no esté operativo 2020',\n",
       " 'Impacto COVID-19 en las ventas del emprendimiento 2020',\n",
       " 'El emprendimiento fue vendido o fusionado 2017',\n",
       " 'El emprendimiento fue vendido o fusionado 2018',\n",
       " 'El emprendimiento fue vendido o fusionado 2019',\n",
       " 'Ventas nacionales por tramos 2015',\n",
       " 'Ventas nacionales por tramos 2016',\n",
       " 'Ventas nacionales por tramos 2017',\n",
       " 'Ventas nacionales por tramos 2018',\n",
       " 'Ventas nacionales por tramos 2019',\n",
       " 'Ventas nacionales acumuladas por tramos hasta 2015',\n",
       " 'Ventas nacionales acumuladas por tramos hasta 2016',\n",
       " 'Ventas nacionales acumuladas por tramos hasta 2017',\n",
       " 'Ventas nacionales acumuladas por tramos hasta 2018',\n",
       " 'Ventas extranjero por tramos 2015',\n",
       " 'Ventas extranjero por tramos 2016',\n",
       " 'Ventas extranjero por tramos 2017',\n",
       " 'Ventas extranjero por tramos 2018',\n",
       " 'Ventas extranjero por tramos 2019',\n",
       " 'Ventas extranjero acumuladas por tramos hasta 2015',\n",
       " 'Ventas extranjero acumuladas por tramos hasta 2016',\n",
       " 'Ventas extranjero acumuladas por tramos hasta 2017',\n",
       " 'Ventas extranjero acumuladas por tramos hasta 2018',\n",
       " 'Capital privado nacional consolidado por tramos hasta 2019',\n",
       " 'Capital privado extranjero consolidado por tramos hasta 2019',\n",
       " 'Empleados por tramos 2017',\n",
       " 'Empleados por tramos 2018',\n",
       " 'Empleados por tramos 2019',\n",
       " 'Empleados part time por tramos 2017',\n",
       " 'Empleados part time por tramos 2018',\n",
       " 'Empleados part time por tramos 2019',\n",
       " 'Continentes donde vende 2017',\n",
       " 'Continentes donde vende 2018',\n",
       " 'Continentes donde vende 2019',\n",
       " 'Continentes donde vende 2020',\n",
       " 'Países donde venden 2017',\n",
       " 'Número de países donde vende 2017',\n",
       " 'Países donde venden 2018',\n",
       " 'Número de países donde vende 2018',\n",
       " 'Países donde venden 2019',\n",
       " 'Número de países donde vende 2019',\n",
       " 'Países donde venden 2020',\n",
       " 'Número de países donde vende 2020',\n",
       " 'Sobrevivencia 2017',\n",
       " 'Sobrevivencia 2018',\n",
       " 'Sobrevivencia 2019',\n",
       " 'Sobrevivencia 2020']"
      ]
     },
     "execution_count": 333,
     "metadata": {},
     "output_type": "execute_result"
    }
   ],
   "source": [
    "list(df.columns)"
   ]
  },
  {
   "cell_type": "code",
   "execution_count": 334,
   "id": "57378c6d-b7e7-4e03-9d68-e81b9ef8919e",
   "metadata": {},
   "outputs": [],
   "source": [
    "import re\n",
    "\n",
    "lista_eliminar = []\n",
    "for col in df:\n",
    "    if re.findall(r'Sobrevivencia', col):\n",
    "        lista_eliminar.append(col)\n",
    "\n",
    "for col in df:\n",
    "    if re.findall(r'Ventas extranjero|Ventas nacionales', col):\n",
    "        lista_eliminar.append(col)\n",
    "        \n",
    "for col in df:\n",
    "    if re.findall(r'El emprendimiento fue vendido o fusionado', col):\n",
    "        lista_eliminar.append(col)\n",
    "\n",
    "for col in df:\n",
    "    if re.findall(r'Continentes donde vende', col):\n",
    "        lista_eliminar.append(col)\n",
    "\n",
    "for col in df:\n",
    "    if re.findall(r'Empleados', col):\n",
    "        lista_eliminar.append(col)\n",
    "        \n",
    "for col in df:\n",
    "    if re.findall(r'Capital privado', col):\n",
    "        lista_eliminar.append(col)\n",
    "\n",
    "for col in df:\n",
    "    if re.findall(r'Emprendimiento operativo', col):\n",
    "        lista_eliminar.append(col)\n",
    "        \n",
    "for col in df:\n",
    "    if re.findall(r'Número de países donde vende', col):\n",
    "        lista_eliminar.append(col)\n",
    "\n",
    "for col in df:\n",
    "    if re.findall(r'Países donde venden', col):\n",
    "        lista_eliminar.append(col)"
   ]
  },
  {
   "cell_type": "code",
   "execution_count": 335,
   "id": "597f6335-156f-45ee-ac53-fae146b9a264",
   "metadata": {},
   "outputs": [
    {
     "name": "stdout",
     "output_type": "stream",
     "text": [
      "['Sobrevivencia 2017', 'Sobrevivencia 2018', 'Sobrevivencia 2019', 'Sobrevivencia 2020', 'Ventas nacionales por tramos 2015', 'Ventas nacionales por tramos 2016', 'Ventas nacionales por tramos 2017', 'Ventas nacionales por tramos 2018', 'Ventas nacionales por tramos 2019', 'Ventas nacionales acumuladas por tramos hasta 2015', 'Ventas nacionales acumuladas por tramos hasta 2016', 'Ventas nacionales acumuladas por tramos hasta 2017', 'Ventas nacionales acumuladas por tramos hasta 2018', 'Ventas extranjero por tramos 2015', 'Ventas extranjero por tramos 2016', 'Ventas extranjero por tramos 2017', 'Ventas extranjero por tramos 2018', 'Ventas extranjero por tramos 2019', 'Ventas extranjero acumuladas por tramos hasta 2015', 'Ventas extranjero acumuladas por tramos hasta 2016', 'Ventas extranjero acumuladas por tramos hasta 2017', 'Ventas extranjero acumuladas por tramos hasta 2018', 'El emprendimiento fue vendido o fusionado 2017', 'El emprendimiento fue vendido o fusionado 2018', 'El emprendimiento fue vendido o fusionado 2019', 'Continentes donde vende 2017', 'Continentes donde vende 2018', 'Continentes donde vende 2019', 'Continentes donde vende 2020', 'Empleados por tramos 2017', 'Empleados por tramos 2018', 'Empleados por tramos 2019', 'Empleados part time por tramos 2017', 'Empleados part time por tramos 2018', 'Empleados part time por tramos 2019', 'Capital privado nacional consolidado por tramos hasta 2019', 'Capital privado extranjero consolidado por tramos hasta 2019', 'Emprendimiento operativo 2017', 'Emprendimiento operativo 2018', 'Emprendimiento operativo 2019', 'Emprendimiento operativo 2020', 'Número de países donde vende 2017', 'Número de países donde vende 2018', 'Número de países donde vende 2019', 'Número de países donde vende 2020', 'Países donde venden 2017', 'Países donde venden 2018', 'Países donde venden 2019', 'Países donde venden 2020']\n"
     ]
    }
   ],
   "source": [
    "print(lista_eliminar)"
   ]
  },
  {
   "cell_type": "code",
   "execution_count": 336,
   "id": "27eb050f-5742-4d0d-bb89-959571f46561",
   "metadata": {},
   "outputs": [
    {
     "data": {
      "text/plain": [
       "102"
      ]
     },
     "execution_count": 336,
     "metadata": {},
     "output_type": "execute_result"
    }
   ],
   "source": [
    "len(df.columns)"
   ]
  },
  {
   "cell_type": "code",
   "execution_count": 337,
   "id": "ddcf4cb6-9836-4f32-aea3-c09676eb2ab6",
   "metadata": {},
   "outputs": [],
   "source": [
    "df.drop(columns=lista_eliminar, inplace=True)"
   ]
  },
  {
   "cell_type": "code",
   "execution_count": 338,
   "id": "3b1e8d37-08ac-4e51-b57c-9614dbff0072",
   "metadata": {},
   "outputs": [
    {
     "data": {
      "text/plain": [
       "['Año de aprobación',\n",
       " 'Programa',\n",
       " 'Sector económico',\n",
       " 'Tipo de persona beneficiada',\n",
       " 'País procedencia emprendimiento',\n",
       " 'Region procedencia emprendimiento',\n",
       " 'Región',\n",
       " 'Monto financiamiento aprobado',\n",
       " 'Número de integrantes',\n",
       " 'Género del integrante 1 del equipo',\n",
       " 'Nacionalidad integrante 1 del equipo',\n",
       " 'Rol integrante 1',\n",
       " 'Área educación superior integrante 1',\n",
       " 'Experiencia laboral integrante 1',\n",
       " 'Emprendimientos previos del integrante 1',\n",
       " 'Género del integrante 2 del equipo',\n",
       " 'Nacionalidad integrante 2 del equipo',\n",
       " 'Rol integrante 2',\n",
       " 'Área educación superior integrante 2',\n",
       " 'Experiencia laboral integrante 2',\n",
       " 'Emprendimientos previos del integrante 2',\n",
       " 'Género del integrante 3 del equipo',\n",
       " 'Nacionalidad integrante 3 del equipo',\n",
       " 'Rol integrante 3',\n",
       " 'Área educación superior integrante 3',\n",
       " 'Género del equipo',\n",
       " 'Alcance del proyecto',\n",
       " 'Tipo de producto',\n",
       " 'Grado de innovación',\n",
       " 'Tipo de clientes',\n",
       " 'Canal adquisición nuevos clientes y/o usuarios',\n",
       " 'Canal adquisición ... - A través de entidades que reúnen a clientes potenciales',\n",
       " 'Canal adquisición ... - Eventos y/o participación en ferias',\n",
       " 'Canal adquisición ... - Marketing de contenidos',\n",
       " 'Canal adquisición ... - Publicidad online pagada',\n",
       " 'Canal adquisición ... - Publicidad offline pagada',\n",
       " 'Canal adquisición ... - Redes sociales',\n",
       " 'Canal adquisición ... - Estrategia de prensa',\n",
       " 'Canal adquisición ... - Otros',\n",
       " 'Canales de venta existentes',\n",
       " 'Canales de venta ... - Venta directa (Vendedores)',\n",
       " 'Canales de venta ... - Venta por internet',\n",
       " 'Canales de venta ... - Distribuidores',\n",
       " 'Canales de venta ... - Canales de empresa madre (Filial)',\n",
       " 'Canales de venta ... - Representante de ventas',\n",
       " 'Canales de venta ... - Oficinas comerciales propias',\n",
       " 'Canales de venta ... - Otro',\n",
       " 'Mentor o consultor',\n",
       " 'Protección del producto o servicio a través de la obtención de patentes',\n",
       " 'Etapa de desarrollo del proyecto',\n",
       " 'Impacto COVID-19 en que el emprendimiento no esté operativo 2020',\n",
       " 'Impacto Estallido Social en que el emprendimiento no esté operativo 2020',\n",
       " 'Impacto COVID-19 en las ventas del emprendimiento 2020']"
      ]
     },
     "execution_count": 338,
     "metadata": {},
     "output_type": "execute_result"
    }
   ],
   "source": [
    "list(df.columns)"
   ]
  },
  {
   "cell_type": "code",
   "execution_count": 339,
   "id": "3802f3a5-8159-4bdc-9397-1e0489224f7b",
   "metadata": {},
   "outputs": [
    {
     "data": {
      "text/plain": [
       "array([nan, 'Venta directa (Vendedores)', 'Distribuidores',\n",
       "       'Venta directa (Vendedores),Oficinas comerciales propias',\n",
       "       'Venta directa (Vendedores),Distribuidores',\n",
       "       'Venta por internet,Distribuidores',\n",
       "       'Venta directa (Vendedores),Venta por internet,Distribuidores',\n",
       "       'Venta directa (Vendedores),Venta por internet',\n",
       "       'Distribuidores,Representante de ventas', 'Venta por internet',\n",
       "       'Venta directa (Vendedores),Otro',\n",
       "       'Venta directa (Vendedores),Venta por internet,Distribuidores,Oficinas comerciales propias',\n",
       "       'Venta directa (Vendedores),Representante de ventas',\n",
       "       'Venta por internet,Representante de ventas',\n",
       "       'Representante de ventas',\n",
       "       'Venta directa (Vendedores),Venta por internet,Representante de ventas',\n",
       "       'Venta por internet,Oficinas comerciales propias',\n",
       "       'Venta directa (Vendedores),Representante de ventas,Otro',\n",
       "       'Venta por internet,Distribuidores,Oficinas comerciales propias',\n",
       "       'Venta por internet,Distribuidores,Representante de ventas',\n",
       "       'Distribuidores,Oficinas comerciales propias',\n",
       "       'Venta directa (Vendedores),Venta por internet,Representante de ventas,Otro',\n",
       "       'Oficinas comerciales propias',\n",
       "       'Venta directa (Vendedores), Distribuidores',\n",
       "       'Venta por internet,Otro', 'Distribuidores,Otro',\n",
       "       'Venta directa (Vendedores),Distribuidores,Otro',\n",
       "       'Venta directa (Vendedores),Distribuidores,Canales de empresa madre (Filial)',\n",
       "       'Venta directa (Vendedores),Distribuidores,Representante de ventas',\n",
       "       'Venta por internet,Representante de ventas,Oficinas comerciales propias',\n",
       "       'Otro', 'Venta por internet,Distribuidores,Otro',\n",
       "       'Venta directa (Vendedores),Distribuidores,Oficinas comerciales propias',\n",
       "       'Venta directa (Vendedores),Venta por internet,Distribuidores,Representante de ventas,Oficinas comerciales propias',\n",
       "       'Distribuidores,Canales de empresa madre (Filial)',\n",
       "       'Venta directa (Vendedores),Venta por internet,Oficinas comerciales propias',\n",
       "       'Venta por internet,Canales de empresa madre (Filial)',\n",
       "       'Venta directa (Vendedores),Distribuidores,Representante de ventas,Oficinas comerciales propias',\n",
       "       'Venta directa (Vendedores),Venta por internet,Distribuidores,Representante de ventas',\n",
       "       'Canales de empresa madre (Filial)',\n",
       "       'Venta directa (Vendedores),Distribuidores,Canales de empresa madre (Filial),Representante de ventas',\n",
       "       'Venta directa (Vendedores),Venta por internet,Distribuidores,Canales de empresa madre (Filial),Representante de ventas',\n",
       "       'Venta directa (Vendedores),Venta por internet,Canales de empresa madre (Filial)',\n",
       "       'Canales de empresa madre (Filial),Representante de ventas',\n",
       "       'Venta directa (Vendedores),Venta por internet,Distribuidores,Canales de empresa madre (Filial)',\n",
       "       'Venta directa (Vendedores),Venta por internet,Representante de ventas,Oficinas comerciales propias',\n",
       "       'Venta directa (Vendedores),Venta por internet,Distribuidores,Representante de ventas,Otro',\n",
       "       'Venta directa (Vendedores),Distribuidores,Representante de ventas,Otro',\n",
       "       'Venta directa (Vendedores),Venta por internet,Canales de empresa madre (Filial),Representante de ventas',\n",
       "       'Venta directa (Vendedores),Representante de ventas,Oficinas comerciales propias',\n",
       "       'Venta directa (Vendedores),Venta por internet,Otro',\n",
       "       'Venta directa (Vendedores),Canales de empresa madre (Filial),Representante de ventas',\n",
       "       'Venta por internet,Distribuidores,Canales de empresa madre (Filial)',\n",
       "       'Representante de ventas,Otro',\n",
       "       'Venta directa (Vendedores),Canales de empresa madre (Filial)',\n",
       "       'Venta directa (Vendedores),Venta por internet,Distribuidores,Otro',\n",
       "       'Venta directa (Vendedores),Oficinas comerciales propias,Otro',\n",
       "       'Venta directa (Vendedores),Canales de empresa madre (Filial),Otro',\n",
       "       'Venta directa (Vendedores),Venta por internet,Canales de empresa madre (Filial),Oficinas comerciales propias',\n",
       "       'Venta directa (Vendedores),Venta por internet,Distribuidores,Canales de empresa madre (Filial),Representante de ventas,Oficinas comerciales propias',\n",
       "       'Venta directa (Vendedores),Venta por internet,Distribuidores,Oficinas comerciales propias,Otro',\n",
       "       'Venta directa (Vendedores),Canales de empresa madre (Filial),Representante de ventas,Oficinas comerciales propias',\n",
       "       'Venta directa (Vendedores),Venta por internet,Canales de empresa madre (Filial),Oficinas comerciales propias,Otro',\n",
       "       'Venta directa (Vendedores),Venta por internet,Canales de empresa madre (Filial),Representante de ventas,Oficinas comerciales propias',\n",
       "       'Venta directa (Vendedores),Venta por internet,Oficinas comerciales propias,Otro',\n",
       "       'Venta directa (Vendedores),Venta por internet,Canales de empresa madre (Filial),Otro',\n",
       "       'Venta directa (Vendedores),Venta por internet,Distribuidores,Canales de empresa madre (Filial),Representante de ventas,Oficinas comerciales propias,Otro',\n",
       "       'Oficinas comerciales propias,Otro',\n",
       "       'Representante de ventas,Oficinas comerciales propias',\n",
       "       'Venta por internet,Distribuidores,Canales de empresa madre (Filial),Representante de ventas',\n",
       "       'Venta por internet,Distribuidores,Representante de ventas,Oficinas comerciales propias',\n",
       "       'Venta por internet,Canales de empresa madre (Filial),Oficinas comerciales propias',\n",
       "       'Venta por internet,Canales de empresa madre (Filial),Representante de ventas',\n",
       "       'Canales de empresa madre (Filial),Representante de ventas,Otro',\n",
       "       'Venta por internet,Distribuidores,Canales de empresa madre (Filial),Oficinas comerciales propias',\n",
       "       'Distribuidores,Representante de ventas,Otro',\n",
       "       'Venta directa (Vendedores),Representante de ventas,Oficinas comerciales propias,Otro',\n",
       "       'Venta directa (Vendedores),Distribuidores,Canales de empresa madre (Filial),Representante de ventas,Oficinas comerciales propias',\n",
       "       'Venta por internet,Canales de empresa madre (Filial),Oficinas comerciales propias,Otro',\n",
       "       'Venta por internet,Distribuidores,Oficinas comerciales propias,Otro',\n",
       "       'Venta directa (Vendedores),Venta por internet,Distribuidores,Representante de ventas,Oficinas comerciales propias,Otro',\n",
       "       'Venta por internet,Representante de ventas,Otro'], dtype=object)"
      ]
     },
     "execution_count": 339,
     "metadata": {},
     "output_type": "execute_result"
    }
   ],
   "source": [
    "df['Canales de venta existentes'].unique()"
   ]
  },
  {
   "cell_type": "code",
   "execution_count": 340,
   "id": "b3c4925f-d796-4ca5-b0f8-7da331d27ae5",
   "metadata": {},
   "outputs": [],
   "source": [
    "# Demasiada información, y no quiero hacer un análisis sobre el tipo de venta o cliente."
   ]
  },
  {
   "cell_type": "code",
   "execution_count": 341,
   "id": "f6361670-cae7-403f-a4a0-5de98b5128d2",
   "metadata": {},
   "outputs": [
    {
     "name": "stdout",
     "output_type": "stream",
     "text": [
      "['Canal adquisición nuevos clientes y/o usuarios', 'Canal adquisición ... - A través de entidades que reúnen a clientes potenciales', 'Canal adquisición ... - Eventos y/o participación en ferias', 'Canal adquisición ... - Marketing de contenidos', 'Canal adquisición ... - Publicidad online pagada', 'Canal adquisición ... - Publicidad offline pagada', 'Canal adquisición ... - Redes sociales', 'Canal adquisición ... - Estrategia de prensa', 'Canal adquisición ... - Otros', 'Canales de venta existentes', 'Canales de venta ... - Venta directa (Vendedores)', 'Canales de venta ... - Venta por internet', 'Canales de venta ... - Distribuidores', 'Canales de venta ... - Canales de empresa madre (Filial)', 'Canales de venta ... - Representante de ventas', 'Canales de venta ... - Oficinas comerciales propias', 'Canales de venta ... - Otro']\n"
     ]
    }
   ],
   "source": [
    "lista_eliminar_2 = []\n",
    "\n",
    "for col in df:\n",
    "    if re.findall(r'Canal adquisición|Canales de venta', col):\n",
    "        lista_eliminar_2.append(col)\n",
    "print(lista_eliminar_2)"
   ]
  },
  {
   "cell_type": "code",
   "execution_count": 342,
   "id": "78855574-70c3-47e9-b8e5-646985e9aacd",
   "metadata": {},
   "outputs": [],
   "source": [
    "df.drop(columns=lista_eliminar_2, inplace=True)"
   ]
  },
  {
   "cell_type": "code",
   "execution_count": 343,
   "id": "70353800-0aa6-40dd-a08c-d20622027182",
   "metadata": {},
   "outputs": [
    {
     "data": {
      "text/plain": [
       "Index(['Año de aprobación', 'Programa', 'Sector económico',\n",
       "       'Tipo de persona beneficiada', 'País procedencia emprendimiento',\n",
       "       'Region procedencia emprendimiento', 'Región',\n",
       "       'Monto financiamiento aprobado', 'Número de integrantes',\n",
       "       'Género del integrante 1 del equipo',\n",
       "       'Nacionalidad integrante 1 del equipo', 'Rol integrante 1',\n",
       "       'Área educación superior integrante 1',\n",
       "       'Experiencia laboral integrante 1',\n",
       "       'Emprendimientos previos del integrante 1',\n",
       "       'Género del integrante 2 del equipo',\n",
       "       'Nacionalidad integrante 2 del equipo', 'Rol integrante 2',\n",
       "       'Área educación superior integrante 2',\n",
       "       'Experiencia laboral integrante 2',\n",
       "       'Emprendimientos previos del integrante 2',\n",
       "       'Género del integrante 3 del equipo',\n",
       "       'Nacionalidad integrante 3 del equipo', 'Rol integrante 3',\n",
       "       'Área educación superior integrante 3', 'Género del equipo',\n",
       "       'Alcance del proyecto', 'Tipo de producto', 'Grado de innovación',\n",
       "       'Tipo de clientes', 'Mentor o consultor',\n",
       "       'Protección del producto o servicio a través de la obtención de patentes',\n",
       "       'Etapa de desarrollo del proyecto',\n",
       "       'Impacto COVID-19 en que el emprendimiento no esté operativo 2020',\n",
       "       'Impacto Estallido Social en que el emprendimiento no esté operativo 2020',\n",
       "       'Impacto COVID-19 en las ventas del emprendimiento 2020'],\n",
       "      dtype='object')"
      ]
     },
     "execution_count": 343,
     "metadata": {},
     "output_type": "execute_result"
    }
   ],
   "source": [
    "df.columns"
   ]
  },
  {
   "cell_type": "code",
   "execution_count": 344,
   "id": "6d1efde2-a515-451a-886e-715d8712c5d4",
   "metadata": {},
   "outputs": [],
   "source": [
    "# Ahora con un número de columnas razonable con la info que me interesa, comenzaré el análisis."
   ]
  },
  {
   "cell_type": "code",
   "execution_count": 352,
   "id": "9559ac05-d063-4284-a80d-89b1354e1b1c",
   "metadata": {},
   "outputs": [
    {
     "data": {
      "text/plain": [
       "Index(['Año de aprobación', 'Programa', 'Sector económico',\n",
       "       'Tipo de persona beneficiada', 'País procedencia emprendimiento',\n",
       "       'Region procedencia emprendimiento', 'Región',\n",
       "       'Monto financiamiento aprobado', 'Número de integrantes',\n",
       "       'Género del integrante 1 del equipo',\n",
       "       'Nacionalidad integrante 1 del equipo', 'Rol integrante 1',\n",
       "       'Área educación superior integrante 1',\n",
       "       'Experiencia laboral integrante 1',\n",
       "       'Emprendimientos previos del integrante 1',\n",
       "       'Género del integrante 2 del equipo',\n",
       "       'Nacionalidad integrante 2 del equipo', 'Rol integrante 2',\n",
       "       'Área educación superior integrante 2',\n",
       "       'Experiencia laboral integrante 2',\n",
       "       'Emprendimientos previos del integrante 2',\n",
       "       'Género del integrante 3 del equipo',\n",
       "       'Nacionalidad integrante 3 del equipo', 'Rol integrante 3',\n",
       "       'Área educación superior integrante 3', 'Género del equipo',\n",
       "       'Alcance del proyecto', 'Tipo de producto', 'Grado de innovación',\n",
       "       'Tipo de clientes', 'Mentor o consultor',\n",
       "       'Protección del producto o servicio a través de la obtención de patentes',\n",
       "       'Etapa de desarrollo del proyecto',\n",
       "       'Impacto COVID-19 en que el emprendimiento no esté operativo 2020',\n",
       "       'Impacto Estallido Social en que el emprendimiento no esté operativo 2020',\n",
       "       'Impacto COVID-19 en las ventas del emprendimiento 2020'],\n",
       "      dtype='object')"
      ]
     },
     "execution_count": 352,
     "metadata": {},
     "output_type": "execute_result"
    }
   ],
   "source": [
    "df.columns"
   ]
  },
  {
   "cell_type": "code",
   "execution_count": 353,
   "id": "9db89b26-b106-4385-a61d-79b6c58f0934",
   "metadata": {},
   "outputs": [
    {
     "data": {
      "text/plain": [
       "Persona natural     4044\n",
       "Persona jurídica    3202\n",
       "Name: Tipo de persona beneficiada, dtype: int64"
      ]
     },
     "execution_count": 353,
     "metadata": {},
     "output_type": "execute_result"
    }
   ],
   "source": [
    "df['Tipo de persona beneficiada'].value_counts()"
   ]
  },
  {
   "cell_type": "code",
   "execution_count": 354,
   "id": "3bd17d15-a6dc-42ff-b914-2fe58e790a98",
   "metadata": {},
   "outputs": [
    {
     "data": {
      "text/plain": [
       "Sólo hombres                       4350\n",
       "Al menos una mujer en el equipo    2879\n",
       "Name: Género del equipo, dtype: int64"
      ]
     },
     "execution_count": 354,
     "metadata": {},
     "output_type": "execute_result"
    }
   ],
   "source": [
    "df['Género del equipo'].value_counts()"
   ]
  },
  {
   "cell_type": "code",
   "execution_count": 356,
   "id": "9f9586f6-e636-4a29-8b49-c8d9851042c8",
   "metadata": {},
   "outputs": [
    {
     "data": {
      "text/plain": [
       "Año de aprobación  Género del equipo              \n",
       "2001               Sólo hombres                         8\n",
       "                   Al menos una mujer en el equipo      1\n",
       "2002               Sólo hombres                        14\n",
       "                   Al menos una mujer en el equipo      3\n",
       "2003               Sólo hombres                        26\n",
       "                   Al menos una mujer en el equipo      2\n",
       "2004               Sólo hombres                        17\n",
       "                   Al menos una mujer en el equipo      3\n",
       "2005               Sólo hombres                        28\n",
       "                   Al menos una mujer en el equipo     10\n",
       "2006               Sólo hombres                       193\n",
       "                   Al menos una mujer en el equipo     53\n",
       "2007               Sólo hombres                       109\n",
       "                   Al menos una mujer en el equipo     41\n",
       "2008               Sólo hombres                       110\n",
       "                   Al menos una mujer en el equipo     44\n",
       "2009               Sólo hombres                       102\n",
       "                   Al menos una mujer en el equipo     49\n",
       "2010               Sólo hombres                       124\n",
       "                   Al menos una mujer en el equipo     56\n",
       "2011               Sólo hombres                       277\n",
       "                   Al menos una mujer en el equipo    107\n",
       "2012               Sólo hombres                       280\n",
       "                   Al menos una mujer en el equipo    155\n",
       "2013               Sólo hombres                       312\n",
       "                   Al menos una mujer en el equipo    195\n",
       "2014               Sólo hombres                       424\n",
       "                   Al menos una mujer en el equipo    238\n",
       "2015               Sólo hombres                       460\n",
       "                   Al menos una mujer en el equipo    311\n",
       "2016               Sólo hombres                       461\n",
       "                   Al menos una mujer en el equipo    447\n",
       "2017               Sólo hombres                       431\n",
       "                   Al menos una mujer en el equipo    357\n",
       "2018               Sólo hombres                       360\n",
       "                   Al menos una mujer en el equipo    348\n",
       "2019               Sólo hombres                       405\n",
       "                   Al menos una mujer en el equipo    311\n",
       "2020               Sólo hombres                       209\n",
       "                   Al menos una mujer en el equipo    148\n",
       "Name: Género del equipo, dtype: int64"
      ]
     },
     "execution_count": 356,
     "metadata": {},
     "output_type": "execute_result"
    }
   ],
   "source": [
    "df.groupby('Año de aprobación')['Género del equipo'].value_counts()"
   ]
  },
  {
   "cell_type": "code",
   "execution_count": 355,
   "id": "72170f40-35f3-4637-8633-9919e4a777f1",
   "metadata": {},
   "outputs": [
    {
     "data": {
      "text/plain": [
       "Global           3639\n",
       "Nacional         1446\n",
       "Latinoamérica    1083\n",
       "Regional          306\n",
       "nacional            1\n",
       "Global              1\n",
       "Name: Alcance del proyecto, dtype: int64"
      ]
     },
     "execution_count": 355,
     "metadata": {},
     "output_type": "execute_result"
    }
   ],
   "source": [
    "df['Alcance del proyecto'].value_counts()"
   ]
  },
  {
   "cell_type": "code",
   "execution_count": 357,
   "id": "f87a5a94-cef6-40c5-90b3-e28118939cc3",
   "metadata": {},
   "outputs": [
    {
     "data": {
      "text/plain": [
       "Software           2484\n",
       "Servicio           2015\n",
       "Producto físico    1492\n",
       "Hardware            580\n",
       "Producto Físico       2\n",
       "Name: Tipo de producto, dtype: int64"
      ]
     },
     "execution_count": 357,
     "metadata": {},
     "output_type": "execute_result"
    }
   ],
   "source": [
    "df['Tipo de producto'].value_counts()"
   ]
  },
  {
   "cell_type": "code",
   "execution_count": 351,
   "id": "73915dbe-3dc9-4cfb-8867-99c31efd5e1f",
   "metadata": {},
   "outputs": [
    {
     "data": {
      "text/plain": [
       "array(['Región Metropolitana', 'Región del Biobío',\n",
       "       'Región de Valparaíso',\n",
       "       \"Región del Libertador General Bernardo O'Higgins\",\n",
       "       'Región de Magallanes y Antártica Chilena', 'Región de Tarapacá',\n",
       "       'Región de Antofagasta',\n",
       "       'Región de Aysén del General Carlos Ibáñez del Campo',\n",
       "       'Región de los Lagos', 'Región de la Araucanía',\n",
       "       'Región de Coquimbo', 'Región del Maule', 'Región de Atacama',\n",
       "       'Región de los Ríos', 'Región de Arica y Parinacota',\n",
       "       'Región de Ñuble'], dtype=object)"
      ]
     },
     "execution_count": 351,
     "metadata": {},
     "output_type": "execute_result"
    }
   ],
   "source": [
    "df['Región'].unique()"
   ]
  },
  {
   "cell_type": "code",
   "execution_count": 368,
   "id": "44913a4e-0c87-404c-9c7d-538ec876af3a",
   "metadata": {},
   "outputs": [],
   "source": [
    "df['Zona'] = np.where((df['Región']=='Región Metropolitana')|(df['Región']=='Región de Valparaíso')|(df['Región']==\"Región del Libertador General Bernardo O'Higgins\")|(df['Región']=='Región del Maule')|(df['Región']=='Región de Ñuble'),'Zona Central',\n",
    "                      np.where((df['Región']=='Región de Arica y Parinacota')|(df['Región']=='Región de Tarapacá')|(df['Región']=='Región de Antofagasta'),'Norte Grande',\n",
    "                               np.where((df['Región']=='Región de Atacama')|(df['Región']=='Región de Coquimbo'),'Norte Chico',\n",
    "                                        np.where((df['Región']=='Región del Biobío')|(df['Región']=='Región de la Araucanía')|(df['Región']=='Región de los Ríos'),'Zona Sur','Zona Austral'))))"
   ]
  },
  {
   "cell_type": "code",
   "execution_count": 369,
   "id": "66bd78f2-b24a-4f15-ad75-5ccfbecca8ec",
   "metadata": {},
   "outputs": [
    {
     "data": {
      "text/plain": [
       "Zona Central    5534\n",
       "Zona Sur         725\n",
       "Zona Austral     481\n",
       "Norte Grande     282\n",
       "Norte Chico      224\n",
       "Name: Zona, dtype: int64"
      ]
     },
     "execution_count": 369,
     "metadata": {},
     "output_type": "execute_result"
    }
   ],
   "source": [
    "df['Zona'].value_counts()"
   ]
  },
  {
   "cell_type": "code",
   "execution_count": 370,
   "id": "8638a517-68b8-4dcc-bcca-0c0721d7f8e6",
   "metadata": {},
   "outputs": [
    {
     "data": {
      "text/plain": [
       "Index(['Año de aprobación', 'Programa', 'Sector económico',\n",
       "       'Tipo de persona beneficiada', 'País procedencia emprendimiento',\n",
       "       'Region procedencia emprendimiento', 'Región',\n",
       "       'Monto financiamiento aprobado', 'Número de integrantes',\n",
       "       'Género del integrante 1 del equipo',\n",
       "       'Nacionalidad integrante 1 del equipo', 'Rol integrante 1',\n",
       "       'Área educación superior integrante 1',\n",
       "       'Experiencia laboral integrante 1',\n",
       "       'Emprendimientos previos del integrante 1',\n",
       "       'Género del integrante 2 del equipo',\n",
       "       'Nacionalidad integrante 2 del equipo', 'Rol integrante 2',\n",
       "       'Área educación superior integrante 2',\n",
       "       'Experiencia laboral integrante 2',\n",
       "       'Emprendimientos previos del integrante 2',\n",
       "       'Género del integrante 3 del equipo',\n",
       "       'Nacionalidad integrante 3 del equipo', 'Rol integrante 3',\n",
       "       'Área educación superior integrante 3', 'Género del equipo',\n",
       "       'Alcance del proyecto', 'Tipo de producto', 'Grado de innovación',\n",
       "       'Tipo de clientes', 'Mentor o consultor',\n",
       "       'Protección del producto o servicio a través de la obtención de patentes',\n",
       "       'Etapa de desarrollo del proyecto',\n",
       "       'Impacto COVID-19 en que el emprendimiento no esté operativo 2020',\n",
       "       'Impacto Estallido Social en que el emprendimiento no esté operativo 2020',\n",
       "       'Impacto COVID-19 en las ventas del emprendimiento 2020', 'Zona'],\n",
       "      dtype='object')"
      ]
     },
     "execution_count": 370,
     "metadata": {},
     "output_type": "execute_result"
    }
   ],
   "source": [
    "df.columns"
   ]
  },
  {
   "cell_type": "code",
   "execution_count": 373,
   "id": "a0f11e5e-530e-4068-a64a-6b7a6471ef1e",
   "metadata": {},
   "outputs": [
    {
     "data": {
      "text/html": [
       "<div>\n",
       "<style scoped>\n",
       "    .dataframe tbody tr th:only-of-type {\n",
       "        vertical-align: middle;\n",
       "    }\n",
       "\n",
       "    .dataframe tbody tr th {\n",
       "        vertical-align: top;\n",
       "    }\n",
       "\n",
       "    .dataframe thead th {\n",
       "        text-align: right;\n",
       "    }\n",
       "</style>\n",
       "<table border=\"1\" class=\"dataframe\">\n",
       "  <thead>\n",
       "    <tr style=\"text-align: right;\">\n",
       "      <th></th>\n",
       "      <th>Año de aprobación</th>\n",
       "      <th>Programa</th>\n",
       "      <th>Sector económico</th>\n",
       "      <th>Tipo de persona beneficiada</th>\n",
       "      <th>País procedencia emprendimiento</th>\n",
       "      <th>Region procedencia emprendimiento</th>\n",
       "      <th>Región</th>\n",
       "      <th>Monto financiamiento aprobado</th>\n",
       "      <th>Número de integrantes</th>\n",
       "      <th>Género del integrante 1 del equipo</th>\n",
       "      <th>...</th>\n",
       "      <th>Tipo de producto</th>\n",
       "      <th>Grado de innovación</th>\n",
       "      <th>Tipo de clientes</th>\n",
       "      <th>Mentor o consultor</th>\n",
       "      <th>Protección del producto o servicio a través de la obtención de patentes</th>\n",
       "      <th>Etapa de desarrollo del proyecto</th>\n",
       "      <th>Impacto COVID-19 en que el emprendimiento no esté operativo 2020</th>\n",
       "      <th>Impacto Estallido Social en que el emprendimiento no esté operativo 2020</th>\n",
       "      <th>Impacto COVID-19 en las ventas del emprendimiento 2020</th>\n",
       "      <th>Zona</th>\n",
       "    </tr>\n",
       "  </thead>\n",
       "  <tbody>\n",
       "    <tr>\n",
       "      <th>0</th>\n",
       "      <td>2001</td>\n",
       "      <td>Capital Semilla</td>\n",
       "      <td>No definido</td>\n",
       "      <td>Persona jurídica</td>\n",
       "      <td>Chile</td>\n",
       "      <td>Región Metropolitana</td>\n",
       "      <td>Región Metropolitana</td>\n",
       "      <td>35000000.0</td>\n",
       "      <td>1.0</td>\n",
       "      <td>Hombre</td>\n",
       "      <td>...</td>\n",
       "      <td>NaN</td>\n",
       "      <td>NaN</td>\n",
       "      <td>NaN</td>\n",
       "      <td>NaN</td>\n",
       "      <td>NaN</td>\n",
       "      <td>NaN</td>\n",
       "      <td>NaN</td>\n",
       "      <td>NaN</td>\n",
       "      <td>NaN</td>\n",
       "      <td>Zona Central</td>\n",
       "    </tr>\n",
       "    <tr>\n",
       "      <th>1</th>\n",
       "      <td>2001</td>\n",
       "      <td>Capital Semilla</td>\n",
       "      <td>No definido</td>\n",
       "      <td>Persona jurídica</td>\n",
       "      <td>Chile</td>\n",
       "      <td>Región Metropolitana</td>\n",
       "      <td>Región Metropolitana</td>\n",
       "      <td>33000000.0</td>\n",
       "      <td>1.0</td>\n",
       "      <td>Hombre</td>\n",
       "      <td>...</td>\n",
       "      <td>NaN</td>\n",
       "      <td>NaN</td>\n",
       "      <td>NaN</td>\n",
       "      <td>NaN</td>\n",
       "      <td>NaN</td>\n",
       "      <td>NaN</td>\n",
       "      <td>NaN</td>\n",
       "      <td>NaN</td>\n",
       "      <td>NaN</td>\n",
       "      <td>Zona Central</td>\n",
       "    </tr>\n",
       "    <tr>\n",
       "      <th>2</th>\n",
       "      <td>2001</td>\n",
       "      <td>Capital Semilla</td>\n",
       "      <td>No definido</td>\n",
       "      <td>Persona jurídica</td>\n",
       "      <td>Chile</td>\n",
       "      <td>Región Metropolitana</td>\n",
       "      <td>Región Metropolitana</td>\n",
       "      <td>35000000.0</td>\n",
       "      <td>1.0</td>\n",
       "      <td>Hombre</td>\n",
       "      <td>...</td>\n",
       "      <td>NaN</td>\n",
       "      <td>NaN</td>\n",
       "      <td>NaN</td>\n",
       "      <td>NaN</td>\n",
       "      <td>NaN</td>\n",
       "      <td>NaN</td>\n",
       "      <td>NaN</td>\n",
       "      <td>NaN</td>\n",
       "      <td>NaN</td>\n",
       "      <td>Zona Central</td>\n",
       "    </tr>\n",
       "    <tr>\n",
       "      <th>3</th>\n",
       "      <td>2001</td>\n",
       "      <td>Capital Semilla</td>\n",
       "      <td>No definido</td>\n",
       "      <td>Persona jurídica</td>\n",
       "      <td>Chile</td>\n",
       "      <td>Región Metropolitana</td>\n",
       "      <td>Región Metropolitana</td>\n",
       "      <td>35000000.0</td>\n",
       "      <td>1.0</td>\n",
       "      <td>Hombre</td>\n",
       "      <td>...</td>\n",
       "      <td>NaN</td>\n",
       "      <td>NaN</td>\n",
       "      <td>NaN</td>\n",
       "      <td>NaN</td>\n",
       "      <td>NaN</td>\n",
       "      <td>NaN</td>\n",
       "      <td>NaN</td>\n",
       "      <td>NaN</td>\n",
       "      <td>NaN</td>\n",
       "      <td>Zona Central</td>\n",
       "    </tr>\n",
       "    <tr>\n",
       "      <th>4</th>\n",
       "      <td>2001</td>\n",
       "      <td>Capital Semilla</td>\n",
       "      <td>No definido</td>\n",
       "      <td>Persona jurídica</td>\n",
       "      <td>Chile</td>\n",
       "      <td>Región Metropolitana</td>\n",
       "      <td>Región Metropolitana</td>\n",
       "      <td>8500000.0</td>\n",
       "      <td>1.0</td>\n",
       "      <td>Hombre</td>\n",
       "      <td>...</td>\n",
       "      <td>NaN</td>\n",
       "      <td>NaN</td>\n",
       "      <td>NaN</td>\n",
       "      <td>NaN</td>\n",
       "      <td>NaN</td>\n",
       "      <td>NaN</td>\n",
       "      <td>NaN</td>\n",
       "      <td>NaN</td>\n",
       "      <td>NaN</td>\n",
       "      <td>Zona Central</td>\n",
       "    </tr>\n",
       "  </tbody>\n",
       "</table>\n",
       "<p>5 rows × 37 columns</p>\n",
       "</div>"
      ],
      "text/plain": [
       "   Año de aprobación         Programa Sector económico  \\\n",
       "0               2001  Capital Semilla      No definido   \n",
       "1               2001  Capital Semilla      No definido   \n",
       "2               2001  Capital Semilla      No definido   \n",
       "3               2001  Capital Semilla      No definido   \n",
       "4               2001  Capital Semilla      No definido   \n",
       "\n",
       "  Tipo de persona beneficiada País procedencia emprendimiento  \\\n",
       "0            Persona jurídica                           Chile   \n",
       "1            Persona jurídica                           Chile   \n",
       "2            Persona jurídica                           Chile   \n",
       "3            Persona jurídica                           Chile   \n",
       "4            Persona jurídica                           Chile   \n",
       "\n",
       "  Region procedencia emprendimiento                Región  \\\n",
       "0              Región Metropolitana  Región Metropolitana   \n",
       "1              Región Metropolitana  Región Metropolitana   \n",
       "2              Región Metropolitana  Región Metropolitana   \n",
       "3              Región Metropolitana  Región Metropolitana   \n",
       "4              Región Metropolitana  Región Metropolitana   \n",
       "\n",
       "   Monto financiamiento aprobado  Número de integrantes  \\\n",
       "0                     35000000.0                    1.0   \n",
       "1                     33000000.0                    1.0   \n",
       "2                     35000000.0                    1.0   \n",
       "3                     35000000.0                    1.0   \n",
       "4                      8500000.0                    1.0   \n",
       "\n",
       "  Género del integrante 1 del equipo  ... Tipo de producto  \\\n",
       "0                             Hombre  ...              NaN   \n",
       "1                             Hombre  ...              NaN   \n",
       "2                             Hombre  ...              NaN   \n",
       "3                             Hombre  ...              NaN   \n",
       "4                             Hombre  ...              NaN   \n",
       "\n",
       "  Grado de innovación Tipo de clientes  Mentor o consultor  \\\n",
       "0                 NaN              NaN                 NaN   \n",
       "1                 NaN              NaN                 NaN   \n",
       "2                 NaN              NaN                 NaN   \n",
       "3                 NaN              NaN                 NaN   \n",
       "4                 NaN              NaN                 NaN   \n",
       "\n",
       "   Protección del producto o servicio a través de la obtención de patentes  \\\n",
       "0                                                NaN                         \n",
       "1                                                NaN                         \n",
       "2                                                NaN                         \n",
       "3                                                NaN                         \n",
       "4                                                NaN                         \n",
       "\n",
       "  Etapa de desarrollo del proyecto  \\\n",
       "0                              NaN   \n",
       "1                              NaN   \n",
       "2                              NaN   \n",
       "3                              NaN   \n",
       "4                              NaN   \n",
       "\n",
       "  Impacto COVID-19 en que el emprendimiento no esté operativo 2020  \\\n",
       "0                                                NaN                 \n",
       "1                                                NaN                 \n",
       "2                                                NaN                 \n",
       "3                                                NaN                 \n",
       "4                                                NaN                 \n",
       "\n",
       "  Impacto Estallido Social en que el emprendimiento no esté operativo 2020  \\\n",
       "0                                                NaN                         \n",
       "1                                                NaN                         \n",
       "2                                                NaN                         \n",
       "3                                                NaN                         \n",
       "4                                                NaN                         \n",
       "\n",
       "  Impacto COVID-19 en las ventas del emprendimiento 2020          Zona  \n",
       "0                                                NaN      Zona Central  \n",
       "1                                                NaN      Zona Central  \n",
       "2                                                NaN      Zona Central  \n",
       "3                                                NaN      Zona Central  \n",
       "4                                                NaN      Zona Central  \n",
       "\n",
       "[5 rows x 37 columns]"
      ]
     },
     "execution_count": 373,
     "metadata": {},
     "output_type": "execute_result"
    }
   ],
   "source": [
    "df.head()"
   ]
  },
  {
   "cell_type": "code",
   "execution_count": 374,
   "id": "346793b5-5f31-40a9-989f-ac54f32e0cc9",
   "metadata": {},
   "outputs": [
    {
     "data": {
      "text/plain": [
       "array(['Capital Semilla', 'Perfiles Capital Semilla', 'Start-Up Chile',\n",
       "       'SSAF Innovación', 'SSAF Desarrollo',\n",
       "       'Programa Regional de Apoyo al Emprendimiento',\n",
       "       'Semilla Expansión', 'SSAF Desafío', 'SSAF Social',\n",
       "       'Start-Up Chile-Scale', 'The S Factory', 'SSAF Escalamiento',\n",
       "       'Scale Up - Expansión', 'Escalamiento', 'Semilla Expande',\n",
       "       'Semilla Inicia',\n",
       "       'Escalamiento en la Producción de Ventiladores Mecánicos'],\n",
       "      dtype=object)"
      ]
     },
     "execution_count": 374,
     "metadata": {},
     "output_type": "execute_result"
    }
   ],
   "source": [
    "df['Programa'].unique()"
   ]
  },
  {
   "cell_type": "code",
   "execution_count": null,
   "id": "24a5bf0e-7554-48a0-ba6b-802d4e99901b",
   "metadata": {},
   "outputs": [],
   "source": [
    "# % participación y cuánto $ se otorga."
   ]
  },
  {
   "cell_type": "code",
   "execution_count": null,
   "id": "800df829-0b13-4553-87bc-623362732500",
   "metadata": {},
   "outputs": [],
   "source": [
    "# por qué entregan tanto capital."
   ]
  },
  {
   "cell_type": "code",
   "execution_count": null,
   "id": "d16c264c-a65b-4601-8743-4f9bdf49a90e",
   "metadata": {},
   "outputs": [],
   "source": [
    "# relación req. capital."
   ]
  },
  {
   "cell_type": "code",
   "execution_count": null,
   "id": "f1eb5fda-bcf8-4369-a49f-91cd3d7c7d85",
   "metadata": {},
   "outputs": [],
   "source": []
  },
  {
   "cell_type": "code",
   "execution_count": null,
   "id": "ac4e7f70-3de1-4c24-b866-a4ec62d686be",
   "metadata": {},
   "outputs": [],
   "source": []
  },
  {
   "cell_type": "code",
   "execution_count": 372,
   "id": "f7156ca1-afd7-476f-a0e5-785690c0d758",
   "metadata": {},
   "outputs": [],
   "source": [
    "df.to_excel(\"base_modificada_final.xlsx\")"
   ]
  }
 ],
 "metadata": {
  "kernelspec": {
   "display_name": "Python 3 (ipykernel)",
   "language": "python",
   "name": "python3"
  },
  "language_info": {
   "codemirror_mode": {
    "name": "ipython",
    "version": 3
   },
   "file_extension": ".py",
   "mimetype": "text/x-python",
   "name": "python",
   "nbconvert_exporter": "python",
   "pygments_lexer": "ipython3",
   "version": "3.9.7"
  }
 },
 "nbformat": 4,
 "nbformat_minor": 5
}
