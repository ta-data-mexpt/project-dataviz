{
 "cells": [
  {
   "cell_type": "markdown",
   "metadata": {
    "id": "ubo0QQ_76lHX"
   },
   "source": [
    "#TOP 1000 IMBD"
   ]
  },
  {
   "cell_type": "markdown",
   "metadata": {
    "id": "pcao7wMDrL8d"
   },
   "source": [
    "##Liberías "
   ]
  },
  {
   "cell_type": "code",
   "execution_count": null,
   "metadata": {
    "id": "NmdvWVT8q1Ur"
   },
   "outputs": [],
   "source": [
    "import pandas as pd\n",
    "import numpy as np"
   ]
  },
  {
   "cell_type": "code",
   "execution_count": null,
   "metadata": {
    "id": "6ARzt-uIq6J-"
   },
   "outputs": [],
   "source": [
    "from bs4 import BeautifulSoup\n",
    "import requests\n",
    "from time import sleep\n",
    "from random import randint"
   ]
  },
  {
   "cell_type": "code",
   "execution_count": null,
   "metadata": {
    "id": "0JglZMAbuwRW"
   },
   "outputs": [],
   "source": [
    "import sys"
   ]
  },
  {
   "cell_type": "markdown",
   "metadata": {
    "id": "olwudiMEriNh"
   },
   "source": [
    "##Web Scrappint"
   ]
  },
  {
   "cell_type": "code",
   "execution_count": null,
   "metadata": {
    "id": "syWkVuI-1HSv"
   },
   "outputs": [],
   "source": [
    "headers = {'Accept-Language': 'en-US, en; q=0.5'}"
   ]
  },
  {
   "cell_type": "code",
   "execution_count": null,
   "metadata": {
    "id": "ZwOS_yM21WlA"
   },
   "outputs": [],
   "source": [
    "movie_name = []\n",
    "year = []\n",
    "time = []\n",
    "certificate = []\n",
    "rating = []\n",
    "metascore = []\n",
    "votes = []\n",
    "gross = []\n",
    "genre = [] \n",
    "description = []"
   ]
  },
  {
   "cell_type": "code",
   "execution_count": null,
   "metadata": {
    "id": "7mK_a9-p1cRl"
   },
   "outputs": [],
   "source": [
    "pages = np.arange (1, 1000, 100)"
   ]
  },
  {
   "cell_type": "code",
   "execution_count": null,
   "metadata": {
    "id": "XfOCjRr_2IGX"
   },
   "outputs": [],
   "source": [
    "for page in pages: \n",
    "  page = requests.get ('https://www.imdb.com/search/title/?groups=top_1000&sort=user_rating,desc&count=100&start='+str(page)+'&ref_=adv_nxt')\n",
    "  soup = BeautifulSoup(page.text, 'html.parser')\n",
    "  movie_data = soup.findAll ('div', attrs = {'class': 'lister-item mode-advanced'})\n",
    "  sleep (randint(2,8))\n",
    "  for i in movie_data: \n",
    "    name = i.h3.a.text\n",
    "    movie_name.append(name)\n",
    "    \n",
    "    year_of_release = i.h3.find('span', class_ = 'lister-item-year text-muted unbold').text.replace('(', '').replace(')', '')\n",
    "    year.append(year_of_release)\n",
    "    \n",
    "    runtime = i.p.find('span', class_ = 'runtime').text.replace(' min', '')\n",
    "    time.append(runtime)\n",
    "    \n",
    "    certi = i.p.find('span', class_ = 'certificate').text if i.find('span', class_ = 'certificate') else '**'\n",
    "    certificate.append(certi)\n",
    "    \n",
    "    descrip = i.find_all('p', class_ = 'text-muted')\n",
    "    descrip_= descrip[1].text.replace('\\n', '') if len(descrip) > 1 else '***'\n",
    "    description.append(descrip_)\n",
    "    \n",
    "    rate = i.find('div', class_ = 'inline-block ratings-imdb-rating').text.replace('\\n', '')\n",
    "    rating.append(rate)\n",
    "    \n",
    "    meta  = i.find('span', class_ = 'metascore').text.replace(' ', '') if i.find('span', class_ = 'metascore') else '**'\n",
    "    metascore.append(meta)\n",
    "    \n",
    "    gen  = i.find('span', class_ = 'genre').text.replace('\\n', '') if i.find('span', class_ = 'genre') else '**'\n",
    "    genre.append(gen)\n",
    "\n",
    "    value = i.find_all('span', attrs = {'name': 'nv'})\n",
    "    \n",
    "    vote = value[0].text\n",
    "    votes.append(vote)\n",
    "    \n",
    "    grosses = value[1].text if len(value) >1 else '*****'\n",
    "    gross.append(grosses)"
   ]
  },
  {
   "cell_type": "code",
   "execution_count": null,
   "metadata": {
    "colab": {
     "base_uri": "https://localhost:8080/"
    },
    "id": "BNnib3HJ48ct",
    "outputId": "e91e1d56-261b-4658-ed20-538af75ca6c9"
   },
   "outputs": [
    {
     "name": "stdout",
     "output_type": "stream",
     "text": [
      "1000\n",
      "1000\n",
      "1000\n",
      "1000\n",
      "1000\n",
      "1000\n",
      "1000\n",
      "1000\n",
      "1000\n"
     ]
    }
   ],
   "source": [
    "print(len(movie_name))\n",
    "print(len(year))\n",
    "print(len(time))\n",
    "print(len(certificate))\n",
    "print(len(rating))\n",
    "print(len(metascore))\n",
    "print(len(votes))\n",
    "print(len(gross))\n",
    "print(len(genre))\n"
   ]
  },
  {
   "cell_type": "markdown",
   "metadata": {
    "id": "kU4JHhjLrnqb"
   },
   "source": [
    "#Creación DF"
   ]
  },
  {
   "cell_type": "code",
   "execution_count": null,
   "metadata": {
    "id": "_cUgh4pQr8ZT"
   },
   "outputs": [],
   "source": [
    "top1000imbd = pd.DataFrame({'Name of movie': movie_name, 'Year of relase': year, 'Runtime': time, 'Movie Rating': rating, 'Metascore': metascore, 'Genre':genre,'Votes': votes, 'Gross collection': gross, 'Certificate':certificate, 'Synopsis':description})"
   ]
  },
  {
   "cell_type": "code",
   "execution_count": null,
   "metadata": {
    "colab": {
     "base_uri": "https://localhost:8080/",
     "height": 235
    },
    "id": "oA9ueQ-9r-IL",
    "outputId": "1d878146-fad5-4c90-c8d1-93303efc8487"
   },
   "outputs": [
    {
     "data": {
      "text/html": [
       "<div>\n",
       "<style scoped>\n",
       "    .dataframe tbody tr th:only-of-type {\n",
       "        vertical-align: middle;\n",
       "    }\n",
       "\n",
       "    .dataframe tbody tr th {\n",
       "        vertical-align: top;\n",
       "    }\n",
       "\n",
       "    .dataframe thead th {\n",
       "        text-align: right;\n",
       "    }\n",
       "</style>\n",
       "<table border=\"1\" class=\"dataframe\">\n",
       "  <thead>\n",
       "    <tr style=\"text-align: right;\">\n",
       "      <th></th>\n",
       "      <th>Name of movie</th>\n",
       "      <th>Year of relase</th>\n",
       "      <th>Runtime</th>\n",
       "      <th>Movie Rating</th>\n",
       "      <th>Metascore</th>\n",
       "      <th>Genre</th>\n",
       "      <th>Votes</th>\n",
       "      <th>Gross collection</th>\n",
       "      <th>Certificate</th>\n",
       "      <th>Synopsis</th>\n",
       "    </tr>\n",
       "  </thead>\n",
       "  <tbody>\n",
       "    <tr>\n",
       "      <th>0</th>\n",
       "      <td>The Shawshank Redemption</td>\n",
       "      <td>1994</td>\n",
       "      <td>142</td>\n",
       "      <td>9.3</td>\n",
       "      <td>80</td>\n",
       "      <td>Drama</td>\n",
       "      <td>2,403,452</td>\n",
       "      <td>$28.34M</td>\n",
       "      <td>R</td>\n",
       "      <td>Two imprisoned men bond over a number of years...</td>\n",
       "    </tr>\n",
       "    <tr>\n",
       "      <th>1</th>\n",
       "      <td>The Godfather</td>\n",
       "      <td>1972</td>\n",
       "      <td>175</td>\n",
       "      <td>9.2</td>\n",
       "      <td>100</td>\n",
       "      <td>Crime, Drama</td>\n",
       "      <td>1,663,867</td>\n",
       "      <td>$134.97M</td>\n",
       "      <td>R</td>\n",
       "      <td>An organized crime dynasty's aging patriarch t...</td>\n",
       "    </tr>\n",
       "    <tr>\n",
       "      <th>2</th>\n",
       "      <td>Soorarai Pottru</td>\n",
       "      <td>2020</td>\n",
       "      <td>153</td>\n",
       "      <td>9.1</td>\n",
       "      <td>**</td>\n",
       "      <td>Drama</td>\n",
       "      <td>82,180</td>\n",
       "      <td>*****</td>\n",
       "      <td>TV-MA</td>\n",
       "      <td>Nedumaaran Rajangam \"Maara\" sets out to make t...</td>\n",
       "    </tr>\n",
       "    <tr>\n",
       "      <th>3</th>\n",
       "      <td>The Dark Knight</td>\n",
       "      <td>2008</td>\n",
       "      <td>152</td>\n",
       "      <td>9.0</td>\n",
       "      <td>84</td>\n",
       "      <td>Action, Crime, Drama</td>\n",
       "      <td>2,363,656</td>\n",
       "      <td>$534.86M</td>\n",
       "      <td>PG-13</td>\n",
       "      <td>When the menace known as the Joker wreaks havo...</td>\n",
       "    </tr>\n",
       "    <tr>\n",
       "      <th>4</th>\n",
       "      <td>The Godfather: Part II</td>\n",
       "      <td>1974</td>\n",
       "      <td>202</td>\n",
       "      <td>9.0</td>\n",
       "      <td>90</td>\n",
       "      <td>Crime, Drama</td>\n",
       "      <td>1,156,297</td>\n",
       "      <td>$57.30M</td>\n",
       "      <td>R</td>\n",
       "      <td>The early life and career of Vito Corleone in ...</td>\n",
       "    </tr>\n",
       "    <tr>\n",
       "      <th>5</th>\n",
       "      <td>12 Angry Men</td>\n",
       "      <td>1957</td>\n",
       "      <td>96</td>\n",
       "      <td>9.0</td>\n",
       "      <td>96</td>\n",
       "      <td>Crime, Drama</td>\n",
       "      <td>708,493</td>\n",
       "      <td>$4.36M</td>\n",
       "      <td>Approved</td>\n",
       "      <td>A jury holdout attempts to prevent a miscarria...</td>\n",
       "    </tr>\n",
       "  </tbody>\n",
       "</table>\n",
       "</div>"
      ],
      "text/plain": [
       "              Name of movie  ...                                           Synopsis\n",
       "0  The Shawshank Redemption  ...  Two imprisoned men bond over a number of years...\n",
       "1             The Godfather  ...  An organized crime dynasty's aging patriarch t...\n",
       "2           Soorarai Pottru  ...  Nedumaaran Rajangam \"Maara\" sets out to make t...\n",
       "3           The Dark Knight  ...  When the menace known as the Joker wreaks havo...\n",
       "4    The Godfather: Part II  ...  The early life and career of Vito Corleone in ...\n",
       "5              12 Angry Men  ...  A jury holdout attempts to prevent a miscarria...\n",
       "\n",
       "[6 rows x 10 columns]"
      ]
     },
     "execution_count": 34,
     "metadata": {
      "tags": []
     },
     "output_type": "execute_result"
    }
   ],
   "source": [
    "top1000imbd.head(6)"
   ]
  },
  {
   "cell_type": "code",
   "execution_count": null,
   "metadata": {
    "colab": {
     "base_uri": "https://localhost:8080/"
    },
    "id": "X6xeJWIN51EG",
    "outputId": "74e38b3d-8c3f-4d67-ed02-01021d4f4477"
   },
   "outputs": [
    {
     "name": "stdout",
     "output_type": "stream",
     "text": [
      "<class 'pandas.core.frame.DataFrame'>\n",
      "RangeIndex: 1000 entries, 0 to 999\n",
      "Data columns (total 10 columns):\n",
      " #   Column            Non-Null Count  Dtype \n",
      "---  ------            --------------  ----- \n",
      " 0   Name of movie     1000 non-null   object\n",
      " 1   Year of relase    1000 non-null   object\n",
      " 2   Runtime           1000 non-null   object\n",
      " 3   Movie Rating      1000 non-null   object\n",
      " 4   Metascore         1000 non-null   object\n",
      " 5   Genre             1000 non-null   object\n",
      " 6   Votes             1000 non-null   object\n",
      " 7   Gross collection  1000 non-null   object\n",
      " 8   Certificate       1000 non-null   object\n",
      " 9   Synopsis          1000 non-null   object\n",
      "dtypes: object(10)\n",
      "memory usage: 78.2+ KB\n"
     ]
    }
   ],
   "source": [
    "top1000imbd.info()"
   ]
  },
  {
   "cell_type": "code",
   "execution_count": null,
   "metadata": {
    "colab": {
     "base_uri": "https://localhost:8080/",
     "height": 173
    },
    "id": "TqytV3qg6AKg",
    "outputId": "e06c70a3-4dfe-486f-d554-b417ca7a9e5e"
   },
   "outputs": [
    {
     "data": {
      "text/html": [
       "<div>\n",
       "<style scoped>\n",
       "    .dataframe tbody tr th:only-of-type {\n",
       "        vertical-align: middle;\n",
       "    }\n",
       "\n",
       "    .dataframe tbody tr th {\n",
       "        vertical-align: top;\n",
       "    }\n",
       "\n",
       "    .dataframe thead th {\n",
       "        text-align: right;\n",
       "    }\n",
       "</style>\n",
       "<table border=\"1\" class=\"dataframe\">\n",
       "  <thead>\n",
       "    <tr style=\"text-align: right;\">\n",
       "      <th></th>\n",
       "      <th>Name of movie</th>\n",
       "      <th>Year of relase</th>\n",
       "      <th>Runtime</th>\n",
       "      <th>Movie Rating</th>\n",
       "      <th>Metascore</th>\n",
       "      <th>Genre</th>\n",
       "      <th>Votes</th>\n",
       "      <th>Gross collection</th>\n",
       "      <th>Certificate</th>\n",
       "      <th>Synopsis</th>\n",
       "    </tr>\n",
       "  </thead>\n",
       "  <tbody>\n",
       "    <tr>\n",
       "      <th>count</th>\n",
       "      <td>1000</td>\n",
       "      <td>1000</td>\n",
       "      <td>1000</td>\n",
       "      <td>1000</td>\n",
       "      <td>1000</td>\n",
       "      <td>1000</td>\n",
       "      <td>1000</td>\n",
       "      <td>1000</td>\n",
       "      <td>1000</td>\n",
       "      <td>1000</td>\n",
       "    </tr>\n",
       "    <tr>\n",
       "      <th>unique</th>\n",
       "      <td>997</td>\n",
       "      <td>118</td>\n",
       "      <td>139</td>\n",
       "      <td>18</td>\n",
       "      <td>64</td>\n",
       "      <td>203</td>\n",
       "      <td>997</td>\n",
       "      <td>728</td>\n",
       "      <td>15</td>\n",
       "      <td>1000</td>\n",
       "    </tr>\n",
       "    <tr>\n",
       "      <th>top</th>\n",
       "      <td>Scarface</td>\n",
       "      <td>2004</td>\n",
       "      <td>130</td>\n",
       "      <td>7.7</td>\n",
       "      <td>**</td>\n",
       "      <td>Drama</td>\n",
       "      <td>57,518</td>\n",
       "      <td>*****</td>\n",
       "      <td>R</td>\n",
       "      <td>An exploration of the dark and miserable Basin...</td>\n",
       "    </tr>\n",
       "    <tr>\n",
       "      <th>freq</th>\n",
       "      <td>2</td>\n",
       "      <td>30</td>\n",
       "      <td>23</td>\n",
       "      <td>164</td>\n",
       "      <td>161</td>\n",
       "      <td>89</td>\n",
       "      <td>2</td>\n",
       "      <td>172</td>\n",
       "      <td>376</td>\n",
       "      <td>1</td>\n",
       "    </tr>\n",
       "  </tbody>\n",
       "</table>\n",
       "</div>"
      ],
      "text/plain": [
       "       Name of movie  ...                                           Synopsis\n",
       "count           1000  ...                                               1000\n",
       "unique           997  ...                                               1000\n",
       "top         Scarface  ...  An exploration of the dark and miserable Basin...\n",
       "freq               2  ...                                                  1\n",
       "\n",
       "[4 rows x 10 columns]"
      ]
     },
     "execution_count": 36,
     "metadata": {
      "tags": []
     },
     "output_type": "execute_result"
    }
   ],
   "source": [
    "top1000imbd.describe()"
   ]
  },
  {
   "cell_type": "markdown",
   "metadata": {
    "id": "7VIKIi7Vru2D"
   },
   "source": [
    "#Creación CSV"
   ]
  },
  {
   "cell_type": "code",
   "execution_count": null,
   "metadata": {
    "colab": {
     "base_uri": "https://localhost:8080/"
    },
    "id": "Qu13oZyBE0dS",
    "outputId": "8086b07d-7470-4491-ba45-55bfb2851abb"
   },
   "outputs": [
    {
     "name": "stdout",
     "output_type": "stream",
     "text": [
      "Drive already mounted at /content/drive; to attempt to forcibly remount, call drive.mount(\"/content/drive\", force_remount=True).\n"
     ]
    }
   ],
   "source": [
    "from google.colab import drive\n",
    "drive.mount('/content/drive')"
   ]
  },
  {
   "cell_type": "code",
   "execution_count": null,
   "metadata": {
    "colab": {
     "base_uri": "https://localhost:8080/"
    },
    "id": "66_BKNOyJrSt",
    "outputId": "663ed834-39d7-40de-fe0d-aefc5f723510"
   },
   "outputs": [
    {
     "name": "stdout",
     "output_type": "stream",
     "text": [
      "\u001b[0m\u001b[01;34mdrive\u001b[0m/  \u001b[01;34msample_data\u001b[0m/\n"
     ]
    }
   ],
   "source": [
    "ls"
   ]
  },
  {
   "cell_type": "code",
   "execution_count": null,
   "metadata": {
    "id": "YbAyKH46Jvde"
   },
   "outputs": [],
   "source": [
    "cd drive/MyDrive/Ironhack"
   ]
  },
  {
   "cell_type": "code",
   "execution_count": null,
   "metadata": {
    "colab": {
     "base_uri": "https://localhost:8080/",
     "height": 35
    },
    "id": "_fu57ssJKCK0",
    "outputId": "4486dac5-6b27-4bc2-f0a7-2393b2286900"
   },
   "outputs": [
    {
     "data": {
      "application/vnd.google.colaboratory.intrinsic+json": {
       "type": "string"
      },
      "text/plain": [
       "'/content/drive/MyDrive/Ironhack'"
      ]
     },
     "execution_count": 74,
     "metadata": {
      "tags": []
     },
     "output_type": "execute_result"
    }
   ],
   "source": [
    "pwd"
   ]
  },
  {
   "cell_type": "code",
   "execution_count": null,
   "metadata": {
    "id": "lOUAusB7J3Zm"
   },
   "outputs": [],
   "source": [
    "top1000imbd.to_csv('top1000imbd.csv')"
   ]
  },
  {
   "cell_type": "markdown",
   "metadata": {
    "id": "0eHdWX51KzNH"
   },
   "source": [
    "----------------------------------------------------------------------\n"
   ]
  },
  {
   "cell_type": "markdown",
   "metadata": {
    "id": "lViVQpzI6tf8"
   },
   "source": [
    "#TOP 1000 GOODREADS"
   ]
  },
  {
   "cell_type": "markdown",
   "metadata": {
    "id": "AlPMxhng8wHQ"
   },
   "source": [
    "### Set de Kaggle"
   ]
  },
  {
   "cell_type": "code",
   "execution_count": null,
   "metadata": {
    "colab": {
     "base_uri": "https://localhost:8080/"
    },
    "id": "xiQXDxv0aMUa",
    "outputId": "114ecf04-811c-44c9-97ca-c0be4c5a787d"
   },
   "outputs": [
    {
     "name": "stdout",
     "output_type": "stream",
     "text": [
      "Drive already mounted at /content/drive; to attempt to forcibly remount, call drive.mount(\"/content/drive\", force_remount=True).\n"
     ]
    }
   ],
   "source": [
    "from google.colab import drive\n",
    "drive.mount ('/content/drive')"
   ]
  },
  {
   "cell_type": "code",
   "execution_count": null,
   "metadata": {
    "colab": {
     "base_uri": "https://localhost:8080/",
     "height": 305
    },
    "id": "yA8kRz_oaSx_",
    "outputId": "95402959-7ade-471b-970f-893b077e729b"
   },
   "outputs": [
    {
     "data": {
      "text/html": [
       "<div>\n",
       "<style scoped>\n",
       "    .dataframe tbody tr th:only-of-type {\n",
       "        vertical-align: middle;\n",
       "    }\n",
       "\n",
       "    .dataframe tbody tr th {\n",
       "        vertical-align: top;\n",
       "    }\n",
       "\n",
       "    .dataframe thead th {\n",
       "        text-align: right;\n",
       "    }\n",
       "</style>\n",
       "<table border=\"1\" class=\"dataframe\">\n",
       "  <thead>\n",
       "    <tr style=\"text-align: right;\">\n",
       "      <th></th>\n",
       "      <th>book_authors</th>\n",
       "      <th>book_desc</th>\n",
       "      <th>book_edition</th>\n",
       "      <th>book_format</th>\n",
       "      <th>book_isbn</th>\n",
       "      <th>book_pages</th>\n",
       "      <th>book_rating</th>\n",
       "      <th>book_rating_count</th>\n",
       "      <th>book_review_count</th>\n",
       "      <th>book_title</th>\n",
       "      <th>genres</th>\n",
       "      <th>image_url</th>\n",
       "    </tr>\n",
       "  </thead>\n",
       "  <tbody>\n",
       "    <tr>\n",
       "      <th>0</th>\n",
       "      <td>Suzanne Collins</td>\n",
       "      <td>Winning will make you famous. Losing means cer...</td>\n",
       "      <td>NaN</td>\n",
       "      <td>Hardcover</td>\n",
       "      <td>9.78044E+12</td>\n",
       "      <td>374 pages</td>\n",
       "      <td>4.33</td>\n",
       "      <td>5519135</td>\n",
       "      <td>160706</td>\n",
       "      <td>The Hunger Games</td>\n",
       "      <td>Young Adult|Fiction|Science Fiction|Dystopia|F...</td>\n",
       "      <td>https://images.gr-assets.com/books/1447303603l...</td>\n",
       "    </tr>\n",
       "    <tr>\n",
       "      <th>1</th>\n",
       "      <td>J.K. Rowling|Mary GrandPré</td>\n",
       "      <td>There is a door at the end of a silent corrido...</td>\n",
       "      <td>US Edition</td>\n",
       "      <td>Paperback</td>\n",
       "      <td>9.78044E+12</td>\n",
       "      <td>870 pages</td>\n",
       "      <td>4.48</td>\n",
       "      <td>2041594</td>\n",
       "      <td>33264</td>\n",
       "      <td>Harry Potter and the Order of the Phoenix</td>\n",
       "      <td>Fantasy|Young Adult|Fiction</td>\n",
       "      <td>https://images.gr-assets.com/books/1255614970l...</td>\n",
       "    </tr>\n",
       "  </tbody>\n",
       "</table>\n",
       "</div>"
      ],
      "text/plain": [
       "                 book_authors  ...                                          image_url\n",
       "0             Suzanne Collins  ...  https://images.gr-assets.com/books/1447303603l...\n",
       "1  J.K. Rowling|Mary GrandPré  ...  https://images.gr-assets.com/books/1255614970l...\n",
       "\n",
       "[2 rows x 12 columns]"
      ]
     },
     "execution_count": 8,
     "metadata": {
      "tags": []
     },
     "output_type": "execute_result"
    }
   ],
   "source": [
    "gr=pd.read_csv('/.../book_data.csv')\n",
    "gr.head(2)"
   ]
  },
  {
   "cell_type": "code",
   "execution_count": null,
   "metadata": {
    "colab": {
     "base_uri": "https://localhost:8080/"
    },
    "id": "W4N5g8XQazEu",
    "outputId": "8c9cdd0e-20a9-4359-c2e7-d2d869c8702e"
   },
   "outputs": [
    {
     "name": "stdout",
     "output_type": "stream",
     "text": [
      "<class 'pandas.core.frame.DataFrame'>\n",
      "RangeIndex: 54301 entries, 0 to 54300\n",
      "Data columns (total 12 columns):\n",
      " #   Column             Non-Null Count  Dtype  \n",
      "---  ------             --------------  -----  \n",
      " 0   book_authors       54301 non-null  object \n",
      " 1   book_desc          52970 non-null  object \n",
      " 2   book_edition       5453 non-null   object \n",
      " 3   book_format        52645 non-null  object \n",
      " 4   book_isbn          41435 non-null  object \n",
      " 5   book_pages         51779 non-null  object \n",
      " 6   book_rating        54301 non-null  float64\n",
      " 7   book_rating_count  54301 non-null  int64  \n",
      " 8   book_review_count  54301 non-null  int64  \n",
      " 9   book_title         54301 non-null  object \n",
      " 10  genres             51059 non-null  object \n",
      " 11  image_url          53618 non-null  object \n",
      "dtypes: float64(1), int64(2), object(9)\n",
      "memory usage: 5.0+ MB\n"
     ]
    }
   ],
   "source": [
    "gr.info()"
   ]
  },
  {
   "cell_type": "code",
   "execution_count": null,
   "metadata": {
    "colab": {
     "base_uri": "https://localhost:8080/"
    },
    "id": "AttUz1mpxSoK",
    "outputId": "0581e3e8-d85c-4a8f-98c9-4f3e626ed7f0"
   },
   "outputs": [
    {
     "data": {
      "text/plain": [
       "pandas.core.frame.DataFrame"
      ]
     },
     "execution_count": 10,
     "metadata": {
      "tags": []
     },
     "output_type": "execute_result"
    }
   ],
   "source": [
    "#gr.describe()\n",
    "type(gr)"
   ]
  },
  {
   "cell_type": "code",
   "execution_count": 1,
   "metadata": {
    "colab": {
     "base_uri": "https://localhost:8080/",
     "height": 305
    },
    "id": "Y3mCdQq64wny",
    "outputId": "be690214-6774-4855-9b00-f5f77e36d1be"
   },
   "outputs": [],
   "source": [
    "#gr= gr.groupby(\"book_isbn\")#[\"last_name\"].count()\n",
    "#gr"
   ]
  },
  {
   "cell_type": "code",
   "execution_count": null,
   "metadata": {
    "id": "-YaNXwRDa8Ox"
   },
   "outputs": [],
   "source": [
    "#Para sacar los top, ordenaré de porma descendente el no. de reviews y después extraeré los que tienen mayor rating\n",
    "gr_top1000= gr.sort_values(by =['book_rating_count'], ascending=False).iloc[0:1000] "
   ]
  },
  {
   "cell_type": "code",
   "execution_count": null,
   "metadata": {
    "colab": {
     "base_uri": "https://localhost:8080/"
    },
    "id": "rZmnZ0wRbfiQ",
    "outputId": "ae2ccbb4-cacf-44e3-9fb7-f23399e2578b"
   },
   "outputs": [
    {
     "data": {
      "text/plain": [
       "1000"
      ]
     },
     "execution_count": 323,
     "metadata": {
      "tags": []
     },
     "output_type": "execute_result"
    }
   ],
   "source": [
    "len(gr_top1000)"
   ]
  },
  {
   "cell_type": "code",
   "execution_count": null,
   "metadata": {
    "colab": {
     "base_uri": "https://localhost:8080/",
     "height": 185
    },
    "id": "ZPXwitqe1AKJ",
    "outputId": "fb3bd3d4-c011-42ab-c7e1-f793e7b77f18"
   },
   "outputs": [
    {
     "data": {
      "text/html": [
       "<div>\n",
       "<style scoped>\n",
       "    .dataframe tbody tr th:only-of-type {\n",
       "        vertical-align: middle;\n",
       "    }\n",
       "\n",
       "    .dataframe tbody tr th {\n",
       "        vertical-align: top;\n",
       "    }\n",
       "\n",
       "    .dataframe thead th {\n",
       "        text-align: right;\n",
       "    }\n",
       "</style>\n",
       "<table border=\"1\" class=\"dataframe\">\n",
       "  <thead>\n",
       "    <tr style=\"text-align: right;\">\n",
       "      <th></th>\n",
       "      <th>book_authors</th>\n",
       "      <th>book_desc</th>\n",
       "      <th>book_edition</th>\n",
       "      <th>book_format</th>\n",
       "      <th>book_isbn</th>\n",
       "      <th>book_pages</th>\n",
       "      <th>book_rating</th>\n",
       "      <th>book_rating_count</th>\n",
       "      <th>book_review_count</th>\n",
       "      <th>book_title</th>\n",
       "      <th>genres</th>\n",
       "      <th>image_url</th>\n",
       "    </tr>\n",
       "  </thead>\n",
       "  <tbody>\n",
       "    <tr>\n",
       "      <th>50</th>\n",
       "      <td>J.K. Rowling|Mary GrandPré</td>\n",
       "      <td>Harry Potter's life is miserable. His parents ...</td>\n",
       "      <td>NaN</td>\n",
       "      <td>Hardcover</td>\n",
       "      <td>9.78044E+12</td>\n",
       "      <td>320 pages</td>\n",
       "      <td>4.46</td>\n",
       "      <td>5588580</td>\n",
       "      <td>88816</td>\n",
       "      <td>Harry Potter and the Sorcerer's Stone</td>\n",
       "      <td>Fantasy|Young Adult|Fiction</td>\n",
       "      <td>https://images.gr-assets.com/books/1474154022l...</td>\n",
       "    </tr>\n",
       "  </tbody>\n",
       "</table>\n",
       "</div>"
      ],
      "text/plain": [
       "                  book_authors  ...                                          image_url\n",
       "50  J.K. Rowling|Mary GrandPré  ...  https://images.gr-assets.com/books/1474154022l...\n",
       "\n",
       "[1 rows x 12 columns]"
      ]
     },
     "execution_count": 324,
     "metadata": {
      "tags": []
     },
     "output_type": "execute_result"
    }
   ],
   "source": [
    "gr_top1000.head(1) # >> top 5588580 book_rating_count\t\n"
   ]
  },
  {
   "cell_type": "code",
   "execution_count": null,
   "metadata": {
    "colab": {
     "base_uri": "https://localhost:8080/",
     "height": 185
    },
    "id": "o9pClL8P0ziM",
    "outputId": "b1d81645-0c25-4969-edde-6046a6ac1b61"
   },
   "outputs": [
    {
     "data": {
      "text/html": [
       "<div>\n",
       "<style scoped>\n",
       "    .dataframe tbody tr th:only-of-type {\n",
       "        vertical-align: middle;\n",
       "    }\n",
       "\n",
       "    .dataframe tbody tr th {\n",
       "        vertical-align: top;\n",
       "    }\n",
       "\n",
       "    .dataframe thead th {\n",
       "        text-align: right;\n",
       "    }\n",
       "</style>\n",
       "<table border=\"1\" class=\"dataframe\">\n",
       "  <thead>\n",
       "    <tr style=\"text-align: right;\">\n",
       "      <th></th>\n",
       "      <th>book_authors</th>\n",
       "      <th>book_desc</th>\n",
       "      <th>book_edition</th>\n",
       "      <th>book_format</th>\n",
       "      <th>book_isbn</th>\n",
       "      <th>book_pages</th>\n",
       "      <th>book_rating</th>\n",
       "      <th>book_rating_count</th>\n",
       "      <th>book_review_count</th>\n",
       "      <th>book_title</th>\n",
       "      <th>genres</th>\n",
       "      <th>image_url</th>\n",
       "    </tr>\n",
       "  </thead>\n",
       "  <tbody>\n",
       "    <tr>\n",
       "      <th>37887</th>\n",
       "      <td>Marissa Meyer|Rebecca Soler</td>\n",
       "      <td>Humans and androids crowd the raucous streets ...</td>\n",
       "      <td>NaN</td>\n",
       "      <td>Audiobook</td>\n",
       "      <td>9.78143E+12</td>\n",
       "      <td>10 pages</td>\n",
       "      <td>4.15</td>\n",
       "      <td>548722</td>\n",
       "      <td>46598</td>\n",
       "      <td>Cinder</td>\n",
       "      <td>Young Adult|Fantasy|Science Fiction|Science Fi...</td>\n",
       "      <td>https://images.gr-assets.com/books/1358136988l...</td>\n",
       "    </tr>\n",
       "  </tbody>\n",
       "</table>\n",
       "</div>"
      ],
      "text/plain": [
       "                      book_authors  ...                                          image_url\n",
       "37887  Marissa Meyer|Rebecca Soler  ...  https://images.gr-assets.com/books/1358136988l...\n",
       "\n",
       "[1 rows x 12 columns]"
      ]
     },
     "execution_count": 64,
     "metadata": {
      "tags": []
     },
     "output_type": "execute_result"
    }
   ],
   "source": [
    "gr_top1000.tail(1) # >> base 549984 book_rating_count\t\n"
   ]
  },
  {
   "cell_type": "code",
   "execution_count": null,
   "metadata": {
    "id": "6jLvD2551gfK"
   },
   "outputs": [],
   "source": [
    "gr_top1000=gr_top1000.rename(columns= {'genres':'book_genres'})\n",
    "#gr_top1000.info()"
   ]
  },
  {
   "cell_type": "code",
   "execution_count": null,
   "metadata": {
    "colab": {
     "base_uri": "https://localhost:8080/"
    },
    "id": "m0Wd1rqT8mcQ",
    "outputId": "96fc0689-3625-4e63-f3b1-053c5401e19a"
   },
   "outputs": [
    {
     "data": {
      "text/plain": [
       "pandas.core.frame.DataFrame"
      ]
     },
     "execution_count": 90,
     "metadata": {
      "tags": []
     },
     "output_type": "execute_result"
    }
   ],
   "source": [
    "type(gr_top1000)"
   ]
  },
  {
   "cell_type": "markdown",
   "metadata": {
    "id": "PSvW33oON9zN"
   },
   "source": [
    "###Revisión Sets\n"
   ]
  },
  {
   "cell_type": "markdown",
   "metadata": {
    "id": "bO18_CfBlxcv"
   },
   "source": [
    "####Movie\n"
   ]
  },
  {
   "cell_type": "code",
   "execution_count": null,
   "metadata": {
    "colab": {
     "base_uri": "https://localhost:8080/",
     "height": 80
    },
    "id": "tys9M4VV1z7q",
    "outputId": "6a703d6b-07aa-4056-ec58-6ce44b6f8f8e"
   },
   "outputs": [
    {
     "data": {
      "text/html": [
       "<div>\n",
       "<style scoped>\n",
       "    .dataframe tbody tr th:only-of-type {\n",
       "        vertical-align: middle;\n",
       "    }\n",
       "\n",
       "    .dataframe tbody tr th {\n",
       "        vertical-align: top;\n",
       "    }\n",
       "\n",
       "    .dataframe thead th {\n",
       "        text-align: right;\n",
       "    }\n",
       "</style>\n",
       "<table border=\"1\" class=\"dataframe\">\n",
       "  <thead>\n",
       "    <tr style=\"text-align: right;\">\n",
       "      <th></th>\n",
       "      <th>Name of movie</th>\n",
       "      <th>Year of relase</th>\n",
       "      <th>Runtime</th>\n",
       "      <th>Movie Rating</th>\n",
       "      <th>Metascore</th>\n",
       "      <th>Genre</th>\n",
       "      <th>Votes</th>\n",
       "      <th>Gross collection</th>\n",
       "      <th>Certificate</th>\n",
       "      <th>Synopsis</th>\n",
       "    </tr>\n",
       "  </thead>\n",
       "  <tbody>\n",
       "    <tr>\n",
       "      <th>0</th>\n",
       "      <td>The Shawshank Redemption</td>\n",
       "      <td>1994</td>\n",
       "      <td>142</td>\n",
       "      <td>9.3</td>\n",
       "      <td>80</td>\n",
       "      <td>Drama</td>\n",
       "      <td>2,403,452</td>\n",
       "      <td>$28.34M</td>\n",
       "      <td>R</td>\n",
       "      <td>Two imprisoned men bond over a number of years...</td>\n",
       "    </tr>\n",
       "  </tbody>\n",
       "</table>\n",
       "</div>"
      ],
      "text/plain": [
       "              Name of movie  ...                                           Synopsis\n",
       "0  The Shawshank Redemption  ...  Two imprisoned men bond over a number of years...\n",
       "\n",
       "[1 rows x 10 columns]"
      ]
     },
     "execution_count": 51,
     "metadata": {
      "tags": []
     },
     "output_type": "execute_result"
    }
   ],
   "source": [
    "imbd_top1000 = pd.read_csv('/content/drive/MyDrive/Ironhack/top1000imbd.csv')\n",
    "imbd_top1000 = imbd_top1000.loc[:, ~imbd_top1000.columns.str.contains('^Unnamed')] #Para borrar columna 'Unnamed' que sale\n",
    "imbd_top1000.head(1)"
   ]
  },
  {
   "cell_type": "code",
   "execution_count": null,
   "metadata": {
    "colab": {
     "base_uri": "https://localhost:8080/"
    },
    "id": "9tmO-sb6623i",
    "outputId": "d1e76494-7409-4a55-de63-7febf78e5eee"
   },
   "outputs": [
    {
     "data": {
      "text/plain": [
       "pandas.core.frame.DataFrame"
      ]
     },
     "execution_count": 6,
     "metadata": {
      "tags": []
     },
     "output_type": "execute_result"
    }
   ],
   "source": [
    "type(imbd_top1000)"
   ]
  },
  {
   "cell_type": "code",
   "execution_count": null,
   "metadata": {
    "colab": {
     "base_uri": "https://localhost:8080/"
    },
    "id": "m7UmfhWo2QnJ",
    "outputId": "d0330a3a-3905-4553-fefa-14b56ff8897b"
   },
   "outputs": [
    {
     "name": "stdout",
     "output_type": "stream",
     "text": [
      "<class 'pandas.core.frame.DataFrame'>\n",
      "RangeIndex: 1000 entries, 0 to 999\n",
      "Data columns (total 10 columns):\n",
      " #   Column             Non-Null Count  Dtype  \n",
      "---  ------             --------------  -----  \n",
      " 0   movie_name         1000 non-null   object \n",
      " 1   movie_year         1000 non-null   object \n",
      " 2   movie_runtime      1000 non-null   int64  \n",
      " 3   movie_rating       1000 non-null   float64\n",
      " 4   movie_metascore    1000 non-null   object \n",
      " 5   movie_genre        1000 non-null   object \n",
      " 6   movie_votes        1000 non-null   object \n",
      " 7   movie_gross        1000 non-null   object \n",
      " 8   movie_certificate  1000 non-null   object \n",
      " 9   movie_synopsis     1000 non-null   object \n",
      "dtypes: float64(1), int64(1), object(8)\n",
      "memory usage: 78.2+ KB\n"
     ]
    }
   ],
   "source": [
    "renombrar_columnas = {'Year of relase':'movie_year', 'Name of movie': 'movie_name','Runtime':'movie_runtime', 'Movie Rating':'movie_rating', 'Metascore':'movie_metascore', 'Genre':'movie_genre', 'Votes':'movie_votes', 'Gross collection':'movie_gross', 'Certificate':'movie_certificate', 'Synopsis':'movie_synopsis'}\n",
    "imbd_top1000=imbd_top1000.rename(columns= renombrar_columnas)\n",
    "imbd_top1000.info()"
   ]
  },
  {
   "cell_type": "code",
   "execution_count": null,
   "metadata": {
    "id": "QtPTqwMF-gqY"
   },
   "outputs": [],
   "source": [
    "imbd_top1000 = imbd_top1000.replace({'**':np.nan, '*****': np.nan})"
   ]
  },
  {
   "cell_type": "code",
   "execution_count": null,
   "metadata": {
    "id": "FVWnUsPfmTQn"
   },
   "outputs": [],
   "source": [
    "#sorted(imbd_top1000.movie_year.unique())"
   ]
  },
  {
   "cell_type": "code",
   "execution_count": null,
   "metadata": {
    "id": "tHHXCGjJ1h3z"
   },
   "outputs": [],
   "source": [
    "imbd_top1000.movie_year = imbd_top1000.movie_year.replace({'I 1985':'1985', 'I 1995' : '1995','I 2001':'2001','I 2004': '2004',\n",
    "                                                           'I 2007': '2007','I 2008': '2008', 'I 2001': '2001', 'I 2010':'2010',\n",
    "                                                           'I 2011': '2011','I 2013': '2013','I 2014': '2014','I 2015': '2015',\n",
    "                                                           'I 2016':'2016','I 2017': '2017','II 2015': '2015','II 2016':'2016',\n",
    "                                                           'III 2016': '2016','III 2018': '2018','I 2020':'2020'})"
   ]
  },
  {
   "cell_type": "code",
   "execution_count": null,
   "metadata": {
    "id": "_A_3Ya3krbTd"
   },
   "outputs": [],
   "source": [
    "#imbd_top1000.movie_runtime.unique()"
   ]
  },
  {
   "cell_type": "code",
   "execution_count": null,
   "metadata": {
    "id": "5TamEY605oAv"
   },
   "outputs": [],
   "source": [
    "#imbd_top1000.movie_rating.unique()"
   ]
  },
  {
   "cell_type": "code",
   "execution_count": null,
   "metadata": {
    "id": "-0gNHf007PS0"
   },
   "outputs": [],
   "source": [
    "#imbd_top1000.movie_metascore.unique()"
   ]
  },
  {
   "cell_type": "code",
   "execution_count": null,
   "metadata": {
    "id": "tl7Ldvcy95Eo"
   },
   "outputs": [],
   "source": [
    "#imbd_top1000.movie_votes.unique()"
   ]
  },
  {
   "cell_type": "code",
   "execution_count": null,
   "metadata": {
    "id": "Issn7CaNBBFb"
   },
   "outputs": [],
   "source": [
    "#imbd_top1000.movie_certificate.unique()"
   ]
  },
  {
   "cell_type": "code",
   "execution_count": null,
   "metadata": {
    "id": "yNvXoIpf8VZl"
   },
   "outputs": [],
   "source": [
    "#imbd_top1000 = pd.get_dummies(imbd_top1000.movie_genre)\n",
    "#imbd_top1000_uni = imbd_top1000.movie_genre.unique()\n",
    "#len(imbd_top1000_uni)\n"
   ]
  },
  {
   "cell_type": "code",
   "execution_count": null,
   "metadata": {
    "id": "9aZ1w7hBPEpO"
   },
   "outputs": [],
   "source": [
    "gen_=imbd_top1000['movie_genre'].str.split(expand = True)\n",
    "gen_.columns = ['gen_1', 'gen_2', 'gen_3']"
   ]
  },
  {
   "cell_type": "code",
   "execution_count": null,
   "metadata": {
    "colab": {
     "base_uri": "https://localhost:8080/",
     "height": 419
    },
    "id": "UKUXTS1KTRKg",
    "outputId": "f316b759-4737-4cd9-c4cc-a669fd745df0"
   },
   "outputs": [
    {
     "data": {
      "text/html": [
       "<div>\n",
       "<style scoped>\n",
       "    .dataframe tbody tr th:only-of-type {\n",
       "        vertical-align: middle;\n",
       "    }\n",
       "\n",
       "    .dataframe tbody tr th {\n",
       "        vertical-align: top;\n",
       "    }\n",
       "\n",
       "    .dataframe thead th {\n",
       "        text-align: right;\n",
       "    }\n",
       "</style>\n",
       "<table border=\"1\" class=\"dataframe\">\n",
       "  <thead>\n",
       "    <tr style=\"text-align: right;\">\n",
       "      <th></th>\n",
       "      <th>gen_1</th>\n",
       "      <th>gen_2</th>\n",
       "      <th>gen_3</th>\n",
       "    </tr>\n",
       "  </thead>\n",
       "  <tbody>\n",
       "    <tr>\n",
       "      <th>0</th>\n",
       "      <td>Drama</td>\n",
       "      <td>None</td>\n",
       "      <td>None</td>\n",
       "    </tr>\n",
       "    <tr>\n",
       "      <th>1</th>\n",
       "      <td>Crime,</td>\n",
       "      <td>Drama</td>\n",
       "      <td>None</td>\n",
       "    </tr>\n",
       "    <tr>\n",
       "      <th>2</th>\n",
       "      <td>Drama</td>\n",
       "      <td>None</td>\n",
       "      <td>None</td>\n",
       "    </tr>\n",
       "    <tr>\n",
       "      <th>3</th>\n",
       "      <td>Action,</td>\n",
       "      <td>Crime,</td>\n",
       "      <td>Drama</td>\n",
       "    </tr>\n",
       "    <tr>\n",
       "      <th>4</th>\n",
       "      <td>Crime,</td>\n",
       "      <td>Drama</td>\n",
       "      <td>None</td>\n",
       "    </tr>\n",
       "    <tr>\n",
       "      <th>...</th>\n",
       "      <td>...</td>\n",
       "      <td>...</td>\n",
       "      <td>...</td>\n",
       "    </tr>\n",
       "    <tr>\n",
       "      <th>995</th>\n",
       "      <td>Comedy,</td>\n",
       "      <td>Drama,</td>\n",
       "      <td>Romance</td>\n",
       "    </tr>\n",
       "    <tr>\n",
       "      <th>996</th>\n",
       "      <td>Drama,</td>\n",
       "      <td>Western</td>\n",
       "      <td>None</td>\n",
       "    </tr>\n",
       "    <tr>\n",
       "      <th>997</th>\n",
       "      <td>Drama,</td>\n",
       "      <td>Western</td>\n",
       "      <td>None</td>\n",
       "    </tr>\n",
       "    <tr>\n",
       "      <th>998</th>\n",
       "      <td>Drama,</td>\n",
       "      <td>Romance,</td>\n",
       "      <td>War</td>\n",
       "    </tr>\n",
       "    <tr>\n",
       "      <th>999</th>\n",
       "      <td>Drama,</td>\n",
       "      <td>War</td>\n",
       "      <td>None</td>\n",
       "    </tr>\n",
       "  </tbody>\n",
       "</table>\n",
       "<p>1000 rows × 3 columns</p>\n",
       "</div>"
      ],
      "text/plain": [
       "       gen_1     gen_2    gen_3\n",
       "0      Drama      None     None\n",
       "1     Crime,     Drama     None\n",
       "2      Drama      None     None\n",
       "3    Action,    Crime,    Drama\n",
       "4     Crime,     Drama     None\n",
       "..       ...       ...      ...\n",
       "995  Comedy,    Drama,  Romance\n",
       "996   Drama,   Western     None\n",
       "997   Drama,   Western     None\n",
       "998   Drama,  Romance,      War\n",
       "999   Drama,       War     None\n",
       "\n",
       "[1000 rows x 3 columns]"
      ]
     },
     "execution_count": 56,
     "metadata": {
      "tags": []
     },
     "output_type": "execute_result"
    }
   ],
   "source": [
    "gen_"
   ]
  },
  {
   "cell_type": "code",
   "execution_count": null,
   "metadata": {
    "id": "4rZp0qHcR_Ws"
   },
   "outputs": [],
   "source": [
    "gen_= gen_.replace({',':''}, regex= True) #si no pongo regex= True no quita la coma"
   ]
  },
  {
   "cell_type": "code",
   "execution_count": null,
   "metadata": {
    "colab": {
     "base_uri": "https://localhost:8080/",
     "height": 419
    },
    "id": "UyYd3u3QTEtR",
    "outputId": "7aa92c40-f055-4076-b5cf-46394eb687aa"
   },
   "outputs": [
    {
     "data": {
      "text/html": [
       "<div>\n",
       "<style scoped>\n",
       "    .dataframe tbody tr th:only-of-type {\n",
       "        vertical-align: middle;\n",
       "    }\n",
       "\n",
       "    .dataframe tbody tr th {\n",
       "        vertical-align: top;\n",
       "    }\n",
       "\n",
       "    .dataframe thead th {\n",
       "        text-align: right;\n",
       "    }\n",
       "</style>\n",
       "<table border=\"1\" class=\"dataframe\">\n",
       "  <thead>\n",
       "    <tr style=\"text-align: right;\">\n",
       "      <th></th>\n",
       "      <th>gen_1</th>\n",
       "      <th>gen_2</th>\n",
       "      <th>gen_3</th>\n",
       "    </tr>\n",
       "  </thead>\n",
       "  <tbody>\n",
       "    <tr>\n",
       "      <th>0</th>\n",
       "      <td>Drama</td>\n",
       "      <td>None</td>\n",
       "      <td>None</td>\n",
       "    </tr>\n",
       "    <tr>\n",
       "      <th>1</th>\n",
       "      <td>Crime</td>\n",
       "      <td>Drama</td>\n",
       "      <td>None</td>\n",
       "    </tr>\n",
       "    <tr>\n",
       "      <th>2</th>\n",
       "      <td>Drama</td>\n",
       "      <td>None</td>\n",
       "      <td>None</td>\n",
       "    </tr>\n",
       "    <tr>\n",
       "      <th>3</th>\n",
       "      <td>Action</td>\n",
       "      <td>Crime</td>\n",
       "      <td>Drama</td>\n",
       "    </tr>\n",
       "    <tr>\n",
       "      <th>4</th>\n",
       "      <td>Crime</td>\n",
       "      <td>Drama</td>\n",
       "      <td>None</td>\n",
       "    </tr>\n",
       "    <tr>\n",
       "      <th>...</th>\n",
       "      <td>...</td>\n",
       "      <td>...</td>\n",
       "      <td>...</td>\n",
       "    </tr>\n",
       "    <tr>\n",
       "      <th>995</th>\n",
       "      <td>Comedy</td>\n",
       "      <td>Drama</td>\n",
       "      <td>Romance</td>\n",
       "    </tr>\n",
       "    <tr>\n",
       "      <th>996</th>\n",
       "      <td>Drama</td>\n",
       "      <td>Western</td>\n",
       "      <td>None</td>\n",
       "    </tr>\n",
       "    <tr>\n",
       "      <th>997</th>\n",
       "      <td>Drama</td>\n",
       "      <td>Western</td>\n",
       "      <td>None</td>\n",
       "    </tr>\n",
       "    <tr>\n",
       "      <th>998</th>\n",
       "      <td>Drama</td>\n",
       "      <td>Romance</td>\n",
       "      <td>War</td>\n",
       "    </tr>\n",
       "    <tr>\n",
       "      <th>999</th>\n",
       "      <td>Drama</td>\n",
       "      <td>War</td>\n",
       "      <td>None</td>\n",
       "    </tr>\n",
       "  </tbody>\n",
       "</table>\n",
       "<p>1000 rows × 3 columns</p>\n",
       "</div>"
      ],
      "text/plain": [
       "      gen_1    gen_2    gen_3\n",
       "0     Drama     None     None\n",
       "1     Crime    Drama     None\n",
       "2     Drama     None     None\n",
       "3    Action    Crime    Drama\n",
       "4     Crime    Drama     None\n",
       "..      ...      ...      ...\n",
       "995  Comedy    Drama  Romance\n",
       "996   Drama  Western     None\n",
       "997   Drama  Western     None\n",
       "998   Drama  Romance      War\n",
       "999   Drama      War     None\n",
       "\n",
       "[1000 rows x 3 columns]"
      ]
     },
     "execution_count": 58,
     "metadata": {
      "tags": []
     },
     "output_type": "execute_result"
    }
   ],
   "source": [
    "gen_"
   ]
  },
  {
   "cell_type": "code",
   "execution_count": null,
   "metadata": {
    "id": "2L6MZoDLNekr"
   },
   "outputs": [],
   "source": [
    "#print(gen_.gen_1.unique())\n",
    "#print(gen_.gen_2.unique())\n",
    "#print(gen_.gen_3.unique())"
   ]
  },
  {
   "cell_type": "code",
   "execution_count": null,
   "metadata": {
    "id": "EQ3JfDSdMAkV"
   },
   "outputs": [],
   "source": [
    "imbd_top1000 = pd.concat([imbd_top1000, gen_], axis=1)\n"
   ]
  },
  {
   "cell_type": "code",
   "execution_count": null,
   "metadata": {
    "colab": {
     "base_uri": "https://localhost:8080/"
    },
    "id": "jCKA6AvIM8YW",
    "outputId": "e738b9e2-02d6-4add-fe72-af097f2d3585"
   },
   "outputs": [
    {
     "data": {
      "text/plain": [
       "pandas.core.frame.DataFrame"
      ]
     },
     "execution_count": 60,
     "metadata": {
      "tags": []
     },
     "output_type": "execute_result"
    }
   ],
   "source": [
    "type(imbd_top1000)"
   ]
  },
  {
   "cell_type": "code",
   "execution_count": null,
   "metadata": {
    "colab": {
     "base_uri": "https://localhost:8080/",
     "height": 179
    },
    "id": "fsXokRk06MO1",
    "outputId": "18c87ff1-918a-49cd-c4d6-7a3591fce625"
   },
   "outputs": [
    {
     "data": {
      "text/html": [
       "<div>\n",
       "<style scoped>\n",
       "    .dataframe tbody tr th:only-of-type {\n",
       "        vertical-align: middle;\n",
       "    }\n",
       "\n",
       "    .dataframe tbody tr th {\n",
       "        vertical-align: top;\n",
       "    }\n",
       "\n",
       "    .dataframe thead th {\n",
       "        text-align: right;\n",
       "    }\n",
       "</style>\n",
       "<table border=\"1\" class=\"dataframe\">\n",
       "  <thead>\n",
       "    <tr style=\"text-align: right;\">\n",
       "      <th></th>\n",
       "      <th>movie_name</th>\n",
       "      <th>movie_year</th>\n",
       "      <th>movie_runtime</th>\n",
       "      <th>movie_rating</th>\n",
       "      <th>movie_metascore</th>\n",
       "      <th>movie_genre</th>\n",
       "      <th>movie_votes</th>\n",
       "      <th>movie_gross</th>\n",
       "      <th>movie_certificate</th>\n",
       "      <th>movie_synopsis</th>\n",
       "      <th>gen_1</th>\n",
       "      <th>gen_2</th>\n",
       "      <th>gen_3</th>\n",
       "    </tr>\n",
       "  </thead>\n",
       "  <tbody>\n",
       "    <tr>\n",
       "      <th>0</th>\n",
       "      <td>The Shawshank Redemption</td>\n",
       "      <td>1994</td>\n",
       "      <td>142</td>\n",
       "      <td>9.3</td>\n",
       "      <td>80</td>\n",
       "      <td>Drama</td>\n",
       "      <td>2,403,452</td>\n",
       "      <td>$28.34M</td>\n",
       "      <td>R</td>\n",
       "      <td>Two imprisoned men bond over a number of years...</td>\n",
       "      <td>Drama</td>\n",
       "      <td>None</td>\n",
       "      <td>None</td>\n",
       "    </tr>\n",
       "    <tr>\n",
       "      <th>1</th>\n",
       "      <td>The Godfather</td>\n",
       "      <td>1972</td>\n",
       "      <td>175</td>\n",
       "      <td>9.2</td>\n",
       "      <td>100</td>\n",
       "      <td>Crime, Drama</td>\n",
       "      <td>1,663,867</td>\n",
       "      <td>$134.97M</td>\n",
       "      <td>R</td>\n",
       "      <td>An organized crime dynasty's aging patriarch t...</td>\n",
       "      <td>Crime</td>\n",
       "      <td>Drama</td>\n",
       "      <td>None</td>\n",
       "    </tr>\n",
       "  </tbody>\n",
       "</table>\n",
       "</div>"
      ],
      "text/plain": [
       "                 movie_name movie_year  movie_runtime  ...  gen_1  gen_2 gen_3\n",
       "0  The Shawshank Redemption       1994            142  ...  Drama   None  None\n",
       "1             The Godfather       1972            175  ...  Crime  Drama  None\n",
       "\n",
       "[2 rows x 13 columns]"
      ]
     },
     "execution_count": 61,
     "metadata": {
      "tags": []
     },
     "output_type": "execute_result"
    }
   ],
   "source": [
    "imbd_top1000.head(2)"
   ]
  },
  {
   "cell_type": "code",
   "execution_count": null,
   "metadata": {
    "id": "idAs5_5d6hl6"
   },
   "outputs": [],
   "source": [
    "#pd.get_dummies(gen_)"
   ]
  },
  {
   "cell_type": "markdown",
   "metadata": {
    "id": "QE9RE6slUu_h"
   },
   "source": [
    "###Books"
   ]
  },
  {
   "cell_type": "code",
   "execution_count": null,
   "metadata": {
    "colab": {
     "base_uri": "https://localhost:8080/"
    },
    "id": "IhgCf9ESUuEe",
    "outputId": "ae7cba83-bd7e-44af-85d5-21ef11f598f7"
   },
   "outputs": [
    {
     "name": "stdout",
     "output_type": "stream",
     "text": [
      "<class 'pandas.core.frame.DataFrame'>\n",
      "Int64Index: 1000 entries, 50 to 37887\n",
      "Data columns (total 12 columns):\n",
      " #   Column             Non-Null Count  Dtype  \n",
      "---  ------             --------------  -----  \n",
      " 0   book_authors       1000 non-null   object \n",
      " 1   book_desc          999 non-null    object \n",
      " 2   book_edition       291 non-null    object \n",
      " 3   book_format        986 non-null    object \n",
      " 4   book_isbn          737 non-null    object \n",
      " 5   book_pages         983 non-null    object \n",
      " 6   book_rating        1000 non-null   float64\n",
      " 7   book_rating_count  1000 non-null   int64  \n",
      " 8   book_review_count  1000 non-null   int64  \n",
      " 9   book_title         1000 non-null   object \n",
      " 10  book_genres        1000 non-null   object \n",
      " 11  image_url          995 non-null    object \n",
      "dtypes: float64(1), int64(2), object(9)\n",
      "memory usage: 101.6+ KB\n"
     ]
    }
   ],
   "source": [
    "gr_top1000.info()"
   ]
  },
  {
   "cell_type": "code",
   "execution_count": null,
   "metadata": {
    "colab": {
     "base_uri": "https://localhost:8080/",
     "height": 318
    },
    "id": "lfktKSdHVqPY",
    "outputId": "5b1d761e-e1f0-4ed9-8774-22bd9c8ef39a"
   },
   "outputs": [
    {
     "data": {
      "text/html": [
       "<div>\n",
       "<style scoped>\n",
       "    .dataframe tbody tr th:only-of-type {\n",
       "        vertical-align: middle;\n",
       "    }\n",
       "\n",
       "    .dataframe tbody tr th {\n",
       "        vertical-align: top;\n",
       "    }\n",
       "\n",
       "    .dataframe thead th {\n",
       "        text-align: right;\n",
       "    }\n",
       "</style>\n",
       "<table border=\"1\" class=\"dataframe\">\n",
       "  <thead>\n",
       "    <tr style=\"text-align: right;\">\n",
       "      <th></th>\n",
       "      <th>book_authors</th>\n",
       "      <th>book_desc</th>\n",
       "      <th>book_edition</th>\n",
       "      <th>book_format</th>\n",
       "      <th>book_isbn</th>\n",
       "      <th>book_pages</th>\n",
       "      <th>book_rating</th>\n",
       "      <th>book_rating_count</th>\n",
       "      <th>book_review_count</th>\n",
       "      <th>book_title</th>\n",
       "      <th>book_genres</th>\n",
       "      <th>image_url</th>\n",
       "    </tr>\n",
       "  </thead>\n",
       "  <tbody>\n",
       "    <tr>\n",
       "      <th>225</th>\n",
       "      <td>Tracy Chevalier</td>\n",
       "      <td>With precisely 35 canvases to his credit, the ...</td>\n",
       "      <td>Deluxe Edition</td>\n",
       "      <td>Paperback</td>\n",
       "      <td>9.78045E+12</td>\n",
       "      <td>233 pages</td>\n",
       "      <td>3.86</td>\n",
       "      <td>549984</td>\n",
       "      <td>8618</td>\n",
       "      <td>Girl with a Pearl Earring</td>\n",
       "      <td>Historical|Historical Fiction|Fiction|Historic...</td>\n",
       "      <td>https://images.gr-assets.com/books/1327197580l...</td>\n",
       "    </tr>\n",
       "    <tr>\n",
       "      <th>37887</th>\n",
       "      <td>Marissa Meyer|Rebecca Soler</td>\n",
       "      <td>Humans and androids crowd the raucous streets ...</td>\n",
       "      <td>NaN</td>\n",
       "      <td>Audiobook</td>\n",
       "      <td>9.78143E+12</td>\n",
       "      <td>10 pages</td>\n",
       "      <td>4.15</td>\n",
       "      <td>548722</td>\n",
       "      <td>46598</td>\n",
       "      <td>Cinder</td>\n",
       "      <td>Young Adult|Fantasy|Science Fiction|Science Fi...</td>\n",
       "      <td>https://images.gr-assets.com/books/1358136988l...</td>\n",
       "    </tr>\n",
       "  </tbody>\n",
       "</table>\n",
       "</div>"
      ],
      "text/plain": [
       "                      book_authors  ...                                          image_url\n",
       "225                Tracy Chevalier  ...  https://images.gr-assets.com/books/1327197580l...\n",
       "37887  Marissa Meyer|Rebecca Soler  ...  https://images.gr-assets.com/books/1358136988l...\n",
       "\n",
       "[2 rows x 12 columns]"
      ]
     },
     "execution_count": 29,
     "metadata": {
      "tags": []
     },
     "output_type": "execute_result"
    }
   ],
   "source": [
    "gr_top1000.tail(2)"
   ]
  },
  {
   "cell_type": "code",
   "execution_count": null,
   "metadata": {
    "id": "M3gxnMxJU_jl"
   },
   "outputs": [],
   "source": [
    "#gr_top1000.book_format.unique()"
   ]
  },
  {
   "cell_type": "code",
   "execution_count": null,
   "metadata": {
    "id": "otynMUabVje6"
   },
   "outputs": [],
   "source": [
    "gr_top1000.book_format = gr_top1000.book_format.replace({'Capa mole':'Capa Mole'})"
   ]
  },
  {
   "cell_type": "code",
   "execution_count": null,
   "metadata": {
    "id": "ERQW0ltcWPG_"
   },
   "outputs": [],
   "source": [
    "gr_top1000.book_pages = gr_top1000.book_pages.replace({'pages': ''},regex= True)"
   ]
  },
  {
   "cell_type": "code",
   "execution_count": null,
   "metadata": {
    "id": "-ZEW-g2XXCO4"
   },
   "outputs": [],
   "source": [
    "gr_top1000.book_pages = gr_top1000.book_pages.replace({' ': ''},regex= True)"
   ]
  },
  {
   "cell_type": "code",
   "execution_count": null,
   "metadata": {
    "id": "K5dnbd5nWY5I"
   },
   "outputs": [],
   "source": [
    "#gr_top1000.book_pages.unique()"
   ]
  },
  {
   "cell_type": "code",
   "execution_count": null,
   "metadata": {
    "id": "-ELrwT_HW7nW"
   },
   "outputs": [],
   "source": [
    "#.book_rating.unique()"
   ]
  },
  {
   "cell_type": "code",
   "execution_count": null,
   "metadata": {
    "id": "IuaNg2sVXQJI"
   },
   "outputs": [],
   "source": [
    "#gr_top1000.book_rating_count.unique()"
   ]
  },
  {
   "cell_type": "code",
   "execution_count": null,
   "metadata": {
    "id": "tNcG7DtCXZ0O"
   },
   "outputs": [],
   "source": [
    "#gr_top1000.book_review_count.unique()"
   ]
  },
  {
   "cell_type": "code",
   "execution_count": null,
   "metadata": {
    "id": "_xH5i90wXl4Q"
   },
   "outputs": [],
   "source": [
    "gr_top1000.book_genres.unique()"
   ]
  },
  {
   "cell_type": "code",
   "execution_count": null,
   "metadata": {
    "id": "lsFNLrdLX5EQ"
   },
   "outputs": [],
   "source": [
    "gen_book = gr_top1000['book_genres'].str.split('|',expand = True)\n",
    "gen_book.columns= ['gen_1', 'gen_2', 'gen_3', 'gen_4', 'gen_5','gen_6','gen_7','gen_8','gen_9',\n",
    "                  'gen_10','gen_11','gen_12','gen_13','gen_14','gen_15']"
   ]
  },
  {
   "cell_type": "code",
   "execution_count": null,
   "metadata": {
    "colab": {
     "base_uri": "https://localhost:8080/"
    },
    "id": "uQenkRg-Yixq",
    "outputId": "8539d9c0-b780-454d-abe7-cd205a4a629d"
   },
   "outputs": [
    {
     "name": "stdout",
     "output_type": "stream",
     "text": [
      "<class 'pandas.core.frame.DataFrame'>\n",
      "Int64Index: 1000 entries, 50 to 37887\n",
      "Data columns (total 15 columns):\n",
      " #   Column  Non-Null Count  Dtype \n",
      "---  ------  --------------  ----- \n",
      " 0   gen_1   1000 non-null   object\n",
      " 1   gen_2   1000 non-null   object\n",
      " 2   gen_3   986 non-null    object\n",
      " 3   gen_4   882 non-null    object\n",
      " 4   gen_5   654 non-null    object\n",
      " 5   gen_6   392 non-null    object\n",
      " 6   gen_7   208 non-null    object\n",
      " 7   gen_8   164 non-null    object\n",
      " 8   gen_9   160 non-null    object\n",
      " 9   gen_10  151 non-null    object\n",
      " 10  gen_11  139 non-null    object\n",
      " 11  gen_12  137 non-null    object\n",
      " 12  gen_13  95 non-null     object\n",
      " 13  gen_14  35 non-null     object\n",
      " 14  gen_15  11 non-null     object\n",
      "dtypes: object(15)\n",
      "memory usage: 125.0+ KB\n"
     ]
    }
   ],
   "source": [
    "gen_book.info()"
   ]
  },
  {
   "cell_type": "code",
   "execution_count": null,
   "metadata": {
    "colab": {
     "base_uri": "https://localhost:8080/",
     "height": 419
    },
    "id": "xyDnurVRYxVr",
    "outputId": "7ae8d272-ed65-4b24-d7f2-bef7c673aa6e"
   },
   "outputs": [
    {
     "data": {
      "text/html": [
       "<div>\n",
       "<style scoped>\n",
       "    .dataframe tbody tr th:only-of-type {\n",
       "        vertical-align: middle;\n",
       "    }\n",
       "\n",
       "    .dataframe tbody tr th {\n",
       "        vertical-align: top;\n",
       "    }\n",
       "\n",
       "    .dataframe thead th {\n",
       "        text-align: right;\n",
       "    }\n",
       "</style>\n",
       "<table border=\"1\" class=\"dataframe\">\n",
       "  <thead>\n",
       "    <tr style=\"text-align: right;\">\n",
       "      <th></th>\n",
       "      <th>gen_1</th>\n",
       "      <th>gen_2</th>\n",
       "      <th>gen_3</th>\n",
       "      <th>gen_4</th>\n",
       "    </tr>\n",
       "  </thead>\n",
       "  <tbody>\n",
       "    <tr>\n",
       "      <th>50</th>\n",
       "      <td>Fantasy</td>\n",
       "      <td>Young Adult</td>\n",
       "      <td>Fiction</td>\n",
       "      <td>None</td>\n",
       "    </tr>\n",
       "    <tr>\n",
       "      <th>44271</th>\n",
       "      <td>Young Adult</td>\n",
       "      <td>Fiction</td>\n",
       "      <td>Science Fiction</td>\n",
       "      <td>Dystopia</td>\n",
       "    </tr>\n",
       "    <tr>\n",
       "      <th>28154</th>\n",
       "      <td>Young Adult</td>\n",
       "      <td>Fiction</td>\n",
       "      <td>Science Fiction</td>\n",
       "      <td>Dystopia</td>\n",
       "    </tr>\n",
       "    <tr>\n",
       "      <th>25990</th>\n",
       "      <td>Young Adult</td>\n",
       "      <td>Fiction</td>\n",
       "      <td>Science Fiction</td>\n",
       "      <td>Dystopia</td>\n",
       "    </tr>\n",
       "    <tr>\n",
       "      <th>21895</th>\n",
       "      <td>Young Adult</td>\n",
       "      <td>Fiction</td>\n",
       "      <td>Science Fiction</td>\n",
       "      <td>Dystopia</td>\n",
       "    </tr>\n",
       "    <tr>\n",
       "      <th>...</th>\n",
       "      <td>...</td>\n",
       "      <td>...</td>\n",
       "      <td>...</td>\n",
       "      <td>...</td>\n",
       "    </tr>\n",
       "    <tr>\n",
       "      <th>176</th>\n",
       "      <td>Fiction</td>\n",
       "      <td>Historical</td>\n",
       "      <td>Historical Fiction</td>\n",
       "      <td>Classics</td>\n",
       "    </tr>\n",
       "    <tr>\n",
       "      <th>49047</th>\n",
       "      <td>Historical</td>\n",
       "      <td>Historical Fiction</td>\n",
       "      <td>Fiction</td>\n",
       "      <td>Historical</td>\n",
       "    </tr>\n",
       "    <tr>\n",
       "      <th>34654</th>\n",
       "      <td>Historical</td>\n",
       "      <td>Historical Fiction</td>\n",
       "      <td>Fiction</td>\n",
       "      <td>Historical</td>\n",
       "    </tr>\n",
       "    <tr>\n",
       "      <th>225</th>\n",
       "      <td>Historical</td>\n",
       "      <td>Historical Fiction</td>\n",
       "      <td>Fiction</td>\n",
       "      <td>Historical</td>\n",
       "    </tr>\n",
       "    <tr>\n",
       "      <th>37887</th>\n",
       "      <td>Young Adult</td>\n",
       "      <td>Fantasy</td>\n",
       "      <td>Science Fiction</td>\n",
       "      <td>Science Fiction</td>\n",
       "    </tr>\n",
       "  </tbody>\n",
       "</table>\n",
       "<p>1000 rows × 4 columns</p>\n",
       "</div>"
      ],
      "text/plain": [
       "             gen_1               gen_2               gen_3            gen_4\n",
       "50         Fantasy         Young Adult             Fiction             None\n",
       "44271  Young Adult             Fiction     Science Fiction         Dystopia\n",
       "28154  Young Adult             Fiction     Science Fiction         Dystopia\n",
       "25990  Young Adult             Fiction     Science Fiction         Dystopia\n",
       "21895  Young Adult             Fiction     Science Fiction         Dystopia\n",
       "...            ...                 ...                 ...              ...\n",
       "176        Fiction          Historical  Historical Fiction         Classics\n",
       "49047   Historical  Historical Fiction             Fiction       Historical\n",
       "34654   Historical  Historical Fiction             Fiction       Historical\n",
       "225     Historical  Historical Fiction             Fiction       Historical\n",
       "37887  Young Adult             Fantasy     Science Fiction  Science Fiction\n",
       "\n",
       "[1000 rows x 4 columns]"
      ]
     },
     "execution_count": 43,
     "metadata": {
      "tags": []
     },
     "output_type": "execute_result"
    }
   ],
   "source": [
    "gen_book = gen_book[['gen_1', 'gen_2', 'gen_3', 'gen_4']]\n",
    "gen_book"
   ]
  },
  {
   "cell_type": "code",
   "execution_count": null,
   "metadata": {
    "id": "LodxgyBtLeXg"
   },
   "outputs": [],
   "source": [
    "gr_top1000 = pd.concat([gr_top1000, gen_book], axis= 1)"
   ]
  },
  {
   "cell_type": "code",
   "execution_count": null,
   "metadata": {
    "colab": {
     "base_uri": "https://localhost:8080/",
     "height": 830
    },
    "id": "-IIBz8iGLr8u",
    "outputId": "8967ad40-09e5-40cd-b060-a5ffec82fce7"
   },
   "outputs": [
    {
     "data": {
      "text/html": [
       "<div>\n",
       "<style scoped>\n",
       "    .dataframe tbody tr th:only-of-type {\n",
       "        vertical-align: middle;\n",
       "    }\n",
       "\n",
       "    .dataframe tbody tr th {\n",
       "        vertical-align: top;\n",
       "    }\n",
       "\n",
       "    .dataframe thead th {\n",
       "        text-align: right;\n",
       "    }\n",
       "</style>\n",
       "<table border=\"1\" class=\"dataframe\">\n",
       "  <thead>\n",
       "    <tr style=\"text-align: right;\">\n",
       "      <th></th>\n",
       "      <th>book_authors</th>\n",
       "      <th>book_desc</th>\n",
       "      <th>book_edition</th>\n",
       "      <th>book_format</th>\n",
       "      <th>book_isbn</th>\n",
       "      <th>book_pages</th>\n",
       "      <th>book_rating</th>\n",
       "      <th>book_rating_count</th>\n",
       "      <th>book_review_count</th>\n",
       "      <th>book_title</th>\n",
       "      <th>book_genres</th>\n",
       "      <th>image_url</th>\n",
       "      <th>gen_1</th>\n",
       "      <th>gen_2</th>\n",
       "      <th>gen_3</th>\n",
       "      <th>gen_4</th>\n",
       "    </tr>\n",
       "  </thead>\n",
       "  <tbody>\n",
       "    <tr>\n",
       "      <th>50</th>\n",
       "      <td>J.K. Rowling|Mary GrandPré</td>\n",
       "      <td>Harry Potter's life is miserable. His parents ...</td>\n",
       "      <td>NaN</td>\n",
       "      <td>Hardcover</td>\n",
       "      <td>9.78044E+12</td>\n",
       "      <td>320</td>\n",
       "      <td>4.46</td>\n",
       "      <td>5588580</td>\n",
       "      <td>88816</td>\n",
       "      <td>Harry Potter and the Sorcerer's Stone</td>\n",
       "      <td>Fantasy|Young Adult|Fiction</td>\n",
       "      <td>https://images.gr-assets.com/books/1474154022l...</td>\n",
       "      <td>Fantasy</td>\n",
       "      <td>Young Adult</td>\n",
       "      <td>Fiction</td>\n",
       "      <td>None</td>\n",
       "    </tr>\n",
       "    <tr>\n",
       "      <th>44271</th>\n",
       "      <td>Suzanne Collins</td>\n",
       "      <td>\\r\\r\\nGanar significa fama y fortuna. Perder s...</td>\n",
       "      <td>NaN</td>\n",
       "      <td>Paperback</td>\n",
       "      <td>9.7885E+12</td>\n",
       "      <td>396</td>\n",
       "      <td>4.33</td>\n",
       "      <td>5523413</td>\n",
       "      <td>160776</td>\n",
       "      <td>Los juegos del hambre</td>\n",
       "      <td>Young Adult|Fiction|Science Fiction|Dystopia|F...</td>\n",
       "      <td>https://images.gr-assets.com/books/1335891621l...</td>\n",
       "      <td>Young Adult</td>\n",
       "      <td>Fiction</td>\n",
       "      <td>Science Fiction</td>\n",
       "      <td>Dystopia</td>\n",
       "    </tr>\n",
       "    <tr>\n",
       "      <th>28154</th>\n",
       "      <td>Suzanne Collins|Ina Jakaitė</td>\n",
       "      <td>LAIMĖJIMAS ATNEŠ ŠLOVĘ IR TURTĄ.PRALAIMĖJIMAS ...</td>\n",
       "      <td>NaN</td>\n",
       "      <td>Hardcover</td>\n",
       "      <td>NaN</td>\n",
       "      <td>352</td>\n",
       "      <td>4.33</td>\n",
       "      <td>5522714</td>\n",
       "      <td>160768</td>\n",
       "      <td>Bado žaidynės</td>\n",
       "      <td>Young Adult|Fiction|Science Fiction|Dystopia|F...</td>\n",
       "      <td>https://images.gr-assets.com/books/1303117363l...</td>\n",
       "      <td>Young Adult</td>\n",
       "      <td>Fiction</td>\n",
       "      <td>Science Fiction</td>\n",
       "      <td>Dystopia</td>\n",
       "    </tr>\n",
       "    <tr>\n",
       "      <th>25990</th>\n",
       "      <td>Suzanne Collins|Sevinç Tezcan Yanar</td>\n",
       "      <td>Etkileyici bir fantastik dünya, bitmek bilmeye...</td>\n",
       "      <td>NaN</td>\n",
       "      <td>Paperback</td>\n",
       "      <td>9.78606E+12</td>\n",
       "      <td>384</td>\n",
       "      <td>4.33</td>\n",
       "      <td>5522513</td>\n",
       "      <td>160762</td>\n",
       "      <td>Açlık Oyunları</td>\n",
       "      <td>Young Adult|Fiction|Science Fiction|Dystopia|F...</td>\n",
       "      <td>https://images.gr-assets.com/books/1275904617l...</td>\n",
       "      <td>Young Adult</td>\n",
       "      <td>Fiction</td>\n",
       "      <td>Science Fiction</td>\n",
       "      <td>Dystopia</td>\n",
       "    </tr>\n",
       "    <tr>\n",
       "      <th>21895</th>\n",
       "      <td>Suzanne Collins|Fabio Paracchini|Simona Brogli</td>\n",
       "      <td>Quando Katniss urla \"Mi offro volontaria, mi o...</td>\n",
       "      <td>Chrysalide</td>\n",
       "      <td>Hardcover</td>\n",
       "      <td>9.7888E+12</td>\n",
       "      <td>369</td>\n",
       "      <td>4.33</td>\n",
       "      <td>5522483</td>\n",
       "      <td>160762</td>\n",
       "      <td>Hunger Games</td>\n",
       "      <td>Young Adult|Fiction|Science Fiction|Dystopia|F...</td>\n",
       "      <td>https://images.gr-assets.com/books/1335446608l...</td>\n",
       "      <td>Young Adult</td>\n",
       "      <td>Fiction</td>\n",
       "      <td>Science Fiction</td>\n",
       "      <td>Dystopia</td>\n",
       "    </tr>\n",
       "    <tr>\n",
       "      <th>...</th>\n",
       "      <td>...</td>\n",
       "      <td>...</td>\n",
       "      <td>...</td>\n",
       "      <td>...</td>\n",
       "      <td>...</td>\n",
       "      <td>...</td>\n",
       "      <td>...</td>\n",
       "      <td>...</td>\n",
       "      <td>...</td>\n",
       "      <td>...</td>\n",
       "      <td>...</td>\n",
       "      <td>...</td>\n",
       "      <td>...</td>\n",
       "      <td>...</td>\n",
       "      <td>...</td>\n",
       "      <td>...</td>\n",
       "    </tr>\n",
       "    <tr>\n",
       "      <th>176</th>\n",
       "      <td>Amy Tan</td>\n",
       "      <td>In 1949, four Chinese women, recent immigrants...</td>\n",
       "      <td>NaN</td>\n",
       "      <td>Paperback</td>\n",
       "      <td>9.78014E+12</td>\n",
       "      <td>288</td>\n",
       "      <td>3.91</td>\n",
       "      <td>552197</td>\n",
       "      <td>7521</td>\n",
       "      <td>The Joy Luck Club</td>\n",
       "      <td>Fiction|Historical|Historical Fiction|Classics...</td>\n",
       "      <td>https://images.gr-assets.com/books/1304978653l...</td>\n",
       "      <td>Fiction</td>\n",
       "      <td>Historical</td>\n",
       "      <td>Historical Fiction</td>\n",
       "      <td>Classics</td>\n",
       "    </tr>\n",
       "    <tr>\n",
       "      <th>49047</th>\n",
       "      <td>Tracy Chevalier</td>\n",
       "      <td>The Dutch painter Vermeer has remained one of ...</td>\n",
       "      <td>NaN</td>\n",
       "      <td>Paperback</td>\n",
       "      <td>9.78001E+12</td>\n",
       "      <td>308</td>\n",
       "      <td>3.86</td>\n",
       "      <td>550372</td>\n",
       "      <td>8621</td>\n",
       "      <td>Girl With A Pearl Earring</td>\n",
       "      <td>Historical|Historical Fiction|Fiction|Historic...</td>\n",
       "      <td>https://images.gr-assets.com/books/1386923700l...</td>\n",
       "      <td>Historical</td>\n",
       "      <td>Historical Fiction</td>\n",
       "      <td>Fiction</td>\n",
       "      <td>Historical</td>\n",
       "    </tr>\n",
       "    <tr>\n",
       "      <th>34654</th>\n",
       "      <td>Tracy Chevalier</td>\n",
       "      <td>An international bestseller with over two mill...</td>\n",
       "      <td>NaN</td>\n",
       "      <td>Paperback</td>\n",
       "      <td>9.78001E+12</td>\n",
       "      <td>248</td>\n",
       "      <td>3.86</td>\n",
       "      <td>550263</td>\n",
       "      <td>8620</td>\n",
       "      <td>Girl with a Pearl Earring</td>\n",
       "      <td>Historical|Historical Fiction|Fiction|Historic...</td>\n",
       "      <td>https://images.gr-assets.com/books/1340847664l...</td>\n",
       "      <td>Historical</td>\n",
       "      <td>Historical Fiction</td>\n",
       "      <td>Fiction</td>\n",
       "      <td>Historical</td>\n",
       "    </tr>\n",
       "    <tr>\n",
       "      <th>225</th>\n",
       "      <td>Tracy Chevalier</td>\n",
       "      <td>With precisely 35 canvases to his credit, the ...</td>\n",
       "      <td>Deluxe Edition</td>\n",
       "      <td>Paperback</td>\n",
       "      <td>9.78045E+12</td>\n",
       "      <td>233</td>\n",
       "      <td>3.86</td>\n",
       "      <td>549984</td>\n",
       "      <td>8618</td>\n",
       "      <td>Girl with a Pearl Earring</td>\n",
       "      <td>Historical|Historical Fiction|Fiction|Historic...</td>\n",
       "      <td>https://images.gr-assets.com/books/1327197580l...</td>\n",
       "      <td>Historical</td>\n",
       "      <td>Historical Fiction</td>\n",
       "      <td>Fiction</td>\n",
       "      <td>Historical</td>\n",
       "    </tr>\n",
       "    <tr>\n",
       "      <th>37887</th>\n",
       "      <td>Marissa Meyer|Rebecca Soler</td>\n",
       "      <td>Humans and androids crowd the raucous streets ...</td>\n",
       "      <td>NaN</td>\n",
       "      <td>Audiobook</td>\n",
       "      <td>9.78143E+12</td>\n",
       "      <td>10</td>\n",
       "      <td>4.15</td>\n",
       "      <td>548722</td>\n",
       "      <td>46598</td>\n",
       "      <td>Cinder</td>\n",
       "      <td>Young Adult|Fantasy|Science Fiction|Science Fi...</td>\n",
       "      <td>https://images.gr-assets.com/books/1358136988l...</td>\n",
       "      <td>Young Adult</td>\n",
       "      <td>Fantasy</td>\n",
       "      <td>Science Fiction</td>\n",
       "      <td>Science Fiction</td>\n",
       "    </tr>\n",
       "  </tbody>\n",
       "</table>\n",
       "<p>1000 rows × 16 columns</p>\n",
       "</div>"
      ],
      "text/plain": [
       "                                         book_authors  ...            gen_4\n",
       "50                         J.K. Rowling|Mary GrandPré  ...             None\n",
       "44271                                 Suzanne Collins  ...         Dystopia\n",
       "28154                     Suzanne Collins|Ina Jakaitė  ...         Dystopia\n",
       "25990             Suzanne Collins|Sevinç Tezcan Yanar  ...         Dystopia\n",
       "21895  Suzanne Collins|Fabio Paracchini|Simona Brogli  ...         Dystopia\n",
       "...                                               ...  ...              ...\n",
       "176                                           Amy Tan  ...         Classics\n",
       "49047                                 Tracy Chevalier  ...       Historical\n",
       "34654                                 Tracy Chevalier  ...       Historical\n",
       "225                                   Tracy Chevalier  ...       Historical\n",
       "37887                     Marissa Meyer|Rebecca Soler  ...  Science Fiction\n",
       "\n",
       "[1000 rows x 16 columns]"
      ]
     },
     "execution_count": 45,
     "metadata": {
      "tags": []
     },
     "output_type": "execute_result"
    }
   ],
   "source": [
    "gr_top1000"
   ]
  },
  {
   "cell_type": "code",
   "execution_count": null,
   "metadata": {
    "colab": {
     "base_uri": "https://localhost:8080/"
    },
    "id": "yAL3guf5L3Bn",
    "outputId": "e005165f-8dcd-4ce6-9958-91c8b450bca7"
   },
   "outputs": [
    {
     "name": "stdout",
     "output_type": "stream",
     "text": [
      "\u001b[0m\u001b[01;34mdrive\u001b[0m/  \u001b[01;34msample_data\u001b[0m/\n"
     ]
    }
   ],
   "source": [
    "ls"
   ]
  },
  {
   "cell_type": "code",
   "execution_count": null,
   "metadata": {
    "colab": {
     "base_uri": "https://localhost:8080/"
    },
    "id": "1SHuM6LrL3We",
    "outputId": "4b0e4bef-1c7d-41af-d9da-1220ec8309a7"
   },
   "outputs": [
    {
     "name": "stdout",
     "output_type": "stream",
     "text": [
      "/content/drive/MyDrive/Ironhack\n"
     ]
    }
   ],
   "source": [
    "cd drive/MyDrive/Ironhack/"
   ]
  },
  {
   "cell_type": "code",
   "execution_count": null,
   "metadata": {
    "id": "ETWueP_PL91q"
   },
   "outputs": [],
   "source": [
    "gr_top1000.to_csv('arregladatop1000gr.csv')"
   ]
  },
  {
   "cell_type": "code",
   "execution_count": null,
   "metadata": {
    "colab": {
     "base_uri": "https://localhost:8080/",
     "height": 847
    },
    "id": "J0Plb3qpMQtR",
    "outputId": "23f61eb8-3280-4524-a553-7b005df4724d"
   },
   "outputs": [
    {
     "data": {
      "text/html": [
       "<div>\n",
       "<style scoped>\n",
       "    .dataframe tbody tr th:only-of-type {\n",
       "        vertical-align: middle;\n",
       "    }\n",
       "\n",
       "    .dataframe tbody tr th {\n",
       "        vertical-align: top;\n",
       "    }\n",
       "\n",
       "    .dataframe thead th {\n",
       "        text-align: right;\n",
       "    }\n",
       "</style>\n",
       "<table border=\"1\" class=\"dataframe\">\n",
       "  <thead>\n",
       "    <tr style=\"text-align: right;\">\n",
       "      <th></th>\n",
       "      <th>Unnamed: 0</th>\n",
       "      <th>book_authors</th>\n",
       "      <th>book_desc</th>\n",
       "      <th>book_edition</th>\n",
       "      <th>book_format</th>\n",
       "      <th>book_isbn</th>\n",
       "      <th>book_pages</th>\n",
       "      <th>book_rating</th>\n",
       "      <th>book_rating_count</th>\n",
       "      <th>book_review_count</th>\n",
       "      <th>book_title</th>\n",
       "      <th>book_genres</th>\n",
       "      <th>image_url</th>\n",
       "      <th>gen_1</th>\n",
       "      <th>gen_2</th>\n",
       "      <th>gen_3</th>\n",
       "      <th>gen_4</th>\n",
       "    </tr>\n",
       "  </thead>\n",
       "  <tbody>\n",
       "    <tr>\n",
       "      <th>0</th>\n",
       "      <td>50</td>\n",
       "      <td>J.K. Rowling|Mary GrandPré</td>\n",
       "      <td>Harry Potter's life is miserable. His parents ...</td>\n",
       "      <td>NaN</td>\n",
       "      <td>Hardcover</td>\n",
       "      <td>9.780440e+12</td>\n",
       "      <td>320</td>\n",
       "      <td>4.46</td>\n",
       "      <td>5588580</td>\n",
       "      <td>88816</td>\n",
       "      <td>Harry Potter and the Sorcerer's Stone</td>\n",
       "      <td>Fantasy|Young Adult|Fiction</td>\n",
       "      <td>https://images.gr-assets.com/books/1474154022l...</td>\n",
       "      <td>Fantasy</td>\n",
       "      <td>Young Adult</td>\n",
       "      <td>Fiction</td>\n",
       "      <td>NaN</td>\n",
       "    </tr>\n",
       "    <tr>\n",
       "      <th>1</th>\n",
       "      <td>44271</td>\n",
       "      <td>Suzanne Collins</td>\n",
       "      <td>\\r\\r\\nGanar significa fama y fortuna. Perder s...</td>\n",
       "      <td>NaN</td>\n",
       "      <td>Paperback</td>\n",
       "      <td>9.788500e+12</td>\n",
       "      <td>396</td>\n",
       "      <td>4.33</td>\n",
       "      <td>5523413</td>\n",
       "      <td>160776</td>\n",
       "      <td>Los juegos del hambre</td>\n",
       "      <td>Young Adult|Fiction|Science Fiction|Dystopia|F...</td>\n",
       "      <td>https://images.gr-assets.com/books/1335891621l...</td>\n",
       "      <td>Young Adult</td>\n",
       "      <td>Fiction</td>\n",
       "      <td>Science Fiction</td>\n",
       "      <td>Dystopia</td>\n",
       "    </tr>\n",
       "    <tr>\n",
       "      <th>2</th>\n",
       "      <td>28154</td>\n",
       "      <td>Suzanne Collins|Ina Jakaitė</td>\n",
       "      <td>LAIMĖJIMAS ATNEŠ ŠLOVĘ IR TURTĄ.PRALAIMĖJIMAS ...</td>\n",
       "      <td>NaN</td>\n",
       "      <td>Hardcover</td>\n",
       "      <td>NaN</td>\n",
       "      <td>352</td>\n",
       "      <td>4.33</td>\n",
       "      <td>5522714</td>\n",
       "      <td>160768</td>\n",
       "      <td>Bado žaidynės</td>\n",
       "      <td>Young Adult|Fiction|Science Fiction|Dystopia|F...</td>\n",
       "      <td>https://images.gr-assets.com/books/1303117363l...</td>\n",
       "      <td>Young Adult</td>\n",
       "      <td>Fiction</td>\n",
       "      <td>Science Fiction</td>\n",
       "      <td>Dystopia</td>\n",
       "    </tr>\n",
       "    <tr>\n",
       "      <th>3</th>\n",
       "      <td>25990</td>\n",
       "      <td>Suzanne Collins|Sevinç Tezcan Yanar</td>\n",
       "      <td>Etkileyici bir fantastik dünya, bitmek bilmeye...</td>\n",
       "      <td>NaN</td>\n",
       "      <td>Paperback</td>\n",
       "      <td>9.786060e+12</td>\n",
       "      <td>384</td>\n",
       "      <td>4.33</td>\n",
       "      <td>5522513</td>\n",
       "      <td>160762</td>\n",
       "      <td>Açlık Oyunları</td>\n",
       "      <td>Young Adult|Fiction|Science Fiction|Dystopia|F...</td>\n",
       "      <td>https://images.gr-assets.com/books/1275904617l...</td>\n",
       "      <td>Young Adult</td>\n",
       "      <td>Fiction</td>\n",
       "      <td>Science Fiction</td>\n",
       "      <td>Dystopia</td>\n",
       "    </tr>\n",
       "    <tr>\n",
       "      <th>4</th>\n",
       "      <td>21895</td>\n",
       "      <td>Suzanne Collins|Fabio Paracchini|Simona Brogli</td>\n",
       "      <td>Quando Katniss urla \"Mi offro volontaria, mi o...</td>\n",
       "      <td>Chrysalide</td>\n",
       "      <td>Hardcover</td>\n",
       "      <td>9.788800e+12</td>\n",
       "      <td>369</td>\n",
       "      <td>4.33</td>\n",
       "      <td>5522483</td>\n",
       "      <td>160762</td>\n",
       "      <td>Hunger Games</td>\n",
       "      <td>Young Adult|Fiction|Science Fiction|Dystopia|F...</td>\n",
       "      <td>https://images.gr-assets.com/books/1335446608l...</td>\n",
       "      <td>Young Adult</td>\n",
       "      <td>Fiction</td>\n",
       "      <td>Science Fiction</td>\n",
       "      <td>Dystopia</td>\n",
       "    </tr>\n",
       "    <tr>\n",
       "      <th>...</th>\n",
       "      <td>...</td>\n",
       "      <td>...</td>\n",
       "      <td>...</td>\n",
       "      <td>...</td>\n",
       "      <td>...</td>\n",
       "      <td>...</td>\n",
       "      <td>...</td>\n",
       "      <td>...</td>\n",
       "      <td>...</td>\n",
       "      <td>...</td>\n",
       "      <td>...</td>\n",
       "      <td>...</td>\n",
       "      <td>...</td>\n",
       "      <td>...</td>\n",
       "      <td>...</td>\n",
       "      <td>...</td>\n",
       "      <td>...</td>\n",
       "    </tr>\n",
       "    <tr>\n",
       "      <th>995</th>\n",
       "      <td>176</td>\n",
       "      <td>Amy Tan</td>\n",
       "      <td>In 1949, four Chinese women, recent immigrants...</td>\n",
       "      <td>NaN</td>\n",
       "      <td>Paperback</td>\n",
       "      <td>9.780140e+12</td>\n",
       "      <td>288</td>\n",
       "      <td>3.91</td>\n",
       "      <td>552197</td>\n",
       "      <td>7521</td>\n",
       "      <td>The Joy Luck Club</td>\n",
       "      <td>Fiction|Historical|Historical Fiction|Classics...</td>\n",
       "      <td>https://images.gr-assets.com/books/1304978653l...</td>\n",
       "      <td>Fiction</td>\n",
       "      <td>Historical</td>\n",
       "      <td>Historical Fiction</td>\n",
       "      <td>Classics</td>\n",
       "    </tr>\n",
       "    <tr>\n",
       "      <th>996</th>\n",
       "      <td>49047</td>\n",
       "      <td>Tracy Chevalier</td>\n",
       "      <td>The Dutch painter Vermeer has remained one of ...</td>\n",
       "      <td>NaN</td>\n",
       "      <td>Paperback</td>\n",
       "      <td>9.780010e+12</td>\n",
       "      <td>308</td>\n",
       "      <td>3.86</td>\n",
       "      <td>550372</td>\n",
       "      <td>8621</td>\n",
       "      <td>Girl With A Pearl Earring</td>\n",
       "      <td>Historical|Historical Fiction|Fiction|Historic...</td>\n",
       "      <td>https://images.gr-assets.com/books/1386923700l...</td>\n",
       "      <td>Historical</td>\n",
       "      <td>Historical Fiction</td>\n",
       "      <td>Fiction</td>\n",
       "      <td>Historical</td>\n",
       "    </tr>\n",
       "    <tr>\n",
       "      <th>997</th>\n",
       "      <td>34654</td>\n",
       "      <td>Tracy Chevalier</td>\n",
       "      <td>An international bestseller with over two mill...</td>\n",
       "      <td>NaN</td>\n",
       "      <td>Paperback</td>\n",
       "      <td>9.780010e+12</td>\n",
       "      <td>248</td>\n",
       "      <td>3.86</td>\n",
       "      <td>550263</td>\n",
       "      <td>8620</td>\n",
       "      <td>Girl with a Pearl Earring</td>\n",
       "      <td>Historical|Historical Fiction|Fiction|Historic...</td>\n",
       "      <td>https://images.gr-assets.com/books/1340847664l...</td>\n",
       "      <td>Historical</td>\n",
       "      <td>Historical Fiction</td>\n",
       "      <td>Fiction</td>\n",
       "      <td>Historical</td>\n",
       "    </tr>\n",
       "    <tr>\n",
       "      <th>998</th>\n",
       "      <td>225</td>\n",
       "      <td>Tracy Chevalier</td>\n",
       "      <td>With precisely 35 canvases to his credit, the ...</td>\n",
       "      <td>Deluxe Edition</td>\n",
       "      <td>Paperback</td>\n",
       "      <td>9.780450e+12</td>\n",
       "      <td>233</td>\n",
       "      <td>3.86</td>\n",
       "      <td>549984</td>\n",
       "      <td>8618</td>\n",
       "      <td>Girl with a Pearl Earring</td>\n",
       "      <td>Historical|Historical Fiction|Fiction|Historic...</td>\n",
       "      <td>https://images.gr-assets.com/books/1327197580l...</td>\n",
       "      <td>Historical</td>\n",
       "      <td>Historical Fiction</td>\n",
       "      <td>Fiction</td>\n",
       "      <td>Historical</td>\n",
       "    </tr>\n",
       "    <tr>\n",
       "      <th>999</th>\n",
       "      <td>37887</td>\n",
       "      <td>Marissa Meyer|Rebecca Soler</td>\n",
       "      <td>Humans and androids crowd the raucous streets ...</td>\n",
       "      <td>NaN</td>\n",
       "      <td>Audiobook</td>\n",
       "      <td>9.781430e+12</td>\n",
       "      <td>10</td>\n",
       "      <td>4.15</td>\n",
       "      <td>548722</td>\n",
       "      <td>46598</td>\n",
       "      <td>Cinder</td>\n",
       "      <td>Young Adult|Fantasy|Science Fiction|Science Fi...</td>\n",
       "      <td>https://images.gr-assets.com/books/1358136988l...</td>\n",
       "      <td>Young Adult</td>\n",
       "      <td>Fantasy</td>\n",
       "      <td>Science Fiction</td>\n",
       "      <td>Science Fiction</td>\n",
       "    </tr>\n",
       "  </tbody>\n",
       "</table>\n",
       "<p>1000 rows × 17 columns</p>\n",
       "</div>"
      ],
      "text/plain": [
       "     Unnamed: 0  ...            gen_4\n",
       "0            50  ...              NaN\n",
       "1         44271  ...         Dystopia\n",
       "2         28154  ...         Dystopia\n",
       "3         25990  ...         Dystopia\n",
       "4         21895  ...         Dystopia\n",
       "..          ...  ...              ...\n",
       "995         176  ...         Classics\n",
       "996       49047  ...       Historical\n",
       "997       34654  ...       Historical\n",
       "998         225  ...       Historical\n",
       "999       37887  ...  Science Fiction\n",
       "\n",
       "[1000 rows x 17 columns]"
      ]
     },
     "execution_count": 66,
     "metadata": {
      "tags": []
     },
     "output_type": "execute_result"
    }
   ],
   "source": [
    "pd.read_csv ('arregladatop1000gr.csv')"
   ]
  },
  {
   "cell_type": "code",
   "execution_count": null,
   "metadata": {
    "id": "nhSrSjVnMarB"
   },
   "outputs": [],
   "source": [
    "imbd_top1000.to_csv('arregladatop1000imbd.csv')"
   ]
  },
  {
   "cell_type": "code",
   "execution_count": null,
   "metadata": {
    "colab": {
     "base_uri": "https://localhost:8080/",
     "height": 898
    },
    "id": "lJeYLoiEM3NX",
    "outputId": "f818f11e-f259-434d-dbf9-cc7f8a249bd0"
   },
   "outputs": [
    {
     "data": {
      "text/html": [
       "<div>\n",
       "<style scoped>\n",
       "    .dataframe tbody tr th:only-of-type {\n",
       "        vertical-align: middle;\n",
       "    }\n",
       "\n",
       "    .dataframe tbody tr th {\n",
       "        vertical-align: top;\n",
       "    }\n",
       "\n",
       "    .dataframe thead th {\n",
       "        text-align: right;\n",
       "    }\n",
       "</style>\n",
       "<table border=\"1\" class=\"dataframe\">\n",
       "  <thead>\n",
       "    <tr style=\"text-align: right;\">\n",
       "      <th></th>\n",
       "      <th>Unnamed: 0</th>\n",
       "      <th>movie_name</th>\n",
       "      <th>movie_year</th>\n",
       "      <th>movie_runtime</th>\n",
       "      <th>movie_rating</th>\n",
       "      <th>movie_metascore</th>\n",
       "      <th>movie_genre</th>\n",
       "      <th>movie_votes</th>\n",
       "      <th>movie_gross</th>\n",
       "      <th>movie_certificate</th>\n",
       "      <th>movie_synopsis</th>\n",
       "      <th>gen_1</th>\n",
       "      <th>gen_2</th>\n",
       "      <th>gen_3</th>\n",
       "    </tr>\n",
       "  </thead>\n",
       "  <tbody>\n",
       "    <tr>\n",
       "      <th>0</th>\n",
       "      <td>0</td>\n",
       "      <td>The Shawshank Redemption</td>\n",
       "      <td>1994</td>\n",
       "      <td>142</td>\n",
       "      <td>9.3</td>\n",
       "      <td>80.0</td>\n",
       "      <td>Drama</td>\n",
       "      <td>2,403,452</td>\n",
       "      <td>$28.34M</td>\n",
       "      <td>R</td>\n",
       "      <td>Two imprisoned men bond over a number of years...</td>\n",
       "      <td>Drama</td>\n",
       "      <td>NaN</td>\n",
       "      <td>NaN</td>\n",
       "    </tr>\n",
       "    <tr>\n",
       "      <th>1</th>\n",
       "      <td>1</td>\n",
       "      <td>The Godfather</td>\n",
       "      <td>1972</td>\n",
       "      <td>175</td>\n",
       "      <td>9.2</td>\n",
       "      <td>100.0</td>\n",
       "      <td>Crime, Drama</td>\n",
       "      <td>1,663,867</td>\n",
       "      <td>$134.97M</td>\n",
       "      <td>R</td>\n",
       "      <td>An organized crime dynasty's aging patriarch t...</td>\n",
       "      <td>Crime</td>\n",
       "      <td>Drama</td>\n",
       "      <td>NaN</td>\n",
       "    </tr>\n",
       "    <tr>\n",
       "      <th>2</th>\n",
       "      <td>2</td>\n",
       "      <td>Soorarai Pottru</td>\n",
       "      <td>2020</td>\n",
       "      <td>153</td>\n",
       "      <td>9.1</td>\n",
       "      <td>NaN</td>\n",
       "      <td>Drama</td>\n",
       "      <td>82,180</td>\n",
       "      <td>NaN</td>\n",
       "      <td>TV-MA</td>\n",
       "      <td>Nedumaaran Rajangam \"Maara\" sets out to make t...</td>\n",
       "      <td>Drama</td>\n",
       "      <td>NaN</td>\n",
       "      <td>NaN</td>\n",
       "    </tr>\n",
       "    <tr>\n",
       "      <th>3</th>\n",
       "      <td>3</td>\n",
       "      <td>The Dark Knight</td>\n",
       "      <td>2008</td>\n",
       "      <td>152</td>\n",
       "      <td>9.0</td>\n",
       "      <td>84.0</td>\n",
       "      <td>Action, Crime, Drama</td>\n",
       "      <td>2,363,656</td>\n",
       "      <td>$534.86M</td>\n",
       "      <td>PG-13</td>\n",
       "      <td>When the menace known as the Joker wreaks havo...</td>\n",
       "      <td>Action</td>\n",
       "      <td>Crime</td>\n",
       "      <td>Drama</td>\n",
       "    </tr>\n",
       "    <tr>\n",
       "      <th>4</th>\n",
       "      <td>4</td>\n",
       "      <td>The Godfather: Part II</td>\n",
       "      <td>1974</td>\n",
       "      <td>202</td>\n",
       "      <td>9.0</td>\n",
       "      <td>90.0</td>\n",
       "      <td>Crime, Drama</td>\n",
       "      <td>1,156,297</td>\n",
       "      <td>$57.30M</td>\n",
       "      <td>R</td>\n",
       "      <td>The early life and career of Vito Corleone in ...</td>\n",
       "      <td>Crime</td>\n",
       "      <td>Drama</td>\n",
       "      <td>NaN</td>\n",
       "    </tr>\n",
       "    <tr>\n",
       "      <th>...</th>\n",
       "      <td>...</td>\n",
       "      <td>...</td>\n",
       "      <td>...</td>\n",
       "      <td>...</td>\n",
       "      <td>...</td>\n",
       "      <td>...</td>\n",
       "      <td>...</td>\n",
       "      <td>...</td>\n",
       "      <td>...</td>\n",
       "      <td>...</td>\n",
       "      <td>...</td>\n",
       "      <td>...</td>\n",
       "      <td>...</td>\n",
       "      <td>...</td>\n",
       "    </tr>\n",
       "    <tr>\n",
       "      <th>995</th>\n",
       "      <td>995</td>\n",
       "      <td>Breakfast at Tiffany's</td>\n",
       "      <td>1961</td>\n",
       "      <td>115</td>\n",
       "      <td>7.6</td>\n",
       "      <td>76.0</td>\n",
       "      <td>Comedy, Drama, Romance</td>\n",
       "      <td>169,935</td>\n",
       "      <td>NaN</td>\n",
       "      <td>Approved</td>\n",
       "      <td>A young New York socialite becomes interested ...</td>\n",
       "      <td>Comedy</td>\n",
       "      <td>Drama</td>\n",
       "      <td>Romance</td>\n",
       "    </tr>\n",
       "    <tr>\n",
       "      <th>996</th>\n",
       "      <td>996</td>\n",
       "      <td>Giant</td>\n",
       "      <td>1956</td>\n",
       "      <td>201</td>\n",
       "      <td>7.6</td>\n",
       "      <td>84.0</td>\n",
       "      <td>Drama, Western</td>\n",
       "      <td>34,878</td>\n",
       "      <td>NaN</td>\n",
       "      <td>G</td>\n",
       "      <td>Sprawling epic covering the life of a Texas ca...</td>\n",
       "      <td>Drama</td>\n",
       "      <td>Western</td>\n",
       "      <td>NaN</td>\n",
       "    </tr>\n",
       "    <tr>\n",
       "      <th>997</th>\n",
       "      <td>997</td>\n",
       "      <td>Shane</td>\n",
       "      <td>1953</td>\n",
       "      <td>118</td>\n",
       "      <td>7.6</td>\n",
       "      <td>80.0</td>\n",
       "      <td>Drama, Western</td>\n",
       "      <td>37,873</td>\n",
       "      <td>$20.00M</td>\n",
       "      <td>Not Rated</td>\n",
       "      <td>A weary gunfighter attempts to settle down wit...</td>\n",
       "      <td>Drama</td>\n",
       "      <td>Western</td>\n",
       "      <td>NaN</td>\n",
       "    </tr>\n",
       "    <tr>\n",
       "      <th>998</th>\n",
       "      <td>998</td>\n",
       "      <td>From Here to Eternity</td>\n",
       "      <td>1953</td>\n",
       "      <td>118</td>\n",
       "      <td>7.6</td>\n",
       "      <td>85.0</td>\n",
       "      <td>Drama, Romance, War</td>\n",
       "      <td>44,190</td>\n",
       "      <td>$30.50M</td>\n",
       "      <td>Passed</td>\n",
       "      <td>In Hawaii in 1941, a private is cruelly punish...</td>\n",
       "      <td>Drama</td>\n",
       "      <td>Romance</td>\n",
       "      <td>War</td>\n",
       "    </tr>\n",
       "    <tr>\n",
       "      <th>999</th>\n",
       "      <td>999</td>\n",
       "      <td>Lifeboat</td>\n",
       "      <td>1944</td>\n",
       "      <td>97</td>\n",
       "      <td>7.6</td>\n",
       "      <td>78.0</td>\n",
       "      <td>Drama, War</td>\n",
       "      <td>26,975</td>\n",
       "      <td>NaN</td>\n",
       "      <td>Not Rated</td>\n",
       "      <td>Several survivors of a torpedoed merchant ship...</td>\n",
       "      <td>Drama</td>\n",
       "      <td>War</td>\n",
       "      <td>NaN</td>\n",
       "    </tr>\n",
       "  </tbody>\n",
       "</table>\n",
       "<p>1000 rows × 14 columns</p>\n",
       "</div>"
      ],
      "text/plain": [
       "     Unnamed: 0                movie_name  movie_year  ...   gen_1    gen_2    gen_3\n",
       "0             0  The Shawshank Redemption        1994  ...   Drama      NaN      NaN\n",
       "1             1             The Godfather        1972  ...   Crime    Drama      NaN\n",
       "2             2           Soorarai Pottru        2020  ...   Drama      NaN      NaN\n",
       "3             3           The Dark Knight        2008  ...  Action    Crime    Drama\n",
       "4             4    The Godfather: Part II        1974  ...   Crime    Drama      NaN\n",
       "..          ...                       ...         ...  ...     ...      ...      ...\n",
       "995         995    Breakfast at Tiffany's        1961  ...  Comedy    Drama  Romance\n",
       "996         996                     Giant        1956  ...   Drama  Western      NaN\n",
       "997         997                     Shane        1953  ...   Drama  Western      NaN\n",
       "998         998     From Here to Eternity        1953  ...   Drama  Romance      War\n",
       "999         999                  Lifeboat        1944  ...   Drama      War      NaN\n",
       "\n",
       "[1000 rows x 14 columns]"
      ]
     },
     "execution_count": 68,
     "metadata": {
      "tags": []
     },
     "output_type": "execute_result"
    }
   ],
   "source": [
    "pd.read_csv('arregladatop1000imbd.csv')"
   ]
  }
 ],
 "metadata": {
  "colab": {
   "name": "Proyecto 4.ipynb",
   "provenance": []
  },
  "kernelspec": {
   "display_name": "Python 3",
   "language": "python",
   "name": "python3"
  },
  "language_info": {
   "codemirror_mode": {
    "name": "ipython",
    "version": 3
   },
   "file_extension": ".py",
   "mimetype": "text/x-python",
   "name": "python",
   "nbconvert_exporter": "python",
   "pygments_lexer": "ipython3",
   "version": "3.8.8"
  }
 },
 "nbformat": 4,
 "nbformat_minor": 1
}
