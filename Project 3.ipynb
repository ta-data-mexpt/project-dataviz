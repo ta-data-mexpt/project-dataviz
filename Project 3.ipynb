{
 "cells": [
  {
   "cell_type": "code",
   "execution_count": 80,
   "metadata": {},
   "outputs": [],
   "source": [
    "import pandas as pd\n",
    "import numpy as np"
   ]
  },
  {
   "cell_type": "code",
   "execution_count": 81,
   "metadata": {},
   "outputs": [],
   "source": [
    "data = pd.read_csv('sancionesCnbv.csv')"
   ]
  },
  {
   "cell_type": "code",
   "execution_count": null,
   "metadata": {},
   "outputs": [],
   "source": []
  },
  {
   "cell_type": "code",
   "execution_count": null,
   "metadata": {},
   "outputs": [],
   "source": []
  },
  {
   "cell_type": "code",
   "execution_count": 82,
   "metadata": {},
   "outputs": [],
   "source": [
    "data.columns = [x.lower() for x in data.columns]"
   ]
  },
  {
   "cell_type": "code",
   "execution_count": 83,
   "metadata": {},
   "outputs": [],
   "source": [
    "data.columns = data.columns.str.normalize('NFKD').str.encode('ascii',errors='ignore').str.decode('utf-8')"
   ]
  },
  {
   "cell_type": "code",
   "execution_count": 84,
   "metadata": {},
   "outputs": [],
   "source": [
    "data.columns= data.columns.str.replace(' ' ,\"_\")"
   ]
  },
  {
   "cell_type": "code",
   "execution_count": 85,
   "metadata": {},
   "outputs": [],
   "source": [
    "data.columns = data.columns.str.strip('_')"
   ]
  },
  {
   "cell_type": "code",
   "execution_count": 86,
   "metadata": {},
   "outputs": [
    {
     "data": {
      "text/plain": [
       "Index(['id_sancion', 'tipo_de_persona', 'infractor', 'tipo_de_sancion',\n",
       "       'sub_sector', 'monto', 'entidad_asociada', 'sector_de_entidad_asociada',\n",
       "       'conducta_sancionada', 'normatividad_infringida',\n",
       "       'descripcion_de_la_conducta', 'fecha_de_infraccion',\n",
       "       'fecha_de_imposicion', 'pagada', 'grave', 'reincidente',\n",
       "       'resolucion_firme', 'susceptible_de_impugnacion', 'mes_de_publicacion',\n",
       "       'aclaraciones'],\n",
       "      dtype='object')"
      ]
     },
     "execution_count": 86,
     "metadata": {},
     "output_type": "execute_result"
    }
   ],
   "source": [
    "data.columns"
   ]
  },
  {
   "cell_type": "code",
   "execution_count": 87,
   "metadata": {},
   "outputs": [],
   "source": [
    "data = data.rename(columns={'fecha_de_infraccion':'anio_infraccion'})"
   ]
  },
  {
   "cell_type": "code",
   "execution_count": 88,
   "metadata": {},
   "outputs": [],
   "source": [
    "data['monto'] = data['monto'].astype('str') \n",
    "data [\"monto\"] = data [\"monto\"].str.extract(r'([\\d].*\\.\\d.)')\n",
    "data [\"monto\"] = data [\"monto\"].str.replace(',', '')\n",
    "data [['monto']] = data[['monto']].fillna(0).astype(float)"
   ]
  },
  {
   "cell_type": "code",
   "execution_count": 89,
   "metadata": {},
   "outputs": [],
   "source": [
    "data ['anio_infraccion']=data['anio_infraccion'].astype('string').str.rstrip(\".0\")"
   ]
  },
  {
   "cell_type": "code",
   "execution_count": 90,
   "metadata": {},
   "outputs": [],
   "source": [
    "data['anio_infraccion']= pd.to_datetime(data['anio_infraccion'],errors='coerce')"
   ]
  },
  {
   "cell_type": "code",
   "execution_count": 91,
   "metadata": {},
   "outputs": [],
   "source": [
    "data['fecha_de_imposicion']= pd.to_datetime(data['fecha_de_imposicion'],format='%d/%m/%Y',errors='coerce')\n",
    "\n"
   ]
  },
  {
   "cell_type": "code",
   "execution_count": 92,
   "metadata": {},
   "outputs": [],
   "source": [
    "data['anio_imposicion'] = data['fecha_de_imposicion'].dt.strftime('%Y')"
   ]
  },
  {
   "cell_type": "code",
   "execution_count": 93,
   "metadata": {},
   "outputs": [],
   "source": [
    "data['anio_infraccion'] = data['anio_infraccion'].dt.strftime('%Y')"
   ]
  },
  {
   "cell_type": "code",
   "execution_count": 94,
   "metadata": {},
   "outputs": [
    {
     "data": {
      "text/plain": [
       "infractor                         1\n",
       "tipo_de_sancion                  14\n",
       "sub_sector                      362\n",
       "entidad_asociada              16139\n",
       "sector_de_entidad_asociada    16139\n",
       "descripcion_de_la_conducta       56\n",
       "anio_infraccion                1193\n",
       "fecha_de_imposicion               6\n",
       "aclaraciones                   5727\n",
       "anio_imposicion                   6\n",
       "dtype: int64"
      ]
     },
     "execution_count": 94,
     "metadata": {},
     "output_type": "execute_result"
    }
   ],
   "source": [
    "null_cols = data.isnull().sum()\n",
    "null_cols[null_cols > 0]"
   ]
  },
  {
   "cell_type": "code",
   "execution_count": 95,
   "metadata": {},
   "outputs": [],
   "source": [
    "drop_cols = list(null_cols[null_cols > 1500].index)\n"
   ]
  },
  {
   "cell_type": "code",
   "execution_count": 96,
   "metadata": {},
   "outputs": [],
   "source": [
    "data = data.drop(drop_cols, axis=1)"
   ]
  },
  {
   "cell_type": "code",
   "execution_count": 97,
   "metadata": {},
   "outputs": [],
   "source": [
    "data=data.drop(data[data['infractor'].isnull()==True].index, axis=0)"
   ]
  },
  {
   "cell_type": "code",
   "execution_count": 98,
   "metadata": {},
   "outputs": [],
   "source": [
    "data=data.drop(data[data['anio_infraccion'].isnull()==True].index, axis=0)\n",
    "data=data.drop(data[data['fecha_de_imposicion'].isnull()==True].index, axis=0)"
   ]
  },
  {
   "cell_type": "code",
   "execution_count": 99,
   "metadata": {},
   "outputs": [],
   "source": [
    "data = data.drop('mes_de_publicacion', axis=1)"
   ]
  },
  {
   "cell_type": "code",
   "execution_count": 100,
   "metadata": {},
   "outputs": [],
   "source": [
    "def acentos_lower(x):\n",
    "    return x.str.normalize('NFKD').str.encode('ascii',errors='ignore').str.decode('utf-8').str.lower()\n",
    "data['infractor'] = data[['infractor']].apply(acentos_lower)\n",
    "data['tipo_de_persona'] = data[['tipo_de_persona']].apply(acentos_lower)\n",
    "data['conducta_sancionada'] = data[['conducta_sancionada']].apply(acentos_lower)\n",
    "data['tipo_de_sancion'] = data[['tipo_de_sancion']].apply(acentos_lower)\n",
    "data['descripcion_de_la_conducta'] = data[['descripcion_de_la_conducta']].apply(acentos_lower)"
   ]
  },
  {
   "cell_type": "code",
   "execution_count": 101,
   "metadata": {},
   "outputs": [],
   "source": [
    "\n",
    "data [\"infractor\"] = data [\"infractor\"].str.extract(r'((\\w.*(?= s\\.a))|(\\w.*(?= a\\.c))|(\\w.*(?=, a\\.g))|(\\w.*(?= s\\.c))|(\\w.*(?= sapi de c))|\\w.*)')\n"
   ]
  },
  {
   "cell_type": "code",
   "execution_count": 102,
   "metadata": {},
   "outputs": [],
   "source": [
    "data['infractor']= data['infractor'].str.rstrip('. ').str.rstrip(',').str.rstrip(' ') "
   ]
  },
  {
   "cell_type": "code",
   "execution_count": null,
   "metadata": {},
   "outputs": [],
   "source": []
  },
  {
   "cell_type": "code",
   "execution_count": 103,
   "metadata": {},
   "outputs": [],
   "source": [
    "data=data.drop(data[data['infractor'].isnull()==True].index, axis=0)"
   ]
  },
  {
   "cell_type": "code",
   "execution_count": 104,
   "metadata": {},
   "outputs": [],
   "source": [
    "\n",
    "data['descripcion_de_la_conducta'] = data['descripcion_de_la_conducta'].fillna('sin informacion')"
   ]
  },
  {
   "cell_type": "code",
   "execution_count": null,
   "metadata": {},
   "outputs": [],
   "source": []
  },
  {
   "cell_type": "code",
   "execution_count": 105,
   "metadata": {},
   "outputs": [],
   "source": [
    "#data['descripcion_de_la_conducta'][data['descripcion_de_la_conducta'].str.contains('lavado|identificacion de clientes|alto riesgo|operaciones inusuales|operaciones relevantes|operaciones preocupantes', regex=True)].unique().tolist()"
   ]
  },
  {
   "cell_type": "code",
   "execution_count": 107,
   "metadata": {},
   "outputs": [],
   "source": [
    "condition1= [ data['conducta_sancionada'].str.contains('lavado|identificacion de clientes|alto riesgo|operaciones inusuales|operaciones relevantes|operaciones preocupantes', regex=True),\\\n",
    "            data['descripcion_de_la_conducta'].str.contains('lavado|identificacion de clientes|alto riesgo|operaciones inusuales|operaciones relevantes|operaciones preocupantes', regex=True)]\n",
    "choices1= ['Si','Si']\n",
    "\n",
    "data['lavado'] = np.select(condition1,choices1, default= 'No')\n",
    "\n",
    "#data['lavado'] = np.where(data[['conducta_sancionada','descripcion_de_la_conducta']].str.contains('lavado|identificacion de clientes|alto riesgo|operaciones inusuales|operaciones relevantes|operaciones preocupantes', regex=True), 'Si' , 'No')\n"
   ]
  },
  {
   "cell_type": "code",
   "execution_count": 108,
   "metadata": {},
   "outputs": [
    {
     "name": "stdout",
     "output_type": "stream",
     "text": [
      "<class 'pandas.core.frame.DataFrame'>\n",
      "Int64Index: 14947 entries, 0 to 16146\n",
      "Data columns (total 18 columns):\n",
      " #   Column                      Non-Null Count  Dtype         \n",
      "---  ------                      --------------  -----         \n",
      " 0   id_sancion                  14947 non-null  int64         \n",
      " 1   tipo_de_persona             14947 non-null  object        \n",
      " 2   infractor                   14947 non-null  object        \n",
      " 3   tipo_de_sancion             14935 non-null  object        \n",
      " 4   sub_sector                  14651 non-null  object        \n",
      " 5   monto                       14947 non-null  float64       \n",
      " 6   conducta_sancionada         14947 non-null  object        \n",
      " 7   normatividad_infringida     14947 non-null  object        \n",
      " 8   descripcion_de_la_conducta  14947 non-null  object        \n",
      " 9   anio_infraccion             14947 non-null  object        \n",
      " 10  fecha_de_imposicion         14947 non-null  datetime64[ns]\n",
      " 11  pagada                      14947 non-null  object        \n",
      " 12  grave                       14947 non-null  object        \n",
      " 13  reincidente                 14947 non-null  object        \n",
      " 14  resolucion_firme            14947 non-null  object        \n",
      " 15  susceptible_de_impugnacion  14947 non-null  object        \n",
      " 16  anio_imposicion             14947 non-null  object        \n",
      " 17  lavado                      14947 non-null  object        \n",
      "dtypes: datetime64[ns](1), float64(1), int64(1), object(15)\n",
      "memory usage: 2.2+ MB\n"
     ]
    }
   ],
   "source": [
    "data.info()"
   ]
  },
  {
   "cell_type": "code",
   "execution_count": 109,
   "metadata": {},
   "outputs": [
    {
     "data": {
      "text/html": [
       "<div>\n",
       "<style scoped>\n",
       "    .dataframe tbody tr th:only-of-type {\n",
       "        vertical-align: middle;\n",
       "    }\n",
       "\n",
       "    .dataframe tbody tr th {\n",
       "        vertical-align: top;\n",
       "    }\n",
       "\n",
       "    .dataframe thead th {\n",
       "        text-align: right;\n",
       "    }\n",
       "</style>\n",
       "<table border=\"1\" class=\"dataframe\">\n",
       "  <thead>\n",
       "    <tr style=\"text-align: right;\">\n",
       "      <th></th>\n",
       "      <th>id_sancion</th>\n",
       "      <th>tipo_de_persona</th>\n",
       "      <th>infractor</th>\n",
       "      <th>tipo_de_sancion</th>\n",
       "      <th>sub_sector</th>\n",
       "      <th>monto</th>\n",
       "      <th>conducta_sancionada</th>\n",
       "      <th>normatividad_infringida</th>\n",
       "      <th>descripcion_de_la_conducta</th>\n",
       "      <th>anio_infraccion</th>\n",
       "      <th>fecha_de_imposicion</th>\n",
       "      <th>pagada</th>\n",
       "      <th>grave</th>\n",
       "      <th>reincidente</th>\n",
       "      <th>resolucion_firme</th>\n",
       "      <th>susceptible_de_impugnacion</th>\n",
       "      <th>anio_imposicion</th>\n",
       "      <th>lavado</th>\n",
       "    </tr>\n",
       "  </thead>\n",
       "  <tbody>\n",
       "    <tr>\n",
       "      <th>0</th>\n",
       "      <td>48073</td>\n",
       "      <td>fisica</td>\n",
       "      <td>leon cabrera flores</td>\n",
       "      <td>amonestacion</td>\n",
       "      <td>NaN</td>\n",
       "      <td>0.0</td>\n",
       "      <td>lmv - el sistema automatizado para la recepcio...</td>\n",
       "      <td>LMV - Art. Regulador: 180 Art. Sanción: 392, f...</td>\n",
       "      <td>el sistema automatizado para la recepcion, reg...</td>\n",
       "      <td>2015</td>\n",
       "      <td>2017-11-30</td>\n",
       "      <td>No</td>\n",
       "      <td>No</td>\n",
       "      <td>No</td>\n",
       "      <td>No</td>\n",
       "      <td>Si</td>\n",
       "      <td>2017</td>\n",
       "      <td>No</td>\n",
       "    </tr>\n",
       "    <tr>\n",
       "      <th>1</th>\n",
       "      <td>48074</td>\n",
       "      <td>fisica</td>\n",
       "      <td>jaime antonio gonzalez remis</td>\n",
       "      <td>amonestacion</td>\n",
       "      <td>NaN</td>\n",
       "      <td>0.0</td>\n",
       "      <td>lmv - el sistema automatizado para la recepcio...</td>\n",
       "      <td>LMV - Art. Regulador: 180 Art. Sanción: 392, f...</td>\n",
       "      <td>el sistema automatizado para la recepcion, reg...</td>\n",
       "      <td>2015</td>\n",
       "      <td>2017-11-30</td>\n",
       "      <td>No</td>\n",
       "      <td>No</td>\n",
       "      <td>No</td>\n",
       "      <td>No</td>\n",
       "      <td>Si</td>\n",
       "      <td>2017</td>\n",
       "      <td>No</td>\n",
       "    </tr>\n",
       "    <tr>\n",
       "      <th>3</th>\n",
       "      <td>49607</td>\n",
       "      <td>fisica</td>\n",
       "      <td>ramon arturo garcia chavez</td>\n",
       "      <td>amonestacion</td>\n",
       "      <td>NaN</td>\n",
       "      <td>0.0</td>\n",
       "      <td>lmv - por omitir el auditor externo, al dictam...</td>\n",
       "      <td>LMV - Art. Regulador: 104, fracción III Art. S...</td>\n",
       "      <td>al dictaminar los estados financieros de una e...</td>\n",
       "      <td>2014</td>\n",
       "      <td>2018-05-21</td>\n",
       "      <td>No</td>\n",
       "      <td>No</td>\n",
       "      <td>No</td>\n",
       "      <td>No</td>\n",
       "      <td>Si</td>\n",
       "      <td>2018</td>\n",
       "      <td>No</td>\n",
       "    </tr>\n",
       "    <tr>\n",
       "      <th>4</th>\n",
       "      <td>49608</td>\n",
       "      <td>fisica</td>\n",
       "      <td>sergio vargas vargas</td>\n",
       "      <td>amonestacion</td>\n",
       "      <td>NaN</td>\n",
       "      <td>0.0</td>\n",
       "      <td>lmv - por omitir el auditor externo, al dictam...</td>\n",
       "      <td>LMV - Art. Regulador: 104, fracción III Art. S...</td>\n",
       "      <td>al dictaminar los estados financieros de una e...</td>\n",
       "      <td>2015</td>\n",
       "      <td>2018-05-21</td>\n",
       "      <td>No</td>\n",
       "      <td>No</td>\n",
       "      <td>No</td>\n",
       "      <td>No</td>\n",
       "      <td>Si</td>\n",
       "      <td>2018</td>\n",
       "      <td>No</td>\n",
       "    </tr>\n",
       "    <tr>\n",
       "      <th>5</th>\n",
       "      <td>47980</td>\n",
       "      <td>fisica</td>\n",
       "      <td>humberto garza valdez</td>\n",
       "      <td>amonestacion</td>\n",
       "      <td>NaN</td>\n",
       "      <td>0.0</td>\n",
       "      <td>lmv - omitir difundir informacion relevante\\n(...</td>\n",
       "      <td>LMV - Art. Regulador: 44, V Art. Sanción: 392,...</td>\n",
       "      <td>en su caracter de director general omitio difu...</td>\n",
       "      <td>2015</td>\n",
       "      <td>2017-11-16</td>\n",
       "      <td>No</td>\n",
       "      <td>No</td>\n",
       "      <td>No</td>\n",
       "      <td>No</td>\n",
       "      <td>Si</td>\n",
       "      <td>2017</td>\n",
       "      <td>No</td>\n",
       "    </tr>\n",
       "    <tr>\n",
       "      <th>...</th>\n",
       "      <td>...</td>\n",
       "      <td>...</td>\n",
       "      <td>...</td>\n",
       "      <td>...</td>\n",
       "      <td>...</td>\n",
       "      <td>...</td>\n",
       "      <td>...</td>\n",
       "      <td>...</td>\n",
       "      <td>...</td>\n",
       "      <td>...</td>\n",
       "      <td>...</td>\n",
       "      <td>...</td>\n",
       "      <td>...</td>\n",
       "      <td>...</td>\n",
       "      <td>...</td>\n",
       "      <td>...</td>\n",
       "      <td>...</td>\n",
       "      <td>...</td>\n",
       "    </tr>\n",
       "    <tr>\n",
       "      <th>16142</th>\n",
       "      <td>40782</td>\n",
       "      <td>moral</td>\n",
       "      <td>caja popular juventino rosas</td>\n",
       "      <td>NaN</td>\n",
       "      <td>Sociedades cooperativas de ahorro y préstamo</td>\n",
       "      <td>0.0</td>\n",
       "      <td>lrascap - omitir presentar, dentro del plazo e...</td>\n",
       "      <td>LRASCAP - Art. Regulador: 34, último párrafo A...</td>\n",
       "      <td>el consejo de vigilancia no realiza las funcio...</td>\n",
       "      <td>2011</td>\n",
       "      <td>2016-09-21</td>\n",
       "      <td>No</td>\n",
       "      <td>No</td>\n",
       "      <td>No</td>\n",
       "      <td>No</td>\n",
       "      <td>Si</td>\n",
       "      <td>2016</td>\n",
       "      <td>No</td>\n",
       "    </tr>\n",
       "    <tr>\n",
       "      <th>16143</th>\n",
       "      <td>40822</td>\n",
       "      <td>moral</td>\n",
       "      <td>almacenadora inter americana</td>\n",
       "      <td>NaN</td>\n",
       "      <td>Organizaciones y Actividades Auxiliares del Cr...</td>\n",
       "      <td>0.0</td>\n",
       "      <td>lgoaac - no presentar los documentos o la info...</td>\n",
       "      <td>LGOAAC - Art. Regulador: 56 Art. Sanción: 89, ...</td>\n",
       "      <td>el importe correspondiente al monto no utiliza...</td>\n",
       "      <td>2012</td>\n",
       "      <td>2016-09-29</td>\n",
       "      <td>No</td>\n",
       "      <td>No</td>\n",
       "      <td>No</td>\n",
       "      <td>No</td>\n",
       "      <td>Si</td>\n",
       "      <td>2016</td>\n",
       "      <td>No</td>\n",
       "    </tr>\n",
       "    <tr>\n",
       "      <th>16144</th>\n",
       "      <td>40823</td>\n",
       "      <td>moral</td>\n",
       "      <td>almacenadora inter americana</td>\n",
       "      <td>NaN</td>\n",
       "      <td>Organizaciones y Actividades Auxiliares del Cr...</td>\n",
       "      <td>0.0</td>\n",
       "      <td>lgoaac - registros contables incorrectos (orga...</td>\n",
       "      <td>LGOAAC - Art. Regulador: 52 Art. Sanción: 89, ...</td>\n",
       "      <td>omision de registro contable y falta de presen...</td>\n",
       "      <td>2012</td>\n",
       "      <td>2016-09-29</td>\n",
       "      <td>No</td>\n",
       "      <td>No</td>\n",
       "      <td>No</td>\n",
       "      <td>No</td>\n",
       "      <td>Si</td>\n",
       "      <td>2016</td>\n",
       "      <td>No</td>\n",
       "    </tr>\n",
       "    <tr>\n",
       "      <th>16145</th>\n",
       "      <td>40834</td>\n",
       "      <td>moral</td>\n",
       "      <td>ci banco, s. a., institucion de banca multiple</td>\n",
       "      <td>NaN</td>\n",
       "      <td>Instituciones de banca múltiple</td>\n",
       "      <td>0.0</td>\n",
       "      <td>lic - prevencion de lavado de dinero</td>\n",
       "      <td>LIC - Art. Regulador: 115 Art. Sanción: 115, p...</td>\n",
       "      <td>esa sociedad omitio actualizar la informacion ...</td>\n",
       "      <td>2009</td>\n",
       "      <td>2016-09-28</td>\n",
       "      <td>No</td>\n",
       "      <td>No</td>\n",
       "      <td>No</td>\n",
       "      <td>No</td>\n",
       "      <td>Si</td>\n",
       "      <td>2016</td>\n",
       "      <td>Si</td>\n",
       "    </tr>\n",
       "    <tr>\n",
       "      <th>16146</th>\n",
       "      <td>42107</td>\n",
       "      <td>moral</td>\n",
       "      <td>union de credito interestatal chiapas</td>\n",
       "      <td>NaN</td>\n",
       "      <td>Uniones de crédito</td>\n",
       "      <td>0.0</td>\n",
       "      <td>luc - prevencion de lavado de dinero</td>\n",
       "      <td>LUC - Art. Regulador: 129 Art. Sanción: 129, p...</td>\n",
       "      <td>omitio remitir a esta comision, su reporte de ...</td>\n",
       "      <td>2014</td>\n",
       "      <td>2016-12-15</td>\n",
       "      <td>No</td>\n",
       "      <td>No</td>\n",
       "      <td>No</td>\n",
       "      <td>No</td>\n",
       "      <td>Si</td>\n",
       "      <td>2016</td>\n",
       "      <td>Si</td>\n",
       "    </tr>\n",
       "  </tbody>\n",
       "</table>\n",
       "<p>14947 rows × 18 columns</p>\n",
       "</div>"
      ],
      "text/plain": [
       "       id_sancion tipo_de_persona  \\\n",
       "0           48073          fisica   \n",
       "1           48074          fisica   \n",
       "3           49607          fisica   \n",
       "4           49608          fisica   \n",
       "5           47980          fisica   \n",
       "...           ...             ...   \n",
       "16142       40782           moral   \n",
       "16143       40822           moral   \n",
       "16144       40823           moral   \n",
       "16145       40834           moral   \n",
       "16146       42107           moral   \n",
       "\n",
       "                                            infractor tipo_de_sancion  \\\n",
       "0                                 leon cabrera flores    amonestacion   \n",
       "1                        jaime antonio gonzalez remis    amonestacion   \n",
       "3                          ramon arturo garcia chavez    amonestacion   \n",
       "4                                sergio vargas vargas    amonestacion   \n",
       "5                               humberto garza valdez    amonestacion   \n",
       "...                                               ...             ...   \n",
       "16142                    caja popular juventino rosas             NaN   \n",
       "16143                    almacenadora inter americana             NaN   \n",
       "16144                    almacenadora inter americana             NaN   \n",
       "16145  ci banco, s. a., institucion de banca multiple             NaN   \n",
       "16146           union de credito interestatal chiapas             NaN   \n",
       "\n",
       "                                              sub_sector  monto  \\\n",
       "0                                                    NaN    0.0   \n",
       "1                                                    NaN    0.0   \n",
       "3                                                    NaN    0.0   \n",
       "4                                                    NaN    0.0   \n",
       "5                                                    NaN    0.0   \n",
       "...                                                  ...    ...   \n",
       "16142       Sociedades cooperativas de ahorro y préstamo    0.0   \n",
       "16143  Organizaciones y Actividades Auxiliares del Cr...    0.0   \n",
       "16144  Organizaciones y Actividades Auxiliares del Cr...    0.0   \n",
       "16145                    Instituciones de banca múltiple    0.0   \n",
       "16146                                 Uniones de crédito    0.0   \n",
       "\n",
       "                                     conducta_sancionada  \\\n",
       "0      lmv - el sistema automatizado para la recepcio...   \n",
       "1      lmv - el sistema automatizado para la recepcio...   \n",
       "3      lmv - por omitir el auditor externo, al dictam...   \n",
       "4      lmv - por omitir el auditor externo, al dictam...   \n",
       "5      lmv - omitir difundir informacion relevante\\n(...   \n",
       "...                                                  ...   \n",
       "16142  lrascap - omitir presentar, dentro del plazo e...   \n",
       "16143  lgoaac - no presentar los documentos o la info...   \n",
       "16144  lgoaac - registros contables incorrectos (orga...   \n",
       "16145               lic - prevencion de lavado de dinero   \n",
       "16146               luc - prevencion de lavado de dinero   \n",
       "\n",
       "                                 normatividad_infringida  \\\n",
       "0      LMV - Art. Regulador: 180 Art. Sanción: 392, f...   \n",
       "1      LMV - Art. Regulador: 180 Art. Sanción: 392, f...   \n",
       "3      LMV - Art. Regulador: 104, fracción III Art. S...   \n",
       "4      LMV - Art. Regulador: 104, fracción III Art. S...   \n",
       "5      LMV - Art. Regulador: 44, V Art. Sanción: 392,...   \n",
       "...                                                  ...   \n",
       "16142  LRASCAP - Art. Regulador: 34, último párrafo A...   \n",
       "16143  LGOAAC - Art. Regulador: 56 Art. Sanción: 89, ...   \n",
       "16144  LGOAAC - Art. Regulador: 52 Art. Sanción: 89, ...   \n",
       "16145  LIC - Art. Regulador: 115 Art. Sanción: 115, p...   \n",
       "16146  LUC - Art. Regulador: 129 Art. Sanción: 129, p...   \n",
       "\n",
       "                              descripcion_de_la_conducta anio_infraccion  \\\n",
       "0      el sistema automatizado para la recepcion, reg...            2015   \n",
       "1      el sistema automatizado para la recepcion, reg...            2015   \n",
       "3      al dictaminar los estados financieros de una e...            2014   \n",
       "4      al dictaminar los estados financieros de una e...            2015   \n",
       "5      en su caracter de director general omitio difu...            2015   \n",
       "...                                                  ...             ...   \n",
       "16142  el consejo de vigilancia no realiza las funcio...            2011   \n",
       "16143  el importe correspondiente al monto no utiliza...            2012   \n",
       "16144  omision de registro contable y falta de presen...            2012   \n",
       "16145  esa sociedad omitio actualizar la informacion ...            2009   \n",
       "16146  omitio remitir a esta comision, su reporte de ...            2014   \n",
       "\n",
       "      fecha_de_imposicion pagada grave reincidente resolucion_firme  \\\n",
       "0              2017-11-30     No    No          No               No   \n",
       "1              2017-11-30     No    No          No               No   \n",
       "3              2018-05-21     No    No          No               No   \n",
       "4              2018-05-21     No    No          No               No   \n",
       "5              2017-11-16     No    No          No               No   \n",
       "...                   ...    ...   ...         ...              ...   \n",
       "16142          2016-09-21     No    No          No               No   \n",
       "16143          2016-09-29     No    No          No               No   \n",
       "16144          2016-09-29     No    No          No               No   \n",
       "16145          2016-09-28     No    No          No               No   \n",
       "16146          2016-12-15     No    No          No               No   \n",
       "\n",
       "      susceptible_de_impugnacion anio_imposicion lavado  \n",
       "0                             Si            2017     No  \n",
       "1                             Si            2017     No  \n",
       "3                             Si            2018     No  \n",
       "4                             Si            2018     No  \n",
       "5                             Si            2017     No  \n",
       "...                          ...             ...    ...  \n",
       "16142                         Si            2016     No  \n",
       "16143                         Si            2016     No  \n",
       "16144                         Si            2016     No  \n",
       "16145                         Si            2016     Si  \n",
       "16146                         Si            2016     Si  \n",
       "\n",
       "[14947 rows x 18 columns]"
      ]
     },
     "execution_count": 109,
     "metadata": {},
     "output_type": "execute_result"
    }
   ],
   "source": [
    "data"
   ]
  },
  {
   "cell_type": "code",
   "execution_count": 110,
   "metadata": {},
   "outputs": [],
   "source": [
    "data_moral= data[data['tipo_de_persona']== 'moral']\n"
   ]
  },
  {
   "cell_type": "code",
   "execution_count": 111,
   "metadata": {},
   "outputs": [
    {
     "name": "stderr",
     "output_type": "stream",
     "text": [
      "<ipython-input-111-2c1754cf1fd9>:1: SettingWithCopyWarning: \n",
      "A value is trying to be set on a copy of a slice from a DataFrame.\n",
      "Try using .loc[row_indexer,col_indexer] = value instead\n",
      "\n",
      "See the caveats in the documentation: https://pandas.pydata.org/pandas-docs/stable/user_guide/indexing.html#returning-a-view-versus-a-copy\n",
      "  data_moral['clasificacion'] = np.where(data_moral['infractor'].str.contains('hsbc|bbva|banco nacional de mexico|banamex|banorte|banco mercantil|santander', regex=True), 'A' , 'B' )\n"
     ]
    }
   ],
   "source": [
    "data_moral['clasificacion'] = np.where(data_moral['infractor'].str.contains('hsbc|bbva|banco nacional de mexico|banamex|banorte|banco mercantil|santander', regex=True), 'A' , 'B' )\n"
   ]
  },
  {
   "cell_type": "code",
   "execution_count": 112,
   "metadata": {},
   "outputs": [],
   "source": [
    "condition= [ data_moral['infractor'].str.contains('hsbc', regex=True),\\\n",
    "            data_moral['infractor'].str.contains('bbva', regex=True),\\\n",
    "           data_moral['infractor'].str.contains('banco nacional de mexico|banamex', regex=True),\\\n",
    "           data_moral['infractor'].str.contains('banco mercantil del norte|banorte', regex=True),\\\n",
    "           data_moral['infractor'].str.contains('santander', regex=True)]\n",
    "choices= ['HSBC','BBVA', 'Citibanamex', 'Banorte', 'Santander']"
   ]
  },
  {
   "cell_type": "code",
   "execution_count": 113,
   "metadata": {},
   "outputs": [
    {
     "name": "stderr",
     "output_type": "stream",
     "text": [
      "<ipython-input-113-62e350daf78b>:1: SettingWithCopyWarning: \n",
      "A value is trying to be set on a copy of a slice from a DataFrame.\n",
      "Try using .loc[row_indexer,col_indexer] = value instead\n",
      "\n",
      "See the caveats in the documentation: https://pandas.pydata.org/pandas-docs/stable/user_guide/indexing.html#returning-a-view-versus-a-copy\n",
      "  data_moral['short_5_grandes'] = np.select(condition,choices, default= 'Otro')\n"
     ]
    }
   ],
   "source": [
    "data_moral['short_5_grandes'] = np.select(condition,choices, default= 'Otro')"
   ]
  },
  {
   "cell_type": "code",
   "execution_count": 114,
   "metadata": {},
   "outputs": [],
   "source": [
    "data_moral= data_moral[['id_sancion','clasificacion', 'short_5_grandes']]"
   ]
  },
  {
   "cell_type": "code",
   "execution_count": null,
   "metadata": {},
   "outputs": [],
   "source": []
  },
  {
   "cell_type": "code",
   "execution_count": 115,
   "metadata": {},
   "outputs": [],
   "source": [
    "data_concat = pd.merge(data,data_moral,how='left',\n",
    "                        on=['id_sancion'])\n"
   ]
  },
  {
   "cell_type": "code",
   "execution_count": 116,
   "metadata": {},
   "outputs": [
    {
     "data": {
      "text/html": [
       "<div>\n",
       "<style scoped>\n",
       "    .dataframe tbody tr th:only-of-type {\n",
       "        vertical-align: middle;\n",
       "    }\n",
       "\n",
       "    .dataframe tbody tr th {\n",
       "        vertical-align: top;\n",
       "    }\n",
       "\n",
       "    .dataframe thead th {\n",
       "        text-align: right;\n",
       "    }\n",
       "</style>\n",
       "<table border=\"1\" class=\"dataframe\">\n",
       "  <thead>\n",
       "    <tr style=\"text-align: right;\">\n",
       "      <th></th>\n",
       "      <th>id_sancion</th>\n",
       "      <th>tipo_de_persona</th>\n",
       "      <th>infractor</th>\n",
       "      <th>tipo_de_sancion</th>\n",
       "      <th>sub_sector</th>\n",
       "      <th>monto</th>\n",
       "      <th>conducta_sancionada</th>\n",
       "      <th>normatividad_infringida</th>\n",
       "      <th>descripcion_de_la_conducta</th>\n",
       "      <th>anio_infraccion</th>\n",
       "      <th>fecha_de_imposicion</th>\n",
       "      <th>pagada</th>\n",
       "      <th>grave</th>\n",
       "      <th>reincidente</th>\n",
       "      <th>resolucion_firme</th>\n",
       "      <th>susceptible_de_impugnacion</th>\n",
       "      <th>anio_imposicion</th>\n",
       "      <th>lavado</th>\n",
       "      <th>clasificacion</th>\n",
       "      <th>short_5_grandes</th>\n",
       "    </tr>\n",
       "  </thead>\n",
       "  <tbody>\n",
       "    <tr>\n",
       "      <th>0</th>\n",
       "      <td>48073</td>\n",
       "      <td>fisica</td>\n",
       "      <td>leon cabrera flores</td>\n",
       "      <td>amonestacion</td>\n",
       "      <td>NaN</td>\n",
       "      <td>0.0</td>\n",
       "      <td>lmv - el sistema automatizado para la recepcio...</td>\n",
       "      <td>LMV - Art. Regulador: 180 Art. Sanción: 392, f...</td>\n",
       "      <td>el sistema automatizado para la recepcion, reg...</td>\n",
       "      <td>2015</td>\n",
       "      <td>2017-11-30</td>\n",
       "      <td>No</td>\n",
       "      <td>No</td>\n",
       "      <td>No</td>\n",
       "      <td>No</td>\n",
       "      <td>Si</td>\n",
       "      <td>2017</td>\n",
       "      <td>No</td>\n",
       "      <td>NaN</td>\n",
       "      <td>NaN</td>\n",
       "    </tr>\n",
       "    <tr>\n",
       "      <th>1</th>\n",
       "      <td>48074</td>\n",
       "      <td>fisica</td>\n",
       "      <td>jaime antonio gonzalez remis</td>\n",
       "      <td>amonestacion</td>\n",
       "      <td>NaN</td>\n",
       "      <td>0.0</td>\n",
       "      <td>lmv - el sistema automatizado para la recepcio...</td>\n",
       "      <td>LMV - Art. Regulador: 180 Art. Sanción: 392, f...</td>\n",
       "      <td>el sistema automatizado para la recepcion, reg...</td>\n",
       "      <td>2015</td>\n",
       "      <td>2017-11-30</td>\n",
       "      <td>No</td>\n",
       "      <td>No</td>\n",
       "      <td>No</td>\n",
       "      <td>No</td>\n",
       "      <td>Si</td>\n",
       "      <td>2017</td>\n",
       "      <td>No</td>\n",
       "      <td>NaN</td>\n",
       "      <td>NaN</td>\n",
       "    </tr>\n",
       "    <tr>\n",
       "      <th>2</th>\n",
       "      <td>49607</td>\n",
       "      <td>fisica</td>\n",
       "      <td>ramon arturo garcia chavez</td>\n",
       "      <td>amonestacion</td>\n",
       "      <td>NaN</td>\n",
       "      <td>0.0</td>\n",
       "      <td>lmv - por omitir el auditor externo, al dictam...</td>\n",
       "      <td>LMV - Art. Regulador: 104, fracción III Art. S...</td>\n",
       "      <td>al dictaminar los estados financieros de una e...</td>\n",
       "      <td>2014</td>\n",
       "      <td>2018-05-21</td>\n",
       "      <td>No</td>\n",
       "      <td>No</td>\n",
       "      <td>No</td>\n",
       "      <td>No</td>\n",
       "      <td>Si</td>\n",
       "      <td>2018</td>\n",
       "      <td>No</td>\n",
       "      <td>NaN</td>\n",
       "      <td>NaN</td>\n",
       "    </tr>\n",
       "    <tr>\n",
       "      <th>3</th>\n",
       "      <td>49608</td>\n",
       "      <td>fisica</td>\n",
       "      <td>sergio vargas vargas</td>\n",
       "      <td>amonestacion</td>\n",
       "      <td>NaN</td>\n",
       "      <td>0.0</td>\n",
       "      <td>lmv - por omitir el auditor externo, al dictam...</td>\n",
       "      <td>LMV - Art. Regulador: 104, fracción III Art. S...</td>\n",
       "      <td>al dictaminar los estados financieros de una e...</td>\n",
       "      <td>2015</td>\n",
       "      <td>2018-05-21</td>\n",
       "      <td>No</td>\n",
       "      <td>No</td>\n",
       "      <td>No</td>\n",
       "      <td>No</td>\n",
       "      <td>Si</td>\n",
       "      <td>2018</td>\n",
       "      <td>No</td>\n",
       "      <td>NaN</td>\n",
       "      <td>NaN</td>\n",
       "    </tr>\n",
       "    <tr>\n",
       "      <th>4</th>\n",
       "      <td>47980</td>\n",
       "      <td>fisica</td>\n",
       "      <td>humberto garza valdez</td>\n",
       "      <td>amonestacion</td>\n",
       "      <td>NaN</td>\n",
       "      <td>0.0</td>\n",
       "      <td>lmv - omitir difundir informacion relevante\\n(...</td>\n",
       "      <td>LMV - Art. Regulador: 44, V Art. Sanción: 392,...</td>\n",
       "      <td>en su caracter de director general omitio difu...</td>\n",
       "      <td>2015</td>\n",
       "      <td>2017-11-16</td>\n",
       "      <td>No</td>\n",
       "      <td>No</td>\n",
       "      <td>No</td>\n",
       "      <td>No</td>\n",
       "      <td>Si</td>\n",
       "      <td>2017</td>\n",
       "      <td>No</td>\n",
       "      <td>NaN</td>\n",
       "      <td>NaN</td>\n",
       "    </tr>\n",
       "  </tbody>\n",
       "</table>\n",
       "</div>"
      ],
      "text/plain": [
       "   id_sancion tipo_de_persona                     infractor tipo_de_sancion  \\\n",
       "0       48073          fisica           leon cabrera flores    amonestacion   \n",
       "1       48074          fisica  jaime antonio gonzalez remis    amonestacion   \n",
       "2       49607          fisica    ramon arturo garcia chavez    amonestacion   \n",
       "3       49608          fisica          sergio vargas vargas    amonestacion   \n",
       "4       47980          fisica         humberto garza valdez    amonestacion   \n",
       "\n",
       "  sub_sector  monto                                conducta_sancionada  \\\n",
       "0        NaN    0.0  lmv - el sistema automatizado para la recepcio...   \n",
       "1        NaN    0.0  lmv - el sistema automatizado para la recepcio...   \n",
       "2        NaN    0.0  lmv - por omitir el auditor externo, al dictam...   \n",
       "3        NaN    0.0  lmv - por omitir el auditor externo, al dictam...   \n",
       "4        NaN    0.0  lmv - omitir difundir informacion relevante\\n(...   \n",
       "\n",
       "                             normatividad_infringida  \\\n",
       "0  LMV - Art. Regulador: 180 Art. Sanción: 392, f...   \n",
       "1  LMV - Art. Regulador: 180 Art. Sanción: 392, f...   \n",
       "2  LMV - Art. Regulador: 104, fracción III Art. S...   \n",
       "3  LMV - Art. Regulador: 104, fracción III Art. S...   \n",
       "4  LMV - Art. Regulador: 44, V Art. Sanción: 392,...   \n",
       "\n",
       "                          descripcion_de_la_conducta anio_infraccion  \\\n",
       "0  el sistema automatizado para la recepcion, reg...            2015   \n",
       "1  el sistema automatizado para la recepcion, reg...            2015   \n",
       "2  al dictaminar los estados financieros de una e...            2014   \n",
       "3  al dictaminar los estados financieros de una e...            2015   \n",
       "4  en su caracter de director general omitio difu...            2015   \n",
       "\n",
       "  fecha_de_imposicion pagada grave reincidente resolucion_firme  \\\n",
       "0          2017-11-30     No    No          No               No   \n",
       "1          2017-11-30     No    No          No               No   \n",
       "2          2018-05-21     No    No          No               No   \n",
       "3          2018-05-21     No    No          No               No   \n",
       "4          2017-11-16     No    No          No               No   \n",
       "\n",
       "  susceptible_de_impugnacion anio_imposicion lavado clasificacion  \\\n",
       "0                         Si            2017     No           NaN   \n",
       "1                         Si            2017     No           NaN   \n",
       "2                         Si            2018     No           NaN   \n",
       "3                         Si            2018     No           NaN   \n",
       "4                         Si            2017     No           NaN   \n",
       "\n",
       "  short_5_grandes  \n",
       "0             NaN  \n",
       "1             NaN  \n",
       "2             NaN  \n",
       "3             NaN  \n",
       "4             NaN  "
      ]
     },
     "execution_count": 116,
     "metadata": {},
     "output_type": "execute_result"
    }
   ],
   "source": [
    "data_concat.head()"
   ]
  },
  {
   "cell_type": "code",
   "execution_count": 117,
   "metadata": {},
   "outputs": [],
   "source": [
    "data_concat['clasificacion'] = data_concat['clasificacion'].fillna('C')\n",
    "data_concat['short_5_grandes'] = data_concat['short_5_grandes'].fillna('Persona Fisica')"
   ]
  },
  {
   "cell_type": "code",
   "execution_count": 118,
   "metadata": {},
   "outputs": [],
   "source": [
    "data_concat.loc[(data_concat['monto'] != 0) & (data_concat['tipo_de_sancion'].isnull()),'tipo_de_sancion']= \"multa (sancion pecuniaria)\""
   ]
  },
  {
   "cell_type": "code",
   "execution_count": 119,
   "metadata": {},
   "outputs": [],
   "source": [
    "data_concat.loc[(data_concat['monto']== 0) & (data_concat['tipo_de_sancion'].isnull()),'tipo_de_sancion']='amonestacion'"
   ]
  },
  {
   "cell_type": "code",
   "execution_count": 120,
   "metadata": {},
   "outputs": [],
   "source": [
    "#data_concat[data_concat['id_sancion']== 42184]"
   ]
  },
  {
   "cell_type": "code",
   "execution_count": null,
   "metadata": {},
   "outputs": [],
   "source": []
  },
  {
   "cell_type": "code",
   "execution_count": 121,
   "metadata": {},
   "outputs": [
    {
     "data": {
      "text/html": [
       "<div>\n",
       "<style scoped>\n",
       "    .dataframe tbody tr th:only-of-type {\n",
       "        vertical-align: middle;\n",
       "    }\n",
       "\n",
       "    .dataframe tbody tr th {\n",
       "        vertical-align: top;\n",
       "    }\n",
       "\n",
       "    .dataframe thead th {\n",
       "        text-align: right;\n",
       "    }\n",
       "</style>\n",
       "<table border=\"1\" class=\"dataframe\">\n",
       "  <thead>\n",
       "    <tr style=\"text-align: right;\">\n",
       "      <th></th>\n",
       "      <th>id_sancion</th>\n",
       "      <th>tipo_de_persona</th>\n",
       "      <th>infractor</th>\n",
       "      <th>tipo_de_sancion</th>\n",
       "      <th>sub_sector</th>\n",
       "      <th>monto</th>\n",
       "      <th>conducta_sancionada</th>\n",
       "      <th>normatividad_infringida</th>\n",
       "      <th>descripcion_de_la_conducta</th>\n",
       "      <th>anio_infraccion</th>\n",
       "      <th>fecha_de_imposicion</th>\n",
       "      <th>pagada</th>\n",
       "      <th>grave</th>\n",
       "      <th>reincidente</th>\n",
       "      <th>resolucion_firme</th>\n",
       "      <th>susceptible_de_impugnacion</th>\n",
       "      <th>anio_imposicion</th>\n",
       "      <th>lavado</th>\n",
       "      <th>clasificacion</th>\n",
       "      <th>short_5_grandes</th>\n",
       "    </tr>\n",
       "  </thead>\n",
       "  <tbody>\n",
       "  </tbody>\n",
       "</table>\n",
       "</div>"
      ],
      "text/plain": [
       "Empty DataFrame\n",
       "Columns: [id_sancion, tipo_de_persona, infractor, tipo_de_sancion, sub_sector, monto, conducta_sancionada, normatividad_infringida, descripcion_de_la_conducta, anio_infraccion, fecha_de_imposicion, pagada, grave, reincidente, resolucion_firme, susceptible_de_impugnacion, anio_imposicion, lavado, clasificacion, short_5_grandes]\n",
       "Index: []"
      ]
     },
     "execution_count": 121,
     "metadata": {},
     "output_type": "execute_result"
    }
   ],
   "source": [
    "data_concat[data_concat.monto.isnull()]"
   ]
  },
  {
   "cell_type": "code",
   "execution_count": 122,
   "metadata": {},
   "outputs": [
    {
     "data": {
      "text/plain": [
       "['amonestacion',\n",
       " 'inhabilitacion',\n",
       " 'suspension',\n",
       " 'multa (sancion pecuniaria)',\n",
       " nan,\n",
       " 'revocacion',\n",
       " 'cancelacion del registro']"
      ]
     },
     "execution_count": 122,
     "metadata": {},
     "output_type": "execute_result"
    }
   ],
   "source": [
    "data['tipo_de_sancion'].unique().tolist()"
   ]
  },
  {
   "cell_type": "code",
   "execution_count": null,
   "metadata": {},
   "outputs": [],
   "source": []
  },
  {
   "cell_type": "code",
   "execution_count": null,
   "metadata": {},
   "outputs": [],
   "source": []
  },
  {
   "cell_type": "code",
   "execution_count": 123,
   "metadata": {},
   "outputs": [
    {
     "name": "stdout",
     "output_type": "stream",
     "text": [
      "<class 'pandas.core.frame.DataFrame'>\n",
      "Int64Index: 14947 entries, 0 to 14946\n",
      "Data columns (total 20 columns):\n",
      " #   Column                      Non-Null Count  Dtype         \n",
      "---  ------                      --------------  -----         \n",
      " 0   id_sancion                  14947 non-null  int64         \n",
      " 1   tipo_de_persona             14947 non-null  object        \n",
      " 2   infractor                   14947 non-null  object        \n",
      " 3   tipo_de_sancion             14947 non-null  object        \n",
      " 4   sub_sector                  14651 non-null  object        \n",
      " 5   monto                       14947 non-null  float64       \n",
      " 6   conducta_sancionada         14947 non-null  object        \n",
      " 7   normatividad_infringida     14947 non-null  object        \n",
      " 8   descripcion_de_la_conducta  14947 non-null  object        \n",
      " 9   anio_infraccion             14947 non-null  object        \n",
      " 10  fecha_de_imposicion         14947 non-null  datetime64[ns]\n",
      " 11  pagada                      14947 non-null  object        \n",
      " 12  grave                       14947 non-null  object        \n",
      " 13  reincidente                 14947 non-null  object        \n",
      " 14  resolucion_firme            14947 non-null  object        \n",
      " 15  susceptible_de_impugnacion  14947 non-null  object        \n",
      " 16  anio_imposicion             14947 non-null  object        \n",
      " 17  lavado                      14947 non-null  object        \n",
      " 18  clasificacion               14947 non-null  object        \n",
      " 19  short_5_grandes             14947 non-null  object        \n",
      "dtypes: datetime64[ns](1), float64(1), int64(1), object(17)\n",
      "memory usage: 2.4+ MB\n"
     ]
    }
   ],
   "source": [
    "data_concat.info()"
   ]
  },
  {
   "cell_type": "code",
   "execution_count": 124,
   "metadata": {},
   "outputs": [],
   "source": [
    "data_concat.to_excel('cnbv_limpio.xlsx', index=False)"
   ]
  },
  {
   "cell_type": "code",
   "execution_count": 44,
   "metadata": {},
   "outputs": [],
   "source": [
    "#data_concat.to_csv('cnbv_limpio.csv', index=False)"
   ]
  },
  {
   "cell_type": "code",
   "execution_count": null,
   "metadata": {},
   "outputs": [],
   "source": []
  }
 ],
 "metadata": {
  "kernelspec": {
   "display_name": "Python 3",
   "language": "python",
   "name": "python3"
  },
  "language_info": {
   "codemirror_mode": {
    "name": "ipython",
    "version": 3
   },
   "file_extension": ".py",
   "mimetype": "text/x-python",
   "name": "python",
   "nbconvert_exporter": "python",
   "pygments_lexer": "ipython3",
   "version": "3.9.0"
  }
 },
 "nbformat": 4,
 "nbformat_minor": 4
}
