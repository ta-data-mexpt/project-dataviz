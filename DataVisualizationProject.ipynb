{
 "cells": [
  {
   "cell_type": "code",
   "execution_count": 2,
   "metadata": {
    "id": "xzsMk2IjCaGJ"
   },
   "outputs": [],
   "source": [
    "import pandas as pd\n",
    "import numpy as np\n",
    "import matplotlib.pyplot as plt\n",
    "import seaborn as sns\n",
    "import plotly.express as px\n",
    "from ipywidgets import interact, interactive, fixed, interact_manual\n",
    "import ipywidgets as widgets"
   ]
  },
  {
   "cell_type": "code",
   "execution_count": 3,
   "metadata": {
    "id": "2sJRpvOVDTsa"
   },
   "outputs": [],
   "source": [
    "df = pd.read_csv('C:/Users/jfcon/Dropbox/PC/Documents/Ironhack2022/Modulo2/projects/missing migrants/MissingMigrants-Global-2014-2021.csv')"
   ]
  },
  {
   "cell_type": "code",
   "execution_count": 4,
   "metadata": {
    "colab": {
     "base_uri": "https://localhost:8080/",
     "height": 490
    },
    "id": "cCEWE1Q5DabX",
    "outputId": "3a0d617e-50d0-406e-da78-4e0dc77964bb"
   },
   "outputs": [
    {
     "data": {
      "text/html": [
       "<div>\n",
       "<style scoped>\n",
       "    .dataframe tbody tr th:only-of-type {\n",
       "        vertical-align: middle;\n",
       "    }\n",
       "\n",
       "    .dataframe tbody tr th {\n",
       "        vertical-align: top;\n",
       "    }\n",
       "\n",
       "    .dataframe thead th {\n",
       "        text-align: right;\n",
       "    }\n",
       "</style>\n",
       "<table border=\"1\" class=\"dataframe\">\n",
       "  <thead>\n",
       "    <tr style=\"text-align: right;\">\n",
       "      <th></th>\n",
       "      <th>MainID</th>\n",
       "      <th>IncidentID</th>\n",
       "      <th>Region</th>\n",
       "      <th>IncidentDate</th>\n",
       "      <th>Year</th>\n",
       "      <th>ReportedMonth</th>\n",
       "      <th>NumberDead</th>\n",
       "      <th>Minimum_Estimated_Number_of_Missing</th>\n",
       "      <th>Total_Number_of_Dead_and_Missing</th>\n",
       "      <th>Number_of_Survivors</th>\n",
       "      <th>...</th>\n",
       "      <th>Number_of_Males</th>\n",
       "      <th>Number_of_Children</th>\n",
       "      <th>Cause_of_Death</th>\n",
       "      <th>Location_of_death</th>\n",
       "      <th>InformationSource</th>\n",
       "      <th>Coordinates</th>\n",
       "      <th>Migrantionroute</th>\n",
       "      <th>URL</th>\n",
       "      <th>UNSD_Geographical_Grouping</th>\n",
       "      <th>SourceQuality</th>\n",
       "    </tr>\n",
       "  </thead>\n",
       "  <tbody>\n",
       "    <tr>\n",
       "      <th>0</th>\n",
       "      <td>2014.MMP00001</td>\n",
       "      <td>2014.MMP00001</td>\n",
       "      <td>North America</td>\n",
       "      <td>Mon, 01/06/2014 - 12:00</td>\n",
       "      <td>2014.0</td>\n",
       "      <td>January</td>\n",
       "      <td>1.0</td>\n",
       "      <td>NaN</td>\n",
       "      <td>1</td>\n",
       "      <td>NaN</td>\n",
       "      <td>...</td>\n",
       "      <td>1.0</td>\n",
       "      <td>NaN</td>\n",
       "      <td>Mixed or unknown</td>\n",
       "      <td>Pima Country Office of the Medical Examiner ju...</td>\n",
       "      <td>Pima County Office of the Medical Examiner (PC...</td>\n",
       "      <td>31.650259, -110.366453</td>\n",
       "      <td>US-Mexico border crossing</td>\n",
       "      <td>http://humaneborders.info/</td>\n",
       "      <td>Northern America</td>\n",
       "      <td>5.0</td>\n",
       "    </tr>\n",
       "    <tr>\n",
       "      <th>1</th>\n",
       "      <td>2014.MMP00002</td>\n",
       "      <td>2014.MMP00002</td>\n",
       "      <td>North America</td>\n",
       "      <td>Sun, 01/12/2014 - 12:00</td>\n",
       "      <td>2014.0</td>\n",
       "      <td>January</td>\n",
       "      <td>1.0</td>\n",
       "      <td>NaN</td>\n",
       "      <td>1</td>\n",
       "      <td>NaN</td>\n",
       "      <td>...</td>\n",
       "      <td>NaN</td>\n",
       "      <td>NaN</td>\n",
       "      <td>Mixed or unknown</td>\n",
       "      <td>Pima Country Office of the Medical Examiner ju...</td>\n",
       "      <td>Pima County Office of the Medical Examiner (PC...</td>\n",
       "      <td>31.59713, -111.73756</td>\n",
       "      <td>US-Mexico border crossing</td>\n",
       "      <td>NaN</td>\n",
       "      <td>Northern America</td>\n",
       "      <td>5.0</td>\n",
       "    </tr>\n",
       "    <tr>\n",
       "      <th>2</th>\n",
       "      <td>2014.MMP00003</td>\n",
       "      <td>2014.MMP00003</td>\n",
       "      <td>North America</td>\n",
       "      <td>Tue, 01/14/2014 - 12:00</td>\n",
       "      <td>2014.0</td>\n",
       "      <td>January</td>\n",
       "      <td>1.0</td>\n",
       "      <td>NaN</td>\n",
       "      <td>1</td>\n",
       "      <td>NaN</td>\n",
       "      <td>...</td>\n",
       "      <td>NaN</td>\n",
       "      <td>NaN</td>\n",
       "      <td>Mixed or unknown</td>\n",
       "      <td>Pima Country Office of the Medical Examiner ju...</td>\n",
       "      <td>Pima County Office of the Medical Examiner (PC...</td>\n",
       "      <td>31.94026, -113.01125</td>\n",
       "      <td>US-Mexico border crossing</td>\n",
       "      <td>NaN</td>\n",
       "      <td>Northern America</td>\n",
       "      <td>5.0</td>\n",
       "    </tr>\n",
       "    <tr>\n",
       "      <th>3</th>\n",
       "      <td>2014.MMP00004</td>\n",
       "      <td>2014.MMP00004</td>\n",
       "      <td>North America</td>\n",
       "      <td>Thu, 01/16/2014 - 12:00</td>\n",
       "      <td>2014.0</td>\n",
       "      <td>January</td>\n",
       "      <td>1.0</td>\n",
       "      <td>NaN</td>\n",
       "      <td>1</td>\n",
       "      <td>NaN</td>\n",
       "      <td>...</td>\n",
       "      <td>1.0</td>\n",
       "      <td>NaN</td>\n",
       "      <td>Violence</td>\n",
       "      <td>near Douglas, Arizona, USA</td>\n",
       "      <td>Ministry of Foreign Affairs Mexico, Pima Count...</td>\n",
       "      <td>31.506777, -109.315632</td>\n",
       "      <td>US-Mexico border crossing</td>\n",
       "      <td>http://bit.ly/1qfIw00</td>\n",
       "      <td>Northern America</td>\n",
       "      <td>5.0</td>\n",
       "    </tr>\n",
       "    <tr>\n",
       "      <th>4</th>\n",
       "      <td>2014.MMP00005</td>\n",
       "      <td>2014.MMP00005</td>\n",
       "      <td>Europe</td>\n",
       "      <td>Thu, 01/16/2014 - 12:00</td>\n",
       "      <td>2014.0</td>\n",
       "      <td>January</td>\n",
       "      <td>1.0</td>\n",
       "      <td>0.0</td>\n",
       "      <td>1</td>\n",
       "      <td>2.0</td>\n",
       "      <td>...</td>\n",
       "      <td>1.0</td>\n",
       "      <td>NaN</td>\n",
       "      <td>Harsh environmental conditions / lack of adequ...</td>\n",
       "      <td>Border between Russia and Estonia</td>\n",
       "      <td>EUBusiness (Agence France-Presse)</td>\n",
       "      <td>59.1551, 28</td>\n",
       "      <td>Western Balkans</td>\n",
       "      <td>http://bit.ly/1rTFTjR</td>\n",
       "      <td>Northern Europe</td>\n",
       "      <td>1.0</td>\n",
       "    </tr>\n",
       "  </tbody>\n",
       "</table>\n",
       "<p>5 rows × 21 columns</p>\n",
       "</div>"
      ],
      "text/plain": [
       "          MainID     IncidentID         Region             IncidentDate  \\\n",
       "0  2014.MMP00001  2014.MMP00001  North America  Mon, 01/06/2014 - 12:00   \n",
       "1  2014.MMP00002  2014.MMP00002  North America  Sun, 01/12/2014 - 12:00   \n",
       "2  2014.MMP00003  2014.MMP00003  North America  Tue, 01/14/2014 - 12:00   \n",
       "3  2014.MMP00004  2014.MMP00004  North America  Thu, 01/16/2014 - 12:00   \n",
       "4  2014.MMP00005  2014.MMP00005         Europe  Thu, 01/16/2014 - 12:00   \n",
       "\n",
       "     Year ReportedMonth  NumberDead  Minimum_Estimated_Number_of_Missing  \\\n",
       "0  2014.0       January         1.0                                  NaN   \n",
       "1  2014.0       January         1.0                                  NaN   \n",
       "2  2014.0       January         1.0                                  NaN   \n",
       "3  2014.0       January         1.0                                  NaN   \n",
       "4  2014.0       January         1.0                                  0.0   \n",
       "\n",
       "  Total_Number_of_Dead_and_Missing  Number_of_Survivors  ...  Number_of_Males  \\\n",
       "0                                1                  NaN  ...              1.0   \n",
       "1                                1                  NaN  ...              NaN   \n",
       "2                                1                  NaN  ...              NaN   \n",
       "3                                1                  NaN  ...              1.0   \n",
       "4                                1                  2.0  ...              1.0   \n",
       "\n",
       "   Number_of_Children                                     Cause_of_Death  \\\n",
       "0                 NaN                                   Mixed or unknown   \n",
       "1                 NaN                                   Mixed or unknown   \n",
       "2                 NaN                                   Mixed or unknown   \n",
       "3                 NaN                                           Violence   \n",
       "4                 NaN  Harsh environmental conditions / lack of adequ...   \n",
       "\n",
       "                                   Location_of_death  \\\n",
       "0  Pima Country Office of the Medical Examiner ju...   \n",
       "1  Pima Country Office of the Medical Examiner ju...   \n",
       "2  Pima Country Office of the Medical Examiner ju...   \n",
       "3                         near Douglas, Arizona, USA   \n",
       "4                  Border between Russia and Estonia   \n",
       "\n",
       "                                   InformationSource             Coordinates  \\\n",
       "0  Pima County Office of the Medical Examiner (PC...  31.650259, -110.366453   \n",
       "1  Pima County Office of the Medical Examiner (PC...    31.59713, -111.73756   \n",
       "2  Pima County Office of the Medical Examiner (PC...    31.94026, -113.01125   \n",
       "3  Ministry of Foreign Affairs Mexico, Pima Count...  31.506777, -109.315632   \n",
       "4                  EUBusiness (Agence France-Presse)             59.1551, 28   \n",
       "\n",
       "             Migrantionroute                         URL  \\\n",
       "0  US-Mexico border crossing  http://humaneborders.info/   \n",
       "1  US-Mexico border crossing                         NaN   \n",
       "2  US-Mexico border crossing                         NaN   \n",
       "3  US-Mexico border crossing       http://bit.ly/1qfIw00   \n",
       "4            Western Balkans       http://bit.ly/1rTFTjR   \n",
       "\n",
       "  UNSD_Geographical_Grouping SourceQuality  \n",
       "0           Northern America           5.0  \n",
       "1           Northern America           5.0  \n",
       "2           Northern America           5.0  \n",
       "3           Northern America           5.0  \n",
       "4            Northern Europe           1.0  \n",
       "\n",
       "[5 rows x 21 columns]"
      ]
     },
     "execution_count": 4,
     "metadata": {},
     "output_type": "execute_result"
    }
   ],
   "source": [
    "df.head()"
   ]
  },
  {
   "cell_type": "code",
   "execution_count": 5,
   "metadata": {
    "colab": {
     "base_uri": "https://localhost:8080/"
    },
    "id": "FSJHf8MTDaVA",
    "outputId": "36e05362-0dcc-428a-93f8-a983e482474f"
   },
   "outputs": [
    {
     "data": {
      "text/plain": [
       "(9878, 21)"
      ]
     },
     "execution_count": 5,
     "metadata": {},
     "output_type": "execute_result"
    }
   ],
   "source": [
    "df.shape"
   ]
  },
  {
   "cell_type": "code",
   "execution_count": 6,
   "metadata": {
    "colab": {
     "base_uri": "https://localhost:8080/",
     "height": 300
    },
    "id": "CBA9r--vDaR_",
    "outputId": "cd269ec5-e557-4a08-cf95-05107b56b3bb"
   },
   "outputs": [
    {
     "data": {
      "text/html": [
       "<div>\n",
       "<style scoped>\n",
       "    .dataframe tbody tr th:only-of-type {\n",
       "        vertical-align: middle;\n",
       "    }\n",
       "\n",
       "    .dataframe tbody tr th {\n",
       "        vertical-align: top;\n",
       "    }\n",
       "\n",
       "    .dataframe thead th {\n",
       "        text-align: right;\n",
       "    }\n",
       "</style>\n",
       "<table border=\"1\" class=\"dataframe\">\n",
       "  <thead>\n",
       "    <tr style=\"text-align: right;\">\n",
       "      <th></th>\n",
       "      <th>count</th>\n",
       "      <th>mean</th>\n",
       "      <th>std</th>\n",
       "      <th>min</th>\n",
       "      <th>25%</th>\n",
       "      <th>50%</th>\n",
       "      <th>75%</th>\n",
       "      <th>max</th>\n",
       "    </tr>\n",
       "  </thead>\n",
       "  <tbody>\n",
       "    <tr>\n",
       "      <th>Year</th>\n",
       "      <td>9872.0</td>\n",
       "      <td>2018.048318</td>\n",
       "      <td>1.945617</td>\n",
       "      <td>2014.0</td>\n",
       "      <td>2017.0</td>\n",
       "      <td>2018.0</td>\n",
       "      <td>2020.0</td>\n",
       "      <td>2021.0</td>\n",
       "    </tr>\n",
       "    <tr>\n",
       "      <th>NumberDead</th>\n",
       "      <td>9366.0</td>\n",
       "      <td>2.767564</td>\n",
       "      <td>10.733559</td>\n",
       "      <td>0.0</td>\n",
       "      <td>1.0</td>\n",
       "      <td>1.0</td>\n",
       "      <td>2.0</td>\n",
       "      <td>750.0</td>\n",
       "    </tr>\n",
       "    <tr>\n",
       "      <th>Minimum_Estimated_Number_of_Missing</th>\n",
       "      <td>1015.0</td>\n",
       "      <td>20.363547</td>\n",
       "      <td>50.015489</td>\n",
       "      <td>-9.0</td>\n",
       "      <td>2.0</td>\n",
       "      <td>5.0</td>\n",
       "      <td>18.0</td>\n",
       "      <td>750.0</td>\n",
       "    </tr>\n",
       "    <tr>\n",
       "      <th>Number_of_Survivors</th>\n",
       "      <td>1461.0</td>\n",
       "      <td>45.620808</td>\n",
       "      <td>110.122864</td>\n",
       "      <td>-2.0</td>\n",
       "      <td>4.0</td>\n",
       "      <td>13.0</td>\n",
       "      <td>42.0</td>\n",
       "      <td>1950.0</td>\n",
       "    </tr>\n",
       "    <tr>\n",
       "      <th>Number_of_Females</th>\n",
       "      <td>1882.0</td>\n",
       "      <td>2.595643</td>\n",
       "      <td>6.322339</td>\n",
       "      <td>0.0</td>\n",
       "      <td>1.0</td>\n",
       "      <td>1.0</td>\n",
       "      <td>2.0</td>\n",
       "      <td>90.0</td>\n",
       "    </tr>\n",
       "    <tr>\n",
       "      <th>Number_of_Males</th>\n",
       "      <td>5797.0</td>\n",
       "      <td>1.767638</td>\n",
       "      <td>4.781745</td>\n",
       "      <td>0.0</td>\n",
       "      <td>1.0</td>\n",
       "      <td>1.0</td>\n",
       "      <td>1.0</td>\n",
       "      <td>135.0</td>\n",
       "    </tr>\n",
       "    <tr>\n",
       "      <th>Number_of_Children</th>\n",
       "      <td>1229.0</td>\n",
       "      <td>2.014646</td>\n",
       "      <td>7.474045</td>\n",
       "      <td>0.0</td>\n",
       "      <td>1.0</td>\n",
       "      <td>1.0</td>\n",
       "      <td>2.0</td>\n",
       "      <td>250.0</td>\n",
       "    </tr>\n",
       "    <tr>\n",
       "      <th>SourceQuality</th>\n",
       "      <td>9831.0</td>\n",
       "      <td>3.088089</td>\n",
       "      <td>1.408148</td>\n",
       "      <td>1.0</td>\n",
       "      <td>2.0</td>\n",
       "      <td>3.0</td>\n",
       "      <td>4.0</td>\n",
       "      <td>5.0</td>\n",
       "    </tr>\n",
       "  </tbody>\n",
       "</table>\n",
       "</div>"
      ],
      "text/plain": [
       "                                      count         mean         std     min  \\\n",
       "Year                                 9872.0  2018.048318    1.945617  2014.0   \n",
       "NumberDead                           9366.0     2.767564   10.733559     0.0   \n",
       "Minimum_Estimated_Number_of_Missing  1015.0    20.363547   50.015489    -9.0   \n",
       "Number_of_Survivors                  1461.0    45.620808  110.122864    -2.0   \n",
       "Number_of_Females                    1882.0     2.595643    6.322339     0.0   \n",
       "Number_of_Males                      5797.0     1.767638    4.781745     0.0   \n",
       "Number_of_Children                   1229.0     2.014646    7.474045     0.0   \n",
       "SourceQuality                        9831.0     3.088089    1.408148     1.0   \n",
       "\n",
       "                                        25%     50%     75%     max  \n",
       "Year                                 2017.0  2018.0  2020.0  2021.0  \n",
       "NumberDead                              1.0     1.0     2.0   750.0  \n",
       "Minimum_Estimated_Number_of_Missing     2.0     5.0    18.0   750.0  \n",
       "Number_of_Survivors                     4.0    13.0    42.0  1950.0  \n",
       "Number_of_Females                       1.0     1.0     2.0    90.0  \n",
       "Number_of_Males                         1.0     1.0     1.0   135.0  \n",
       "Number_of_Children                      1.0     1.0     2.0   250.0  \n",
       "SourceQuality                           2.0     3.0     4.0     5.0  "
      ]
     },
     "execution_count": 6,
     "metadata": {},
     "output_type": "execute_result"
    }
   ],
   "source": [
    "df.describe().T"
   ]
  },
  {
   "cell_type": "code",
   "execution_count": 7,
   "metadata": {
    "colab": {
     "base_uri": "https://localhost:8080/"
    },
    "id": "RLG5LlPlDaP5",
    "outputId": "29ec9195-df49-49c1-d88f-d422b0fc6728"
   },
   "outputs": [
    {
     "data": {
      "text/plain": [
       "Index(['MainID', 'IncidentID', 'Region', 'IncidentDate', 'Year',\n",
       "       'ReportedMonth', 'NumberDead', 'Minimum_Estimated_Number_of_Missing',\n",
       "       'Total_Number_of_Dead_and_Missing', 'Number_of_Survivors',\n",
       "       'Number_of_Females', 'Number_of_Males', 'Number_of_Children',\n",
       "       'Cause_of_Death', 'Location_of_death', 'InformationSource',\n",
       "       'Coordinates', 'Migrantionroute', 'URL', 'UNSD_Geographical_Grouping',\n",
       "       'SourceQuality'],\n",
       "      dtype='object')"
      ]
     },
     "execution_count": 7,
     "metadata": {},
     "output_type": "execute_result"
    }
   ],
   "source": [
    "df.columns"
   ]
  },
  {
   "cell_type": "code",
   "execution_count": 8,
   "metadata": {
    "colab": {
     "base_uri": "https://localhost:8080/"
    },
    "id": "Opl_RTUZDaMY",
    "outputId": "a4bacc5f-f9c6-4fc4-edcf-b671942e7b58"
   },
   "outputs": [
    {
     "name": "stdout",
     "output_type": "stream",
     "text": [
      "<class 'pandas.core.frame.DataFrame'>\n",
      "RangeIndex: 9878 entries, 0 to 9877\n",
      "Data columns (total 21 columns):\n",
      " #   Column                               Non-Null Count  Dtype  \n",
      "---  ------                               --------------  -----  \n",
      " 0   MainID                               9872 non-null   object \n",
      " 1   IncidentID                           9872 non-null   object \n",
      " 2   Region                               9872 non-null   object \n",
      " 3   IncidentDate                         9857 non-null   object \n",
      " 4   Year                                 9872 non-null   float64\n",
      " 5   ReportedMonth                        9872 non-null   object \n",
      " 6   NumberDead                           9366 non-null   float64\n",
      " 7   Minimum_Estimated_Number_of_Missing  1015 non-null   float64\n",
      " 8   Total_Number_of_Dead_and_Missing     9872 non-null   object \n",
      " 9   Number_of_Survivors                  1461 non-null   float64\n",
      " 10  Number_of_Females                    1882 non-null   float64\n",
      " 11  Number_of_Males                      5797 non-null   float64\n",
      " 12  Number_of_Children                   1229 non-null   float64\n",
      " 13  Cause_of_Death                       9872 non-null   object \n",
      " 14  Location_of_death                    9872 non-null   object \n",
      " 15  InformationSource                    9850 non-null   object \n",
      " 16  Coordinates                          9872 non-null   object \n",
      " 17  Migrantionroute                      8623 non-null   object \n",
      " 18  URL                                  7813 non-null   object \n",
      " 19  UNSD_Geographical_Grouping           9871 non-null   object \n",
      " 20  SourceQuality                        9831 non-null   float64\n",
      "dtypes: float64(8), object(13)\n",
      "memory usage: 1.6+ MB\n"
     ]
    }
   ],
   "source": [
    "df.info()"
   ]
  },
  {
   "cell_type": "code",
   "execution_count": 9,
   "metadata": {
    "colab": {
     "base_uri": "https://localhost:8080/",
     "height": 401
    },
    "id": "Asse8rTQHyBN",
    "outputId": "45162c3c-8cb7-48a4-d996-a41f60c94263"
   },
   "outputs": [
    {
     "name": "stderr",
     "output_type": "stream",
     "text": [
      "<ipython-input-9-7c02393e43aa>:1: FutureWarning: Indexing with multiple keys (implicitly converted to a tuple of keys) will be deprecated, use a list instead.\n",
      "  df.groupby('Year')['NumberDead', 'Number_of_Females', 'Number_of_Males', 'Number_of_Children'].sum()\n"
     ]
    },
    {
     "data": {
      "text/html": [
       "<div>\n",
       "<style scoped>\n",
       "    .dataframe tbody tr th:only-of-type {\n",
       "        vertical-align: middle;\n",
       "    }\n",
       "\n",
       "    .dataframe tbody tr th {\n",
       "        vertical-align: top;\n",
       "    }\n",
       "\n",
       "    .dataframe thead th {\n",
       "        text-align: right;\n",
       "    }\n",
       "</style>\n",
       "<table border=\"1\" class=\"dataframe\">\n",
       "  <thead>\n",
       "    <tr style=\"text-align: right;\">\n",
       "      <th></th>\n",
       "      <th>NumberDead</th>\n",
       "      <th>Number_of_Females</th>\n",
       "      <th>Number_of_Males</th>\n",
       "      <th>Number_of_Children</th>\n",
       "    </tr>\n",
       "    <tr>\n",
       "      <th>Year</th>\n",
       "      <th></th>\n",
       "      <th></th>\n",
       "      <th></th>\n",
       "      <th></th>\n",
       "    </tr>\n",
       "  </thead>\n",
       "  <tbody>\n",
       "    <tr>\n",
       "      <th>2014.0</th>\n",
       "      <td>2193.0</td>\n",
       "      <td>66.0</td>\n",
       "      <td>261.0</td>\n",
       "      <td>302.0</td>\n",
       "    </tr>\n",
       "    <tr>\n",
       "      <th>2015.0</th>\n",
       "      <td>4077.0</td>\n",
       "      <td>225.0</td>\n",
       "      <td>820.0</td>\n",
       "      <td>301.0</td>\n",
       "    </tr>\n",
       "    <tr>\n",
       "      <th>2016.0</th>\n",
       "      <td>4071.0</td>\n",
       "      <td>284.0</td>\n",
       "      <td>900.0</td>\n",
       "      <td>274.0</td>\n",
       "    </tr>\n",
       "    <tr>\n",
       "      <th>2017.0</th>\n",
       "      <td>3664.0</td>\n",
       "      <td>535.0</td>\n",
       "      <td>1591.0</td>\n",
       "      <td>311.0</td>\n",
       "    </tr>\n",
       "    <tr>\n",
       "      <th>2018.0</th>\n",
       "      <td>3176.0</td>\n",
       "      <td>1973.0</td>\n",
       "      <td>1760.0</td>\n",
       "      <td>360.0</td>\n",
       "    </tr>\n",
       "    <tr>\n",
       "      <th>2019.0</th>\n",
       "      <td>3605.0</td>\n",
       "      <td>876.0</td>\n",
       "      <td>1763.0</td>\n",
       "      <td>527.0</td>\n",
       "    </tr>\n",
       "    <tr>\n",
       "      <th>2020.0</th>\n",
       "      <td>2501.0</td>\n",
       "      <td>332.0</td>\n",
       "      <td>1545.0</td>\n",
       "      <td>157.0</td>\n",
       "    </tr>\n",
       "    <tr>\n",
       "      <th>2021.0</th>\n",
       "      <td>2634.0</td>\n",
       "      <td>594.0</td>\n",
       "      <td>1607.0</td>\n",
       "      <td>244.0</td>\n",
       "    </tr>\n",
       "  </tbody>\n",
       "</table>\n",
       "</div>"
      ],
      "text/plain": [
       "        NumberDead  Number_of_Females  Number_of_Males  Number_of_Children\n",
       "Year                                                                      \n",
       "2014.0      2193.0               66.0            261.0               302.0\n",
       "2015.0      4077.0              225.0            820.0               301.0\n",
       "2016.0      4071.0              284.0            900.0               274.0\n",
       "2017.0      3664.0              535.0           1591.0               311.0\n",
       "2018.0      3176.0             1973.0           1760.0               360.0\n",
       "2019.0      3605.0              876.0           1763.0               527.0\n",
       "2020.0      2501.0              332.0           1545.0               157.0\n",
       "2021.0      2634.0              594.0           1607.0               244.0"
      ]
     },
     "execution_count": 9,
     "metadata": {},
     "output_type": "execute_result"
    }
   ],
   "source": [
    "df.groupby('Year')['NumberDead', 'Number_of_Females', 'Number_of_Males', 'Number_of_Children'].sum()\n",
    "\n",
    "#### Ask for help about these sums ###"
   ]
  },
  {
   "cell_type": "code",
   "execution_count": 10,
   "metadata": {
    "colab": {
     "base_uri": "https://localhost:8080/",
     "height": 282
    },
    "id": "ZXmvzaXcHx9_",
    "outputId": "d87aeab7-9052-4d4c-8de1-20562c2853f2"
   },
   "outputs": [
    {
     "data": {
      "text/plain": [
       "<matplotlib.collections.PathCollection at 0x207a4cd9a60>"
      ]
     },
     "execution_count": 10,
     "metadata": {},
     "output_type": "execute_result"
    },
    {
     "data": {
      "image/png": "[encoded data removed]",
      "text/plain": [
       "<Figure size 432x288 with 1 Axes>"
      ]
     },
     "metadata": {
      "needs_background": "light"
     },
     "output_type": "display_data"
    }
   ],
   "source": [
    "plt.scatter(df['Year'], df['NumberDead'])"
   ]
  },
  {
   "cell_type": "code",
   "execution_count": 11,
   "metadata": {
    "colab": {
     "base_uri": "https://localhost:8080/",
     "height": 282
    },
    "id": "Vdc4ThVcHx7Z",
    "outputId": "04a9392a-db13-4936-ee1b-4610c08248f6"
   },
   "outputs": [
    {
     "data": {
      "text/plain": [
       "<AxesSubplot:>"
      ]
     },
     "execution_count": 11,
     "metadata": {},
     "output_type": "execute_result"
    },
    {
     "data": {
      "image/png": "[encoded data removed]",
      "text/plain": [
       "<Figure size 432x288 with 1 Axes>"
      ]
     },
     "metadata": {
      "needs_background": "light"
     },
     "output_type": "display_data"
    }
   ],
   "source": [
    "df['NumberDead'].hist(bins= 20)"
   ]
  },
  {
   "cell_type": "code",
   "execution_count": 12,
   "metadata": {
    "colab": {
     "base_uri": "https://localhost:8080/",
     "height": 282
    },
    "id": "Ye8TOXN3fIN7",
    "outputId": "6a4550ba-a5db-4d48-8e42-b6abd567e211"
   },
   "outputs": [
    {
     "data": {
      "text/plain": [
       "<AxesSubplot:>"
      ]
     },
     "execution_count": 12,
     "metadata": {},
     "output_type": "execute_result"
    },
    {
     "data": {
      "image/png": "[encoded data removed]",
      "text/plain": [
       "<Figure size 432x288 with 1 Axes>"
      ]
     },
     "metadata": {
      "needs_background": "light"
     },
     "output_type": "display_data"
    }
   ],
   "source": [
    "df['Minimum_Estimated_Number_of_Missing'].hist(bins=20)"
   ]
  },
  {
   "cell_type": "code",
   "execution_count": 13,
   "metadata": {
    "colab": {
     "base_uri": "https://localhost:8080/",
     "height": 334
    },
    "id": "zrYJ3iuQfH6v",
    "outputId": "c53285da-691b-4903-c9ac-15fb12a97d14"
   },
   "outputs": [
    {
     "data": {
      "image/png": "[encoded data removed]",
      "text/plain": [
       "<Figure size 432x288 with 1 Axes>"
      ]
     },
     "metadata": {
      "needs_background": "light"
     },
     "output_type": "display_data"
    }
   ],
   "source": [
    "plt.hist(df['Minimum_Estimated_Number_of_Missing'], log=True);"
   ]
  },
  {
   "cell_type": "code",
   "execution_count": 14,
   "metadata": {
    "colab": {
     "base_uri": "https://localhost:8080/"
    },
    "id": "K2b6JAc1Hx4l",
    "outputId": "e959f154-bef3-4e5c-f11d-5d19b84da41e"
   },
   "outputs": [
    {
     "data": {
      "text/plain": [
       "MainID                                  object\n",
       "IncidentID                              object\n",
       "Region                                  object\n",
       "IncidentDate                            object\n",
       "Year                                   float64\n",
       "ReportedMonth                           object\n",
       "NumberDead                             float64\n",
       "Minimum_Estimated_Number_of_Missing    float64\n",
       "Total_Number_of_Dead_and_Missing        object\n",
       "Number_of_Survivors                    float64\n",
       "Number_of_Females                      float64\n",
       "Number_of_Males                        float64\n",
       "Number_of_Children                     float64\n",
       "Cause_of_Death                          object\n",
       "Location_of_death                       object\n",
       "InformationSource                       object\n",
       "Coordinates                             object\n",
       "Migrantionroute                         object\n",
       "URL                                     object\n",
       "UNSD_Geographical_Grouping              object\n",
       "SourceQuality                          float64\n",
       "dtype: object"
      ]
     },
     "execution_count": 14,
     "metadata": {},
     "output_type": "execute_result"
    }
   ],
   "source": [
    "df.dtypes"
   ]
  },
  {
   "cell_type": "code",
   "execution_count": 15,
   "metadata": {
    "colab": {
     "base_uri": "https://localhost:8080/"
    },
    "id": "zA207XgWHx1e",
    "outputId": "d69ea586-ca61-4d88-9482-9bbbdd4cbce6"
   },
   "outputs": [
    {
     "data": {
      "text/plain": [
       "Minimum_Estimated_Number_of_Missing    8863\n",
       "Number_of_Children                     8649\n",
       "Number_of_Survivors                    8417\n",
       "Number_of_Females                      7996\n",
       "Number_of_Males                        4081\n",
       "URL                                    2065\n",
       "Migrantionroute                        1255\n",
       "NumberDead                              512\n",
       "SourceQuality                            47\n",
       "InformationSource                        28\n",
       "IncidentDate                             21\n",
       "UNSD_Geographical_Grouping                7\n",
       "Total_Number_of_Dead_and_Missing          6\n",
       "IncidentID                                6\n",
       "ReportedMonth                             6\n",
       "Year                                      6\n",
       "Cause_of_Death                            6\n",
       "Location_of_death                         6\n",
       "Coordinates                               6\n",
       "Region                                    6\n",
       "MainID                                    6\n",
       "dtype: int64"
      ]
     },
     "execution_count": 15,
     "metadata": {},
     "output_type": "execute_result"
    }
   ],
   "source": [
    "df.isnull().sum().sort_values(ascending = False)"
   ]
  },
  {
   "cell_type": "code",
   "execution_count": 16,
   "metadata": {
    "colab": {
     "base_uri": "https://localhost:8080/"
    },
    "id": "gbARIBRHHxy0",
    "outputId": "75411d29-6849-4806-be8f-82def5f0b91c"
   },
   "outputs": [
    {
     "data": {
      "text/plain": [
       "1.0      868\n",
       "2.0      189\n",
       "3.0       63\n",
       "4.0       26\n",
       "5.0       26\n",
       "6.0       15\n",
       "10.0      10\n",
       "11.0       7\n",
       "7.0        5\n",
       "8.0        4\n",
       "15.0       3\n",
       "20.0       3\n",
       "0.0        3\n",
       "12.0       2\n",
       "9.0        1\n",
       "40.0       1\n",
       "250.0      1\n",
       "29.0       1\n",
       "16.0       1\n",
       "Name: Number_of_Children, dtype: int64"
      ]
     },
     "execution_count": 16,
     "metadata": {},
     "output_type": "execute_result"
    }
   ],
   "source": [
    "df['Number_of_Children'].value_counts(ascending = False)"
   ]
  },
  {
   "cell_type": "code",
   "execution_count": 17,
   "metadata": {
    "colab": {
     "base_uri": "https://localhost:8080/",
     "height": 1000
    },
    "id": "8XXpltXGMoAe",
    "outputId": "37cea1ab-a5cc-4e9e-e227-9ad4a6ef4ade"
   },
   "outputs": [
    {
     "data": {
      "text/html": [
       "<div>\n",
       "<style scoped>\n",
       "    .dataframe tbody tr th:only-of-type {\n",
       "        vertical-align: middle;\n",
       "    }\n",
       "\n",
       "    .dataframe tbody tr th {\n",
       "        vertical-align: top;\n",
       "    }\n",
       "\n",
       "    .dataframe thead th {\n",
       "        text-align: right;\n",
       "    }\n",
       "</style>\n",
       "<table border=\"1\" class=\"dataframe\">\n",
       "  <thead>\n",
       "    <tr style=\"text-align: right;\">\n",
       "      <th></th>\n",
       "      <th>MainID</th>\n",
       "      <th>IncidentID</th>\n",
       "      <th>Region</th>\n",
       "      <th>IncidentDate</th>\n",
       "      <th>Year</th>\n",
       "      <th>ReportedMonth</th>\n",
       "      <th>NumberDead</th>\n",
       "      <th>Minimum_Estimated_Number_of_Missing</th>\n",
       "      <th>Total_Number_of_Dead_and_Missing</th>\n",
       "      <th>Number_of_Survivors</th>\n",
       "      <th>Number_of_Females</th>\n",
       "      <th>Number_of_Males</th>\n",
       "      <th>Number_of_Children</th>\n",
       "      <th>Cause_of_Death</th>\n",
       "      <th>Location_of_death</th>\n",
       "      <th>InformationSource</th>\n",
       "      <th>Coordinates</th>\n",
       "      <th>URL</th>\n",
       "      <th>UNSD_Geographical_Grouping</th>\n",
       "      <th>SourceQuality</th>\n",
       "    </tr>\n",
       "    <tr>\n",
       "      <th>Migrantionroute</th>\n",
       "      <th></th>\n",
       "      <th></th>\n",
       "      <th></th>\n",
       "      <th></th>\n",
       "      <th></th>\n",
       "      <th></th>\n",
       "      <th></th>\n",
       "      <th></th>\n",
       "      <th></th>\n",
       "      <th></th>\n",
       "      <th></th>\n",
       "      <th></th>\n",
       "      <th></th>\n",
       "      <th></th>\n",
       "      <th></th>\n",
       "      <th></th>\n",
       "      <th></th>\n",
       "      <th></th>\n",
       "      <th></th>\n",
       "      <th></th>\n",
       "    </tr>\n",
       "  </thead>\n",
       "  <tbody>\n",
       "    <tr>\n",
       "      <th>US-Mexico border crossing</th>\n",
       "      <td>3114</td>\n",
       "      <td>3114</td>\n",
       "      <td>3114</td>\n",
       "      <td>3100</td>\n",
       "      <td>3114</td>\n",
       "      <td>3114</td>\n",
       "      <td>3084</td>\n",
       "      <td>56</td>\n",
       "      <td>3114</td>\n",
       "      <td>196</td>\n",
       "      <td>307</td>\n",
       "      <td>2261</td>\n",
       "      <td>111</td>\n",
       "      <td>3114</td>\n",
       "      <td>3114</td>\n",
       "      <td>3106</td>\n",
       "      <td>3114</td>\n",
       "      <td>2329</td>\n",
       "      <td>3113</td>\n",
       "      <td>3098</td>\n",
       "    </tr>\n",
       "    <tr>\n",
       "      <th>Sahara Desert crossing</th>\n",
       "      <td>1933</td>\n",
       "      <td>1933</td>\n",
       "      <td>1933</td>\n",
       "      <td>1933</td>\n",
       "      <td>1933</td>\n",
       "      <td>1933</td>\n",
       "      <td>1929</td>\n",
       "      <td>14</td>\n",
       "      <td>1933</td>\n",
       "      <td>52</td>\n",
       "      <td>485</td>\n",
       "      <td>820</td>\n",
       "      <td>242</td>\n",
       "      <td>1933</td>\n",
       "      <td>1933</td>\n",
       "      <td>1933</td>\n",
       "      <td>1933</td>\n",
       "      <td>1755</td>\n",
       "      <td>1933</td>\n",
       "      <td>1929</td>\n",
       "    </tr>\n",
       "    <tr>\n",
       "      <th>Central Mediterranean</th>\n",
       "      <td>961</td>\n",
       "      <td>961</td>\n",
       "      <td>961</td>\n",
       "      <td>961</td>\n",
       "      <td>961</td>\n",
       "      <td>961</td>\n",
       "      <td>755</td>\n",
       "      <td>363</td>\n",
       "      <td>961</td>\n",
       "      <td>360</td>\n",
       "      <td>170</td>\n",
       "      <td>354</td>\n",
       "      <td>134</td>\n",
       "      <td>961</td>\n",
       "      <td>961</td>\n",
       "      <td>953</td>\n",
       "      <td>961</td>\n",
       "      <td>534</td>\n",
       "      <td>961</td>\n",
       "      <td>960</td>\n",
       "    </tr>\n",
       "    <tr>\n",
       "      <th>Eastern Mediterranean</th>\n",
       "      <td>637</td>\n",
       "      <td>637</td>\n",
       "      <td>637</td>\n",
       "      <td>637</td>\n",
       "      <td>637</td>\n",
       "      <td>637</td>\n",
       "      <td>602</td>\n",
       "      <td>114</td>\n",
       "      <td>637</td>\n",
       "      <td>174</td>\n",
       "      <td>158</td>\n",
       "      <td>265</td>\n",
       "      <td>182</td>\n",
       "      <td>637</td>\n",
       "      <td>637</td>\n",
       "      <td>636</td>\n",
       "      <td>637</td>\n",
       "      <td>550</td>\n",
       "      <td>637</td>\n",
       "      <td>635</td>\n",
       "    </tr>\n",
       "    <tr>\n",
       "      <th>Western Mediterranean</th>\n",
       "      <td>510</td>\n",
       "      <td>510</td>\n",
       "      <td>510</td>\n",
       "      <td>510</td>\n",
       "      <td>510</td>\n",
       "      <td>510</td>\n",
       "      <td>411</td>\n",
       "      <td>181</td>\n",
       "      <td>510</td>\n",
       "      <td>178</td>\n",
       "      <td>102</td>\n",
       "      <td>292</td>\n",
       "      <td>63</td>\n",
       "      <td>510</td>\n",
       "      <td>510</td>\n",
       "      <td>508</td>\n",
       "      <td>510</td>\n",
       "      <td>497</td>\n",
       "      <td>510</td>\n",
       "      <td>506</td>\n",
       "    </tr>\n",
       "    <tr>\n",
       "      <th>Afghanistan to Iran</th>\n",
       "      <td>393</td>\n",
       "      <td>393</td>\n",
       "      <td>393</td>\n",
       "      <td>392</td>\n",
       "      <td>393</td>\n",
       "      <td>393</td>\n",
       "      <td>393</td>\n",
       "      <td>1</td>\n",
       "      <td>393</td>\n",
       "      <td>7</td>\n",
       "      <td>2</td>\n",
       "      <td>380</td>\n",
       "      <td>21</td>\n",
       "      <td>393</td>\n",
       "      <td>393</td>\n",
       "      <td>393</td>\n",
       "      <td>393</td>\n",
       "      <td>10</td>\n",
       "      <td>393</td>\n",
       "      <td>393</td>\n",
       "    </tr>\n",
       "    <tr>\n",
       "      <th>Western Balkans</th>\n",
       "      <td>191</td>\n",
       "      <td>191</td>\n",
       "      <td>191</td>\n",
       "      <td>191</td>\n",
       "      <td>191</td>\n",
       "      <td>191</td>\n",
       "      <td>182</td>\n",
       "      <td>11</td>\n",
       "      <td>191</td>\n",
       "      <td>54</td>\n",
       "      <td>13</td>\n",
       "      <td>137</td>\n",
       "      <td>20</td>\n",
       "      <td>191</td>\n",
       "      <td>191</td>\n",
       "      <td>191</td>\n",
       "      <td>191</td>\n",
       "      <td>164</td>\n",
       "      <td>191</td>\n",
       "      <td>191</td>\n",
       "    </tr>\n",
       "    <tr>\n",
       "      <th>Western Africa / Atlantic route to the Canary Islands</th>\n",
       "      <td>168</td>\n",
       "      <td>168</td>\n",
       "      <td>168</td>\n",
       "      <td>168</td>\n",
       "      <td>168</td>\n",
       "      <td>168</td>\n",
       "      <td>135</td>\n",
       "      <td>83</td>\n",
       "      <td>168</td>\n",
       "      <td>113</td>\n",
       "      <td>49</td>\n",
       "      <td>63</td>\n",
       "      <td>31</td>\n",
       "      <td>168</td>\n",
       "      <td>168</td>\n",
       "      <td>168</td>\n",
       "      <td>168</td>\n",
       "      <td>158</td>\n",
       "      <td>168</td>\n",
       "      <td>167</td>\n",
       "    </tr>\n",
       "    <tr>\n",
       "      <th>English Channel to the UK</th>\n",
       "      <td>139</td>\n",
       "      <td>139</td>\n",
       "      <td>139</td>\n",
       "      <td>139</td>\n",
       "      <td>139</td>\n",
       "      <td>139</td>\n",
       "      <td>134</td>\n",
       "      <td>12</td>\n",
       "      <td>139</td>\n",
       "      <td>29</td>\n",
       "      <td>12</td>\n",
       "      <td>118</td>\n",
       "      <td>29</td>\n",
       "      <td>139</td>\n",
       "      <td>139</td>\n",
       "      <td>139</td>\n",
       "      <td>139</td>\n",
       "      <td>139</td>\n",
       "      <td>139</td>\n",
       "      <td>139</td>\n",
       "    </tr>\n",
       "    <tr>\n",
       "      <th>Syria to Turkey</th>\n",
       "      <td>127</td>\n",
       "      <td>127</td>\n",
       "      <td>127</td>\n",
       "      <td>127</td>\n",
       "      <td>127</td>\n",
       "      <td>127</td>\n",
       "      <td>127</td>\n",
       "      <td>1</td>\n",
       "      <td>127</td>\n",
       "      <td>9</td>\n",
       "      <td>23</td>\n",
       "      <td>81</td>\n",
       "      <td>37</td>\n",
       "      <td>127</td>\n",
       "      <td>127</td>\n",
       "      <td>127</td>\n",
       "      <td>127</td>\n",
       "      <td>127</td>\n",
       "      <td>127</td>\n",
       "      <td>127</td>\n",
       "    </tr>\n",
       "    <tr>\n",
       "      <th>Turkey-Europe land route</th>\n",
       "      <td>106</td>\n",
       "      <td>106</td>\n",
       "      <td>106</td>\n",
       "      <td>106</td>\n",
       "      <td>106</td>\n",
       "      <td>106</td>\n",
       "      <td>97</td>\n",
       "      <td>13</td>\n",
       "      <td>106</td>\n",
       "      <td>15</td>\n",
       "      <td>10</td>\n",
       "      <td>83</td>\n",
       "      <td>9</td>\n",
       "      <td>106</td>\n",
       "      <td>106</td>\n",
       "      <td>106</td>\n",
       "      <td>106</td>\n",
       "      <td>63</td>\n",
       "      <td>106</td>\n",
       "      <td>106</td>\n",
       "    </tr>\n",
       "    <tr>\n",
       "      <th>Horn of Africa to Yemen crossing</th>\n",
       "      <td>63</td>\n",
       "      <td>63</td>\n",
       "      <td>63</td>\n",
       "      <td>63</td>\n",
       "      <td>63</td>\n",
       "      <td>63</td>\n",
       "      <td>56</td>\n",
       "      <td>18</td>\n",
       "      <td>63</td>\n",
       "      <td>28</td>\n",
       "      <td>15</td>\n",
       "      <td>34</td>\n",
       "      <td>8</td>\n",
       "      <td>63</td>\n",
       "      <td>63</td>\n",
       "      <td>62</td>\n",
       "      <td>63</td>\n",
       "      <td>41</td>\n",
       "      <td>63</td>\n",
       "      <td>63</td>\n",
       "    </tr>\n",
       "    <tr>\n",
       "      <th>Cuba to US</th>\n",
       "      <td>53</td>\n",
       "      <td>53</td>\n",
       "      <td>53</td>\n",
       "      <td>53</td>\n",
       "      <td>53</td>\n",
       "      <td>53</td>\n",
       "      <td>25</td>\n",
       "      <td>40</td>\n",
       "      <td>53</td>\n",
       "      <td>28</td>\n",
       "      <td>16</td>\n",
       "      <td>23</td>\n",
       "      <td>4</td>\n",
       "      <td>53</td>\n",
       "      <td>53</td>\n",
       "      <td>53</td>\n",
       "      <td>53</td>\n",
       "      <td>53</td>\n",
       "      <td>53</td>\n",
       "      <td>53</td>\n",
       "    </tr>\n",
       "    <tr>\n",
       "      <th>Italy to France</th>\n",
       "      <td>50</td>\n",
       "      <td>50</td>\n",
       "      <td>50</td>\n",
       "      <td>50</td>\n",
       "      <td>50</td>\n",
       "      <td>50</td>\n",
       "      <td>50</td>\n",
       "      <td>0</td>\n",
       "      <td>50</td>\n",
       "      <td>3</td>\n",
       "      <td>6</td>\n",
       "      <td>42</td>\n",
       "      <td>5</td>\n",
       "      <td>50</td>\n",
       "      <td>50</td>\n",
       "      <td>50</td>\n",
       "      <td>50</td>\n",
       "      <td>50</td>\n",
       "      <td>50</td>\n",
       "      <td>50</td>\n",
       "    </tr>\n",
       "    <tr>\n",
       "      <th>Darien Gap</th>\n",
       "      <td>41</td>\n",
       "      <td>41</td>\n",
       "      <td>41</td>\n",
       "      <td>41</td>\n",
       "      <td>41</td>\n",
       "      <td>41</td>\n",
       "      <td>37</td>\n",
       "      <td>9</td>\n",
       "      <td>41</td>\n",
       "      <td>11</td>\n",
       "      <td>17</td>\n",
       "      <td>17</td>\n",
       "      <td>10</td>\n",
       "      <td>41</td>\n",
       "      <td>41</td>\n",
       "      <td>41</td>\n",
       "      <td>41</td>\n",
       "      <td>41</td>\n",
       "      <td>41</td>\n",
       "      <td>40</td>\n",
       "    </tr>\n",
       "    <tr>\n",
       "      <th>Iran to Turkey</th>\n",
       "      <td>29</td>\n",
       "      <td>29</td>\n",
       "      <td>29</td>\n",
       "      <td>29</td>\n",
       "      <td>29</td>\n",
       "      <td>29</td>\n",
       "      <td>28</td>\n",
       "      <td>2</td>\n",
       "      <td>29</td>\n",
       "      <td>7</td>\n",
       "      <td>6</td>\n",
       "      <td>17</td>\n",
       "      <td>7</td>\n",
       "      <td>29</td>\n",
       "      <td>29</td>\n",
       "      <td>29</td>\n",
       "      <td>29</td>\n",
       "      <td>24</td>\n",
       "      <td>29</td>\n",
       "      <td>26</td>\n",
       "    </tr>\n",
       "    <tr>\n",
       "      <th>Dominican Republic to Puerto Rico</th>\n",
       "      <td>26</td>\n",
       "      <td>26</td>\n",
       "      <td>26</td>\n",
       "      <td>26</td>\n",
       "      <td>26</td>\n",
       "      <td>26</td>\n",
       "      <td>15</td>\n",
       "      <td>19</td>\n",
       "      <td>26</td>\n",
       "      <td>17</td>\n",
       "      <td>5</td>\n",
       "      <td>16</td>\n",
       "      <td>1</td>\n",
       "      <td>26</td>\n",
       "      <td>26</td>\n",
       "      <td>26</td>\n",
       "      <td>26</td>\n",
       "      <td>26</td>\n",
       "      <td>26</td>\n",
       "      <td>26</td>\n",
       "    </tr>\n",
       "    <tr>\n",
       "      <th>Haiti to Dominican Republic</th>\n",
       "      <td>22</td>\n",
       "      <td>22</td>\n",
       "      <td>22</td>\n",
       "      <td>22</td>\n",
       "      <td>22</td>\n",
       "      <td>22</td>\n",
       "      <td>20</td>\n",
       "      <td>10</td>\n",
       "      <td>22</td>\n",
       "      <td>9</td>\n",
       "      <td>12</td>\n",
       "      <td>16</td>\n",
       "      <td>3</td>\n",
       "      <td>22</td>\n",
       "      <td>22</td>\n",
       "      <td>22</td>\n",
       "      <td>22</td>\n",
       "      <td>22</td>\n",
       "      <td>22</td>\n",
       "      <td>22</td>\n",
       "    </tr>\n",
       "    <tr>\n",
       "      <th>Belarus-EU border</th>\n",
       "      <td>21</td>\n",
       "      <td>21</td>\n",
       "      <td>21</td>\n",
       "      <td>21</td>\n",
       "      <td>21</td>\n",
       "      <td>21</td>\n",
       "      <td>21</td>\n",
       "      <td>0</td>\n",
       "      <td>21</td>\n",
       "      <td>1</td>\n",
       "      <td>3</td>\n",
       "      <td>16</td>\n",
       "      <td>3</td>\n",
       "      <td>21</td>\n",
       "      <td>21</td>\n",
       "      <td>21</td>\n",
       "      <td>21</td>\n",
       "      <td>21</td>\n",
       "      <td>21</td>\n",
       "      <td>21</td>\n",
       "    </tr>\n",
       "    <tr>\n",
       "      <th>Comoros to Mayotte</th>\n",
       "      <td>11</td>\n",
       "      <td>11</td>\n",
       "      <td>11</td>\n",
       "      <td>11</td>\n",
       "      <td>11</td>\n",
       "      <td>11</td>\n",
       "      <td>11</td>\n",
       "      <td>6</td>\n",
       "      <td>11</td>\n",
       "      <td>9</td>\n",
       "      <td>5</td>\n",
       "      <td>2</td>\n",
       "      <td>6</td>\n",
       "      <td>11</td>\n",
       "      <td>11</td>\n",
       "      <td>11</td>\n",
       "      <td>11</td>\n",
       "      <td>10</td>\n",
       "      <td>11</td>\n",
       "      <td>11</td>\n",
       "    </tr>\n",
       "    <tr>\n",
       "      <th>Venezuela to Caribbean</th>\n",
       "      <td>10</td>\n",
       "      <td>10</td>\n",
       "      <td>10</td>\n",
       "      <td>10</td>\n",
       "      <td>10</td>\n",
       "      <td>10</td>\n",
       "      <td>7</td>\n",
       "      <td>6</td>\n",
       "      <td>10</td>\n",
       "      <td>3</td>\n",
       "      <td>4</td>\n",
       "      <td>6</td>\n",
       "      <td>3</td>\n",
       "      <td>10</td>\n",
       "      <td>10</td>\n",
       "      <td>10</td>\n",
       "      <td>10</td>\n",
       "      <td>10</td>\n",
       "      <td>10</td>\n",
       "      <td>10</td>\n",
       "    </tr>\n",
       "    <tr>\n",
       "      <th>North-eastern Asia</th>\n",
       "      <td>6</td>\n",
       "      <td>6</td>\n",
       "      <td>6</td>\n",
       "      <td>6</td>\n",
       "      <td>6</td>\n",
       "      <td>6</td>\n",
       "      <td>5</td>\n",
       "      <td>2</td>\n",
       "      <td>6</td>\n",
       "      <td>4</td>\n",
       "      <td>1</td>\n",
       "      <td>5</td>\n",
       "      <td>0</td>\n",
       "      <td>6</td>\n",
       "      <td>6</td>\n",
       "      <td>6</td>\n",
       "      <td>6</td>\n",
       "      <td>6</td>\n",
       "      <td>6</td>\n",
       "      <td>6</td>\n",
       "    </tr>\n",
       "    <tr>\n",
       "      <th>italy to france</th>\n",
       "      <td>5</td>\n",
       "      <td>5</td>\n",
       "      <td>5</td>\n",
       "      <td>5</td>\n",
       "      <td>5</td>\n",
       "      <td>5</td>\n",
       "      <td>5</td>\n",
       "      <td>0</td>\n",
       "      <td>5</td>\n",
       "      <td>1</td>\n",
       "      <td>0</td>\n",
       "      <td>5</td>\n",
       "      <td>1</td>\n",
       "      <td>5</td>\n",
       "      <td>5</td>\n",
       "      <td>5</td>\n",
       "      <td>5</td>\n",
       "      <td>5</td>\n",
       "      <td>5</td>\n",
       "      <td>5</td>\n",
       "    </tr>\n",
       "    <tr>\n",
       "      <th>South-eastern Asia</th>\n",
       "      <td>3</td>\n",
       "      <td>3</td>\n",
       "      <td>3</td>\n",
       "      <td>3</td>\n",
       "      <td>3</td>\n",
       "      <td>3</td>\n",
       "      <td>3</td>\n",
       "      <td>2</td>\n",
       "      <td>3</td>\n",
       "      <td>3</td>\n",
       "      <td>0</td>\n",
       "      <td>1</td>\n",
       "      <td>0</td>\n",
       "      <td>3</td>\n",
       "      <td>3</td>\n",
       "      <td>3</td>\n",
       "      <td>3</td>\n",
       "      <td>3</td>\n",
       "      <td>3</td>\n",
       "      <td>3</td>\n",
       "    </tr>\n",
       "    <tr>\n",
       "      <th>DRC to Uganda</th>\n",
       "      <td>3</td>\n",
       "      <td>3</td>\n",
       "      <td>3</td>\n",
       "      <td>3</td>\n",
       "      <td>3</td>\n",
       "      <td>3</td>\n",
       "      <td>3</td>\n",
       "      <td>1</td>\n",
       "      <td>3</td>\n",
       "      <td>2</td>\n",
       "      <td>0</td>\n",
       "      <td>0</td>\n",
       "      <td>1</td>\n",
       "      <td>3</td>\n",
       "      <td>3</td>\n",
       "      <td>3</td>\n",
       "      <td>3</td>\n",
       "      <td>3</td>\n",
       "      <td>3</td>\n",
       "      <td>3</td>\n",
       "    </tr>\n",
       "    <tr>\n",
       "      <th>`</th>\n",
       "      <td>0</td>\n",
       "      <td>0</td>\n",
       "      <td>0</td>\n",
       "      <td>0</td>\n",
       "      <td>0</td>\n",
       "      <td>0</td>\n",
       "      <td>0</td>\n",
       "      <td>0</td>\n",
       "      <td>0</td>\n",
       "      <td>0</td>\n",
       "      <td>0</td>\n",
       "      <td>0</td>\n",
       "      <td>0</td>\n",
       "      <td>0</td>\n",
       "      <td>0</td>\n",
       "      <td>0</td>\n",
       "      <td>0</td>\n",
       "      <td>0</td>\n",
       "      <td>0</td>\n",
       "      <td>0</td>\n",
       "    </tr>\n",
       "  </tbody>\n",
       "</table>\n",
       "</div>"
      ],
      "text/plain": [
       "                                                    MainID  IncidentID  \\\n",
       "Migrantionroute                                                          \n",
       "US-Mexico border crossing                             3114        3114   \n",
       "Sahara Desert crossing                                1933        1933   \n",
       "Central Mediterranean                                  961         961   \n",
       "Eastern Mediterranean                                  637         637   \n",
       "Western Mediterranean                                  510         510   \n",
       "Afghanistan to Iran                                    393         393   \n",
       "Western Balkans                                        191         191   \n",
       "Western Africa / Atlantic route to the Canary I...     168         168   \n",
       "English Channel to the UK                              139         139   \n",
       "Syria to Turkey                                        127         127   \n",
       "Turkey-Europe land route                               106         106   \n",
       "Horn of Africa to Yemen crossing                        63          63   \n",
       "Cuba to US                                              53          53   \n",
       "Italy to France                                         50          50   \n",
       "Darien Gap                                              41          41   \n",
       "Iran to Turkey                                          29          29   \n",
       "Dominican Republic to Puerto Rico                       26          26   \n",
       "Haiti to Dominican Republic                             22          22   \n",
       "Belarus-EU border                                       21          21   \n",
       "Comoros to Mayotte                                      11          11   \n",
       "Venezuela to Caribbean                                  10          10   \n",
       "North-eastern Asia                                       6           6   \n",
       "italy to france                                          5           5   \n",
       "South-eastern Asia                                       3           3   \n",
       "DRC to Uganda                                            3           3   \n",
       "`                                                        0           0   \n",
       "\n",
       "                                                    Region  IncidentDate  \\\n",
       "Migrantionroute                                                            \n",
       "US-Mexico border crossing                             3114          3100   \n",
       "Sahara Desert crossing                                1933          1933   \n",
       "Central Mediterranean                                  961           961   \n",
       "Eastern Mediterranean                                  637           637   \n",
       "Western Mediterranean                                  510           510   \n",
       "Afghanistan to Iran                                    393           392   \n",
       "Western Balkans                                        191           191   \n",
       "Western Africa / Atlantic route to the Canary I...     168           168   \n",
       "English Channel to the UK                              139           139   \n",
       "Syria to Turkey                                        127           127   \n",
       "Turkey-Europe land route                               106           106   \n",
       "Horn of Africa to Yemen crossing                        63            63   \n",
       "Cuba to US                                              53            53   \n",
       "Italy to France                                         50            50   \n",
       "Darien Gap                                              41            41   \n",
       "Iran to Turkey                                          29            29   \n",
       "Dominican Republic to Puerto Rico                       26            26   \n",
       "Haiti to Dominican Republic                             22            22   \n",
       "Belarus-EU border                                       21            21   \n",
       "Comoros to Mayotte                                      11            11   \n",
       "Venezuela to Caribbean                                  10            10   \n",
       "North-eastern Asia                                       6             6   \n",
       "italy to france                                          5             5   \n",
       "South-eastern Asia                                       3             3   \n",
       "DRC to Uganda                                            3             3   \n",
       "`                                                        0             0   \n",
       "\n",
       "                                                    Year  ReportedMonth  \\\n",
       "Migrantionroute                                                           \n",
       "US-Mexico border crossing                           3114           3114   \n",
       "Sahara Desert crossing                              1933           1933   \n",
       "Central Mediterranean                                961            961   \n",
       "Eastern Mediterranean                                637            637   \n",
       "Western Mediterranean                                510            510   \n",
       "Afghanistan to Iran                                  393            393   \n",
       "Western Balkans                                      191            191   \n",
       "Western Africa / Atlantic route to the Canary I...   168            168   \n",
       "English Channel to the UK                            139            139   \n",
       "Syria to Turkey                                      127            127   \n",
       "Turkey-Europe land route                             106            106   \n",
       "Horn of Africa to Yemen crossing                      63             63   \n",
       "Cuba to US                                            53             53   \n",
       "Italy to France                                       50             50   \n",
       "Darien Gap                                            41             41   \n",
       "Iran to Turkey                                        29             29   \n",
       "Dominican Republic to Puerto Rico                     26             26   \n",
       "Haiti to Dominican Republic                           22             22   \n",
       "Belarus-EU border                                     21             21   \n",
       "Comoros to Mayotte                                    11             11   \n",
       "Venezuela to Caribbean                                10             10   \n",
       "North-eastern Asia                                     6              6   \n",
       "italy to france                                        5              5   \n",
       "South-eastern Asia                                     3              3   \n",
       "DRC to Uganda                                          3              3   \n",
       "`                                                      0              0   \n",
       "\n",
       "                                                    NumberDead  \\\n",
       "Migrantionroute                                                  \n",
       "US-Mexico border crossing                                 3084   \n",
       "Sahara Desert crossing                                    1929   \n",
       "Central Mediterranean                                      755   \n",
       "Eastern Mediterranean                                      602   \n",
       "Western Mediterranean                                      411   \n",
       "Afghanistan to Iran                                        393   \n",
       "Western Balkans                                            182   \n",
       "Western Africa / Atlantic route to the Canary I...         135   \n",
       "English Channel to the UK                                  134   \n",
       "Syria to Turkey                                            127   \n",
       "Turkey-Europe land route                                    97   \n",
       "Horn of Africa to Yemen crossing                            56   \n",
       "Cuba to US                                                  25   \n",
       "Italy to France                                             50   \n",
       "Darien Gap                                                  37   \n",
       "Iran to Turkey                                              28   \n",
       "Dominican Republic to Puerto Rico                           15   \n",
       "Haiti to Dominican Republic                                 20   \n",
       "Belarus-EU border                                           21   \n",
       "Comoros to Mayotte                                          11   \n",
       "Venezuela to Caribbean                                       7   \n",
       "North-eastern Asia                                           5   \n",
       "italy to france                                              5   \n",
       "South-eastern Asia                                           3   \n",
       "DRC to Uganda                                                3   \n",
       "`                                                            0   \n",
       "\n",
       "                                                    Minimum_Estimated_Number_of_Missing  \\\n",
       "Migrantionroute                                                                           \n",
       "US-Mexico border crossing                                                            56   \n",
       "Sahara Desert crossing                                                               14   \n",
       "Central Mediterranean                                                               363   \n",
       "Eastern Mediterranean                                                               114   \n",
       "Western Mediterranean                                                               181   \n",
       "Afghanistan to Iran                                                                   1   \n",
       "Western Balkans                                                                      11   \n",
       "Western Africa / Atlantic route to the Canary I...                                   83   \n",
       "English Channel to the UK                                                            12   \n",
       "Syria to Turkey                                                                       1   \n",
       "Turkey-Europe land route                                                             13   \n",
       "Horn of Africa to Yemen crossing                                                     18   \n",
       "Cuba to US                                                                           40   \n",
       "Italy to France                                                                       0   \n",
       "Darien Gap                                                                            9   \n",
       "Iran to Turkey                                                                        2   \n",
       "Dominican Republic to Puerto Rico                                                    19   \n",
       "Haiti to Dominican Republic                                                          10   \n",
       "Belarus-EU border                                                                     0   \n",
       "Comoros to Mayotte                                                                    6   \n",
       "Venezuela to Caribbean                                                                6   \n",
       "North-eastern Asia                                                                    2   \n",
       "italy to france                                                                       0   \n",
       "South-eastern Asia                                                                    2   \n",
       "DRC to Uganda                                                                         1   \n",
       "`                                                                                     0   \n",
       "\n",
       "                                                    Total_Number_of_Dead_and_Missing  \\\n",
       "Migrantionroute                                                                        \n",
       "US-Mexico border crossing                                                       3114   \n",
       "Sahara Desert crossing                                                          1933   \n",
       "Central Mediterranean                                                            961   \n",
       "Eastern Mediterranean                                                            637   \n",
       "Western Mediterranean                                                            510   \n",
       "Afghanistan to Iran                                                              393   \n",
       "Western Balkans                                                                  191   \n",
       "Western Africa / Atlantic route to the Canary I...                               168   \n",
       "English Channel to the UK                                                        139   \n",
       "Syria to Turkey                                                                  127   \n",
       "Turkey-Europe land route                                                         106   \n",
       "Horn of Africa to Yemen crossing                                                  63   \n",
       "Cuba to US                                                                        53   \n",
       "Italy to France                                                                   50   \n",
       "Darien Gap                                                                        41   \n",
       "Iran to Turkey                                                                    29   \n",
       "Dominican Republic to Puerto Rico                                                 26   \n",
       "Haiti to Dominican Republic                                                       22   \n",
       "Belarus-EU border                                                                 21   \n",
       "Comoros to Mayotte                                                                11   \n",
       "Venezuela to Caribbean                                                            10   \n",
       "North-eastern Asia                                                                 6   \n",
       "italy to france                                                                    5   \n",
       "South-eastern Asia                                                                 3   \n",
       "DRC to Uganda                                                                      3   \n",
       "`                                                                                  0   \n",
       "\n",
       "                                                    Number_of_Survivors  \\\n",
       "Migrantionroute                                                           \n",
       "US-Mexico border crossing                                           196   \n",
       "Sahara Desert crossing                                               52   \n",
       "Central Mediterranean                                               360   \n",
       "Eastern Mediterranean                                               174   \n",
       "Western Mediterranean                                               178   \n",
       "Afghanistan to Iran                                                   7   \n",
       "Western Balkans                                                      54   \n",
       "Western Africa / Atlantic route to the Canary I...                  113   \n",
       "English Channel to the UK                                            29   \n",
       "Syria to Turkey                                                       9   \n",
       "Turkey-Europe land route                                             15   \n",
       "Horn of Africa to Yemen crossing                                     28   \n",
       "Cuba to US                                                           28   \n",
       "Italy to France                                                       3   \n",
       "Darien Gap                                                           11   \n",
       "Iran to Turkey                                                        7   \n",
       "Dominican Republic to Puerto Rico                                    17   \n",
       "Haiti to Dominican Republic                                           9   \n",
       "Belarus-EU border                                                     1   \n",
       "Comoros to Mayotte                                                    9   \n",
       "Venezuela to Caribbean                                                3   \n",
       "North-eastern Asia                                                    4   \n",
       "italy to france                                                       1   \n",
       "South-eastern Asia                                                    3   \n",
       "DRC to Uganda                                                         2   \n",
       "`                                                                     0   \n",
       "\n",
       "                                                    Number_of_Females  \\\n",
       "Migrantionroute                                                         \n",
       "US-Mexico border crossing                                         307   \n",
       "Sahara Desert crossing                                            485   \n",
       "Central Mediterranean                                             170   \n",
       "Eastern Mediterranean                                             158   \n",
       "Western Mediterranean                                             102   \n",
       "Afghanistan to Iran                                                 2   \n",
       "Western Balkans                                                    13   \n",
       "Western Africa / Atlantic route to the Canary I...                 49   \n",
       "English Channel to the UK                                          12   \n",
       "Syria to Turkey                                                    23   \n",
       "Turkey-Europe land route                                           10   \n",
       "Horn of Africa to Yemen crossing                                   15   \n",
       "Cuba to US                                                         16   \n",
       "Italy to France                                                     6   \n",
       "Darien Gap                                                         17   \n",
       "Iran to Turkey                                                      6   \n",
       "Dominican Republic to Puerto Rico                                   5   \n",
       "Haiti to Dominican Republic                                        12   \n",
       "Belarus-EU border                                                   3   \n",
       "Comoros to Mayotte                                                  5   \n",
       "Venezuela to Caribbean                                              4   \n",
       "North-eastern Asia                                                  1   \n",
       "italy to france                                                     0   \n",
       "South-eastern Asia                                                  0   \n",
       "DRC to Uganda                                                       0   \n",
       "`                                                                   0   \n",
       "\n",
       "                                                    Number_of_Males  \\\n",
       "Migrantionroute                                                       \n",
       "US-Mexico border crossing                                      2261   \n",
       "Sahara Desert crossing                                          820   \n",
       "Central Mediterranean                                           354   \n",
       "Eastern Mediterranean                                           265   \n",
       "Western Mediterranean                                           292   \n",
       "Afghanistan to Iran                                             380   \n",
       "Western Balkans                                                 137   \n",
       "Western Africa / Atlantic route to the Canary I...               63   \n",
       "English Channel to the UK                                       118   \n",
       "Syria to Turkey                                                  81   \n",
       "Turkey-Europe land route                                         83   \n",
       "Horn of Africa to Yemen crossing                                 34   \n",
       "Cuba to US                                                       23   \n",
       "Italy to France                                                  42   \n",
       "Darien Gap                                                       17   \n",
       "Iran to Turkey                                                   17   \n",
       "Dominican Republic to Puerto Rico                                16   \n",
       "Haiti to Dominican Republic                                      16   \n",
       "Belarus-EU border                                                16   \n",
       "Comoros to Mayotte                                                2   \n",
       "Venezuela to Caribbean                                            6   \n",
       "North-eastern Asia                                                5   \n",
       "italy to france                                                   5   \n",
       "South-eastern Asia                                                1   \n",
       "DRC to Uganda                                                     0   \n",
       "`                                                                 0   \n",
       "\n",
       "                                                    Number_of_Children  \\\n",
       "Migrantionroute                                                          \n",
       "US-Mexico border crossing                                          111   \n",
       "Sahara Desert crossing                                             242   \n",
       "Central Mediterranean                                              134   \n",
       "Eastern Mediterranean                                              182   \n",
       "Western Mediterranean                                               63   \n",
       "Afghanistan to Iran                                                 21   \n",
       "Western Balkans                                                     20   \n",
       "Western Africa / Atlantic route to the Canary I...                  31   \n",
       "English Channel to the UK                                           29   \n",
       "Syria to Turkey                                                     37   \n",
       "Turkey-Europe land route                                             9   \n",
       "Horn of Africa to Yemen crossing                                     8   \n",
       "Cuba to US                                                           4   \n",
       "Italy to France                                                      5   \n",
       "Darien Gap                                                          10   \n",
       "Iran to Turkey                                                       7   \n",
       "Dominican Republic to Puerto Rico                                    1   \n",
       "Haiti to Dominican Republic                                          3   \n",
       "Belarus-EU border                                                    3   \n",
       "Comoros to Mayotte                                                   6   \n",
       "Venezuela to Caribbean                                               3   \n",
       "North-eastern Asia                                                   0   \n",
       "italy to france                                                      1   \n",
       "South-eastern Asia                                                   0   \n",
       "DRC to Uganda                                                        1   \n",
       "`                                                                    0   \n",
       "\n",
       "                                                    Cause_of_Death  \\\n",
       "Migrantionroute                                                      \n",
       "US-Mexico border crossing                                     3114   \n",
       "Sahara Desert crossing                                        1933   \n",
       "Central Mediterranean                                          961   \n",
       "Eastern Mediterranean                                          637   \n",
       "Western Mediterranean                                          510   \n",
       "Afghanistan to Iran                                            393   \n",
       "Western Balkans                                                191   \n",
       "Western Africa / Atlantic route to the Canary I...             168   \n",
       "English Channel to the UK                                      139   \n",
       "Syria to Turkey                                                127   \n",
       "Turkey-Europe land route                                       106   \n",
       "Horn of Africa to Yemen crossing                                63   \n",
       "Cuba to US                                                      53   \n",
       "Italy to France                                                 50   \n",
       "Darien Gap                                                      41   \n",
       "Iran to Turkey                                                  29   \n",
       "Dominican Republic to Puerto Rico                               26   \n",
       "Haiti to Dominican Republic                                     22   \n",
       "Belarus-EU border                                               21   \n",
       "Comoros to Mayotte                                              11   \n",
       "Venezuela to Caribbean                                          10   \n",
       "North-eastern Asia                                               6   \n",
       "italy to france                                                  5   \n",
       "South-eastern Asia                                               3   \n",
       "DRC to Uganda                                                    3   \n",
       "`                                                                0   \n",
       "\n",
       "                                                    Location_of_death  \\\n",
       "Migrantionroute                                                         \n",
       "US-Mexico border crossing                                        3114   \n",
       "Sahara Desert crossing                                           1933   \n",
       "Central Mediterranean                                             961   \n",
       "Eastern Mediterranean                                             637   \n",
       "Western Mediterranean                                             510   \n",
       "Afghanistan to Iran                                               393   \n",
       "Western Balkans                                                   191   \n",
       "Western Africa / Atlantic route to the Canary I...                168   \n",
       "English Channel to the UK                                         139   \n",
       "Syria to Turkey                                                   127   \n",
       "Turkey-Europe land route                                          106   \n",
       "Horn of Africa to Yemen crossing                                   63   \n",
       "Cuba to US                                                         53   \n",
       "Italy to France                                                    50   \n",
       "Darien Gap                                                         41   \n",
       "Iran to Turkey                                                     29   \n",
       "Dominican Republic to Puerto Rico                                  26   \n",
       "Haiti to Dominican Republic                                        22   \n",
       "Belarus-EU border                                                  21   \n",
       "Comoros to Mayotte                                                 11   \n",
       "Venezuela to Caribbean                                             10   \n",
       "North-eastern Asia                                                  6   \n",
       "italy to france                                                     5   \n",
       "South-eastern Asia                                                  3   \n",
       "DRC to Uganda                                                       3   \n",
       "`                                                                   0   \n",
       "\n",
       "                                                    InformationSource  \\\n",
       "Migrantionroute                                                         \n",
       "US-Mexico border crossing                                        3106   \n",
       "Sahara Desert crossing                                           1933   \n",
       "Central Mediterranean                                             953   \n",
       "Eastern Mediterranean                                             636   \n",
       "Western Mediterranean                                             508   \n",
       "Afghanistan to Iran                                               393   \n",
       "Western Balkans                                                   191   \n",
       "Western Africa / Atlantic route to the Canary I...                168   \n",
       "English Channel to the UK                                         139   \n",
       "Syria to Turkey                                                   127   \n",
       "Turkey-Europe land route                                          106   \n",
       "Horn of Africa to Yemen crossing                                   62   \n",
       "Cuba to US                                                         53   \n",
       "Italy to France                                                    50   \n",
       "Darien Gap                                                         41   \n",
       "Iran to Turkey                                                     29   \n",
       "Dominican Republic to Puerto Rico                                  26   \n",
       "Haiti to Dominican Republic                                        22   \n",
       "Belarus-EU border                                                  21   \n",
       "Comoros to Mayotte                                                 11   \n",
       "Venezuela to Caribbean                                             10   \n",
       "North-eastern Asia                                                  6   \n",
       "italy to france                                                     5   \n",
       "South-eastern Asia                                                  3   \n",
       "DRC to Uganda                                                       3   \n",
       "`                                                                   0   \n",
       "\n",
       "                                                    Coordinates   URL  \\\n",
       "Migrantionroute                                                         \n",
       "US-Mexico border crossing                                  3114  2329   \n",
       "Sahara Desert crossing                                     1933  1755   \n",
       "Central Mediterranean                                       961   534   \n",
       "Eastern Mediterranean                                       637   550   \n",
       "Western Mediterranean                                       510   497   \n",
       "Afghanistan to Iran                                         393    10   \n",
       "Western Balkans                                             191   164   \n",
       "Western Africa / Atlantic route to the Canary I...          168   158   \n",
       "English Channel to the UK                                   139   139   \n",
       "Syria to Turkey                                             127   127   \n",
       "Turkey-Europe land route                                    106    63   \n",
       "Horn of Africa to Yemen crossing                             63    41   \n",
       "Cuba to US                                                   53    53   \n",
       "Italy to France                                              50    50   \n",
       "Darien Gap                                                   41    41   \n",
       "Iran to Turkey                                               29    24   \n",
       "Dominican Republic to Puerto Rico                            26    26   \n",
       "Haiti to Dominican Republic                                  22    22   \n",
       "Belarus-EU border                                            21    21   \n",
       "Comoros to Mayotte                                           11    10   \n",
       "Venezuela to Caribbean                                       10    10   \n",
       "North-eastern Asia                                            6     6   \n",
       "italy to france                                               5     5   \n",
       "South-eastern Asia                                            3     3   \n",
       "DRC to Uganda                                                 3     3   \n",
       "`                                                             0     0   \n",
       "\n",
       "                                                    UNSD_Geographical_Grouping  \\\n",
       "Migrantionroute                                                                  \n",
       "US-Mexico border crossing                                                 3113   \n",
       "Sahara Desert crossing                                                    1933   \n",
       "Central Mediterranean                                                      961   \n",
       "Eastern Mediterranean                                                      637   \n",
       "Western Mediterranean                                                      510   \n",
       "Afghanistan to Iran                                                        393   \n",
       "Western Balkans                                                            191   \n",
       "Western Africa / Atlantic route to the Canary I...                         168   \n",
       "English Channel to the UK                                                  139   \n",
       "Syria to Turkey                                                            127   \n",
       "Turkey-Europe land route                                                   106   \n",
       "Horn of Africa to Yemen crossing                                            63   \n",
       "Cuba to US                                                                  53   \n",
       "Italy to France                                                             50   \n",
       "Darien Gap                                                                  41   \n",
       "Iran to Turkey                                                              29   \n",
       "Dominican Republic to Puerto Rico                                           26   \n",
       "Haiti to Dominican Republic                                                 22   \n",
       "Belarus-EU border                                                           21   \n",
       "Comoros to Mayotte                                                          11   \n",
       "Venezuela to Caribbean                                                      10   \n",
       "North-eastern Asia                                                           6   \n",
       "italy to france                                                              5   \n",
       "South-eastern Asia                                                           3   \n",
       "DRC to Uganda                                                                3   \n",
       "`                                                                            0   \n",
       "\n",
       "                                                    SourceQuality  \n",
       "Migrantionroute                                                    \n",
       "US-Mexico border crossing                                    3098  \n",
       "Sahara Desert crossing                                       1929  \n",
       "Central Mediterranean                                         960  \n",
       "Eastern Mediterranean                                         635  \n",
       "Western Mediterranean                                         506  \n",
       "Afghanistan to Iran                                           393  \n",
       "Western Balkans                                               191  \n",
       "Western Africa / Atlantic route to the Canary I...            167  \n",
       "English Channel to the UK                                     139  \n",
       "Syria to Turkey                                               127  \n",
       "Turkey-Europe land route                                      106  \n",
       "Horn of Africa to Yemen crossing                               63  \n",
       "Cuba to US                                                     53  \n",
       "Italy to France                                                50  \n",
       "Darien Gap                                                     40  \n",
       "Iran to Turkey                                                 26  \n",
       "Dominican Republic to Puerto Rico                              26  \n",
       "Haiti to Dominican Republic                                    22  \n",
       "Belarus-EU border                                              21  \n",
       "Comoros to Mayotte                                             11  \n",
       "Venezuela to Caribbean                                         10  \n",
       "North-eastern Asia                                              6  \n",
       "italy to france                                                 5  \n",
       "South-eastern Asia                                              3  \n",
       "DRC to Uganda                                                   3  \n",
       "`                                                               0  "
      ]
     },
     "execution_count": 17,
     "metadata": {},
     "output_type": "execute_result"
    }
   ],
   "source": [
    "df.groupby('Migrantionroute').count().sort_values('Region', ascending=False)"
   ]
  },
  {
   "cell_type": "code",
   "execution_count": 18,
   "metadata": {
    "colab": {
     "base_uri": "https://localhost:8080/",
     "height": 797
    },
    "id": "PFAFSYrQhp0u",
    "outputId": "69e4bdf4-bd26-4b90-e3ed-5c22a74483d7"
   },
   "outputs": [
    {
     "data": {
      "text/html": [
       "<div>\n",
       "<style scoped>\n",
       "    .dataframe tbody tr th:only-of-type {\n",
       "        vertical-align: middle;\n",
       "    }\n",
       "\n",
       "    .dataframe tbody tr th {\n",
       "        vertical-align: top;\n",
       "    }\n",
       "\n",
       "    .dataframe thead th {\n",
       "        text-align: right;\n",
       "    }\n",
       "</style>\n",
       "<table border=\"1\" class=\"dataframe\">\n",
       "  <thead>\n",
       "    <tr style=\"text-align: right;\">\n",
       "      <th></th>\n",
       "      <th>MainID</th>\n",
       "      <th>IncidentID</th>\n",
       "      <th>IncidentDate</th>\n",
       "      <th>Year</th>\n",
       "      <th>ReportedMonth</th>\n",
       "      <th>NumberDead</th>\n",
       "      <th>Minimum_Estimated_Number_of_Missing</th>\n",
       "      <th>Total_Number_of_Dead_and_Missing</th>\n",
       "      <th>Number_of_Survivors</th>\n",
       "      <th>Number_of_Females</th>\n",
       "      <th>Number_of_Males</th>\n",
       "      <th>Number_of_Children</th>\n",
       "      <th>Cause_of_Death</th>\n",
       "      <th>Location_of_death</th>\n",
       "      <th>InformationSource</th>\n",
       "      <th>Coordinates</th>\n",
       "      <th>Migrantionroute</th>\n",
       "      <th>URL</th>\n",
       "      <th>UNSD_Geographical_Grouping</th>\n",
       "      <th>SourceQuality</th>\n",
       "    </tr>\n",
       "    <tr>\n",
       "      <th>Region</th>\n",
       "      <th></th>\n",
       "      <th></th>\n",
       "      <th></th>\n",
       "      <th></th>\n",
       "      <th></th>\n",
       "      <th></th>\n",
       "      <th></th>\n",
       "      <th></th>\n",
       "      <th></th>\n",
       "      <th></th>\n",
       "      <th></th>\n",
       "      <th></th>\n",
       "      <th></th>\n",
       "      <th></th>\n",
       "      <th></th>\n",
       "      <th></th>\n",
       "      <th></th>\n",
       "      <th></th>\n",
       "      <th></th>\n",
       "      <th></th>\n",
       "    </tr>\n",
       "  </thead>\n",
       "  <tbody>\n",
       "    <tr>\n",
       "      <th>North America</th>\n",
       "      <td>2164</td>\n",
       "      <td>2164</td>\n",
       "      <td>2160</td>\n",
       "      <td>2164</td>\n",
       "      <td>2164</td>\n",
       "      <td>2153</td>\n",
       "      <td>23</td>\n",
       "      <td>2164</td>\n",
       "      <td>97</td>\n",
       "      <td>213</td>\n",
       "      <td>1467</td>\n",
       "      <td>36</td>\n",
       "      <td>2164</td>\n",
       "      <td>2164</td>\n",
       "      <td>2158</td>\n",
       "      <td>2164</td>\n",
       "      <td>2160</td>\n",
       "      <td>1417</td>\n",
       "      <td>2163</td>\n",
       "      <td>2154</td>\n",
       "    </tr>\n",
       "    <tr>\n",
       "      <th>Northern Africa</th>\n",
       "      <td>1805</td>\n",
       "      <td>1805</td>\n",
       "      <td>1805</td>\n",
       "      <td>1805</td>\n",
       "      <td>1805</td>\n",
       "      <td>1771</td>\n",
       "      <td>78</td>\n",
       "      <td>1805</td>\n",
       "      <td>144</td>\n",
       "      <td>456</td>\n",
       "      <td>675</td>\n",
       "      <td>231</td>\n",
       "      <td>1805</td>\n",
       "      <td>1805</td>\n",
       "      <td>1805</td>\n",
       "      <td>1805</td>\n",
       "      <td>1586</td>\n",
       "      <td>1647</td>\n",
       "      <td>1805</td>\n",
       "      <td>1802</td>\n",
       "    </tr>\n",
       "    <tr>\n",
       "      <th>Mediterranean</th>\n",
       "      <td>1735</td>\n",
       "      <td>1735</td>\n",
       "      <td>1735</td>\n",
       "      <td>1735</td>\n",
       "      <td>1735</td>\n",
       "      <td>1397</td>\n",
       "      <td>648</td>\n",
       "      <td>1735</td>\n",
       "      <td>668</td>\n",
       "      <td>391</td>\n",
       "      <td>755</td>\n",
       "      <td>353</td>\n",
       "      <td>1735</td>\n",
       "      <td>1735</td>\n",
       "      <td>1724</td>\n",
       "      <td>1735</td>\n",
       "      <td>1735</td>\n",
       "      <td>1254</td>\n",
       "      <td>1735</td>\n",
       "      <td>1729</td>\n",
       "    </tr>\n",
       "    <tr>\n",
       "      <th>Central America</th>\n",
       "      <td>980</td>\n",
       "      <td>980</td>\n",
       "      <td>970</td>\n",
       "      <td>980</td>\n",
       "      <td>980</td>\n",
       "      <td>958</td>\n",
       "      <td>36</td>\n",
       "      <td>980</td>\n",
       "      <td>102</td>\n",
       "      <td>106</td>\n",
       "      <td>807</td>\n",
       "      <td>81</td>\n",
       "      <td>980</td>\n",
       "      <td>980</td>\n",
       "      <td>978</td>\n",
       "      <td>980</td>\n",
       "      <td>980</td>\n",
       "      <td>942</td>\n",
       "      <td>980</td>\n",
       "      <td>973</td>\n",
       "    </tr>\n",
       "    <tr>\n",
       "      <th>Western Africa</th>\n",
       "      <td>926</td>\n",
       "      <td>926</td>\n",
       "      <td>926</td>\n",
       "      <td>926</td>\n",
       "      <td>926</td>\n",
       "      <td>923</td>\n",
       "      <td>20</td>\n",
       "      <td>926</td>\n",
       "      <td>48</td>\n",
       "      <td>296</td>\n",
       "      <td>557</td>\n",
       "      <td>177</td>\n",
       "      <td>926</td>\n",
       "      <td>926</td>\n",
       "      <td>926</td>\n",
       "      <td>926</td>\n",
       "      <td>460</td>\n",
       "      <td>855</td>\n",
       "      <td>926</td>\n",
       "      <td>925</td>\n",
       "    </tr>\n",
       "    <tr>\n",
       "      <th>Southern Asia</th>\n",
       "      <td>511</td>\n",
       "      <td>511</td>\n",
       "      <td>510</td>\n",
       "      <td>511</td>\n",
       "      <td>511</td>\n",
       "      <td>509</td>\n",
       "      <td>5</td>\n",
       "      <td>511</td>\n",
       "      <td>20</td>\n",
       "      <td>50</td>\n",
       "      <td>461</td>\n",
       "      <td>59</td>\n",
       "      <td>511</td>\n",
       "      <td>511</td>\n",
       "      <td>511</td>\n",
       "      <td>511</td>\n",
       "      <td>402</td>\n",
       "      <td>105</td>\n",
       "      <td>511</td>\n",
       "      <td>506</td>\n",
       "    </tr>\n",
       "    <tr>\n",
       "      <th>Europe</th>\n",
       "      <td>470</td>\n",
       "      <td>470</td>\n",
       "      <td>470</td>\n",
       "      <td>470</td>\n",
       "      <td>470</td>\n",
       "      <td>454</td>\n",
       "      <td>26</td>\n",
       "      <td>470</td>\n",
       "      <td>105</td>\n",
       "      <td>38</td>\n",
       "      <td>363</td>\n",
       "      <td>65</td>\n",
       "      <td>470</td>\n",
       "      <td>470</td>\n",
       "      <td>470</td>\n",
       "      <td>470</td>\n",
       "      <td>470</td>\n",
       "      <td>436</td>\n",
       "      <td>470</td>\n",
       "      <td>470</td>\n",
       "    </tr>\n",
       "    <tr>\n",
       "      <th>Eastern Africa</th>\n",
       "      <td>397</td>\n",
       "      <td>397</td>\n",
       "      <td>397</td>\n",
       "      <td>397</td>\n",
       "      <td>397</td>\n",
       "      <td>394</td>\n",
       "      <td>26</td>\n",
       "      <td>397</td>\n",
       "      <td>53</td>\n",
       "      <td>46</td>\n",
       "      <td>150</td>\n",
       "      <td>34</td>\n",
       "      <td>397</td>\n",
       "      <td>397</td>\n",
       "      <td>397</td>\n",
       "      <td>397</td>\n",
       "      <td>397</td>\n",
       "      <td>343</td>\n",
       "      <td>397</td>\n",
       "      <td>395</td>\n",
       "    </tr>\n",
       "    <tr>\n",
       "      <th>Western Asia</th>\n",
       "      <td>315</td>\n",
       "      <td>315</td>\n",
       "      <td>315</td>\n",
       "      <td>315</td>\n",
       "      <td>315</td>\n",
       "      <td>301</td>\n",
       "      <td>23</td>\n",
       "      <td>315</td>\n",
       "      <td>65</td>\n",
       "      <td>66</td>\n",
       "      <td>196</td>\n",
       "      <td>62</td>\n",
       "      <td>315</td>\n",
       "      <td>315</td>\n",
       "      <td>313</td>\n",
       "      <td>315</td>\n",
       "      <td>260</td>\n",
       "      <td>256</td>\n",
       "      <td>315</td>\n",
       "      <td>314</td>\n",
       "    </tr>\n",
       "    <tr>\n",
       "      <th>South-eastern Asia</th>\n",
       "      <td>204</td>\n",
       "      <td>204</td>\n",
       "      <td>204</td>\n",
       "      <td>204</td>\n",
       "      <td>204</td>\n",
       "      <td>194</td>\n",
       "      <td>33</td>\n",
       "      <td>204</td>\n",
       "      <td>65</td>\n",
       "      <td>109</td>\n",
       "      <td>133</td>\n",
       "      <td>77</td>\n",
       "      <td>204</td>\n",
       "      <td>204</td>\n",
       "      <td>203</td>\n",
       "      <td>204</td>\n",
       "      <td>1</td>\n",
       "      <td>199</td>\n",
       "      <td>204</td>\n",
       "      <td>199</td>\n",
       "    </tr>\n",
       "    <tr>\n",
       "      <th>South America</th>\n",
       "      <td>165</td>\n",
       "      <td>165</td>\n",
       "      <td>165</td>\n",
       "      <td>165</td>\n",
       "      <td>165</td>\n",
       "      <td>157</td>\n",
       "      <td>14</td>\n",
       "      <td>165</td>\n",
       "      <td>24</td>\n",
       "      <td>61</td>\n",
       "      <td>106</td>\n",
       "      <td>24</td>\n",
       "      <td>165</td>\n",
       "      <td>165</td>\n",
       "      <td>165</td>\n",
       "      <td>165</td>\n",
       "      <td>15</td>\n",
       "      <td>165</td>\n",
       "      <td>165</td>\n",
       "      <td>164</td>\n",
       "    </tr>\n",
       "    <tr>\n",
       "      <th>Middle Africa</th>\n",
       "      <td>72</td>\n",
       "      <td>72</td>\n",
       "      <td>72</td>\n",
       "      <td>72</td>\n",
       "      <td>72</td>\n",
       "      <td>72</td>\n",
       "      <td>2</td>\n",
       "      <td>72</td>\n",
       "      <td>3</td>\n",
       "      <td>12</td>\n",
       "      <td>57</td>\n",
       "      <td>18</td>\n",
       "      <td>72</td>\n",
       "      <td>72</td>\n",
       "      <td>72</td>\n",
       "      <td>72</td>\n",
       "      <td>36</td>\n",
       "      <td>68</td>\n",
       "      <td>72</td>\n",
       "      <td>72</td>\n",
       "    </tr>\n",
       "    <tr>\n",
       "      <th>Caribbean</th>\n",
       "      <td>111</td>\n",
       "      <td>111</td>\n",
       "      <td>111</td>\n",
       "      <td>111</td>\n",
       "      <td>111</td>\n",
       "      <td>67</td>\n",
       "      <td>76</td>\n",
       "      <td>111</td>\n",
       "      <td>58</td>\n",
       "      <td>36</td>\n",
       "      <td>61</td>\n",
       "      <td>10</td>\n",
       "      <td>111</td>\n",
       "      <td>111</td>\n",
       "      <td>111</td>\n",
       "      <td>111</td>\n",
       "      <td>111</td>\n",
       "      <td>111</td>\n",
       "      <td>111</td>\n",
       "      <td>111</td>\n",
       "    </tr>\n",
       "    <tr>\n",
       "      <th>Southern Africa</th>\n",
       "      <td>8</td>\n",
       "      <td>8</td>\n",
       "      <td>8</td>\n",
       "      <td>8</td>\n",
       "      <td>8</td>\n",
       "      <td>8</td>\n",
       "      <td>1</td>\n",
       "      <td>8</td>\n",
       "      <td>2</td>\n",
       "      <td>1</td>\n",
       "      <td>4</td>\n",
       "      <td>2</td>\n",
       "      <td>8</td>\n",
       "      <td>8</td>\n",
       "      <td>8</td>\n",
       "      <td>8</td>\n",
       "      <td>0</td>\n",
       "      <td>6</td>\n",
       "      <td>8</td>\n",
       "      <td>8</td>\n",
       "    </tr>\n",
       "    <tr>\n",
       "      <th>Eastern Asia</th>\n",
       "      <td>8</td>\n",
       "      <td>8</td>\n",
       "      <td>8</td>\n",
       "      <td>8</td>\n",
       "      <td>8</td>\n",
       "      <td>7</td>\n",
       "      <td>4</td>\n",
       "      <td>8</td>\n",
       "      <td>6</td>\n",
       "      <td>1</td>\n",
       "      <td>5</td>\n",
       "      <td>0</td>\n",
       "      <td>8</td>\n",
       "      <td>8</td>\n",
       "      <td>8</td>\n",
       "      <td>8</td>\n",
       "      <td>8</td>\n",
       "      <td>8</td>\n",
       "      <td>8</td>\n",
       "      <td>8</td>\n",
       "    </tr>\n",
       "    <tr>\n",
       "      <th>Central Asia</th>\n",
       "      <td>1</td>\n",
       "      <td>1</td>\n",
       "      <td>1</td>\n",
       "      <td>1</td>\n",
       "      <td>1</td>\n",
       "      <td>1</td>\n",
       "      <td>0</td>\n",
       "      <td>1</td>\n",
       "      <td>1</td>\n",
       "      <td>0</td>\n",
       "      <td>0</td>\n",
       "      <td>0</td>\n",
       "      <td>1</td>\n",
       "      <td>1</td>\n",
       "      <td>1</td>\n",
       "      <td>1</td>\n",
       "      <td>1</td>\n",
       "      <td>1</td>\n",
       "      <td>1</td>\n",
       "      <td>1</td>\n",
       "    </tr>\n",
       "  </tbody>\n",
       "</table>\n",
       "</div>"
      ],
      "text/plain": [
       "                    MainID  IncidentID  IncidentDate  Year  ReportedMonth  \\\n",
       "Region                                                                      \n",
       "North America         2164        2164          2160  2164           2164   \n",
       "Northern Africa       1805        1805          1805  1805           1805   \n",
       "Mediterranean         1735        1735          1735  1735           1735   \n",
       "Central America        980         980           970   980            980   \n",
       "Western Africa         926         926           926   926            926   \n",
       "Southern Asia          511         511           510   511            511   \n",
       "Europe                 470         470           470   470            470   \n",
       "Eastern Africa         397         397           397   397            397   \n",
       "Western Asia           315         315           315   315            315   \n",
       "South-eastern Asia     204         204           204   204            204   \n",
       "South America          165         165           165   165            165   \n",
       "Middle Africa           72          72            72    72             72   \n",
       "Caribbean              111         111           111   111            111   \n",
       "Southern Africa          8           8             8     8              8   \n",
       "Eastern Asia             8           8             8     8              8   \n",
       "Central Asia             1           1             1     1              1   \n",
       "\n",
       "                    NumberDead  Minimum_Estimated_Number_of_Missing  \\\n",
       "Region                                                                \n",
       "North America             2153                                   23   \n",
       "Northern Africa           1771                                   78   \n",
       "Mediterranean             1397                                  648   \n",
       "Central America            958                                   36   \n",
       "Western Africa             923                                   20   \n",
       "Southern Asia              509                                    5   \n",
       "Europe                     454                                   26   \n",
       "Eastern Africa             394                                   26   \n",
       "Western Asia               301                                   23   \n",
       "South-eastern Asia         194                                   33   \n",
       "South America              157                                   14   \n",
       "Middle Africa               72                                    2   \n",
       "Caribbean                   67                                   76   \n",
       "Southern Africa              8                                    1   \n",
       "Eastern Asia                 7                                    4   \n",
       "Central Asia                 1                                    0   \n",
       "\n",
       "                    Total_Number_of_Dead_and_Missing  Number_of_Survivors  \\\n",
       "Region                                                                      \n",
       "North America                                   2164                   97   \n",
       "Northern Africa                                 1805                  144   \n",
       "Mediterranean                                   1735                  668   \n",
       "Central America                                  980                  102   \n",
       "Western Africa                                   926                   48   \n",
       "Southern Asia                                    511                   20   \n",
       "Europe                                           470                  105   \n",
       "Eastern Africa                                   397                   53   \n",
       "Western Asia                                     315                   65   \n",
       "South-eastern Asia                               204                   65   \n",
       "South America                                    165                   24   \n",
       "Middle Africa                                     72                    3   \n",
       "Caribbean                                        111                   58   \n",
       "Southern Africa                                    8                    2   \n",
       "Eastern Asia                                       8                    6   \n",
       "Central Asia                                       1                    1   \n",
       "\n",
       "                    Number_of_Females  Number_of_Males  Number_of_Children  \\\n",
       "Region                                                                       \n",
       "North America                     213             1467                  36   \n",
       "Northern Africa                   456              675                 231   \n",
       "Mediterranean                     391              755                 353   \n",
       "Central America                   106              807                  81   \n",
       "Western Africa                    296              557                 177   \n",
       "Southern Asia                      50              461                  59   \n",
       "Europe                             38              363                  65   \n",
       "Eastern Africa                     46              150                  34   \n",
       "Western Asia                       66              196                  62   \n",
       "South-eastern Asia                109              133                  77   \n",
       "South America                      61              106                  24   \n",
       "Middle Africa                      12               57                  18   \n",
       "Caribbean                          36               61                  10   \n",
       "Southern Africa                     1                4                   2   \n",
       "Eastern Asia                        1                5                   0   \n",
       "Central Asia                        0                0                   0   \n",
       "\n",
       "                    Cause_of_Death  Location_of_death  InformationSource  \\\n",
       "Region                                                                     \n",
       "North America                 2164               2164               2158   \n",
       "Northern Africa               1805               1805               1805   \n",
       "Mediterranean                 1735               1735               1724   \n",
       "Central America                980                980                978   \n",
       "Western Africa                 926                926                926   \n",
       "Southern Asia                  511                511                511   \n",
       "Europe                         470                470                470   \n",
       "Eastern Africa                 397                397                397   \n",
       "Western Asia                   315                315                313   \n",
       "South-eastern Asia             204                204                203   \n",
       "South America                  165                165                165   \n",
       "Middle Africa                   72                 72                 72   \n",
       "Caribbean                      111                111                111   \n",
       "Southern Africa                  8                  8                  8   \n",
       "Eastern Asia                     8                  8                  8   \n",
       "Central Asia                     1                  1                  1   \n",
       "\n",
       "                    Coordinates  Migrantionroute   URL  \\\n",
       "Region                                                   \n",
       "North America              2164             2160  1417   \n",
       "Northern Africa            1805             1586  1647   \n",
       "Mediterranean              1735             1735  1254   \n",
       "Central America             980              980   942   \n",
       "Western Africa              926              460   855   \n",
       "Southern Asia               511              402   105   \n",
       "Europe                      470              470   436   \n",
       "Eastern Africa              397              397   343   \n",
       "Western Asia                315              260   256   \n",
       "South-eastern Asia          204                1   199   \n",
       "South America               165               15   165   \n",
       "Middle Africa                72               36    68   \n",
       "Caribbean                   111              111   111   \n",
       "Southern Africa               8                0     6   \n",
       "Eastern Asia                  8                8     8   \n",
       "Central Asia                  1                1     1   \n",
       "\n",
       "                    UNSD_Geographical_Grouping  SourceQuality  \n",
       "Region                                                         \n",
       "North America                             2163           2154  \n",
       "Northern Africa                           1805           1802  \n",
       "Mediterranean                             1735           1729  \n",
       "Central America                            980            973  \n",
       "Western Africa                             926            925  \n",
       "Southern Asia                              511            506  \n",
       "Europe                                     470            470  \n",
       "Eastern Africa                             397            395  \n",
       "Western Asia                               315            314  \n",
       "South-eastern Asia                         204            199  \n",
       "South America                              165            164  \n",
       "Middle Africa                               72             72  \n",
       "Caribbean                                  111            111  \n",
       "Southern Africa                              8              8  \n",
       "Eastern Asia                                 8              8  \n",
       "Central Asia                                 1              1  "
      ]
     },
     "execution_count": 18,
     "metadata": {},
     "output_type": "execute_result"
    }
   ],
   "source": [
    "df.groupby('Region').count().sort_values('NumberDead', ascending=False)"
   ]
  },
  {
   "cell_type": "code",
   "execution_count": 19,
   "metadata": {
    "colab": {
     "base_uri": "https://localhost:8080/",
     "height": 835
    },
    "id": "lVAJBdVRXgMM",
    "outputId": "a57be349-02ae-4ce7-90c6-dae0cb6b9f77"
   },
   "outputs": [
    {
     "data": {
      "text/html": [
       "<div>\n",
       "<style scoped>\n",
       "    .dataframe tbody tr th:only-of-type {\n",
       "        vertical-align: middle;\n",
       "    }\n",
       "\n",
       "    .dataframe tbody tr th {\n",
       "        vertical-align: top;\n",
       "    }\n",
       "\n",
       "    .dataframe thead th {\n",
       "        text-align: right;\n",
       "    }\n",
       "</style>\n",
       "<table border=\"1\" class=\"dataframe\">\n",
       "  <thead>\n",
       "    <tr style=\"text-align: right;\">\n",
       "      <th></th>\n",
       "      <th>MainID</th>\n",
       "      <th>IncidentID</th>\n",
       "      <th>Region</th>\n",
       "      <th>IncidentDate</th>\n",
       "      <th>Year</th>\n",
       "      <th>ReportedMonth</th>\n",
       "      <th>NumberDead</th>\n",
       "      <th>Minimum_Estimated_Number_of_Missing</th>\n",
       "      <th>Total_Number_of_Dead_and_Missing</th>\n",
       "      <th>Number_of_Survivors</th>\n",
       "      <th>...</th>\n",
       "      <th>Number_of_Males</th>\n",
       "      <th>Number_of_Children</th>\n",
       "      <th>Cause_of_Death</th>\n",
       "      <th>Location_of_death</th>\n",
       "      <th>InformationSource</th>\n",
       "      <th>Coordinates</th>\n",
       "      <th>Migrantionroute</th>\n",
       "      <th>URL</th>\n",
       "      <th>UNSD_Geographical_Grouping</th>\n",
       "      <th>SourceQuality</th>\n",
       "    </tr>\n",
       "  </thead>\n",
       "  <tbody>\n",
       "    <tr>\n",
       "      <th>0</th>\n",
       "      <td>2014.MMP00001</td>\n",
       "      <td>2014.MMP00001</td>\n",
       "      <td>North America</td>\n",
       "      <td>Mon, 01/06/2014 - 12:00</td>\n",
       "      <td>2014.0</td>\n",
       "      <td>January</td>\n",
       "      <td>1.0</td>\n",
       "      <td>NaN</td>\n",
       "      <td>1</td>\n",
       "      <td>NaN</td>\n",
       "      <td>...</td>\n",
       "      <td>1.0</td>\n",
       "      <td>NaN</td>\n",
       "      <td>Mixed or unknown</td>\n",
       "      <td>Pima Country Office of the Medical Examiner ju...</td>\n",
       "      <td>Pima County Office of the Medical Examiner (PC...</td>\n",
       "      <td>31.650259, -110.366453</td>\n",
       "      <td>US-Mexico border crossing</td>\n",
       "      <td>http://humaneborders.info/</td>\n",
       "      <td>Northern America</td>\n",
       "      <td>5.0</td>\n",
       "    </tr>\n",
       "    <tr>\n",
       "      <th>1</th>\n",
       "      <td>2014.MMP00002</td>\n",
       "      <td>2014.MMP00002</td>\n",
       "      <td>North America</td>\n",
       "      <td>Sun, 01/12/2014 - 12:00</td>\n",
       "      <td>2014.0</td>\n",
       "      <td>January</td>\n",
       "      <td>1.0</td>\n",
       "      <td>NaN</td>\n",
       "      <td>1</td>\n",
       "      <td>NaN</td>\n",
       "      <td>...</td>\n",
       "      <td>NaN</td>\n",
       "      <td>NaN</td>\n",
       "      <td>Mixed or unknown</td>\n",
       "      <td>Pima Country Office of the Medical Examiner ju...</td>\n",
       "      <td>Pima County Office of the Medical Examiner (PC...</td>\n",
       "      <td>31.59713, -111.73756</td>\n",
       "      <td>US-Mexico border crossing</td>\n",
       "      <td>NaN</td>\n",
       "      <td>Northern America</td>\n",
       "      <td>5.0</td>\n",
       "    </tr>\n",
       "    <tr>\n",
       "      <th>2</th>\n",
       "      <td>2014.MMP00003</td>\n",
       "      <td>2014.MMP00003</td>\n",
       "      <td>North America</td>\n",
       "      <td>Tue, 01/14/2014 - 12:00</td>\n",
       "      <td>2014.0</td>\n",
       "      <td>January</td>\n",
       "      <td>1.0</td>\n",
       "      <td>NaN</td>\n",
       "      <td>1</td>\n",
       "      <td>NaN</td>\n",
       "      <td>...</td>\n",
       "      <td>NaN</td>\n",
       "      <td>NaN</td>\n",
       "      <td>Mixed or unknown</td>\n",
       "      <td>Pima Country Office of the Medical Examiner ju...</td>\n",
       "      <td>Pima County Office of the Medical Examiner (PC...</td>\n",
       "      <td>31.94026, -113.01125</td>\n",
       "      <td>US-Mexico border crossing</td>\n",
       "      <td>NaN</td>\n",
       "      <td>Northern America</td>\n",
       "      <td>5.0</td>\n",
       "    </tr>\n",
       "    <tr>\n",
       "      <th>3</th>\n",
       "      <td>2014.MMP00004</td>\n",
       "      <td>2014.MMP00004</td>\n",
       "      <td>North America</td>\n",
       "      <td>Thu, 01/16/2014 - 12:00</td>\n",
       "      <td>2014.0</td>\n",
       "      <td>January</td>\n",
       "      <td>1.0</td>\n",
       "      <td>NaN</td>\n",
       "      <td>1</td>\n",
       "      <td>NaN</td>\n",
       "      <td>...</td>\n",
       "      <td>1.0</td>\n",
       "      <td>NaN</td>\n",
       "      <td>Violence</td>\n",
       "      <td>near Douglas, Arizona, USA</td>\n",
       "      <td>Ministry of Foreign Affairs Mexico, Pima Count...</td>\n",
       "      <td>31.506777, -109.315632</td>\n",
       "      <td>US-Mexico border crossing</td>\n",
       "      <td>http://bit.ly/1qfIw00</td>\n",
       "      <td>Northern America</td>\n",
       "      <td>5.0</td>\n",
       "    </tr>\n",
       "    <tr>\n",
       "      <th>5</th>\n",
       "      <td>2014.MMP00006</td>\n",
       "      <td>2014.MMP00006</td>\n",
       "      <td>North America</td>\n",
       "      <td>Fri, 01/17/2014 - 12:00</td>\n",
       "      <td>2014.0</td>\n",
       "      <td>January</td>\n",
       "      <td>1.0</td>\n",
       "      <td>NaN</td>\n",
       "      <td>1</td>\n",
       "      <td>NaN</td>\n",
       "      <td>...</td>\n",
       "      <td>NaN</td>\n",
       "      <td>NaN</td>\n",
       "      <td>Violence</td>\n",
       "      <td>Pima Country Office of the Medical Examiner ju...</td>\n",
       "      <td>Pima County Office of the Medical Examiner (PC...</td>\n",
       "      <td>32.45435, -113.18402</td>\n",
       "      <td>US-Mexico border crossing</td>\n",
       "      <td>NaN</td>\n",
       "      <td>Northern America</td>\n",
       "      <td>5.0</td>\n",
       "    </tr>\n",
       "    <tr>\n",
       "      <th>...</th>\n",
       "      <td>...</td>\n",
       "      <td>...</td>\n",
       "      <td>...</td>\n",
       "      <td>...</td>\n",
       "      <td>...</td>\n",
       "      <td>...</td>\n",
       "      <td>...</td>\n",
       "      <td>...</td>\n",
       "      <td>...</td>\n",
       "      <td>...</td>\n",
       "      <td>...</td>\n",
       "      <td>...</td>\n",
       "      <td>...</td>\n",
       "      <td>...</td>\n",
       "      <td>...</td>\n",
       "      <td>...</td>\n",
       "      <td>...</td>\n",
       "      <td>...</td>\n",
       "      <td>...</td>\n",
       "      <td>...</td>\n",
       "      <td>...</td>\n",
       "    </tr>\n",
       "    <tr>\n",
       "      <th>9837</th>\n",
       "      <td>2021.MMP0272</td>\n",
       "      <td>2021.MMP0272</td>\n",
       "      <td>Central America</td>\n",
       "      <td>Wed, 12/15/2021 - 12:00</td>\n",
       "      <td>2021.0</td>\n",
       "      <td>December</td>\n",
       "      <td>1.0</td>\n",
       "      <td>NaN</td>\n",
       "      <td>1</td>\n",
       "      <td>9.0</td>\n",
       "      <td>...</td>\n",
       "      <td>1.0</td>\n",
       "      <td>NaN</td>\n",
       "      <td>Vehicle accident / death linked to hazardous t...</td>\n",
       "      <td>KM115 of Federal Highway 2, between Piedras Ne...</td>\n",
       "      <td>La Jornada de San Luis, Milenio</td>\n",
       "      <td>28.344805, -100.392501</td>\n",
       "      <td>US-Mexico border crossing</td>\n",
       "      <td>https://archive.ph/zSQvC, https://archive.ph/t...</td>\n",
       "      <td>Central America</td>\n",
       "      <td>3.0</td>\n",
       "    </tr>\n",
       "    <tr>\n",
       "      <th>9838</th>\n",
       "      <td>2021.MMP0273</td>\n",
       "      <td>2021.MMP0273</td>\n",
       "      <td>North America</td>\n",
       "      <td>Fri, 12/03/2021 - 12:00</td>\n",
       "      <td>2021.0</td>\n",
       "      <td>December</td>\n",
       "      <td>1.0</td>\n",
       "      <td>NaN</td>\n",
       "      <td>1</td>\n",
       "      <td>NaN</td>\n",
       "      <td>...</td>\n",
       "      <td>1.0</td>\n",
       "      <td>NaN</td>\n",
       "      <td>Vehicle accident / death linked to hazardous t...</td>\n",
       "      <td>Intersection of FM 755 and FM 1017, near La Gl...</td>\n",
       "      <td>US Border Patrol</td>\n",
       "      <td>26.715491, -98.525629</td>\n",
       "      <td>US-Mexico border crossing</td>\n",
       "      <td>https://archive.ph/vrgBp</td>\n",
       "      <td>Northern America</td>\n",
       "      <td>5.0</td>\n",
       "    </tr>\n",
       "    <tr>\n",
       "      <th>9839</th>\n",
       "      <td>2021.MMP0274</td>\n",
       "      <td>2021.MMP0274</td>\n",
       "      <td>North America</td>\n",
       "      <td>Fri, 12/17/2021 - 12:00</td>\n",
       "      <td>2021.0</td>\n",
       "      <td>December</td>\n",
       "      <td>1.0</td>\n",
       "      <td>NaN</td>\n",
       "      <td>1</td>\n",
       "      <td>NaN</td>\n",
       "      <td>...</td>\n",
       "      <td>1.0</td>\n",
       "      <td>NaN</td>\n",
       "      <td>Drowning</td>\n",
       "      <td>Río Bravo/Rio Grande near Moody Ranch, Del Rio...</td>\n",
       "      <td>The 830 Times, SuperChannel12</td>\n",
       "      <td>29.316474, -100.906933</td>\n",
       "      <td>US-Mexico border crossing</td>\n",
       "      <td>https://archive.ph/s7EMa, https://archive.ph/q...</td>\n",
       "      <td>Northern America</td>\n",
       "      <td>3.0</td>\n",
       "    </tr>\n",
       "    <tr>\n",
       "      <th>9860</th>\n",
       "      <td>2021.MMP0287</td>\n",
       "      <td>2021.MMP0287</td>\n",
       "      <td>Central America</td>\n",
       "      <td>Thu, 12/09/2021 - 12:00</td>\n",
       "      <td>2021.0</td>\n",
       "      <td>December</td>\n",
       "      <td>1.0</td>\n",
       "      <td>NaN</td>\n",
       "      <td>1</td>\n",
       "      <td>NaN</td>\n",
       "      <td>...</td>\n",
       "      <td>1.0</td>\n",
       "      <td>NaN</td>\n",
       "      <td>Drowning</td>\n",
       "      <td>Rio Grande/Río Bravo, near Ciudad Acuña, Coahu...</td>\n",
       "      <td>El Siglo de Torreón, Capital Coahuila</td>\n",
       "      <td>29.345707, -100.947238</td>\n",
       "      <td>US-Mexico border crossing</td>\n",
       "      <td>https://archive.ph/BkqEh, https://archive.ph/Y...</td>\n",
       "      <td>Central America</td>\n",
       "      <td>3.0</td>\n",
       "    </tr>\n",
       "    <tr>\n",
       "      <th>9861</th>\n",
       "      <td>2021.MMP0288</td>\n",
       "      <td>2021.MMP0288</td>\n",
       "      <td>North America</td>\n",
       "      <td>Thu, 12/16/2021 - 12:00</td>\n",
       "      <td>2021.0</td>\n",
       "      <td>December</td>\n",
       "      <td>1.0</td>\n",
       "      <td>NaN</td>\n",
       "      <td>1</td>\n",
       "      <td>NaN</td>\n",
       "      <td>...</td>\n",
       "      <td>1.0</td>\n",
       "      <td>NaN</td>\n",
       "      <td>Accidental death</td>\n",
       "      <td>Died at University Medical Center in El Paso, ...</td>\n",
       "      <td>US Border Patrol</td>\n",
       "      <td>31.784103, -106.590148</td>\n",
       "      <td>US-Mexico border crossing</td>\n",
       "      <td>https://archive.ph/5gST2</td>\n",
       "      <td>Northern America</td>\n",
       "      <td>5.0</td>\n",
       "    </tr>\n",
       "  </tbody>\n",
       "</table>\n",
       "<p>3114 rows × 21 columns</p>\n",
       "</div>"
      ],
      "text/plain": [
       "             MainID     IncidentID           Region             IncidentDate  \\\n",
       "0     2014.MMP00001  2014.MMP00001    North America  Mon, 01/06/2014 - 12:00   \n",
       "1     2014.MMP00002  2014.MMP00002    North America  Sun, 01/12/2014 - 12:00   \n",
       "2     2014.MMP00003  2014.MMP00003    North America  Tue, 01/14/2014 - 12:00   \n",
       "3     2014.MMP00004  2014.MMP00004    North America  Thu, 01/16/2014 - 12:00   \n",
       "5     2014.MMP00006  2014.MMP00006    North America  Fri, 01/17/2014 - 12:00   \n",
       "...             ...            ...              ...                      ...   \n",
       "9837   2021.MMP0272   2021.MMP0272  Central America  Wed, 12/15/2021 - 12:00   \n",
       "9838   2021.MMP0273   2021.MMP0273    North America  Fri, 12/03/2021 - 12:00   \n",
       "9839   2021.MMP0274   2021.MMP0274    North America  Fri, 12/17/2021 - 12:00   \n",
       "9860   2021.MMP0287   2021.MMP0287  Central America  Thu, 12/09/2021 - 12:00   \n",
       "9861   2021.MMP0288   2021.MMP0288    North America  Thu, 12/16/2021 - 12:00   \n",
       "\n",
       "        Year ReportedMonth  NumberDead  Minimum_Estimated_Number_of_Missing  \\\n",
       "0     2014.0       January         1.0                                  NaN   \n",
       "1     2014.0       January         1.0                                  NaN   \n",
       "2     2014.0       January         1.0                                  NaN   \n",
       "3     2014.0       January         1.0                                  NaN   \n",
       "5     2014.0       January         1.0                                  NaN   \n",
       "...      ...           ...         ...                                  ...   \n",
       "9837  2021.0      December         1.0                                  NaN   \n",
       "9838  2021.0      December         1.0                                  NaN   \n",
       "9839  2021.0      December         1.0                                  NaN   \n",
       "9860  2021.0      December         1.0                                  NaN   \n",
       "9861  2021.0      December         1.0                                  NaN   \n",
       "\n",
       "     Total_Number_of_Dead_and_Missing  Number_of_Survivors  ...  \\\n",
       "0                                   1                  NaN  ...   \n",
       "1                                   1                  NaN  ...   \n",
       "2                                   1                  NaN  ...   \n",
       "3                                   1                  NaN  ...   \n",
       "5                                   1                  NaN  ...   \n",
       "...                               ...                  ...  ...   \n",
       "9837                                1                  9.0  ...   \n",
       "9838                                1                  NaN  ...   \n",
       "9839                                1                  NaN  ...   \n",
       "9860                                1                  NaN  ...   \n",
       "9861                                1                  NaN  ...   \n",
       "\n",
       "      Number_of_Males  Number_of_Children  \\\n",
       "0                 1.0                 NaN   \n",
       "1                 NaN                 NaN   \n",
       "2                 NaN                 NaN   \n",
       "3                 1.0                 NaN   \n",
       "5                 NaN                 NaN   \n",
       "...               ...                 ...   \n",
       "9837              1.0                 NaN   \n",
       "9838              1.0                 NaN   \n",
       "9839              1.0                 NaN   \n",
       "9860              1.0                 NaN   \n",
       "9861              1.0                 NaN   \n",
       "\n",
       "                                         Cause_of_Death  \\\n",
       "0                                      Mixed or unknown   \n",
       "1                                      Mixed or unknown   \n",
       "2                                      Mixed or unknown   \n",
       "3                                              Violence   \n",
       "5                                              Violence   \n",
       "...                                                 ...   \n",
       "9837  Vehicle accident / death linked to hazardous t...   \n",
       "9838  Vehicle accident / death linked to hazardous t...   \n",
       "9839                                           Drowning   \n",
       "9860                                           Drowning   \n",
       "9861                                   Accidental death   \n",
       "\n",
       "                                      Location_of_death  \\\n",
       "0     Pima Country Office of the Medical Examiner ju...   \n",
       "1     Pima Country Office of the Medical Examiner ju...   \n",
       "2     Pima Country Office of the Medical Examiner ju...   \n",
       "3                            near Douglas, Arizona, USA   \n",
       "5     Pima Country Office of the Medical Examiner ju...   \n",
       "...                                                 ...   \n",
       "9837  KM115 of Federal Highway 2, between Piedras Ne...   \n",
       "9838  Intersection of FM 755 and FM 1017, near La Gl...   \n",
       "9839  Río Bravo/Rio Grande near Moody Ranch, Del Rio...   \n",
       "9860  Rio Grande/Río Bravo, near Ciudad Acuña, Coahu...   \n",
       "9861  Died at University Medical Center in El Paso, ...   \n",
       "\n",
       "                                      InformationSource  \\\n",
       "0     Pima County Office of the Medical Examiner (PC...   \n",
       "1     Pima County Office of the Medical Examiner (PC...   \n",
       "2     Pima County Office of the Medical Examiner (PC...   \n",
       "3     Ministry of Foreign Affairs Mexico, Pima Count...   \n",
       "5     Pima County Office of the Medical Examiner (PC...   \n",
       "...                                                 ...   \n",
       "9837                    La Jornada de San Luis, Milenio   \n",
       "9838                                   US Border Patrol   \n",
       "9839                      The 830 Times, SuperChannel12   \n",
       "9860              El Siglo de Torreón, Capital Coahuila   \n",
       "9861                                   US Border Patrol   \n",
       "\n",
       "                 Coordinates            Migrantionroute  \\\n",
       "0     31.650259, -110.366453  US-Mexico border crossing   \n",
       "1       31.59713, -111.73756  US-Mexico border crossing   \n",
       "2       31.94026, -113.01125  US-Mexico border crossing   \n",
       "3     31.506777, -109.315632  US-Mexico border crossing   \n",
       "5       32.45435, -113.18402  US-Mexico border crossing   \n",
       "...                      ...                        ...   \n",
       "9837  28.344805, -100.392501  US-Mexico border crossing   \n",
       "9838   26.715491, -98.525629  US-Mexico border crossing   \n",
       "9839  29.316474, -100.906933  US-Mexico border crossing   \n",
       "9860  29.345707, -100.947238  US-Mexico border crossing   \n",
       "9861  31.784103, -106.590148  US-Mexico border crossing   \n",
       "\n",
       "                                                    URL  \\\n",
       "0                            http://humaneborders.info/   \n",
       "1                                                   NaN   \n",
       "2                                                   NaN   \n",
       "3                                 http://bit.ly/1qfIw00   \n",
       "5                                                   NaN   \n",
       "...                                                 ...   \n",
       "9837  https://archive.ph/zSQvC, https://archive.ph/t...   \n",
       "9838                           https://archive.ph/vrgBp   \n",
       "9839  https://archive.ph/s7EMa, https://archive.ph/q...   \n",
       "9860  https://archive.ph/BkqEh, https://archive.ph/Y...   \n",
       "9861                           https://archive.ph/5gST2   \n",
       "\n",
       "     UNSD_Geographical_Grouping SourceQuality  \n",
       "0              Northern America           5.0  \n",
       "1              Northern America           5.0  \n",
       "2              Northern America           5.0  \n",
       "3              Northern America           5.0  \n",
       "5              Northern America           5.0  \n",
       "...                         ...           ...  \n",
       "9837            Central America           3.0  \n",
       "9838           Northern America           5.0  \n",
       "9839           Northern America           3.0  \n",
       "9860            Central America           3.0  \n",
       "9861           Northern America           5.0  \n",
       "\n",
       "[3114 rows x 21 columns]"
      ]
     },
     "execution_count": 19,
     "metadata": {},
     "output_type": "execute_result"
    }
   ],
   "source": [
    "df[df['Migrantionroute'] == 'US-Mexico border crossing']"
   ]
  },
  {
   "cell_type": "code",
   "execution_count": 20,
   "metadata": {
    "colab": {
     "base_uri": "https://localhost:8080/"
    },
    "id": "4ExgcintgvC4",
    "outputId": "a6b90105-c42c-4b36-a8cd-546fde3e5a5f"
   },
   "outputs": [
    {
     "data": {
      "text/plain": [
       "Index(['MainID', 'IncidentID', 'Region', 'IncidentDate', 'Year',\n",
       "       'ReportedMonth', 'NumberDead', 'Minimum_Estimated_Number_of_Missing',\n",
       "       'Total_Number_of_Dead_and_Missing', 'Number_of_Survivors',\n",
       "       'Number_of_Females', 'Number_of_Males', 'Number_of_Children',\n",
       "       'Cause_of_Death', 'Location_of_death', 'InformationSource',\n",
       "       'Coordinates', 'Migrantionroute', 'URL', 'UNSD_Geographical_Grouping',\n",
       "       'SourceQuality'],\n",
       "      dtype='object')"
      ]
     },
     "execution_count": 20,
     "metadata": {},
     "output_type": "execute_result"
    }
   ],
   "source": [
    "df.columns"
   ]
  },
  {
   "cell_type": "code",
   "execution_count": null,
   "metadata": {
    "colab": {
     "base_uri": "https://localhost:8080/",
     "height": 542
    },
    "id": "aSFIfiuoXgEJ",
    "outputId": "5a78c136-8f7f-4151-9934-286007be101a"
   },
   "outputs": [],
   "source": [
    "px.box(df, 'Cause_of_Death', 'Region')\n",
    "#Esta grafica la corri satisfactoriamente en Google Colab, pero aca en Lab no la pude lograr despues de varios intentos#"
   ]
  },
  {
   "attachments": {
    "19ef78c2-ce2b-49c9-b6e0-9f3c10e241c0.png": {
     "image/png": "[encoded data removed]"
    }
   },
   "cell_type": "markdown",
   "metadata": {},
   "source": [
    "![image.png](attachment:19ef78c2-ce2b-49c9-b6e0-9f3c10e241c0.png)"
   ]
  },
  {
   "cell_type": "code",
   "execution_count": 23,
   "metadata": {
    "colab": {
     "base_uri": "https://localhost:8080/"
    },
    "id": "7_0vwwaLg3rn",
    "outputId": "884eb13f-386b-47c6-b8e6-bea2b005a8de"
   },
   "outputs": [
    {
     "data": {
      "text/plain": [
       "MainID                                  object\n",
       "IncidentID                              object\n",
       "Region                                  object\n",
       "IncidentDate                            object\n",
       "Year                                   float64\n",
       "ReportedMonth                           object\n",
       "NumberDead                             float64\n",
       "Minimum_Estimated_Number_of_Missing    float64\n",
       "Total_Number_of_Dead_and_Missing        object\n",
       "Number_of_Survivors                    float64\n",
       "Number_of_Females                      float64\n",
       "Number_of_Males                        float64\n",
       "Number_of_Children                     float64\n",
       "Cause_of_Death                          object\n",
       "Location_of_death                       object\n",
       "InformationSource                       object\n",
       "Coordinates                             object\n",
       "Migrantionroute                         object\n",
       "URL                                     object\n",
       "UNSD_Geographical_Grouping              object\n",
       "SourceQuality                          float64\n",
       "dtype: object"
      ]
     },
     "execution_count": 23,
     "metadata": {},
     "output_type": "execute_result"
    }
   ],
   "source": [
    "df.dtypes"
   ]
  },
  {
   "cell_type": "code",
   "execution_count": 31,
   "metadata": {
    "colab": {
     "base_uri": "https://localhost:8080/",
     "height": 294
    },
    "id": "jr2RVvzNHxs9",
    "outputId": "c05a09f5-ee99-4117-95fc-083f1d56976a"
   },
   "outputs": [
    {
     "data": {
      "image/png": "[encoded data removed]",
      "text/plain": [
       "<Figure size 432x288 with 1 Axes>"
      ]
     },
     "metadata": {
      "needs_background": "light"
     },
     "output_type": "display_data"
    }
   ],
   "source": [
    "sns.boxplot(data  = df, x  = 'Year', y = 'Region')\n",
    "plt.xticks(rotation = 45);"
   ]
  },
  {
   "cell_type": "code",
   "execution_count": 32,
   "metadata": {
    "colab": {
     "base_uri": "https://localhost:8080/"
    },
    "id": "jAi1tmMWHxqF",
    "outputId": "25355060-1ec1-4f0e-9188-b53a3491cc52"
   },
   "outputs": [
    {
     "data": {
      "text/plain": [
       "count                 9872\n",
       "unique                   7\n",
       "top       Mixed or unknown\n",
       "freq                  2791\n",
       "Name: Cause_of_Death, dtype: object"
      ]
     },
     "execution_count": 32,
     "metadata": {},
     "output_type": "execute_result"
    }
   ],
   "source": [
    "df['Cause_of_Death'].describe()"
   ]
  },
  {
   "cell_type": "code",
   "execution_count": 33,
   "metadata": {
    "colab": {
     "base_uri": "https://localhost:8080/"
    },
    "id": "t_BUW39-HxnB",
    "outputId": "504e4caf-f133-4d95-fe5c-c5dfa070e198"
   },
   "outputs": [
    {
     "data": {
      "text/plain": [
       "Index(['MainID', 'IncidentID', 'Region', 'IncidentDate', 'Year',\n",
       "       'ReportedMonth', 'NumberDead', 'Minimum_Estimated_Number_of_Missing',\n",
       "       'Total_Number_of_Dead_and_Missing', 'Number_of_Survivors',\n",
       "       'Number_of_Females', 'Number_of_Males', 'Number_of_Children',\n",
       "       'Cause_of_Death', 'Location_of_death', 'InformationSource',\n",
       "       'Coordinates', 'Migrantionroute', 'URL', 'UNSD_Geographical_Grouping',\n",
       "       'SourceQuality'],\n",
       "      dtype='object')"
      ]
     },
     "execution_count": 33,
     "metadata": {},
     "output_type": "execute_result"
    }
   ],
   "source": [
    "df.columns"
   ]
  },
  {
   "cell_type": "code",
   "execution_count": 34,
   "metadata": {
    "colab": {
     "base_uri": "https://localhost:8080/"
    },
    "id": "IzlMAhmqDaJ4",
    "outputId": "0c3fe66b-c5b5-4645-fae1-7d49e74d2316"
   },
   "outputs": [
    {
     "data": {
      "text/plain": [
       "0      2014-01-06 12:00:00\n",
       "1      2014-01-12 12:00:00\n",
       "2      2014-01-14 12:00:00\n",
       "3      2014-01-16 12:00:00\n",
       "4      2014-01-16 12:00:00\n",
       "               ...        \n",
       "9873                   NaT\n",
       "9874                   NaT\n",
       "9875                   NaT\n",
       "9876                   NaT\n",
       "9877                   NaT\n",
       "Name: IncidentDate, Length: 9878, dtype: datetime64[ns]"
      ]
     },
     "execution_count": 34,
     "metadata": {},
     "output_type": "execute_result"
    }
   ],
   "source": [
    "df['IncidentDate'].astype('datetime64[ns]')"
   ]
  },
  {
   "cell_type": "code",
   "execution_count": 35,
   "metadata": {
    "id": "2KBN6eyNDaGv"
   },
   "outputs": [],
   "source": [
    "df['IncidentDate'] = pd.to_datetime(df['IncidentDate'])   "
   ]
  },
  {
   "cell_type": "code",
   "execution_count": 36,
   "metadata": {
    "colab": {
     "base_uri": "https://localhost:8080/"
    },
    "id": "DAYi_fnEDaEE",
    "outputId": "46ca8e0b-8230-4ec7-f94f-019bfd301668"
   },
   "outputs": [
    {
     "name": "stdout",
     "output_type": "stream",
     "text": [
      "<class 'pandas.core.frame.DataFrame'>\n",
      "RangeIndex: 9878 entries, 0 to 9877\n",
      "Data columns (total 21 columns):\n",
      " #   Column                               Non-Null Count  Dtype         \n",
      "---  ------                               --------------  -----         \n",
      " 0   MainID                               9872 non-null   object        \n",
      " 1   IncidentID                           9872 non-null   object        \n",
      " 2   Region                               9872 non-null   object        \n",
      " 3   IncidentDate                         9857 non-null   datetime64[ns]\n",
      " 4   Year                                 9872 non-null   float64       \n",
      " 5   ReportedMonth                        9872 non-null   object        \n",
      " 6   NumberDead                           9366 non-null   float64       \n",
      " 7   Minimum_Estimated_Number_of_Missing  1015 non-null   float64       \n",
      " 8   Total_Number_of_Dead_and_Missing     9872 non-null   object        \n",
      " 9   Number_of_Survivors                  1461 non-null   float64       \n",
      " 10  Number_of_Females                    1882 non-null   float64       \n",
      " 11  Number_of_Males                      5797 non-null   float64       \n",
      " 12  Number_of_Children                   1229 non-null   float64       \n",
      " 13  Cause_of_Death                       9872 non-null   object        \n",
      " 14  Location_of_death                    9872 non-null   object        \n",
      " 15  InformationSource                    9850 non-null   object        \n",
      " 16  Coordinates                          9872 non-null   object        \n",
      " 17  Migrantionroute                      8623 non-null   object        \n",
      " 18  URL                                  7813 non-null   object        \n",
      " 19  UNSD_Geographical_Grouping           9871 non-null   object        \n",
      " 20  SourceQuality                        9831 non-null   float64       \n",
      "dtypes: datetime64[ns](1), float64(8), object(12)\n",
      "memory usage: 1.6+ MB\n"
     ]
    }
   ],
   "source": [
    "df.info()"
   ]
  },
  {
   "cell_type": "code",
   "execution_count": 37,
   "metadata": {
    "colab": {
     "base_uri": "https://localhost:8080/"
    },
    "id": "lrLD_j4PDaBH",
    "outputId": "f3059647-86ed-417b-a620-8aa8b302c94d"
   },
   "outputs": [
    {
     "data": {
      "text/plain": [
       "nan"
      ]
     },
     "execution_count": 37,
     "metadata": {},
     "output_type": "execute_result"
    }
   ],
   "source": [
    "np.nan"
   ]
  },
  {
   "cell_type": "code",
   "execution_count": 38,
   "metadata": {
    "colab": {
     "base_uri": "https://localhost:8080/"
    },
    "id": "oYQh69QGDZ-X",
    "outputId": "f12e2068-f801-4e0c-9a06-f90536b572bc"
   },
   "outputs": [
    {
     "data": {
      "text/plain": [
       "NaT"
      ]
     },
     "execution_count": 38,
     "metadata": {},
     "output_type": "execute_result"
    }
   ],
   "source": [
    "pd.to_datetime(np.nan)"
   ]
  },
  {
   "cell_type": "code",
   "execution_count": 39,
   "metadata": {
    "colab": {
     "base_uri": "https://localhost:8080/"
    },
    "id": "FwfgY1h6DZ7n",
    "outputId": "e5ae7875-03f3-4ced-84e3-a2075815a04c"
   },
   "outputs": [
    {
     "data": {
      "text/plain": [
       "Timestamp('2014-01-02 12:00:00')"
      ]
     },
     "execution_count": 39,
     "metadata": {},
     "output_type": "execute_result"
    }
   ],
   "source": [
    "df['IncidentDate'].min()"
   ]
  },
  {
   "cell_type": "code",
   "execution_count": 40,
   "metadata": {
    "colab": {
     "base_uri": "https://localhost:8080/"
    },
    "id": "eXr3XGZTDZ4X",
    "outputId": "a64c66aa-00e7-42b7-ac86-dec69c33d245"
   },
   "outputs": [
    {
     "data": {
      "text/plain": [
       "Timestamp('2021-12-22 12:00:00')"
      ]
     },
     "execution_count": 40,
     "metadata": {},
     "output_type": "execute_result"
    }
   ],
   "source": [
    "df['IncidentDate'].max()"
   ]
  },
  {
   "cell_type": "code",
   "execution_count": 41,
   "metadata": {
    "colab": {
     "base_uri": "https://localhost:8080/"
    },
    "id": "jJwqdbmUDZwR",
    "outputId": "b2b13bac-7c32-4a19-928f-0ef523fdc57f"
   },
   "outputs": [
    {
     "name": "stderr",
     "output_type": "stream",
     "text": [
      "<ipython-input-41-0baed831e7b9>:1: FutureWarning:\n",
      "\n",
      "Series.dt.weekofyear and Series.dt.week have been deprecated.  Please use Series.dt.isocalendar().week instead.\n",
      "\n"
     ]
    }
   ],
   "source": [
    "df['week'] = df['IncidentDate'].dt.week"
   ]
  },
  {
   "cell_type": "code",
   "execution_count": 42,
   "metadata": {
    "colab": {
     "base_uri": "https://localhost:8080/"
    },
    "id": "C3SLdPZiDZtQ",
    "outputId": "61fa3979-548a-4fdf-e2be-b6b7f4ad77b9"
   },
   "outputs": [
    {
     "data": {
      "text/plain": [
       "array([ 2.,  3.,  4.,  5.,  6.,  7.,  8.,  9., 10., 11., 12., 13., 14.,\n",
       "       15., 16., 17., 18., 19., 20., 21., 22., 23., 24., 25., 26., 27.,\n",
       "       28., 29., 30., 31., 32., 33., 34., 35., 36., 37., 38., 39., 40.,\n",
       "       41., 42., 43., 44., 45., 46., 47., 48., 49., 50., 51., 52.,  1.,\n",
       "       53., nan])"
      ]
     },
     "execution_count": 42,
     "metadata": {},
     "output_type": "execute_result"
    }
   ],
   "source": [
    "df.week.unique()"
   ]
  },
  {
   "cell_type": "code",
   "execution_count": 43,
   "metadata": {
    "colab": {
     "base_uri": "https://localhost:8080/"
    },
    "id": "BzoXQKxgqczb",
    "outputId": "edb995f8-0dc3-41bb-87cc-50f14b6363fc"
   },
   "outputs": [
    {
     "data": {
      "text/plain": [
       "Index(['MainID', 'IncidentID', 'Region', 'IncidentDate', 'Year',\n",
       "       'ReportedMonth', 'NumberDead', 'Minimum_Estimated_Number_of_Missing',\n",
       "       'Total_Number_of_Dead_and_Missing', 'Number_of_Survivors',\n",
       "       'Number_of_Females', 'Number_of_Males', 'Number_of_Children',\n",
       "       'Cause_of_Death', 'Location_of_death', 'InformationSource',\n",
       "       'Coordinates', 'Migrantionroute', 'URL', 'UNSD_Geographical_Grouping',\n",
       "       'SourceQuality', 'week'],\n",
       "      dtype='object')"
      ]
     },
     "execution_count": 43,
     "metadata": {},
     "output_type": "execute_result"
    }
   ],
   "source": [
    "df.columns"
   ]
  },
  {
   "cell_type": "code",
   "execution_count": 44,
   "metadata": {
    "colab": {
     "base_uri": "https://localhost:8080/"
    },
    "id": "sM-tX8c3qtXz",
    "outputId": "1260374c-7b56-42b3-d9f1-c6cb745e4aa6"
   },
   "outputs": [
    {
     "data": {
      "text/plain": [
       "array(['2014-01-06T12:00:00.000000000', '2014-01-12T12:00:00.000000000',\n",
       "       '2015-01-09T12:00:00.000000000', '2015-01-07T12:00:00.000000000',\n",
       "       '2015-01-08T12:00:00.000000000', '2015-01-10T12:00:00.000000000',\n",
       "       '2015-01-11T12:00:00.000000000', '2016-01-11T12:00:00.000000000',\n",
       "       '2016-01-12T12:00:00.000000000', '2016-01-13T12:00:00.000000000',\n",
       "       '2016-01-14T12:00:00.000000000', '2016-01-15T12:00:00.000000000',\n",
       "       '2016-01-16T12:00:00.000000000', '2016-01-17T12:00:00.000000000',\n",
       "       '2017-01-09T12:00:00.000000000', '2017-01-10T12:00:00.000000000',\n",
       "       '2017-01-11T12:00:00.000000000', '2017-01-12T12:00:00.000000000',\n",
       "       '2017-01-13T12:00:00.000000000', '2017-01-14T12:00:00.000000000',\n",
       "       '2017-01-15T12:00:00.000000000', '2018-01-08T12:00:00.000000000',\n",
       "       '2018-01-09T12:00:00.000000000', '2018-01-10T12:00:00.000000000',\n",
       "       '2018-01-11T12:00:00.000000000', '2018-01-12T12:00:00.000000000',\n",
       "       '2018-01-13T12:00:00.000000000', '2018-01-14T12:00:00.000000000',\n",
       "       '2019-01-07T12:00:00.000000000', '2019-01-08T12:00:00.000000000',\n",
       "       '2019-01-09T12:00:00.000000000', '2019-01-10T12:00:00.000000000',\n",
       "       '2019-01-11T12:00:00.000000000', '2019-01-12T12:00:00.000000000',\n",
       "       '2019-01-13T12:00:00.000000000', '2020-01-06T12:00:00.000000000',\n",
       "       '2020-01-07T12:00:00.000000000', '2020-01-08T12:00:00.000000000',\n",
       "       '2020-01-09T12:00:00.000000000', '2020-01-10T12:00:00.000000000',\n",
       "       '2020-01-11T12:00:00.000000000', '2020-01-12T12:00:00.000000000',\n",
       "       '2021-01-11T12:00:00.000000000', '2021-01-12T12:00:00.000000000',\n",
       "       '2021-01-14T12:00:00.000000000', '2021-01-16T12:00:00.000000000',\n",
       "       '2021-01-13T12:00:00.000000000', '2021-01-15T12:00:00.000000000'],\n",
       "      dtype='datetime64[ns]')"
      ]
     },
     "execution_count": 44,
     "metadata": {},
     "output_type": "execute_result"
    }
   ],
   "source": [
    "df[df.week == 2].IncidentDate.unique()"
   ]
  },
  {
   "cell_type": "code",
   "execution_count": 45,
   "metadata": {
    "id": "Rn3sHK299XcS"
   },
   "outputs": [],
   "source": [
    "df_semanal = df.groupby('week', as_index=False)[['NumberDead', 'Number_of_Females', 'Number_of_Males', 'Number_of_Children' ]].sum()"
   ]
  },
  {
   "cell_type": "code",
   "execution_count": 46,
   "metadata": {
    "colab": {
     "base_uri": "https://localhost:8080/",
     "height": 206
    },
    "id": "6_VTvC8UHVSB",
    "outputId": "c8f905a8-148a-4441-e98b-f63a714487e1"
   },
   "outputs": [
    {
     "data": {
      "text/html": [
       "<div>\n",
       "<style scoped>\n",
       "    .dataframe tbody tr th:only-of-type {\n",
       "        vertical-align: middle;\n",
       "    }\n",
       "\n",
       "    .dataframe tbody tr th {\n",
       "        vertical-align: top;\n",
       "    }\n",
       "\n",
       "    .dataframe thead th {\n",
       "        text-align: right;\n",
       "    }\n",
       "</style>\n",
       "<table border=\"1\" class=\"dataframe\">\n",
       "  <thead>\n",
       "    <tr style=\"text-align: right;\">\n",
       "      <th></th>\n",
       "      <th>week</th>\n",
       "      <th>NumberDead</th>\n",
       "      <th>Number_of_Females</th>\n",
       "      <th>Number_of_Males</th>\n",
       "      <th>Number_of_Children</th>\n",
       "    </tr>\n",
       "  </thead>\n",
       "  <tbody>\n",
       "    <tr>\n",
       "      <th>0</th>\n",
       "      <td>1.0</td>\n",
       "      <td>295.0</td>\n",
       "      <td>32.0</td>\n",
       "      <td>90.0</td>\n",
       "      <td>271.0</td>\n",
       "    </tr>\n",
       "    <tr>\n",
       "      <th>1</th>\n",
       "      <td>2.0</td>\n",
       "      <td>269.0</td>\n",
       "      <td>50.0</td>\n",
       "      <td>132.0</td>\n",
       "      <td>35.0</td>\n",
       "    </tr>\n",
       "    <tr>\n",
       "      <th>2</th>\n",
       "      <td>3.0</td>\n",
       "      <td>633.0</td>\n",
       "      <td>109.0</td>\n",
       "      <td>200.0</td>\n",
       "      <td>52.0</td>\n",
       "    </tr>\n",
       "    <tr>\n",
       "      <th>3</th>\n",
       "      <td>4.0</td>\n",
       "      <td>442.0</td>\n",
       "      <td>73.0</td>\n",
       "      <td>188.0</td>\n",
       "      <td>53.0</td>\n",
       "    </tr>\n",
       "    <tr>\n",
       "      <th>4</th>\n",
       "      <td>5.0</td>\n",
       "      <td>425.0</td>\n",
       "      <td>22.0</td>\n",
       "      <td>168.0</td>\n",
       "      <td>33.0</td>\n",
       "    </tr>\n",
       "  </tbody>\n",
       "</table>\n",
       "</div>"
      ],
      "text/plain": [
       "   week  NumberDead  Number_of_Females  Number_of_Males  Number_of_Children\n",
       "0   1.0       295.0               32.0             90.0               271.0\n",
       "1   2.0       269.0               50.0            132.0                35.0\n",
       "2   3.0       633.0              109.0            200.0                52.0\n",
       "3   4.0       442.0               73.0            188.0                53.0\n",
       "4   5.0       425.0               22.0            168.0                33.0"
      ]
     },
     "execution_count": 46,
     "metadata": {},
     "output_type": "execute_result"
    }
   ],
   "source": [
    "df_semanal.head(5)"
   ]
  },
  {
   "cell_type": "code",
   "execution_count": 47,
   "metadata": {
    "colab": {
     "base_uri": "https://localhost:8080/",
     "height": 282
    },
    "id": "n8VcIhcsH3Af",
    "outputId": "7fa07200-cd28-4e99-8a74-659370ef4d14"
   },
   "outputs": [
    {
     "data": {
      "text/plain": [
       "<matplotlib.collections.PathCollection at 0x2085d7c8850>"
      ]
     },
     "execution_count": 47,
     "metadata": {},
     "output_type": "execute_result"
    },
    {
     "data": {
      "image/png": "[encoded data removed]",
      "text/plain": [
       "<Figure size 432x288 with 1 Axes>"
      ]
     },
     "metadata": {
      "needs_background": "light"
     },
     "output_type": "display_data"
    }
   ],
   "source": [
    "plt.scatter(df_semanal.week, df_semanal.NumberDead)"
   ]
  },
  {
   "cell_type": "code",
   "execution_count": 48,
   "metadata": {
    "colab": {
     "base_uri": "https://localhost:8080/",
     "height": 282
    },
    "id": "-BhaIaWdJ4ym",
    "outputId": "67c95d55-ec48-43cf-db6b-9badd77e533d"
   },
   "outputs": [
    {
     "data": {
      "text/plain": [
       "<matplotlib.collections.PathCollection at 0x2085d818a00>"
      ]
     },
     "execution_count": 48,
     "metadata": {},
     "output_type": "execute_result"
    },
    {
     "data": {
      "image/png": "[encoded data removed]",
      "text/plain": [
       "<Figure size 432x288 with 1 Axes>"
      ]
     },
     "metadata": {
      "needs_background": "light"
     },
     "output_type": "display_data"
    }
   ],
   "source": [
    "plt.scatter(df_semanal.week, df_semanal.Number_of_Females)"
   ]
  },
  {
   "cell_type": "code",
   "execution_count": 49,
   "metadata": {
    "colab": {
     "base_uri": "https://localhost:8080/",
     "height": 282
    },
    "id": "V4srsJusKAgf",
    "outputId": "72e8f9c4-e9eb-4c79-bc0c-2e579fe8ce76"
   },
   "outputs": [
    {
     "data": {
      "text/plain": [
       "<matplotlib.collections.PathCollection at 0x2085db13640>"
      ]
     },
     "execution_count": 49,
     "metadata": {},
     "output_type": "execute_result"
    },
    {
     "data": {
      "image/png": "[encoded data removed]",
      "text/plain": [
       "<Figure size 432x288 with 1 Axes>"
      ]
     },
     "metadata": {
      "needs_background": "light"
     },
     "output_type": "display_data"
    }
   ],
   "source": [
    "plt.scatter(df_semanal.week, df_semanal.Number_of_Males)"
   ]
  },
  {
   "cell_type": "code",
   "execution_count": 50,
   "metadata": {
    "colab": {
     "base_uri": "https://localhost:8080/",
     "height": 282
    },
    "id": "1TTJQvW9KGHP",
    "outputId": "a280f685-4595-4c3f-a9f8-51344514319f"
   },
   "outputs": [
    {
     "data": {
      "text/plain": [
       "<matplotlib.collections.PathCollection at 0x2085d7947f0>"
      ]
     },
     "execution_count": 50,
     "metadata": {},
     "output_type": "execute_result"
    },
    {
     "data": {
      "image/png": "[encoded data removed]",
      "text/plain": [
       "<Figure size 432x288 with 1 Axes>"
      ]
     },
     "metadata": {
      "needs_background": "light"
     },
     "output_type": "display_data"
    }
   ],
   "source": [
    "plt.scatter(df_semanal.week, df_semanal.Number_of_Children)"
   ]
  },
  {
   "cell_type": "code",
   "execution_count": 51,
   "metadata": {
    "id": "iTsHaKxwKOpv"
   },
   "outputs": [],
   "source": [
    "df['DOW']=df.IncidentDate.dt.day_of_week"
   ]
  },
  {
   "cell_type": "code",
   "execution_count": 52,
   "metadata": {
    "colab": {
     "base_uri": "https://localhost:8080/"
    },
    "id": "iuLRgfnzp1VW",
    "outputId": "87e4e330-9d33-4492-9fa0-69ed4d90c9b4"
   },
   "outputs": [
    {
     "data": {
      "text/plain": [
       "2.0    1507\n",
       "1.0    1456\n",
       "0.0    1447\n",
       "3.0    1415\n",
       "6.0    1412\n",
       "5.0    1331\n",
       "4.0    1289\n",
       "Name: DOW, dtype: int64"
      ]
     },
     "execution_count": 52,
     "metadata": {},
     "output_type": "execute_result"
    }
   ],
   "source": [
    "df.DOW.value_counts()"
   ]
  },
  {
   "cell_type": "code",
   "execution_count": 53,
   "metadata": {
    "id": "IADH3RJKp-9V"
   },
   "outputs": [],
   "source": [
    "df_daily_total = df.groupby('DOW', as_index=False)[['NumberDead', 'Number_of_Survivors']].sum()"
   ]
  },
  {
   "cell_type": "code",
   "execution_count": 54,
   "metadata": {
    "colab": {
     "base_uri": "https://localhost:8080/",
     "height": 282
    },
    "id": "KNXXqk96qEF7",
    "outputId": "3b51f095-3543-4fbc-935a-f3019a78ab1a"
   },
   "outputs": [
    {
     "data": {
      "text/plain": [
       "<matplotlib.collections.PathCollection at 0x2085d703250>"
      ]
     },
     "execution_count": 54,
     "metadata": {},
     "output_type": "execute_result"
    },
    {
     "data": {
      "image/png": "[encoded data removed]",
      "text/plain": [
       "<Figure size 432x288 with 1 Axes>"
      ]
     },
     "metadata": {
      "needs_background": "light"
     },
     "output_type": "display_data"
    }
   ],
   "source": [
    "plt.scatter(df_daily_total.DOW, df_daily_total.NumberDead)"
   ]
  },
  {
   "cell_type": "code",
   "execution_count": 55,
   "metadata": {
    "colab": {
     "base_uri": "https://localhost:8080/",
     "height": 282
    },
    "id": "hL6mEsihqEDZ",
    "outputId": "c6426914-6e7e-4f40-e5db-228c6e0bcb9b"
   },
   "outputs": [
    {
     "data": {
      "text/plain": [
       "<matplotlib.collections.PathCollection at 0x2085d8ce460>"
      ]
     },
     "execution_count": 55,
     "metadata": {},
     "output_type": "execute_result"
    },
    {
     "data": {
      "image/png": "[encoded data removed]",
      "text/plain": [
       "<Figure size 432x288 with 1 Axes>"
      ]
     },
     "metadata": {
      "needs_background": "light"
     },
     "output_type": "display_data"
    }
   ],
   "source": [
    "plt.scatter(df_daily_total.DOW, df_daily_total.Number_of_Survivors)"
   ]
  },
  {
   "cell_type": "code",
   "execution_count": 56,
   "metadata": {
    "id": "FW8SyhFVqEBF"
   },
   "outputs": [],
   "source": [
    "df_daily_mean = df.groupby('DOW', as_index=False)[['NumberDead', 'Number_of_Survivors']].mean()"
   ]
  },
  {
   "cell_type": "code",
   "execution_count": 57,
   "metadata": {
    "colab": {
     "base_uri": "https://localhost:8080/",
     "height": 282
    },
    "id": "DTk02ugdqD-E",
    "outputId": "e4f07f7d-4f8c-4a5d-84af-067ae0b334a5"
   },
   "outputs": [
    {
     "data": {
      "text/plain": [
       "<matplotlib.collections.PathCollection at 0x2085d927ee0>"
      ]
     },
     "execution_count": 57,
     "metadata": {},
     "output_type": "execute_result"
    },
    {
     "data": {
      "image/png": "[encoded data removed]",
      "text/plain": [
       "<Figure size 432x288 with 1 Axes>"
      ]
     },
     "metadata": {
      "needs_background": "light"
     },
     "output_type": "display_data"
    }
   ],
   "source": [
    "plt.scatter(df_daily_mean.DOW, df_daily_mean.NumberDead)"
   ]
  },
  {
   "cell_type": "code",
   "execution_count": 58,
   "metadata": {
    "colab": {
     "base_uri": "https://localhost:8080/",
     "height": 282
    },
    "id": "ZVfVpOQBqD7y",
    "outputId": "4e708c8b-908e-4e69-b404-8c906832bba0"
   },
   "outputs": [
    {
     "data": {
      "text/plain": [
       "<matplotlib.collections.PathCollection at 0x2085d9846a0>"
      ]
     },
     "execution_count": 58,
     "metadata": {},
     "output_type": "execute_result"
    },
    {
     "data": {
      "image/png": "[encoded data removed]",
      "text/plain": [
       "<Figure size 432x288 with 1 Axes>"
      ]
     },
     "metadata": {
      "needs_background": "light"
     },
     "output_type": "display_data"
    }
   ],
   "source": [
    "plt.scatter(df_daily_mean.DOW, df_daily_mean.Number_of_Survivors)"
   ]
  },
  {
   "cell_type": "code",
   "execution_count": 59,
   "metadata": {
    "id": "fzDitvHiqD5P"
   },
   "outputs": [],
   "source": [
    "from ipywidgets import interact, interactive, fixed, interact_manual\n",
    "import ipywidgets as widgets\n"
   ]
  },
  {
   "cell_type": "code",
   "execution_count": 60,
   "metadata": {
    "colab": {
     "base_uri": "https://localhost:8080/",
     "height": 496
    },
    "id": "Xb-eNX4cqD2h",
    "outputId": "a9aa678a-64ea-4a4e-8be0-d792e732db0f"
   },
   "outputs": [
    {
     "data": {
      "image/png": "[encoded data removed]",
      "text/plain": [
       "<Figure size 1080x540 with 1 Axes>"
      ]
     },
     "metadata": {
      "needs_background": "light"
     },
     "output_type": "display_data"
    }
   ],
   "source": [
    "plt.figure(figsize = (15, 7.5))\n",
    "plt.plot(df_semanal.week, df_semanal.NumberDead, marker = 'X', markersize = 12,\n",
    "         linestyle = '-.')\n",
    "plt.title('Muertes de migrantes por semana', fontsize = 20, color = '#21423c')\n",
    "#plt.ylim([100, 130])\n",
    "plt.xlabel('Semana', fontsize = 15)\n",
    "plt.ylabel('Numero de Muertes', fontsize = 15)\n",
    "plt.xticks(range(1, 52))\n",
    "plt.show()"
   ]
  },
  {
   "cell_type": "code",
   "execution_count": 61,
   "metadata": {
    "colab": {
     "base_uri": "https://localhost:8080/",
     "height": 496
    },
    "id": "TJf7jkTTqD0E",
    "outputId": "9b663670-5b71-4f87-efdd-8baf1ada844d"
   },
   "outputs": [
    {
     "data": {
      "image/png": "[encoded data removed]",
      "text/plain": [
       "<Figure size 1080x540 with 1 Axes>"
      ]
     },
     "metadata": {
      "needs_background": "light"
     },
     "output_type": "display_data"
    }
   ],
   "source": [
    "plt.figure(figsize = (15, 7.5))\n",
    "plt.plot(df_semanal.week, df_semanal.NumberDead, marker = 'X', markersize = 12,\n",
    "         linestyle = '-.', label = 'Numero Muertes')\n",
    "plt.plot(df_semanal.week, df_semanal.Number_of_Females , marker = '*', markersize = 9, c = 'magenta',\n",
    "         linestyle = '--', label = 'Muertes Mujeres')\n",
    "plt.title('Proporcion Muertes Femeninas contra total de Muertes en el mundo', fontsize = 20, color = '#21423c')\n",
    "#plt.ylim([100, 130])\n",
    "plt.xlabel('Semana', fontsize = 15)\n",
    "plt.ylabel('Numero Muertes', fontsize = 15)\n",
    "plt.xticks(range(1, 52))\n",
    "plt.legend(loc = 'upper left')\n",
    "plt.show()"
   ]
  },
  {
   "cell_type": "code",
   "execution_count": null,
   "metadata": {
    "id": "MIScWjGxqDxf"
   },
   "outputs": [],
   "source": []
  },
  {
   "cell_type": "code",
   "execution_count": null,
   "metadata": {
    "id": "n3W0E2_gqDu5"
   },
   "outputs": [],
   "source": []
  },
  {
   "cell_type": "code",
   "execution_count": null,
   "metadata": {
    "id": "1DXoe5ZXqDsQ"
   },
   "outputs": [],
   "source": []
  },
  {
   "cell_type": "code",
   "execution_count": null,
   "metadata": {
    "id": "97Bef9PgqDpg"
   },
   "outputs": [],
   "source": []
  }
 ],
 "metadata": {
  "colab": {
   "collapsed_sections": [],
   "name": "DataVisualizationProject.ipynb",
   "provenance": []
  },
  "kernelspec": {
   "display_name": "Python 3",
   "language": "python",
   "name": "python3"
  },
  "language_info": {
   "codemirror_mode": {
    "name": "ipython",
    "version": 3
   },
   "file_extension": ".py",
   "mimetype": "text/x-python",
   "name": "python",
   "nbconvert_exporter": "python",
   "pygments_lexer": "ipython3",
   "version": "3.8.8"
  }
 },
 "nbformat": 4,
 "nbformat_minor": 4
}
