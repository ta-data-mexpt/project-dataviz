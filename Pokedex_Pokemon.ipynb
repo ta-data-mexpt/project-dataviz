{
 "cells": [
  {
   "cell_type": "code",
   "execution_count": 1,
   "id": "25794c58",
   "metadata": {},
   "outputs": [],
   "source": [
    "#Importamos las librerias que nos van a ayudar en este proceso\n",
    "\n",
    "import requests\n",
    "from bs4 import BeautifulSoup\n",
    "import pandas as pd\n",
    "from pprint import pprint\n",
    "from lxml import html\n",
    "from lxml.html import fromstring\n",
    "import urllib.request\n",
    "from urllib.request import urlopen\n",
    "import random\n",
    "import re\n",
    "import lxml.html as lh\n",
    "\n"
   ]
  },
  {
   "cell_type": "code",
   "execution_count": 2,
   "id": "5fb5ec3c",
   "metadata": {},
   "outputs": [],
   "source": [
    "#Primero vamos a poner la url de la cual queremos sacar nuestro Pokédex\n",
    "\n",
    "url='http://pokemondb.net/pokedex/all'"
   ]
  },
  {
   "cell_type": "code",
   "execution_count": 3,
   "id": "6c906f3a",
   "metadata": {},
   "outputs": [],
   "source": [
    "#Con esto tendremos en esta variable todas los contenidos de la página\n",
    "pag_pokemon = requests.get(url)\n"
   ]
  },
  {
   "cell_type": "code",
   "execution_count": 4,
   "id": "65f60d40",
   "metadata": {},
   "outputs": [],
   "source": [
    "#Guardaremos la info\n",
    "base_a = lh.fromstring(pag_pokemon.content)\n"
   ]
  },
  {
   "cell_type": "code",
   "execution_count": 5,
   "id": "50cd3a12",
   "metadata": {},
   "outputs": [
    {
     "data": {
      "text/plain": [
       "[10, 10, 10, 10, 10]"
      ]
     },
     "execution_count": 5,
     "metadata": {},
     "output_type": "execute_result"
    }
   ],
   "source": [
    "#Hacemos la info entendible por medio de hacer un parseo\n",
    "tr_elementos = base_a.xpath('//tr')\n",
    "\n",
    "#Checamos la longitud de la tabla para los primeros 5 elementos\n",
    "[len(T) for T in tr_elementos[:5]]"
   ]
  },
  {
   "cell_type": "code",
   "execution_count": 6,
   "id": "eeb2c865",
   "metadata": {},
   "outputs": [
    {
     "name": "stdout",
     "output_type": "stream",
     "text": [
      "1 #\n",
      "2 Name\n",
      "3 Type\n",
      "4 Total\n",
      "5 HP\n",
      "6 Attack\n",
      "7 Defense\n",
      "8 Sp. Atk\n",
      "9 Sp. Def\n",
      "10 Speed\n"
     ]
    }
   ],
   "source": [
    "tr_elementos = base_a.xpath('//tr')\n",
    "\n",
    "#Creamos una lista vacia para poder traer la info\n",
    "columna=[]\n",
    "i=0\n",
    "\n",
    "#Vamos a guardar los encabezados de cada columna\n",
    "for t in tr_elementos[0]:\n",
    "    i+=1\n",
    "    nombre=t.text_content()\n",
    "    print (i,nombre)\n",
    "    columna.append((nombre,[]))"
   ]
  },
  {
   "cell_type": "code",
   "execution_count": 7,
   "id": "d723e52e",
   "metadata": {},
   "outputs": [],
   "source": [
    "#Toda la información tiene que guardarse en el segundo valor de la tabla ya que el primero son los encabezados\n",
    "for j in range(1,len(tr_elementos)):\n",
    "    T=tr_elementos[j]\n",
    "    \n",
    "    #Hay que delimitar que solo llegue al 10 porque si no esta no es información de nuestra tabal\n",
    "    if len(T)!=10:\n",
    "        break\n",
    "    \n",
    "    i=0\n",
    "    \n",
    "    for t in T.iterchildren():\n",
    "        data=t.text_content() \n",
    "       \n",
    "        if i>0:\n",
    "        \n",
    "            try:\n",
    "                data=int(data)\n",
    "            except:\n",
    "                pass\n",
    "        \n",
    "        columna[i][1].append(data)\n",
    "        \n",
    "        i+=1"
   ]
  },
  {
   "cell_type": "code",
   "execution_count": 8,
   "id": "660547db",
   "metadata": {},
   "outputs": [
    {
     "data": {
      "text/plain": [
       "[1045, 1045, 1045, 1045, 1045, 1045, 1045, 1045, 1045, 1045]"
      ]
     },
     "execution_count": 8,
     "metadata": {},
     "output_type": "execute_result"
    }
   ],
   "source": [
    "#La tabla tiene más registros porque contiene todas las variantes y megaevoluciones de todos los Pokémon\n",
    "[len(C) for (title,C) in columna]"
   ]
  },
  {
   "cell_type": "code",
   "execution_count": 9,
   "id": "3754ae3a",
   "metadata": {},
   "outputs": [],
   "source": [
    "Dict={title:column for (title,column) in columna}\n",
    "df=pd.DataFrame(Dict)"
   ]
  },
  {
   "cell_type": "code",
   "execution_count": 10,
   "id": "47c85cf2",
   "metadata": {},
   "outputs": [
    {
     "data": {
      "text/html": [
       "<div>\n",
       "<style scoped>\n",
       "    .dataframe tbody tr th:only-of-type {\n",
       "        vertical-align: middle;\n",
       "    }\n",
       "\n",
       "    .dataframe tbody tr th {\n",
       "        vertical-align: top;\n",
       "    }\n",
       "\n",
       "    .dataframe thead th {\n",
       "        text-align: right;\n",
       "    }\n",
       "</style>\n",
       "<table border=\"1\" class=\"dataframe\">\n",
       "  <thead>\n",
       "    <tr style=\"text-align: right;\">\n",
       "      <th></th>\n",
       "      <th>#</th>\n",
       "      <th>Name</th>\n",
       "      <th>Type</th>\n",
       "      <th>Total</th>\n",
       "      <th>HP</th>\n",
       "      <th>Attack</th>\n",
       "      <th>Defense</th>\n",
       "      <th>Sp. Atk</th>\n",
       "      <th>Sp. Def</th>\n",
       "      <th>Speed</th>\n",
       "    </tr>\n",
       "  </thead>\n",
       "  <tbody>\n",
       "    <tr>\n",
       "      <th>0</th>\n",
       "      <td>001</td>\n",
       "      <td>Bulbasaur</td>\n",
       "      <td>Grass Poison</td>\n",
       "      <td>318</td>\n",
       "      <td>45</td>\n",
       "      <td>49</td>\n",
       "      <td>49</td>\n",
       "      <td>65</td>\n",
       "      <td>65</td>\n",
       "      <td>45</td>\n",
       "    </tr>\n",
       "    <tr>\n",
       "      <th>1</th>\n",
       "      <td>002</td>\n",
       "      <td>Ivysaur</td>\n",
       "      <td>Grass Poison</td>\n",
       "      <td>405</td>\n",
       "      <td>60</td>\n",
       "      <td>62</td>\n",
       "      <td>63</td>\n",
       "      <td>80</td>\n",
       "      <td>80</td>\n",
       "      <td>60</td>\n",
       "    </tr>\n",
       "    <tr>\n",
       "      <th>2</th>\n",
       "      <td>003</td>\n",
       "      <td>Venusaur</td>\n",
       "      <td>Grass Poison</td>\n",
       "      <td>525</td>\n",
       "      <td>80</td>\n",
       "      <td>82</td>\n",
       "      <td>83</td>\n",
       "      <td>100</td>\n",
       "      <td>100</td>\n",
       "      <td>80</td>\n",
       "    </tr>\n",
       "    <tr>\n",
       "      <th>3</th>\n",
       "      <td>003</td>\n",
       "      <td>Venusaur Mega Venusaur</td>\n",
       "      <td>Grass Poison</td>\n",
       "      <td>625</td>\n",
       "      <td>80</td>\n",
       "      <td>100</td>\n",
       "      <td>123</td>\n",
       "      <td>122</td>\n",
       "      <td>120</td>\n",
       "      <td>80</td>\n",
       "    </tr>\n",
       "    <tr>\n",
       "      <th>4</th>\n",
       "      <td>004</td>\n",
       "      <td>Charmander</td>\n",
       "      <td>Fire</td>\n",
       "      <td>309</td>\n",
       "      <td>39</td>\n",
       "      <td>52</td>\n",
       "      <td>43</td>\n",
       "      <td>60</td>\n",
       "      <td>50</td>\n",
       "      <td>65</td>\n",
       "    </tr>\n",
       "  </tbody>\n",
       "</table>\n",
       "</div>"
      ],
      "text/plain": [
       "     #                    Name          Type  Total  HP  Attack  Defense  \\\n",
       "0  001               Bulbasaur  Grass Poison    318  45      49       49   \n",
       "1  002                 Ivysaur  Grass Poison    405  60      62       63   \n",
       "2  003                Venusaur  Grass Poison    525  80      82       83   \n",
       "3  003  Venusaur Mega Venusaur  Grass Poison    625  80     100      123   \n",
       "4  004              Charmander         Fire     309  39      52       43   \n",
       "\n",
       "   Sp. Atk  Sp. Def  Speed  \n",
       "0       65       65     45  \n",
       "1       80       80     60  \n",
       "2      100      100     80  \n",
       "3      122      120     80  \n",
       "4       60       50     65  "
      ]
     },
     "execution_count": 10,
     "metadata": {},
     "output_type": "execute_result"
    }
   ],
   "source": [
    "df.head()"
   ]
  },
  {
   "cell_type": "code",
   "execution_count": 11,
   "id": "4da79efa",
   "metadata": {},
   "outputs": [],
   "source": [
    "#Ahora vamos a hacer la limpieza, en las columnas de nombre donde aparecen las mega evoluciones \n",
    "# o diferentes Pokémon así como la columna de tipo que contiene los 2 tipos en algunos casos\n",
    "\n",
    "def parentesis(elemento):\n",
    "    list = [x for x in elemento]\n",
    "    for m in range(1, len(list)):\n",
    "        if list[m].isupper():\n",
    "            list[m] = list[m]\n",
    "    lista_final = ''.join(list).split(' ')\n",
    "    largo = len(lista_final)\n",
    "    if largo>1:\n",
    "        lista_final.insert(1,'(')\n",
    "        lista_final.append(')')\n",
    "    return ' '.join(lista_final)\n"
   ]
  },
  {
   "cell_type": "code",
   "execution_count": 12,
   "id": "81248c31",
   "metadata": {},
   "outputs": [
    {
     "data": {
      "text/html": [
       "<div>\n",
       "<style scoped>\n",
       "    .dataframe tbody tr th:only-of-type {\n",
       "        vertical-align: middle;\n",
       "    }\n",
       "\n",
       "    .dataframe tbody tr th {\n",
       "        vertical-align: top;\n",
       "    }\n",
       "\n",
       "    .dataframe thead th {\n",
       "        text-align: right;\n",
       "    }\n",
       "</style>\n",
       "<table border=\"1\" class=\"dataframe\">\n",
       "  <thead>\n",
       "    <tr style=\"text-align: right;\">\n",
       "      <th></th>\n",
       "      <th>#</th>\n",
       "      <th>Name</th>\n",
       "      <th>Type</th>\n",
       "      <th>Total</th>\n",
       "      <th>HP</th>\n",
       "      <th>Attack</th>\n",
       "      <th>Defense</th>\n",
       "      <th>Sp. Atk</th>\n",
       "      <th>Sp. Def</th>\n",
       "      <th>Speed</th>\n",
       "      <th>Type_1</th>\n",
       "      <th>Type_2</th>\n",
       "    </tr>\n",
       "  </thead>\n",
       "  <tbody>\n",
       "    <tr>\n",
       "      <th>0</th>\n",
       "      <td>001</td>\n",
       "      <td>Bulbasaur</td>\n",
       "      <td>Grass Poison</td>\n",
       "      <td>318</td>\n",
       "      <td>45</td>\n",
       "      <td>49</td>\n",
       "      <td>49</td>\n",
       "      <td>65</td>\n",
       "      <td>65</td>\n",
       "      <td>45</td>\n",
       "      <td>Grass</td>\n",
       "      <td>Poison</td>\n",
       "    </tr>\n",
       "    <tr>\n",
       "      <th>1</th>\n",
       "      <td>002</td>\n",
       "      <td>Ivysaur</td>\n",
       "      <td>Grass Poison</td>\n",
       "      <td>405</td>\n",
       "      <td>60</td>\n",
       "      <td>62</td>\n",
       "      <td>63</td>\n",
       "      <td>80</td>\n",
       "      <td>80</td>\n",
       "      <td>60</td>\n",
       "      <td>Grass</td>\n",
       "      <td>Poison</td>\n",
       "    </tr>\n",
       "    <tr>\n",
       "      <th>2</th>\n",
       "      <td>003</td>\n",
       "      <td>Venusaur</td>\n",
       "      <td>Grass Poison</td>\n",
       "      <td>525</td>\n",
       "      <td>80</td>\n",
       "      <td>82</td>\n",
       "      <td>83</td>\n",
       "      <td>100</td>\n",
       "      <td>100</td>\n",
       "      <td>80</td>\n",
       "      <td>Grass</td>\n",
       "      <td>Poison</td>\n",
       "    </tr>\n",
       "    <tr>\n",
       "      <th>3</th>\n",
       "      <td>003</td>\n",
       "      <td>Venusaur ( Mega Venusaur )</td>\n",
       "      <td>Grass Poison</td>\n",
       "      <td>625</td>\n",
       "      <td>80</td>\n",
       "      <td>100</td>\n",
       "      <td>123</td>\n",
       "      <td>122</td>\n",
       "      <td>120</td>\n",
       "      <td>80</td>\n",
       "      <td>Grass</td>\n",
       "      <td>Poison</td>\n",
       "    </tr>\n",
       "    <tr>\n",
       "      <th>4</th>\n",
       "      <td>004</td>\n",
       "      <td>Charmander</td>\n",
       "      <td>Fire</td>\n",
       "      <td>309</td>\n",
       "      <td>39</td>\n",
       "      <td>52</td>\n",
       "      <td>43</td>\n",
       "      <td>60</td>\n",
       "      <td>50</td>\n",
       "      <td>65</td>\n",
       "      <td>Fire</td>\n",
       "      <td>None</td>\n",
       "    </tr>\n",
       "  </tbody>\n",
       "</table>\n",
       "</div>"
      ],
      "text/plain": [
       "     #                        Name          Type  Total  HP  Attack  Defense  \\\n",
       "0  001                   Bulbasaur  Grass Poison    318  45      49       49   \n",
       "1  002                     Ivysaur  Grass Poison    405  60      62       63   \n",
       "2  003                    Venusaur  Grass Poison    525  80      82       83   \n",
       "3  003  Venusaur ( Mega Venusaur )  Grass Poison    625  80     100      123   \n",
       "4  004                  Charmander         Fire     309  39      52       43   \n",
       "\n",
       "   Sp. Atk  Sp. Def  Speed Type_1  Type_2  \n",
       "0       65       65     45  Grass  Poison  \n",
       "1       80       80     60  Grass  Poison  \n",
       "2      100      100     80  Grass  Poison  \n",
       "3      122      120     80  Grass  Poison  \n",
       "4       60       50     65   Fire    None  "
      ]
     },
     "execution_count": 12,
     "metadata": {},
     "output_type": "execute_result"
    }
   ],
   "source": [
    "#Ahora va para los cambios en el df\n",
    "\n",
    "df['Name']=df['Name'].apply(parentesis)\n",
    "Type = df[\"Type\"].str.split(expand=True)\n",
    "Type.columns = ['Type_1', 'Type_2']\n",
    "#df.head()\n",
    "\n",
    "df = pd.concat([df, Type], axis=1)\n",
    "df.head()"
   ]
  },
  {
   "cell_type": "code",
   "execution_count": 13,
   "id": "b4bf5f13",
   "metadata": {},
   "outputs": [],
   "source": [
    "df.to_csv('Pokedex_Mich.csv')"
   ]
  }
 ],
 "metadata": {
  "kernelspec": {
   "display_name": "Python 3 (ipykernel)",
   "language": "python",
   "name": "python3"
  },
  "language_info": {
   "codemirror_mode": {
    "name": "ipython",
    "version": 3
   },
   "file_extension": ".py",
   "mimetype": "text/x-python",
   "name": "python",
   "nbconvert_exporter": "python",
   "pygments_lexer": "ipython3",
   "version": "3.9.7"
  }
 },
 "nbformat": 4,
 "nbformat_minor": 5
}
